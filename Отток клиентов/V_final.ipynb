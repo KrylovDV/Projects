{
 "cells": [
  {
   "cell_type": "markdown",
   "id": "e9bf8141",
   "metadata": {},
   "source": [
    "## Введение\n",
    "\n",
    "    Оператор связи хочет научиться прогнозировать отток клиентов. Если выяснится, что пользователь планирует уйти, ему будут предложены промокоды и специальные условия. Команда оператора собрала персональные данные о некоторых клиентах, информацию об их тарифах и договорах.\n",
    "    \n",
    "    "
   ]
  },
  {
   "cell_type": "code",
   "execution_count": 1,
   "id": "35577454",
   "metadata": {},
   "outputs": [],
   "source": [
    "# Импорты\n",
    "import pandas as pd\n",
    "import numpy as np\n",
    "import matplotlib.pyplot as plt\n",
    "import seaborn as sns\n",
    "import phik\n",
    "import datetime\n",
    "\n",
    "RANDOM_STATE = 50623\n",
    "\n",
    "\n",
    "from sklearn.model_selection import train_test_split\n",
    "from sklearn.linear_model import LogisticRegression, LinearRegression\n",
    "from sklearn.tree import DecisionTreeClassifier\n",
    "from sklearn.ensemble import RandomForestClassifier\n",
    "from catboost import CatBoostClassifier\n",
    "from sklearn.pipeline import Pipeline\n",
    "from sklearn.model_selection import RandomizedSearchCV, train_test_split\n",
    "from sklearn.model_selection import cross_val_score, GridSearchCV\n",
    "from sklearn.metrics import *\n",
    "from sklearn.utils import shuffle\n",
    "\n",
    "from sklearn.pipeline import Pipeline\n",
    "from sklearn.preprocessing import StandardScaler"
   ]
  },
  {
   "cell_type": "markdown",
   "id": "a0e72eea",
   "metadata": {},
   "source": [
    "### Предобработка данных"
   ]
  },
  {
   "cell_type": "markdown",
   "id": "4e70c838",
   "metadata": {},
   "source": [
    "#### 1 таблица"
   ]
  },
  {
   "cell_type": "code",
   "execution_count": 2,
   "id": "01515fdd",
   "metadata": {
    "scrolled": true
   },
   "outputs": [
    {
     "data": {
      "text/html": [
       "<div>\n",
       "<style scoped>\n",
       "    .dataframe tbody tr th:only-of-type {\n",
       "        vertical-align: middle;\n",
       "    }\n",
       "\n",
       "    .dataframe tbody tr th {\n",
       "        vertical-align: top;\n",
       "    }\n",
       "\n",
       "    .dataframe thead th {\n",
       "        text-align: right;\n",
       "    }\n",
       "</style>\n",
       "<table border=\"1\" class=\"dataframe\">\n",
       "  <thead>\n",
       "    <tr style=\"text-align: right;\">\n",
       "      <th></th>\n",
       "      <th>customerID</th>\n",
       "      <th>BeginDate</th>\n",
       "      <th>EndDate</th>\n",
       "      <th>Type</th>\n",
       "      <th>PaperlessBilling</th>\n",
       "      <th>PaymentMethod</th>\n",
       "      <th>MonthlyCharges</th>\n",
       "      <th>TotalCharges</th>\n",
       "    </tr>\n",
       "  </thead>\n",
       "  <tbody>\n",
       "    <tr>\n",
       "      <th>0</th>\n",
       "      <td>7590-VHVEG</td>\n",
       "      <td>2020-01-01</td>\n",
       "      <td>No</td>\n",
       "      <td>Month-to-month</td>\n",
       "      <td>Yes</td>\n",
       "      <td>Electronic check</td>\n",
       "      <td>29.85</td>\n",
       "      <td>31.04</td>\n",
       "    </tr>\n",
       "    <tr>\n",
       "      <th>1</th>\n",
       "      <td>5575-GNVDE</td>\n",
       "      <td>2017-04-01</td>\n",
       "      <td>No</td>\n",
       "      <td>One year</td>\n",
       "      <td>No</td>\n",
       "      <td>Mailed check</td>\n",
       "      <td>56.95</td>\n",
       "      <td>2071.84</td>\n",
       "    </tr>\n",
       "    <tr>\n",
       "      <th>2</th>\n",
       "      <td>3668-QPYBK</td>\n",
       "      <td>2019-10-01</td>\n",
       "      <td>No</td>\n",
       "      <td>Month-to-month</td>\n",
       "      <td>Yes</td>\n",
       "      <td>Mailed check</td>\n",
       "      <td>53.85</td>\n",
       "      <td>226.17</td>\n",
       "    </tr>\n",
       "    <tr>\n",
       "      <th>3</th>\n",
       "      <td>7795-CFOCW</td>\n",
       "      <td>2016-05-01</td>\n",
       "      <td>No</td>\n",
       "      <td>One year</td>\n",
       "      <td>No</td>\n",
       "      <td>Bank transfer (automatic)</td>\n",
       "      <td>42.30</td>\n",
       "      <td>1960.6</td>\n",
       "    </tr>\n",
       "    <tr>\n",
       "      <th>4</th>\n",
       "      <td>9237-HQITU</td>\n",
       "      <td>2019-09-01</td>\n",
       "      <td>No</td>\n",
       "      <td>Month-to-month</td>\n",
       "      <td>Yes</td>\n",
       "      <td>Electronic check</td>\n",
       "      <td>70.70</td>\n",
       "      <td>353.5</td>\n",
       "    </tr>\n",
       "  </tbody>\n",
       "</table>\n",
       "</div>"
      ],
      "text/plain": [
       "   customerID   BeginDate EndDate            Type PaperlessBilling  \\\n",
       "0  7590-VHVEG  2020-01-01      No  Month-to-month              Yes   \n",
       "1  5575-GNVDE  2017-04-01      No        One year               No   \n",
       "2  3668-QPYBK  2019-10-01      No  Month-to-month              Yes   \n",
       "3  7795-CFOCW  2016-05-01      No        One year               No   \n",
       "4  9237-HQITU  2019-09-01      No  Month-to-month              Yes   \n",
       "\n",
       "               PaymentMethod  MonthlyCharges TotalCharges  \n",
       "0           Electronic check           29.85        31.04  \n",
       "1               Mailed check           56.95      2071.84  \n",
       "2               Mailed check           53.85       226.17  \n",
       "3  Bank transfer (automatic)           42.30       1960.6  \n",
       "4           Electronic check           70.70        353.5  "
      ]
     },
     "execution_count": 2,
     "metadata": {},
     "output_type": "execute_result"
    }
   ],
   "source": [
    "# Рассмотри первую таблицу\n",
    "df_contract = pd.read_csv('contract_new.csv')\n",
    "df_contract.head()"
   ]
  },
  {
   "cell_type": "code",
   "execution_count": 3,
   "id": "32abea90",
   "metadata": {},
   "outputs": [],
   "source": [
    "df_contract['TotalCharges'] = pd.to_numeric(df_contract['TotalCharges'], errors='coerce')"
   ]
  },
  {
   "cell_type": "code",
   "execution_count": 4,
   "id": "b4fb98e1",
   "metadata": {},
   "outputs": [
    {
     "name": "stdout",
     "output_type": "stream",
     "text": [
      "<class 'pandas.core.frame.DataFrame'>\n",
      "RangeIndex: 7043 entries, 0 to 7042\n",
      "Data columns (total 8 columns):\n",
      " #   Column            Non-Null Count  Dtype  \n",
      "---  ------            --------------  -----  \n",
      " 0   customerID        7043 non-null   object \n",
      " 1   BeginDate         7043 non-null   object \n",
      " 2   EndDate           7043 non-null   object \n",
      " 3   Type              7043 non-null   object \n",
      " 4   PaperlessBilling  7043 non-null   object \n",
      " 5   PaymentMethod     7043 non-null   object \n",
      " 6   MonthlyCharges    7043 non-null   float64\n",
      " 7   TotalCharges      7032 non-null   float64\n",
      "dtypes: float64(2), object(6)\n",
      "memory usage: 440.3+ KB\n"
     ]
    }
   ],
   "source": [
    "# посмотрим инфу по таблице\n",
    "df_contract.info()"
   ]
  },
  {
   "cell_type": "code",
   "execution_count": 5,
   "id": "f0c261ff",
   "metadata": {
    "scrolled": true
   },
   "outputs": [
    {
     "data": {
      "text/plain": [
       "customerID           0\n",
       "BeginDate            0\n",
       "EndDate              0\n",
       "Type                 0\n",
       "PaperlessBilling     0\n",
       "PaymentMethod        0\n",
       "MonthlyCharges       0\n",
       "TotalCharges        11\n",
       "dtype: int64"
      ]
     },
     "execution_count": 5,
     "metadata": {},
     "output_type": "execute_result"
    }
   ],
   "source": [
    "# проверим на пропуски\n",
    "df_contract.isna().sum()"
   ]
  },
  {
   "cell_type": "code",
   "execution_count": 6,
   "id": "95a964fb",
   "metadata": {},
   "outputs": [],
   "source": [
    "df_contract = df_contract.dropna()"
   ]
  },
  {
   "cell_type": "code",
   "execution_count": 7,
   "id": "7931aa4a",
   "metadata": {},
   "outputs": [
    {
     "data": {
      "text/plain": [
       "customerID          0\n",
       "BeginDate           0\n",
       "EndDate             0\n",
       "Type                0\n",
       "PaperlessBilling    0\n",
       "PaymentMethod       0\n",
       "MonthlyCharges      0\n",
       "TotalCharges        0\n",
       "dtype: int64"
      ]
     },
     "execution_count": 7,
     "metadata": {},
     "output_type": "execute_result"
    }
   ],
   "source": [
    "# проверим на пропуски\n",
    "df_contract.isna().sum()"
   ]
  },
  {
   "cell_type": "code",
   "execution_count": 8,
   "id": "023c1258",
   "metadata": {},
   "outputs": [
    {
     "data": {
      "text/plain": [
       "0"
      ]
     },
     "execution_count": 8,
     "metadata": {},
     "output_type": "execute_result"
    }
   ],
   "source": [
    "# проверим на дубликаты\n",
    "df_contract.duplicated().sum()"
   ]
  },
  {
   "cell_type": "markdown",
   "id": "71d30c55",
   "metadata": {},
   "source": [
    "#### 2 таблица"
   ]
  },
  {
   "cell_type": "code",
   "execution_count": 9,
   "id": "09a37b72",
   "metadata": {},
   "outputs": [
    {
     "data": {
      "text/html": [
       "<div>\n",
       "<style scoped>\n",
       "    .dataframe tbody tr th:only-of-type {\n",
       "        vertical-align: middle;\n",
       "    }\n",
       "\n",
       "    .dataframe tbody tr th {\n",
       "        vertical-align: top;\n",
       "    }\n",
       "\n",
       "    .dataframe thead th {\n",
       "        text-align: right;\n",
       "    }\n",
       "</style>\n",
       "<table border=\"1\" class=\"dataframe\">\n",
       "  <thead>\n",
       "    <tr style=\"text-align: right;\">\n",
       "      <th></th>\n",
       "      <th>customerID</th>\n",
       "      <th>InternetService</th>\n",
       "      <th>OnlineSecurity</th>\n",
       "      <th>OnlineBackup</th>\n",
       "      <th>DeviceProtection</th>\n",
       "      <th>TechSupport</th>\n",
       "      <th>StreamingTV</th>\n",
       "      <th>StreamingMovies</th>\n",
       "    </tr>\n",
       "  </thead>\n",
       "  <tbody>\n",
       "    <tr>\n",
       "      <th>0</th>\n",
       "      <td>7590-VHVEG</td>\n",
       "      <td>DSL</td>\n",
       "      <td>No</td>\n",
       "      <td>Yes</td>\n",
       "      <td>No</td>\n",
       "      <td>No</td>\n",
       "      <td>No</td>\n",
       "      <td>No</td>\n",
       "    </tr>\n",
       "    <tr>\n",
       "      <th>1</th>\n",
       "      <td>5575-GNVDE</td>\n",
       "      <td>DSL</td>\n",
       "      <td>Yes</td>\n",
       "      <td>No</td>\n",
       "      <td>Yes</td>\n",
       "      <td>No</td>\n",
       "      <td>No</td>\n",
       "      <td>No</td>\n",
       "    </tr>\n",
       "    <tr>\n",
       "      <th>2</th>\n",
       "      <td>3668-QPYBK</td>\n",
       "      <td>DSL</td>\n",
       "      <td>Yes</td>\n",
       "      <td>Yes</td>\n",
       "      <td>No</td>\n",
       "      <td>No</td>\n",
       "      <td>No</td>\n",
       "      <td>No</td>\n",
       "    </tr>\n",
       "    <tr>\n",
       "      <th>3</th>\n",
       "      <td>7795-CFOCW</td>\n",
       "      <td>DSL</td>\n",
       "      <td>Yes</td>\n",
       "      <td>No</td>\n",
       "      <td>Yes</td>\n",
       "      <td>Yes</td>\n",
       "      <td>No</td>\n",
       "      <td>No</td>\n",
       "    </tr>\n",
       "    <tr>\n",
       "      <th>4</th>\n",
       "      <td>9237-HQITU</td>\n",
       "      <td>Fiber optic</td>\n",
       "      <td>No</td>\n",
       "      <td>No</td>\n",
       "      <td>No</td>\n",
       "      <td>No</td>\n",
       "      <td>No</td>\n",
       "      <td>No</td>\n",
       "    </tr>\n",
       "  </tbody>\n",
       "</table>\n",
       "</div>"
      ],
      "text/plain": [
       "   customerID InternetService OnlineSecurity OnlineBackup DeviceProtection  \\\n",
       "0  7590-VHVEG             DSL             No          Yes               No   \n",
       "1  5575-GNVDE             DSL            Yes           No              Yes   \n",
       "2  3668-QPYBK             DSL            Yes          Yes               No   \n",
       "3  7795-CFOCW             DSL            Yes           No              Yes   \n",
       "4  9237-HQITU     Fiber optic             No           No               No   \n",
       "\n",
       "  TechSupport StreamingTV StreamingMovies  \n",
       "0          No          No              No  \n",
       "1          No          No              No  \n",
       "2          No          No              No  \n",
       "3         Yes          No              No  \n",
       "4          No          No              No  "
      ]
     },
     "execution_count": 9,
     "metadata": {},
     "output_type": "execute_result"
    }
   ],
   "source": [
    "df_internet = pd.read_csv('internet_new.csv')\n",
    "df_internet. head()"
   ]
  },
  {
   "cell_type": "code",
   "execution_count": 10,
   "id": "cb52b193",
   "metadata": {},
   "outputs": [
    {
     "name": "stdout",
     "output_type": "stream",
     "text": [
      "<class 'pandas.core.frame.DataFrame'>\n",
      "RangeIndex: 5517 entries, 0 to 5516\n",
      "Data columns (total 8 columns):\n",
      " #   Column            Non-Null Count  Dtype \n",
      "---  ------            --------------  ----- \n",
      " 0   customerID        5517 non-null   object\n",
      " 1   InternetService   5517 non-null   object\n",
      " 2   OnlineSecurity    5517 non-null   object\n",
      " 3   OnlineBackup      5517 non-null   object\n",
      " 4   DeviceProtection  5517 non-null   object\n",
      " 5   TechSupport       5517 non-null   object\n",
      " 6   StreamingTV       5517 non-null   object\n",
      " 7   StreamingMovies   5517 non-null   object\n",
      "dtypes: object(8)\n",
      "memory usage: 344.9+ KB\n"
     ]
    }
   ],
   "source": [
    "# посмотрим инфу по таблице\n",
    "df_internet.info()"
   ]
  },
  {
   "cell_type": "code",
   "execution_count": 11,
   "id": "395d27ce",
   "metadata": {},
   "outputs": [
    {
     "data": {
      "text/plain": [
       "customerID          0\n",
       "InternetService     0\n",
       "OnlineSecurity      0\n",
       "OnlineBackup        0\n",
       "DeviceProtection    0\n",
       "TechSupport         0\n",
       "StreamingTV         0\n",
       "StreamingMovies     0\n",
       "dtype: int64"
      ]
     },
     "execution_count": 11,
     "metadata": {},
     "output_type": "execute_result"
    }
   ],
   "source": [
    "# проверим на пропуски\n",
    "df_internet.isna().sum()"
   ]
  },
  {
   "cell_type": "code",
   "execution_count": 12,
   "id": "5851c698",
   "metadata": {},
   "outputs": [
    {
     "data": {
      "text/plain": [
       "0"
      ]
     },
     "execution_count": 12,
     "metadata": {},
     "output_type": "execute_result"
    }
   ],
   "source": [
    "# проверим на дубликаты\n",
    "df_contract.duplicated().sum()"
   ]
  },
  {
   "cell_type": "markdown",
   "id": "1981de56",
   "metadata": {},
   "source": [
    "#### 3 таблица"
   ]
  },
  {
   "cell_type": "code",
   "execution_count": 13,
   "id": "d3a5a8d1",
   "metadata": {},
   "outputs": [
    {
     "data": {
      "text/html": [
       "<div>\n",
       "<style scoped>\n",
       "    .dataframe tbody tr th:only-of-type {\n",
       "        vertical-align: middle;\n",
       "    }\n",
       "\n",
       "    .dataframe tbody tr th {\n",
       "        vertical-align: top;\n",
       "    }\n",
       "\n",
       "    .dataframe thead th {\n",
       "        text-align: right;\n",
       "    }\n",
       "</style>\n",
       "<table border=\"1\" class=\"dataframe\">\n",
       "  <thead>\n",
       "    <tr style=\"text-align: right;\">\n",
       "      <th></th>\n",
       "      <th>customerID</th>\n",
       "      <th>gender</th>\n",
       "      <th>SeniorCitizen</th>\n",
       "      <th>Partner</th>\n",
       "      <th>Dependents</th>\n",
       "    </tr>\n",
       "  </thead>\n",
       "  <tbody>\n",
       "    <tr>\n",
       "      <th>0</th>\n",
       "      <td>7590-VHVEG</td>\n",
       "      <td>Female</td>\n",
       "      <td>0</td>\n",
       "      <td>Yes</td>\n",
       "      <td>No</td>\n",
       "    </tr>\n",
       "    <tr>\n",
       "      <th>1</th>\n",
       "      <td>5575-GNVDE</td>\n",
       "      <td>Male</td>\n",
       "      <td>0</td>\n",
       "      <td>No</td>\n",
       "      <td>No</td>\n",
       "    </tr>\n",
       "    <tr>\n",
       "      <th>2</th>\n",
       "      <td>3668-QPYBK</td>\n",
       "      <td>Male</td>\n",
       "      <td>0</td>\n",
       "      <td>No</td>\n",
       "      <td>No</td>\n",
       "    </tr>\n",
       "    <tr>\n",
       "      <th>3</th>\n",
       "      <td>7795-CFOCW</td>\n",
       "      <td>Male</td>\n",
       "      <td>0</td>\n",
       "      <td>No</td>\n",
       "      <td>No</td>\n",
       "    </tr>\n",
       "    <tr>\n",
       "      <th>4</th>\n",
       "      <td>9237-HQITU</td>\n",
       "      <td>Female</td>\n",
       "      <td>0</td>\n",
       "      <td>No</td>\n",
       "      <td>No</td>\n",
       "    </tr>\n",
       "  </tbody>\n",
       "</table>\n",
       "</div>"
      ],
      "text/plain": [
       "   customerID  gender  SeniorCitizen Partner Dependents\n",
       "0  7590-VHVEG  Female              0     Yes         No\n",
       "1  5575-GNVDE    Male              0      No         No\n",
       "2  3668-QPYBK    Male              0      No         No\n",
       "3  7795-CFOCW    Male              0      No         No\n",
       "4  9237-HQITU  Female              0      No         No"
      ]
     },
     "execution_count": 13,
     "metadata": {},
     "output_type": "execute_result"
    }
   ],
   "source": [
    "df_personal = pd.read_csv('personal_new.csv')\n",
    "df_personal. head()"
   ]
  },
  {
   "cell_type": "code",
   "execution_count": 14,
   "id": "c5af5459",
   "metadata": {},
   "outputs": [
    {
     "name": "stdout",
     "output_type": "stream",
     "text": [
      "<class 'pandas.core.frame.DataFrame'>\n",
      "RangeIndex: 7043 entries, 0 to 7042\n",
      "Data columns (total 5 columns):\n",
      " #   Column         Non-Null Count  Dtype \n",
      "---  ------         --------------  ----- \n",
      " 0   customerID     7043 non-null   object\n",
      " 1   gender         7043 non-null   object\n",
      " 2   SeniorCitizen  7043 non-null   int64 \n",
      " 3   Partner        7043 non-null   object\n",
      " 4   Dependents     7043 non-null   object\n",
      "dtypes: int64(1), object(4)\n",
      "memory usage: 275.2+ KB\n"
     ]
    }
   ],
   "source": [
    "# посмотрим инфу по таблице\n",
    "df_personal.info()"
   ]
  },
  {
   "cell_type": "code",
   "execution_count": 15,
   "id": "86145ad1",
   "metadata": {},
   "outputs": [
    {
     "data": {
      "text/plain": [
       "customerID       0\n",
       "gender           0\n",
       "SeniorCitizen    0\n",
       "Partner          0\n",
       "Dependents       0\n",
       "dtype: int64"
      ]
     },
     "execution_count": 15,
     "metadata": {},
     "output_type": "execute_result"
    }
   ],
   "source": [
    "# проверим на пропуски\n",
    "df_personal.isna().sum()"
   ]
  },
  {
   "cell_type": "code",
   "execution_count": 16,
   "id": "4136a71c",
   "metadata": {},
   "outputs": [
    {
     "data": {
      "text/plain": [
       "0"
      ]
     },
     "execution_count": 16,
     "metadata": {},
     "output_type": "execute_result"
    }
   ],
   "source": [
    "# проверим на дубликаты\n",
    "df_contract.duplicated().sum()"
   ]
  },
  {
   "cell_type": "markdown",
   "id": "586e6d57",
   "metadata": {},
   "source": [
    "#### 4 таблица"
   ]
  },
  {
   "cell_type": "code",
   "execution_count": 17,
   "id": "1ecc24f9",
   "metadata": {},
   "outputs": [
    {
     "data": {
      "text/html": [
       "<div>\n",
       "<style scoped>\n",
       "    .dataframe tbody tr th:only-of-type {\n",
       "        vertical-align: middle;\n",
       "    }\n",
       "\n",
       "    .dataframe tbody tr th {\n",
       "        vertical-align: top;\n",
       "    }\n",
       "\n",
       "    .dataframe thead th {\n",
       "        text-align: right;\n",
       "    }\n",
       "</style>\n",
       "<table border=\"1\" class=\"dataframe\">\n",
       "  <thead>\n",
       "    <tr style=\"text-align: right;\">\n",
       "      <th></th>\n",
       "      <th>customerID</th>\n",
       "      <th>MultipleLines</th>\n",
       "    </tr>\n",
       "  </thead>\n",
       "  <tbody>\n",
       "    <tr>\n",
       "      <th>0</th>\n",
       "      <td>5575-GNVDE</td>\n",
       "      <td>No</td>\n",
       "    </tr>\n",
       "    <tr>\n",
       "      <th>1</th>\n",
       "      <td>3668-QPYBK</td>\n",
       "      <td>No</td>\n",
       "    </tr>\n",
       "    <tr>\n",
       "      <th>2</th>\n",
       "      <td>9237-HQITU</td>\n",
       "      <td>No</td>\n",
       "    </tr>\n",
       "    <tr>\n",
       "      <th>3</th>\n",
       "      <td>9305-CDSKC</td>\n",
       "      <td>Yes</td>\n",
       "    </tr>\n",
       "    <tr>\n",
       "      <th>4</th>\n",
       "      <td>1452-KIOVK</td>\n",
       "      <td>Yes</td>\n",
       "    </tr>\n",
       "  </tbody>\n",
       "</table>\n",
       "</div>"
      ],
      "text/plain": [
       "   customerID MultipleLines\n",
       "0  5575-GNVDE            No\n",
       "1  3668-QPYBK            No\n",
       "2  9237-HQITU            No\n",
       "3  9305-CDSKC           Yes\n",
       "4  1452-KIOVK           Yes"
      ]
     },
     "execution_count": 17,
     "metadata": {},
     "output_type": "execute_result"
    }
   ],
   "source": [
    "df_phone = pd.read_csv('phone_new.csv')\n",
    "df_phone.head()"
   ]
  },
  {
   "cell_type": "code",
   "execution_count": 18,
   "id": "f8c121e5",
   "metadata": {},
   "outputs": [
    {
     "name": "stdout",
     "output_type": "stream",
     "text": [
      "<class 'pandas.core.frame.DataFrame'>\n",
      "RangeIndex: 6361 entries, 0 to 6360\n",
      "Data columns (total 2 columns):\n",
      " #   Column         Non-Null Count  Dtype \n",
      "---  ------         --------------  ----- \n",
      " 0   customerID     6361 non-null   object\n",
      " 1   MultipleLines  6361 non-null   object\n",
      "dtypes: object(2)\n",
      "memory usage: 99.5+ KB\n"
     ]
    }
   ],
   "source": [
    "df_phone.info()"
   ]
  },
  {
   "cell_type": "code",
   "execution_count": 19,
   "id": "69553ff5",
   "metadata": {},
   "outputs": [
    {
     "data": {
      "text/plain": [
       "customerID       0\n",
       "MultipleLines    0\n",
       "dtype: int64"
      ]
     },
     "execution_count": 19,
     "metadata": {},
     "output_type": "execute_result"
    }
   ],
   "source": [
    "# проверим на пропуски\n",
    "df_phone.isna().sum()"
   ]
  },
  {
   "cell_type": "code",
   "execution_count": 20,
   "id": "033296d2",
   "metadata": {},
   "outputs": [
    {
     "data": {
      "text/plain": [
       "0"
      ]
     },
     "execution_count": 20,
     "metadata": {},
     "output_type": "execute_result"
    }
   ],
   "source": [
    "# проверим на дубликаты\n",
    "df_phone.duplicated().sum()"
   ]
  },
  {
   "cell_type": "markdown",
   "id": "efc26832",
   "metadata": {},
   "source": [
    "### Предварительные выводы:\n",
    "\n",
    "1. нам на вход поступает 4 таблицы, у которых есть один общий столбец - 'customerID'\n",
    "2. пропусков и явных дубликатов в данных нет\n",
    "3. важно отметить, что у таблиц разное количество строк. Это означает, что при объединениии мы бeдем объединять сначала те, у которх строк больше.\n",
    "4. у признаков неудобный для работы тип данных, мы это пока просто учтем и вернемся к этому вопросу позже."
   ]
  },
  {
   "cell_type": "markdown",
   "id": "a1cfcfcb",
   "metadata": {},
   "source": [
    "#### Oбъединение таблиц"
   ]
  },
  {
   "cell_type": "code",
   "execution_count": 21,
   "id": "53b54faa",
   "metadata": {},
   "outputs": [
    {
     "data": {
      "text/html": [
       "<div>\n",
       "<style scoped>\n",
       "    .dataframe tbody tr th:only-of-type {\n",
       "        vertical-align: middle;\n",
       "    }\n",
       "\n",
       "    .dataframe tbody tr th {\n",
       "        vertical-align: top;\n",
       "    }\n",
       "\n",
       "    .dataframe thead th {\n",
       "        text-align: right;\n",
       "    }\n",
       "</style>\n",
       "<table border=\"1\" class=\"dataframe\">\n",
       "  <thead>\n",
       "    <tr style=\"text-align: right;\">\n",
       "      <th></th>\n",
       "      <th>customerID</th>\n",
       "      <th>BeginDate</th>\n",
       "      <th>EndDate</th>\n",
       "      <th>Type</th>\n",
       "      <th>PaperlessBilling</th>\n",
       "      <th>PaymentMethod</th>\n",
       "      <th>MonthlyCharges</th>\n",
       "      <th>TotalCharges</th>\n",
       "      <th>gender</th>\n",
       "      <th>SeniorCitizen</th>\n",
       "      <th>Partner</th>\n",
       "      <th>Dependents</th>\n",
       "    </tr>\n",
       "  </thead>\n",
       "  <tbody>\n",
       "    <tr>\n",
       "      <th>0</th>\n",
       "      <td>7590-VHVEG</td>\n",
       "      <td>2020-01-01</td>\n",
       "      <td>No</td>\n",
       "      <td>Month-to-month</td>\n",
       "      <td>Yes</td>\n",
       "      <td>Electronic check</td>\n",
       "      <td>29.85</td>\n",
       "      <td>31.04</td>\n",
       "      <td>Female</td>\n",
       "      <td>0</td>\n",
       "      <td>Yes</td>\n",
       "      <td>No</td>\n",
       "    </tr>\n",
       "    <tr>\n",
       "      <th>1</th>\n",
       "      <td>5575-GNVDE</td>\n",
       "      <td>2017-04-01</td>\n",
       "      <td>No</td>\n",
       "      <td>One year</td>\n",
       "      <td>No</td>\n",
       "      <td>Mailed check</td>\n",
       "      <td>56.95</td>\n",
       "      <td>2071.84</td>\n",
       "      <td>Male</td>\n",
       "      <td>0</td>\n",
       "      <td>No</td>\n",
       "      <td>No</td>\n",
       "    </tr>\n",
       "    <tr>\n",
       "      <th>2</th>\n",
       "      <td>3668-QPYBK</td>\n",
       "      <td>2019-10-01</td>\n",
       "      <td>No</td>\n",
       "      <td>Month-to-month</td>\n",
       "      <td>Yes</td>\n",
       "      <td>Mailed check</td>\n",
       "      <td>53.85</td>\n",
       "      <td>226.17</td>\n",
       "      <td>Male</td>\n",
       "      <td>0</td>\n",
       "      <td>No</td>\n",
       "      <td>No</td>\n",
       "    </tr>\n",
       "    <tr>\n",
       "      <th>3</th>\n",
       "      <td>7795-CFOCW</td>\n",
       "      <td>2016-05-01</td>\n",
       "      <td>No</td>\n",
       "      <td>One year</td>\n",
       "      <td>No</td>\n",
       "      <td>Bank transfer (automatic)</td>\n",
       "      <td>42.30</td>\n",
       "      <td>1960.60</td>\n",
       "      <td>Male</td>\n",
       "      <td>0</td>\n",
       "      <td>No</td>\n",
       "      <td>No</td>\n",
       "    </tr>\n",
       "    <tr>\n",
       "      <th>4</th>\n",
       "      <td>9237-HQITU</td>\n",
       "      <td>2019-09-01</td>\n",
       "      <td>No</td>\n",
       "      <td>Month-to-month</td>\n",
       "      <td>Yes</td>\n",
       "      <td>Electronic check</td>\n",
       "      <td>70.70</td>\n",
       "      <td>353.50</td>\n",
       "      <td>Female</td>\n",
       "      <td>0</td>\n",
       "      <td>No</td>\n",
       "      <td>No</td>\n",
       "    </tr>\n",
       "  </tbody>\n",
       "</table>\n",
       "</div>"
      ],
      "text/plain": [
       "   customerID   BeginDate EndDate            Type PaperlessBilling  \\\n",
       "0  7590-VHVEG  2020-01-01      No  Month-to-month              Yes   \n",
       "1  5575-GNVDE  2017-04-01      No        One year               No   \n",
       "2  3668-QPYBK  2019-10-01      No  Month-to-month              Yes   \n",
       "3  7795-CFOCW  2016-05-01      No        One year               No   \n",
       "4  9237-HQITU  2019-09-01      No  Month-to-month              Yes   \n",
       "\n",
       "               PaymentMethod  MonthlyCharges  TotalCharges  gender  \\\n",
       "0           Electronic check           29.85         31.04  Female   \n",
       "1               Mailed check           56.95       2071.84    Male   \n",
       "2               Mailed check           53.85        226.17    Male   \n",
       "3  Bank transfer (automatic)           42.30       1960.60    Male   \n",
       "4           Electronic check           70.70        353.50  Female   \n",
       "\n",
       "   SeniorCitizen Partner Dependents  \n",
       "0              0     Yes         No  \n",
       "1              0      No         No  \n",
       "2              0      No         No  \n",
       "3              0      No         No  \n",
       "4              0      No         No  "
      ]
     },
     "execution_count": 21,
     "metadata": {},
     "output_type": "execute_result"
    }
   ],
   "source": [
    "# Сначала объединим df_contract и df_personal. Форма итоговой таблицы должна быть: 7043 Х 12\n",
    "df_2 = df_contract.merge(df_personal, on = 'customerID')\n",
    "df_2.head()"
   ]
  },
  {
   "cell_type": "code",
   "execution_count": 22,
   "id": "848eaca1",
   "metadata": {},
   "outputs": [
    {
     "data": {
      "text/plain": [
       "(7032, 12)"
      ]
     },
     "execution_count": 22,
     "metadata": {},
     "output_type": "execute_result"
    }
   ],
   "source": [
    "df_2.shape"
   ]
  },
  {
   "cell_type": "code",
   "execution_count": 23,
   "id": "03c62ced",
   "metadata": {},
   "outputs": [
    {
     "data": {
      "text/html": [
       "<div>\n",
       "<style scoped>\n",
       "    .dataframe tbody tr th:only-of-type {\n",
       "        vertical-align: middle;\n",
       "    }\n",
       "\n",
       "    .dataframe tbody tr th {\n",
       "        vertical-align: top;\n",
       "    }\n",
       "\n",
       "    .dataframe thead th {\n",
       "        text-align: right;\n",
       "    }\n",
       "</style>\n",
       "<table border=\"1\" class=\"dataframe\">\n",
       "  <thead>\n",
       "    <tr style=\"text-align: right;\">\n",
       "      <th></th>\n",
       "      <th>customerID</th>\n",
       "      <th>BeginDate</th>\n",
       "      <th>EndDate</th>\n",
       "      <th>Type</th>\n",
       "      <th>PaperlessBilling</th>\n",
       "      <th>PaymentMethod</th>\n",
       "      <th>MonthlyCharges</th>\n",
       "      <th>TotalCharges</th>\n",
       "      <th>gender</th>\n",
       "      <th>SeniorCitizen</th>\n",
       "      <th>Partner</th>\n",
       "      <th>Dependents</th>\n",
       "      <th>MultipleLines</th>\n",
       "    </tr>\n",
       "  </thead>\n",
       "  <tbody>\n",
       "    <tr>\n",
       "      <th>0</th>\n",
       "      <td>7590-VHVEG</td>\n",
       "      <td>2020-01-01</td>\n",
       "      <td>No</td>\n",
       "      <td>Month-to-month</td>\n",
       "      <td>Yes</td>\n",
       "      <td>Electronic check</td>\n",
       "      <td>29.85</td>\n",
       "      <td>31.04</td>\n",
       "      <td>Female</td>\n",
       "      <td>0</td>\n",
       "      <td>Yes</td>\n",
       "      <td>No</td>\n",
       "      <td>NaN</td>\n",
       "    </tr>\n",
       "    <tr>\n",
       "      <th>1</th>\n",
       "      <td>5575-GNVDE</td>\n",
       "      <td>2017-04-01</td>\n",
       "      <td>No</td>\n",
       "      <td>One year</td>\n",
       "      <td>No</td>\n",
       "      <td>Mailed check</td>\n",
       "      <td>56.95</td>\n",
       "      <td>2071.84</td>\n",
       "      <td>Male</td>\n",
       "      <td>0</td>\n",
       "      <td>No</td>\n",
       "      <td>No</td>\n",
       "      <td>No</td>\n",
       "    </tr>\n",
       "    <tr>\n",
       "      <th>2</th>\n",
       "      <td>3668-QPYBK</td>\n",
       "      <td>2019-10-01</td>\n",
       "      <td>No</td>\n",
       "      <td>Month-to-month</td>\n",
       "      <td>Yes</td>\n",
       "      <td>Mailed check</td>\n",
       "      <td>53.85</td>\n",
       "      <td>226.17</td>\n",
       "      <td>Male</td>\n",
       "      <td>0</td>\n",
       "      <td>No</td>\n",
       "      <td>No</td>\n",
       "      <td>No</td>\n",
       "    </tr>\n",
       "    <tr>\n",
       "      <th>3</th>\n",
       "      <td>7795-CFOCW</td>\n",
       "      <td>2016-05-01</td>\n",
       "      <td>No</td>\n",
       "      <td>One year</td>\n",
       "      <td>No</td>\n",
       "      <td>Bank transfer (automatic)</td>\n",
       "      <td>42.30</td>\n",
       "      <td>1960.60</td>\n",
       "      <td>Male</td>\n",
       "      <td>0</td>\n",
       "      <td>No</td>\n",
       "      <td>No</td>\n",
       "      <td>NaN</td>\n",
       "    </tr>\n",
       "    <tr>\n",
       "      <th>4</th>\n",
       "      <td>9237-HQITU</td>\n",
       "      <td>2019-09-01</td>\n",
       "      <td>No</td>\n",
       "      <td>Month-to-month</td>\n",
       "      <td>Yes</td>\n",
       "      <td>Electronic check</td>\n",
       "      <td>70.70</td>\n",
       "      <td>353.50</td>\n",
       "      <td>Female</td>\n",
       "      <td>0</td>\n",
       "      <td>No</td>\n",
       "      <td>No</td>\n",
       "      <td>No</td>\n",
       "    </tr>\n",
       "  </tbody>\n",
       "</table>\n",
       "</div>"
      ],
      "text/plain": [
       "   customerID   BeginDate EndDate            Type PaperlessBilling  \\\n",
       "0  7590-VHVEG  2020-01-01      No  Month-to-month              Yes   \n",
       "1  5575-GNVDE  2017-04-01      No        One year               No   \n",
       "2  3668-QPYBK  2019-10-01      No  Month-to-month              Yes   \n",
       "3  7795-CFOCW  2016-05-01      No        One year               No   \n",
       "4  9237-HQITU  2019-09-01      No  Month-to-month              Yes   \n",
       "\n",
       "               PaymentMethod  MonthlyCharges  TotalCharges  gender  \\\n",
       "0           Electronic check           29.85         31.04  Female   \n",
       "1               Mailed check           56.95       2071.84    Male   \n",
       "2               Mailed check           53.85        226.17    Male   \n",
       "3  Bank transfer (automatic)           42.30       1960.60    Male   \n",
       "4           Electronic check           70.70        353.50  Female   \n",
       "\n",
       "   SeniorCitizen Partner Dependents MultipleLines  \n",
       "0              0     Yes         No           NaN  \n",
       "1              0      No         No            No  \n",
       "2              0      No         No            No  \n",
       "3              0      No         No           NaN  \n",
       "4              0      No         No            No  "
      ]
     },
     "execution_count": 23,
     "metadata": {},
     "output_type": "execute_result"
    }
   ],
   "source": [
    "# Далее присоединяем df_phone. Форма получившейся таблицы должна быть 6361 Х 13\n",
    "df_3 = df_2.merge(df_phone, on = 'customerID', how = 'left')\n",
    "df_3.head()"
   ]
  },
  {
   "cell_type": "code",
   "execution_count": 24,
   "id": "0d7b4851",
   "metadata": {},
   "outputs": [
    {
     "data": {
      "text/plain": [
       "(7032, 13)"
      ]
     },
     "execution_count": 24,
     "metadata": {},
     "output_type": "execute_result"
    }
   ],
   "source": [
    "df_3.shape"
   ]
  },
  {
   "cell_type": "code",
   "execution_count": 25,
   "id": "8670a932",
   "metadata": {},
   "outputs": [
    {
     "data": {
      "text/html": [
       "<div>\n",
       "<style scoped>\n",
       "    .dataframe tbody tr th:only-of-type {\n",
       "        vertical-align: middle;\n",
       "    }\n",
       "\n",
       "    .dataframe tbody tr th {\n",
       "        vertical-align: top;\n",
       "    }\n",
       "\n",
       "    .dataframe thead th {\n",
       "        text-align: right;\n",
       "    }\n",
       "</style>\n",
       "<table border=\"1\" class=\"dataframe\">\n",
       "  <thead>\n",
       "    <tr style=\"text-align: right;\">\n",
       "      <th></th>\n",
       "      <th>customerID</th>\n",
       "      <th>BeginDate</th>\n",
       "      <th>EndDate</th>\n",
       "      <th>Type</th>\n",
       "      <th>PaperlessBilling</th>\n",
       "      <th>PaymentMethod</th>\n",
       "      <th>MonthlyCharges</th>\n",
       "      <th>TotalCharges</th>\n",
       "      <th>gender</th>\n",
       "      <th>SeniorCitizen</th>\n",
       "      <th>Partner</th>\n",
       "      <th>Dependents</th>\n",
       "      <th>MultipleLines</th>\n",
       "      <th>InternetService</th>\n",
       "      <th>OnlineSecurity</th>\n",
       "      <th>OnlineBackup</th>\n",
       "      <th>DeviceProtection</th>\n",
       "      <th>TechSupport</th>\n",
       "      <th>StreamingTV</th>\n",
       "      <th>StreamingMovies</th>\n",
       "    </tr>\n",
       "  </thead>\n",
       "  <tbody>\n",
       "    <tr>\n",
       "      <th>0</th>\n",
       "      <td>7590-VHVEG</td>\n",
       "      <td>2020-01-01</td>\n",
       "      <td>No</td>\n",
       "      <td>Month-to-month</td>\n",
       "      <td>Yes</td>\n",
       "      <td>Electronic check</td>\n",
       "      <td>29.85</td>\n",
       "      <td>31.04</td>\n",
       "      <td>Female</td>\n",
       "      <td>0</td>\n",
       "      <td>Yes</td>\n",
       "      <td>No</td>\n",
       "      <td>NaN</td>\n",
       "      <td>DSL</td>\n",
       "      <td>No</td>\n",
       "      <td>Yes</td>\n",
       "      <td>No</td>\n",
       "      <td>No</td>\n",
       "      <td>No</td>\n",
       "      <td>No</td>\n",
       "    </tr>\n",
       "    <tr>\n",
       "      <th>1</th>\n",
       "      <td>5575-GNVDE</td>\n",
       "      <td>2017-04-01</td>\n",
       "      <td>No</td>\n",
       "      <td>One year</td>\n",
       "      <td>No</td>\n",
       "      <td>Mailed check</td>\n",
       "      <td>56.95</td>\n",
       "      <td>2071.84</td>\n",
       "      <td>Male</td>\n",
       "      <td>0</td>\n",
       "      <td>No</td>\n",
       "      <td>No</td>\n",
       "      <td>No</td>\n",
       "      <td>DSL</td>\n",
       "      <td>Yes</td>\n",
       "      <td>No</td>\n",
       "      <td>Yes</td>\n",
       "      <td>No</td>\n",
       "      <td>No</td>\n",
       "      <td>No</td>\n",
       "    </tr>\n",
       "    <tr>\n",
       "      <th>2</th>\n",
       "      <td>3668-QPYBK</td>\n",
       "      <td>2019-10-01</td>\n",
       "      <td>No</td>\n",
       "      <td>Month-to-month</td>\n",
       "      <td>Yes</td>\n",
       "      <td>Mailed check</td>\n",
       "      <td>53.85</td>\n",
       "      <td>226.17</td>\n",
       "      <td>Male</td>\n",
       "      <td>0</td>\n",
       "      <td>No</td>\n",
       "      <td>No</td>\n",
       "      <td>No</td>\n",
       "      <td>DSL</td>\n",
       "      <td>Yes</td>\n",
       "      <td>Yes</td>\n",
       "      <td>No</td>\n",
       "      <td>No</td>\n",
       "      <td>No</td>\n",
       "      <td>No</td>\n",
       "    </tr>\n",
       "    <tr>\n",
       "      <th>3</th>\n",
       "      <td>7795-CFOCW</td>\n",
       "      <td>2016-05-01</td>\n",
       "      <td>No</td>\n",
       "      <td>One year</td>\n",
       "      <td>No</td>\n",
       "      <td>Bank transfer (automatic)</td>\n",
       "      <td>42.30</td>\n",
       "      <td>1960.60</td>\n",
       "      <td>Male</td>\n",
       "      <td>0</td>\n",
       "      <td>No</td>\n",
       "      <td>No</td>\n",
       "      <td>NaN</td>\n",
       "      <td>DSL</td>\n",
       "      <td>Yes</td>\n",
       "      <td>No</td>\n",
       "      <td>Yes</td>\n",
       "      <td>Yes</td>\n",
       "      <td>No</td>\n",
       "      <td>No</td>\n",
       "    </tr>\n",
       "    <tr>\n",
       "      <th>4</th>\n",
       "      <td>9237-HQITU</td>\n",
       "      <td>2019-09-01</td>\n",
       "      <td>No</td>\n",
       "      <td>Month-to-month</td>\n",
       "      <td>Yes</td>\n",
       "      <td>Electronic check</td>\n",
       "      <td>70.70</td>\n",
       "      <td>353.50</td>\n",
       "      <td>Female</td>\n",
       "      <td>0</td>\n",
       "      <td>No</td>\n",
       "      <td>No</td>\n",
       "      <td>No</td>\n",
       "      <td>Fiber optic</td>\n",
       "      <td>No</td>\n",
       "      <td>No</td>\n",
       "      <td>No</td>\n",
       "      <td>No</td>\n",
       "      <td>No</td>\n",
       "      <td>No</td>\n",
       "    </tr>\n",
       "  </tbody>\n",
       "</table>\n",
       "</div>"
      ],
      "text/plain": [
       "   customerID   BeginDate EndDate            Type PaperlessBilling  \\\n",
       "0  7590-VHVEG  2020-01-01      No  Month-to-month              Yes   \n",
       "1  5575-GNVDE  2017-04-01      No        One year               No   \n",
       "2  3668-QPYBK  2019-10-01      No  Month-to-month              Yes   \n",
       "3  7795-CFOCW  2016-05-01      No        One year               No   \n",
       "4  9237-HQITU  2019-09-01      No  Month-to-month              Yes   \n",
       "\n",
       "               PaymentMethod  MonthlyCharges  TotalCharges  gender  \\\n",
       "0           Electronic check           29.85         31.04  Female   \n",
       "1               Mailed check           56.95       2071.84    Male   \n",
       "2               Mailed check           53.85        226.17    Male   \n",
       "3  Bank transfer (automatic)           42.30       1960.60    Male   \n",
       "4           Electronic check           70.70        353.50  Female   \n",
       "\n",
       "   SeniorCitizen Partner Dependents MultipleLines InternetService  \\\n",
       "0              0     Yes         No           NaN             DSL   \n",
       "1              0      No         No            No             DSL   \n",
       "2              0      No         No            No             DSL   \n",
       "3              0      No         No           NaN             DSL   \n",
       "4              0      No         No            No     Fiber optic   \n",
       "\n",
       "  OnlineSecurity OnlineBackup DeviceProtection TechSupport StreamingTV  \\\n",
       "0             No          Yes               No          No          No   \n",
       "1            Yes           No              Yes          No          No   \n",
       "2            Yes          Yes               No          No          No   \n",
       "3            Yes           No              Yes         Yes          No   \n",
       "4             No           No               No          No          No   \n",
       "\n",
       "  StreamingMovies  \n",
       "0              No  \n",
       "1              No  \n",
       "2              No  \n",
       "3              No  \n",
       "4              No  "
      ]
     },
     "execution_count": 25,
     "metadata": {},
     "output_type": "execute_result"
    }
   ],
   "source": [
    "# Далее присоединяем df_internet. Форма получившейся таблицы должна быть 5517 Х 20\n",
    "df = df_3.merge(df_internet, on = 'customerID', how= 'left')\n",
    "df.head()"
   ]
  },
  {
   "cell_type": "code",
   "execution_count": 26,
   "id": "fc1f78b9",
   "metadata": {},
   "outputs": [
    {
     "data": {
      "text/plain": [
       "(7032, 20)"
      ]
     },
     "execution_count": 26,
     "metadata": {},
     "output_type": "execute_result"
    }
   ],
   "source": [
    "df.shape"
   ]
  },
  {
   "cell_type": "code",
   "execution_count": 27,
   "id": "43d35d37",
   "metadata": {},
   "outputs": [
    {
     "data": {
      "text/plain": [
       "customerID             0\n",
       "BeginDate              0\n",
       "EndDate                0\n",
       "Type                   0\n",
       "PaperlessBilling       0\n",
       "PaymentMethod          0\n",
       "MonthlyCharges         0\n",
       "TotalCharges           0\n",
       "gender                 0\n",
       "SeniorCitizen          0\n",
       "Partner                0\n",
       "Dependents             0\n",
       "MultipleLines        680\n",
       "InternetService     1520\n",
       "OnlineSecurity      1520\n",
       "OnlineBackup        1520\n",
       "DeviceProtection    1520\n",
       "TechSupport         1520\n",
       "StreamingTV         1520\n",
       "StreamingMovies     1520\n",
       "dtype: int64"
      ]
     },
     "execution_count": 27,
     "metadata": {},
     "output_type": "execute_result"
    }
   ],
   "source": [
    "#### После объединения посмотрим на пропуски\n",
    "df.isna().sum()"
   ]
  },
  {
   "cell_type": "code",
   "execution_count": 28,
   "id": "ca43dd3f",
   "metadata": {},
   "outputs": [
    {
     "data": {
      "text/plain": [
       "customerID          0\n",
       "BeginDate           0\n",
       "EndDate             0\n",
       "Type                0\n",
       "PaperlessBilling    0\n",
       "PaymentMethod       0\n",
       "MonthlyCharges      0\n",
       "TotalCharges        0\n",
       "gender              0\n",
       "SeniorCitizen       0\n",
       "Partner             0\n",
       "Dependents          0\n",
       "MultipleLines       0\n",
       "InternetService     0\n",
       "OnlineSecurity      0\n",
       "OnlineBackup        0\n",
       "DeviceProtection    0\n",
       "TechSupport         0\n",
       "StreamingTV         0\n",
       "StreamingMovies     0\n",
       "dtype: int64"
      ]
     },
     "execution_count": 28,
     "metadata": {},
     "output_type": "execute_result"
    }
   ],
   "source": [
    "# Мы видим, что количество пропусков объясняеся разницей в размерах таблиц. Заполним их заглушкой \"no_info\"\n",
    "df = df.fillna('no_info')\n",
    "df.isna().sum()"
   ]
  },
  {
   "cell_type": "code",
   "execution_count": 29,
   "id": "e5ff15bc",
   "metadata": {},
   "outputs": [],
   "source": [
    "# приведем названия столбцов к нижнему регистру\n",
    "df.columns = df.columns.str.lower()"
   ]
  },
  {
   "cell_type": "markdown",
   "id": "03ae4921",
   "metadata": {},
   "source": [
    "##### Напрашивается создать еще один столбец - время пользования услугой"
   ]
  },
  {
   "cell_type": "code",
   "execution_count": 30,
   "id": "5f1cd68e",
   "metadata": {
    "scrolled": true
   },
   "outputs": [],
   "source": [
    "# 1 шаг - скопируем и добавим столбец endate\n",
    "df['enddate_2'] = df['enddate']\n",
    "\n"
   ]
  },
  {
   "cell_type": "code",
   "execution_count": 31,
   "id": "377fc0ae",
   "metadata": {},
   "outputs": [],
   "source": [
    "# 2 шаг - значеения NO заменим на сегодняшнюю дату\n",
    "df.loc[df['enddate_2']== 'No', 'enddate_2'] = '2020-02-01'\n",
    "\n"
   ]
  },
  {
   "cell_type": "code",
   "execution_count": 32,
   "id": "fc47bce8",
   "metadata": {},
   "outputs": [],
   "source": [
    "# 3 -приведем интересующие столбцы в формат datetime\n",
    "df['begindate'] = pd.to_datetime(df['begindate'])\n",
    "df['enddate_2'] = pd.to_datetime(df['enddate_2'])"
   ]
  },
  {
   "cell_type": "code",
   "execution_count": 33,
   "id": "0fd7cf68",
   "metadata": {},
   "outputs": [
    {
     "data": {
      "text/html": [
       "<div>\n",
       "<style scoped>\n",
       "    .dataframe tbody tr th:only-of-type {\n",
       "        vertical-align: middle;\n",
       "    }\n",
       "\n",
       "    .dataframe tbody tr th {\n",
       "        vertical-align: top;\n",
       "    }\n",
       "\n",
       "    .dataframe thead th {\n",
       "        text-align: right;\n",
       "    }\n",
       "</style>\n",
       "<table border=\"1\" class=\"dataframe\">\n",
       "  <thead>\n",
       "    <tr style=\"text-align: right;\">\n",
       "      <th></th>\n",
       "      <th>customerid</th>\n",
       "      <th>begindate</th>\n",
       "      <th>enddate</th>\n",
       "      <th>type</th>\n",
       "      <th>paperlessbilling</th>\n",
       "      <th>paymentmethod</th>\n",
       "      <th>monthlycharges</th>\n",
       "      <th>totalcharges</th>\n",
       "      <th>gender</th>\n",
       "      <th>seniorcitizen</th>\n",
       "      <th>...</th>\n",
       "      <th>dependents</th>\n",
       "      <th>multiplelines</th>\n",
       "      <th>internetservice</th>\n",
       "      <th>onlinesecurity</th>\n",
       "      <th>onlinebackup</th>\n",
       "      <th>deviceprotection</th>\n",
       "      <th>techsupport</th>\n",
       "      <th>streamingtv</th>\n",
       "      <th>streamingmovies</th>\n",
       "      <th>enddate_2</th>\n",
       "    </tr>\n",
       "  </thead>\n",
       "  <tbody>\n",
       "    <tr>\n",
       "      <th>0</th>\n",
       "      <td>7590-VHVEG</td>\n",
       "      <td>2020-01-01</td>\n",
       "      <td>No</td>\n",
       "      <td>Month-to-month</td>\n",
       "      <td>Yes</td>\n",
       "      <td>Electronic check</td>\n",
       "      <td>29.85</td>\n",
       "      <td>31.04</td>\n",
       "      <td>Female</td>\n",
       "      <td>0</td>\n",
       "      <td>...</td>\n",
       "      <td>No</td>\n",
       "      <td>no_info</td>\n",
       "      <td>DSL</td>\n",
       "      <td>No</td>\n",
       "      <td>Yes</td>\n",
       "      <td>No</td>\n",
       "      <td>No</td>\n",
       "      <td>No</td>\n",
       "      <td>No</td>\n",
       "      <td>2020-02-01</td>\n",
       "    </tr>\n",
       "    <tr>\n",
       "      <th>1</th>\n",
       "      <td>5575-GNVDE</td>\n",
       "      <td>2017-04-01</td>\n",
       "      <td>No</td>\n",
       "      <td>One year</td>\n",
       "      <td>No</td>\n",
       "      <td>Mailed check</td>\n",
       "      <td>56.95</td>\n",
       "      <td>2071.84</td>\n",
       "      <td>Male</td>\n",
       "      <td>0</td>\n",
       "      <td>...</td>\n",
       "      <td>No</td>\n",
       "      <td>No</td>\n",
       "      <td>DSL</td>\n",
       "      <td>Yes</td>\n",
       "      <td>No</td>\n",
       "      <td>Yes</td>\n",
       "      <td>No</td>\n",
       "      <td>No</td>\n",
       "      <td>No</td>\n",
       "      <td>2020-02-01</td>\n",
       "    </tr>\n",
       "    <tr>\n",
       "      <th>2</th>\n",
       "      <td>3668-QPYBK</td>\n",
       "      <td>2019-10-01</td>\n",
       "      <td>No</td>\n",
       "      <td>Month-to-month</td>\n",
       "      <td>Yes</td>\n",
       "      <td>Mailed check</td>\n",
       "      <td>53.85</td>\n",
       "      <td>226.17</td>\n",
       "      <td>Male</td>\n",
       "      <td>0</td>\n",
       "      <td>...</td>\n",
       "      <td>No</td>\n",
       "      <td>No</td>\n",
       "      <td>DSL</td>\n",
       "      <td>Yes</td>\n",
       "      <td>Yes</td>\n",
       "      <td>No</td>\n",
       "      <td>No</td>\n",
       "      <td>No</td>\n",
       "      <td>No</td>\n",
       "      <td>2020-02-01</td>\n",
       "    </tr>\n",
       "    <tr>\n",
       "      <th>3</th>\n",
       "      <td>7795-CFOCW</td>\n",
       "      <td>2016-05-01</td>\n",
       "      <td>No</td>\n",
       "      <td>One year</td>\n",
       "      <td>No</td>\n",
       "      <td>Bank transfer (automatic)</td>\n",
       "      <td>42.30</td>\n",
       "      <td>1960.60</td>\n",
       "      <td>Male</td>\n",
       "      <td>0</td>\n",
       "      <td>...</td>\n",
       "      <td>No</td>\n",
       "      <td>no_info</td>\n",
       "      <td>DSL</td>\n",
       "      <td>Yes</td>\n",
       "      <td>No</td>\n",
       "      <td>Yes</td>\n",
       "      <td>Yes</td>\n",
       "      <td>No</td>\n",
       "      <td>No</td>\n",
       "      <td>2020-02-01</td>\n",
       "    </tr>\n",
       "    <tr>\n",
       "      <th>4</th>\n",
       "      <td>9237-HQITU</td>\n",
       "      <td>2019-09-01</td>\n",
       "      <td>No</td>\n",
       "      <td>Month-to-month</td>\n",
       "      <td>Yes</td>\n",
       "      <td>Electronic check</td>\n",
       "      <td>70.70</td>\n",
       "      <td>353.50</td>\n",
       "      <td>Female</td>\n",
       "      <td>0</td>\n",
       "      <td>...</td>\n",
       "      <td>No</td>\n",
       "      <td>No</td>\n",
       "      <td>Fiber optic</td>\n",
       "      <td>No</td>\n",
       "      <td>No</td>\n",
       "      <td>No</td>\n",
       "      <td>No</td>\n",
       "      <td>No</td>\n",
       "      <td>No</td>\n",
       "      <td>2020-02-01</td>\n",
       "    </tr>\n",
       "    <tr>\n",
       "      <th>5</th>\n",
       "      <td>9305-CDSKC</td>\n",
       "      <td>2019-03-01</td>\n",
       "      <td>No</td>\n",
       "      <td>Month-to-month</td>\n",
       "      <td>Yes</td>\n",
       "      <td>Electronic check</td>\n",
       "      <td>99.65</td>\n",
       "      <td>1150.96</td>\n",
       "      <td>Female</td>\n",
       "      <td>0</td>\n",
       "      <td>...</td>\n",
       "      <td>No</td>\n",
       "      <td>Yes</td>\n",
       "      <td>Fiber optic</td>\n",
       "      <td>No</td>\n",
       "      <td>No</td>\n",
       "      <td>Yes</td>\n",
       "      <td>No</td>\n",
       "      <td>Yes</td>\n",
       "      <td>Yes</td>\n",
       "      <td>2020-02-01</td>\n",
       "    </tr>\n",
       "    <tr>\n",
       "      <th>6</th>\n",
       "      <td>1452-KIOVK</td>\n",
       "      <td>2018-04-01</td>\n",
       "      <td>No</td>\n",
       "      <td>Month-to-month</td>\n",
       "      <td>Yes</td>\n",
       "      <td>Credit card (automatic)</td>\n",
       "      <td>89.10</td>\n",
       "      <td>2058.21</td>\n",
       "      <td>Male</td>\n",
       "      <td>0</td>\n",
       "      <td>...</td>\n",
       "      <td>Yes</td>\n",
       "      <td>Yes</td>\n",
       "      <td>Fiber optic</td>\n",
       "      <td>No</td>\n",
       "      <td>Yes</td>\n",
       "      <td>No</td>\n",
       "      <td>No</td>\n",
       "      <td>Yes</td>\n",
       "      <td>No</td>\n",
       "      <td>2020-02-01</td>\n",
       "    </tr>\n",
       "    <tr>\n",
       "      <th>7</th>\n",
       "      <td>6713-OKOMC</td>\n",
       "      <td>2019-04-01</td>\n",
       "      <td>No</td>\n",
       "      <td>Month-to-month</td>\n",
       "      <td>No</td>\n",
       "      <td>Mailed check</td>\n",
       "      <td>29.75</td>\n",
       "      <td>300.48</td>\n",
       "      <td>Female</td>\n",
       "      <td>0</td>\n",
       "      <td>...</td>\n",
       "      <td>No</td>\n",
       "      <td>no_info</td>\n",
       "      <td>DSL</td>\n",
       "      <td>Yes</td>\n",
       "      <td>No</td>\n",
       "      <td>No</td>\n",
       "      <td>No</td>\n",
       "      <td>No</td>\n",
       "      <td>No</td>\n",
       "      <td>2020-02-01</td>\n",
       "    </tr>\n",
       "    <tr>\n",
       "      <th>8</th>\n",
       "      <td>7892-POOKP</td>\n",
       "      <td>2017-07-01</td>\n",
       "      <td>No</td>\n",
       "      <td>Month-to-month</td>\n",
       "      <td>Yes</td>\n",
       "      <td>Electronic check</td>\n",
       "      <td>104.80</td>\n",
       "      <td>3573.68</td>\n",
       "      <td>Female</td>\n",
       "      <td>0</td>\n",
       "      <td>...</td>\n",
       "      <td>No</td>\n",
       "      <td>Yes</td>\n",
       "      <td>Fiber optic</td>\n",
       "      <td>No</td>\n",
       "      <td>No</td>\n",
       "      <td>Yes</td>\n",
       "      <td>Yes</td>\n",
       "      <td>Yes</td>\n",
       "      <td>Yes</td>\n",
       "      <td>2020-02-01</td>\n",
       "    </tr>\n",
       "    <tr>\n",
       "      <th>9</th>\n",
       "      <td>6388-TABGU</td>\n",
       "      <td>2014-12-01</td>\n",
       "      <td>2017-05-01</td>\n",
       "      <td>One year</td>\n",
       "      <td>No</td>\n",
       "      <td>Bank transfer (automatic)</td>\n",
       "      <td>56.15</td>\n",
       "      <td>1628.35</td>\n",
       "      <td>Male</td>\n",
       "      <td>0</td>\n",
       "      <td>...</td>\n",
       "      <td>Yes</td>\n",
       "      <td>No</td>\n",
       "      <td>DSL</td>\n",
       "      <td>Yes</td>\n",
       "      <td>Yes</td>\n",
       "      <td>No</td>\n",
       "      <td>No</td>\n",
       "      <td>No</td>\n",
       "      <td>No</td>\n",
       "      <td>2017-05-01</td>\n",
       "    </tr>\n",
       "  </tbody>\n",
       "</table>\n",
       "<p>10 rows × 21 columns</p>\n",
       "</div>"
      ],
      "text/plain": [
       "   customerid  begindate     enddate            type paperlessbilling  \\\n",
       "0  7590-VHVEG 2020-01-01          No  Month-to-month              Yes   \n",
       "1  5575-GNVDE 2017-04-01          No        One year               No   \n",
       "2  3668-QPYBK 2019-10-01          No  Month-to-month              Yes   \n",
       "3  7795-CFOCW 2016-05-01          No        One year               No   \n",
       "4  9237-HQITU 2019-09-01          No  Month-to-month              Yes   \n",
       "5  9305-CDSKC 2019-03-01          No  Month-to-month              Yes   \n",
       "6  1452-KIOVK 2018-04-01          No  Month-to-month              Yes   \n",
       "7  6713-OKOMC 2019-04-01          No  Month-to-month               No   \n",
       "8  7892-POOKP 2017-07-01          No  Month-to-month              Yes   \n",
       "9  6388-TABGU 2014-12-01  2017-05-01        One year               No   \n",
       "\n",
       "               paymentmethod  monthlycharges  totalcharges  gender  \\\n",
       "0           Electronic check           29.85         31.04  Female   \n",
       "1               Mailed check           56.95       2071.84    Male   \n",
       "2               Mailed check           53.85        226.17    Male   \n",
       "3  Bank transfer (automatic)           42.30       1960.60    Male   \n",
       "4           Electronic check           70.70        353.50  Female   \n",
       "5           Electronic check           99.65       1150.96  Female   \n",
       "6    Credit card (automatic)           89.10       2058.21    Male   \n",
       "7               Mailed check           29.75        300.48  Female   \n",
       "8           Electronic check          104.80       3573.68  Female   \n",
       "9  Bank transfer (automatic)           56.15       1628.35    Male   \n",
       "\n",
       "   seniorcitizen  ... dependents multiplelines internetservice onlinesecurity  \\\n",
       "0              0  ...         No       no_info             DSL             No   \n",
       "1              0  ...         No            No             DSL            Yes   \n",
       "2              0  ...         No            No             DSL            Yes   \n",
       "3              0  ...         No       no_info             DSL            Yes   \n",
       "4              0  ...         No            No     Fiber optic             No   \n",
       "5              0  ...         No           Yes     Fiber optic             No   \n",
       "6              0  ...        Yes           Yes     Fiber optic             No   \n",
       "7              0  ...         No       no_info             DSL            Yes   \n",
       "8              0  ...         No           Yes     Fiber optic             No   \n",
       "9              0  ...        Yes            No             DSL            Yes   \n",
       "\n",
       "  onlinebackup deviceprotection techsupport streamingtv streamingmovies  \\\n",
       "0          Yes               No          No          No              No   \n",
       "1           No              Yes          No          No              No   \n",
       "2          Yes               No          No          No              No   \n",
       "3           No              Yes         Yes          No              No   \n",
       "4           No               No          No          No              No   \n",
       "5           No              Yes          No         Yes             Yes   \n",
       "6          Yes               No          No         Yes              No   \n",
       "7           No               No          No          No              No   \n",
       "8           No              Yes         Yes         Yes             Yes   \n",
       "9          Yes               No          No          No              No   \n",
       "\n",
       "   enddate_2  \n",
       "0 2020-02-01  \n",
       "1 2020-02-01  \n",
       "2 2020-02-01  \n",
       "3 2020-02-01  \n",
       "4 2020-02-01  \n",
       "5 2020-02-01  \n",
       "6 2020-02-01  \n",
       "7 2020-02-01  \n",
       "8 2020-02-01  \n",
       "9 2017-05-01  \n",
       "\n",
       "[10 rows x 21 columns]"
      ]
     },
     "execution_count": 33,
     "metadata": {},
     "output_type": "execute_result"
    }
   ],
   "source": [
    "df.head(10)"
   ]
  },
  {
   "cell_type": "code",
   "execution_count": 34,
   "id": "8fd6605b",
   "metadata": {},
   "outputs": [],
   "source": [
    "# 4 - создадим столбец с раздностью времен\n",
    "df['length'] = (df['enddate_2'] - df['begindate']).dt.days"
   ]
  },
  {
   "cell_type": "code",
   "execution_count": 35,
   "id": "cfc5d6f8",
   "metadata": {},
   "outputs": [
    {
     "data": {
      "text/html": [
       "<div>\n",
       "<style scoped>\n",
       "    .dataframe tbody tr th:only-of-type {\n",
       "        vertical-align: middle;\n",
       "    }\n",
       "\n",
       "    .dataframe tbody tr th {\n",
       "        vertical-align: top;\n",
       "    }\n",
       "\n",
       "    .dataframe thead th {\n",
       "        text-align: right;\n",
       "    }\n",
       "</style>\n",
       "<table border=\"1\" class=\"dataframe\">\n",
       "  <thead>\n",
       "    <tr style=\"text-align: right;\">\n",
       "      <th></th>\n",
       "      <th>customerid</th>\n",
       "      <th>begindate</th>\n",
       "      <th>enddate</th>\n",
       "      <th>type</th>\n",
       "      <th>paperlessbilling</th>\n",
       "      <th>paymentmethod</th>\n",
       "      <th>monthlycharges</th>\n",
       "      <th>totalcharges</th>\n",
       "      <th>gender</th>\n",
       "      <th>seniorcitizen</th>\n",
       "      <th>...</th>\n",
       "      <th>multiplelines</th>\n",
       "      <th>internetservice</th>\n",
       "      <th>onlinesecurity</th>\n",
       "      <th>onlinebackup</th>\n",
       "      <th>deviceprotection</th>\n",
       "      <th>techsupport</th>\n",
       "      <th>streamingtv</th>\n",
       "      <th>streamingmovies</th>\n",
       "      <th>enddate_2</th>\n",
       "      <th>length</th>\n",
       "    </tr>\n",
       "  </thead>\n",
       "  <tbody>\n",
       "    <tr>\n",
       "      <th>0</th>\n",
       "      <td>7590-VHVEG</td>\n",
       "      <td>2020-01-01</td>\n",
       "      <td>No</td>\n",
       "      <td>Month-to-month</td>\n",
       "      <td>Yes</td>\n",
       "      <td>Electronic check</td>\n",
       "      <td>29.85</td>\n",
       "      <td>31.04</td>\n",
       "      <td>Female</td>\n",
       "      <td>0</td>\n",
       "      <td>...</td>\n",
       "      <td>no_info</td>\n",
       "      <td>DSL</td>\n",
       "      <td>No</td>\n",
       "      <td>Yes</td>\n",
       "      <td>No</td>\n",
       "      <td>No</td>\n",
       "      <td>No</td>\n",
       "      <td>No</td>\n",
       "      <td>2020-02-01</td>\n",
       "      <td>31</td>\n",
       "    </tr>\n",
       "    <tr>\n",
       "      <th>1</th>\n",
       "      <td>5575-GNVDE</td>\n",
       "      <td>2017-04-01</td>\n",
       "      <td>No</td>\n",
       "      <td>One year</td>\n",
       "      <td>No</td>\n",
       "      <td>Mailed check</td>\n",
       "      <td>56.95</td>\n",
       "      <td>2071.84</td>\n",
       "      <td>Male</td>\n",
       "      <td>0</td>\n",
       "      <td>...</td>\n",
       "      <td>No</td>\n",
       "      <td>DSL</td>\n",
       "      <td>Yes</td>\n",
       "      <td>No</td>\n",
       "      <td>Yes</td>\n",
       "      <td>No</td>\n",
       "      <td>No</td>\n",
       "      <td>No</td>\n",
       "      <td>2020-02-01</td>\n",
       "      <td>1036</td>\n",
       "    </tr>\n",
       "    <tr>\n",
       "      <th>2</th>\n",
       "      <td>3668-QPYBK</td>\n",
       "      <td>2019-10-01</td>\n",
       "      <td>No</td>\n",
       "      <td>Month-to-month</td>\n",
       "      <td>Yes</td>\n",
       "      <td>Mailed check</td>\n",
       "      <td>53.85</td>\n",
       "      <td>226.17</td>\n",
       "      <td>Male</td>\n",
       "      <td>0</td>\n",
       "      <td>...</td>\n",
       "      <td>No</td>\n",
       "      <td>DSL</td>\n",
       "      <td>Yes</td>\n",
       "      <td>Yes</td>\n",
       "      <td>No</td>\n",
       "      <td>No</td>\n",
       "      <td>No</td>\n",
       "      <td>No</td>\n",
       "      <td>2020-02-01</td>\n",
       "      <td>123</td>\n",
       "    </tr>\n",
       "    <tr>\n",
       "      <th>3</th>\n",
       "      <td>7795-CFOCW</td>\n",
       "      <td>2016-05-01</td>\n",
       "      <td>No</td>\n",
       "      <td>One year</td>\n",
       "      <td>No</td>\n",
       "      <td>Bank transfer (automatic)</td>\n",
       "      <td>42.30</td>\n",
       "      <td>1960.60</td>\n",
       "      <td>Male</td>\n",
       "      <td>0</td>\n",
       "      <td>...</td>\n",
       "      <td>no_info</td>\n",
       "      <td>DSL</td>\n",
       "      <td>Yes</td>\n",
       "      <td>No</td>\n",
       "      <td>Yes</td>\n",
       "      <td>Yes</td>\n",
       "      <td>No</td>\n",
       "      <td>No</td>\n",
       "      <td>2020-02-01</td>\n",
       "      <td>1371</td>\n",
       "    </tr>\n",
       "    <tr>\n",
       "      <th>4</th>\n",
       "      <td>9237-HQITU</td>\n",
       "      <td>2019-09-01</td>\n",
       "      <td>No</td>\n",
       "      <td>Month-to-month</td>\n",
       "      <td>Yes</td>\n",
       "      <td>Electronic check</td>\n",
       "      <td>70.70</td>\n",
       "      <td>353.50</td>\n",
       "      <td>Female</td>\n",
       "      <td>0</td>\n",
       "      <td>...</td>\n",
       "      <td>No</td>\n",
       "      <td>Fiber optic</td>\n",
       "      <td>No</td>\n",
       "      <td>No</td>\n",
       "      <td>No</td>\n",
       "      <td>No</td>\n",
       "      <td>No</td>\n",
       "      <td>No</td>\n",
       "      <td>2020-02-01</td>\n",
       "      <td>153</td>\n",
       "    </tr>\n",
       "  </tbody>\n",
       "</table>\n",
       "<p>5 rows × 22 columns</p>\n",
       "</div>"
      ],
      "text/plain": [
       "   customerid  begindate enddate            type paperlessbilling  \\\n",
       "0  7590-VHVEG 2020-01-01      No  Month-to-month              Yes   \n",
       "1  5575-GNVDE 2017-04-01      No        One year               No   \n",
       "2  3668-QPYBK 2019-10-01      No  Month-to-month              Yes   \n",
       "3  7795-CFOCW 2016-05-01      No        One year               No   \n",
       "4  9237-HQITU 2019-09-01      No  Month-to-month              Yes   \n",
       "\n",
       "               paymentmethod  monthlycharges  totalcharges  gender  \\\n",
       "0           Electronic check           29.85         31.04  Female   \n",
       "1               Mailed check           56.95       2071.84    Male   \n",
       "2               Mailed check           53.85        226.17    Male   \n",
       "3  Bank transfer (automatic)           42.30       1960.60    Male   \n",
       "4           Electronic check           70.70        353.50  Female   \n",
       "\n",
       "   seniorcitizen  ... multiplelines internetservice onlinesecurity  \\\n",
       "0              0  ...       no_info             DSL             No   \n",
       "1              0  ...            No             DSL            Yes   \n",
       "2              0  ...            No             DSL            Yes   \n",
       "3              0  ...       no_info             DSL            Yes   \n",
       "4              0  ...            No     Fiber optic             No   \n",
       "\n",
       "  onlinebackup deviceprotection techsupport streamingtv streamingmovies  \\\n",
       "0          Yes               No          No          No              No   \n",
       "1           No              Yes          No          No              No   \n",
       "2          Yes               No          No          No              No   \n",
       "3           No              Yes         Yes          No              No   \n",
       "4           No               No          No          No              No   \n",
       "\n",
       "   enddate_2 length  \n",
       "0 2020-02-01     31  \n",
       "1 2020-02-01   1036  \n",
       "2 2020-02-01    123  \n",
       "3 2020-02-01   1371  \n",
       "4 2020-02-01    153  \n",
       "\n",
       "[5 rows x 22 columns]"
      ]
     },
     "execution_count": 35,
     "metadata": {},
     "output_type": "execute_result"
    }
   ],
   "source": [
    "df.head()"
   ]
  },
  {
   "cell_type": "code",
   "execution_count": 36,
   "id": "5621ab6b",
   "metadata": {},
   "outputs": [],
   "source": [
    "# 6 - удалим временный столбец\n",
    "df = df.drop('enddate_2', axis=1)"
   ]
  },
  {
   "cell_type": "markdown",
   "id": "2ceed1ff",
   "metadata": {},
   "source": [
    "### Предобработка данных: выводы\n",
    "\n",
    "1. таблицы объеденины по общему столбцу: 'customerID'\n",
    "2. пропусков и явных дубликатов нет\n",
    "3. к сожалению, во время объединения мы потеряди часть данных\n",
    "4. Добавили столбец с длительностью пользования\n"
   ]
  },
  {
   "cell_type": "markdown",
   "id": "8ca207c8",
   "metadata": {},
   "source": [
    "## Исследовательский анализ данных"
   ]
  },
  {
   "cell_type": "markdown",
   "id": "8f0ff2b3",
   "metadata": {},
   "source": [
    "Начать анализ данных хочется с определения целевого признака исследования. Так как нам нужно определеить, кто из клиентов вероятнее всего уйдет от нас, то \"таргетом\" будет выступать столбец 'enddate'. Сейчас он представлен в виде строки, давайте на него посмотрим. Все значения 'NO' заменим на 0, а вcе другие - на 1.\n"
   ]
  },
  {
   "cell_type": "code",
   "execution_count": 37,
   "id": "f9ecd166",
   "metadata": {},
   "outputs": [
    {
     "name": "stdout",
     "output_type": "stream",
     "text": [
      "0    5931\n",
      "1    1101\n",
      "Name: enddate, dtype: int64\n"
     ]
    }
   ],
   "source": [
    "df.loc[df['enddate'] == 'No', 'enddate'] = 0\n",
    "df.loc[df['enddate'] != 0, 'enddate'] = 1\n",
    "\n",
    "print(df['enddate'].value_counts())"
   ]
  },
  {
   "cell_type": "code",
   "execution_count": 38,
   "id": "8712010f",
   "metadata": {},
   "outputs": [
    {
     "data": {
      "image/png": "[encoded data removed]",
      "text/plain": [
       "<Figure size 432x288 with 1 Axes>"
      ]
     },
     "metadata": {
      "needs_background": "light"
     },
     "output_type": "display_data"
    }
   ],
   "source": [
    "plt.hist(df['enddate'], bins=2)\n",
    "plt.xticks(np.arange(0,1))\n",
    "plt.title('Распределение целевого признака')\n",
    "plt.xlabel('Тип')\n",
    "plt.ylabel('Количестов пользователей')\n",
    "plt.show()"
   ]
  },
  {
   "cell_type": "markdown",
   "id": "720cd27f",
   "metadata": {},
   "source": [
    "Итак мы видим следующее:\n",
    "    \n",
    "    1. Клиенты от нас все таки уходят. Их доля составляет около 1/5 от общего числа клиентов.\n",
    "    \n",
    "    3. Теперь наше исследование однозначно стало задачей бинарной классификации. "
   ]
  },
  {
   "cell_type": "markdown",
   "id": "4f8c94ab",
   "metadata": {},
   "source": [
    "#### Дальнейший анализ предлагаю рассмотреть в сравнении: для оставшихся и для ушедших клиентов:\n"
   ]
  },
  {
   "cell_type": "code",
   "execution_count": 39,
   "id": "34fd3787",
   "metadata": {},
   "outputs": [
    {
     "data": {
      "text/plain": [
       "Month-to-month    3875\n",
       "Two year          1685\n",
       "One year          1472\n",
       "Name: type, dtype: int64"
      ]
     },
     "execution_count": 39,
     "metadata": {},
     "output_type": "execute_result"
    }
   ],
   "source": [
    "# Рассмотрим стобцы по порядку: Type. Здесь указан тип оплаты. Рассмотрим значения:\n",
    "df['type'].value_counts()"
   ]
  },
  {
   "cell_type": "code",
   "execution_count": 40,
   "id": "4d879d8a",
   "metadata": {},
   "outputs": [
    {
     "data": {
      "image/png": "[encoded data removed]",
      "text/plain": [
       "<Figure size 432x288 with 1 Axes>"
      ]
     },
     "metadata": {
      "needs_background": "light"
     },
     "output_type": "display_data"
    }
   ],
   "source": [
    "plt.hist(df.loc[df['enddate']==0]['type'], bins=3)\n",
    "plt.hist(df.loc[df['enddate']==1]['type'], bins=3)\n",
    "plt.legend(['Оставшиеся', 'Ушедшие'])\n",
    "\n",
    "plt.title('Распределение по типу оплаты')\n",
    "plt.xlabel('Тип')\n",
    "plt.ylabel('Количестов пользователей')\n",
    "plt.show()"
   ]
  },
  {
   "cell_type": "markdown",
   "id": "49f83487",
   "metadata": {},
   "source": [
    "Мы видим, что:\n",
    "\n",
    "    1. По типу опалыт клиенты делятся на три группы: по месяцам, по году, по 2 года. (доли 0.2 / 0.2 / 0.6)\n",
    "    2. Большая часть клиентов выбирает оплату по месяцам\n",
    "    3. Распредедения клиентов по типам среди оставшихся и среди ушедших очень похожи."
   ]
  },
  {
   "cell_type": "code",
   "execution_count": 41,
   "id": "1fb5c74e",
   "metadata": {},
   "outputs": [
    {
     "data": {
      "text/plain": [
       "Yes    4168\n",
       "No     2864\n",
       "Name: paperlessbilling, dtype: int64"
      ]
     },
     "execution_count": 41,
     "metadata": {},
     "output_type": "execute_result"
    }
   ],
   "source": [
    "# Далее: peperlessbilling. В этом признаке указано наличие безналичной оплаты. Рассмотрим значения:\n",
    "df['paperlessbilling'].value_counts()"
   ]
  },
  {
   "cell_type": "code",
   "execution_count": 42,
   "id": "ccd47869",
   "metadata": {},
   "outputs": [
    {
     "data": {
      "image/png": "[encoded data removed]",
      "text/plain": [
       "<Figure size 432x288 with 1 Axes>"
      ]
     },
     "metadata": {
      "needs_background": "light"
     },
     "output_type": "display_data"
    }
   ],
   "source": [
    "plt.hist(df.loc[df['enddate']==0]['paperlessbilling'], bins=2)\n",
    "plt.hist(df.loc[df['enddate']==1]['paperlessbilling'], bins=2)\n",
    "plt.legend(['Оставшиеся', 'Ушедшие'])\n",
    "\n",
    "plt.title('Распределение по типу оплаты')\n",
    "plt.xlabel('Тип')\n",
    "plt.ylabel('Количестов пользователей')\n",
    "plt.show()"
   ]
  },
  {
   "cell_type": "markdown",
   "id": "6a72c66b",
   "metadata": {},
   "source": [
    "Мы видим, что:\n",
    "\n",
    "    1. По наличию электронного платежного документа клиенты делятся на 2 группы: есть или нет. (Доли примерно 2/1)\n",
    "    2. Большая часть клиентов выбирает электронного платежный документ.\n",
    "    3. Распредедения клиентов по типам среди оставшихся и среди ушедших очень похожи."
   ]
  },
  {
   "cell_type": "code",
   "execution_count": 43,
   "id": "356db808",
   "metadata": {},
   "outputs": [
    {
     "data": {
      "text/plain": [
       "Electronic check             2365\n",
       "Mailed check                 1604\n",
       "Bank transfer (automatic)    1542\n",
       "Credit card (automatic)      1521\n",
       "Name: paymentmethod, dtype: int64"
      ]
     },
     "execution_count": 43,
     "metadata": {},
     "output_type": "execute_result"
    }
   ],
   "source": [
    "# Далее: PaymentMethod . В этом признаке указан способ оплаты. Рассмотрим значения:\n",
    "df['paymentmethod'].value_counts()"
   ]
  },
  {
   "cell_type": "code",
   "execution_count": 44,
   "id": "971307b0",
   "metadata": {},
   "outputs": [
    {
     "data": {
      "image/png": "[encoded data removed]",
      "text/plain": [
       "<Figure size 432x288 with 1 Axes>"
      ]
     },
     "metadata": {
      "needs_background": "light"
     },
     "output_type": "display_data"
    }
   ],
   "source": [
    "plt.hist(df.loc[df['enddate']==0]['paymentmethod'], bins=4)\n",
    "plt.hist(df.loc[df['enddate']==1]['paymentmethod'], bins=4)\n",
    "plt.legend(['Оставшиеся', 'Ушедшие'])\n",
    "\n",
    "plt.title('Распределение по способу оплаты')\n",
    "plt.xlabel('Тип')\n",
    "plt.ylabel('Количестов пользователей')\n",
    "plt.show()"
   ]
  },
  {
   "cell_type": "markdown",
   "id": "5871372a",
   "metadata": {},
   "source": [
    "Мы видим, что:\n",
    "\n",
    "    1. По наличию способу оплаты клиенты делятся на 4 группы: электронным чеком, автоматическим списанием с кредитки, автоматическим банковским банковским переводом и бумажным чеком. (Доли примерно 2/1/1/1)\n",
    "    2. Большая часть клиентов выбирает электронного электронный чек.\n",
    "    3. Распредедения клиентов по типам среди оставшихся и среди ушедших очень похожи."
   ]
  },
  {
   "cell_type": "code",
   "execution_count": 45,
   "id": "b16eab57",
   "metadata": {},
   "outputs": [
    {
     "data": {
      "text/plain": [
       "20.05     61\n",
       "19.90     44\n",
       "19.95     44\n",
       "19.85     44\n",
       "19.65     43\n",
       "          ..\n",
       "23.65      1\n",
       "114.70     1\n",
       "43.65      1\n",
       "87.80      1\n",
       "78.70      1\n",
       "Name: monthlycharges, Length: 1584, dtype: int64"
      ]
     },
     "execution_count": 45,
     "metadata": {},
     "output_type": "execute_result"
    }
   ],
   "source": [
    "# Далее: MonthlyCharges . В этом признаке указана сумма списаний за месяц. Рассмотрим значения:\n",
    "df['monthlycharges'].value_counts()"
   ]
  },
  {
   "cell_type": "markdown",
   "id": "897ea88a",
   "metadata": {},
   "source": [
    "Значения не столь типичны (не ситуация 3-4 абонентский плат по тарифам). Используем график для неприрывной переменной."
   ]
  },
  {
   "cell_type": "code",
   "execution_count": 46,
   "id": "4b51c351",
   "metadata": {},
   "outputs": [
    {
     "data": {
      "image/png": "[encoded data removed]",
      "text/plain": [
       "<Figure size 432x288 with 1 Axes>"
      ]
     },
     "metadata": {
      "needs_background": "light"
     },
     "output_type": "display_data"
    }
   ],
   "source": [
    "sns.kdeplot(df.loc[df['enddate']==0]['monthlycharges'])\n",
    "sns.kdeplot(df.loc[df['enddate']==1]['monthlycharges'])\n",
    "plt.legend(['Оставшиеся', 'Ушедшие'])\n",
    "\n",
    "plt.title('Распределение по ежемесячной сумме оплаты')\n",
    "plt.xlabel('Сумма')\n",
    "plt.ylabel('Количестов пользователей (доля)')\n",
    "plt.show()"
   ]
  },
  {
   "cell_type": "markdown",
   "id": "ae9c6703",
   "metadata": {},
   "source": [
    "Мы видим, что:\n",
    "\n",
    "    1. Распределение суммы оплаты по оставшимся пользователям имеет 2 пика.\n",
    "    2. Распределение суммы оплаты по ушедшим смешено вправо (в сторону большей суммы) \n",
    "    3. Распредедения клиентов по сумме оплаты среди оставшихся и среди ушедших отличаются."
   ]
  },
  {
   "cell_type": "code",
   "execution_count": 47,
   "id": "03691396",
   "metadata": {},
   "outputs": [
    {
     "data": {
      "text/plain": [
       "20.45      6\n",
       "101.00     5\n",
       "21.53      4\n",
       "1007.50    4\n",
       "732.60     4\n",
       "          ..\n",
       "4357.50    1\n",
       "3509.55    1\n",
       "2530.80    1\n",
       "2599.10    1\n",
       "7251.82    1\n",
       "Name: totalcharges, Length: 6657, dtype: int64"
      ]
     },
     "execution_count": 47,
     "metadata": {},
     "output_type": "execute_result"
    }
   ],
   "source": [
    "# Далее: TotalCharges. В этом признаке указана общая сумма списаний за время пользования. Рассмотрим значения:\n",
    "df['totalcharges'].value_counts()\n"
   ]
  },
  {
   "cell_type": "markdown",
   "id": "fa77a9fa",
   "metadata": {},
   "source": [
    "Рассматриваем аналогично предыдущему пункту"
   ]
  },
  {
   "cell_type": "code",
   "execution_count": 48,
   "id": "791e0b10",
   "metadata": {},
   "outputs": [
    {
     "data": {
      "image/png": "[encoded data removed]",
      "text/plain": [
       "<Figure size 432x288 with 1 Axes>"
      ]
     },
     "metadata": {
      "needs_background": "light"
     },
     "output_type": "display_data"
    }
   ],
   "source": [
    "sns.kdeplot(df.loc[df['enddate']==0]['totalcharges'])\n",
    "sns.kdeplot(df.loc[df['enddate']==1]['totalcharges'])\n",
    "plt.legend(['Оставшиеся', 'Ушедшие'])\n",
    "\n",
    "plt.title('Распределение по общей сумме')\n",
    "plt.xlabel('Сумма')\n",
    "plt.ylabel('Количестов пользователей (доля)')\n",
    "plt.show()"
   ]
  },
  {
   "cell_type": "code",
   "execution_count": 49,
   "id": "c3e9b94b",
   "metadata": {},
   "outputs": [
    {
     "data": {
      "text/plain": [
       "Male      3549\n",
       "Female    3483\n",
       "Name: gender, dtype: int64"
      ]
     },
     "execution_count": 49,
     "metadata": {},
     "output_type": "execute_result"
    }
   ],
   "source": [
    "# Далее: gender. В этом признаке указан пол клиента. Рассмотрим значения:\n",
    "df['gender']. value_counts()"
   ]
  },
  {
   "cell_type": "code",
   "execution_count": 50,
   "id": "1f853e16",
   "metadata": {},
   "outputs": [
    {
     "data": {
      "image/png": "[encoded data removed]",
      "text/plain": [
       "<Figure size 432x288 with 1 Axes>"
      ]
     },
     "metadata": {
      "needs_background": "light"
     },
     "output_type": "display_data"
    }
   ],
   "source": [
    "plt.hist(df.loc[df['enddate']==0]['gender'], bins=2)\n",
    "plt.hist(df.loc[df['enddate']==1]['gender'], bins=2)\n",
    "plt.legend(['Оставшиеся', 'Ушедшие'])\n",
    "\n",
    "plt.title('Распределение по полу')\n",
    "plt.xlabel('Тип')\n",
    "plt.ylabel('Количестов пользователей')\n",
    "plt.show()"
   ]
  },
  {
   "cell_type": "markdown",
   "id": "435c45c9",
   "metadata": {},
   "source": [
    "Мы видим, что:\n",
    "\n",
    "    1. По наличию полу клиенты делятся на 2 группы:мужчины и женщины примерно поровну.\n",
    "    2. Распредедение клиентов по полу чуть-чуть отличается у оставшихся и ушедших. "
   ]
  },
  {
   "cell_type": "code",
   "execution_count": 51,
   "id": "0c9b4033",
   "metadata": {},
   "outputs": [
    {
     "data": {
      "text/plain": [
       "0    5890\n",
       "1    1142\n",
       "Name: seniorcitizen, dtype: int64"
      ]
     },
     "execution_count": 51,
     "metadata": {},
     "output_type": "execute_result"
    }
   ],
   "source": [
    "# Далее: SeniorCitizen. В этом признаке указано пенсионер ли наш клиент. Рассмотрим значения:\n",
    "df['seniorcitizen'].value_counts()"
   ]
  },
  {
   "cell_type": "code",
   "execution_count": 52,
   "id": "72afb2fd",
   "metadata": {},
   "outputs": [
    {
     "data": {
      "image/png": "[encoded data removed]",
      "text/plain": [
       "<Figure size 432x288 with 1 Axes>"
      ]
     },
     "metadata": {
      "needs_background": "light"
     },
     "output_type": "display_data"
    }
   ],
   "source": [
    "plt.hist(df.loc[df['enddate']==0]['seniorcitizen'], bins=2)\n",
    "plt.hist(df.loc[df['enddate']==1]['seniorcitizen'], bins=2)\n",
    "plt.legend(['Оставшиеся', 'Ушедшие'])\n",
    "\n",
    "plt.title('Распределение по уходу на пенсию')\n",
    "plt.xlabel('Не пенсионер / пенсионер')\n",
    "plt.ylabel('Количестов пользователей')\n",
    "plt.show()"
   ]
  },
  {
   "cell_type": "markdown",
   "id": "417f1e69",
   "metadata": {},
   "source": [
    "Мы видим, что:\n",
    "\n",
    "    1. По части выхода на пенсию клиенты делятся на 2 группы: вышли / не вышли в отношении примерно 4 /1.\n",
    "    2. Распредедение клиентов  у оставшихся и ушедших одинаковое. "
   ]
  },
  {
   "cell_type": "code",
   "execution_count": 53,
   "id": "88093838",
   "metadata": {},
   "outputs": [
    {
     "data": {
      "text/plain": [
       "No     3639\n",
       "Yes    3393\n",
       "Name: partner, dtype: int64"
      ]
     },
     "execution_count": 53,
     "metadata": {},
     "output_type": "execute_result"
    }
   ],
   "source": [
    "# Далее: partner. В этом признаке указано наличие супруга/супруги. Рассмотрим значения:\n",
    "df['partner'].value_counts()"
   ]
  },
  {
   "cell_type": "code",
   "execution_count": 54,
   "id": "05acbfb4",
   "metadata": {},
   "outputs": [
    {
     "data": {
      "image/png": "[encoded data removed]",
      "text/plain": [
       "<Figure size 432x288 with 1 Axes>"
      ]
     },
     "metadata": {
      "needs_background": "light"
     },
     "output_type": "display_data"
    }
   ],
   "source": [
    "plt.hist(df.loc[df['enddate']==0]['partner'], bins=2)\n",
    "plt.hist(df.loc[df['enddate']==1]['partner'], bins=2)\n",
    "plt.legend(['Оставшиеся', 'Ушедшие'])\n",
    "\n",
    "plt.title('Распределение по уходу на пенсию')\n",
    "plt.xlabel('Семйный статус')\n",
    "plt.ylabel('Количестов пользователей')\n",
    "plt.show()"
   ]
  },
  {
   "cell_type": "markdown",
   "id": "3aef5c67",
   "metadata": {},
   "source": [
    "Мы видим, что:\n",
    "\n",
    "    1. По наличию супруга клиенты делятся на 2 группы: есть и нет примерно поровну.\n",
    "    2. Распредедение клиентов по этому признаку отличается у оставшихся и ушедших. "
   ]
  },
  {
   "cell_type": "code",
   "execution_count": 55,
   "id": "3d51614c",
   "metadata": {},
   "outputs": [
    {
     "data": {
      "text/plain": [
       "No     4933\n",
       "Yes    2099\n",
       "Name: dependents, dtype: int64"
      ]
     },
     "execution_count": 55,
     "metadata": {},
     "output_type": "execute_result"
    }
   ],
   "source": [
    "# Далее: dependents. В этом признаке указано наличие иждевенцев. Рассмотрим значения:\n",
    "df['dependents'].value_counts()"
   ]
  },
  {
   "cell_type": "code",
   "execution_count": 56,
   "id": "d8747e1f",
   "metadata": {},
   "outputs": [
    {
     "data": {
      "image/png": "[encoded data removed]",
      "text/plain": [
       "<Figure size 432x288 with 1 Axes>"
      ]
     },
     "metadata": {
      "needs_background": "light"
     },
     "output_type": "display_data"
    }
   ],
   "source": [
    "plt.hist(df.loc[df['enddate']==0]['dependents'], bins=2)\n",
    "plt.hist(df.loc[df['enddate']==1]['dependents'], bins=2)\n",
    "plt.legend(['Оставшиеся', 'Ушедшие'])\n",
    "\n",
    "plt.title('Распределение по наличию иждевенцев')\n",
    "plt.xlabel('Нет / Есть')\n",
    "plt.ylabel('Количестов пользователей')\n",
    "plt.show()"
   ]
  },
  {
   "cell_type": "markdown",
   "id": "cb8a1418",
   "metadata": {},
   "source": [
    "Мы видим, что:\n",
    "\n",
    "1. По наличию иждевенцев клиенты делятся на 2 группы: есть и нет в пропорции примерно 2.5 / 1.\n",
    "2. Распредедение клиентов по этому признаку не отличается у оставшихся и ушедших. "
   ]
  },
  {
   "cell_type": "code",
   "execution_count": 57,
   "id": "3191896e",
   "metadata": {},
   "outputs": [
    {
     "data": {
      "text/plain": [
       "No         3385\n",
       "Yes        2967\n",
       "no_info     680\n",
       "Name: multiplelines, dtype: int64"
      ]
     },
     "execution_count": 57,
     "metadata": {},
     "output_type": "execute_result"
    }
   ],
   "source": [
    "# Далее: multipleLines. В этом признаке указана возможность завести несколько линий. Рассмотрим значения:\n",
    "df['multiplelines'].value_counts()"
   ]
  },
  {
   "cell_type": "code",
   "execution_count": 58,
   "id": "ec6b69b3",
   "metadata": {},
   "outputs": [
    {
     "data": {
      "image/png": "[encoded data removed]",
      "text/plain": [
       "<Figure size 432x288 with 1 Axes>"
      ]
     },
     "metadata": {
      "needs_background": "light"
     },
     "output_type": "display_data"
    }
   ],
   "source": [
    "plt.hist(df.loc[df['enddate']==0]['multiplelines'], bins=3)\n",
    "plt.hist(df.loc[df['enddate']==1]['multiplelines'], bins=3)\n",
    "plt.legend(['Оставшиеся', 'Ушедшие'])\n",
    "\n",
    "plt.title('Распределение использоваию многоканальной связи')\n",
    "plt.xlabel('Нет инфо / Нет / Есть')\n",
    "plt.ylabel('Количестов пользователей')\n",
    "plt.show()"
   ]
  },
  {
   "cell_type": "markdown",
   "id": "2d4c984f",
   "metadata": {},
   "source": [
    "Мы видим, что:\n",
    "\n",
    "1. По наличию многоканальной связи клиенты делятся на 2 группы: есть и нет.\n",
    "2. Распредедение клиентов по этому признаку отличается у оставшихся и ушедших."
   ]
  },
  {
   "cell_type": "code",
   "execution_count": 59,
   "id": "3e485e67",
   "metadata": {},
   "outputs": [
    {
     "data": {
      "text/plain": [
       "Fiber optic    3096\n",
       "DSL            2416\n",
       "no_info        1520\n",
       "Name: internetservice, dtype: int64"
      ]
     },
     "execution_count": 59,
     "metadata": {},
     "output_type": "execute_result"
    }
   ],
   "source": [
    "# Далее: internetservice. В этом признаке указана технология проведения интернета. Рассмотрим значения:\n",
    "df['internetservice'].value_counts()"
   ]
  },
  {
   "cell_type": "code",
   "execution_count": 60,
   "id": "94db2d1a",
   "metadata": {},
   "outputs": [
    {
     "data": {
      "image/png": "[encoded data removed]",
      "text/plain": [
       "<Figure size 432x288 with 1 Axes>"
      ]
     },
     "metadata": {
      "needs_background": "light"
     },
     "output_type": "display_data"
    }
   ],
   "source": [
    "plt.hist(df.loc[df['enddate']==0]['internetservice'], bins=3)\n",
    "plt.hist(df.loc[df['enddate']==1]['internetservice'], bins=3)\n",
    "plt.legend(['Оставшиеся', 'Ушедшие'])\n",
    "\n",
    "plt.title('Распределение использоваию технологии интеренета')\n",
    "plt.xlabel('Телефонная линия / Оптоволокно / Нет инфо')\n",
    "plt.ylabel('Количестов пользователей')\n",
    "plt.show()"
   ]
  },
  {
   "cell_type": "markdown",
   "id": "8f1cfe67",
   "metadata": {},
   "source": [
    "Мы видим, что:\n",
    "\n",
    "1. По технологиям интернета  клиенты делятся на 2 группы: по телефонной линии и по оптоволокну. Вторых почти в 2 раза больше.\n",
    "2. Распредедение клиентов по этому признаку не отличается у оставшихся и ушедших."
   ]
  },
  {
   "cell_type": "code",
   "execution_count": 61,
   "id": "ee72d1be",
   "metadata": {
    "scrolled": true
   },
   "outputs": [
    {
     "data": {
      "text/plain": [
       "No         3497\n",
       "Yes        2015\n",
       "no_info    1520\n",
       "Name: onlinesecurity, dtype: int64"
      ]
     },
     "execution_count": 61,
     "metadata": {},
     "output_type": "execute_result"
    }
   ],
   "source": [
    "# Далее: onlinesecurity. В этом признаке указано, пользуются ли клиенты блокировками. Рассмотрим значения:\n",
    "df['onlinesecurity'].value_counts()"
   ]
  },
  {
   "cell_type": "code",
   "execution_count": 62,
   "id": "3e45e8db",
   "metadata": {},
   "outputs": [
    {
     "data": {
      "image/png": "[encoded data removed]",
      "text/plain": [
       "<Figure size 432x288 with 1 Axes>"
      ]
     },
     "metadata": {
      "needs_background": "light"
     },
     "output_type": "display_data"
    }
   ],
   "source": [
    "plt.hist(df.loc[df['enddate']==0]['onlinesecurity'], bins=3)\n",
    "plt.hist(df.loc[df['enddate']==1]['onlinesecurity'], bins=3)\n",
    "plt.legend(['Оставшиеся', 'Ушедшие'])\n",
    "\n",
    "plt.title('Распределение использоваию технологий безопасности')\n",
    "plt.xlabel('Не пользуются / Пользуются / Нет инфо')\n",
    "plt.ylabel('Количестов пользователей')\n",
    "plt.show()"
   ]
  },
  {
   "cell_type": "markdown",
   "id": "a31f92d8",
   "metadata": {},
   "source": [
    "Мы видим, что:\n",
    "\n",
    "1. По использованию технологий безопасности клиенты делятся на 2 группы: пользуются / не пользуются. Вторых почти в 2 раза больше.\n",
    "2. Распредедение клиентов по этому признаку не отличается у оставшихся и ушедших."
   ]
  },
  {
   "cell_type": "code",
   "execution_count": 63,
   "id": "21b90fd2",
   "metadata": {},
   "outputs": [
    {
     "data": {
      "text/plain": [
       "No         3087\n",
       "Yes        2425\n",
       "no_info    1520\n",
       "Name: onlinebackup, dtype: int64"
      ]
     },
     "execution_count": 63,
     "metadata": {},
     "output_type": "execute_result"
    }
   ],
   "source": [
    "# Далее: onlinebackup. В этом признаке указано, пользуются ли клиенты облачным хранилищем. Рассмотрим значения:\n",
    "df['onlinebackup'].value_counts()"
   ]
  },
  {
   "cell_type": "code",
   "execution_count": 64,
   "id": "81319b73",
   "metadata": {
    "scrolled": true
   },
   "outputs": [
    {
     "data": {
      "image/png": "[encoded data removed]",
      "text/plain": [
       "<Figure size 432x288 with 1 Axes>"
      ]
     },
     "metadata": {
      "needs_background": "light"
     },
     "output_type": "display_data"
    }
   ],
   "source": [
    "plt.hist(df.loc[df['enddate']==0]['onlinebackup'], bins=3)\n",
    "plt.hist(df.loc[df['enddate']==1]['onlinebackup'], bins=3)\n",
    "plt.legend(['Оставшиеся', 'Ушедшие'])\n",
    "\n",
    "plt.title('Распределение использоваию облачного хранилища')\n",
    "plt.xlabel('Пользуются / Не пользуются / Нет инфо')\n",
    "plt.ylabel('Количестов пользователей')\n",
    "plt.show()"
   ]
  },
  {
   "cell_type": "markdown",
   "id": "a921d2bb",
   "metadata": {},
   "source": [
    "Мы видим, что:\n",
    "\n",
    "1. По облачного хранилища клиенты делятся на 2 группы: пользователей примерно на четверть больше.\n",
    "2. Распредедение клиентов по этому признаку отличается у оставшихся и ушедших."
   ]
  },
  {
   "cell_type": "code",
   "execution_count": 65,
   "id": "0a5877fd",
   "metadata": {},
   "outputs": [
    {
     "data": {
      "text/plain": [
       "No         3094\n",
       "Yes        2418\n",
       "no_info    1520\n",
       "Name: deviceprotection, dtype: int64"
      ]
     },
     "execution_count": 65,
     "metadata": {},
     "output_type": "execute_result"
    }
   ],
   "source": [
    "# Далее:  deviceprotection. В этом признаке указано, пользуются ли клиенты антивирусом. Рассмотрим значения:\n",
    "df['deviceprotection'].value_counts()"
   ]
  },
  {
   "cell_type": "code",
   "execution_count": 66,
   "id": "a846dd80",
   "metadata": {},
   "outputs": [
    {
     "data": {
      "image/png": "[encoded data removed]",
      "text/plain": [
       "<Figure size 432x288 with 1 Axes>"
      ]
     },
     "metadata": {
      "needs_background": "light"
     },
     "output_type": "display_data"
    }
   ],
   "source": [
    "plt.hist(df.loc[df['enddate']==0]['onlinebackup'], bins=3)\n",
    "plt.hist(df.loc[df['enddate']==1]['onlinebackup'], bins=3)\n",
    "plt.legend(['Оставшиеся', 'Ушедшие'])\n",
    "\n",
    "plt.title('Распределение использоваию антивируса')\n",
    "plt.xlabel('Пользуются / Не пользуются / Нет инфо')\n",
    "plt.ylabel('Количестов пользователей')\n",
    "plt.show()"
   ]
  },
  {
   "cell_type": "markdown",
   "id": "5decd6e1",
   "metadata": {},
   "source": [
    "Мы видим, что:\n",
    "\n",
    "1. По использованию антивируса клиенты делятся на 2 группы: пользователей примерно на четверть больше.\n",
    "2. Распредедение клиентов по этому признаку отличается у оставшихся и ушедших."
   ]
  },
  {
   "cell_type": "code",
   "execution_count": 67,
   "id": "8349a916",
   "metadata": {},
   "outputs": [
    {
     "data": {
      "text/plain": [
       "No         3472\n",
       "Yes        2040\n",
       "no_info    1520\n",
       "Name: techsupport, dtype: int64"
      ]
     },
     "execution_count": 67,
     "metadata": {},
     "output_type": "execute_result"
    }
   ],
   "source": [
    "# Далее: techsupport. В этом признаке указано, пользуются ли клиенты линией техподдержки. Рассмотрим значения:\n",
    "df['techsupport'].value_counts()"
   ]
  },
  {
   "cell_type": "code",
   "execution_count": 68,
   "id": "67319165",
   "metadata": {},
   "outputs": [
    {
     "data": {
      "image/png": "[encoded data removed]",
      "text/plain": [
       "<Figure size 432x288 with 1 Axes>"
      ]
     },
     "metadata": {
      "needs_background": "light"
     },
     "output_type": "display_data"
    }
   ],
   "source": [
    "plt.hist(df.loc[df['enddate']==0]['techsupport'], bins=3)\n",
    "plt.hist(df.loc[df['enddate']==1]['techsupport'], bins=3)\n",
    "plt.legend(['Оставшиеся', 'Ушедшие'])\n",
    "\n",
    "plt.title('Распределение  по использоваию техподдержки')\n",
    "plt.xlabel('Не пользуются / пользуются / Нет инфо')\n",
    "plt.ylabel('Количестов пользователей')\n",
    "plt.show()"
   ]
  },
  {
   "cell_type": "markdown",
   "id": "30207290",
   "metadata": {},
   "source": [
    "Мы видим, что:\n",
    "\n",
    "1. По использованию техподдержки клиенты делятся на 2 группы: пользователей примерно в 2 раза больше.\n",
    "2. Распредедение клиентов по этому признаку не отличается у оставшихся и ушедших."
   ]
  },
  {
   "cell_type": "code",
   "execution_count": 69,
   "id": "1a703e23",
   "metadata": {},
   "outputs": [
    {
     "data": {
      "text/plain": [
       "No         2809\n",
       "Yes        2703\n",
       "no_info    1520\n",
       "Name: streamingtv, dtype: int64"
      ]
     },
     "execution_count": 69,
     "metadata": {},
     "output_type": "execute_result"
    }
   ],
   "source": [
    "# Далее: streamingtv. В этом признаке указано, пользуются ли клиенты телевиденеим. Рассмотрим значения:\n",
    "df['streamingtv'].value_counts()"
   ]
  },
  {
   "cell_type": "code",
   "execution_count": 70,
   "id": "efbeef7e",
   "metadata": {
    "scrolled": true
   },
   "outputs": [
    {
     "data": {
      "image/png": "[encoded data removed]",
      "text/plain": [
       "<Figure size 432x288 with 1 Axes>"
      ]
     },
     "metadata": {
      "needs_background": "light"
     },
     "output_type": "display_data"
    }
   ],
   "source": [
    "plt.hist(df.loc[df['enddate']==0]['streamingtv'], bins=3)\n",
    "plt.hist(df.loc[df['enddate']==1]['streamingtv'], bins=3)\n",
    "plt.legend(['Оставшиеся', 'Ушедшие'])\n",
    "\n",
    "plt.title('Распределение  по использоваию телевидения')\n",
    "plt.xlabel('Не пользуются / Пользуются / Нет инфо')\n",
    "plt.ylabel('Количестов пользователей')\n",
    "plt.show()"
   ]
  },
  {
   "cell_type": "markdown",
   "id": "b0cf9b8e",
   "metadata": {},
   "source": [
    "Мы видим, что:\n",
    "\n",
    "1. По использованию телевидения клиенты делятся на 2 группы: их примерно поровну.\n",
    "2. Распредедение клиентов по этому признаку отличается у оставшихся и ушедших."
   ]
  },
  {
   "cell_type": "code",
   "execution_count": 71,
   "id": "b707c7e8",
   "metadata": {},
   "outputs": [
    {
     "data": {
      "text/plain": [
       "No         2781\n",
       "Yes        2731\n",
       "no_info    1520\n",
       "Name: streamingmovies, dtype: int64"
      ]
     },
     "execution_count": 71,
     "metadata": {},
     "output_type": "execute_result"
    }
   ],
   "source": [
    "# Далее: streamingmovies. В этом признаке указано, пользуются ли клиенты каталогом фильмов. Рассмотрим значения:\n",
    "df['streamingmovies'].value_counts()"
   ]
  },
  {
   "cell_type": "code",
   "execution_count": 72,
   "id": "e726be8d",
   "metadata": {},
   "outputs": [
    {
     "data": {
      "image/png": "[encoded data removed]",
      "text/plain": [
       "<Figure size 432x288 with 1 Axes>"
      ]
     },
     "metadata": {
      "needs_background": "light"
     },
     "output_type": "display_data"
    }
   ],
   "source": [
    "plt.hist(df.loc[df['enddate']==0]['streamingtv'], bins=3)\n",
    "plt.hist(df.loc[df['enddate']==1]['streamingtv'], bins=3)\n",
    "plt.legend(['Оставшиеся', 'Ушедшие'])\n",
    "\n",
    "plt.title('Распределение  по использоваию каталога фильмов')\n",
    "plt.xlabel('Не пользуются / Пользуются / Нет инфо')\n",
    "plt.ylabel('Количестов пользователей')\n",
    "plt.show()"
   ]
  },
  {
   "cell_type": "markdown",
   "id": "63105468",
   "metadata": {},
   "source": [
    "Мы видим, что:\n",
    "\n",
    "1. По использованию каталога фильмов клиенты делятся на 2 группы: их примерно поровну.\n",
    "2. Распредедение клиентов по этому признаку отличается у оставшихся и ушедших."
   ]
  },
  {
   "cell_type": "markdown",
   "id": "795ce005",
   "metadata": {},
   "source": [
    "#### Анализ на мультиколлинеарность"
   ]
  },
  {
   "cell_type": "code",
   "execution_count": 73,
   "id": "6867439d",
   "metadata": {},
   "outputs": [
    {
     "name": "stdout",
     "output_type": "stream",
     "text": [
      "interval columns not set, guessing: ['monthlycharges', 'totalcharges', 'seniorcitizen', 'length']\n"
     ]
    },
    {
     "name": "stderr",
     "output_type": "stream",
     "text": [
      "C:\\Users\\krulo\\anaconda3\\lib\\site-packages\\phik\\data_quality.py:59: UserWarning: The number of unique values of variable customerid is large: 7032. Are you sure this is not an interval variable? Analysis for pairs of variables including customerid can be slow.\n",
      "  warnings.warn(\n"
     ]
    },
    {
     "data": {
      "text/html": [
       "<div>\n",
       "<style scoped>\n",
       "    .dataframe tbody tr th:only-of-type {\n",
       "        vertical-align: middle;\n",
       "    }\n",
       "\n",
       "    .dataframe tbody tr th {\n",
       "        vertical-align: top;\n",
       "    }\n",
       "\n",
       "    .dataframe thead th {\n",
       "        text-align: right;\n",
       "    }\n",
       "</style>\n",
       "<table border=\"1\" class=\"dataframe\">\n",
       "  <thead>\n",
       "    <tr style=\"text-align: right;\">\n",
       "      <th></th>\n",
       "      <th>customerid</th>\n",
       "      <th>begindate</th>\n",
       "      <th>enddate</th>\n",
       "      <th>type</th>\n",
       "      <th>paperlessbilling</th>\n",
       "      <th>paymentmethod</th>\n",
       "      <th>monthlycharges</th>\n",
       "      <th>totalcharges</th>\n",
       "      <th>gender</th>\n",
       "      <th>seniorcitizen</th>\n",
       "      <th>...</th>\n",
       "      <th>dependents</th>\n",
       "      <th>multiplelines</th>\n",
       "      <th>internetservice</th>\n",
       "      <th>onlinesecurity</th>\n",
       "      <th>onlinebackup</th>\n",
       "      <th>deviceprotection</th>\n",
       "      <th>techsupport</th>\n",
       "      <th>streamingtv</th>\n",
       "      <th>streamingmovies</th>\n",
       "      <th>length</th>\n",
       "    </tr>\n",
       "  </thead>\n",
       "  <tbody>\n",
       "    <tr>\n",
       "      <th>customerid</th>\n",
       "      <td>1.0</td>\n",
       "      <td>1.000000</td>\n",
       "      <td>1.000000</td>\n",
       "      <td>1.000000</td>\n",
       "      <td>1.000000</td>\n",
       "      <td>1.000000</td>\n",
       "      <td>1.000000</td>\n",
       "      <td>1.000000</td>\n",
       "      <td>1.000000</td>\n",
       "      <td>1.000000</td>\n",
       "      <td>...</td>\n",
       "      <td>1.000000</td>\n",
       "      <td>1.000000</td>\n",
       "      <td>1.000000</td>\n",
       "      <td>1.000000</td>\n",
       "      <td>1.000000</td>\n",
       "      <td>1.000000</td>\n",
       "      <td>1.000000</td>\n",
       "      <td>1.000000</td>\n",
       "      <td>1.000000</td>\n",
       "      <td>1.000000</td>\n",
       "    </tr>\n",
       "    <tr>\n",
       "      <th>begindate</th>\n",
       "      <td>1.0</td>\n",
       "      <td>1.000000</td>\n",
       "      <td>0.461977</td>\n",
       "      <td>0.765275</td>\n",
       "      <td>0.078664</td>\n",
       "      <td>0.467586</td>\n",
       "      <td>0.421848</td>\n",
       "      <td>0.773731</td>\n",
       "      <td>0.018540</td>\n",
       "      <td>0.049516</td>\n",
       "      <td>...</td>\n",
       "      <td>0.201169</td>\n",
       "      <td>0.468346</td>\n",
       "      <td>0.185601</td>\n",
       "      <td>0.459336</td>\n",
       "      <td>0.495096</td>\n",
       "      <td>0.501372</td>\n",
       "      <td>0.454019</td>\n",
       "      <td>0.418173</td>\n",
       "      <td>0.429770</td>\n",
       "      <td>0.978241</td>\n",
       "    </tr>\n",
       "    <tr>\n",
       "      <th>enddate</th>\n",
       "      <td>1.0</td>\n",
       "      <td>0.461977</td>\n",
       "      <td>1.000000</td>\n",
       "      <td>0.094622</td>\n",
       "      <td>0.082789</td>\n",
       "      <td>0.214300</td>\n",
       "      <td>0.225823</td>\n",
       "      <td>0.303758</td>\n",
       "      <td>0.008800</td>\n",
       "      <td>0.085708</td>\n",
       "      <td>...</td>\n",
       "      <td>0.048710</td>\n",
       "      <td>0.105172</td>\n",
       "      <td>0.056279</td>\n",
       "      <td>0.058630</td>\n",
       "      <td>0.089771</td>\n",
       "      <td>0.085665</td>\n",
       "      <td>0.051442</td>\n",
       "      <td>0.078554</td>\n",
       "      <td>0.086371</td>\n",
       "      <td>0.374101</td>\n",
       "    </tr>\n",
       "    <tr>\n",
       "      <th>type</th>\n",
       "      <td>1.0</td>\n",
       "      <td>0.765275</td>\n",
       "      <td>0.094622</td>\n",
       "      <td>1.000000</td>\n",
       "      <td>0.106151</td>\n",
       "      <td>0.277528</td>\n",
       "      <td>0.388557</td>\n",
       "      <td>0.470700</td>\n",
       "      <td>0.000000</td>\n",
       "      <td>0.085800</td>\n",
       "      <td>...</td>\n",
       "      <td>0.146126</td>\n",
       "      <td>0.244802</td>\n",
       "      <td>0.503776</td>\n",
       "      <td>0.636227</td>\n",
       "      <td>0.580887</td>\n",
       "      <td>0.630968</td>\n",
       "      <td>0.671126</td>\n",
       "      <td>0.548723</td>\n",
       "      <td>0.553780</td>\n",
       "      <td>0.635623</td>\n",
       "    </tr>\n",
       "    <tr>\n",
       "      <th>paperlessbilling</th>\n",
       "      <td>1.0</td>\n",
       "      <td>0.078664</td>\n",
       "      <td>0.082789</td>\n",
       "      <td>0.106151</td>\n",
       "      <td>1.000000</td>\n",
       "      <td>0.368945</td>\n",
       "      <td>0.467547</td>\n",
       "      <td>0.202168</td>\n",
       "      <td>0.000000</td>\n",
       "      <td>0.241715</td>\n",
       "      <td>...</td>\n",
       "      <td>0.170650</td>\n",
       "      <td>0.100063</td>\n",
       "      <td>0.231145</td>\n",
       "      <td>0.208084</td>\n",
       "      <td>0.195065</td>\n",
       "      <td>0.195398</td>\n",
       "      <td>0.200363</td>\n",
       "      <td>0.204617</td>\n",
       "      <td>0.202005</td>\n",
       "      <td>0.018839</td>\n",
       "    </tr>\n",
       "    <tr>\n",
       "      <th>paymentmethod</th>\n",
       "      <td>1.0</td>\n",
       "      <td>0.467586</td>\n",
       "      <td>0.214300</td>\n",
       "      <td>0.277528</td>\n",
       "      <td>0.368945</td>\n",
       "      <td>1.000000</td>\n",
       "      <td>0.398849</td>\n",
       "      <td>0.334563</td>\n",
       "      <td>0.000000</td>\n",
       "      <td>0.291989</td>\n",
       "      <td>...</td>\n",
       "      <td>0.222859</td>\n",
       "      <td>0.174953</td>\n",
       "      <td>0.323013</td>\n",
       "      <td>0.314888</td>\n",
       "      <td>0.292646</td>\n",
       "      <td>0.297187</td>\n",
       "      <td>0.316805</td>\n",
       "      <td>0.283902</td>\n",
       "      <td>0.284844</td>\n",
       "      <td>0.348275</td>\n",
       "    </tr>\n",
       "    <tr>\n",
       "      <th>monthlycharges</th>\n",
       "      <td>1.0</td>\n",
       "      <td>0.421848</td>\n",
       "      <td>0.225823</td>\n",
       "      <td>0.388557</td>\n",
       "      <td>0.467547</td>\n",
       "      <td>0.398849</td>\n",
       "      <td>1.000000</td>\n",
       "      <td>0.711015</td>\n",
       "      <td>0.005522</td>\n",
       "      <td>0.304546</td>\n",
       "      <td>...</td>\n",
       "      <td>0.182283</td>\n",
       "      <td>0.710293</td>\n",
       "      <td>0.919005</td>\n",
       "      <td>0.812548</td>\n",
       "      <td>0.818861</td>\n",
       "      <td>0.827363</td>\n",
       "      <td>0.816645</td>\n",
       "      <td>0.864821</td>\n",
       "      <td>0.863544</td>\n",
       "      <td>0.387649</td>\n",
       "    </tr>\n",
       "    <tr>\n",
       "      <th>totalcharges</th>\n",
       "      <td>1.0</td>\n",
       "      <td>0.773731</td>\n",
       "      <td>0.303758</td>\n",
       "      <td>0.470700</td>\n",
       "      <td>0.202168</td>\n",
       "      <td>0.334563</td>\n",
       "      <td>0.711015</td>\n",
       "      <td>1.000000</td>\n",
       "      <td>0.000000</td>\n",
       "      <td>0.136856</td>\n",
       "      <td>...</td>\n",
       "      <td>0.085809</td>\n",
       "      <td>0.467826</td>\n",
       "      <td>0.489363</td>\n",
       "      <td>0.516500</td>\n",
       "      <td>0.550605</td>\n",
       "      <td>0.558748</td>\n",
       "      <td>0.527978</td>\n",
       "      <td>0.555663</td>\n",
       "      <td>0.554074</td>\n",
       "      <td>0.847572</td>\n",
       "    </tr>\n",
       "    <tr>\n",
       "      <th>gender</th>\n",
       "      <td>1.0</td>\n",
       "      <td>0.018540</td>\n",
       "      <td>0.008800</td>\n",
       "      <td>0.000000</td>\n",
       "      <td>0.000000</td>\n",
       "      <td>0.000000</td>\n",
       "      <td>0.005522</td>\n",
       "      <td>0.000000</td>\n",
       "      <td>1.000000</td>\n",
       "      <td>0.000000</td>\n",
       "      <td>...</td>\n",
       "      <td>0.000000</td>\n",
       "      <td>0.000000</td>\n",
       "      <td>0.000000</td>\n",
       "      <td>0.000000</td>\n",
       "      <td>0.000000</td>\n",
       "      <td>0.000000</td>\n",
       "      <td>0.000000</td>\n",
       "      <td>0.000000</td>\n",
       "      <td>0.000000</td>\n",
       "      <td>0.000000</td>\n",
       "    </tr>\n",
       "    <tr>\n",
       "      <th>seniorcitizen</th>\n",
       "      <td>1.0</td>\n",
       "      <td>0.049516</td>\n",
       "      <td>0.085708</td>\n",
       "      <td>0.085800</td>\n",
       "      <td>0.241715</td>\n",
       "      <td>0.291989</td>\n",
       "      <td>0.304546</td>\n",
       "      <td>0.136856</td>\n",
       "      <td>0.000000</td>\n",
       "      <td>1.000000</td>\n",
       "      <td>...</td>\n",
       "      <td>0.323629</td>\n",
       "      <td>0.087978</td>\n",
       "      <td>0.160452</td>\n",
       "      <td>0.127108</td>\n",
       "      <td>0.109855</td>\n",
       "      <td>0.110029</td>\n",
       "      <td>0.135073</td>\n",
       "      <td>0.111610</td>\n",
       "      <td>0.113611</td>\n",
       "      <td>0.065128</td>\n",
       "    </tr>\n",
       "    <tr>\n",
       "      <th>partner</th>\n",
       "      <td>1.0</td>\n",
       "      <td>0.485513</td>\n",
       "      <td>0.227597</td>\n",
       "      <td>0.179294</td>\n",
       "      <td>0.010489</td>\n",
       "      <td>0.244661</td>\n",
       "      <td>0.204575</td>\n",
       "      <td>0.383135</td>\n",
       "      <td>0.000000</td>\n",
       "      <td>0.018075</td>\n",
       "      <td>...</td>\n",
       "      <td>0.651635</td>\n",
       "      <td>0.086495</td>\n",
       "      <td>0.000000</td>\n",
       "      <td>0.091140</td>\n",
       "      <td>0.091990</td>\n",
       "      <td>0.099685</td>\n",
       "      <td>0.076244</td>\n",
       "      <td>0.081850</td>\n",
       "      <td>0.077710</td>\n",
       "      <td>0.450246</td>\n",
       "    </tr>\n",
       "    <tr>\n",
       "      <th>dependents</th>\n",
       "      <td>1.0</td>\n",
       "      <td>0.201169</td>\n",
       "      <td>0.048710</td>\n",
       "      <td>0.146126</td>\n",
       "      <td>0.170650</td>\n",
       "      <td>0.222859</td>\n",
       "      <td>0.182283</td>\n",
       "      <td>0.085809</td>\n",
       "      <td>0.000000</td>\n",
       "      <td>0.323629</td>\n",
       "      <td>...</td>\n",
       "      <td>1.000000</td>\n",
       "      <td>0.011135</td>\n",
       "      <td>0.107328</td>\n",
       "      <td>0.116236</td>\n",
       "      <td>0.096785</td>\n",
       "      <td>0.093606</td>\n",
       "      <td>0.108747</td>\n",
       "      <td>0.087232</td>\n",
       "      <td>0.083895</td>\n",
       "      <td>0.197317</td>\n",
       "    </tr>\n",
       "    <tr>\n",
       "      <th>multiplelines</th>\n",
       "      <td>1.0</td>\n",
       "      <td>0.468346</td>\n",
       "      <td>0.105172</td>\n",
       "      <td>0.244802</td>\n",
       "      <td>0.100063</td>\n",
       "      <td>0.174953</td>\n",
       "      <td>0.710293</td>\n",
       "      <td>0.467826</td>\n",
       "      <td>0.000000</td>\n",
       "      <td>0.087978</td>\n",
       "      <td>...</td>\n",
       "      <td>0.011135</td>\n",
       "      <td>1.000000</td>\n",
       "      <td>0.739821</td>\n",
       "      <td>0.540029</td>\n",
       "      <td>0.562805</td>\n",
       "      <td>0.564619</td>\n",
       "      <td>0.540744</td>\n",
       "      <td>0.586273</td>\n",
       "      <td>0.586923</td>\n",
       "      <td>0.347224</td>\n",
       "    </tr>\n",
       "    <tr>\n",
       "      <th>internetservice</th>\n",
       "      <td>1.0</td>\n",
       "      <td>0.185601</td>\n",
       "      <td>0.056279</td>\n",
       "      <td>0.503776</td>\n",
       "      <td>0.231145</td>\n",
       "      <td>0.323013</td>\n",
       "      <td>0.919005</td>\n",
       "      <td>0.489363</td>\n",
       "      <td>0.000000</td>\n",
       "      <td>0.160452</td>\n",
       "      <td>...</td>\n",
       "      <td>0.107328</td>\n",
       "      <td>0.739821</td>\n",
       "      <td>1.000000</td>\n",
       "      <td>0.949461</td>\n",
       "      <td>0.942839</td>\n",
       "      <td>0.942811</td>\n",
       "      <td>0.948878</td>\n",
       "      <td>0.946750</td>\n",
       "      <td>0.946275</td>\n",
       "      <td>0.058903</td>\n",
       "    </tr>\n",
       "    <tr>\n",
       "      <th>onlinesecurity</th>\n",
       "      <td>1.0</td>\n",
       "      <td>0.459336</td>\n",
       "      <td>0.058630</td>\n",
       "      <td>0.636227</td>\n",
       "      <td>0.208084</td>\n",
       "      <td>0.314888</td>\n",
       "      <td>0.812548</td>\n",
       "      <td>0.516500</td>\n",
       "      <td>0.000000</td>\n",
       "      <td>0.127108</td>\n",
       "      <td>...</td>\n",
       "      <td>0.116236</td>\n",
       "      <td>0.540029</td>\n",
       "      <td>0.949461</td>\n",
       "      <td>1.000000</td>\n",
       "      <td>0.947213</td>\n",
       "      <td>0.946776</td>\n",
       "      <td>0.952637</td>\n",
       "      <td>0.943078</td>\n",
       "      <td>0.943254</td>\n",
       "      <td>0.345964</td>\n",
       "    </tr>\n",
       "    <tr>\n",
       "      <th>onlinebackup</th>\n",
       "      <td>1.0</td>\n",
       "      <td>0.495096</td>\n",
       "      <td>0.089771</td>\n",
       "      <td>0.580887</td>\n",
       "      <td>0.195065</td>\n",
       "      <td>0.292646</td>\n",
       "      <td>0.818861</td>\n",
       "      <td>0.550605</td>\n",
       "      <td>0.000000</td>\n",
       "      <td>0.109855</td>\n",
       "      <td>...</td>\n",
       "      <td>0.096785</td>\n",
       "      <td>0.562805</td>\n",
       "      <td>0.942839</td>\n",
       "      <td>0.947213</td>\n",
       "      <td>1.000000</td>\n",
       "      <td>0.947480</td>\n",
       "      <td>0.947746</td>\n",
       "      <td>0.945784</td>\n",
       "      <td>0.945409</td>\n",
       "      <td>0.367533</td>\n",
       "    </tr>\n",
       "    <tr>\n",
       "      <th>deviceprotection</th>\n",
       "      <td>1.0</td>\n",
       "      <td>0.501372</td>\n",
       "      <td>0.085665</td>\n",
       "      <td>0.630968</td>\n",
       "      <td>0.195398</td>\n",
       "      <td>0.297187</td>\n",
       "      <td>0.827363</td>\n",
       "      <td>0.558748</td>\n",
       "      <td>0.000000</td>\n",
       "      <td>0.110029</td>\n",
       "      <td>...</td>\n",
       "      <td>0.093606</td>\n",
       "      <td>0.564619</td>\n",
       "      <td>0.942811</td>\n",
       "      <td>0.946776</td>\n",
       "      <td>0.947480</td>\n",
       "      <td>1.000000</td>\n",
       "      <td>0.950238</td>\n",
       "      <td>0.952815</td>\n",
       "      <td>0.953754</td>\n",
       "      <td>0.376886</td>\n",
       "    </tr>\n",
       "    <tr>\n",
       "      <th>techsupport</th>\n",
       "      <td>1.0</td>\n",
       "      <td>0.454019</td>\n",
       "      <td>0.051442</td>\n",
       "      <td>0.671126</td>\n",
       "      <td>0.200363</td>\n",
       "      <td>0.316805</td>\n",
       "      <td>0.816645</td>\n",
       "      <td>0.527978</td>\n",
       "      <td>0.000000</td>\n",
       "      <td>0.135073</td>\n",
       "      <td>...</td>\n",
       "      <td>0.108747</td>\n",
       "      <td>0.540744</td>\n",
       "      <td>0.948878</td>\n",
       "      <td>0.952637</td>\n",
       "      <td>0.947746</td>\n",
       "      <td>0.950238</td>\n",
       "      <td>1.000000</td>\n",
       "      <td>0.946386</td>\n",
       "      <td>0.946471</td>\n",
       "      <td>0.352799</td>\n",
       "    </tr>\n",
       "    <tr>\n",
       "      <th>streamingtv</th>\n",
       "      <td>1.0</td>\n",
       "      <td>0.418173</td>\n",
       "      <td>0.078554</td>\n",
       "      <td>0.548723</td>\n",
       "      <td>0.204617</td>\n",
       "      <td>0.283902</td>\n",
       "      <td>0.864821</td>\n",
       "      <td>0.555663</td>\n",
       "      <td>0.000000</td>\n",
       "      <td>0.111610</td>\n",
       "      <td>...</td>\n",
       "      <td>0.087232</td>\n",
       "      <td>0.586273</td>\n",
       "      <td>0.946750</td>\n",
       "      <td>0.943078</td>\n",
       "      <td>0.945784</td>\n",
       "      <td>0.952815</td>\n",
       "      <td>0.946386</td>\n",
       "      <td>1.000000</td>\n",
       "      <td>0.965356</td>\n",
       "      <td>0.308923</td>\n",
       "    </tr>\n",
       "    <tr>\n",
       "      <th>streamingmovies</th>\n",
       "      <td>1.0</td>\n",
       "      <td>0.429770</td>\n",
       "      <td>0.086371</td>\n",
       "      <td>0.553780</td>\n",
       "      <td>0.202005</td>\n",
       "      <td>0.284844</td>\n",
       "      <td>0.863544</td>\n",
       "      <td>0.554074</td>\n",
       "      <td>0.000000</td>\n",
       "      <td>0.113611</td>\n",
       "      <td>...</td>\n",
       "      <td>0.083895</td>\n",
       "      <td>0.586923</td>\n",
       "      <td>0.946275</td>\n",
       "      <td>0.943254</td>\n",
       "      <td>0.945409</td>\n",
       "      <td>0.953754</td>\n",
       "      <td>0.946471</td>\n",
       "      <td>0.965356</td>\n",
       "      <td>1.000000</td>\n",
       "      <td>0.307383</td>\n",
       "    </tr>\n",
       "    <tr>\n",
       "      <th>length</th>\n",
       "      <td>1.0</td>\n",
       "      <td>0.978241</td>\n",
       "      <td>0.374101</td>\n",
       "      <td>0.635623</td>\n",
       "      <td>0.018839</td>\n",
       "      <td>0.348275</td>\n",
       "      <td>0.387649</td>\n",
       "      <td>0.847572</td>\n",
       "      <td>0.000000</td>\n",
       "      <td>0.065128</td>\n",
       "      <td>...</td>\n",
       "      <td>0.197317</td>\n",
       "      <td>0.347224</td>\n",
       "      <td>0.058903</td>\n",
       "      <td>0.345964</td>\n",
       "      <td>0.367533</td>\n",
       "      <td>0.376886</td>\n",
       "      <td>0.352799</td>\n",
       "      <td>0.308923</td>\n",
       "      <td>0.307383</td>\n",
       "      <td>1.000000</td>\n",
       "    </tr>\n",
       "  </tbody>\n",
       "</table>\n",
       "<p>21 rows × 21 columns</p>\n",
       "</div>"
      ],
      "text/plain": [
       "                  customerid  begindate   enddate      type  paperlessbilling  \\\n",
       "customerid               1.0   1.000000  1.000000  1.000000          1.000000   \n",
       "begindate                1.0   1.000000  0.461977  0.765275          0.078664   \n",
       "enddate                  1.0   0.461977  1.000000  0.094622          0.082789   \n",
       "type                     1.0   0.765275  0.094622  1.000000          0.106151   \n",
       "paperlessbilling         1.0   0.078664  0.082789  0.106151          1.000000   \n",
       "paymentmethod            1.0   0.467586  0.214300  0.277528          0.368945   \n",
       "monthlycharges           1.0   0.421848  0.225823  0.388557          0.467547   \n",
       "totalcharges             1.0   0.773731  0.303758  0.470700          0.202168   \n",
       "gender                   1.0   0.018540  0.008800  0.000000          0.000000   \n",
       "seniorcitizen            1.0   0.049516  0.085708  0.085800          0.241715   \n",
       "partner                  1.0   0.485513  0.227597  0.179294          0.010489   \n",
       "dependents               1.0   0.201169  0.048710  0.146126          0.170650   \n",
       "multiplelines            1.0   0.468346  0.105172  0.244802          0.100063   \n",
       "internetservice          1.0   0.185601  0.056279  0.503776          0.231145   \n",
       "onlinesecurity           1.0   0.459336  0.058630  0.636227          0.208084   \n",
       "onlinebackup             1.0   0.495096  0.089771  0.580887          0.195065   \n",
       "deviceprotection         1.0   0.501372  0.085665  0.630968          0.195398   \n",
       "techsupport              1.0   0.454019  0.051442  0.671126          0.200363   \n",
       "streamingtv              1.0   0.418173  0.078554  0.548723          0.204617   \n",
       "streamingmovies          1.0   0.429770  0.086371  0.553780          0.202005   \n",
       "length                   1.0   0.978241  0.374101  0.635623          0.018839   \n",
       "\n",
       "                  paymentmethod  monthlycharges  totalcharges    gender  \\\n",
       "customerid             1.000000        1.000000      1.000000  1.000000   \n",
       "begindate              0.467586        0.421848      0.773731  0.018540   \n",
       "enddate                0.214300        0.225823      0.303758  0.008800   \n",
       "type                   0.277528        0.388557      0.470700  0.000000   \n",
       "paperlessbilling       0.368945        0.467547      0.202168  0.000000   \n",
       "paymentmethod          1.000000        0.398849      0.334563  0.000000   \n",
       "monthlycharges         0.398849        1.000000      0.711015  0.005522   \n",
       "totalcharges           0.334563        0.711015      1.000000  0.000000   \n",
       "gender                 0.000000        0.005522      0.000000  1.000000   \n",
       "seniorcitizen          0.291989        0.304546      0.136856  0.000000   \n",
       "partner                0.244661        0.204575      0.383135  0.000000   \n",
       "dependents             0.222859        0.182283      0.085809  0.000000   \n",
       "multiplelines          0.174953        0.710293      0.467826  0.000000   \n",
       "internetservice        0.323013        0.919005      0.489363  0.000000   \n",
       "onlinesecurity         0.314888        0.812548      0.516500  0.000000   \n",
       "onlinebackup           0.292646        0.818861      0.550605  0.000000   \n",
       "deviceprotection       0.297187        0.827363      0.558748  0.000000   \n",
       "techsupport            0.316805        0.816645      0.527978  0.000000   \n",
       "streamingtv            0.283902        0.864821      0.555663  0.000000   \n",
       "streamingmovies        0.284844        0.863544      0.554074  0.000000   \n",
       "length                 0.348275        0.387649      0.847572  0.000000   \n",
       "\n",
       "                  seniorcitizen  ...  dependents  multiplelines  \\\n",
       "customerid             1.000000  ...    1.000000       1.000000   \n",
       "begindate              0.049516  ...    0.201169       0.468346   \n",
       "enddate                0.085708  ...    0.048710       0.105172   \n",
       "type                   0.085800  ...    0.146126       0.244802   \n",
       "paperlessbilling       0.241715  ...    0.170650       0.100063   \n",
       "paymentmethod          0.291989  ...    0.222859       0.174953   \n",
       "monthlycharges         0.304546  ...    0.182283       0.710293   \n",
       "totalcharges           0.136856  ...    0.085809       0.467826   \n",
       "gender                 0.000000  ...    0.000000       0.000000   \n",
       "seniorcitizen          1.000000  ...    0.323629       0.087978   \n",
       "partner                0.018075  ...    0.651635       0.086495   \n",
       "dependents             0.323629  ...    1.000000       0.011135   \n",
       "multiplelines          0.087978  ...    0.011135       1.000000   \n",
       "internetservice        0.160452  ...    0.107328       0.739821   \n",
       "onlinesecurity         0.127108  ...    0.116236       0.540029   \n",
       "onlinebackup           0.109855  ...    0.096785       0.562805   \n",
       "deviceprotection       0.110029  ...    0.093606       0.564619   \n",
       "techsupport            0.135073  ...    0.108747       0.540744   \n",
       "streamingtv            0.111610  ...    0.087232       0.586273   \n",
       "streamingmovies        0.113611  ...    0.083895       0.586923   \n",
       "length                 0.065128  ...    0.197317       0.347224   \n",
       "\n",
       "                  internetservice  onlinesecurity  onlinebackup  \\\n",
       "customerid               1.000000        1.000000      1.000000   \n",
       "begindate                0.185601        0.459336      0.495096   \n",
       "enddate                  0.056279        0.058630      0.089771   \n",
       "type                     0.503776        0.636227      0.580887   \n",
       "paperlessbilling         0.231145        0.208084      0.195065   \n",
       "paymentmethod            0.323013        0.314888      0.292646   \n",
       "monthlycharges           0.919005        0.812548      0.818861   \n",
       "totalcharges             0.489363        0.516500      0.550605   \n",
       "gender                   0.000000        0.000000      0.000000   \n",
       "seniorcitizen            0.160452        0.127108      0.109855   \n",
       "partner                  0.000000        0.091140      0.091990   \n",
       "dependents               0.107328        0.116236      0.096785   \n",
       "multiplelines            0.739821        0.540029      0.562805   \n",
       "internetservice          1.000000        0.949461      0.942839   \n",
       "onlinesecurity           0.949461        1.000000      0.947213   \n",
       "onlinebackup             0.942839        0.947213      1.000000   \n",
       "deviceprotection         0.942811        0.946776      0.947480   \n",
       "techsupport              0.948878        0.952637      0.947746   \n",
       "streamingtv              0.946750        0.943078      0.945784   \n",
       "streamingmovies          0.946275        0.943254      0.945409   \n",
       "length                   0.058903        0.345964      0.367533   \n",
       "\n",
       "                  deviceprotection  techsupport  streamingtv  streamingmovies  \\\n",
       "customerid                1.000000     1.000000     1.000000         1.000000   \n",
       "begindate                 0.501372     0.454019     0.418173         0.429770   \n",
       "enddate                   0.085665     0.051442     0.078554         0.086371   \n",
       "type                      0.630968     0.671126     0.548723         0.553780   \n",
       "paperlessbilling          0.195398     0.200363     0.204617         0.202005   \n",
       "paymentmethod             0.297187     0.316805     0.283902         0.284844   \n",
       "monthlycharges            0.827363     0.816645     0.864821         0.863544   \n",
       "totalcharges              0.558748     0.527978     0.555663         0.554074   \n",
       "gender                    0.000000     0.000000     0.000000         0.000000   \n",
       "seniorcitizen             0.110029     0.135073     0.111610         0.113611   \n",
       "partner                   0.099685     0.076244     0.081850         0.077710   \n",
       "dependents                0.093606     0.108747     0.087232         0.083895   \n",
       "multiplelines             0.564619     0.540744     0.586273         0.586923   \n",
       "internetservice           0.942811     0.948878     0.946750         0.946275   \n",
       "onlinesecurity            0.946776     0.952637     0.943078         0.943254   \n",
       "onlinebackup              0.947480     0.947746     0.945784         0.945409   \n",
       "deviceprotection          1.000000     0.950238     0.952815         0.953754   \n",
       "techsupport               0.950238     1.000000     0.946386         0.946471   \n",
       "streamingtv               0.952815     0.946386     1.000000         0.965356   \n",
       "streamingmovies           0.953754     0.946471     0.965356         1.000000   \n",
       "length                    0.376886     0.352799     0.308923         0.307383   \n",
       "\n",
       "                    length  \n",
       "customerid        1.000000  \n",
       "begindate         0.978241  \n",
       "enddate           0.374101  \n",
       "type              0.635623  \n",
       "paperlessbilling  0.018839  \n",
       "paymentmethod     0.348275  \n",
       "monthlycharges    0.387649  \n",
       "totalcharges      0.847572  \n",
       "gender            0.000000  \n",
       "seniorcitizen     0.065128  \n",
       "partner           0.450246  \n",
       "dependents        0.197317  \n",
       "multiplelines     0.347224  \n",
       "internetservice   0.058903  \n",
       "onlinesecurity    0.345964  \n",
       "onlinebackup      0.367533  \n",
       "deviceprotection  0.376886  \n",
       "techsupport       0.352799  \n",
       "streamingtv       0.308923  \n",
       "streamingmovies   0.307383  \n",
       "length            1.000000  \n",
       "\n",
       "[21 rows x 21 columns]"
      ]
     },
     "execution_count": 73,
     "metadata": {},
     "output_type": "execute_result"
    }
   ],
   "source": [
    "df.phik_matrix()"
   ]
  },
  {
   "cell_type": "code",
   "execution_count": 74,
   "id": "d8838cca",
   "metadata": {},
   "outputs": [
    {
     "name": "stdout",
     "output_type": "stream",
     "text": [
      "interval columns not set, guessing: ['monthlycharges', 'totalcharges', 'seniorcitizen', 'length']\n"
     ]
    },
    {
     "name": "stderr",
     "output_type": "stream",
     "text": [
      "C:\\Users\\krulo\\anaconda3\\lib\\site-packages\\phik\\data_quality.py:59: UserWarning: The number of unique values of variable customerid is large: 7032. Are you sure this is not an interval variable? Analysis for pairs of variables including customerid can be slow.\n",
      "  warnings.warn(\n"
     ]
    },
    {
     "data": {
      "image/png": "[encoded data removed]",
      "text/plain": [
       "<Figure size 720x720 with 2 Axes>"
      ]
     },
     "metadata": {},
     "output_type": "display_data"
    }
   ],
   "source": [
    "\n",
    "sns.set(rc={\"figure.figsize\":(10, 10)})\n",
    "sns.heatmap(df.phik_matrix())\n",
    "\n",
    "plt.show()"
   ]
  },
  {
   "cell_type": "markdown",
   "id": "cdbb3c12",
   "metadata": {},
   "source": [
    "#### Анализ на мультиколлинеарность: выводы\n",
    "\n",
    "    1. Из-за неинформативности можно будет удалить столбец customerID\n",
    "    2. Нулевую или очень близку к нулевой корреляцию показыват столбеw gender\n",
    "    3. Пул интернет-сервисов показыват очень высокую крееляцию друг с другом. Вероятно, они продавались пакетом или шли в качестве подарка для удержания также пакетом"
   ]
  },
  {
   "cell_type": "markdown",
   "id": "d7688260",
   "metadata": {},
   "source": [
    "#### Исследовательский анализ данных: выводы\n",
    "\n",
    "    1. Мы определили целевой показатель нашего исследования и свели проект к решению задачи бинарной классификации.\n",
    "    2. Анализ целевого показателя указывает на дисбалланс классов. Будем разбиратся с ним позднее. \n",
    "    3. С инструментальной точки зрения далее мы будем работать с неприрывными и категориальными (бинарными) перменными.\n",
    "    \n",
    "    4. Есть ряд признаков, в которых распределение оставшихся и ушедших клиентов совпадают, среди них:\n",
    "            type (периодичность оплаты)\n",
    "            paperlessbilling (возможность получить электронный платежный документ)\n",
    "            paymentmethod (способ оплаты)\n",
    "            seniorcitizen (наличие пенсионного статуса)\n",
    "            dependents (наличие иждевенцев)\n",
    "            multiplelines (наличие многоканальной связи)\n",
    "            internetservice (технология проведения интеренета)\n",
    "            onlinesecurity (блокировка нежелательных сайтов)\n",
    "            techsupport (обращения в тех поддержку)\n",
    "            \n",
    "    5. Есть ряд признаков, в которых распределение оставшихся и ушедших клиентов НЕ совпадают, среди них:\n",
    "            monthlycharges (сумма ежемесячной оплаты)\n",
    "            totalcharges (общая сумма трат на сервисы)\n",
    "            gender (пол)\n",
    "            partner (наличие супруги / супруга)\n",
    "            onlinebackup (использование облачного хранилища)\n",
    "            deviceprotection (использование антивируса)\n",
    "            streamingtv (использование телевидения)\n",
    "            streamingmovies (использование каталога фильмов)"
   ]
  },
  {
   "cell_type": "markdown",
   "id": "7cf37e34",
   "metadata": {},
   "source": [
    "## Построение моделей\n"
   ]
  },
  {
   "cell_type": "markdown",
   "id": "d78bfb37",
   "metadata": {},
   "source": [
    "### Подготовка признаков"
   ]
  },
  {
   "cell_type": "markdown",
   "id": "48804879",
   "metadata": {},
   "source": [
    "Для работы модели будет быстрее и удобнее работать с числовым выражением признаков. Поэтому сейчас мы закодируем признаки в числа."
   ]
  },
  {
   "cell_type": "code",
   "execution_count": 75,
   "id": "eb31ae9e",
   "metadata": {},
   "outputs": [],
   "source": [
    "# время начала обслуживания и customerID удалим как неинформативные\n",
    "df = df.drop(['customerid','gender', 'begindate'], axis=1)"
   ]
  },
  {
   "cell_type": "code",
   "execution_count": 76,
   "id": "122e89b8",
   "metadata": {},
   "outputs": [],
   "source": [
    "# приведем таргет в цифровой вид\n",
    "df['enddate'] = df['enddate'].astype('int')"
   ]
  },
  {
   "cell_type": "code",
   "execution_count": 77,
   "id": "ad442652",
   "metadata": {},
   "outputs": [],
   "source": [
    "# Сформируем признаки и целевой показатель\n",
    "features =df.drop(['enddate'], axis=1)\n",
    "target = df['enddate']"
   ]
  },
  {
   "cell_type": "code",
   "execution_count": 78,
   "id": "602cf021",
   "metadata": {},
   "outputs": [
    {
     "name": "stdout",
     "output_type": "stream",
     "text": [
      "(5274, 17)\n",
      "(5274,)\n",
      "\n",
      "(1758, 17)\n",
      "(1758,)\n"
     ]
    }
   ],
   "source": [
    "# Формируем обучающую и тестовую выборки\n",
    "# Проверяем их по форме\n",
    "\n",
    "\n",
    "features_train, features_test, target_train, target_test = train_test_split(features, target, test_size = 0.25, \\\n",
    "                                                                              random_state=RANDOM_STATE)\n",
    "\n",
    "\n",
    "#features_train, features_valid, target_train, target_valid = train_test_split(features_train, target_train, test_size = 0.25, random_state=RANDOM_STATE)\n",
    "\n",
    "print(features_train.shape)\n",
    "print(target_train.shape)\n",
    "print()\n",
    "#print(features_valid.shape)\n",
    "#print(target_valid.shape)\n",
    "#print()\n",
    "print(features_test.shape)\n",
    "print(target_test.shape)"
   ]
  },
  {
   "cell_type": "code",
   "execution_count": 79,
   "id": "ff6c3d4d",
   "metadata": {},
   "outputs": [],
   "source": [
    "from sklearn. preprocessing import OneHotEncoder"
   ]
  },
  {
   "cell_type": "code",
   "execution_count": 80,
   "id": "95fd6e9f",
   "metadata": {},
   "outputs": [],
   "source": [
    "### Запускаем Pipeline\n",
    "from sklearn.pipeline import Pipeline\n",
    "from sklearn.preprocessing import StandardScaler"
   ]
  },
  {
   "cell_type": "code",
   "execution_count": 81,
   "id": "1ba37f3d",
   "metadata": {},
   "outputs": [],
   "source": [
    "# Указываем модели для прогнозирования\n",
    "\n",
    "clf1 = DecisionTreeClassifier(random_state=RANDOM_STATE)\n",
    "\n",
    "clf2 = RandomForestClassifier(random_state=RANDOM_STATE)\n",
    "\n",
    "clf3 = CatBoostClassifier(random_state=RANDOM_STATE)\n",
    "\n",
    "clf4 = LogisticRegression(random_state=RANDOM_STATE)"
   ]
  },
  {
   "cell_type": "code",
   "execution_count": 82,
   "id": "7ea4f845",
   "metadata": {},
   "outputs": [],
   "source": [
    "\n",
    "df['seniorcitizen ']=df['seniorcitizen'].astype('str')"
   ]
  },
  {
   "cell_type": "code",
   "execution_count": 83,
   "id": "5c85da55",
   "metadata": {},
   "outputs": [
    {
     "name": "stdout",
     "output_type": "stream",
     "text": [
      "0:\tlearn: 0.6321742\ttotal: 149ms\tremaining: 2m 28s\n",
      "1:\tlearn: 0.5812007\ttotal: 155ms\tremaining: 1m 17s\n",
      "2:\tlearn: 0.5376595\ttotal: 159ms\tremaining: 52.9s\n",
      "3:\tlearn: 0.5024701\ttotal: 164ms\tremaining: 40.7s\n",
      "4:\tlearn: 0.4710785\ttotal: 168ms\tremaining: 33.5s\n",
      "5:\tlearn: 0.4488699\ttotal: 172ms\tremaining: 28.6s\n",
      "6:\tlearn: 0.4288354\ttotal: 180ms\tremaining: 25.6s\n",
      "7:\tlearn: 0.4123054\ttotal: 185ms\tremaining: 22.9s\n",
      "8:\tlearn: 0.4018173\ttotal: 189ms\tremaining: 20.8s\n",
      "9:\tlearn: 0.3908370\ttotal: 193ms\tremaining: 19.1s\n",
      "10:\tlearn: 0.3811118\ttotal: 198ms\tremaining: 17.8s\n",
      "11:\tlearn: 0.3742069\ttotal: 202ms\tremaining: 16.6s\n",
      "12:\tlearn: 0.3667193\ttotal: 206ms\tremaining: 15.7s\n",
      "13:\tlearn: 0.3616763\ttotal: 211ms\tremaining: 14.8s\n",
      "14:\tlearn: 0.3571354\ttotal: 215ms\tremaining: 14.1s\n",
      "15:\tlearn: 0.3541801\ttotal: 219ms\tremaining: 13.5s\n",
      "16:\tlearn: 0.3514561\ttotal: 224ms\tremaining: 13s\n",
      "17:\tlearn: 0.3482752\ttotal: 228ms\tremaining: 12.5s\n",
      "18:\tlearn: 0.3451838\ttotal: 233ms\tremaining: 12s\n",
      "19:\tlearn: 0.3439241\ttotal: 237ms\tremaining: 11.6s\n",
      "20:\tlearn: 0.3418715\ttotal: 241ms\tremaining: 11.2s\n",
      "21:\tlearn: 0.3406628\ttotal: 245ms\tremaining: 10.9s\n",
      "22:\tlearn: 0.3379946\ttotal: 250ms\tremaining: 10.6s\n",
      "23:\tlearn: 0.3363166\ttotal: 254ms\tremaining: 10.3s\n",
      "24:\tlearn: 0.3346711\ttotal: 259ms\tremaining: 10.1s\n",
      "25:\tlearn: 0.3332286\ttotal: 264ms\tremaining: 9.88s\n",
      "26:\tlearn: 0.3316531\ttotal: 268ms\tremaining: 9.66s\n",
      "27:\tlearn: 0.3305871\ttotal: 272ms\tremaining: 9.46s\n",
      "28:\tlearn: 0.3288158\ttotal: 277ms\tremaining: 9.26s\n",
      "29:\tlearn: 0.3278946\ttotal: 281ms\tremaining: 9.08s\n",
      "30:\tlearn: 0.3270826\ttotal: 285ms\tremaining: 8.91s\n",
      "31:\tlearn: 0.3259018\ttotal: 290ms\tremaining: 8.76s\n",
      "32:\tlearn: 0.3252268\ttotal: 294ms\tremaining: 8.61s\n",
      "33:\tlearn: 0.3241413\ttotal: 298ms\tremaining: 8.47s\n",
      "34:\tlearn: 0.3235157\ttotal: 303ms\tremaining: 8.35s\n",
      "35:\tlearn: 0.3229527\ttotal: 307ms\tremaining: 8.22s\n",
      "36:\tlearn: 0.3219965\ttotal: 312ms\tremaining: 8.11s\n",
      "37:\tlearn: 0.3211738\ttotal: 316ms\tremaining: 7.99s\n",
      "38:\tlearn: 0.3206438\ttotal: 320ms\tremaining: 7.89s\n",
      "39:\tlearn: 0.3201284\ttotal: 326ms\tremaining: 7.82s\n",
      "40:\tlearn: 0.3195395\ttotal: 330ms\tremaining: 7.73s\n",
      "41:\tlearn: 0.3183418\ttotal: 335ms\tremaining: 7.64s\n",
      "42:\tlearn: 0.3172470\ttotal: 340ms\tremaining: 7.56s\n",
      "43:\tlearn: 0.3162820\ttotal: 344ms\tremaining: 7.48s\n",
      "44:\tlearn: 0.3157701\ttotal: 349ms\tremaining: 7.4s\n",
      "45:\tlearn: 0.3153702\ttotal: 353ms\tremaining: 7.33s\n",
      "46:\tlearn: 0.3146252\ttotal: 358ms\tremaining: 7.26s\n",
      "47:\tlearn: 0.3142471\ttotal: 362ms\tremaining: 7.18s\n",
      "48:\tlearn: 0.3130965\ttotal: 367ms\tremaining: 7.12s\n",
      "49:\tlearn: 0.3124114\ttotal: 371ms\tremaining: 7.05s\n",
      "50:\tlearn: 0.3115563\ttotal: 375ms\tremaining: 6.98s\n",
      "51:\tlearn: 0.3111432\ttotal: 380ms\tremaining: 6.92s\n",
      "52:\tlearn: 0.3104098\ttotal: 384ms\tremaining: 6.86s\n",
      "53:\tlearn: 0.3099109\ttotal: 389ms\tremaining: 6.81s\n",
      "54:\tlearn: 0.3097137\ttotal: 393ms\tremaining: 6.75s\n",
      "55:\tlearn: 0.3091449\ttotal: 397ms\tremaining: 6.7s\n",
      "56:\tlearn: 0.3081285\ttotal: 402ms\tremaining: 6.65s\n",
      "57:\tlearn: 0.3077656\ttotal: 406ms\tremaining: 6.6s\n",
      "58:\tlearn: 0.3076168\ttotal: 411ms\tremaining: 6.55s\n",
      "59:\tlearn: 0.3072950\ttotal: 415ms\tremaining: 6.5s\n",
      "60:\tlearn: 0.3068045\ttotal: 419ms\tremaining: 6.46s\n",
      "61:\tlearn: 0.3064094\ttotal: 424ms\tremaining: 6.42s\n",
      "62:\tlearn: 0.3059728\ttotal: 429ms\tremaining: 6.37s\n",
      "63:\tlearn: 0.3057307\ttotal: 433ms\tremaining: 6.33s\n",
      "64:\tlearn: 0.3054171\ttotal: 438ms\tremaining: 6.29s\n",
      "65:\tlearn: 0.3052407\ttotal: 442ms\tremaining: 6.25s\n",
      "66:\tlearn: 0.3049750\ttotal: 446ms\tremaining: 6.21s\n",
      "67:\tlearn: 0.3046125\ttotal: 451ms\tremaining: 6.18s\n",
      "68:\tlearn: 0.3041881\ttotal: 455ms\tremaining: 6.14s\n",
      "69:\tlearn: 0.3037681\ttotal: 460ms\tremaining: 6.11s\n",
      "70:\tlearn: 0.3036613\ttotal: 463ms\tremaining: 6.06s\n",
      "71:\tlearn: 0.3032710\ttotal: 468ms\tremaining: 6.03s\n",
      "72:\tlearn: 0.3029119\ttotal: 472ms\tremaining: 6s\n",
      "73:\tlearn: 0.3025566\ttotal: 477ms\tremaining: 5.97s\n",
      "74:\tlearn: 0.3022624\ttotal: 482ms\tremaining: 5.94s\n",
      "75:\tlearn: 0.3014221\ttotal: 486ms\tremaining: 5.91s\n",
      "76:\tlearn: 0.3012823\ttotal: 490ms\tremaining: 5.88s\n",
      "77:\tlearn: 0.3010537\ttotal: 495ms\tremaining: 5.85s\n",
      "78:\tlearn: 0.3007710\ttotal: 499ms\tremaining: 5.82s\n",
      "79:\tlearn: 0.3003202\ttotal: 504ms\tremaining: 5.8s\n",
      "80:\tlearn: 0.2998682\ttotal: 509ms\tremaining: 5.77s\n",
      "81:\tlearn: 0.2995901\ttotal: 514ms\tremaining: 5.75s\n",
      "82:\tlearn: 0.2991653\ttotal: 518ms\tremaining: 5.72s\n",
      "83:\tlearn: 0.2983923\ttotal: 523ms\tremaining: 5.7s\n",
      "84:\tlearn: 0.2979675\ttotal: 527ms\tremaining: 5.67s\n",
      "85:\tlearn: 0.2973977\ttotal: 531ms\tremaining: 5.65s\n",
      "86:\tlearn: 0.2972046\ttotal: 536ms\tremaining: 5.63s\n",
      "87:\tlearn: 0.2968239\ttotal: 541ms\tremaining: 5.6s\n",
      "88:\tlearn: 0.2963116\ttotal: 545ms\tremaining: 5.58s\n",
      "89:\tlearn: 0.2959823\ttotal: 550ms\tremaining: 5.56s\n",
      "90:\tlearn: 0.2956796\ttotal: 554ms\tremaining: 5.53s\n",
      "91:\tlearn: 0.2953971\ttotal: 558ms\tremaining: 5.51s\n",
      "92:\tlearn: 0.2949083\ttotal: 563ms\tremaining: 5.49s\n",
      "93:\tlearn: 0.2945953\ttotal: 567ms\tremaining: 5.47s\n",
      "94:\tlearn: 0.2933255\ttotal: 572ms\tremaining: 5.44s\n",
      "95:\tlearn: 0.2925804\ttotal: 576ms\tremaining: 5.42s\n",
      "96:\tlearn: 0.2915809\ttotal: 580ms\tremaining: 5.4s\n",
      "97:\tlearn: 0.2911353\ttotal: 584ms\tremaining: 5.38s\n",
      "98:\tlearn: 0.2904790\ttotal: 589ms\tremaining: 5.36s\n",
      "99:\tlearn: 0.2897052\ttotal: 594ms\tremaining: 5.34s\n",
      "100:\tlearn: 0.2895948\ttotal: 598ms\tremaining: 5.32s\n",
      "101:\tlearn: 0.2893363\ttotal: 603ms\tremaining: 5.3s\n",
      "102:\tlearn: 0.2891344\ttotal: 607ms\tremaining: 5.29s\n",
      "103:\tlearn: 0.2887330\ttotal: 611ms\tremaining: 5.27s\n",
      "104:\tlearn: 0.2881591\ttotal: 616ms\tremaining: 5.25s\n",
      "105:\tlearn: 0.2869727\ttotal: 620ms\tremaining: 5.23s\n",
      "106:\tlearn: 0.2857619\ttotal: 625ms\tremaining: 5.22s\n",
      "107:\tlearn: 0.2852191\ttotal: 630ms\tremaining: 5.2s\n",
      "108:\tlearn: 0.2839462\ttotal: 634ms\tremaining: 5.18s\n",
      "109:\tlearn: 0.2834203\ttotal: 639ms\tremaining: 5.17s\n",
      "110:\tlearn: 0.2821730\ttotal: 643ms\tremaining: 5.15s\n",
      "111:\tlearn: 0.2818327\ttotal: 647ms\tremaining: 5.13s\n",
      "112:\tlearn: 0.2810201\ttotal: 652ms\tremaining: 5.12s\n",
      "113:\tlearn: 0.2803018\ttotal: 656ms\tremaining: 5.1s\n",
      "114:\tlearn: 0.2798393\ttotal: 661ms\tremaining: 5.08s\n",
      "115:\tlearn: 0.2784833\ttotal: 665ms\tremaining: 5.07s\n",
      "116:\tlearn: 0.2775860\ttotal: 670ms\tremaining: 5.05s\n",
      "117:\tlearn: 0.2771304\ttotal: 674ms\tremaining: 5.04s\n",
      "118:\tlearn: 0.2767611\ttotal: 679ms\tremaining: 5.03s\n",
      "119:\tlearn: 0.2764514\ttotal: 685ms\tremaining: 5.02s\n",
      "120:\tlearn: 0.2757044\ttotal: 689ms\tremaining: 5.01s\n",
      "121:\tlearn: 0.2741179\ttotal: 694ms\tremaining: 5s\n",
      "122:\tlearn: 0.2738051\ttotal: 699ms\tremaining: 4.98s\n",
      "123:\tlearn: 0.2732794\ttotal: 703ms\tremaining: 4.97s\n",
      "124:\tlearn: 0.2730302\ttotal: 708ms\tremaining: 4.96s\n",
      "125:\tlearn: 0.2722565\ttotal: 713ms\tremaining: 4.94s\n",
      "126:\tlearn: 0.2715879\ttotal: 717ms\tremaining: 4.93s\n",
      "127:\tlearn: 0.2707542\ttotal: 722ms\tremaining: 4.92s\n",
      "128:\tlearn: 0.2704696\ttotal: 727ms\tremaining: 4.91s\n",
      "129:\tlearn: 0.2692507\ttotal: 731ms\tremaining: 4.89s\n",
      "130:\tlearn: 0.2690772\ttotal: 736ms\tremaining: 4.88s\n",
      "131:\tlearn: 0.2687857\ttotal: 741ms\tremaining: 4.87s\n",
      "132:\tlearn: 0.2675274\ttotal: 745ms\tremaining: 4.86s\n",
      "133:\tlearn: 0.2670837\ttotal: 750ms\tremaining: 4.85s\n",
      "134:\tlearn: 0.2666221\ttotal: 755ms\tremaining: 4.83s\n",
      "135:\tlearn: 0.2662404\ttotal: 759ms\tremaining: 4.82s\n",
      "136:\tlearn: 0.2659218\ttotal: 764ms\tremaining: 4.81s\n",
      "137:\tlearn: 0.2656111\ttotal: 768ms\tremaining: 4.8s\n",
      "138:\tlearn: 0.2653484\ttotal: 773ms\tremaining: 4.79s\n",
      "139:\tlearn: 0.2644260\ttotal: 777ms\tremaining: 4.77s\n",
      "140:\tlearn: 0.2639637\ttotal: 782ms\tremaining: 4.76s\n",
      "141:\tlearn: 0.2634726\ttotal: 786ms\tremaining: 4.75s\n",
      "142:\tlearn: 0.2628363\ttotal: 791ms\tremaining: 4.74s\n",
      "143:\tlearn: 0.2626034\ttotal: 795ms\tremaining: 4.72s\n",
      "144:\tlearn: 0.2624371\ttotal: 800ms\tremaining: 4.72s\n",
      "145:\tlearn: 0.2621020\ttotal: 804ms\tremaining: 4.7s\n",
      "146:\tlearn: 0.2618286\ttotal: 808ms\tremaining: 4.69s\n",
      "147:\tlearn: 0.2615312\ttotal: 812ms\tremaining: 4.68s\n",
      "148:\tlearn: 0.2609498\ttotal: 817ms\tremaining: 4.67s\n",
      "149:\tlearn: 0.2599517\ttotal: 821ms\tremaining: 4.65s\n",
      "150:\tlearn: 0.2596604\ttotal: 826ms\tremaining: 4.64s\n",
      "151:\tlearn: 0.2593696\ttotal: 830ms\tremaining: 4.63s\n",
      "152:\tlearn: 0.2587784\ttotal: 835ms\tremaining: 4.62s\n",
      "153:\tlearn: 0.2575392\ttotal: 839ms\tremaining: 4.61s\n",
      "154:\tlearn: 0.2573254\ttotal: 843ms\tremaining: 4.6s\n",
      "155:\tlearn: 0.2569780\ttotal: 848ms\tremaining: 4.59s\n",
      "156:\tlearn: 0.2565477\ttotal: 852ms\tremaining: 4.58s\n",
      "157:\tlearn: 0.2561135\ttotal: 856ms\tremaining: 4.56s\n",
      "158:\tlearn: 0.2550870\ttotal: 862ms\tremaining: 4.56s\n",
      "159:\tlearn: 0.2533109\ttotal: 866ms\tremaining: 4.55s\n",
      "160:\tlearn: 0.2529571\ttotal: 870ms\tremaining: 4.54s\n",
      "161:\tlearn: 0.2523875\ttotal: 875ms\tremaining: 4.52s\n",
      "162:\tlearn: 0.2513035\ttotal: 879ms\tremaining: 4.51s\n",
      "163:\tlearn: 0.2508991\ttotal: 883ms\tremaining: 4.5s\n",
      "164:\tlearn: 0.2499183\ttotal: 888ms\tremaining: 4.49s\n",
      "165:\tlearn: 0.2497097\ttotal: 892ms\tremaining: 4.48s\n",
      "166:\tlearn: 0.2488679\ttotal: 897ms\tremaining: 4.47s\n",
      "167:\tlearn: 0.2485242\ttotal: 901ms\tremaining: 4.46s\n",
      "168:\tlearn: 0.2476959\ttotal: 905ms\tremaining: 4.45s\n",
      "169:\tlearn: 0.2470306\ttotal: 909ms\tremaining: 4.44s\n",
      "170:\tlearn: 0.2462916\ttotal: 914ms\tremaining: 4.43s\n",
      "171:\tlearn: 0.2454721\ttotal: 918ms\tremaining: 4.42s\n",
      "172:\tlearn: 0.2447148\ttotal: 923ms\tremaining: 4.41s\n",
      "173:\tlearn: 0.2442054\ttotal: 927ms\tremaining: 4.4s\n",
      "174:\tlearn: 0.2436372\ttotal: 931ms\tremaining: 4.39s\n",
      "175:\tlearn: 0.2430429\ttotal: 936ms\tremaining: 4.38s\n",
      "176:\tlearn: 0.2427423\ttotal: 940ms\tremaining: 4.37s\n",
      "177:\tlearn: 0.2421575\ttotal: 944ms\tremaining: 4.36s\n",
      "178:\tlearn: 0.2419927\ttotal: 949ms\tremaining: 4.35s\n",
      "179:\tlearn: 0.2417712\ttotal: 953ms\tremaining: 4.34s\n",
      "180:\tlearn: 0.2408512\ttotal: 957ms\tremaining: 4.33s\n",
      "181:\tlearn: 0.2401737\ttotal: 962ms\tremaining: 4.32s\n",
      "182:\tlearn: 0.2394206\ttotal: 966ms\tremaining: 4.31s\n",
      "183:\tlearn: 0.2390856\ttotal: 970ms\tremaining: 4.3s\n",
      "184:\tlearn: 0.2387766\ttotal: 975ms\tremaining: 4.29s\n",
      "185:\tlearn: 0.2386074\ttotal: 979ms\tremaining: 4.28s\n",
      "186:\tlearn: 0.2375915\ttotal: 983ms\tremaining: 4.27s\n",
      "187:\tlearn: 0.2372439\ttotal: 987ms\tremaining: 4.26s\n",
      "188:\tlearn: 0.2370384\ttotal: 991ms\tremaining: 4.25s\n",
      "189:\tlearn: 0.2367350\ttotal: 995ms\tremaining: 4.24s\n",
      "190:\tlearn: 0.2361076\ttotal: 1000ms\tremaining: 4.23s\n",
      "191:\tlearn: 0.2351926\ttotal: 1s\tremaining: 4.22s\n",
      "192:\tlearn: 0.2349364\ttotal: 1.01s\tremaining: 4.21s\n",
      "193:\tlearn: 0.2347222\ttotal: 1.01s\tremaining: 4.21s\n",
      "194:\tlearn: 0.2345397\ttotal: 1.02s\tremaining: 4.2s\n",
      "195:\tlearn: 0.2342972\ttotal: 1.02s\tremaining: 4.19s\n",
      "196:\tlearn: 0.2338664\ttotal: 1.02s\tremaining: 4.18s\n",
      "197:\tlearn: 0.2334719\ttotal: 1.03s\tremaining: 4.17s\n"
     ]
    },
    {
     "name": "stdout",
     "output_type": "stream",
     "text": [
      "198:\tlearn: 0.2329355\ttotal: 1.03s\tremaining: 4.16s\n",
      "199:\tlearn: 0.2322678\ttotal: 1.04s\tremaining: 4.15s\n",
      "200:\tlearn: 0.2315573\ttotal: 1.04s\tremaining: 4.14s\n",
      "201:\tlearn: 0.2307615\ttotal: 1.05s\tremaining: 4.14s\n",
      "202:\tlearn: 0.2299793\ttotal: 1.05s\tremaining: 4.13s\n",
      "203:\tlearn: 0.2295714\ttotal: 1.06s\tremaining: 4.12s\n",
      "204:\tlearn: 0.2292412\ttotal: 1.06s\tremaining: 4.11s\n",
      "205:\tlearn: 0.2287516\ttotal: 1.06s\tremaining: 4.1s\n",
      "206:\tlearn: 0.2279531\ttotal: 1.07s\tremaining: 4.09s\n",
      "207:\tlearn: 0.2276389\ttotal: 1.07s\tremaining: 4.09s\n",
      "208:\tlearn: 0.2273355\ttotal: 1.08s\tremaining: 4.08s\n",
      "209:\tlearn: 0.2270251\ttotal: 1.08s\tremaining: 4.07s\n",
      "210:\tlearn: 0.2268612\ttotal: 1.08s\tremaining: 4.06s\n",
      "211:\tlearn: 0.2267382\ttotal: 1.09s\tremaining: 4.05s\n",
      "212:\tlearn: 0.2261174\ttotal: 1.09s\tremaining: 4.04s\n",
      "213:\tlearn: 0.2254963\ttotal: 1.1s\tremaining: 4.03s\n",
      "214:\tlearn: 0.2248740\ttotal: 1.1s\tremaining: 4.03s\n",
      "215:\tlearn: 0.2243849\ttotal: 1.11s\tremaining: 4.02s\n",
      "216:\tlearn: 0.2236529\ttotal: 1.11s\tremaining: 4.01s\n",
      "217:\tlearn: 0.2231725\ttotal: 1.11s\tremaining: 4s\n",
      "218:\tlearn: 0.2227838\ttotal: 1.12s\tremaining: 4s\n",
      "219:\tlearn: 0.2221995\ttotal: 1.13s\tremaining: 3.99s\n",
      "220:\tlearn: 0.2219835\ttotal: 1.13s\tremaining: 3.98s\n",
      "221:\tlearn: 0.2216165\ttotal: 1.13s\tremaining: 3.97s\n",
      "222:\tlearn: 0.2212125\ttotal: 1.14s\tremaining: 3.97s\n",
      "223:\tlearn: 0.2206704\ttotal: 1.14s\tremaining: 3.96s\n",
      "224:\tlearn: 0.2200658\ttotal: 1.15s\tremaining: 3.95s\n",
      "225:\tlearn: 0.2198613\ttotal: 1.15s\tremaining: 3.95s\n",
      "226:\tlearn: 0.2195387\ttotal: 1.16s\tremaining: 3.94s\n",
      "227:\tlearn: 0.2194435\ttotal: 1.16s\tremaining: 3.93s\n",
      "228:\tlearn: 0.2193675\ttotal: 1.17s\tremaining: 3.92s\n",
      "229:\tlearn: 0.2186473\ttotal: 1.17s\tremaining: 3.92s\n",
      "230:\tlearn: 0.2184593\ttotal: 1.17s\tremaining: 3.91s\n",
      "231:\tlearn: 0.2181100\ttotal: 1.18s\tremaining: 3.9s\n",
      "232:\tlearn: 0.2179186\ttotal: 1.18s\tremaining: 3.9s\n",
      "233:\tlearn: 0.2175649\ttotal: 1.19s\tremaining: 3.89s\n",
      "234:\tlearn: 0.2174699\ttotal: 1.19s\tremaining: 3.88s\n",
      "235:\tlearn: 0.2172236\ttotal: 1.2s\tremaining: 3.87s\n",
      "236:\tlearn: 0.2170295\ttotal: 1.2s\tremaining: 3.87s\n",
      "237:\tlearn: 0.2168658\ttotal: 1.21s\tremaining: 3.86s\n",
      "238:\tlearn: 0.2165398\ttotal: 1.21s\tremaining: 3.85s\n",
      "239:\tlearn: 0.2162463\ttotal: 1.21s\tremaining: 3.85s\n",
      "240:\tlearn: 0.2161121\ttotal: 1.22s\tremaining: 3.84s\n",
      "241:\tlearn: 0.2157412\ttotal: 1.22s\tremaining: 3.83s\n",
      "242:\tlearn: 0.2151871\ttotal: 1.23s\tremaining: 3.83s\n",
      "243:\tlearn: 0.2149235\ttotal: 1.23s\tremaining: 3.82s\n",
      "244:\tlearn: 0.2146885\ttotal: 1.24s\tremaining: 3.81s\n",
      "245:\tlearn: 0.2144062\ttotal: 1.24s\tremaining: 3.8s\n",
      "246:\tlearn: 0.2142524\ttotal: 1.25s\tremaining: 3.8s\n",
      "247:\tlearn: 0.2140736\ttotal: 1.25s\tremaining: 3.79s\n",
      "248:\tlearn: 0.2139134\ttotal: 1.25s\tremaining: 3.78s\n",
      "249:\tlearn: 0.2136457\ttotal: 1.26s\tremaining: 3.78s\n",
      "250:\tlearn: 0.2134645\ttotal: 1.26s\tremaining: 3.77s\n",
      "251:\tlearn: 0.2129193\ttotal: 1.27s\tremaining: 3.76s\n",
      "252:\tlearn: 0.2121088\ttotal: 1.27s\tremaining: 3.75s\n",
      "253:\tlearn: 0.2119821\ttotal: 1.28s\tremaining: 3.75s\n",
      "254:\tlearn: 0.2117591\ttotal: 1.28s\tremaining: 3.74s\n",
      "255:\tlearn: 0.2112394\ttotal: 1.28s\tremaining: 3.73s\n",
      "256:\tlearn: 0.2104361\ttotal: 1.29s\tremaining: 3.73s\n",
      "257:\tlearn: 0.2102549\ttotal: 1.29s\tremaining: 3.72s\n",
      "258:\tlearn: 0.2098604\ttotal: 1.3s\tremaining: 3.72s\n",
      "259:\tlearn: 0.2096955\ttotal: 1.3s\tremaining: 3.71s\n",
      "260:\tlearn: 0.2094968\ttotal: 1.31s\tremaining: 3.7s\n",
      "261:\tlearn: 0.2092512\ttotal: 1.31s\tremaining: 3.7s\n",
      "262:\tlearn: 0.2089105\ttotal: 1.32s\tremaining: 3.69s\n",
      "263:\tlearn: 0.2083364\ttotal: 1.32s\tremaining: 3.68s\n",
      "264:\tlearn: 0.2077569\ttotal: 1.32s\tremaining: 3.68s\n",
      "265:\tlearn: 0.2074631\ttotal: 1.33s\tremaining: 3.67s\n",
      "266:\tlearn: 0.2059526\ttotal: 1.33s\tremaining: 3.66s\n",
      "267:\tlearn: 0.2058358\ttotal: 1.34s\tremaining: 3.66s\n",
      "268:\tlearn: 0.2057066\ttotal: 1.34s\tremaining: 3.65s\n",
      "269:\tlearn: 0.2053139\ttotal: 1.35s\tremaining: 3.64s\n",
      "270:\tlearn: 0.2051170\ttotal: 1.35s\tremaining: 3.64s\n",
      "271:\tlearn: 0.2049437\ttotal: 1.36s\tremaining: 3.63s\n",
      "272:\tlearn: 0.2044360\ttotal: 1.36s\tremaining: 3.63s\n",
      "273:\tlearn: 0.2040206\ttotal: 1.37s\tremaining: 3.62s\n",
      "274:\tlearn: 0.2037528\ttotal: 1.37s\tremaining: 3.61s\n",
      "275:\tlearn: 0.2035437\ttotal: 1.38s\tremaining: 3.61s\n",
      "276:\tlearn: 0.2032241\ttotal: 1.38s\tremaining: 3.6s\n",
      "277:\tlearn: 0.2029892\ttotal: 1.38s\tremaining: 3.59s\n",
      "278:\tlearn: 0.2025677\ttotal: 1.39s\tremaining: 3.59s\n",
      "279:\tlearn: 0.2021841\ttotal: 1.39s\tremaining: 3.58s\n",
      "280:\tlearn: 0.2016754\ttotal: 1.4s\tremaining: 3.58s\n",
      "281:\tlearn: 0.2006092\ttotal: 1.4s\tremaining: 3.57s\n",
      "282:\tlearn: 0.2003310\ttotal: 1.41s\tremaining: 3.56s\n",
      "283:\tlearn: 0.1991924\ttotal: 1.41s\tremaining: 3.56s\n",
      "284:\tlearn: 0.1987826\ttotal: 1.42s\tremaining: 3.55s\n",
      "285:\tlearn: 0.1982781\ttotal: 1.42s\tremaining: 3.54s\n",
      "286:\tlearn: 0.1978460\ttotal: 1.42s\tremaining: 3.54s\n",
      "287:\tlearn: 0.1969932\ttotal: 1.43s\tremaining: 3.53s\n",
      "288:\tlearn: 0.1963191\ttotal: 1.43s\tremaining: 3.53s\n",
      "289:\tlearn: 0.1959126\ttotal: 1.44s\tremaining: 3.52s\n",
      "290:\tlearn: 0.1956990\ttotal: 1.44s\tremaining: 3.51s\n",
      "291:\tlearn: 0.1953706\ttotal: 1.45s\tremaining: 3.51s\n",
      "292:\tlearn: 0.1951740\ttotal: 1.45s\tremaining: 3.5s\n",
      "293:\tlearn: 0.1949405\ttotal: 1.46s\tremaining: 3.5s\n",
      "294:\tlearn: 0.1945924\ttotal: 1.46s\tremaining: 3.49s\n",
      "295:\tlearn: 0.1944138\ttotal: 1.47s\tremaining: 3.48s\n",
      "296:\tlearn: 0.1941857\ttotal: 1.47s\tremaining: 3.48s\n",
      "297:\tlearn: 0.1939956\ttotal: 1.47s\tremaining: 3.47s\n",
      "298:\tlearn: 0.1935769\ttotal: 1.48s\tremaining: 3.47s\n",
      "299:\tlearn: 0.1933871\ttotal: 1.48s\tremaining: 3.46s\n",
      "300:\tlearn: 0.1931864\ttotal: 1.49s\tremaining: 3.46s\n",
      "301:\tlearn: 0.1928146\ttotal: 1.49s\tremaining: 3.45s\n",
      "302:\tlearn: 0.1924178\ttotal: 1.5s\tremaining: 3.44s\n",
      "303:\tlearn: 0.1922397\ttotal: 1.5s\tremaining: 3.44s\n",
      "304:\tlearn: 0.1920549\ttotal: 1.51s\tremaining: 3.43s\n",
      "305:\tlearn: 0.1919429\ttotal: 1.51s\tremaining: 3.43s\n",
      "306:\tlearn: 0.1917235\ttotal: 1.51s\tremaining: 3.42s\n",
      "307:\tlearn: 0.1912557\ttotal: 1.52s\tremaining: 3.42s\n",
      "308:\tlearn: 0.1911081\ttotal: 1.52s\tremaining: 3.41s\n",
      "309:\tlearn: 0.1898342\ttotal: 1.53s\tremaining: 3.4s\n",
      "310:\tlearn: 0.1896337\ttotal: 1.53s\tremaining: 3.4s\n",
      "311:\tlearn: 0.1894288\ttotal: 1.54s\tremaining: 3.39s\n",
      "312:\tlearn: 0.1888123\ttotal: 1.54s\tremaining: 3.39s\n",
      "313:\tlearn: 0.1885939\ttotal: 1.55s\tremaining: 3.38s\n",
      "314:\tlearn: 0.1883651\ttotal: 1.55s\tremaining: 3.38s\n",
      "315:\tlearn: 0.1881973\ttotal: 1.56s\tremaining: 3.37s\n",
      "316:\tlearn: 0.1878118\ttotal: 1.56s\tremaining: 3.36s\n",
      "317:\tlearn: 0.1872924\ttotal: 1.57s\tremaining: 3.36s\n",
      "318:\tlearn: 0.1871217\ttotal: 1.57s\tremaining: 3.35s\n",
      "319:\tlearn: 0.1869536\ttotal: 1.57s\tremaining: 3.35s\n",
      "320:\tlearn: 0.1867613\ttotal: 1.58s\tremaining: 3.34s\n",
      "321:\tlearn: 0.1866384\ttotal: 1.58s\tremaining: 3.34s\n",
      "322:\tlearn: 0.1865500\ttotal: 1.59s\tremaining: 3.33s\n",
      "323:\tlearn: 0.1863904\ttotal: 1.59s\tremaining: 3.33s\n",
      "324:\tlearn: 0.1862607\ttotal: 1.6s\tremaining: 3.32s\n",
      "325:\tlearn: 0.1855525\ttotal: 1.6s\tremaining: 3.31s\n",
      "326:\tlearn: 0.1854366\ttotal: 1.61s\tremaining: 3.31s\n",
      "327:\tlearn: 0.1852268\ttotal: 1.61s\tremaining: 3.3s\n",
      "328:\tlearn: 0.1850651\ttotal: 1.62s\tremaining: 3.3s\n",
      "329:\tlearn: 0.1846334\ttotal: 1.62s\tremaining: 3.3s\n",
      "330:\tlearn: 0.1844739\ttotal: 1.63s\tremaining: 3.29s\n",
      "331:\tlearn: 0.1841626\ttotal: 1.63s\tremaining: 3.29s\n",
      "332:\tlearn: 0.1840917\ttotal: 1.64s\tremaining: 3.28s\n",
      "333:\tlearn: 0.1839255\ttotal: 1.64s\tremaining: 3.27s\n",
      "334:\tlearn: 0.1838609\ttotal: 1.65s\tremaining: 3.27s\n",
      "335:\tlearn: 0.1836990\ttotal: 1.65s\tremaining: 3.26s\n",
      "336:\tlearn: 0.1835715\ttotal: 1.66s\tremaining: 3.26s\n",
      "337:\tlearn: 0.1834422\ttotal: 1.66s\tremaining: 3.25s\n",
      "338:\tlearn: 0.1833384\ttotal: 1.67s\tremaining: 3.25s\n",
      "339:\tlearn: 0.1832191\ttotal: 1.67s\tremaining: 3.24s\n",
      "340:\tlearn: 0.1830591\ttotal: 1.67s\tremaining: 3.23s\n",
      "341:\tlearn: 0.1829031\ttotal: 1.68s\tremaining: 3.23s\n",
      "342:\tlearn: 0.1826099\ttotal: 1.68s\tremaining: 3.22s\n",
      "343:\tlearn: 0.1822314\ttotal: 1.69s\tremaining: 3.22s\n",
      "344:\tlearn: 0.1820122\ttotal: 1.69s\tremaining: 3.21s\n",
      "345:\tlearn: 0.1817467\ttotal: 1.7s\tremaining: 3.21s\n",
      "346:\tlearn: 0.1813881\ttotal: 1.7s\tremaining: 3.2s\n",
      "347:\tlearn: 0.1812894\ttotal: 1.71s\tremaining: 3.19s\n",
      "348:\tlearn: 0.1809168\ttotal: 1.71s\tremaining: 3.19s\n",
      "349:\tlearn: 0.1808299\ttotal: 1.71s\tremaining: 3.18s\n",
      "350:\tlearn: 0.1805837\ttotal: 1.72s\tremaining: 3.18s\n",
      "351:\tlearn: 0.1802206\ttotal: 1.72s\tremaining: 3.17s\n",
      "352:\tlearn: 0.1796513\ttotal: 1.73s\tremaining: 3.17s\n",
      "353:\tlearn: 0.1792610\ttotal: 1.73s\tremaining: 3.16s\n",
      "354:\tlearn: 0.1789521\ttotal: 1.74s\tremaining: 3.16s\n",
      "355:\tlearn: 0.1783589\ttotal: 1.74s\tremaining: 3.15s\n",
      "356:\tlearn: 0.1781388\ttotal: 1.75s\tremaining: 3.15s\n",
      "357:\tlearn: 0.1779929\ttotal: 1.75s\tremaining: 3.14s\n",
      "358:\tlearn: 0.1771708\ttotal: 1.75s\tremaining: 3.13s\n",
      "359:\tlearn: 0.1767536\ttotal: 1.76s\tremaining: 3.13s\n",
      "360:\tlearn: 0.1761858\ttotal: 1.76s\tremaining: 3.12s\n",
      "361:\tlearn: 0.1759840\ttotal: 1.77s\tremaining: 3.12s\n",
      "362:\tlearn: 0.1756990\ttotal: 1.77s\tremaining: 3.11s\n",
      "363:\tlearn: 0.1755728\ttotal: 1.78s\tremaining: 3.1s\n",
      "364:\tlearn: 0.1753569\ttotal: 1.78s\tremaining: 3.1s\n",
      "365:\tlearn: 0.1751896\ttotal: 1.79s\tremaining: 3.09s\n",
      "366:\tlearn: 0.1750495\ttotal: 1.79s\tremaining: 3.09s\n",
      "367:\tlearn: 0.1746966\ttotal: 1.79s\tremaining: 3.08s\n",
      "368:\tlearn: 0.1745272\ttotal: 1.8s\tremaining: 3.08s\n",
      "369:\tlearn: 0.1741991\ttotal: 1.8s\tremaining: 3.07s\n",
      "370:\tlearn: 0.1741028\ttotal: 1.81s\tremaining: 3.07s\n",
      "371:\tlearn: 0.1738831\ttotal: 1.81s\tremaining: 3.06s\n",
      "372:\tlearn: 0.1736352\ttotal: 1.82s\tremaining: 3.06s\n",
      "373:\tlearn: 0.1735491\ttotal: 1.82s\tremaining: 3.05s\n",
      "374:\tlearn: 0.1734200\ttotal: 1.83s\tremaining: 3.04s\n",
      "375:\tlearn: 0.1732841\ttotal: 1.83s\tremaining: 3.04s\n",
      "376:\tlearn: 0.1731260\ttotal: 1.83s\tremaining: 3.03s\n",
      "377:\tlearn: 0.1729255\ttotal: 1.84s\tremaining: 3.03s\n",
      "378:\tlearn: 0.1727175\ttotal: 1.84s\tremaining: 3.02s\n",
      "379:\tlearn: 0.1724065\ttotal: 1.85s\tremaining: 3.02s\n",
      "380:\tlearn: 0.1721890\ttotal: 1.85s\tremaining: 3.01s\n",
      "381:\tlearn: 0.1720292\ttotal: 1.86s\tremaining: 3s\n",
      "382:\tlearn: 0.1718866\ttotal: 1.86s\tremaining: 3s\n",
      "383:\tlearn: 0.1716774\ttotal: 1.87s\tremaining: 2.99s\n",
      "384:\tlearn: 0.1714925\ttotal: 1.87s\tremaining: 2.99s\n",
      "385:\tlearn: 0.1713198\ttotal: 1.87s\tremaining: 2.98s\n",
      "386:\tlearn: 0.1711504\ttotal: 1.88s\tremaining: 2.98s\n",
      "387:\tlearn: 0.1709208\ttotal: 1.88s\tremaining: 2.97s\n",
      "388:\tlearn: 0.1707657\ttotal: 1.89s\tremaining: 2.96s\n",
      "389:\tlearn: 0.1706263\ttotal: 1.89s\tremaining: 2.96s\n",
      "390:\tlearn: 0.1704936\ttotal: 1.9s\tremaining: 2.95s\n",
      "391:\tlearn: 0.1701984\ttotal: 1.9s\tremaining: 2.95s\n",
      "392:\tlearn: 0.1700954\ttotal: 1.91s\tremaining: 2.94s\n",
      "393:\tlearn: 0.1699363\ttotal: 1.91s\tremaining: 2.94s\n"
     ]
    },
    {
     "name": "stdout",
     "output_type": "stream",
     "text": [
      "394:\tlearn: 0.1698403\ttotal: 1.92s\tremaining: 2.94s\n",
      "395:\tlearn: 0.1696728\ttotal: 1.92s\tremaining: 2.93s\n",
      "396:\tlearn: 0.1694235\ttotal: 1.93s\tremaining: 2.93s\n",
      "397:\tlearn: 0.1690762\ttotal: 1.93s\tremaining: 2.92s\n",
      "398:\tlearn: 0.1689623\ttotal: 1.94s\tremaining: 2.92s\n",
      "399:\tlearn: 0.1687850\ttotal: 1.94s\tremaining: 2.92s\n",
      "400:\tlearn: 0.1685263\ttotal: 1.95s\tremaining: 2.91s\n",
      "401:\tlearn: 0.1684308\ttotal: 1.95s\tremaining: 2.9s\n",
      "402:\tlearn: 0.1681873\ttotal: 1.96s\tremaining: 2.9s\n",
      "403:\tlearn: 0.1673935\ttotal: 1.96s\tremaining: 2.89s\n",
      "404:\tlearn: 0.1673255\ttotal: 1.97s\tremaining: 2.89s\n",
      "405:\tlearn: 0.1672544\ttotal: 1.97s\tremaining: 2.88s\n",
      "406:\tlearn: 0.1671589\ttotal: 1.98s\tremaining: 2.88s\n",
      "407:\tlearn: 0.1670793\ttotal: 1.98s\tremaining: 2.87s\n",
      "408:\tlearn: 0.1667912\ttotal: 1.98s\tremaining: 2.87s\n",
      "409:\tlearn: 0.1666628\ttotal: 1.99s\tremaining: 2.86s\n",
      "410:\tlearn: 0.1665619\ttotal: 1.99s\tremaining: 2.85s\n",
      "411:\tlearn: 0.1661082\ttotal: 2s\tremaining: 2.85s\n",
      "412:\tlearn: 0.1658881\ttotal: 2s\tremaining: 2.85s\n",
      "413:\tlearn: 0.1655799\ttotal: 2.01s\tremaining: 2.84s\n",
      "414:\tlearn: 0.1654538\ttotal: 2.01s\tremaining: 2.83s\n",
      "415:\tlearn: 0.1649911\ttotal: 2.02s\tremaining: 2.83s\n",
      "416:\tlearn: 0.1647515\ttotal: 2.02s\tremaining: 2.82s\n",
      "417:\tlearn: 0.1645057\ttotal: 2.02s\tremaining: 2.82s\n",
      "418:\tlearn: 0.1642595\ttotal: 2.03s\tremaining: 2.81s\n",
      "419:\tlearn: 0.1641562\ttotal: 2.03s\tremaining: 2.81s\n",
      "420:\tlearn: 0.1640610\ttotal: 2.04s\tremaining: 2.8s\n",
      "421:\tlearn: 0.1639897\ttotal: 2.04s\tremaining: 2.8s\n",
      "422:\tlearn: 0.1635846\ttotal: 2.05s\tremaining: 2.79s\n",
      "423:\tlearn: 0.1633225\ttotal: 2.05s\tremaining: 2.79s\n",
      "424:\tlearn: 0.1632601\ttotal: 2.06s\tremaining: 2.78s\n",
      "425:\tlearn: 0.1631100\ttotal: 2.06s\tremaining: 2.77s\n",
      "426:\tlearn: 0.1629166\ttotal: 2.06s\tremaining: 2.77s\n",
      "427:\tlearn: 0.1628083\ttotal: 2.07s\tremaining: 2.77s\n",
      "428:\tlearn: 0.1626016\ttotal: 2.07s\tremaining: 2.76s\n",
      "429:\tlearn: 0.1624675\ttotal: 2.08s\tremaining: 2.75s\n",
      "430:\tlearn: 0.1622460\ttotal: 2.08s\tremaining: 2.75s\n",
      "431:\tlearn: 0.1621167\ttotal: 2.09s\tremaining: 2.74s\n",
      "432:\tlearn: 0.1620113\ttotal: 2.09s\tremaining: 2.74s\n",
      "433:\tlearn: 0.1619109\ttotal: 2.1s\tremaining: 2.73s\n",
      "434:\tlearn: 0.1618432\ttotal: 2.1s\tremaining: 2.73s\n",
      "435:\tlearn: 0.1617704\ttotal: 2.1s\tremaining: 2.72s\n",
      "436:\tlearn: 0.1615466\ttotal: 2.11s\tremaining: 2.72s\n",
      "437:\tlearn: 0.1614620\ttotal: 2.11s\tremaining: 2.71s\n",
      "438:\tlearn: 0.1612353\ttotal: 2.12s\tremaining: 2.71s\n",
      "439:\tlearn: 0.1611513\ttotal: 2.12s\tremaining: 2.7s\n",
      "440:\tlearn: 0.1609587\ttotal: 2.13s\tremaining: 2.7s\n",
      "441:\tlearn: 0.1608520\ttotal: 2.13s\tremaining: 2.69s\n",
      "442:\tlearn: 0.1606957\ttotal: 2.14s\tremaining: 2.69s\n",
      "443:\tlearn: 0.1605291\ttotal: 2.14s\tremaining: 2.68s\n",
      "444:\tlearn: 0.1603075\ttotal: 2.15s\tremaining: 2.67s\n",
      "445:\tlearn: 0.1602283\ttotal: 2.15s\tremaining: 2.67s\n",
      "446:\tlearn: 0.1600397\ttotal: 2.15s\tremaining: 2.66s\n",
      "447:\tlearn: 0.1598149\ttotal: 2.16s\tremaining: 2.66s\n",
      "448:\tlearn: 0.1597134\ttotal: 2.16s\tremaining: 2.65s\n",
      "449:\tlearn: 0.1595025\ttotal: 2.17s\tremaining: 2.65s\n",
      "450:\tlearn: 0.1592175\ttotal: 2.17s\tremaining: 2.64s\n",
      "451:\tlearn: 0.1591200\ttotal: 2.18s\tremaining: 2.64s\n",
      "452:\tlearn: 0.1589424\ttotal: 2.18s\tremaining: 2.63s\n",
      "453:\tlearn: 0.1586947\ttotal: 2.18s\tremaining: 2.63s\n",
      "454:\tlearn: 0.1585846\ttotal: 2.19s\tremaining: 2.62s\n",
      "455:\tlearn: 0.1584776\ttotal: 2.19s\tremaining: 2.62s\n",
      "456:\tlearn: 0.1582441\ttotal: 2.2s\tremaining: 2.61s\n",
      "457:\tlearn: 0.1581238\ttotal: 2.2s\tremaining: 2.61s\n",
      "458:\tlearn: 0.1580376\ttotal: 2.21s\tremaining: 2.6s\n",
      "459:\tlearn: 0.1579062\ttotal: 2.21s\tremaining: 2.6s\n",
      "460:\tlearn: 0.1577730\ttotal: 2.21s\tremaining: 2.59s\n",
      "461:\tlearn: 0.1576588\ttotal: 2.22s\tremaining: 2.58s\n",
      "462:\tlearn: 0.1575512\ttotal: 2.22s\tremaining: 2.58s\n",
      "463:\tlearn: 0.1574538\ttotal: 2.23s\tremaining: 2.58s\n",
      "464:\tlearn: 0.1573104\ttotal: 2.23s\tremaining: 2.57s\n",
      "465:\tlearn: 0.1571155\ttotal: 2.24s\tremaining: 2.56s\n",
      "466:\tlearn: 0.1569351\ttotal: 2.24s\tremaining: 2.56s\n",
      "467:\tlearn: 0.1567179\ttotal: 2.25s\tremaining: 2.55s\n",
      "468:\tlearn: 0.1566620\ttotal: 2.25s\tremaining: 2.55s\n",
      "469:\tlearn: 0.1564040\ttotal: 2.26s\tremaining: 2.54s\n",
      "470:\tlearn: 0.1562878\ttotal: 2.26s\tremaining: 2.54s\n",
      "471:\tlearn: 0.1562039\ttotal: 2.27s\tremaining: 2.53s\n",
      "472:\tlearn: 0.1557544\ttotal: 2.27s\tremaining: 2.53s\n",
      "473:\tlearn: 0.1555579\ttotal: 2.27s\tremaining: 2.52s\n",
      "474:\tlearn: 0.1555098\ttotal: 2.28s\tremaining: 2.52s\n",
      "475:\tlearn: 0.1554188\ttotal: 2.28s\tremaining: 2.51s\n",
      "476:\tlearn: 0.1550664\ttotal: 2.29s\tremaining: 2.51s\n",
      "477:\tlearn: 0.1546865\ttotal: 2.29s\tremaining: 2.5s\n",
      "478:\tlearn: 0.1544507\ttotal: 2.3s\tremaining: 2.5s\n",
      "479:\tlearn: 0.1539027\ttotal: 2.3s\tremaining: 2.49s\n",
      "480:\tlearn: 0.1538016\ttotal: 2.31s\tremaining: 2.49s\n",
      "481:\tlearn: 0.1536118\ttotal: 2.31s\tremaining: 2.48s\n",
      "482:\tlearn: 0.1535055\ttotal: 2.31s\tremaining: 2.48s\n",
      "483:\tlearn: 0.1534439\ttotal: 2.32s\tremaining: 2.47s\n",
      "484:\tlearn: 0.1528541\ttotal: 2.32s\tremaining: 2.47s\n",
      "485:\tlearn: 0.1523464\ttotal: 2.33s\tremaining: 2.46s\n",
      "486:\tlearn: 0.1522630\ttotal: 2.33s\tremaining: 2.46s\n",
      "487:\tlearn: 0.1521887\ttotal: 2.34s\tremaining: 2.45s\n",
      "488:\tlearn: 0.1520054\ttotal: 2.34s\tremaining: 2.45s\n",
      "489:\tlearn: 0.1519453\ttotal: 2.35s\tremaining: 2.44s\n",
      "490:\tlearn: 0.1517855\ttotal: 2.35s\tremaining: 2.44s\n",
      "491:\tlearn: 0.1516776\ttotal: 2.35s\tremaining: 2.43s\n",
      "492:\tlearn: 0.1515109\ttotal: 2.36s\tremaining: 2.42s\n",
      "493:\tlearn: 0.1514109\ttotal: 2.36s\tremaining: 2.42s\n",
      "494:\tlearn: 0.1513155\ttotal: 2.37s\tremaining: 2.41s\n",
      "495:\tlearn: 0.1512627\ttotal: 2.37s\tremaining: 2.41s\n",
      "496:\tlearn: 0.1511660\ttotal: 2.38s\tremaining: 2.4s\n",
      "497:\tlearn: 0.1508374\ttotal: 2.38s\tremaining: 2.4s\n",
      "498:\tlearn: 0.1506595\ttotal: 2.38s\tremaining: 2.39s\n",
      "499:\tlearn: 0.1504711\ttotal: 2.39s\tremaining: 2.39s\n",
      "500:\tlearn: 0.1503151\ttotal: 2.39s\tremaining: 2.38s\n",
      "501:\tlearn: 0.1502488\ttotal: 2.4s\tremaining: 2.38s\n",
      "502:\tlearn: 0.1502198\ttotal: 2.4s\tremaining: 2.37s\n",
      "503:\tlearn: 0.1500573\ttotal: 2.41s\tremaining: 2.37s\n",
      "504:\tlearn: 0.1499327\ttotal: 2.41s\tremaining: 2.36s\n",
      "505:\tlearn: 0.1497979\ttotal: 2.42s\tremaining: 2.36s\n",
      "506:\tlearn: 0.1497400\ttotal: 2.42s\tremaining: 2.35s\n",
      "507:\tlearn: 0.1496393\ttotal: 2.42s\tremaining: 2.35s\n",
      "508:\tlearn: 0.1494700\ttotal: 2.43s\tremaining: 2.34s\n",
      "509:\tlearn: 0.1490971\ttotal: 2.43s\tremaining: 2.34s\n",
      "510:\tlearn: 0.1490220\ttotal: 2.44s\tremaining: 2.33s\n",
      "511:\tlearn: 0.1488316\ttotal: 2.44s\tremaining: 2.33s\n",
      "512:\tlearn: 0.1486692\ttotal: 2.45s\tremaining: 2.32s\n",
      "513:\tlearn: 0.1486181\ttotal: 2.45s\tremaining: 2.32s\n",
      "514:\tlearn: 0.1484309\ttotal: 2.46s\tremaining: 2.31s\n",
      "515:\tlearn: 0.1483936\ttotal: 2.46s\tremaining: 2.31s\n",
      "516:\tlearn: 0.1483287\ttotal: 2.46s\tremaining: 2.3s\n",
      "517:\tlearn: 0.1480273\ttotal: 2.47s\tremaining: 2.3s\n",
      "518:\tlearn: 0.1478319\ttotal: 2.47s\tremaining: 2.29s\n",
      "519:\tlearn: 0.1477051\ttotal: 2.48s\tremaining: 2.29s\n",
      "520:\tlearn: 0.1476002\ttotal: 2.48s\tremaining: 2.28s\n",
      "521:\tlearn: 0.1474761\ttotal: 2.49s\tremaining: 2.28s\n",
      "522:\tlearn: 0.1473227\ttotal: 2.49s\tremaining: 2.27s\n",
      "523:\tlearn: 0.1472130\ttotal: 2.5s\tremaining: 2.27s\n",
      "524:\tlearn: 0.1468878\ttotal: 2.5s\tremaining: 2.26s\n",
      "525:\tlearn: 0.1467324\ttotal: 2.5s\tremaining: 2.26s\n",
      "526:\tlearn: 0.1466109\ttotal: 2.51s\tremaining: 2.25s\n",
      "527:\tlearn: 0.1464431\ttotal: 2.51s\tremaining: 2.25s\n",
      "528:\tlearn: 0.1461266\ttotal: 2.52s\tremaining: 2.24s\n",
      "529:\tlearn: 0.1460296\ttotal: 2.52s\tremaining: 2.24s\n",
      "530:\tlearn: 0.1458184\ttotal: 2.53s\tremaining: 2.23s\n",
      "531:\tlearn: 0.1456842\ttotal: 2.53s\tremaining: 2.23s\n",
      "532:\tlearn: 0.1455505\ttotal: 2.54s\tremaining: 2.22s\n",
      "533:\tlearn: 0.1455150\ttotal: 2.54s\tremaining: 2.22s\n",
      "534:\tlearn: 0.1454881\ttotal: 2.55s\tremaining: 2.21s\n",
      "535:\tlearn: 0.1454238\ttotal: 2.55s\tremaining: 2.21s\n",
      "536:\tlearn: 0.1452811\ttotal: 2.56s\tremaining: 2.2s\n",
      "537:\tlearn: 0.1451792\ttotal: 2.56s\tremaining: 2.2s\n",
      "538:\tlearn: 0.1449635\ttotal: 2.56s\tremaining: 2.19s\n",
      "539:\tlearn: 0.1447988\ttotal: 2.57s\tremaining: 2.19s\n",
      "540:\tlearn: 0.1446556\ttotal: 2.57s\tremaining: 2.18s\n",
      "541:\tlearn: 0.1445442\ttotal: 2.58s\tremaining: 2.18s\n",
      "542:\tlearn: 0.1444152\ttotal: 2.58s\tremaining: 2.17s\n",
      "543:\tlearn: 0.1443583\ttotal: 2.59s\tremaining: 2.17s\n",
      "544:\tlearn: 0.1442520\ttotal: 2.59s\tremaining: 2.16s\n",
      "545:\tlearn: 0.1438636\ttotal: 2.6s\tremaining: 2.16s\n",
      "546:\tlearn: 0.1435458\ttotal: 2.6s\tremaining: 2.15s\n",
      "547:\tlearn: 0.1433759\ttotal: 2.6s\tremaining: 2.15s\n",
      "548:\tlearn: 0.1433160\ttotal: 2.61s\tremaining: 2.14s\n",
      "549:\tlearn: 0.1431935\ttotal: 2.61s\tremaining: 2.14s\n",
      "550:\tlearn: 0.1430654\ttotal: 2.62s\tremaining: 2.13s\n",
      "551:\tlearn: 0.1430121\ttotal: 2.62s\tremaining: 2.13s\n",
      "552:\tlearn: 0.1428027\ttotal: 2.63s\tremaining: 2.13s\n",
      "553:\tlearn: 0.1424044\ttotal: 2.63s\tremaining: 2.12s\n",
      "554:\tlearn: 0.1422439\ttotal: 2.64s\tremaining: 2.12s\n",
      "555:\tlearn: 0.1420012\ttotal: 2.64s\tremaining: 2.11s\n",
      "556:\tlearn: 0.1418460\ttotal: 2.65s\tremaining: 2.1s\n",
      "557:\tlearn: 0.1416523\ttotal: 2.65s\tremaining: 2.1s\n",
      "558:\tlearn: 0.1415284\ttotal: 2.65s\tremaining: 2.1s\n",
      "559:\tlearn: 0.1413848\ttotal: 2.66s\tremaining: 2.09s\n",
      "560:\tlearn: 0.1412720\ttotal: 2.66s\tremaining: 2.08s\n",
      "561:\tlearn: 0.1411989\ttotal: 2.67s\tremaining: 2.08s\n",
      "562:\tlearn: 0.1409808\ttotal: 2.67s\tremaining: 2.08s\n",
      "563:\tlearn: 0.1408848\ttotal: 2.68s\tremaining: 2.07s\n",
      "564:\tlearn: 0.1407466\ttotal: 2.68s\tremaining: 2.06s\n",
      "565:\tlearn: 0.1406053\ttotal: 2.69s\tremaining: 2.06s\n",
      "566:\tlearn: 0.1405622\ttotal: 2.69s\tremaining: 2.06s\n",
      "567:\tlearn: 0.1404435\ttotal: 2.69s\tremaining: 2.05s\n",
      "568:\tlearn: 0.1402639\ttotal: 2.7s\tremaining: 2.04s\n",
      "569:\tlearn: 0.1400775\ttotal: 2.7s\tremaining: 2.04s\n",
      "570:\tlearn: 0.1398426\ttotal: 2.71s\tremaining: 2.04s\n",
      "571:\tlearn: 0.1394543\ttotal: 2.71s\tremaining: 2.03s\n",
      "572:\tlearn: 0.1393349\ttotal: 2.72s\tremaining: 2.02s\n",
      "573:\tlearn: 0.1392201\ttotal: 2.72s\tremaining: 2.02s\n",
      "574:\tlearn: 0.1390819\ttotal: 2.73s\tremaining: 2.02s\n",
      "575:\tlearn: 0.1389941\ttotal: 2.73s\tremaining: 2.01s\n",
      "576:\tlearn: 0.1388183\ttotal: 2.74s\tremaining: 2s\n",
      "577:\tlearn: 0.1387925\ttotal: 2.74s\tremaining: 2s\n",
      "578:\tlearn: 0.1386421\ttotal: 2.75s\tremaining: 2s\n",
      "579:\tlearn: 0.1385262\ttotal: 2.75s\tremaining: 1.99s\n",
      "580:\tlearn: 0.1384526\ttotal: 2.75s\tremaining: 1.99s\n",
      "581:\tlearn: 0.1383224\ttotal: 2.76s\tremaining: 1.98s\n",
      "582:\tlearn: 0.1382459\ttotal: 2.76s\tremaining: 1.98s\n",
      "583:\tlearn: 0.1380907\ttotal: 2.77s\tremaining: 1.97s\n",
      "584:\tlearn: 0.1379612\ttotal: 2.77s\tremaining: 1.97s\n",
      "585:\tlearn: 0.1378432\ttotal: 2.77s\tremaining: 1.96s\n",
      "586:\tlearn: 0.1376785\ttotal: 2.78s\tremaining: 1.96s\n",
      "587:\tlearn: 0.1374977\ttotal: 2.78s\tremaining: 1.95s\n",
      "588:\tlearn: 0.1373532\ttotal: 2.79s\tremaining: 1.95s\n",
      "589:\tlearn: 0.1372737\ttotal: 2.79s\tremaining: 1.94s\n"
     ]
    },
    {
     "name": "stdout",
     "output_type": "stream",
     "text": [
      "590:\tlearn: 0.1369932\ttotal: 2.8s\tremaining: 1.94s\n",
      "591:\tlearn: 0.1368112\ttotal: 2.8s\tremaining: 1.93s\n",
      "592:\tlearn: 0.1366553\ttotal: 2.81s\tremaining: 1.93s\n",
      "593:\tlearn: 0.1365878\ttotal: 2.81s\tremaining: 1.92s\n",
      "594:\tlearn: 0.1364144\ttotal: 2.82s\tremaining: 1.92s\n",
      "595:\tlearn: 0.1363705\ttotal: 2.82s\tremaining: 1.91s\n",
      "596:\tlearn: 0.1363319\ttotal: 2.83s\tremaining: 1.91s\n",
      "597:\tlearn: 0.1359355\ttotal: 2.83s\tremaining: 1.9s\n",
      "598:\tlearn: 0.1357311\ttotal: 2.83s\tremaining: 1.9s\n",
      "599:\tlearn: 0.1356826\ttotal: 2.84s\tremaining: 1.89s\n",
      "600:\tlearn: 0.1354879\ttotal: 2.84s\tremaining: 1.89s\n",
      "601:\tlearn: 0.1354138\ttotal: 2.85s\tremaining: 1.88s\n",
      "602:\tlearn: 0.1353834\ttotal: 2.85s\tremaining: 1.88s\n",
      "603:\tlearn: 0.1353348\ttotal: 2.86s\tremaining: 1.87s\n",
      "604:\tlearn: 0.1351850\ttotal: 2.86s\tremaining: 1.87s\n",
      "605:\tlearn: 0.1350599\ttotal: 2.86s\tremaining: 1.86s\n",
      "606:\tlearn: 0.1349165\ttotal: 2.87s\tremaining: 1.86s\n",
      "607:\tlearn: 0.1348802\ttotal: 2.87s\tremaining: 1.85s\n",
      "608:\tlearn: 0.1347512\ttotal: 2.88s\tremaining: 1.85s\n",
      "609:\tlearn: 0.1345742\ttotal: 2.88s\tremaining: 1.84s\n",
      "610:\tlearn: 0.1343724\ttotal: 2.89s\tremaining: 1.84s\n",
      "611:\tlearn: 0.1342544\ttotal: 2.89s\tremaining: 1.83s\n",
      "612:\tlearn: 0.1341855\ttotal: 2.9s\tremaining: 1.83s\n",
      "613:\tlearn: 0.1340823\ttotal: 2.9s\tremaining: 1.82s\n",
      "614:\tlearn: 0.1338063\ttotal: 2.9s\tremaining: 1.82s\n",
      "615:\tlearn: 0.1336750\ttotal: 2.91s\tremaining: 1.81s\n",
      "616:\tlearn: 0.1334625\ttotal: 2.91s\tremaining: 1.81s\n",
      "617:\tlearn: 0.1333451\ttotal: 2.92s\tremaining: 1.8s\n",
      "618:\tlearn: 0.1332980\ttotal: 2.92s\tremaining: 1.8s\n",
      "619:\tlearn: 0.1331890\ttotal: 2.93s\tremaining: 1.79s\n",
      "620:\tlearn: 0.1331440\ttotal: 2.93s\tremaining: 1.79s\n",
      "621:\tlearn: 0.1330395\ttotal: 2.94s\tremaining: 1.78s\n",
      "622:\tlearn: 0.1328832\ttotal: 2.94s\tremaining: 1.78s\n",
      "623:\tlearn: 0.1328161\ttotal: 2.94s\tremaining: 1.77s\n",
      "624:\tlearn: 0.1327268\ttotal: 2.95s\tremaining: 1.77s\n",
      "625:\tlearn: 0.1326561\ttotal: 2.95s\tremaining: 1.76s\n",
      "626:\tlearn: 0.1326228\ttotal: 2.96s\tremaining: 1.76s\n",
      "627:\tlearn: 0.1324604\ttotal: 2.96s\tremaining: 1.75s\n",
      "628:\tlearn: 0.1322299\ttotal: 2.97s\tremaining: 1.75s\n",
      "629:\tlearn: 0.1320791\ttotal: 2.97s\tremaining: 1.74s\n",
      "630:\tlearn: 0.1319939\ttotal: 2.98s\tremaining: 1.74s\n",
      "631:\tlearn: 0.1318550\ttotal: 2.98s\tremaining: 1.74s\n",
      "632:\tlearn: 0.1314468\ttotal: 2.98s\tremaining: 1.73s\n",
      "633:\tlearn: 0.1313262\ttotal: 2.99s\tremaining: 1.73s\n",
      "634:\tlearn: 0.1312268\ttotal: 2.99s\tremaining: 1.72s\n",
      "635:\tlearn: 0.1309598\ttotal: 3s\tremaining: 1.72s\n",
      "636:\tlearn: 0.1308212\ttotal: 3s\tremaining: 1.71s\n",
      "637:\tlearn: 0.1307410\ttotal: 3.01s\tremaining: 1.71s\n",
      "638:\tlearn: 0.1305947\ttotal: 3.01s\tremaining: 1.7s\n",
      "639:\tlearn: 0.1303018\ttotal: 3.02s\tremaining: 1.7s\n",
      "640:\tlearn: 0.1302106\ttotal: 3.02s\tremaining: 1.69s\n",
      "641:\tlearn: 0.1300957\ttotal: 3.02s\tremaining: 1.69s\n",
      "642:\tlearn: 0.1300114\ttotal: 3.03s\tremaining: 1.68s\n",
      "643:\tlearn: 0.1298126\ttotal: 3.03s\tremaining: 1.68s\n",
      "644:\tlearn: 0.1295846\ttotal: 3.04s\tremaining: 1.67s\n",
      "645:\tlearn: 0.1293886\ttotal: 3.04s\tremaining: 1.67s\n",
      "646:\tlearn: 0.1293435\ttotal: 3.05s\tremaining: 1.66s\n",
      "647:\tlearn: 0.1291681\ttotal: 3.05s\tremaining: 1.66s\n",
      "648:\tlearn: 0.1290360\ttotal: 3.06s\tremaining: 1.65s\n",
      "649:\tlearn: 0.1290020\ttotal: 3.06s\tremaining: 1.65s\n",
      "650:\tlearn: 0.1287886\ttotal: 3.07s\tremaining: 1.64s\n",
      "651:\tlearn: 0.1286315\ttotal: 3.07s\tremaining: 1.64s\n",
      "652:\tlearn: 0.1284493\ttotal: 3.08s\tremaining: 1.63s\n",
      "653:\tlearn: 0.1281764\ttotal: 3.08s\tremaining: 1.63s\n",
      "654:\tlearn: 0.1281044\ttotal: 3.08s\tremaining: 1.62s\n",
      "655:\tlearn: 0.1280236\ttotal: 3.09s\tremaining: 1.62s\n",
      "656:\tlearn: 0.1279831\ttotal: 3.09s\tremaining: 1.61s\n",
      "657:\tlearn: 0.1278615\ttotal: 3.1s\tremaining: 1.61s\n",
      "658:\tlearn: 0.1277588\ttotal: 3.1s\tremaining: 1.6s\n",
      "659:\tlearn: 0.1277119\ttotal: 3.11s\tremaining: 1.6s\n",
      "660:\tlearn: 0.1276760\ttotal: 3.11s\tremaining: 1.59s\n",
      "661:\tlearn: 0.1275036\ttotal: 3.11s\tremaining: 1.59s\n",
      "662:\tlearn: 0.1273909\ttotal: 3.12s\tremaining: 1.58s\n",
      "663:\tlearn: 0.1273454\ttotal: 3.12s\tremaining: 1.58s\n",
      "664:\tlearn: 0.1273039\ttotal: 3.13s\tremaining: 1.57s\n",
      "665:\tlearn: 0.1271720\ttotal: 3.13s\tremaining: 1.57s\n",
      "666:\tlearn: 0.1270669\ttotal: 3.14s\tremaining: 1.57s\n",
      "667:\tlearn: 0.1269889\ttotal: 3.14s\tremaining: 1.56s\n",
      "668:\tlearn: 0.1269229\ttotal: 3.15s\tremaining: 1.56s\n",
      "669:\tlearn: 0.1266846\ttotal: 3.15s\tremaining: 1.55s\n",
      "670:\tlearn: 0.1265965\ttotal: 3.15s\tremaining: 1.55s\n",
      "671:\tlearn: 0.1264731\ttotal: 3.16s\tremaining: 1.54s\n",
      "672:\tlearn: 0.1263977\ttotal: 3.16s\tremaining: 1.54s\n",
      "673:\tlearn: 0.1263005\ttotal: 3.17s\tremaining: 1.53s\n",
      "674:\tlearn: 0.1262502\ttotal: 3.17s\tremaining: 1.53s\n",
      "675:\tlearn: 0.1262191\ttotal: 3.18s\tremaining: 1.52s\n",
      "676:\tlearn: 0.1260898\ttotal: 3.18s\tremaining: 1.52s\n",
      "677:\tlearn: 0.1259997\ttotal: 3.19s\tremaining: 1.51s\n",
      "678:\tlearn: 0.1259042\ttotal: 3.19s\tremaining: 1.51s\n",
      "679:\tlearn: 0.1257641\ttotal: 3.19s\tremaining: 1.5s\n",
      "680:\tlearn: 0.1256610\ttotal: 3.2s\tremaining: 1.5s\n",
      "681:\tlearn: 0.1255715\ttotal: 3.2s\tremaining: 1.49s\n",
      "682:\tlearn: 0.1254506\ttotal: 3.21s\tremaining: 1.49s\n",
      "683:\tlearn: 0.1251769\ttotal: 3.21s\tremaining: 1.48s\n",
      "684:\tlearn: 0.1249258\ttotal: 3.22s\tremaining: 1.48s\n",
      "685:\tlearn: 0.1247339\ttotal: 3.22s\tremaining: 1.47s\n",
      "686:\tlearn: 0.1246309\ttotal: 3.23s\tremaining: 1.47s\n",
      "687:\tlearn: 0.1245641\ttotal: 3.23s\tremaining: 1.47s\n",
      "688:\tlearn: 0.1244640\ttotal: 3.23s\tremaining: 1.46s\n",
      "689:\tlearn: 0.1243776\ttotal: 3.24s\tremaining: 1.46s\n",
      "690:\tlearn: 0.1242663\ttotal: 3.24s\tremaining: 1.45s\n",
      "691:\tlearn: 0.1242288\ttotal: 3.25s\tremaining: 1.45s\n",
      "692:\tlearn: 0.1241769\ttotal: 3.25s\tremaining: 1.44s\n",
      "693:\tlearn: 0.1240506\ttotal: 3.26s\tremaining: 1.44s\n",
      "694:\tlearn: 0.1239513\ttotal: 3.26s\tremaining: 1.43s\n",
      "695:\tlearn: 0.1238746\ttotal: 3.27s\tremaining: 1.43s\n",
      "696:\tlearn: 0.1237013\ttotal: 3.27s\tremaining: 1.42s\n",
      "697:\tlearn: 0.1235724\ttotal: 3.27s\tremaining: 1.42s\n",
      "698:\tlearn: 0.1235191\ttotal: 3.28s\tremaining: 1.41s\n",
      "699:\tlearn: 0.1232594\ttotal: 3.28s\tremaining: 1.41s\n",
      "700:\tlearn: 0.1231560\ttotal: 3.29s\tremaining: 1.4s\n",
      "701:\tlearn: 0.1229764\ttotal: 3.29s\tremaining: 1.4s\n",
      "702:\tlearn: 0.1229061\ttotal: 3.3s\tremaining: 1.39s\n",
      "703:\tlearn: 0.1227079\ttotal: 3.3s\tremaining: 1.39s\n",
      "704:\tlearn: 0.1226060\ttotal: 3.31s\tremaining: 1.38s\n",
      "705:\tlearn: 0.1225443\ttotal: 3.31s\tremaining: 1.38s\n",
      "706:\tlearn: 0.1224434\ttotal: 3.31s\tremaining: 1.37s\n",
      "707:\tlearn: 0.1222696\ttotal: 3.32s\tremaining: 1.37s\n",
      "708:\tlearn: 0.1221707\ttotal: 3.33s\tremaining: 1.36s\n",
      "709:\tlearn: 0.1221103\ttotal: 3.33s\tremaining: 1.36s\n",
      "710:\tlearn: 0.1220039\ttotal: 3.33s\tremaining: 1.35s\n",
      "711:\tlearn: 0.1218402\ttotal: 3.34s\tremaining: 1.35s\n",
      "712:\tlearn: 0.1216575\ttotal: 3.34s\tremaining: 1.34s\n",
      "713:\tlearn: 0.1216077\ttotal: 3.35s\tremaining: 1.34s\n",
      "714:\tlearn: 0.1215713\ttotal: 3.35s\tremaining: 1.34s\n",
      "715:\tlearn: 0.1215078\ttotal: 3.36s\tremaining: 1.33s\n",
      "716:\tlearn: 0.1214195\ttotal: 3.36s\tremaining: 1.33s\n",
      "717:\tlearn: 0.1212778\ttotal: 3.37s\tremaining: 1.32s\n",
      "718:\tlearn: 0.1212478\ttotal: 3.37s\tremaining: 1.32s\n",
      "719:\tlearn: 0.1211963\ttotal: 3.37s\tremaining: 1.31s\n",
      "720:\tlearn: 0.1211517\ttotal: 3.38s\tremaining: 1.31s\n",
      "721:\tlearn: 0.1210197\ttotal: 3.38s\tremaining: 1.3s\n",
      "722:\tlearn: 0.1209767\ttotal: 3.39s\tremaining: 1.3s\n",
      "723:\tlearn: 0.1208835\ttotal: 3.39s\tremaining: 1.29s\n",
      "724:\tlearn: 0.1207820\ttotal: 3.4s\tremaining: 1.29s\n",
      "725:\tlearn: 0.1207312\ttotal: 3.4s\tremaining: 1.28s\n",
      "726:\tlearn: 0.1206351\ttotal: 3.4s\tremaining: 1.28s\n",
      "727:\tlearn: 0.1205003\ttotal: 3.41s\tremaining: 1.27s\n",
      "728:\tlearn: 0.1203920\ttotal: 3.41s\tremaining: 1.27s\n",
      "729:\tlearn: 0.1203206\ttotal: 3.42s\tremaining: 1.26s\n",
      "730:\tlearn: 0.1202976\ttotal: 3.42s\tremaining: 1.26s\n",
      "731:\tlearn: 0.1202001\ttotal: 3.43s\tremaining: 1.25s\n",
      "732:\tlearn: 0.1200271\ttotal: 3.43s\tremaining: 1.25s\n",
      "733:\tlearn: 0.1198570\ttotal: 3.44s\tremaining: 1.25s\n",
      "734:\tlearn: 0.1197910\ttotal: 3.44s\tremaining: 1.24s\n",
      "735:\tlearn: 0.1197480\ttotal: 3.44s\tremaining: 1.24s\n",
      "736:\tlearn: 0.1196963\ttotal: 3.45s\tremaining: 1.23s\n",
      "737:\tlearn: 0.1196468\ttotal: 3.45s\tremaining: 1.23s\n",
      "738:\tlearn: 0.1196037\ttotal: 3.46s\tremaining: 1.22s\n",
      "739:\tlearn: 0.1194895\ttotal: 3.46s\tremaining: 1.22s\n",
      "740:\tlearn: 0.1193821\ttotal: 3.47s\tremaining: 1.21s\n",
      "741:\tlearn: 0.1193292\ttotal: 3.47s\tremaining: 1.21s\n",
      "742:\tlearn: 0.1192239\ttotal: 3.48s\tremaining: 1.2s\n",
      "743:\tlearn: 0.1191243\ttotal: 3.48s\tremaining: 1.2s\n",
      "744:\tlearn: 0.1190837\ttotal: 3.48s\tremaining: 1.19s\n",
      "745:\tlearn: 0.1189309\ttotal: 3.49s\tremaining: 1.19s\n",
      "746:\tlearn: 0.1188466\ttotal: 3.49s\tremaining: 1.18s\n",
      "747:\tlearn: 0.1187740\ttotal: 3.5s\tremaining: 1.18s\n",
      "748:\tlearn: 0.1186633\ttotal: 3.5s\tremaining: 1.17s\n",
      "749:\tlearn: 0.1185252\ttotal: 3.51s\tremaining: 1.17s\n",
      "750:\tlearn: 0.1185111\ttotal: 3.51s\tremaining: 1.16s\n",
      "751:\tlearn: 0.1184786\ttotal: 3.51s\tremaining: 1.16s\n",
      "752:\tlearn: 0.1184437\ttotal: 3.52s\tremaining: 1.15s\n",
      "753:\tlearn: 0.1182827\ttotal: 3.52s\tremaining: 1.15s\n",
      "754:\tlearn: 0.1182478\ttotal: 3.53s\tremaining: 1.14s\n",
      "755:\tlearn: 0.1182208\ttotal: 3.53s\tremaining: 1.14s\n",
      "756:\tlearn: 0.1182078\ttotal: 3.54s\tremaining: 1.14s\n",
      "757:\tlearn: 0.1181284\ttotal: 3.54s\tremaining: 1.13s\n",
      "758:\tlearn: 0.1180149\ttotal: 3.55s\tremaining: 1.13s\n",
      "759:\tlearn: 0.1179790\ttotal: 3.55s\tremaining: 1.12s\n",
      "760:\tlearn: 0.1179063\ttotal: 3.55s\tremaining: 1.12s\n",
      "761:\tlearn: 0.1178212\ttotal: 3.56s\tremaining: 1.11s\n",
      "762:\tlearn: 0.1177839\ttotal: 3.56s\tremaining: 1.11s\n",
      "763:\tlearn: 0.1176954\ttotal: 3.57s\tremaining: 1.1s\n",
      "764:\tlearn: 0.1176123\ttotal: 3.57s\tremaining: 1.1s\n",
      "765:\tlearn: 0.1174654\ttotal: 3.58s\tremaining: 1.09s\n",
      "766:\tlearn: 0.1173647\ttotal: 3.58s\tremaining: 1.09s\n",
      "767:\tlearn: 0.1172899\ttotal: 3.58s\tremaining: 1.08s\n",
      "768:\tlearn: 0.1171698\ttotal: 3.59s\tremaining: 1.08s\n",
      "769:\tlearn: 0.1170598\ttotal: 3.59s\tremaining: 1.07s\n",
      "770:\tlearn: 0.1170178\ttotal: 3.6s\tremaining: 1.07s\n",
      "771:\tlearn: 0.1169087\ttotal: 3.6s\tremaining: 1.06s\n",
      "772:\tlearn: 0.1168148\ttotal: 3.61s\tremaining: 1.06s\n",
      "773:\tlearn: 0.1166705\ttotal: 3.61s\tremaining: 1.05s\n",
      "774:\tlearn: 0.1165933\ttotal: 3.62s\tremaining: 1.05s\n",
      "775:\tlearn: 0.1165603\ttotal: 3.62s\tremaining: 1.04s\n",
      "776:\tlearn: 0.1164343\ttotal: 3.63s\tremaining: 1.04s\n",
      "777:\tlearn: 0.1163680\ttotal: 3.63s\tremaining: 1.04s\n",
      "778:\tlearn: 0.1163121\ttotal: 3.63s\tremaining: 1.03s\n",
      "779:\tlearn: 0.1161863\ttotal: 3.64s\tremaining: 1.03s\n",
      "780:\tlearn: 0.1160464\ttotal: 3.64s\tremaining: 1.02s\n",
      "781:\tlearn: 0.1159348\ttotal: 3.65s\tremaining: 1.02s\n",
      "782:\tlearn: 0.1159096\ttotal: 3.65s\tremaining: 1.01s\n",
      "783:\tlearn: 0.1157331\ttotal: 3.66s\tremaining: 1.01s\n",
      "784:\tlearn: 0.1156732\ttotal: 3.66s\tremaining: 1s\n",
      "785:\tlearn: 0.1155018\ttotal: 3.67s\tremaining: 998ms\n",
      "786:\tlearn: 0.1154094\ttotal: 3.67s\tremaining: 993ms\n",
      "787:\tlearn: 0.1152475\ttotal: 3.67s\tremaining: 989ms\n"
     ]
    },
    {
     "name": "stdout",
     "output_type": "stream",
     "text": [
      "788:\tlearn: 0.1151483\ttotal: 3.68s\tremaining: 984ms\n",
      "789:\tlearn: 0.1150659\ttotal: 3.68s\tremaining: 979ms\n",
      "790:\tlearn: 0.1149735\ttotal: 3.69s\tremaining: 975ms\n",
      "791:\tlearn: 0.1148433\ttotal: 3.69s\tremaining: 970ms\n",
      "792:\tlearn: 0.1147993\ttotal: 3.7s\tremaining: 965ms\n",
      "793:\tlearn: 0.1146812\ttotal: 3.7s\tremaining: 960ms\n",
      "794:\tlearn: 0.1145642\ttotal: 3.71s\tremaining: 956ms\n",
      "795:\tlearn: 0.1144388\ttotal: 3.71s\tremaining: 951ms\n",
      "796:\tlearn: 0.1143725\ttotal: 3.71s\tremaining: 946ms\n",
      "797:\tlearn: 0.1142658\ttotal: 3.72s\tremaining: 941ms\n",
      "798:\tlearn: 0.1142304\ttotal: 3.72s\tremaining: 937ms\n",
      "799:\tlearn: 0.1140732\ttotal: 3.73s\tremaining: 932ms\n",
      "800:\tlearn: 0.1140007\ttotal: 3.73s\tremaining: 927ms\n",
      "801:\tlearn: 0.1139122\ttotal: 3.74s\tremaining: 922ms\n",
      "802:\tlearn: 0.1137844\ttotal: 3.74s\tremaining: 918ms\n",
      "803:\tlearn: 0.1135563\ttotal: 3.74s\tremaining: 913ms\n",
      "804:\tlearn: 0.1134350\ttotal: 3.75s\tremaining: 908ms\n",
      "805:\tlearn: 0.1133238\ttotal: 3.75s\tremaining: 903ms\n",
      "806:\tlearn: 0.1131718\ttotal: 3.76s\tremaining: 899ms\n",
      "807:\tlearn: 0.1129986\ttotal: 3.76s\tremaining: 894ms\n",
      "808:\tlearn: 0.1129136\ttotal: 3.77s\tremaining: 889ms\n",
      "809:\tlearn: 0.1127341\ttotal: 3.77s\tremaining: 885ms\n",
      "810:\tlearn: 0.1126526\ttotal: 3.77s\tremaining: 880ms\n",
      "811:\tlearn: 0.1126060\ttotal: 3.78s\tremaining: 875ms\n",
      "812:\tlearn: 0.1124912\ttotal: 3.78s\tremaining: 870ms\n",
      "813:\tlearn: 0.1124266\ttotal: 3.79s\tremaining: 866ms\n",
      "814:\tlearn: 0.1123931\ttotal: 3.79s\tremaining: 861ms\n",
      "815:\tlearn: 0.1122109\ttotal: 3.8s\tremaining: 856ms\n",
      "816:\tlearn: 0.1121010\ttotal: 3.8s\tremaining: 851ms\n",
      "817:\tlearn: 0.1119564\ttotal: 3.81s\tremaining: 847ms\n",
      "818:\tlearn: 0.1118275\ttotal: 3.81s\tremaining: 842ms\n",
      "819:\tlearn: 0.1117034\ttotal: 3.81s\tremaining: 837ms\n",
      "820:\tlearn: 0.1116107\ttotal: 3.82s\tremaining: 832ms\n",
      "821:\tlearn: 0.1115005\ttotal: 3.82s\tremaining: 828ms\n",
      "822:\tlearn: 0.1114259\ttotal: 3.83s\tremaining: 823ms\n",
      "823:\tlearn: 0.1113359\ttotal: 3.83s\tremaining: 818ms\n",
      "824:\tlearn: 0.1112558\ttotal: 3.83s\tremaining: 814ms\n",
      "825:\tlearn: 0.1110652\ttotal: 3.84s\tremaining: 809ms\n",
      "826:\tlearn: 0.1108164\ttotal: 3.84s\tremaining: 804ms\n",
      "827:\tlearn: 0.1107327\ttotal: 3.85s\tremaining: 799ms\n",
      "828:\tlearn: 0.1105651\ttotal: 3.85s\tremaining: 795ms\n",
      "829:\tlearn: 0.1105036\ttotal: 3.86s\tremaining: 790ms\n",
      "830:\tlearn: 0.1104550\ttotal: 3.86s\tremaining: 785ms\n",
      "831:\tlearn: 0.1103960\ttotal: 3.87s\tremaining: 781ms\n",
      "832:\tlearn: 0.1103765\ttotal: 3.87s\tremaining: 776ms\n",
      "833:\tlearn: 0.1103264\ttotal: 3.88s\tremaining: 771ms\n",
      "834:\tlearn: 0.1102274\ttotal: 3.88s\tremaining: 767ms\n",
      "835:\tlearn: 0.1100890\ttotal: 3.88s\tremaining: 762ms\n",
      "836:\tlearn: 0.1099935\ttotal: 3.89s\tremaining: 757ms\n",
      "837:\tlearn: 0.1099149\ttotal: 3.89s\tremaining: 753ms\n",
      "838:\tlearn: 0.1098524\ttotal: 3.9s\tremaining: 748ms\n",
      "839:\tlearn: 0.1097860\ttotal: 3.9s\tremaining: 743ms\n",
      "840:\tlearn: 0.1097038\ttotal: 3.91s\tremaining: 739ms\n",
      "841:\tlearn: 0.1095795\ttotal: 3.91s\tremaining: 734ms\n",
      "842:\tlearn: 0.1094638\ttotal: 3.92s\tremaining: 729ms\n",
      "843:\tlearn: 0.1094057\ttotal: 3.92s\tremaining: 725ms\n",
      "844:\tlearn: 0.1093626\ttotal: 3.93s\tremaining: 720ms\n",
      "845:\tlearn: 0.1093390\ttotal: 3.93s\tremaining: 716ms\n",
      "846:\tlearn: 0.1092481\ttotal: 3.94s\tremaining: 711ms\n",
      "847:\tlearn: 0.1091660\ttotal: 3.94s\tremaining: 706ms\n",
      "848:\tlearn: 0.1091442\ttotal: 3.94s\tremaining: 702ms\n",
      "849:\tlearn: 0.1090524\ttotal: 3.95s\tremaining: 697ms\n",
      "850:\tlearn: 0.1089342\ttotal: 3.95s\tremaining: 692ms\n",
      "851:\tlearn: 0.1088223\ttotal: 3.96s\tremaining: 688ms\n",
      "852:\tlearn: 0.1087703\ttotal: 3.96s\tremaining: 683ms\n",
      "853:\tlearn: 0.1087226\ttotal: 3.97s\tremaining: 678ms\n",
      "854:\tlearn: 0.1086517\ttotal: 3.97s\tremaining: 674ms\n",
      "855:\tlearn: 0.1085223\ttotal: 3.98s\tremaining: 669ms\n",
      "856:\tlearn: 0.1084434\ttotal: 3.98s\tremaining: 664ms\n",
      "857:\tlearn: 0.1083285\ttotal: 3.98s\tremaining: 660ms\n",
      "858:\tlearn: 0.1082140\ttotal: 3.99s\tremaining: 655ms\n",
      "859:\tlearn: 0.1080595\ttotal: 3.99s\tremaining: 650ms\n",
      "860:\tlearn: 0.1080053\ttotal: 4s\tremaining: 646ms\n",
      "861:\tlearn: 0.1079458\ttotal: 4s\tremaining: 641ms\n",
      "862:\tlearn: 0.1078714\ttotal: 4.01s\tremaining: 636ms\n",
      "863:\tlearn: 0.1077496\ttotal: 4.01s\tremaining: 632ms\n",
      "864:\tlearn: 0.1077128\ttotal: 4.02s\tremaining: 627ms\n",
      "865:\tlearn: 0.1076551\ttotal: 4.02s\tremaining: 622ms\n",
      "866:\tlearn: 0.1076069\ttotal: 4.03s\tremaining: 618ms\n",
      "867:\tlearn: 0.1075372\ttotal: 4.03s\tremaining: 613ms\n",
      "868:\tlearn: 0.1073927\ttotal: 4.04s\tremaining: 609ms\n",
      "869:\tlearn: 0.1072964\ttotal: 4.04s\tremaining: 604ms\n",
      "870:\tlearn: 0.1072361\ttotal: 4.04s\tremaining: 599ms\n",
      "871:\tlearn: 0.1071134\ttotal: 4.05s\tremaining: 595ms\n",
      "872:\tlearn: 0.1070587\ttotal: 4.05s\tremaining: 590ms\n",
      "873:\tlearn: 0.1069687\ttotal: 4.06s\tremaining: 585ms\n",
      "874:\tlearn: 0.1068833\ttotal: 4.06s\tremaining: 581ms\n",
      "875:\tlearn: 0.1068616\ttotal: 4.07s\tremaining: 576ms\n",
      "876:\tlearn: 0.1068269\ttotal: 4.07s\tremaining: 571ms\n",
      "877:\tlearn: 0.1067856\ttotal: 4.08s\tremaining: 566ms\n",
      "878:\tlearn: 0.1066687\ttotal: 4.08s\tremaining: 562ms\n",
      "879:\tlearn: 0.1066077\ttotal: 4.09s\tremaining: 557ms\n",
      "880:\tlearn: 0.1065245\ttotal: 4.09s\tremaining: 553ms\n",
      "881:\tlearn: 0.1063742\ttotal: 4.09s\tremaining: 548ms\n",
      "882:\tlearn: 0.1062939\ttotal: 4.1s\tremaining: 543ms\n",
      "883:\tlearn: 0.1061929\ttotal: 4.1s\tremaining: 538ms\n",
      "884:\tlearn: 0.1060812\ttotal: 4.11s\tremaining: 534ms\n",
      "885:\tlearn: 0.1060198\ttotal: 4.11s\tremaining: 529ms\n",
      "886:\tlearn: 0.1059109\ttotal: 4.12s\tremaining: 525ms\n",
      "887:\tlearn: 0.1058371\ttotal: 4.12s\tremaining: 520ms\n",
      "888:\tlearn: 0.1057639\ttotal: 4.13s\tremaining: 515ms\n",
      "889:\tlearn: 0.1056692\ttotal: 4.13s\tremaining: 511ms\n",
      "890:\tlearn: 0.1055650\ttotal: 4.13s\tremaining: 506ms\n",
      "891:\tlearn: 0.1054365\ttotal: 4.14s\tremaining: 501ms\n",
      "892:\tlearn: 0.1053885\ttotal: 4.14s\tremaining: 497ms\n",
      "893:\tlearn: 0.1052959\ttotal: 4.15s\tremaining: 492ms\n",
      "894:\tlearn: 0.1052104\ttotal: 4.15s\tremaining: 487ms\n",
      "895:\tlearn: 0.1051557\ttotal: 4.16s\tremaining: 483ms\n",
      "896:\tlearn: 0.1050987\ttotal: 4.16s\tremaining: 478ms\n",
      "897:\tlearn: 0.1050761\ttotal: 4.17s\tremaining: 473ms\n",
      "898:\tlearn: 0.1050439\ttotal: 4.17s\tremaining: 469ms\n",
      "899:\tlearn: 0.1049711\ttotal: 4.18s\tremaining: 464ms\n",
      "900:\tlearn: 0.1049152\ttotal: 4.18s\tremaining: 459ms\n",
      "901:\tlearn: 0.1048015\ttotal: 4.19s\tremaining: 455ms\n",
      "902:\tlearn: 0.1047387\ttotal: 4.19s\tremaining: 450ms\n",
      "903:\tlearn: 0.1046669\ttotal: 4.2s\tremaining: 446ms\n",
      "904:\tlearn: 0.1046358\ttotal: 4.2s\tremaining: 441ms\n",
      "905:\tlearn: 0.1045566\ttotal: 4.2s\tremaining: 436ms\n",
      "906:\tlearn: 0.1044632\ttotal: 4.21s\tremaining: 432ms\n",
      "907:\tlearn: 0.1043690\ttotal: 4.22s\tremaining: 427ms\n",
      "908:\tlearn: 0.1043379\ttotal: 4.22s\tremaining: 423ms\n",
      "909:\tlearn: 0.1042393\ttotal: 4.22s\tremaining: 418ms\n",
      "910:\tlearn: 0.1041230\ttotal: 4.23s\tremaining: 413ms\n",
      "911:\tlearn: 0.1040457\ttotal: 4.24s\tremaining: 409ms\n",
      "912:\tlearn: 0.1040265\ttotal: 4.24s\tremaining: 404ms\n",
      "913:\tlearn: 0.1039985\ttotal: 4.25s\tremaining: 399ms\n",
      "914:\tlearn: 0.1039082\ttotal: 4.25s\tremaining: 395ms\n",
      "915:\tlearn: 0.1038566\ttotal: 4.25s\tremaining: 390ms\n",
      "916:\tlearn: 0.1038328\ttotal: 4.26s\tremaining: 386ms\n",
      "917:\tlearn: 0.1037942\ttotal: 4.26s\tremaining: 381ms\n",
      "918:\tlearn: 0.1037364\ttotal: 4.27s\tremaining: 376ms\n",
      "919:\tlearn: 0.1036252\ttotal: 4.27s\tremaining: 372ms\n",
      "920:\tlearn: 0.1035344\ttotal: 4.28s\tremaining: 367ms\n",
      "921:\tlearn: 0.1034618\ttotal: 4.28s\tremaining: 362ms\n",
      "922:\tlearn: 0.1033540\ttotal: 4.29s\tremaining: 358ms\n",
      "923:\tlearn: 0.1032778\ttotal: 4.29s\tremaining: 353ms\n",
      "924:\tlearn: 0.1032006\ttotal: 4.3s\tremaining: 348ms\n",
      "925:\tlearn: 0.1031532\ttotal: 4.3s\tremaining: 344ms\n",
      "926:\tlearn: 0.1030229\ttotal: 4.31s\tremaining: 339ms\n",
      "927:\tlearn: 0.1028407\ttotal: 4.31s\tremaining: 334ms\n",
      "928:\tlearn: 0.1028172\ttotal: 4.32s\tremaining: 330ms\n",
      "929:\tlearn: 0.1027403\ttotal: 4.32s\tremaining: 325ms\n",
      "930:\tlearn: 0.1027231\ttotal: 4.33s\tremaining: 321ms\n",
      "931:\tlearn: 0.1025468\ttotal: 4.33s\tremaining: 316ms\n",
      "932:\tlearn: 0.1023995\ttotal: 4.34s\tremaining: 312ms\n",
      "933:\tlearn: 0.1023422\ttotal: 4.34s\tremaining: 307ms\n",
      "934:\tlearn: 0.1023047\ttotal: 4.35s\tremaining: 302ms\n",
      "935:\tlearn: 0.1021661\ttotal: 4.35s\tremaining: 298ms\n",
      "936:\tlearn: 0.1020784\ttotal: 4.36s\tremaining: 293ms\n",
      "937:\tlearn: 0.1020311\ttotal: 4.36s\tremaining: 288ms\n",
      "938:\tlearn: 0.1019458\ttotal: 4.37s\tremaining: 284ms\n",
      "939:\tlearn: 0.1019202\ttotal: 4.37s\tremaining: 279ms\n",
      "940:\tlearn: 0.1018629\ttotal: 4.38s\tremaining: 275ms\n",
      "941:\tlearn: 0.1018472\ttotal: 4.38s\tremaining: 270ms\n",
      "942:\tlearn: 0.1018093\ttotal: 4.39s\tremaining: 265ms\n",
      "943:\tlearn: 0.1016746\ttotal: 4.39s\tremaining: 261ms\n",
      "944:\tlearn: 0.1016556\ttotal: 4.4s\tremaining: 256ms\n",
      "945:\tlearn: 0.1015446\ttotal: 4.4s\tremaining: 251ms\n",
      "946:\tlearn: 0.1014855\ttotal: 4.41s\tremaining: 247ms\n",
      "947:\tlearn: 0.1014156\ttotal: 4.41s\tremaining: 242ms\n",
      "948:\tlearn: 0.1013431\ttotal: 4.42s\tremaining: 237ms\n",
      "949:\tlearn: 0.1012164\ttotal: 4.42s\tremaining: 233ms\n",
      "950:\tlearn: 0.1011605\ttotal: 4.43s\tremaining: 228ms\n",
      "951:\tlearn: 0.1010375\ttotal: 4.43s\tremaining: 223ms\n",
      "952:\tlearn: 0.1008699\ttotal: 4.44s\tremaining: 219ms\n",
      "953:\tlearn: 0.1007049\ttotal: 4.44s\tremaining: 214ms\n",
      "954:\tlearn: 0.1005930\ttotal: 4.45s\tremaining: 210ms\n",
      "955:\tlearn: 0.1005721\ttotal: 4.45s\tremaining: 205ms\n",
      "956:\tlearn: 0.1005106\ttotal: 4.46s\tremaining: 200ms\n",
      "957:\tlearn: 0.1004699\ttotal: 4.46s\tremaining: 196ms\n",
      "958:\tlearn: 0.1004591\ttotal: 4.47s\tremaining: 191ms\n",
      "959:\tlearn: 0.1003957\ttotal: 4.47s\tremaining: 186ms\n",
      "960:\tlearn: 0.1003031\ttotal: 4.48s\tremaining: 182ms\n",
      "961:\tlearn: 0.1001300\ttotal: 4.48s\tremaining: 177ms\n",
      "962:\tlearn: 0.1000806\ttotal: 4.49s\tremaining: 173ms\n",
      "963:\tlearn: 0.1000039\ttotal: 4.49s\tremaining: 168ms\n",
      "964:\tlearn: 0.0999337\ttotal: 4.5s\tremaining: 163ms\n",
      "965:\tlearn: 0.0998802\ttotal: 4.5s\tremaining: 159ms\n",
      "966:\tlearn: 0.0998441\ttotal: 4.51s\tremaining: 154ms\n",
      "967:\tlearn: 0.0997647\ttotal: 4.51s\tremaining: 149ms\n",
      "968:\tlearn: 0.0997201\ttotal: 4.52s\tremaining: 145ms\n",
      "969:\tlearn: 0.0996652\ttotal: 4.52s\tremaining: 140ms\n",
      "970:\tlearn: 0.0996232\ttotal: 4.53s\tremaining: 135ms\n",
      "971:\tlearn: 0.0995855\ttotal: 4.53s\tremaining: 131ms\n",
      "972:\tlearn: 0.0995326\ttotal: 4.54s\tremaining: 126ms\n",
      "973:\tlearn: 0.0994745\ttotal: 4.54s\tremaining: 121ms\n",
      "974:\tlearn: 0.0993700\ttotal: 4.55s\tremaining: 117ms\n",
      "975:\tlearn: 0.0993014\ttotal: 4.55s\tremaining: 112ms\n",
      "976:\tlearn: 0.0992526\ttotal: 4.56s\tremaining: 107ms\n"
     ]
    },
    {
     "name": "stdout",
     "output_type": "stream",
     "text": [
      "977:\tlearn: 0.0991451\ttotal: 4.57s\tremaining: 103ms\n",
      "978:\tlearn: 0.0990719\ttotal: 4.57s\tremaining: 98ms\n",
      "979:\tlearn: 0.0990296\ttotal: 4.58s\tremaining: 93.4ms\n",
      "980:\tlearn: 0.0989370\ttotal: 4.58s\tremaining: 88.7ms\n",
      "981:\tlearn: 0.0988137\ttotal: 4.58s\tremaining: 84ms\n",
      "982:\tlearn: 0.0987720\ttotal: 4.59s\tremaining: 79.4ms\n",
      "983:\tlearn: 0.0987158\ttotal: 4.59s\tremaining: 74.7ms\n",
      "984:\tlearn: 0.0985763\ttotal: 4.6s\tremaining: 70.1ms\n",
      "985:\tlearn: 0.0984815\ttotal: 4.61s\tremaining: 65.4ms\n",
      "986:\tlearn: 0.0984345\ttotal: 4.61s\tremaining: 60.7ms\n",
      "987:\tlearn: 0.0983817\ttotal: 4.61s\tremaining: 56ms\n",
      "988:\tlearn: 0.0983438\ttotal: 4.62s\tremaining: 51.4ms\n",
      "989:\tlearn: 0.0982946\ttotal: 4.62s\tremaining: 46.7ms\n",
      "990:\tlearn: 0.0982152\ttotal: 4.63s\tremaining: 42ms\n",
      "991:\tlearn: 0.0981132\ttotal: 4.63s\tremaining: 37.4ms\n",
      "992:\tlearn: 0.0980324\ttotal: 4.64s\tremaining: 32.7ms\n",
      "993:\tlearn: 0.0980079\ttotal: 4.64s\tremaining: 28ms\n",
      "994:\tlearn: 0.0979157\ttotal: 4.65s\tremaining: 23.3ms\n",
      "995:\tlearn: 0.0978771\ttotal: 4.65s\tremaining: 18.7ms\n",
      "996:\tlearn: 0.0977926\ttotal: 4.66s\tremaining: 14ms\n",
      "997:\tlearn: 0.0977201\ttotal: 4.66s\tremaining: 9.34ms\n",
      "998:\tlearn: 0.0976581\ttotal: 4.66s\tremaining: 4.67ms\n",
      "999:\tlearn: 0.0976457\ttotal: 4.67s\tremaining: 0us\n"
     ]
    }
   ],
   "source": [
    "\n",
    "from sklearn.compose import ColumnTransformer\n",
    "\n",
    "\n",
    "categorical_features = features_train.select_dtypes(include='object').columns\n",
    "numeric_features = features_train.select_dtypes(exclude='object').columns\n",
    "\n",
    "param1 = {}\n",
    "param1['classifier__max_depth'] = [2,4,6,8,10,12]\n",
    "param1['classifier__min_samples_split'] = [2,5,10]\n",
    "param1['classifier'] = [clf1]\n",
    "\n",
    "param2 = {}\n",
    "param2['classifier__n_estimators'] = [10,20,30,40,50]\n",
    "param2['classifier__max_depth'] = [6,8,10,12]\n",
    "param2['classifier'] = [clf2]\n",
    "\n",
    "param3 = {}\n",
    "param3['classifier__max_depth'] = [4,6,8,10,12]\n",
    "# param3['classifier__n_estimators'] = [5,10,15,20]\n",
    "param3['classifier__learning_rate'] = [0.003, 0.1, 0.3]\n",
    "param3['classifier__iterations'] = [100,300, 500,1000]\n",
    "param3['classifier'] = [clf3]\n",
    "\n",
    "param4 = {}\n",
    "param4['classifier__C'] = [0.5, 1.0, 1,5]\n",
    "param4['classifier'] = [clf4]\n",
    "\n",
    "preprocessor = ColumnTransformer([('cat',  OneHotEncoder(drop='first',handle_unknown=\"ignore\"), categorical_features),\n",
    "                       ('num', StandardScaler(),numeric_features)])\n",
    "pipe = Pipeline(steps=[('preprocessor', preprocessor),\n",
    "                      ('classifier', clf1)]\n",
    ")\n",
    "params = [param1, param2, param3, param4]\n",
    "model = GridSearchCV(pipe, params, cv=3, n_jobs=-1, scoring='roc_auc').fit(features_train, target_train)"
   ]
  },
  {
   "cell_type": "code",
   "execution_count": 84,
   "id": "37597325",
   "metadata": {
    "scrolled": true
   },
   "outputs": [
    {
     "data": {
      "text/html": [
       "<style>#sk-container-id-1 {color: black;background-color: white;}#sk-container-id-1 pre{padding: 0;}#sk-container-id-1 div.sk-toggleable {background-color: white;}#sk-container-id-1 label.sk-toggleable__label {cursor: pointer;display: block;width: 100%;margin-bottom: 0;padding: 0.3em;box-sizing: border-box;text-align: center;}#sk-container-id-1 label.sk-toggleable__label-arrow:before {content: \"▸\";float: left;margin-right: 0.25em;color: #696969;}#sk-container-id-1 label.sk-toggleable__label-arrow:hover:before {color: black;}#sk-container-id-1 div.sk-estimator:hover label.sk-toggleable__label-arrow:before {color: black;}#sk-container-id-1 div.sk-toggleable__content {max-height: 0;max-width: 0;overflow: hidden;text-align: left;background-color: #f0f8ff;}#sk-container-id-1 div.sk-toggleable__content pre {margin: 0.2em;color: black;border-radius: 0.25em;background-color: #f0f8ff;}#sk-container-id-1 input.sk-toggleable__control:checked~div.sk-toggleable__content {max-height: 200px;max-width: 100%;overflow: auto;}#sk-container-id-1 input.sk-toggleable__control:checked~label.sk-toggleable__label-arrow:before {content: \"▾\";}#sk-container-id-1 div.sk-estimator input.sk-toggleable__control:checked~label.sk-toggleable__label {background-color: #d4ebff;}#sk-container-id-1 div.sk-label input.sk-toggleable__control:checked~label.sk-toggleable__label {background-color: #d4ebff;}#sk-container-id-1 input.sk-hidden--visually {border: 0;clip: rect(1px 1px 1px 1px);clip: rect(1px, 1px, 1px, 1px);height: 1px;margin: -1px;overflow: hidden;padding: 0;position: absolute;width: 1px;}#sk-container-id-1 div.sk-estimator {font-family: monospace;background-color: #f0f8ff;border: 1px dotted black;border-radius: 0.25em;box-sizing: border-box;margin-bottom: 0.5em;}#sk-container-id-1 div.sk-estimator:hover {background-color: #d4ebff;}#sk-container-id-1 div.sk-parallel-item::after {content: \"\";width: 100%;border-bottom: 1px solid gray;flex-grow: 1;}#sk-container-id-1 div.sk-label:hover label.sk-toggleable__label {background-color: #d4ebff;}#sk-container-id-1 div.sk-serial::before {content: \"\";position: absolute;border-left: 1px solid gray;box-sizing: border-box;top: 0;bottom: 0;left: 50%;z-index: 0;}#sk-container-id-1 div.sk-serial {display: flex;flex-direction: column;align-items: center;background-color: white;padding-right: 0.2em;padding-left: 0.2em;position: relative;}#sk-container-id-1 div.sk-item {position: relative;z-index: 1;}#sk-container-id-1 div.sk-parallel {display: flex;align-items: stretch;justify-content: center;background-color: white;position: relative;}#sk-container-id-1 div.sk-item::before, #sk-container-id-1 div.sk-parallel-item::before {content: \"\";position: absolute;border-left: 1px solid gray;box-sizing: border-box;top: 0;bottom: 0;left: 50%;z-index: -1;}#sk-container-id-1 div.sk-parallel-item {display: flex;flex-direction: column;z-index: 1;position: relative;background-color: white;}#sk-container-id-1 div.sk-parallel-item:first-child::after {align-self: flex-end;width: 50%;}#sk-container-id-1 div.sk-parallel-item:last-child::after {align-self: flex-start;width: 50%;}#sk-container-id-1 div.sk-parallel-item:only-child::after {width: 0;}#sk-container-id-1 div.sk-dashed-wrapped {border: 1px dashed gray;margin: 0 0.4em 0.5em 0.4em;box-sizing: border-box;padding-bottom: 0.4em;background-color: white;}#sk-container-id-1 div.sk-label label {font-family: monospace;font-weight: bold;display: inline-block;line-height: 1.2em;}#sk-container-id-1 div.sk-label-container {text-align: center;}#sk-container-id-1 div.sk-container {/* jupyter's `normalize.less` sets `[hidden] { display: none; }` but bootstrap.min.css set `[hidden] { display: none !important; }` so we also need the `!important` here to be able to override the default hidden behavior on the sphinx rendered scikit-learn.org. See: https://github.com/scikit-learn/scikit-learn/issues/21755 */display: inline-block !important;position: relative;}#sk-container-id-1 div.sk-text-repr-fallback {display: none;}</style><div id=\"sk-container-id-1\" class=\"sk-top-container\"><div class=\"sk-text-repr-fallback\"><pre>Pipeline(steps=[(&#x27;preprocessor&#x27;,\n",
       "                 ColumnTransformer(transformers=[(&#x27;cat&#x27;,\n",
       "                                                  OneHotEncoder(drop=&#x27;first&#x27;,\n",
       "                                                                handle_unknown=&#x27;ignore&#x27;),\n",
       "                                                  Index([&#x27;type&#x27;, &#x27;paperlessbilling&#x27;, &#x27;paymentmethod&#x27;, &#x27;partner&#x27;, &#x27;dependents&#x27;,\n",
       "       &#x27;multiplelines&#x27;, &#x27;internetservice&#x27;, &#x27;onlinesecurity&#x27;, &#x27;onlinebackup&#x27;,\n",
       "       &#x27;deviceprotection&#x27;, &#x27;techsupport&#x27;, &#x27;streamingtv&#x27;, &#x27;streamingmovies&#x27;],\n",
       "      dtype=&#x27;object&#x27;)),\n",
       "                                                 (&#x27;num&#x27;, StandardScaler(),\n",
       "                                                  Index([&#x27;monthlycharges&#x27;, &#x27;totalcharges&#x27;, &#x27;seniorcitizen&#x27;, &#x27;length&#x27;], dtype=&#x27;object&#x27;))])),\n",
       "                (&#x27;classifier&#x27;,\n",
       "                 &lt;catboost.core.CatBoostClassifier object at 0x00000195A8383A00&gt;)])</pre><b>In a Jupyter environment, please rerun this cell to show the HTML representation or trust the notebook. <br />On GitHub, the HTML representation is unable to render, please try loading this page with nbviewer.org.</b></div><div class=\"sk-container\" hidden><div class=\"sk-item sk-dashed-wrapped\"><div class=\"sk-label-container\"><div class=\"sk-label sk-toggleable\"><input class=\"sk-toggleable__control sk-hidden--visually\" id=\"sk-estimator-id-1\" type=\"checkbox\" ><label for=\"sk-estimator-id-1\" class=\"sk-toggleable__label sk-toggleable__label-arrow\">Pipeline</label><div class=\"sk-toggleable__content\"><pre>Pipeline(steps=[(&#x27;preprocessor&#x27;,\n",
       "                 ColumnTransformer(transformers=[(&#x27;cat&#x27;,\n",
       "                                                  OneHotEncoder(drop=&#x27;first&#x27;,\n",
       "                                                                handle_unknown=&#x27;ignore&#x27;),\n",
       "                                                  Index([&#x27;type&#x27;, &#x27;paperlessbilling&#x27;, &#x27;paymentmethod&#x27;, &#x27;partner&#x27;, &#x27;dependents&#x27;,\n",
       "       &#x27;multiplelines&#x27;, &#x27;internetservice&#x27;, &#x27;onlinesecurity&#x27;, &#x27;onlinebackup&#x27;,\n",
       "       &#x27;deviceprotection&#x27;, &#x27;techsupport&#x27;, &#x27;streamingtv&#x27;, &#x27;streamingmovies&#x27;],\n",
       "      dtype=&#x27;object&#x27;)),\n",
       "                                                 (&#x27;num&#x27;, StandardScaler(),\n",
       "                                                  Index([&#x27;monthlycharges&#x27;, &#x27;totalcharges&#x27;, &#x27;seniorcitizen&#x27;, &#x27;length&#x27;], dtype=&#x27;object&#x27;))])),\n",
       "                (&#x27;classifier&#x27;,\n",
       "                 &lt;catboost.core.CatBoostClassifier object at 0x00000195A8383A00&gt;)])</pre></div></div></div><div class=\"sk-serial\"><div class=\"sk-item sk-dashed-wrapped\"><div class=\"sk-label-container\"><div class=\"sk-label sk-toggleable\"><input class=\"sk-toggleable__control sk-hidden--visually\" id=\"sk-estimator-id-2\" type=\"checkbox\" ><label for=\"sk-estimator-id-2\" class=\"sk-toggleable__label sk-toggleable__label-arrow\">preprocessor: ColumnTransformer</label><div class=\"sk-toggleable__content\"><pre>ColumnTransformer(transformers=[(&#x27;cat&#x27;,\n",
       "                                 OneHotEncoder(drop=&#x27;first&#x27;,\n",
       "                                               handle_unknown=&#x27;ignore&#x27;),\n",
       "                                 Index([&#x27;type&#x27;, &#x27;paperlessbilling&#x27;, &#x27;paymentmethod&#x27;, &#x27;partner&#x27;, &#x27;dependents&#x27;,\n",
       "       &#x27;multiplelines&#x27;, &#x27;internetservice&#x27;, &#x27;onlinesecurity&#x27;, &#x27;onlinebackup&#x27;,\n",
       "       &#x27;deviceprotection&#x27;, &#x27;techsupport&#x27;, &#x27;streamingtv&#x27;, &#x27;streamingmovies&#x27;],\n",
       "      dtype=&#x27;object&#x27;)),\n",
       "                                (&#x27;num&#x27;, StandardScaler(),\n",
       "                                 Index([&#x27;monthlycharges&#x27;, &#x27;totalcharges&#x27;, &#x27;seniorcitizen&#x27;, &#x27;length&#x27;], dtype=&#x27;object&#x27;))])</pre></div></div></div><div class=\"sk-parallel\"><div class=\"sk-parallel-item\"><div class=\"sk-item\"><div class=\"sk-label-container\"><div class=\"sk-label sk-toggleable\"><input class=\"sk-toggleable__control sk-hidden--visually\" id=\"sk-estimator-id-3\" type=\"checkbox\" ><label for=\"sk-estimator-id-3\" class=\"sk-toggleable__label sk-toggleable__label-arrow\">cat</label><div class=\"sk-toggleable__content\"><pre>Index([&#x27;type&#x27;, &#x27;paperlessbilling&#x27;, &#x27;paymentmethod&#x27;, &#x27;partner&#x27;, &#x27;dependents&#x27;,\n",
       "       &#x27;multiplelines&#x27;, &#x27;internetservice&#x27;, &#x27;onlinesecurity&#x27;, &#x27;onlinebackup&#x27;,\n",
       "       &#x27;deviceprotection&#x27;, &#x27;techsupport&#x27;, &#x27;streamingtv&#x27;, &#x27;streamingmovies&#x27;],\n",
       "      dtype=&#x27;object&#x27;)</pre></div></div></div><div class=\"sk-serial\"><div class=\"sk-item\"><div class=\"sk-estimator sk-toggleable\"><input class=\"sk-toggleable__control sk-hidden--visually\" id=\"sk-estimator-id-4\" type=\"checkbox\" ><label for=\"sk-estimator-id-4\" class=\"sk-toggleable__label sk-toggleable__label-arrow\">OneHotEncoder</label><div class=\"sk-toggleable__content\"><pre>OneHotEncoder(drop=&#x27;first&#x27;, handle_unknown=&#x27;ignore&#x27;)</pre></div></div></div></div></div></div><div class=\"sk-parallel-item\"><div class=\"sk-item\"><div class=\"sk-label-container\"><div class=\"sk-label sk-toggleable\"><input class=\"sk-toggleable__control sk-hidden--visually\" id=\"sk-estimator-id-5\" type=\"checkbox\" ><label for=\"sk-estimator-id-5\" class=\"sk-toggleable__label sk-toggleable__label-arrow\">num</label><div class=\"sk-toggleable__content\"><pre>Index([&#x27;monthlycharges&#x27;, &#x27;totalcharges&#x27;, &#x27;seniorcitizen&#x27;, &#x27;length&#x27;], dtype=&#x27;object&#x27;)</pre></div></div></div><div class=\"sk-serial\"><div class=\"sk-item\"><div class=\"sk-estimator sk-toggleable\"><input class=\"sk-toggleable__control sk-hidden--visually\" id=\"sk-estimator-id-6\" type=\"checkbox\" ><label for=\"sk-estimator-id-6\" class=\"sk-toggleable__label sk-toggleable__label-arrow\">StandardScaler</label><div class=\"sk-toggleable__content\"><pre>StandardScaler()</pre></div></div></div></div></div></div></div></div><div class=\"sk-item\"><div class=\"sk-estimator sk-toggleable\"><input class=\"sk-toggleable__control sk-hidden--visually\" id=\"sk-estimator-id-7\" type=\"checkbox\" ><label for=\"sk-estimator-id-7\" class=\"sk-toggleable__label sk-toggleable__label-arrow\">CatBoostClassifier</label><div class=\"sk-toggleable__content\"><pre>&lt;catboost.core.CatBoostClassifier object at 0x00000195A8383A00&gt;</pre></div></div></div></div></div></div></div>"
      ],
      "text/plain": [
       "Pipeline(steps=[('preprocessor',\n",
       "                 ColumnTransformer(transformers=[('cat',\n",
       "                                                  OneHotEncoder(drop='first',\n",
       "                                                                handle_unknown='ignore'),\n",
       "                                                  Index(['type', 'paperlessbilling', 'paymentmethod', 'partner', 'dependents',\n",
       "       'multiplelines', 'internetservice', 'onlinesecurity', 'onlinebackup',\n",
       "       'deviceprotection', 'techsupport', 'streamingtv', 'streamingmovies'],\n",
       "      dtype='object')),\n",
       "                                                 ('num', StandardScaler(),\n",
       "                                                  Index(['monthlycharges', 'totalcharges', 'seniorcitizen', 'length'], dtype='object'))])),\n",
       "                ('classifier',\n",
       "                 <catboost.core.CatBoostClassifier object at 0x00000195A8383A00>)])"
      ]
     },
     "execution_count": 84,
     "metadata": {},
     "output_type": "execute_result"
    }
   ],
   "source": [
    "# Выведем лучшую модель\n",
    "#best_model =model.best_estimator_\n",
    "#best_model"
   ]
  },
  {
   "cell_type": "code",
   "execution_count": 85,
   "id": "1113ae5f",
   "metadata": {},
   "outputs": [
    {
     "data": {
      "text/plain": [
       "{'classifier': <catboost.core.CatBoostClassifier at 0x195a84b11f0>,\n",
       " 'classifier__iterations': 1000,\n",
       " 'classifier__learning_rate': 0.1,\n",
       " 'classifier__max_depth': 4}"
      ]
     },
     "execution_count": 85,
     "metadata": {},
     "output_type": "execute_result"
    }
   ],
   "source": [
    "model.best_params_"
   ]
  },
  {
   "cell_type": "code",
   "execution_count": 86,
   "id": "8130e5d5",
   "metadata": {},
   "outputs": [
    {
     "data": {
      "text/plain": [
       "0.9156257167587426"
      ]
     },
     "execution_count": 86,
     "metadata": {},
     "output_type": "execute_result"
    }
   ],
   "source": [
    "# ROC-AUC на обучении\n",
    "model.best_score_"
   ]
  },
  {
   "cell_type": "markdown",
   "id": "81e90bf2",
   "metadata": {},
   "source": [
    "## Тестирование"
   ]
  },
  {
   "cell_type": "markdown",
   "id": "8dfaec75",
   "metadata": {},
   "source": [
    "Лучшей моделью по итогам обучения оказался Cat Boost, протестируем ее.\n",
    " "
   ]
  },
  {
   "cell_type": "code",
   "execution_count": 87,
   "id": "4d378d34",
   "metadata": {},
   "outputs": [],
   "source": [
    "preds = best_model.predict(features_test)"
   ]
  },
  {
   "cell_type": "code",
   "execution_count": 88,
   "id": "ee2e2275",
   "metadata": {
    "scrolled": false
   },
   "outputs": [],
   "source": [
    "\n",
    "\n",
    "probabilities_test = best_model.predict_proba(features_test)\n",
    "probabilities_one_test = probabilities_test[:, 1]"
   ]
  },
  {
   "cell_type": "code",
   "execution_count": 89,
   "id": "35d9ce3a",
   "metadata": {},
   "outputs": [
    {
     "name": "stdout",
     "output_type": "stream",
     "text": [
      "Значение метрики ROC_AUC: 0.910728869994974\n"
     ]
    }
   ],
   "source": [
    "auc_roc = roc_auc_score(target_test, probabilities_one_test)\n",
    "\n",
    "print('Значение метрики ROC_AUC:', auc_roc)"
   ]
  },
  {
   "cell_type": "markdown",
   "id": "5ec6a227",
   "metadata": {},
   "source": [
    "### Визуализируем ROC-кривую"
   ]
  },
  {
   "cell_type": "code",
   "execution_count": 90,
   "id": "af9abdde",
   "metadata": {},
   "outputs": [
    {
     "data": {
      "image/png": "[encoded data removed]",
      "text/plain": [
       "<Figure size 720x720 with 1 Axes>"
      ]
     },
     "metadata": {},
     "output_type": "display_data"
    }
   ],
   "source": [
    "fpr, tpr, thresholds = roc_curve(target_test, probabilities_one_test)\n",
    "\n",
    "plt.figure()\n",
    "plt.plot(fpr, tpr)\n",
    "\n",
    "plt.plot([0, 1], [0, 1], linestyle='--')\n",
    "\n",
    "plt.xlim([0.0, 1.0])\n",
    "plt.ylim([0.0, 1.0])\n",
    "\n",
    "plt.xlabel(\"False Positive Rate\") \n",
    "plt.ylabel(\"True Positive Rate\" )\n",
    "plt.title(\"ROC-кривая\")\n",
    "\n",
    "plt.show()"
   ]
  },
  {
   "cell_type": "markdown",
   "id": "75ff8ad3",
   "metadata": {},
   "source": [
    "### Рассмотрим матрицу ошибок"
   ]
  },
  {
   "cell_type": "code",
   "execution_count": 91,
   "id": "3eb84248",
   "metadata": {},
   "outputs": [
    {
     "data": {
      "image/png": "[encoded data removed]",
      "text/plain": [
       "<Figure size 720x720 with 2 Axes>"
      ]
     },
     "metadata": {},
     "output_type": "display_data"
    }
   ],
   "source": [
    "cm = confusion_matrix(target_test, preds)\n",
    " \n",
    "cm_display = ConfusionMatrixDisplay(cm).plot()"
   ]
  },
  {
   "cell_type": "code",
   "execution_count": 92,
   "id": "5aa65e1f",
   "metadata": {},
   "outputs": [
    {
     "name": "stdout",
     "output_type": "stream",
     "text": [
      "Полнота 0.5748031496062992\n",
      "Точность 0.8439306358381503\n"
     ]
    }
   ],
   "source": [
    "print('Полнота', recall_score(target_test, preds))\n",
    "print('Точность', precision_score(target_test, preds))"
   ]
  },
  {
   "cell_type": "markdown",
   "id": "1ad71c32",
   "metadata": {},
   "source": [
    "### Установим важность признаков"
   ]
  },
  {
   "cell_type": "code",
   "execution_count": 93,
   "id": "6bc00891",
   "metadata": {},
   "outputs": [
    {
     "data": {
      "text/plain": [
       "num__length                                   54.929845\n",
       "num__monthlycharges                           11.328475\n",
       "num__totalcharges                              9.418878\n",
       "cat__type_Two year                             3.786559\n",
       "cat__partner_Yes                               3.143688\n",
       "cat__multiplelines_Yes                         1.880751\n",
       "cat__type_One year                             1.691174\n",
       "cat__onlinebackup_Yes                          1.491924\n",
       "cat__paymentmethod_Mailed check                1.438878\n",
       "cat__dependents_Yes                            1.366369\n",
       "cat__deviceprotection_Yes                      1.229700\n",
       "cat__paymentmethod_Credit card (automatic)     1.118432\n",
       "cat__techsupport_Yes                           1.068560\n",
       "cat__paymentmethod_Electronic check            1.041086\n",
       "cat__paperlessbilling_Yes                      0.975812\n",
       "cat__streamingmovies_Yes                       0.909360\n",
       "num__seniorcitizen                             0.811731\n",
       "cat__onlinesecurity_Yes                        0.779442\n",
       "cat__multiplelines_no_info                     0.704987\n",
       "cat__internetservice_Fiber optic               0.340376\n",
       "cat__deviceprotection_no_info                  0.290470\n",
       "cat__streamingtv_Yes                           0.228672\n",
       "cat__internetservice_no_info                   0.017521\n",
       "cat__streamingtv_no_info                       0.007307\n",
       "cat__streamingmovies_no_info                   0.000000\n",
       "cat__onlinebackup_no_info                      0.000000\n",
       "cat__onlinesecurity_no_info                    0.000000\n",
       "cat__techsupport_no_info                       0.000000\n",
       "dtype: float64"
      ]
     },
     "execution_count": 93,
     "metadata": {},
     "output_type": "execute_result"
    }
   ],
   "source": [
    "\n",
    "feature_names = best_model.named_steps[\"preprocessor\"].get_feature_names_out()\n",
    "coefs =  best_model[-1].feature_importances_\n",
    "importances=pd.Series(coefs, index=feature_names)\n",
    "importances.sort_values(ascending=False)"
   ]
  },
  {
   "cell_type": "code",
   "execution_count": 94,
   "id": "cd98c44e",
   "metadata": {},
   "outputs": [
    {
     "data": {
      "image/png": "[encoded data removed]",
      "text/plain": [
       "<Figure size 720x720 with 1 Axes>"
      ]
     },
     "metadata": {},
     "output_type": "display_data"
    }
   ],
   "source": [
    "importances.sort_values(ascending=False).plot(kind='bar')\n",
    "\n",
    "plt.title('Значимость признаков')\n",
    "plt.xlabel('Признаки')\n",
    "plt.ylabel('Коэффициент значимости')\n",
    "\n",
    "plt.show()"
   ]
  },
  {
   "cell_type": "markdown",
   "id": "73aa3bae",
   "metadata": {},
   "source": [
    "### Выводы по тестированию\n",
    "\n",
    "1. Мы получили значение AUC_ROC на уровне 0.91 \n",
    "\n",
    "2. Точность и полнота на хорошем уровне.  \n",
    "3. Множество попаданий в отрицательный класс связано просто с его большим количестовм\n",
    "4. По итогам анализа важности признаков можно увидеть что наибольший \"вклад\" в результаты модели внесли следующие признаки: \n",
    "\n",
    "        время пользования услугами\n",
    "        сумма ежемесячных платежей\n",
    "        общая сумма платежей"
   ]
  },
  {
   "cell_type": "markdown",
   "id": "7e9568cd",
   "metadata": {},
   "source": [
    "## Выводы по проекту:\n",
    "\n",
    "    1. Для анализа поступило 4 таблицы с различными данными пользователей телеком-компании. На этапе предобработки данных:\n",
    "            провели объединение по общему столбцу \"customerID\" \n",
    "            проверили и удалили пропусков\n",
    "            заполненили образовавшиесяя пропуски заглушками\n",
    "            добавили еще один признак - время пользования услугами\n",
    "\n",
    "    2. На этапе анализа данных:\n",
    "            определили целевой прихнак\n",
    "            рассмотрели распределения признаков в сравнении для оставшихся и ушедших клиентов\n",
    "            рассмотрели матрицу корреляции и на ее основании удалили неинформатиыные признаки\n",
    "    \n",
    "    3. На этапе моделирования:\n",
    "            разделили данные на обучающие и тренировочные\n",
    "            определили структура пайплайна (OHE, StandardScaler, модели)\n",
    "            выбрали несколько моделей классификации (дерево, лес, CatBoost и логистическая регрессия)\n",
    "            описали гиперпараметры для перебора\n",
    "            добавили обучение на кросс-валидации\n",
    "            \n",
    "     4. На этапе тестирования:\n",
    "             построили ROC-кривую\n",
    "             построии cofusion_matrix\n",
    "             вывели занчения для полноты и точности\n",
    "             построили таблицу важность признаков и визуализировали ее\n",
    "             \n",
    "     Поставленная задача выполнена.\n",
    "             \n",
    "            \n",
    "        "
   ]
  }
 ],
 "metadata": {
  "ExecuteTimeLog": [
   {
    "duration": 1451,
    "start_time": "2023-06-09T07:43:50.612Z"
   },
   {
    "duration": 0,
    "start_time": "2023-06-09T07:43:52.067Z"
   },
   {
    "duration": 0,
    "start_time": "2023-06-09T07:43:52.068Z"
   },
   {
    "duration": 0,
    "start_time": "2023-06-09T07:43:52.069Z"
   },
   {
    "duration": 0,
    "start_time": "2023-06-09T07:43:52.070Z"
   },
   {
    "duration": 0,
    "start_time": "2023-06-09T07:43:52.071Z"
   },
   {
    "duration": 0,
    "start_time": "2023-06-09T07:43:52.072Z"
   },
   {
    "duration": 0,
    "start_time": "2023-06-09T07:43:52.073Z"
   },
   {
    "duration": 0,
    "start_time": "2023-06-09T07:43:52.074Z"
   },
   {
    "duration": 0,
    "start_time": "2023-06-09T07:43:52.075Z"
   },
   {
    "duration": 0,
    "start_time": "2023-06-09T07:43:52.076Z"
   },
   {
    "duration": 0,
    "start_time": "2023-06-09T07:43:52.077Z"
   },
   {
    "duration": 0,
    "start_time": "2023-06-09T07:43:52.078Z"
   },
   {
    "duration": 0,
    "start_time": "2023-06-09T07:43:52.079Z"
   },
   {
    "duration": 0,
    "start_time": "2023-06-09T07:43:52.080Z"
   },
   {
    "duration": 0,
    "start_time": "2023-06-09T07:43:52.081Z"
   },
   {
    "duration": 0,
    "start_time": "2023-06-09T07:43:52.083Z"
   },
   {
    "duration": 0,
    "start_time": "2023-06-09T07:43:52.083Z"
   },
   {
    "duration": 0,
    "start_time": "2023-06-09T07:43:52.084Z"
   },
   {
    "duration": 0,
    "start_time": "2023-06-09T07:43:52.085Z"
   },
   {
    "duration": 0,
    "start_time": "2023-06-09T07:43:52.086Z"
   },
   {
    "duration": 0,
    "start_time": "2023-06-09T07:43:52.087Z"
   },
   {
    "duration": 0,
    "start_time": "2023-06-09T07:43:52.088Z"
   },
   {
    "duration": 0,
    "start_time": "2023-06-09T07:43:52.089Z"
   },
   {
    "duration": 0,
    "start_time": "2023-06-09T07:43:52.090Z"
   },
   {
    "duration": 0,
    "start_time": "2023-06-09T07:43:52.091Z"
   },
   {
    "duration": 0,
    "start_time": "2023-06-09T07:43:52.092Z"
   },
   {
    "duration": 0,
    "start_time": "2023-06-09T07:43:52.094Z"
   },
   {
    "duration": 0,
    "start_time": "2023-06-09T07:43:52.094Z"
   },
   {
    "duration": 0,
    "start_time": "2023-06-09T07:43:52.096Z"
   },
   {
    "duration": 0,
    "start_time": "2023-06-09T07:43:52.096Z"
   },
   {
    "duration": 0,
    "start_time": "2023-06-09T07:43:52.098Z"
   },
   {
    "duration": 0,
    "start_time": "2023-06-09T07:43:52.099Z"
   },
   {
    "duration": 0,
    "start_time": "2023-06-09T07:43:52.150Z"
   },
   {
    "duration": 0,
    "start_time": "2023-06-09T07:43:52.151Z"
   },
   {
    "duration": 0,
    "start_time": "2023-06-09T07:43:52.153Z"
   },
   {
    "duration": 0,
    "start_time": "2023-06-09T07:43:52.154Z"
   },
   {
    "duration": 0,
    "start_time": "2023-06-09T07:43:52.155Z"
   },
   {
    "duration": 0,
    "start_time": "2023-06-09T07:43:52.156Z"
   },
   {
    "duration": 0,
    "start_time": "2023-06-09T07:43:52.157Z"
   },
   {
    "duration": 0,
    "start_time": "2023-06-09T07:43:52.158Z"
   },
   {
    "duration": 0,
    "start_time": "2023-06-09T07:43:52.159Z"
   },
   {
    "duration": 0,
    "start_time": "2023-06-09T07:43:52.160Z"
   },
   {
    "duration": 0,
    "start_time": "2023-06-09T07:43:52.161Z"
   },
   {
    "duration": 0,
    "start_time": "2023-06-09T07:43:52.163Z"
   },
   {
    "duration": 0,
    "start_time": "2023-06-09T07:43:52.164Z"
   },
   {
    "duration": 0,
    "start_time": "2023-06-09T07:43:52.165Z"
   },
   {
    "duration": 0,
    "start_time": "2023-06-09T07:43:52.166Z"
   },
   {
    "duration": 0,
    "start_time": "2023-06-09T07:43:52.167Z"
   },
   {
    "duration": 0,
    "start_time": "2023-06-09T07:43:52.168Z"
   },
   {
    "duration": 0,
    "start_time": "2023-06-09T07:43:52.169Z"
   },
   {
    "duration": 0,
    "start_time": "2023-06-09T07:43:52.170Z"
   },
   {
    "duration": 0,
    "start_time": "2023-06-09T07:43:52.171Z"
   },
   {
    "duration": 0,
    "start_time": "2023-06-09T07:43:52.172Z"
   },
   {
    "duration": 0,
    "start_time": "2023-06-09T07:43:52.173Z"
   },
   {
    "duration": 0,
    "start_time": "2023-06-09T07:43:52.174Z"
   },
   {
    "duration": 0,
    "start_time": "2023-06-09T07:43:52.175Z"
   },
   {
    "duration": 0,
    "start_time": "2023-06-09T07:43:52.176Z"
   },
   {
    "duration": 0,
    "start_time": "2023-06-09T07:43:52.177Z"
   },
   {
    "duration": 0,
    "start_time": "2023-06-09T07:43:52.178Z"
   },
   {
    "duration": 0,
    "start_time": "2023-06-09T07:43:52.179Z"
   },
   {
    "duration": 0,
    "start_time": "2023-06-09T07:43:52.180Z"
   },
   {
    "duration": 0,
    "start_time": "2023-06-09T07:43:52.182Z"
   },
   {
    "duration": 0,
    "start_time": "2023-06-09T07:43:52.183Z"
   },
   {
    "duration": 0,
    "start_time": "2023-06-09T07:43:52.184Z"
   },
   {
    "duration": 0,
    "start_time": "2023-06-09T07:43:52.185Z"
   },
   {
    "duration": 0,
    "start_time": "2023-06-09T07:43:52.186Z"
   },
   {
    "duration": 0,
    "start_time": "2023-06-09T07:43:52.187Z"
   },
   {
    "duration": 0,
    "start_time": "2023-06-09T07:43:52.188Z"
   },
   {
    "duration": 0,
    "start_time": "2023-06-09T07:43:52.251Z"
   },
   {
    "duration": 0,
    "start_time": "2023-06-09T07:43:52.252Z"
   },
   {
    "duration": 0,
    "start_time": "2023-06-09T07:43:52.253Z"
   },
   {
    "duration": 0,
    "start_time": "2023-06-09T07:43:52.254Z"
   },
   {
    "duration": 0,
    "start_time": "2023-06-09T07:43:52.255Z"
   },
   {
    "duration": 0,
    "start_time": "2023-06-09T07:43:52.256Z"
   },
   {
    "duration": 0,
    "start_time": "2023-06-09T07:43:52.257Z"
   },
   {
    "duration": 0,
    "start_time": "2023-06-09T07:43:52.258Z"
   },
   {
    "duration": 0,
    "start_time": "2023-06-09T07:43:52.259Z"
   },
   {
    "duration": 0,
    "start_time": "2023-06-09T07:43:52.260Z"
   },
   {
    "duration": 0,
    "start_time": "2023-06-09T07:43:52.261Z"
   },
   {
    "duration": 0,
    "start_time": "2023-06-09T07:43:52.263Z"
   },
   {
    "duration": 0,
    "start_time": "2023-06-09T07:43:52.264Z"
   },
   {
    "duration": 0,
    "start_time": "2023-06-09T07:43:52.265Z"
   },
   {
    "duration": 0,
    "start_time": "2023-06-09T07:43:52.266Z"
   },
   {
    "duration": 0,
    "start_time": "2023-06-09T07:43:52.267Z"
   },
   {
    "duration": 0,
    "start_time": "2023-06-09T07:43:52.268Z"
   },
   {
    "duration": 0,
    "start_time": "2023-06-09T07:43:52.269Z"
   },
   {
    "duration": 3132,
    "start_time": "2023-06-09T07:44:27.249Z"
   },
   {
    "duration": 2213,
    "start_time": "2023-06-09T07:44:33.183Z"
   },
   {
    "duration": 1808,
    "start_time": "2023-06-09T07:44:35.398Z"
   },
   {
    "duration": 167,
    "start_time": "2023-06-09T07:44:37.208Z"
   },
   {
    "duration": 0,
    "start_time": "2023-06-09T07:44:37.379Z"
   },
   {
    "duration": 0,
    "start_time": "2023-06-09T07:44:37.380Z"
   },
   {
    "duration": 0,
    "start_time": "2023-06-09T07:44:37.381Z"
   },
   {
    "duration": 0,
    "start_time": "2023-06-09T07:44:37.382Z"
   },
   {
    "duration": 0,
    "start_time": "2023-06-09T07:44:37.383Z"
   },
   {
    "duration": 0,
    "start_time": "2023-06-09T07:44:37.384Z"
   },
   {
    "duration": 0,
    "start_time": "2023-06-09T07:44:37.385Z"
   },
   {
    "duration": 0,
    "start_time": "2023-06-09T07:44:37.386Z"
   },
   {
    "duration": 0,
    "start_time": "2023-06-09T07:44:37.387Z"
   },
   {
    "duration": 0,
    "start_time": "2023-06-09T07:44:37.388Z"
   },
   {
    "duration": 0,
    "start_time": "2023-06-09T07:44:37.389Z"
   },
   {
    "duration": 0,
    "start_time": "2023-06-09T07:44:37.390Z"
   },
   {
    "duration": 0,
    "start_time": "2023-06-09T07:44:37.391Z"
   },
   {
    "duration": 0,
    "start_time": "2023-06-09T07:44:37.392Z"
   },
   {
    "duration": 0,
    "start_time": "2023-06-09T07:44:37.393Z"
   },
   {
    "duration": 0,
    "start_time": "2023-06-09T07:44:37.394Z"
   },
   {
    "duration": 0,
    "start_time": "2023-06-09T07:44:37.395Z"
   },
   {
    "duration": 0,
    "start_time": "2023-06-09T07:44:37.396Z"
   },
   {
    "duration": 0,
    "start_time": "2023-06-09T07:44:37.398Z"
   },
   {
    "duration": 0,
    "start_time": "2023-06-09T07:44:37.399Z"
   },
   {
    "duration": 0,
    "start_time": "2023-06-09T07:44:37.400Z"
   },
   {
    "duration": 0,
    "start_time": "2023-06-09T07:44:37.402Z"
   },
   {
    "duration": 0,
    "start_time": "2023-06-09T07:44:37.402Z"
   },
   {
    "duration": 0,
    "start_time": "2023-06-09T07:44:37.404Z"
   },
   {
    "duration": 1,
    "start_time": "2023-06-09T07:44:37.404Z"
   },
   {
    "duration": 0,
    "start_time": "2023-06-09T07:44:37.406Z"
   },
   {
    "duration": 0,
    "start_time": "2023-06-09T07:44:37.407Z"
   },
   {
    "duration": 0,
    "start_time": "2023-06-09T07:44:37.451Z"
   },
   {
    "duration": 0,
    "start_time": "2023-06-09T07:44:37.452Z"
   },
   {
    "duration": 0,
    "start_time": "2023-06-09T07:44:37.453Z"
   },
   {
    "duration": 0,
    "start_time": "2023-06-09T07:44:37.455Z"
   },
   {
    "duration": 0,
    "start_time": "2023-06-09T07:44:37.456Z"
   },
   {
    "duration": 0,
    "start_time": "2023-06-09T07:44:37.458Z"
   },
   {
    "duration": 0,
    "start_time": "2023-06-09T07:44:37.459Z"
   },
   {
    "duration": 0,
    "start_time": "2023-06-09T07:44:37.461Z"
   },
   {
    "duration": 0,
    "start_time": "2023-06-09T07:44:37.462Z"
   },
   {
    "duration": 0,
    "start_time": "2023-06-09T07:44:37.463Z"
   },
   {
    "duration": 0,
    "start_time": "2023-06-09T07:44:37.465Z"
   },
   {
    "duration": 0,
    "start_time": "2023-06-09T07:44:37.466Z"
   },
   {
    "duration": 0,
    "start_time": "2023-06-09T07:44:37.467Z"
   },
   {
    "duration": 0,
    "start_time": "2023-06-09T07:44:37.469Z"
   },
   {
    "duration": 0,
    "start_time": "2023-06-09T07:44:37.470Z"
   },
   {
    "duration": 0,
    "start_time": "2023-06-09T07:44:37.472Z"
   },
   {
    "duration": 0,
    "start_time": "2023-06-09T07:44:37.473Z"
   },
   {
    "duration": 0,
    "start_time": "2023-06-09T07:44:37.475Z"
   },
   {
    "duration": 0,
    "start_time": "2023-06-09T07:44:37.476Z"
   },
   {
    "duration": 0,
    "start_time": "2023-06-09T07:44:37.477Z"
   },
   {
    "duration": 0,
    "start_time": "2023-06-09T07:44:37.479Z"
   },
   {
    "duration": 0,
    "start_time": "2023-06-09T07:44:37.480Z"
   },
   {
    "duration": 0,
    "start_time": "2023-06-09T07:44:37.482Z"
   },
   {
    "duration": 0,
    "start_time": "2023-06-09T07:44:37.483Z"
   },
   {
    "duration": 0,
    "start_time": "2023-06-09T07:44:37.484Z"
   },
   {
    "duration": 0,
    "start_time": "2023-06-09T07:44:37.485Z"
   },
   {
    "duration": 0,
    "start_time": "2023-06-09T07:44:37.486Z"
   },
   {
    "duration": 0,
    "start_time": "2023-06-09T07:44:37.486Z"
   },
   {
    "duration": 0,
    "start_time": "2023-06-09T07:44:37.487Z"
   },
   {
    "duration": 0,
    "start_time": "2023-06-09T07:44:37.550Z"
   },
   {
    "duration": 0,
    "start_time": "2023-06-09T07:44:37.551Z"
   },
   {
    "duration": 0,
    "start_time": "2023-06-09T07:44:37.553Z"
   },
   {
    "duration": 0,
    "start_time": "2023-06-09T07:44:37.553Z"
   },
   {
    "duration": 0,
    "start_time": "2023-06-09T07:44:37.554Z"
   },
   {
    "duration": 0,
    "start_time": "2023-06-09T07:44:37.555Z"
   },
   {
    "duration": 0,
    "start_time": "2023-06-09T07:44:37.556Z"
   },
   {
    "duration": 0,
    "start_time": "2023-06-09T07:44:37.557Z"
   },
   {
    "duration": 0,
    "start_time": "2023-06-09T07:44:37.558Z"
   },
   {
    "duration": 0,
    "start_time": "2023-06-09T07:44:37.559Z"
   },
   {
    "duration": 0,
    "start_time": "2023-06-09T07:44:37.560Z"
   },
   {
    "duration": 0,
    "start_time": "2023-06-09T07:44:37.561Z"
   },
   {
    "duration": 0,
    "start_time": "2023-06-09T07:44:37.562Z"
   },
   {
    "duration": 0,
    "start_time": "2023-06-09T07:44:37.563Z"
   },
   {
    "duration": 0,
    "start_time": "2023-06-09T07:44:37.564Z"
   },
   {
    "duration": 0,
    "start_time": "2023-06-09T07:44:37.565Z"
   },
   {
    "duration": 0,
    "start_time": "2023-06-09T07:44:37.566Z"
   },
   {
    "duration": 0,
    "start_time": "2023-06-09T07:44:37.567Z"
   },
   {
    "duration": 0,
    "start_time": "2023-06-09T07:44:37.568Z"
   },
   {
    "duration": 0,
    "start_time": "2023-06-09T07:44:37.569Z"
   },
   {
    "duration": 0,
    "start_time": "2023-06-09T07:44:37.570Z"
   },
   {
    "duration": 0,
    "start_time": "2023-06-09T07:44:37.571Z"
   },
   {
    "duration": 0,
    "start_time": "2023-06-09T07:44:37.572Z"
   },
   {
    "duration": 0,
    "start_time": "2023-06-09T07:44:37.573Z"
   },
   {
    "duration": 0,
    "start_time": "2023-06-09T07:44:37.574Z"
   },
   {
    "duration": 0,
    "start_time": "2023-06-09T07:44:37.575Z"
   },
   {
    "duration": 0,
    "start_time": "2023-06-09T07:44:37.576Z"
   },
   {
    "duration": 0,
    "start_time": "2023-06-09T07:44:37.577Z"
   },
   {
    "duration": 0,
    "start_time": "2023-06-09T07:44:37.578Z"
   },
   {
    "duration": 154,
    "start_time": "2023-06-09T07:46:26.247Z"
   },
   {
    "duration": 2072,
    "start_time": "2023-06-09T07:46:41.895Z"
   },
   {
    "duration": 1769,
    "start_time": "2023-06-09T07:46:43.970Z"
   },
   {
    "duration": 49,
    "start_time": "2023-06-09T07:46:45.741Z"
   },
   {
    "duration": 6,
    "start_time": "2023-06-09T07:46:45.792Z"
   },
   {
    "duration": 17,
    "start_time": "2023-06-09T07:46:45.800Z"
   },
   {
    "duration": 8,
    "start_time": "2023-06-09T07:46:45.818Z"
   },
   {
    "duration": 8,
    "start_time": "2023-06-09T07:46:45.827Z"
   },
   {
    "duration": 7,
    "start_time": "2023-06-09T07:46:45.836Z"
   },
   {
    "duration": 8,
    "start_time": "2023-06-09T07:46:45.850Z"
   },
   {
    "duration": 105,
    "start_time": "2023-06-09T07:46:45.860Z"
   },
   {
    "duration": 10,
    "start_time": "2023-06-09T07:46:45.967Z"
   },
   {
    "duration": 8,
    "start_time": "2023-06-09T07:46:45.979Z"
   },
   {
    "duration": 15,
    "start_time": "2023-06-09T07:46:45.989Z"
   },
   {
    "duration": 61,
    "start_time": "2023-06-09T07:46:46.007Z"
   },
   {
    "duration": 11,
    "start_time": "2023-06-09T07:46:46.070Z"
   },
   {
    "duration": 10,
    "start_time": "2023-06-09T07:46:46.083Z"
   },
   {
    "duration": 10,
    "start_time": "2023-06-09T07:46:46.095Z"
   },
   {
    "duration": 64,
    "start_time": "2023-06-09T07:46:46.107Z"
   },
   {
    "duration": 9,
    "start_time": "2023-06-09T07:46:46.172Z"
   },
   {
    "duration": 21,
    "start_time": "2023-06-09T07:46:46.183Z"
   },
   {
    "duration": 19,
    "start_time": "2023-06-09T07:46:46.206Z"
   },
   {
    "duration": 22,
    "start_time": "2023-06-09T07:46:46.226Z"
   },
   {
    "duration": 4,
    "start_time": "2023-06-09T07:46:46.249Z"
   },
   {
    "duration": 22,
    "start_time": "2023-06-09T07:46:46.254Z"
   },
   {
    "duration": 4,
    "start_time": "2023-06-09T07:46:46.277Z"
   },
   {
    "duration": 48,
    "start_time": "2023-06-09T07:46:46.282Z"
   },
   {
    "duration": 3,
    "start_time": "2023-06-09T07:46:46.332Z"
   },
   {
    "duration": 19,
    "start_time": "2023-06-09T07:46:46.336Z"
   },
   {
    "duration": 23,
    "start_time": "2023-06-09T07:46:46.356Z"
   },
   {
    "duration": 3,
    "start_time": "2023-06-09T07:46:46.381Z"
   },
   {
    "duration": 21,
    "start_time": "2023-06-09T07:46:46.385Z"
   },
   {
    "duration": 128,
    "start_time": "2023-06-09T07:46:46.408Z"
   },
   {
    "duration": 13,
    "start_time": "2023-06-09T07:46:46.537Z"
   },
   {
    "duration": 162,
    "start_time": "2023-06-09T07:46:46.552Z"
   },
   {
    "duration": 5,
    "start_time": "2023-06-09T07:46:46.716Z"
   },
   {
    "duration": 167,
    "start_time": "2023-06-09T07:46:46.723Z"
   },
   {
    "duration": 5,
    "start_time": "2023-06-09T07:46:46.892Z"
   },
   {
    "duration": 240,
    "start_time": "2023-06-09T07:46:46.899Z"
   },
   {
    "duration": 13,
    "start_time": "2023-06-09T07:46:47.141Z"
   },
   {
    "duration": 218,
    "start_time": "2023-06-09T07:46:47.156Z"
   },
   {
    "duration": 6,
    "start_time": "2023-06-09T07:46:47.379Z"
   },
   {
    "duration": 207,
    "start_time": "2023-06-09T07:46:47.387Z"
   },
   {
    "duration": 5,
    "start_time": "2023-06-09T07:46:47.596Z"
   },
   {
    "duration": 143,
    "start_time": "2023-06-09T07:46:47.603Z"
   },
   {
    "duration": 6,
    "start_time": "2023-06-09T07:46:47.747Z"
   },
   {
    "duration": 162,
    "start_time": "2023-06-09T07:46:47.754Z"
   },
   {
    "duration": 6,
    "start_time": "2023-06-09T07:46:47.918Z"
   },
   {
    "duration": 148,
    "start_time": "2023-06-09T07:46:47.926Z"
   },
   {
    "duration": 6,
    "start_time": "2023-06-09T07:46:48.076Z"
   },
   {
    "duration": 157,
    "start_time": "2023-06-09T07:46:48.083Z"
   },
   {
    "duration": 11,
    "start_time": "2023-06-09T07:46:48.242Z"
   },
   {
    "duration": 160,
    "start_time": "2023-06-09T07:46:48.254Z"
   },
   {
    "duration": 6,
    "start_time": "2023-06-09T07:46:48.415Z"
   },
   {
    "duration": 182,
    "start_time": "2023-06-09T07:46:48.423Z"
   },
   {
    "duration": 5,
    "start_time": "2023-06-09T07:46:48.607Z"
   },
   {
    "duration": 152,
    "start_time": "2023-06-09T07:46:48.614Z"
   },
   {
    "duration": 6,
    "start_time": "2023-06-09T07:46:48.768Z"
   },
   {
    "duration": 146,
    "start_time": "2023-06-09T07:46:48.776Z"
   },
   {
    "duration": 6,
    "start_time": "2023-06-09T07:46:48.924Z"
   },
   {
    "duration": 157,
    "start_time": "2023-06-09T07:46:48.932Z"
   },
   {
    "duration": 7,
    "start_time": "2023-06-09T07:46:49.091Z"
   },
   {
    "duration": 246,
    "start_time": "2023-06-09T07:46:49.099Z"
   },
   {
    "duration": 6,
    "start_time": "2023-06-09T07:46:49.350Z"
   },
   {
    "duration": 144,
    "start_time": "2023-06-09T07:46:49.357Z"
   },
   {
    "duration": 6,
    "start_time": "2023-06-09T07:46:49.502Z"
   },
   {
    "duration": 155,
    "start_time": "2023-06-09T07:46:49.510Z"
   },
   {
    "duration": 16401,
    "start_time": "2023-06-09T07:46:49.667Z"
   },
   {
    "duration": 17090,
    "start_time": "2023-06-09T07:47:06.070Z"
   },
   {
    "duration": 5,
    "start_time": "2023-06-09T07:47:23.161Z"
   },
   {
    "duration": 12,
    "start_time": "2023-06-09T07:47:23.168Z"
   },
   {
    "duration": 21,
    "start_time": "2023-06-09T07:47:23.181Z"
   },
   {
    "duration": 14,
    "start_time": "2023-06-09T07:47:23.204Z"
   },
   {
    "duration": 6,
    "start_time": "2023-06-09T07:47:23.220Z"
   },
   {
    "duration": 20,
    "start_time": "2023-06-09T07:47:23.228Z"
   },
   {
    "duration": 8,
    "start_time": "2023-06-09T07:47:23.250Z"
   },
   {
    "duration": 33,
    "start_time": "2023-06-09T07:47:23.260Z"
   },
   {
    "duration": 17,
    "start_time": "2023-06-09T07:47:23.295Z"
   },
   {
    "duration": 11,
    "start_time": "2023-06-09T07:47:23.314Z"
   },
   {
    "duration": 11,
    "start_time": "2023-06-09T07:47:23.327Z"
   },
   {
    "duration": 14,
    "start_time": "2023-06-09T07:47:23.340Z"
   },
   {
    "duration": 7,
    "start_time": "2023-06-09T07:47:23.356Z"
   },
   {
    "duration": 15,
    "start_time": "2023-06-09T07:47:23.365Z"
   },
   {
    "duration": 31,
    "start_time": "2023-06-09T07:47:23.382Z"
   },
   {
    "duration": 12,
    "start_time": "2023-06-09T07:47:23.415Z"
   },
   {
    "duration": 1653,
    "start_time": "2023-06-09T07:47:23.429Z"
   },
   {
    "duration": 0,
    "start_time": "2023-06-09T07:47:25.083Z"
   },
   {
    "duration": 0,
    "start_time": "2023-06-09T07:47:25.085Z"
   },
   {
    "duration": 0,
    "start_time": "2023-06-09T07:47:25.086Z"
   },
   {
    "duration": 10440,
    "start_time": "2023-06-09T08:09:09.332Z"
   },
   {
    "duration": 1329,
    "start_time": "2023-06-09T08:09:19.776Z"
   },
   {
    "duration": 66,
    "start_time": "2023-06-09T08:09:21.106Z"
   },
   {
    "duration": 8,
    "start_time": "2023-06-09T08:09:21.174Z"
   },
   {
    "duration": 17,
    "start_time": "2023-06-09T08:09:21.184Z"
   },
   {
    "duration": 8,
    "start_time": "2023-06-09T08:09:21.202Z"
   },
   {
    "duration": 9,
    "start_time": "2023-06-09T08:09:21.212Z"
   },
   {
    "duration": 7,
    "start_time": "2023-06-09T08:09:21.223Z"
   },
   {
    "duration": 11,
    "start_time": "2023-06-09T08:09:21.250Z"
   },
   {
    "duration": 29,
    "start_time": "2023-06-09T08:09:21.264Z"
   },
   {
    "duration": 13,
    "start_time": "2023-06-09T08:09:21.294Z"
   },
   {
    "duration": 12,
    "start_time": "2023-06-09T08:09:21.308Z"
   },
   {
    "duration": 30,
    "start_time": "2023-06-09T08:09:21.321Z"
   },
   {
    "duration": 27,
    "start_time": "2023-06-09T08:09:21.353Z"
   },
   {
    "duration": 12,
    "start_time": "2023-06-09T08:09:21.381Z"
   },
   {
    "duration": 8,
    "start_time": "2023-06-09T08:09:21.394Z"
   },
   {
    "duration": 11,
    "start_time": "2023-06-09T08:09:21.404Z"
   },
   {
    "duration": 34,
    "start_time": "2023-06-09T08:09:21.417Z"
   },
   {
    "duration": 10,
    "start_time": "2023-06-09T08:09:21.453Z"
   },
   {
    "duration": 10,
    "start_time": "2023-06-09T08:09:21.465Z"
   },
   {
    "duration": 13,
    "start_time": "2023-06-09T08:09:21.477Z"
   },
   {
    "duration": 21,
    "start_time": "2023-06-09T08:09:21.491Z"
   },
   {
    "duration": 4,
    "start_time": "2023-06-09T08:09:21.514Z"
   },
   {
    "duration": 22,
    "start_time": "2023-06-09T08:09:21.549Z"
   },
   {
    "duration": 4,
    "start_time": "2023-06-09T08:09:21.572Z"
   },
   {
    "duration": 37,
    "start_time": "2023-06-09T08:09:21.577Z"
   },
   {
    "duration": 8,
    "start_time": "2023-06-09T08:09:21.616Z"
   },
   {
    "duration": 11,
    "start_time": "2023-06-09T08:09:21.650Z"
   },
   {
    "duration": 36,
    "start_time": "2023-06-09T08:09:21.663Z"
   },
   {
    "duration": 3,
    "start_time": "2023-06-09T08:09:21.701Z"
   },
   {
    "duration": 14,
    "start_time": "2023-06-09T08:09:21.705Z"
   },
   {
    "duration": 134,
    "start_time": "2023-06-09T08:09:21.720Z"
   },
   {
    "duration": 6,
    "start_time": "2023-06-09T08:09:21.856Z"
   },
   {
    "duration": 167,
    "start_time": "2023-06-09T08:09:21.863Z"
   },
   {
    "duration": 6,
    "start_time": "2023-06-09T08:09:22.032Z"
   },
   {
    "duration": 164,
    "start_time": "2023-06-09T08:09:22.051Z"
   },
   {
    "duration": 7,
    "start_time": "2023-06-09T08:09:22.217Z"
   },
   {
    "duration": 182,
    "start_time": "2023-06-09T08:09:22.226Z"
   },
   {
    "duration": 7,
    "start_time": "2023-06-09T08:09:22.411Z"
   },
   {
    "duration": 338,
    "start_time": "2023-06-09T08:09:22.420Z"
   },
   {
    "duration": 7,
    "start_time": "2023-06-09T08:09:22.760Z"
   },
   {
    "duration": 215,
    "start_time": "2023-06-09T08:09:22.769Z"
   },
   {
    "duration": 6,
    "start_time": "2023-06-09T08:09:22.987Z"
   },
   {
    "duration": 145,
    "start_time": "2023-06-09T08:09:22.994Z"
   },
   {
    "duration": 11,
    "start_time": "2023-06-09T08:09:23.140Z"
   },
   {
    "duration": 183,
    "start_time": "2023-06-09T08:09:23.153Z"
   },
   {
    "duration": 14,
    "start_time": "2023-06-09T08:09:23.338Z"
   },
   {
    "duration": 152,
    "start_time": "2023-06-09T08:09:23.354Z"
   },
   {
    "duration": 7,
    "start_time": "2023-06-09T08:09:23.507Z"
   },
   {
    "duration": 165,
    "start_time": "2023-06-09T08:09:23.515Z"
   },
   {
    "duration": 6,
    "start_time": "2023-06-09T08:09:23.682Z"
   },
   {
    "duration": 166,
    "start_time": "2023-06-09T08:09:23.690Z"
   },
   {
    "duration": 7,
    "start_time": "2023-06-09T08:09:23.858Z"
   },
   {
    "duration": 160,
    "start_time": "2023-06-09T08:09:23.867Z"
   },
   {
    "duration": 6,
    "start_time": "2023-06-09T08:09:24.029Z"
   },
   {
    "duration": 216,
    "start_time": "2023-06-09T08:09:24.037Z"
   },
   {
    "duration": 9,
    "start_time": "2023-06-09T08:09:24.256Z"
   },
   {
    "duration": 208,
    "start_time": "2023-06-09T08:09:24.268Z"
   },
   {
    "duration": 6,
    "start_time": "2023-06-09T08:09:24.478Z"
   },
   {
    "duration": 154,
    "start_time": "2023-06-09T08:09:24.486Z"
   },
   {
    "duration": 11,
    "start_time": "2023-06-09T08:09:24.642Z"
   },
   {
    "duration": 158,
    "start_time": "2023-06-09T08:09:24.656Z"
   },
   {
    "duration": 7,
    "start_time": "2023-06-09T08:09:24.816Z"
   },
   {
    "duration": 245,
    "start_time": "2023-06-09T08:09:24.825Z"
   },
   {
    "duration": 6,
    "start_time": "2023-06-09T08:09:25.072Z"
   },
   {
    "duration": 158,
    "start_time": "2023-06-09T08:09:25.080Z"
   },
   {
    "duration": 17491,
    "start_time": "2023-06-09T08:09:25.240Z"
   },
   {
    "duration": 18947,
    "start_time": "2023-06-09T08:09:42.733Z"
   },
   {
    "duration": 7,
    "start_time": "2023-06-09T08:10:01.683Z"
   },
   {
    "duration": 31,
    "start_time": "2023-06-09T08:10:01.692Z"
   },
   {
    "duration": 43,
    "start_time": "2023-06-09T08:10:01.726Z"
   },
   {
    "duration": 100,
    "start_time": "2023-06-09T08:10:01.772Z"
   },
   {
    "duration": 60,
    "start_time": "2023-06-09T08:10:01.874Z"
   },
   {
    "duration": 84,
    "start_time": "2023-06-09T08:10:01.936Z"
   },
   {
    "duration": 31,
    "start_time": "2023-06-09T08:10:02.023Z"
   },
   {
    "duration": 83,
    "start_time": "2023-06-09T08:10:02.057Z"
   },
   {
    "duration": 40,
    "start_time": "2023-06-09T08:10:02.143Z"
   },
   {
    "duration": 13,
    "start_time": "2023-06-09T08:10:02.186Z"
   },
   {
    "duration": 29,
    "start_time": "2023-06-09T08:10:02.202Z"
   },
   {
    "duration": 15,
    "start_time": "2023-06-09T08:10:02.233Z"
   },
   {
    "duration": 29,
    "start_time": "2023-06-09T08:10:02.250Z"
   },
   {
    "duration": 45,
    "start_time": "2023-06-09T08:10:02.286Z"
   },
   {
    "duration": 10,
    "start_time": "2023-06-09T08:10:02.334Z"
   },
   {
    "duration": 82,
    "start_time": "2023-06-09T08:10:02.346Z"
   },
   {
    "duration": 21210,
    "start_time": "2023-06-09T08:10:02.430Z"
   },
   {
    "duration": 0,
    "start_time": "2023-06-09T08:10:23.643Z"
   },
   {
    "duration": 0,
    "start_time": "2023-06-09T08:10:23.644Z"
   },
   {
    "duration": 0,
    "start_time": "2023-06-09T08:10:23.645Z"
   },
   {
    "duration": 10,
    "start_time": "2023-06-09T08:10:30.964Z"
   },
   {
    "duration": 22,
    "start_time": "2023-06-09T08:14:16.671Z"
   },
   {
    "duration": 15,
    "start_time": "2023-06-09T08:14:24.911Z"
   },
   {
    "duration": 20,
    "start_time": "2023-06-09T08:17:21.192Z"
   },
   {
    "duration": 7,
    "start_time": "2023-06-09T08:17:27.228Z"
   },
   {
    "duration": 22,
    "start_time": "2023-06-09T08:17:38.334Z"
   },
   {
    "duration": 5,
    "start_time": "2023-06-09T08:18:02.216Z"
   },
   {
    "duration": 7,
    "start_time": "2023-06-09T08:18:41.939Z"
   },
   {
    "duration": 7,
    "start_time": "2023-06-09T08:18:46.237Z"
   },
   {
    "duration": 13,
    "start_time": "2023-06-09T08:18:53.958Z"
   },
   {
    "duration": 8,
    "start_time": "2023-06-09T08:19:57.535Z"
   },
   {
    "duration": 18,
    "start_time": "2023-06-09T08:20:54.772Z"
   },
   {
    "duration": 15,
    "start_time": "2023-06-09T08:23:23.625Z"
   },
   {
    "duration": 21,
    "start_time": "2023-06-09T08:24:47.649Z"
   },
   {
    "duration": 44,
    "start_time": "2023-06-09T08:25:22.956Z"
   },
   {
    "duration": 9,
    "start_time": "2023-06-09T08:25:37.712Z"
   },
   {
    "duration": 7,
    "start_time": "2023-06-09T08:26:15.561Z"
   },
   {
    "duration": 10,
    "start_time": "2023-06-09T08:26:26.093Z"
   },
   {
    "duration": 4,
    "start_time": "2023-06-09T08:26:41.432Z"
   },
   {
    "duration": 14,
    "start_time": "2023-06-09T08:27:09.741Z"
   },
   {
    "duration": 205188,
    "start_time": "2023-06-09T08:27:32.083Z"
   },
   {
    "duration": 13,
    "start_time": "2023-06-09T08:30:57.274Z"
   },
   {
    "duration": 21,
    "start_time": "2023-06-09T08:30:57.289Z"
   },
   {
    "duration": 8,
    "start_time": "2023-06-09T08:30:57.313Z"
   },
   {
    "duration": 34,
    "start_time": "2023-06-09T08:32:16.357Z"
   },
   {
    "duration": 34,
    "start_time": "2023-06-09T08:59:43.194Z"
   },
   {
    "duration": 9,
    "start_time": "2023-06-09T09:01:02.956Z"
   },
   {
    "duration": 5,
    "start_time": "2023-06-09T09:01:24.594Z"
   },
   {
    "duration": 5,
    "start_time": "2023-06-09T09:01:34.953Z"
   },
   {
    "duration": 14,
    "start_time": "2023-06-09T09:01:40.446Z"
   },
   {
    "duration": 1507,
    "start_time": "2023-06-09T09:03:51.075Z"
   },
   {
    "duration": 60,
    "start_time": "2023-06-09T09:04:44.454Z"
   },
   {
    "duration": 35,
    "start_time": "2023-06-09T09:06:37.055Z"
   },
   {
    "duration": 59,
    "start_time": "2023-06-09T09:07:20.746Z"
   },
   {
    "duration": 58,
    "start_time": "2023-06-09T09:07:59.355Z"
   },
   {
    "duration": 47,
    "start_time": "2023-06-09T09:10:41.730Z"
   },
   {
    "duration": 49,
    "start_time": "2023-06-09T09:11:04.519Z"
   },
   {
    "duration": 47,
    "start_time": "2023-06-09T09:11:29.171Z"
   },
   {
    "duration": 12,
    "start_time": "2023-06-09T09:12:56.345Z"
   },
   {
    "duration": 47,
    "start_time": "2023-06-09T09:13:09.920Z"
   },
   {
    "duration": 12644,
    "start_time": "2023-06-09T09:28:14.711Z"
   },
   {
    "duration": 12732,
    "start_time": "2023-06-09T09:29:35.607Z"
   },
   {
    "duration": 84750,
    "start_time": "2023-06-09T09:31:34.997Z"
   },
   {
    "duration": 14,
    "start_time": "2023-06-09T09:32:59.750Z"
   },
   {
    "duration": 23,
    "start_time": "2023-06-09T09:33:27.462Z"
   },
   {
    "duration": 5,
    "start_time": "2023-06-09T09:34:25.597Z"
   },
   {
    "duration": 5,
    "start_time": "2023-06-09T09:34:40.150Z"
   },
   {
    "duration": 16,
    "start_time": "2023-06-09T09:35:03.200Z"
   },
   {
    "duration": 32,
    "start_time": "2023-06-09T09:36:27.823Z"
   },
   {
    "duration": 22,
    "start_time": "2023-06-09T09:38:53.190Z"
   },
   {
    "duration": 3,
    "start_time": "2023-06-09T09:39:13.047Z"
   },
   {
    "duration": 5,
    "start_time": "2023-06-09T09:39:14.301Z"
   },
   {
    "duration": 18703,
    "start_time": "2023-06-09T09:39:20.807Z"
   },
   {
    "duration": 25,
    "start_time": "2023-06-09T09:39:44.529Z"
   },
   {
    "duration": 4,
    "start_time": "2023-06-09T09:39:55.216Z"
   },
   {
    "duration": 46213,
    "start_time": "2023-06-09T09:40:07.225Z"
   },
   {
    "duration": 0,
    "start_time": "2023-06-09T09:40:53.439Z"
   },
   {
    "duration": 6,
    "start_time": "2023-06-09T09:42:42.774Z"
   },
   {
    "duration": 1929,
    "start_time": "2023-06-09T09:44:16.481Z"
   },
   {
    "duration": 24,
    "start_time": "2023-06-09T09:44:45.179Z"
   },
   {
    "duration": 80200,
    "start_time": "2023-06-09T09:45:26.880Z"
   },
   {
    "duration": 88246,
    "start_time": "2023-06-09T09:53:13.735Z"
   },
   {
    "duration": 4,
    "start_time": "2023-06-09T09:56:47.089Z"
   },
   {
    "duration": 6,
    "start_time": "2023-06-09T09:57:01.617Z"
   },
   {
    "duration": 41,
    "start_time": "2023-06-09T09:58:58.944Z"
   },
   {
    "duration": 49,
    "start_time": "2023-06-10T08:23:04.956Z"
   },
   {
    "duration": 9312,
    "start_time": "2023-06-10T08:23:09.798Z"
   },
   {
    "duration": 1487,
    "start_time": "2023-06-10T08:23:19.112Z"
   },
   {
    "duration": 89,
    "start_time": "2023-06-10T08:23:20.601Z"
   },
   {
    "duration": 6,
    "start_time": "2023-06-10T08:23:20.692Z"
   },
   {
    "duration": 16,
    "start_time": "2023-06-10T08:23:20.701Z"
   },
   {
    "duration": 17,
    "start_time": "2023-06-10T08:23:20.719Z"
   },
   {
    "duration": 19,
    "start_time": "2023-06-10T08:23:20.738Z"
   },
   {
    "duration": 37,
    "start_time": "2023-06-10T08:23:20.759Z"
   },
   {
    "duration": 17,
    "start_time": "2023-06-10T08:23:20.797Z"
   },
   {
    "duration": 106,
    "start_time": "2023-06-10T08:23:20.816Z"
   },
   {
    "duration": 13,
    "start_time": "2023-06-10T08:23:20.924Z"
   },
   {
    "duration": 18,
    "start_time": "2023-06-10T08:23:20.939Z"
   },
   {
    "duration": 17,
    "start_time": "2023-06-10T08:23:20.958Z"
   },
   {
    "duration": 120,
    "start_time": "2023-06-10T08:23:20.979Z"
   },
   {
    "duration": 12,
    "start_time": "2023-06-10T08:23:21.100Z"
   },
   {
    "duration": 28,
    "start_time": "2023-06-10T08:23:21.114Z"
   },
   {
    "duration": 17,
    "start_time": "2023-06-10T08:23:21.144Z"
   },
   {
    "duration": 60,
    "start_time": "2023-06-10T08:23:21.164Z"
   },
   {
    "duration": 11,
    "start_time": "2023-06-10T08:23:21.226Z"
   },
   {
    "duration": 13,
    "start_time": "2023-06-10T08:23:21.239Z"
   },
   {
    "duration": 22,
    "start_time": "2023-06-10T08:23:21.254Z"
   },
   {
    "duration": 19,
    "start_time": "2023-06-10T08:23:21.278Z"
   },
   {
    "duration": 16,
    "start_time": "2023-06-10T08:23:21.299Z"
   },
   {
    "duration": 31,
    "start_time": "2023-06-10T08:23:21.316Z"
   },
   {
    "duration": 3,
    "start_time": "2023-06-10T08:23:21.349Z"
   },
   {
    "duration": 28,
    "start_time": "2023-06-10T08:23:21.354Z"
   },
   {
    "duration": 4,
    "start_time": "2023-06-10T08:23:21.384Z"
   },
   {
    "duration": 13,
    "start_time": "2023-06-10T08:23:21.389Z"
   },
   {
    "duration": 48,
    "start_time": "2023-06-10T08:23:21.404Z"
   },
   {
    "duration": 3,
    "start_time": "2023-06-10T08:23:21.453Z"
   },
   {
    "duration": 7,
    "start_time": "2023-06-10T08:23:21.458Z"
   },
   {
    "duration": 5,
    "start_time": "2023-06-10T08:27:41.377Z"
   },
   {
    "duration": 121,
    "start_time": "2023-06-10T08:29:16.260Z"
   },
   {
    "duration": 1071,
    "start_time": "2023-06-10T08:29:21.119Z"
   },
   {
    "duration": 1470,
    "start_time": "2023-06-10T08:29:59.291Z"
   },
   {
    "duration": 3,
    "start_time": "2023-06-10T08:30:35.509Z"
   },
   {
    "duration": 25,
    "start_time": "2023-06-10T08:30:46.100Z"
   },
   {
    "duration": 5,
    "start_time": "2023-06-10T08:31:14.627Z"
   },
   {
    "duration": 23,
    "start_time": "2023-06-10T08:31:21.009Z"
   },
   {
    "duration": 2632,
    "start_time": "2023-06-10T08:31:31.680Z"
   },
   {
    "duration": 5,
    "start_time": "2023-06-10T08:31:49.510Z"
   },
   {
    "duration": 2535,
    "start_time": "2023-06-10T08:31:51.848Z"
   },
   {
    "duration": 4156,
    "start_time": "2023-06-10T08:32:23.092Z"
   },
   {
    "duration": 5,
    "start_time": "2023-06-10T08:32:27.250Z"
   },
   {
    "duration": 83,
    "start_time": "2023-06-10T08:32:27.257Z"
   },
   {
    "duration": 6,
    "start_time": "2023-06-10T08:32:27.341Z"
   },
   {
    "duration": 25,
    "start_time": "2023-06-10T08:32:27.349Z"
   },
   {
    "duration": 9,
    "start_time": "2023-06-10T08:32:27.376Z"
   },
   {
    "duration": 17,
    "start_time": "2023-06-10T08:32:27.387Z"
   },
   {
    "duration": 16,
    "start_time": "2023-06-10T08:32:27.405Z"
   },
   {
    "duration": 22,
    "start_time": "2023-06-10T08:32:27.423Z"
   },
   {
    "duration": 29,
    "start_time": "2023-06-10T08:32:27.447Z"
   },
   {
    "duration": 13,
    "start_time": "2023-06-10T08:32:27.478Z"
   },
   {
    "duration": 22,
    "start_time": "2023-06-10T08:32:27.492Z"
   },
   {
    "duration": 13,
    "start_time": "2023-06-10T08:32:27.516Z"
   },
   {
    "duration": 27,
    "start_time": "2023-06-10T08:32:27.532Z"
   },
   {
    "duration": 12,
    "start_time": "2023-06-10T08:32:27.561Z"
   },
   {
    "duration": 14,
    "start_time": "2023-06-10T08:32:27.575Z"
   },
   {
    "duration": 19,
    "start_time": "2023-06-10T08:32:27.591Z"
   },
   {
    "duration": 28,
    "start_time": "2023-06-10T08:32:27.612Z"
   },
   {
    "duration": 10,
    "start_time": "2023-06-10T08:32:27.642Z"
   },
   {
    "duration": 25,
    "start_time": "2023-06-10T08:32:27.654Z"
   },
   {
    "duration": 11,
    "start_time": "2023-06-10T08:32:27.681Z"
   },
   {
    "duration": 37,
    "start_time": "2023-06-10T08:32:27.695Z"
   },
   {
    "duration": 13,
    "start_time": "2023-06-10T08:32:27.734Z"
   },
   {
    "duration": 41,
    "start_time": "2023-06-10T08:32:27.750Z"
   },
   {
    "duration": 19,
    "start_time": "2023-06-10T08:32:27.793Z"
   },
   {
    "duration": 41,
    "start_time": "2023-06-10T08:32:27.814Z"
   },
   {
    "duration": 5,
    "start_time": "2023-06-10T08:32:27.856Z"
   },
   {
    "duration": 17,
    "start_time": "2023-06-10T08:32:27.863Z"
   },
   {
    "duration": 28,
    "start_time": "2023-06-10T08:32:27.882Z"
   },
   {
    "duration": 3,
    "start_time": "2023-06-10T08:32:27.912Z"
   },
   {
    "duration": 10,
    "start_time": "2023-06-10T08:32:27.917Z"
   },
   {
    "duration": 14,
    "start_time": "2023-06-10T08:32:27.929Z"
   },
   {
    "duration": 9,
    "start_time": "2023-06-10T08:32:32.424Z"
   },
   {
    "duration": 17,
    "start_time": "2023-06-10T08:32:42.807Z"
   },
   {
    "duration": 4,
    "start_time": "2023-06-10T08:34:10.729Z"
   },
   {
    "duration": 23,
    "start_time": "2023-06-10T08:34:21.709Z"
   },
   {
    "duration": 4,
    "start_time": "2023-06-10T08:34:52.802Z"
   },
   {
    "duration": 22,
    "start_time": "2023-06-10T08:34:55.525Z"
   },
   {
    "duration": 7,
    "start_time": "2023-06-10T08:35:50.357Z"
   },
   {
    "duration": 16,
    "start_time": "2023-06-10T08:37:54.166Z"
   },
   {
    "duration": 4,
    "start_time": "2023-06-10T08:38:04.077Z"
   },
   {
    "duration": 4,
    "start_time": "2023-06-10T08:39:03.925Z"
   },
   {
    "duration": 48,
    "start_time": "2023-06-10T08:40:05.045Z"
   },
   {
    "duration": 9,
    "start_time": "2023-06-10T08:40:54.604Z"
   },
   {
    "duration": 24,
    "start_time": "2023-06-10T08:41:09.932Z"
   },
   {
    "duration": 3843,
    "start_time": "2023-06-10T08:43:38.066Z"
   },
   {
    "duration": 4,
    "start_time": "2023-06-10T08:43:41.911Z"
   },
   {
    "duration": 52,
    "start_time": "2023-06-10T08:43:41.917Z"
   },
   {
    "duration": 6,
    "start_time": "2023-06-10T08:43:41.970Z"
   },
   {
    "duration": 21,
    "start_time": "2023-06-10T08:43:41.978Z"
   },
   {
    "duration": 8,
    "start_time": "2023-06-10T08:43:42.000Z"
   },
   {
    "duration": 10,
    "start_time": "2023-06-10T08:43:42.009Z"
   },
   {
    "duration": 9,
    "start_time": "2023-06-10T08:43:42.021Z"
   },
   {
    "duration": 23,
    "start_time": "2023-06-10T08:43:42.031Z"
   },
   {
    "duration": 30,
    "start_time": "2023-06-10T08:43:42.055Z"
   },
   {
    "duration": 10,
    "start_time": "2023-06-10T08:43:42.087Z"
   },
   {
    "duration": 13,
    "start_time": "2023-06-10T08:43:42.099Z"
   },
   {
    "duration": 11,
    "start_time": "2023-06-10T08:43:42.113Z"
   },
   {
    "duration": 31,
    "start_time": "2023-06-10T08:43:42.126Z"
   },
   {
    "duration": 12,
    "start_time": "2023-06-10T08:43:42.158Z"
   },
   {
    "duration": 8,
    "start_time": "2023-06-10T08:43:42.172Z"
   },
   {
    "duration": 12,
    "start_time": "2023-06-10T08:43:42.182Z"
   },
   {
    "duration": 22,
    "start_time": "2023-06-10T08:43:42.195Z"
   },
   {
    "duration": 27,
    "start_time": "2023-06-10T08:43:42.219Z"
   },
   {
    "duration": 9,
    "start_time": "2023-06-10T08:43:42.249Z"
   },
   {
    "duration": 10,
    "start_time": "2023-06-10T08:43:42.260Z"
   },
   {
    "duration": 19,
    "start_time": "2023-06-10T08:43:42.271Z"
   },
   {
    "duration": 4,
    "start_time": "2023-06-10T08:43:42.291Z"
   },
   {
    "duration": 22,
    "start_time": "2023-06-10T08:43:42.296Z"
   },
   {
    "duration": 3,
    "start_time": "2023-06-10T08:43:42.342Z"
   },
   {
    "duration": 26,
    "start_time": "2023-06-10T08:43:42.347Z"
   },
   {
    "duration": 3,
    "start_time": "2023-06-10T08:43:42.374Z"
   },
   {
    "duration": 11,
    "start_time": "2023-06-10T08:43:42.379Z"
   },
   {
    "duration": 20,
    "start_time": "2023-06-10T08:43:42.392Z"
   },
   {
    "duration": 29,
    "start_time": "2023-06-10T08:43:42.413Z"
   },
   {
    "duration": 11,
    "start_time": "2023-06-10T08:43:42.444Z"
   },
   {
    "duration": 5,
    "start_time": "2023-06-10T08:43:42.456Z"
   },
   {
    "duration": 8,
    "start_time": "2023-06-10T08:43:42.463Z"
   },
   {
    "duration": 7,
    "start_time": "2023-06-10T08:43:42.472Z"
   },
   {
    "duration": 4,
    "start_time": "2023-06-10T08:43:42.481Z"
   },
   {
    "duration": 5,
    "start_time": "2023-06-10T08:43:42.486Z"
   },
   {
    "duration": 22,
    "start_time": "2023-06-10T08:46:24.705Z"
   },
   {
    "duration": 24,
    "start_time": "2023-06-10T08:46:46.157Z"
   },
   {
    "duration": 8,
    "start_time": "2023-06-10T08:47:59.127Z"
   },
   {
    "duration": 17,
    "start_time": "2023-06-10T08:50:08.574Z"
   },
   {
    "duration": 4,
    "start_time": "2023-06-10T08:50:16.221Z"
   },
   {
    "duration": 26,
    "start_time": "2023-06-10T08:50:33.353Z"
   },
   {
    "duration": 4055,
    "start_time": "2023-06-10T08:51:51.405Z"
   },
   {
    "duration": 6,
    "start_time": "2023-06-10T08:51:55.463Z"
   },
   {
    "duration": 58,
    "start_time": "2023-06-10T08:51:55.470Z"
   },
   {
    "duration": 6,
    "start_time": "2023-06-10T08:51:55.530Z"
   },
   {
    "duration": 19,
    "start_time": "2023-06-10T08:51:55.538Z"
   },
   {
    "duration": 7,
    "start_time": "2023-06-10T08:51:55.559Z"
   },
   {
    "duration": 30,
    "start_time": "2023-06-10T08:51:55.568Z"
   },
   {
    "duration": 17,
    "start_time": "2023-06-10T08:51:55.600Z"
   },
   {
    "duration": 17,
    "start_time": "2023-06-10T08:51:55.618Z"
   },
   {
    "duration": 31,
    "start_time": "2023-06-10T08:51:55.637Z"
   },
   {
    "duration": 13,
    "start_time": "2023-06-10T08:51:55.670Z"
   },
   {
    "duration": 10,
    "start_time": "2023-06-10T08:51:55.685Z"
   },
   {
    "duration": 18,
    "start_time": "2023-06-10T08:51:55.697Z"
   },
   {
    "duration": 30,
    "start_time": "2023-06-10T08:51:55.720Z"
   },
   {
    "duration": 13,
    "start_time": "2023-06-10T08:51:55.753Z"
   },
   {
    "duration": 37,
    "start_time": "2023-06-10T08:51:55.768Z"
   },
   {
    "duration": 19,
    "start_time": "2023-06-10T08:51:55.807Z"
   },
   {
    "duration": 25,
    "start_time": "2023-06-10T08:51:55.828Z"
   },
   {
    "duration": 12,
    "start_time": "2023-06-10T08:51:55.854Z"
   },
   {
    "duration": 11,
    "start_time": "2023-06-10T08:51:55.870Z"
   },
   {
    "duration": 37,
    "start_time": "2023-06-10T08:51:55.883Z"
   },
   {
    "duration": 31,
    "start_time": "2023-06-10T08:51:55.922Z"
   },
   {
    "duration": 16,
    "start_time": "2023-06-10T08:51:55.955Z"
   },
   {
    "duration": 43,
    "start_time": "2023-06-10T08:51:55.973Z"
   },
   {
    "duration": 4,
    "start_time": "2023-06-10T08:51:56.018Z"
   },
   {
    "duration": 36,
    "start_time": "2023-06-10T08:51:56.024Z"
   },
   {
    "duration": 4,
    "start_time": "2023-06-10T08:51:56.062Z"
   },
   {
    "duration": 25,
    "start_time": "2023-06-10T08:51:56.068Z"
   },
   {
    "duration": 30,
    "start_time": "2023-06-10T08:51:56.096Z"
   },
   {
    "duration": 14,
    "start_time": "2023-06-10T08:51:56.128Z"
   },
   {
    "duration": 18,
    "start_time": "2023-06-10T08:51:56.144Z"
   },
   {
    "duration": 9,
    "start_time": "2023-06-10T08:51:56.164Z"
   },
   {
    "duration": 10,
    "start_time": "2023-06-10T08:51:56.174Z"
   },
   {
    "duration": 12,
    "start_time": "2023-06-10T08:51:56.186Z"
   },
   {
    "duration": 21,
    "start_time": "2023-06-10T08:51:56.199Z"
   },
   {
    "duration": 9,
    "start_time": "2023-06-10T08:51:56.221Z"
   },
   {
    "duration": 126,
    "start_time": "2023-06-10T08:51:56.232Z"
   },
   {
    "duration": 7,
    "start_time": "2023-06-10T08:51:56.359Z"
   },
   {
    "duration": 262,
    "start_time": "2023-06-10T08:51:56.368Z"
   },
   {
    "duration": 11,
    "start_time": "2023-06-10T08:51:56.631Z"
   },
   {
    "duration": 144,
    "start_time": "2023-06-10T08:51:56.647Z"
   },
   {
    "duration": 6,
    "start_time": "2023-06-10T08:51:56.792Z"
   },
   {
    "duration": 205,
    "start_time": "2023-06-10T08:51:56.800Z"
   },
   {
    "duration": 7,
    "start_time": "2023-06-10T08:51:57.007Z"
   },
   {
    "duration": 231,
    "start_time": "2023-06-10T08:51:57.016Z"
   },
   {
    "duration": 7,
    "start_time": "2023-06-10T08:51:57.249Z"
   },
   {
    "duration": 224,
    "start_time": "2023-06-10T08:51:57.258Z"
   },
   {
    "duration": 7,
    "start_time": "2023-06-10T08:51:57.484Z"
   },
   {
    "duration": 152,
    "start_time": "2023-06-10T08:51:57.492Z"
   },
   {
    "duration": 5,
    "start_time": "2023-06-10T08:51:57.646Z"
   },
   {
    "duration": 169,
    "start_time": "2023-06-10T08:51:57.653Z"
   },
   {
    "duration": 6,
    "start_time": "2023-06-10T08:51:57.824Z"
   },
   {
    "duration": 141,
    "start_time": "2023-06-10T08:51:57.841Z"
   },
   {
    "duration": 6,
    "start_time": "2023-06-10T08:51:57.984Z"
   },
   {
    "duration": 156,
    "start_time": "2023-06-10T08:51:57.992Z"
   },
   {
    "duration": 7,
    "start_time": "2023-06-10T08:51:58.150Z"
   },
   {
    "duration": 191,
    "start_time": "2023-06-10T08:51:58.159Z"
   },
   {
    "duration": 8,
    "start_time": "2023-06-10T08:51:58.352Z"
   },
   {
    "duration": 189,
    "start_time": "2023-06-10T08:51:58.362Z"
   },
   {
    "duration": 6,
    "start_time": "2023-06-10T08:51:58.553Z"
   },
   {
    "duration": 163,
    "start_time": "2023-06-10T08:51:58.560Z"
   },
   {
    "duration": 7,
    "start_time": "2023-06-10T08:51:58.724Z"
   },
   {
    "duration": 399,
    "start_time": "2023-06-10T08:51:58.742Z"
   },
   {
    "duration": 7,
    "start_time": "2023-06-10T08:51:59.143Z"
   },
   {
    "duration": 185,
    "start_time": "2023-06-10T08:51:59.152Z"
   },
   {
    "duration": 7,
    "start_time": "2023-06-10T08:51:59.341Z"
   },
   {
    "duration": 173,
    "start_time": "2023-06-10T08:51:59.350Z"
   },
   {
    "duration": 7,
    "start_time": "2023-06-10T08:51:59.525Z"
   },
   {
    "duration": 172,
    "start_time": "2023-06-10T08:51:59.534Z"
   },
   {
    "duration": 7,
    "start_time": "2023-06-10T08:51:59.708Z"
   },
   {
    "duration": 167,
    "start_time": "2023-06-10T08:51:59.717Z"
   },
   {
    "duration": 17486,
    "start_time": "2023-06-10T08:51:59.886Z"
   },
   {
    "duration": 18415,
    "start_time": "2023-06-10T08:52:17.374Z"
   },
   {
    "duration": 20,
    "start_time": "2023-06-10T08:53:09.905Z"
   },
   {
    "duration": 5,
    "start_time": "2023-06-10T08:53:37.346Z"
   },
   {
    "duration": 50,
    "start_time": "2023-06-10T08:54:03.390Z"
   },
   {
    "duration": 4097,
    "start_time": "2023-06-10T08:57:36.471Z"
   },
   {
    "duration": 6,
    "start_time": "2023-06-10T08:57:40.570Z"
   },
   {
    "duration": 65,
    "start_time": "2023-06-10T08:57:40.577Z"
   },
   {
    "duration": 6,
    "start_time": "2023-06-10T08:57:40.644Z"
   },
   {
    "duration": 20,
    "start_time": "2023-06-10T08:57:40.652Z"
   },
   {
    "duration": 10,
    "start_time": "2023-06-10T08:57:40.674Z"
   },
   {
    "duration": 11,
    "start_time": "2023-06-10T08:57:40.686Z"
   },
   {
    "duration": 13,
    "start_time": "2023-06-10T08:57:40.698Z"
   },
   {
    "duration": 30,
    "start_time": "2023-06-10T08:57:40.713Z"
   },
   {
    "duration": 31,
    "start_time": "2023-06-10T08:57:40.744Z"
   },
   {
    "duration": 12,
    "start_time": "2023-06-10T08:57:40.777Z"
   },
   {
    "duration": 16,
    "start_time": "2023-06-10T08:57:40.791Z"
   },
   {
    "duration": 22,
    "start_time": "2023-06-10T08:57:40.809Z"
   },
   {
    "duration": 28,
    "start_time": "2023-06-10T08:57:40.841Z"
   },
   {
    "duration": 13,
    "start_time": "2023-06-10T08:57:40.870Z"
   },
   {
    "duration": 24,
    "start_time": "2023-06-10T08:57:40.884Z"
   },
   {
    "duration": 13,
    "start_time": "2023-06-10T08:57:40.909Z"
   },
   {
    "duration": 33,
    "start_time": "2023-06-10T08:57:40.923Z"
   },
   {
    "duration": 11,
    "start_time": "2023-06-10T08:57:40.957Z"
   },
   {
    "duration": 22,
    "start_time": "2023-06-10T08:57:40.970Z"
   },
   {
    "duration": 15,
    "start_time": "2023-06-10T08:57:40.994Z"
   },
   {
    "duration": 24,
    "start_time": "2023-06-10T08:57:41.011Z"
   },
   {
    "duration": 5,
    "start_time": "2023-06-10T08:57:41.037Z"
   },
   {
    "duration": 26,
    "start_time": "2023-06-10T08:57:41.043Z"
   },
   {
    "duration": 4,
    "start_time": "2023-06-10T08:57:41.070Z"
   },
   {
    "duration": 41,
    "start_time": "2023-06-10T08:57:41.075Z"
   },
   {
    "duration": 3,
    "start_time": "2023-06-10T08:57:41.118Z"
   },
   {
    "duration": 20,
    "start_time": "2023-06-10T08:57:41.122Z"
   },
   {
    "duration": 24,
    "start_time": "2023-06-10T08:57:41.144Z"
   },
   {
    "duration": 3,
    "start_time": "2023-06-10T08:57:41.170Z"
   },
   {
    "duration": 19,
    "start_time": "2023-06-10T08:57:41.174Z"
   },
   {
    "duration": 9,
    "start_time": "2023-06-10T08:57:41.194Z"
   },
   {
    "duration": 8,
    "start_time": "2023-06-10T08:57:41.204Z"
   },
   {
    "duration": 8,
    "start_time": "2023-06-10T08:57:41.213Z"
   },
   {
    "duration": 11,
    "start_time": "2023-06-10T08:57:41.223Z"
   },
   {
    "duration": 8,
    "start_time": "2023-06-10T08:57:41.236Z"
   },
   {
    "duration": 149,
    "start_time": "2023-06-10T08:57:41.245Z"
   },
   {
    "duration": 6,
    "start_time": "2023-06-10T08:57:41.396Z"
   },
   {
    "duration": 184,
    "start_time": "2023-06-10T08:57:41.403Z"
   },
   {
    "duration": 6,
    "start_time": "2023-06-10T08:57:41.588Z"
   },
   {
    "duration": 190,
    "start_time": "2023-06-10T08:57:41.599Z"
   },
   {
    "duration": 6,
    "start_time": "2023-06-10T08:57:41.791Z"
   },
   {
    "duration": 203,
    "start_time": "2023-06-10T08:57:41.798Z"
   },
   {
    "duration": 7,
    "start_time": "2023-06-10T08:57:42.002Z"
   },
   {
    "duration": 287,
    "start_time": "2023-06-10T08:57:42.010Z"
   },
   {
    "duration": 7,
    "start_time": "2023-06-10T08:57:42.299Z"
   },
   {
    "duration": 271,
    "start_time": "2023-06-10T08:57:42.308Z"
   },
   {
    "duration": 6,
    "start_time": "2023-06-10T08:57:42.581Z"
   },
   {
    "duration": 208,
    "start_time": "2023-06-10T08:57:42.588Z"
   },
   {
    "duration": 4,
    "start_time": "2023-06-10T08:57:42.798Z"
   },
   {
    "duration": 209,
    "start_time": "2023-06-10T08:57:42.804Z"
   },
   {
    "duration": 5,
    "start_time": "2023-06-10T08:57:43.015Z"
   },
   {
    "duration": 174,
    "start_time": "2023-06-10T08:57:43.022Z"
   },
   {
    "duration": 6,
    "start_time": "2023-06-10T08:57:43.198Z"
   },
   {
    "duration": 188,
    "start_time": "2023-06-10T08:57:43.206Z"
   },
   {
    "duration": 6,
    "start_time": "2023-06-10T08:57:43.396Z"
   },
   {
    "duration": 316,
    "start_time": "2023-06-10T08:57:43.404Z"
   },
   {
    "duration": 7,
    "start_time": "2023-06-10T08:57:43.722Z"
   },
   {
    "duration": 182,
    "start_time": "2023-06-10T08:57:43.742Z"
   },
   {
    "duration": 16,
    "start_time": "2023-06-10T08:57:43.926Z"
   },
   {
    "duration": 200,
    "start_time": "2023-06-10T08:57:43.944Z"
   },
   {
    "duration": 8,
    "start_time": "2023-06-10T08:57:44.146Z"
   },
   {
    "duration": 194,
    "start_time": "2023-06-10T08:57:44.156Z"
   },
   {
    "duration": 7,
    "start_time": "2023-06-10T08:57:44.352Z"
   },
   {
    "duration": 194,
    "start_time": "2023-06-10T08:57:44.360Z"
   },
   {
    "duration": 6,
    "start_time": "2023-06-10T08:57:44.556Z"
   },
   {
    "duration": 194,
    "start_time": "2023-06-10T08:57:44.564Z"
   },
   {
    "duration": 6,
    "start_time": "2023-06-10T08:57:44.760Z"
   },
   {
    "duration": 190,
    "start_time": "2023-06-10T08:57:44.768Z"
   },
   {
    "duration": 6,
    "start_time": "2023-06-10T08:57:44.960Z"
   },
   {
    "duration": 194,
    "start_time": "2023-06-10T08:57:44.967Z"
   },
   {
    "duration": 18537,
    "start_time": "2023-06-10T08:57:45.163Z"
   },
   {
    "duration": 18676,
    "start_time": "2023-06-10T08:58:03.702Z"
   },
   {
    "duration": 5,
    "start_time": "2023-06-10T08:58:22.380Z"
   },
   {
    "duration": 10,
    "start_time": "2023-06-10T08:58:22.387Z"
   },
   {
    "duration": 17,
    "start_time": "2023-06-10T08:58:22.399Z"
   },
   {
    "duration": 9,
    "start_time": "2023-06-10T08:58:22.418Z"
   },
   {
    "duration": 17,
    "start_time": "2023-06-10T08:58:22.429Z"
   },
   {
    "duration": 108,
    "start_time": "2023-06-10T08:58:22.447Z"
   },
   {
    "duration": 16,
    "start_time": "2023-06-10T08:58:22.557Z"
   },
   {
    "duration": 7,
    "start_time": "2023-06-10T08:58:22.574Z"
   },
   {
    "duration": 5,
    "start_time": "2023-06-10T08:58:22.583Z"
   },
   {
    "duration": 10,
    "start_time": "2023-06-10T08:58:22.590Z"
   },
   {
    "duration": 17,
    "start_time": "2023-06-10T08:58:22.601Z"
   },
   {
    "duration": 7,
    "start_time": "2023-06-10T08:58:22.619Z"
   },
   {
    "duration": 8,
    "start_time": "2023-06-10T08:58:22.627Z"
   },
   {
    "duration": 10,
    "start_time": "2023-06-10T08:58:22.637Z"
   },
   {
    "duration": 4,
    "start_time": "2023-06-10T09:05:34.309Z"
   },
   {
    "duration": 11,
    "start_time": "2023-06-10T09:05:42.968Z"
   },
   {
    "duration": 87452,
    "start_time": "2023-06-10T09:06:26.782Z"
   },
   {
    "duration": 142024,
    "start_time": "2023-06-10T09:07:54.236Z"
   },
   {
    "duration": 75243,
    "start_time": "2023-06-10T09:11:44.170Z"
   },
   {
    "duration": 146922,
    "start_time": "2023-06-10T09:12:59.415Z"
   },
   {
    "duration": 9,
    "start_time": "2023-06-10T09:21:49.316Z"
   },
   {
    "duration": 4,
    "start_time": "2023-06-10T09:22:06.054Z"
   },
   {
    "duration": 4023,
    "start_time": "2023-06-10T09:25:48.421Z"
   },
   {
    "duration": 1322,
    "start_time": "2023-06-10T09:25:52.446Z"
   },
   {
    "duration": 53,
    "start_time": "2023-06-10T09:25:53.769Z"
   },
   {
    "duration": 6,
    "start_time": "2023-06-10T09:25:53.824Z"
   },
   {
    "duration": 61,
    "start_time": "2023-06-10T09:25:53.831Z"
   },
   {
    "duration": 33,
    "start_time": "2023-06-10T09:25:53.894Z"
   },
   {
    "duration": 46,
    "start_time": "2023-06-10T09:25:53.928Z"
   },
   {
    "duration": 23,
    "start_time": "2023-06-10T09:25:53.976Z"
   },
   {
    "duration": 23,
    "start_time": "2023-06-10T09:25:54.001Z"
   },
   {
    "duration": 56,
    "start_time": "2023-06-10T09:25:54.028Z"
   },
   {
    "duration": 17,
    "start_time": "2023-06-10T09:25:54.086Z"
   },
   {
    "duration": 41,
    "start_time": "2023-06-10T09:25:54.105Z"
   },
   {
    "duration": 57,
    "start_time": "2023-06-10T09:25:54.148Z"
   },
   {
    "duration": 42,
    "start_time": "2023-06-10T09:25:54.206Z"
   },
   {
    "duration": 13,
    "start_time": "2023-06-10T09:25:54.249Z"
   },
   {
    "duration": 23,
    "start_time": "2023-06-10T09:25:54.264Z"
   },
   {
    "duration": 30,
    "start_time": "2023-06-10T09:25:54.289Z"
   },
   {
    "duration": 37,
    "start_time": "2023-06-10T09:25:54.321Z"
   },
   {
    "duration": 18,
    "start_time": "2023-06-10T09:25:54.360Z"
   },
   {
    "duration": 19,
    "start_time": "2023-06-10T09:25:54.379Z"
   },
   {
    "duration": 35,
    "start_time": "2023-06-10T09:25:54.400Z"
   },
   {
    "duration": 23,
    "start_time": "2023-06-10T09:25:54.437Z"
   },
   {
    "duration": 24,
    "start_time": "2023-06-10T09:25:54.462Z"
   },
   {
    "duration": 24,
    "start_time": "2023-06-10T09:25:54.489Z"
   },
   {
    "duration": 4,
    "start_time": "2023-06-10T09:25:54.515Z"
   },
   {
    "duration": 31,
    "start_time": "2023-06-10T09:25:54.520Z"
   },
   {
    "duration": 3,
    "start_time": "2023-06-10T09:25:54.553Z"
   },
   {
    "duration": 17,
    "start_time": "2023-06-10T09:25:54.561Z"
   },
   {
    "duration": 35,
    "start_time": "2023-06-10T09:25:54.580Z"
   },
   {
    "duration": 4,
    "start_time": "2023-06-10T09:25:54.616Z"
   },
   {
    "duration": 15,
    "start_time": "2023-06-10T09:25:54.622Z"
   },
   {
    "duration": 17,
    "start_time": "2023-06-10T09:25:54.638Z"
   },
   {
    "duration": 25,
    "start_time": "2023-06-10T09:25:54.657Z"
   },
   {
    "duration": 12,
    "start_time": "2023-06-10T09:25:54.684Z"
   },
   {
    "duration": 16,
    "start_time": "2023-06-10T09:25:54.698Z"
   },
   {
    "duration": 13,
    "start_time": "2023-06-10T09:25:54.715Z"
   },
   {
    "duration": 120,
    "start_time": "2023-06-10T09:25:54.730Z"
   },
   {
    "duration": 6,
    "start_time": "2023-06-10T09:25:54.852Z"
   },
   {
    "duration": 148,
    "start_time": "2023-06-10T09:25:54.859Z"
   },
   {
    "duration": 6,
    "start_time": "2023-06-10T09:25:55.009Z"
   },
   {
    "duration": 152,
    "start_time": "2023-06-10T09:25:55.017Z"
   },
   {
    "duration": 6,
    "start_time": "2023-06-10T09:25:55.171Z"
   },
   {
    "duration": 187,
    "start_time": "2023-06-10T09:25:55.178Z"
   },
   {
    "duration": 8,
    "start_time": "2023-06-10T09:25:55.367Z"
   },
   {
    "duration": 318,
    "start_time": "2023-06-10T09:25:55.377Z"
   },
   {
    "duration": 7,
    "start_time": "2023-06-10T09:25:55.697Z"
   },
   {
    "duration": 213,
    "start_time": "2023-06-10T09:25:55.705Z"
   },
   {
    "duration": 7,
    "start_time": "2023-06-10T09:25:55.921Z"
   },
   {
    "duration": 155,
    "start_time": "2023-06-10T09:25:55.930Z"
   },
   {
    "duration": 6,
    "start_time": "2023-06-10T09:25:56.087Z"
   },
   {
    "duration": 171,
    "start_time": "2023-06-10T09:25:56.094Z"
   },
   {
    "duration": 6,
    "start_time": "2023-06-10T09:25:56.267Z"
   },
   {
    "duration": 146,
    "start_time": "2023-06-10T09:25:56.274Z"
   },
   {
    "duration": 6,
    "start_time": "2023-06-10T09:25:56.422Z"
   },
   {
    "duration": 153,
    "start_time": "2023-06-10T09:25:56.430Z"
   },
   {
    "duration": 6,
    "start_time": "2023-06-10T09:25:56.585Z"
   },
   {
    "duration": 166,
    "start_time": "2023-06-10T09:25:56.593Z"
   },
   {
    "duration": 6,
    "start_time": "2023-06-10T09:25:56.761Z"
   },
   {
    "duration": 157,
    "start_time": "2023-06-10T09:25:56.769Z"
   },
   {
    "duration": 6,
    "start_time": "2023-06-10T09:25:56.928Z"
   },
   {
    "duration": 153,
    "start_time": "2023-06-10T09:25:56.935Z"
   },
   {
    "duration": 6,
    "start_time": "2023-06-10T09:25:57.090Z"
   },
   {
    "duration": 152,
    "start_time": "2023-06-10T09:25:57.097Z"
   },
   {
    "duration": 7,
    "start_time": "2023-06-10T09:25:57.250Z"
   },
   {
    "duration": 148,
    "start_time": "2023-06-10T09:25:57.258Z"
   },
   {
    "duration": 6,
    "start_time": "2023-06-10T09:25:57.408Z"
   },
   {
    "duration": 189,
    "start_time": "2023-06-10T09:25:57.416Z"
   },
   {
    "duration": 6,
    "start_time": "2023-06-10T09:25:57.607Z"
   },
   {
    "duration": 265,
    "start_time": "2023-06-10T09:25:57.615Z"
   },
   {
    "duration": 6,
    "start_time": "2023-06-10T09:25:57.882Z"
   },
   {
    "duration": 154,
    "start_time": "2023-06-10T09:25:57.890Z"
   },
   {
    "duration": 18367,
    "start_time": "2023-06-10T09:25:58.045Z"
   },
   {
    "duration": 18999,
    "start_time": "2023-06-10T09:26:16.414Z"
   },
   {
    "duration": 5,
    "start_time": "2023-06-10T09:26:35.415Z"
   },
   {
    "duration": 48,
    "start_time": "2023-06-10T09:26:35.422Z"
   },
   {
    "duration": 23,
    "start_time": "2023-06-10T09:26:35.472Z"
   },
   {
    "duration": 25,
    "start_time": "2023-06-10T09:26:35.497Z"
   },
   {
    "duration": 24,
    "start_time": "2023-06-10T09:26:35.524Z"
   },
   {
    "duration": 12,
    "start_time": "2023-06-10T09:26:35.550Z"
   },
   {
    "duration": 7,
    "start_time": "2023-06-10T09:26:35.564Z"
   },
   {
    "duration": 14,
    "start_time": "2023-06-10T09:26:35.572Z"
   },
   {
    "duration": 8,
    "start_time": "2023-06-10T09:26:35.591Z"
   },
   {
    "duration": 12,
    "start_time": "2023-06-10T09:26:35.600Z"
   },
   {
    "duration": 7,
    "start_time": "2023-06-10T09:26:35.614Z"
   },
   {
    "duration": 26,
    "start_time": "2023-06-10T09:26:35.622Z"
   },
   {
    "duration": 17,
    "start_time": "2023-06-10T09:26:35.650Z"
   },
   {
    "duration": 17,
    "start_time": "2023-06-10T09:26:35.669Z"
   },
   {
    "duration": 18,
    "start_time": "2023-06-10T09:26:35.687Z"
   },
   {
    "duration": 37,
    "start_time": "2023-06-10T09:26:35.707Z"
   },
   {
    "duration": 19,
    "start_time": "2023-06-10T09:26:35.746Z"
   },
   {
    "duration": 65388,
    "start_time": "2023-06-10T09:26:35.766Z"
   },
   {
    "duration": 153,
    "start_time": "2023-06-10T09:27:41.155Z"
   },
   {
    "duration": 0,
    "start_time": "2023-06-10T09:27:41.310Z"
   },
   {
    "duration": 0,
    "start_time": "2023-06-10T09:27:41.312Z"
   },
   {
    "duration": 0,
    "start_time": "2023-06-10T09:27:41.313Z"
   },
   {
    "duration": 60416,
    "start_time": "2023-06-10T09:31:48.750Z"
   },
   {
    "duration": 26,
    "start_time": "2023-06-10T09:33:40.560Z"
   },
   {
    "duration": 6,
    "start_time": "2023-06-10T09:33:54.178Z"
   },
   {
    "duration": 4,
    "start_time": "2023-06-10T09:35:11.150Z"
   },
   {
    "duration": 2354,
    "start_time": "2023-06-10T10:07:42.247Z"
   },
   {
    "duration": 3,
    "start_time": "2023-06-10T10:09:22.889Z"
   },
   {
    "duration": 3,
    "start_time": "2023-06-10T10:11:07.181Z"
   },
   {
    "duration": 81,
    "start_time": "2023-06-10T10:11:09.982Z"
   },
   {
    "duration": 16,
    "start_time": "2023-06-10T10:11:59.401Z"
   },
   {
    "duration": 18,
    "start_time": "2023-06-10T10:12:26.540Z"
   },
   {
    "duration": 368,
    "start_time": "2023-06-10T10:12:37.421Z"
   },
   {
    "duration": 24,
    "start_time": "2023-06-10T10:15:28.934Z"
   },
   {
    "duration": 14,
    "start_time": "2023-06-10T10:15:43.786Z"
   },
   {
    "duration": 25,
    "start_time": "2023-06-10T10:15:47.036Z"
   },
   {
    "duration": 306,
    "start_time": "2023-06-10T10:15:53.988Z"
   },
   {
    "duration": 287,
    "start_time": "2023-06-10T10:16:02.388Z"
   },
   {
    "duration": 2,
    "start_time": "2023-06-10T10:16:54.889Z"
   },
   {
    "duration": 14,
    "start_time": "2023-06-10T10:18:29.993Z"
   },
   {
    "duration": 7,
    "start_time": "2023-06-10T10:18:52.815Z"
   },
   {
    "duration": 9,
    "start_time": "2023-06-10T10:19:03.014Z"
   },
   {
    "duration": 5,
    "start_time": "2023-06-10T10:19:13.874Z"
   },
   {
    "duration": 215,
    "start_time": "2023-06-10T10:19:22.806Z"
   },
   {
    "duration": 15,
    "start_time": "2023-06-10T11:24:23.605Z"
   },
   {
    "duration": 30,
    "start_time": "2023-06-10T11:28:52.653Z"
   },
   {
    "duration": 26,
    "start_time": "2023-06-10T11:29:54.019Z"
   },
   {
    "duration": 34,
    "start_time": "2023-06-10T11:30:42.731Z"
   },
   {
    "duration": 26,
    "start_time": "2023-06-10T11:34:37.778Z"
   },
   {
    "duration": 27,
    "start_time": "2023-06-10T11:39:44.616Z"
   },
   {
    "duration": 35,
    "start_time": "2023-06-10T11:40:05.682Z"
   },
   {
    "duration": 3987,
    "start_time": "2023-06-10T11:41:10.405Z"
   },
   {
    "duration": 7,
    "start_time": "2023-06-10T11:41:14.396Z"
   },
   {
    "duration": 64,
    "start_time": "2023-06-10T11:41:14.405Z"
   },
   {
    "duration": 9,
    "start_time": "2023-06-10T11:41:14.473Z"
   },
   {
    "duration": 38,
    "start_time": "2023-06-10T11:41:14.484Z"
   },
   {
    "duration": 9,
    "start_time": "2023-06-10T11:41:14.525Z"
   },
   {
    "duration": 11,
    "start_time": "2023-06-10T11:41:14.536Z"
   },
   {
    "duration": 10,
    "start_time": "2023-06-10T11:41:14.549Z"
   },
   {
    "duration": 15,
    "start_time": "2023-06-10T11:41:14.561Z"
   },
   {
    "duration": 29,
    "start_time": "2023-06-10T11:41:14.579Z"
   },
   {
    "duration": 35,
    "start_time": "2023-06-10T11:41:14.610Z"
   },
   {
    "duration": 10,
    "start_time": "2023-06-10T11:41:14.648Z"
   },
   {
    "duration": 17,
    "start_time": "2023-06-10T11:41:14.660Z"
   },
   {
    "duration": 33,
    "start_time": "2023-06-10T11:41:14.679Z"
   },
   {
    "duration": 27,
    "start_time": "2023-06-10T11:41:14.714Z"
   },
   {
    "duration": 8,
    "start_time": "2023-06-10T11:41:14.744Z"
   },
   {
    "duration": 19,
    "start_time": "2023-06-10T11:41:14.754Z"
   },
   {
    "duration": 43,
    "start_time": "2023-06-10T11:41:14.775Z"
   },
   {
    "duration": 14,
    "start_time": "2023-06-10T11:41:14.820Z"
   },
   {
    "duration": 22,
    "start_time": "2023-06-10T11:41:14.836Z"
   },
   {
    "duration": 16,
    "start_time": "2023-06-10T11:41:14.860Z"
   },
   {
    "duration": 22,
    "start_time": "2023-06-10T11:41:14.879Z"
   },
   {
    "duration": 5,
    "start_time": "2023-06-10T11:41:14.902Z"
   },
   {
    "duration": 41,
    "start_time": "2023-06-10T11:41:14.909Z"
   },
   {
    "duration": 4,
    "start_time": "2023-06-10T11:41:14.952Z"
   },
   {
    "duration": 40,
    "start_time": "2023-06-10T11:41:14.957Z"
   },
   {
    "duration": 5,
    "start_time": "2023-06-10T11:41:14.999Z"
   },
   {
    "duration": 44,
    "start_time": "2023-06-10T11:41:15.008Z"
   },
   {
    "duration": 48,
    "start_time": "2023-06-10T11:41:15.054Z"
   },
   {
    "duration": 7,
    "start_time": "2023-06-10T11:41:15.104Z"
   },
   {
    "duration": 11,
    "start_time": "2023-06-10T11:41:15.113Z"
   },
   {
    "duration": 13,
    "start_time": "2023-06-10T11:41:15.126Z"
   },
   {
    "duration": 41,
    "start_time": "2023-06-10T11:41:15.141Z"
   },
   {
    "duration": 7,
    "start_time": "2023-06-10T11:41:15.184Z"
   },
   {
    "duration": 14,
    "start_time": "2023-06-10T11:41:15.192Z"
   },
   {
    "duration": 9,
    "start_time": "2023-06-10T11:41:15.207Z"
   },
   {
    "duration": 158,
    "start_time": "2023-06-10T11:41:15.218Z"
   },
   {
    "duration": 7,
    "start_time": "2023-06-10T11:41:15.378Z"
   },
   {
    "duration": 213,
    "start_time": "2023-06-10T11:41:15.387Z"
   },
   {
    "duration": 7,
    "start_time": "2023-06-10T11:41:15.603Z"
   },
   {
    "duration": 193,
    "start_time": "2023-06-10T11:41:15.612Z"
   },
   {
    "duration": 7,
    "start_time": "2023-06-10T11:41:15.808Z"
   },
   {
    "duration": 225,
    "start_time": "2023-06-10T11:41:15.817Z"
   },
   {
    "duration": 8,
    "start_time": "2023-06-10T11:41:16.044Z"
   },
   {
    "duration": 312,
    "start_time": "2023-06-10T11:41:16.053Z"
   },
   {
    "duration": 7,
    "start_time": "2023-06-10T11:41:16.367Z"
   },
   {
    "duration": 277,
    "start_time": "2023-06-10T11:41:16.376Z"
   },
   {
    "duration": 7,
    "start_time": "2023-06-10T11:41:16.655Z"
   },
   {
    "duration": 185,
    "start_time": "2023-06-10T11:41:16.664Z"
   },
   {
    "duration": 6,
    "start_time": "2023-06-10T11:41:16.851Z"
   },
   {
    "duration": 225,
    "start_time": "2023-06-10T11:41:16.859Z"
   },
   {
    "duration": 6,
    "start_time": "2023-06-10T11:41:17.086Z"
   },
   {
    "duration": 181,
    "start_time": "2023-06-10T11:41:17.094Z"
   },
   {
    "duration": 7,
    "start_time": "2023-06-10T11:41:17.278Z"
   },
   {
    "duration": 315,
    "start_time": "2023-06-10T11:41:17.286Z"
   },
   {
    "duration": 7,
    "start_time": "2023-06-10T11:41:17.603Z"
   },
   {
    "duration": 200,
    "start_time": "2023-06-10T11:41:17.611Z"
   },
   {
    "duration": 7,
    "start_time": "2023-06-10T11:41:17.813Z"
   },
   {
    "duration": 196,
    "start_time": "2023-06-10T11:41:17.822Z"
   },
   {
    "duration": 7,
    "start_time": "2023-06-10T11:41:18.020Z"
   },
   {
    "duration": 216,
    "start_time": "2023-06-10T11:41:18.029Z"
   },
   {
    "duration": 9,
    "start_time": "2023-06-10T11:41:18.248Z"
   },
   {
    "duration": 251,
    "start_time": "2023-06-10T11:41:18.260Z"
   },
   {
    "duration": 9,
    "start_time": "2023-06-10T11:41:18.513Z"
   },
   {
    "duration": 199,
    "start_time": "2023-06-10T11:41:18.524Z"
   },
   {
    "duration": 16,
    "start_time": "2023-06-10T11:41:18.726Z"
   },
   {
    "duration": 199,
    "start_time": "2023-06-10T11:41:18.745Z"
   },
   {
    "duration": 6,
    "start_time": "2023-06-10T11:41:18.946Z"
   },
   {
    "duration": 194,
    "start_time": "2023-06-10T11:41:18.954Z"
   },
   {
    "duration": 9,
    "start_time": "2023-06-10T11:41:19.150Z"
   },
   {
    "duration": 309,
    "start_time": "2023-06-10T11:41:19.161Z"
   },
   {
    "duration": 19153,
    "start_time": "2023-06-10T11:41:19.472Z"
   },
   {
    "duration": 19406,
    "start_time": "2023-06-10T11:41:38.627Z"
   },
   {
    "duration": 9,
    "start_time": "2023-06-10T11:41:58.035Z"
   },
   {
    "duration": 9,
    "start_time": "2023-06-10T11:41:58.045Z"
   },
   {
    "duration": 7,
    "start_time": "2023-06-10T11:41:58.056Z"
   },
   {
    "duration": 11,
    "start_time": "2023-06-10T11:41:58.065Z"
   },
   {
    "duration": 4,
    "start_time": "2023-06-10T11:41:58.078Z"
   },
   {
    "duration": 5,
    "start_time": "2023-06-10T11:41:58.084Z"
   },
   {
    "duration": 6,
    "start_time": "2023-06-10T11:41:58.091Z"
   },
   {
    "duration": 6,
    "start_time": "2023-06-10T11:41:58.098Z"
   },
   {
    "duration": 4,
    "start_time": "2023-06-10T11:41:58.110Z"
   },
   {
    "duration": 6,
    "start_time": "2023-06-10T11:41:58.116Z"
   },
   {
    "duration": 2,
    "start_time": "2023-06-10T11:41:58.143Z"
   },
   {
    "duration": 10,
    "start_time": "2023-06-10T11:41:58.147Z"
   },
   {
    "duration": 14,
    "start_time": "2023-06-10T11:41:58.159Z"
   },
   {
    "duration": 9,
    "start_time": "2023-06-10T11:41:58.174Z"
   },
   {
    "duration": 6,
    "start_time": "2023-06-10T11:41:58.185Z"
   },
   {
    "duration": 6,
    "start_time": "2023-06-10T11:41:58.193Z"
   },
   {
    "duration": 11,
    "start_time": "2023-06-10T11:41:58.201Z"
   },
   {
    "duration": 33,
    "start_time": "2023-06-10T11:41:58.214Z"
   },
   {
    "duration": 71748,
    "start_time": "2023-06-10T11:41:58.250Z"
   },
   {
    "duration": 66037,
    "start_time": "2023-06-10T11:43:10.001Z"
   },
   {
    "duration": 27,
    "start_time": "2023-06-10T11:44:16.040Z"
   },
   {
    "duration": 22,
    "start_time": "2023-06-10T11:44:16.069Z"
   },
   {
    "duration": 20,
    "start_time": "2023-06-10T11:44:16.092Z"
   },
   {
    "duration": 14,
    "start_time": "2023-06-10T11:49:05.362Z"
   },
   {
    "duration": 15,
    "start_time": "2023-06-10T11:49:28.408Z"
   },
   {
    "duration": 6,
    "start_time": "2023-06-10T11:49:39.374Z"
   },
   {
    "duration": 30,
    "start_time": "2023-06-10T12:00:44.978Z"
   },
   {
    "duration": 5,
    "start_time": "2023-06-10T12:01:02.562Z"
   },
   {
    "duration": 70181,
    "start_time": "2023-06-10T12:01:09.460Z"
   },
   {
    "duration": 69480,
    "start_time": "2023-06-10T12:03:41.814Z"
   },
   {
    "duration": 26,
    "start_time": "2023-06-10T12:05:11.399Z"
   },
   {
    "duration": 5,
    "start_time": "2023-06-10T12:05:18.772Z"
   },
   {
    "duration": 4,
    "start_time": "2023-06-10T12:05:21.391Z"
   },
   {
    "duration": 29,
    "start_time": "2023-06-10T12:07:23.414Z"
   },
   {
    "duration": 26,
    "start_time": "2023-06-10T12:08:07.876Z"
   },
   {
    "duration": 4,
    "start_time": "2023-06-10T12:08:51.931Z"
   },
   {
    "duration": 114,
    "start_time": "2023-06-10T12:21:33.268Z"
   },
   {
    "duration": 49,
    "start_time": "2023-06-10T12:22:46.905Z"
   },
   {
    "duration": 3852,
    "start_time": "2023-06-10T12:28:19.218Z"
   },
   {
    "duration": 1240,
    "start_time": "2023-06-10T12:28:23.072Z"
   },
   {
    "duration": 50,
    "start_time": "2023-06-10T12:28:24.314Z"
   },
   {
    "duration": 6,
    "start_time": "2023-06-10T12:28:24.366Z"
   },
   {
    "duration": 21,
    "start_time": "2023-06-10T12:28:24.373Z"
   },
   {
    "duration": 8,
    "start_time": "2023-06-10T12:28:24.395Z"
   },
   {
    "duration": 9,
    "start_time": "2023-06-10T12:28:24.405Z"
   },
   {
    "duration": 7,
    "start_time": "2023-06-10T12:28:24.416Z"
   },
   {
    "duration": 26,
    "start_time": "2023-06-10T12:28:24.424Z"
   },
   {
    "duration": 28,
    "start_time": "2023-06-10T12:28:24.453Z"
   },
   {
    "duration": 10,
    "start_time": "2023-06-10T12:28:24.483Z"
   },
   {
    "duration": 15,
    "start_time": "2023-06-10T12:28:24.495Z"
   },
   {
    "duration": 11,
    "start_time": "2023-06-10T12:28:24.512Z"
   },
   {
    "duration": 31,
    "start_time": "2023-06-10T12:28:24.524Z"
   },
   {
    "duration": 11,
    "start_time": "2023-06-10T12:28:24.556Z"
   },
   {
    "duration": 6,
    "start_time": "2023-06-10T12:28:24.568Z"
   },
   {
    "duration": 11,
    "start_time": "2023-06-10T12:28:24.576Z"
   },
   {
    "duration": 22,
    "start_time": "2023-06-10T12:28:24.588Z"
   },
   {
    "duration": 10,
    "start_time": "2023-06-10T12:28:24.611Z"
   },
   {
    "duration": 6,
    "start_time": "2023-06-10T12:28:24.642Z"
   },
   {
    "duration": 10,
    "start_time": "2023-06-10T12:28:24.650Z"
   },
   {
    "duration": 22,
    "start_time": "2023-06-10T12:28:24.661Z"
   },
   {
    "duration": 4,
    "start_time": "2023-06-10T12:28:24.685Z"
   },
   {
    "duration": 60,
    "start_time": "2023-06-10T12:28:24.690Z"
   },
   {
    "duration": 4,
    "start_time": "2023-06-10T12:28:24.752Z"
   },
   {
    "duration": 30,
    "start_time": "2023-06-10T12:28:24.758Z"
   },
   {
    "duration": 4,
    "start_time": "2023-06-10T12:28:24.790Z"
   },
   {
    "duration": 15,
    "start_time": "2023-06-10T12:28:24.799Z"
   },
   {
    "duration": 41,
    "start_time": "2023-06-10T12:28:24.816Z"
   },
   {
    "duration": 4,
    "start_time": "2023-06-10T12:28:24.859Z"
   },
   {
    "duration": 9,
    "start_time": "2023-06-10T12:28:24.864Z"
   },
   {
    "duration": 7,
    "start_time": "2023-06-10T12:28:24.875Z"
   },
   {
    "duration": 11,
    "start_time": "2023-06-10T12:28:24.884Z"
   },
   {
    "duration": 9,
    "start_time": "2023-06-10T12:28:24.896Z"
   },
   {
    "duration": 24,
    "start_time": "2023-06-10T12:28:24.907Z"
   },
   {
    "duration": 20,
    "start_time": "2023-06-10T12:28:24.932Z"
   },
   {
    "duration": 110,
    "start_time": "2023-06-10T12:28:24.953Z"
   },
   {
    "duration": 6,
    "start_time": "2023-06-10T12:28:25.064Z"
   },
   {
    "duration": 143,
    "start_time": "2023-06-10T12:28:25.071Z"
   },
   {
    "duration": 6,
    "start_time": "2023-06-10T12:28:25.216Z"
   },
   {
    "duration": 144,
    "start_time": "2023-06-10T12:28:25.223Z"
   },
   {
    "duration": 6,
    "start_time": "2023-06-10T12:28:25.369Z"
   },
   {
    "duration": 163,
    "start_time": "2023-06-10T12:28:25.376Z"
   },
   {
    "duration": 6,
    "start_time": "2023-06-10T12:28:25.541Z"
   },
   {
    "duration": 304,
    "start_time": "2023-06-10T12:28:25.549Z"
   },
   {
    "duration": 6,
    "start_time": "2023-06-10T12:28:25.854Z"
   },
   {
    "duration": 200,
    "start_time": "2023-06-10T12:28:25.862Z"
   },
   {
    "duration": 5,
    "start_time": "2023-06-10T12:28:26.064Z"
   },
   {
    "duration": 149,
    "start_time": "2023-06-10T12:28:26.071Z"
   },
   {
    "duration": 6,
    "start_time": "2023-06-10T12:28:26.221Z"
   },
   {
    "duration": 146,
    "start_time": "2023-06-10T12:28:26.241Z"
   },
   {
    "duration": 6,
    "start_time": "2023-06-10T12:28:26.389Z"
   },
   {
    "duration": 147,
    "start_time": "2023-06-10T12:28:26.396Z"
   },
   {
    "duration": 6,
    "start_time": "2023-06-10T12:28:26.545Z"
   },
   {
    "duration": 148,
    "start_time": "2023-06-10T12:28:26.553Z"
   },
   {
    "duration": 5,
    "start_time": "2023-06-10T12:28:26.703Z"
   },
   {
    "duration": 153,
    "start_time": "2023-06-10T12:28:26.710Z"
   },
   {
    "duration": 6,
    "start_time": "2023-06-10T12:28:26.864Z"
   },
   {
    "duration": 151,
    "start_time": "2023-06-10T12:28:26.872Z"
   },
   {
    "duration": 6,
    "start_time": "2023-06-10T12:28:27.025Z"
   },
   {
    "duration": 150,
    "start_time": "2023-06-10T12:28:27.041Z"
   },
   {
    "duration": 6,
    "start_time": "2023-06-10T12:28:27.193Z"
   },
   {
    "duration": 149,
    "start_time": "2023-06-10T12:28:27.201Z"
   },
   {
    "duration": 5,
    "start_time": "2023-06-10T12:28:27.352Z"
   },
   {
    "duration": 143,
    "start_time": "2023-06-10T12:28:27.359Z"
   },
   {
    "duration": 5,
    "start_time": "2023-06-10T12:28:27.504Z"
   },
   {
    "duration": 147,
    "start_time": "2023-06-10T12:28:27.511Z"
   },
   {
    "duration": 6,
    "start_time": "2023-06-10T12:28:27.660Z"
   },
   {
    "duration": 258,
    "start_time": "2023-06-10T12:28:27.667Z"
   },
   {
    "duration": 6,
    "start_time": "2023-06-10T12:28:27.927Z"
   },
   {
    "duration": 143,
    "start_time": "2023-06-10T12:28:27.941Z"
   },
   {
    "duration": 17452,
    "start_time": "2023-06-10T12:28:28.086Z"
   },
   {
    "duration": 18736,
    "start_time": "2023-06-10T12:28:45.541Z"
   },
   {
    "duration": 5,
    "start_time": "2023-06-10T12:29:04.281Z"
   },
   {
    "duration": 23,
    "start_time": "2023-06-10T12:29:04.288Z"
   },
   {
    "duration": 24,
    "start_time": "2023-06-10T12:29:04.313Z"
   },
   {
    "duration": 23,
    "start_time": "2023-06-10T12:29:04.338Z"
   },
   {
    "duration": 19,
    "start_time": "2023-06-10T12:29:04.363Z"
   },
   {
    "duration": 13,
    "start_time": "2023-06-10T12:29:04.383Z"
   },
   {
    "duration": 7,
    "start_time": "2023-06-10T12:29:04.398Z"
   },
   {
    "duration": 6,
    "start_time": "2023-06-10T12:29:04.406Z"
   },
   {
    "duration": 20,
    "start_time": "2023-06-10T12:29:04.417Z"
   },
   {
    "duration": 60248,
    "start_time": "2023-06-10T12:29:04.439Z"
   },
   {
    "duration": 0,
    "start_time": "2023-06-10T12:30:04.689Z"
   },
   {
    "duration": 0,
    "start_time": "2023-06-10T12:30:04.690Z"
   },
   {
    "duration": 0,
    "start_time": "2023-06-10T12:30:04.692Z"
   },
   {
    "duration": 0,
    "start_time": "2023-06-10T12:30:04.693Z"
   },
   {
    "duration": 0,
    "start_time": "2023-06-10T12:30:04.694Z"
   },
   {
    "duration": 3821,
    "start_time": "2023-06-10T12:32:14.174Z"
   },
   {
    "duration": 1256,
    "start_time": "2023-06-10T12:32:17.997Z"
   },
   {
    "duration": 49,
    "start_time": "2023-06-10T12:32:19.255Z"
   },
   {
    "duration": 5,
    "start_time": "2023-06-10T12:32:19.306Z"
   },
   {
    "duration": 16,
    "start_time": "2023-06-10T12:32:19.313Z"
   },
   {
    "duration": 8,
    "start_time": "2023-06-10T12:32:19.330Z"
   },
   {
    "duration": 9,
    "start_time": "2023-06-10T12:32:19.339Z"
   },
   {
    "duration": 7,
    "start_time": "2023-06-10T12:32:19.349Z"
   },
   {
    "duration": 12,
    "start_time": "2023-06-10T12:32:19.358Z"
   },
   {
    "duration": 31,
    "start_time": "2023-06-10T12:32:19.372Z"
   },
   {
    "duration": 17,
    "start_time": "2023-06-10T12:32:19.404Z"
   },
   {
    "duration": 11,
    "start_time": "2023-06-10T12:32:19.423Z"
   },
   {
    "duration": 9,
    "start_time": "2023-06-10T12:32:19.442Z"
   },
   {
    "duration": 33,
    "start_time": "2023-06-10T12:32:19.452Z"
   },
   {
    "duration": 11,
    "start_time": "2023-06-10T12:32:19.486Z"
   },
   {
    "duration": 7,
    "start_time": "2023-06-10T12:32:19.500Z"
   },
   {
    "duration": 10,
    "start_time": "2023-06-10T12:32:19.509Z"
   },
   {
    "duration": 29,
    "start_time": "2023-06-10T12:32:19.521Z"
   },
   {
    "duration": 10,
    "start_time": "2023-06-10T12:32:19.552Z"
   },
   {
    "duration": 9,
    "start_time": "2023-06-10T12:32:19.564Z"
   },
   {
    "duration": 9,
    "start_time": "2023-06-10T12:32:19.574Z"
   },
   {
    "duration": 20,
    "start_time": "2023-06-10T12:32:19.585Z"
   },
   {
    "duration": 4,
    "start_time": "2023-06-10T12:32:19.606Z"
   },
   {
    "duration": 47,
    "start_time": "2023-06-10T12:32:19.612Z"
   },
   {
    "duration": 4,
    "start_time": "2023-06-10T12:32:19.661Z"
   },
   {
    "duration": 25,
    "start_time": "2023-06-10T12:32:19.666Z"
   },
   {
    "duration": 4,
    "start_time": "2023-06-10T12:32:19.692Z"
   },
   {
    "duration": 10,
    "start_time": "2023-06-10T12:32:19.701Z"
   },
   {
    "duration": 48,
    "start_time": "2023-06-10T12:32:19.712Z"
   },
   {
    "duration": 2,
    "start_time": "2023-06-10T12:32:19.762Z"
   },
   {
    "duration": 9,
    "start_time": "2023-06-10T12:32:19.766Z"
   },
   {
    "duration": 9,
    "start_time": "2023-06-10T12:32:19.776Z"
   },
   {
    "duration": 9,
    "start_time": "2023-06-10T12:32:19.786Z"
   },
   {
    "duration": 7,
    "start_time": "2023-06-10T12:32:19.796Z"
   },
   {
    "duration": 14,
    "start_time": "2023-06-10T12:32:19.804Z"
   },
   {
    "duration": 22,
    "start_time": "2023-06-10T12:32:19.820Z"
   },
   {
    "duration": 120,
    "start_time": "2023-06-10T12:32:19.844Z"
   },
   {
    "duration": 7,
    "start_time": "2023-06-10T12:32:19.965Z"
   },
   {
    "duration": 194,
    "start_time": "2023-06-10T12:32:19.974Z"
   },
   {
    "duration": 7,
    "start_time": "2023-06-10T12:32:20.170Z"
   },
   {
    "duration": 161,
    "start_time": "2023-06-10T12:32:20.178Z"
   },
   {
    "duration": 7,
    "start_time": "2023-06-10T12:32:20.341Z"
   },
   {
    "duration": 182,
    "start_time": "2023-06-10T12:32:20.349Z"
   },
   {
    "duration": 9,
    "start_time": "2023-06-10T12:32:20.533Z"
   },
   {
    "duration": 313,
    "start_time": "2023-06-10T12:32:20.544Z"
   },
   {
    "duration": 7,
    "start_time": "2023-06-10T12:32:20.859Z"
   },
   {
    "duration": 216,
    "start_time": "2023-06-10T12:32:20.868Z"
   },
   {
    "duration": 6,
    "start_time": "2023-06-10T12:32:21.086Z"
   },
   {
    "duration": 155,
    "start_time": "2023-06-10T12:32:21.093Z"
   },
   {
    "duration": 6,
    "start_time": "2023-06-10T12:32:21.250Z"
   },
   {
    "duration": 167,
    "start_time": "2023-06-10T12:32:21.258Z"
   },
   {
    "duration": 6,
    "start_time": "2023-06-10T12:32:21.426Z"
   },
   {
    "duration": 160,
    "start_time": "2023-06-10T12:32:21.434Z"
   },
   {
    "duration": 6,
    "start_time": "2023-06-10T12:32:21.596Z"
   },
   {
    "duration": 154,
    "start_time": "2023-06-10T12:32:21.604Z"
   },
   {
    "duration": 6,
    "start_time": "2023-06-10T12:32:21.760Z"
   },
   {
    "duration": 150,
    "start_time": "2023-06-10T12:32:21.769Z"
   },
   {
    "duration": 6,
    "start_time": "2023-06-10T12:32:21.920Z"
   },
   {
    "duration": 145,
    "start_time": "2023-06-10T12:32:21.928Z"
   },
   {
    "duration": 6,
    "start_time": "2023-06-10T12:32:22.075Z"
   },
   {
    "duration": 161,
    "start_time": "2023-06-10T12:32:22.083Z"
   },
   {
    "duration": 6,
    "start_time": "2023-06-10T12:32:22.246Z"
   },
   {
    "duration": 203,
    "start_time": "2023-06-10T12:32:22.253Z"
   },
   {
    "duration": 6,
    "start_time": "2023-06-10T12:32:22.458Z"
   },
   {
    "duration": 148,
    "start_time": "2023-06-10T12:32:22.465Z"
   },
   {
    "duration": 7,
    "start_time": "2023-06-10T12:32:22.615Z"
   },
   {
    "duration": 152,
    "start_time": "2023-06-10T12:32:22.623Z"
   },
   {
    "duration": 6,
    "start_time": "2023-06-10T12:32:22.777Z"
   },
   {
    "duration": 249,
    "start_time": "2023-06-10T12:32:22.784Z"
   },
   {
    "duration": 10,
    "start_time": "2023-06-10T12:32:23.035Z"
   },
   {
    "duration": 140,
    "start_time": "2023-06-10T12:32:23.047Z"
   },
   {
    "duration": 17461,
    "start_time": "2023-06-10T12:32:23.189Z"
   },
   {
    "duration": 18706,
    "start_time": "2023-06-10T12:32:40.651Z"
   },
   {
    "duration": 5,
    "start_time": "2023-06-10T12:32:59.359Z"
   },
   {
    "duration": 10,
    "start_time": "2023-06-10T12:32:59.365Z"
   },
   {
    "duration": 29,
    "start_time": "2023-06-10T12:32:59.376Z"
   },
   {
    "duration": 26,
    "start_time": "2023-06-10T12:32:59.406Z"
   },
   {
    "duration": 23,
    "start_time": "2023-06-10T12:32:59.433Z"
   },
   {
    "duration": 10,
    "start_time": "2023-06-10T12:32:59.457Z"
   },
   {
    "duration": 11,
    "start_time": "2023-06-10T12:32:59.468Z"
   },
   {
    "duration": 7,
    "start_time": "2023-06-10T12:32:59.481Z"
   },
   {
    "duration": 20,
    "start_time": "2023-06-10T12:32:59.493Z"
   },
   {
    "duration": 60966,
    "start_time": "2023-06-10T12:32:59.514Z"
   },
   {
    "duration": 0,
    "start_time": "2023-06-10T12:34:00.482Z"
   },
   {
    "duration": 0,
    "start_time": "2023-06-10T12:34:00.483Z"
   },
   {
    "duration": 0,
    "start_time": "2023-06-10T12:34:00.484Z"
   },
   {
    "duration": 0,
    "start_time": "2023-06-10T12:34:00.486Z"
   },
   {
    "duration": 0,
    "start_time": "2023-06-10T12:34:00.487Z"
   },
   {
    "duration": 67671,
    "start_time": "2023-06-10T12:34:47.597Z"
   },
   {
    "duration": 67126,
    "start_time": "2023-06-10T12:36:29.714Z"
   },
   {
    "duration": 67050,
    "start_time": "2023-06-10T12:37:48.084Z"
   },
   {
    "duration": 27,
    "start_time": "2023-06-10T12:39:12.857Z"
   },
   {
    "duration": 4,
    "start_time": "2023-06-10T12:39:18.697Z"
   },
   {
    "duration": 4,
    "start_time": "2023-06-10T12:39:21.570Z"
   },
   {
    "duration": 31,
    "start_time": "2023-06-10T12:39:28.100Z"
   },
   {
    "duration": 10174,
    "start_time": "2023-06-10T21:43:41.228Z"
   },
   {
    "duration": 1525,
    "start_time": "2023-06-10T21:43:51.405Z"
   },
   {
    "duration": 166,
    "start_time": "2023-06-10T21:43:52.932Z"
   },
   {
    "duration": 9,
    "start_time": "2023-06-10T21:43:53.099Z"
   },
   {
    "duration": 20,
    "start_time": "2023-06-10T21:43:53.111Z"
   },
   {
    "duration": 10,
    "start_time": "2023-06-10T21:43:53.133Z"
   },
   {
    "duration": 19,
    "start_time": "2023-06-10T21:43:53.145Z"
   },
   {
    "duration": 11,
    "start_time": "2023-06-10T21:43:53.168Z"
   },
   {
    "duration": 12,
    "start_time": "2023-06-10T21:43:53.181Z"
   },
   {
    "duration": 113,
    "start_time": "2023-06-10T21:43:53.195Z"
   },
   {
    "duration": 13,
    "start_time": "2023-06-10T21:43:53.310Z"
   },
   {
    "duration": 27,
    "start_time": "2023-06-10T21:43:53.324Z"
   },
   {
    "duration": 16,
    "start_time": "2023-06-10T21:43:53.353Z"
   },
   {
    "duration": 71,
    "start_time": "2023-06-10T21:43:53.373Z"
   },
   {
    "duration": 23,
    "start_time": "2023-06-10T21:43:53.446Z"
   },
   {
    "duration": 15,
    "start_time": "2023-06-10T21:43:53.473Z"
   },
   {
    "duration": 16,
    "start_time": "2023-06-10T21:43:53.490Z"
   },
   {
    "duration": 82,
    "start_time": "2023-06-10T21:43:53.507Z"
   },
   {
    "duration": 11,
    "start_time": "2023-06-10T21:43:53.591Z"
   },
   {
    "duration": 10,
    "start_time": "2023-06-10T21:43:53.604Z"
   },
   {
    "duration": 18,
    "start_time": "2023-06-10T21:43:53.616Z"
   },
   {
    "duration": 34,
    "start_time": "2023-06-10T21:43:53.635Z"
   },
   {
    "duration": 5,
    "start_time": "2023-06-10T21:43:53.671Z"
   },
   {
    "duration": 26,
    "start_time": "2023-06-10T21:43:53.678Z"
   },
   {
    "duration": 5,
    "start_time": "2023-06-10T21:43:53.706Z"
   },
   {
    "duration": 78,
    "start_time": "2023-06-10T21:43:53.712Z"
   },
   {
    "duration": 5,
    "start_time": "2023-06-10T21:43:53.792Z"
   },
   {
    "duration": 20,
    "start_time": "2023-06-10T21:43:53.799Z"
   },
   {
    "duration": 51,
    "start_time": "2023-06-10T21:43:53.822Z"
   },
   {
    "duration": 4,
    "start_time": "2023-06-10T21:43:53.874Z"
   },
   {
    "duration": 16,
    "start_time": "2023-06-10T21:43:53.880Z"
   },
   {
    "duration": 21,
    "start_time": "2023-06-10T21:43:53.899Z"
   },
   {
    "duration": 13,
    "start_time": "2023-06-10T21:43:53.923Z"
   },
   {
    "duration": 5,
    "start_time": "2023-06-10T21:43:53.938Z"
   },
   {
    "duration": 26,
    "start_time": "2023-06-10T21:43:53.945Z"
   },
   {
    "duration": 12,
    "start_time": "2023-06-10T21:43:53.974Z"
   },
   {
    "duration": 132,
    "start_time": "2023-06-10T21:43:53.988Z"
   },
   {
    "duration": 7,
    "start_time": "2023-06-10T21:43:54.122Z"
   },
   {
    "duration": 172,
    "start_time": "2023-06-10T21:43:54.131Z"
   },
   {
    "duration": 7,
    "start_time": "2023-06-10T21:43:54.305Z"
   },
   {
    "duration": 159,
    "start_time": "2023-06-10T21:43:54.317Z"
   },
   {
    "duration": 7,
    "start_time": "2023-06-10T21:43:54.479Z"
   },
   {
    "duration": 197,
    "start_time": "2023-06-10T21:43:54.488Z"
   },
   {
    "duration": 7,
    "start_time": "2023-06-10T21:43:54.687Z"
   },
   {
    "duration": 327,
    "start_time": "2023-06-10T21:43:54.696Z"
   },
   {
    "duration": 8,
    "start_time": "2023-06-10T21:43:55.026Z"
   },
   {
    "duration": 245,
    "start_time": "2023-06-10T21:43:55.036Z"
   },
   {
    "duration": 7,
    "start_time": "2023-06-10T21:43:55.283Z"
   },
   {
    "duration": 155,
    "start_time": "2023-06-10T21:43:55.292Z"
   },
   {
    "duration": 17,
    "start_time": "2023-06-10T21:43:55.449Z"
   },
   {
    "duration": 163,
    "start_time": "2023-06-10T21:43:55.474Z"
   },
   {
    "duration": 7,
    "start_time": "2023-06-10T21:43:55.639Z"
   },
   {
    "duration": 175,
    "start_time": "2023-06-10T21:43:55.647Z"
   },
   {
    "duration": 6,
    "start_time": "2023-06-10T21:43:55.824Z"
   },
   {
    "duration": 158,
    "start_time": "2023-06-10T21:43:55.832Z"
   },
   {
    "duration": 7,
    "start_time": "2023-06-10T21:43:55.992Z"
   },
   {
    "duration": 180,
    "start_time": "2023-06-10T21:43:56.001Z"
   },
   {
    "duration": 9,
    "start_time": "2023-06-10T21:43:56.183Z"
   },
   {
    "duration": 173,
    "start_time": "2023-06-10T21:43:56.194Z"
   },
   {
    "duration": 7,
    "start_time": "2023-06-10T21:43:56.369Z"
   },
   {
    "duration": 163,
    "start_time": "2023-06-10T21:43:56.377Z"
   },
   {
    "duration": 6,
    "start_time": "2023-06-10T21:43:56.543Z"
   },
   {
    "duration": 174,
    "start_time": "2023-06-10T21:43:56.551Z"
   },
   {
    "duration": 7,
    "start_time": "2023-06-10T21:43:56.727Z"
   },
   {
    "duration": 162,
    "start_time": "2023-06-10T21:43:56.736Z"
   },
   {
    "duration": 6,
    "start_time": "2023-06-10T21:43:56.901Z"
   },
   {
    "duration": 185,
    "start_time": "2023-06-10T21:43:56.909Z"
   },
   {
    "duration": 7,
    "start_time": "2023-06-10T21:43:57.096Z"
   },
   {
    "duration": 302,
    "start_time": "2023-06-10T21:43:57.105Z"
   },
   {
    "duration": 7,
    "start_time": "2023-06-10T21:43:57.409Z"
   },
   {
    "duration": 178,
    "start_time": "2023-06-10T21:43:57.419Z"
   },
   {
    "duration": 19137,
    "start_time": "2023-06-10T21:43:57.600Z"
   },
   {
    "duration": 20394,
    "start_time": "2023-06-10T21:44:16.739Z"
   },
   {
    "duration": 5,
    "start_time": "2023-06-10T21:44:37.135Z"
   },
   {
    "duration": 31,
    "start_time": "2023-06-10T21:44:37.142Z"
   },
   {
    "duration": 49,
    "start_time": "2023-06-10T21:44:37.175Z"
   },
   {
    "duration": 44,
    "start_time": "2023-06-10T21:44:37.227Z"
   },
   {
    "duration": 15,
    "start_time": "2023-06-10T21:44:37.274Z"
   },
   {
    "duration": 7,
    "start_time": "2023-06-10T21:44:37.291Z"
   },
   {
    "duration": 16,
    "start_time": "2023-06-10T21:44:37.300Z"
   },
   {
    "duration": 16,
    "start_time": "2023-06-10T21:44:37.319Z"
   },
   {
    "duration": 38,
    "start_time": "2023-06-10T21:44:37.337Z"
   },
   {
    "duration": 95537,
    "start_time": "2023-06-10T21:44:37.376Z"
   },
   {
    "duration": 90548,
    "start_time": "2023-06-10T21:46:12.916Z"
   },
   {
    "duration": 43,
    "start_time": "2023-06-10T21:47:43.466Z"
   },
   {
    "duration": 4,
    "start_time": "2023-06-10T21:47:43.511Z"
   },
   {
    "duration": 16,
    "start_time": "2023-06-10T21:47:43.517Z"
   },
   {
    "duration": 146,
    "start_time": "2023-06-10T21:47:43.535Z"
   },
   {
    "duration": 43,
    "start_time": "2023-06-10T21:59:45.061Z"
   },
   {
    "duration": 4021,
    "start_time": "2023-06-10T22:04:53.133Z"
   },
   {
    "duration": 1345,
    "start_time": "2023-06-10T22:04:57.157Z"
   },
   {
    "duration": 51,
    "start_time": "2023-06-10T22:04:58.504Z"
   },
   {
    "duration": 6,
    "start_time": "2023-06-10T22:04:58.556Z"
   },
   {
    "duration": 18,
    "start_time": "2023-06-10T22:04:58.564Z"
   },
   {
    "duration": 8,
    "start_time": "2023-06-10T22:04:58.583Z"
   },
   {
    "duration": 11,
    "start_time": "2023-06-10T22:04:58.592Z"
   },
   {
    "duration": 7,
    "start_time": "2023-06-10T22:04:58.605Z"
   },
   {
    "duration": 28,
    "start_time": "2023-06-10T22:04:58.614Z"
   },
   {
    "duration": 38,
    "start_time": "2023-06-10T22:04:58.655Z"
   },
   {
    "duration": 11,
    "start_time": "2023-06-10T22:04:58.695Z"
   },
   {
    "duration": 12,
    "start_time": "2023-06-10T22:04:58.708Z"
   },
   {
    "duration": 11,
    "start_time": "2023-06-10T22:04:58.722Z"
   },
   {
    "duration": 27,
    "start_time": "2023-06-10T22:04:58.734Z"
   },
   {
    "duration": 14,
    "start_time": "2023-06-10T22:04:58.763Z"
   },
   {
    "duration": 9,
    "start_time": "2023-06-10T22:04:58.779Z"
   },
   {
    "duration": 20,
    "start_time": "2023-06-10T22:04:58.790Z"
   },
   {
    "duration": 39,
    "start_time": "2023-06-10T22:04:58.812Z"
   },
   {
    "duration": 13,
    "start_time": "2023-06-10T22:04:58.858Z"
   },
   {
    "duration": 11,
    "start_time": "2023-06-10T22:04:58.873Z"
   },
   {
    "duration": 18,
    "start_time": "2023-06-10T22:04:58.887Z"
   },
   {
    "duration": 37,
    "start_time": "2023-06-10T22:04:58.907Z"
   },
   {
    "duration": 12,
    "start_time": "2023-06-10T22:04:58.946Z"
   },
   {
    "duration": 35,
    "start_time": "2023-06-10T22:04:58.961Z"
   },
   {
    "duration": 5,
    "start_time": "2023-06-10T22:04:58.998Z"
   },
   {
    "duration": 59,
    "start_time": "2023-06-10T22:04:59.005Z"
   },
   {
    "duration": 6,
    "start_time": "2023-06-10T22:04:59.066Z"
   },
   {
    "duration": 28,
    "start_time": "2023-06-10T22:04:59.078Z"
   },
   {
    "duration": 22,
    "start_time": "2023-06-10T22:04:59.108Z"
   },
   {
    "duration": 3,
    "start_time": "2023-06-10T22:04:59.132Z"
   },
   {
    "duration": 16,
    "start_time": "2023-06-10T22:04:59.156Z"
   },
   {
    "duration": 13,
    "start_time": "2023-06-10T22:04:59.173Z"
   },
   {
    "duration": 9,
    "start_time": "2023-06-10T22:04:59.187Z"
   },
   {
    "duration": 21,
    "start_time": "2023-06-10T22:04:59.198Z"
   },
   {
    "duration": 12,
    "start_time": "2023-06-10T22:04:59.221Z"
   },
   {
    "duration": 26,
    "start_time": "2023-06-10T22:04:59.234Z"
   },
   {
    "duration": 12,
    "start_time": "2023-06-10T22:04:59.262Z"
   },
   {
    "duration": 114,
    "start_time": "2023-06-10T22:04:59.275Z"
   },
   {
    "duration": 6,
    "start_time": "2023-06-10T22:04:59.390Z"
   },
   {
    "duration": 150,
    "start_time": "2023-06-10T22:04:59.398Z"
   },
   {
    "duration": 11,
    "start_time": "2023-06-10T22:04:59.550Z"
   },
   {
    "duration": 150,
    "start_time": "2023-06-10T22:04:59.563Z"
   },
   {
    "duration": 6,
    "start_time": "2023-06-10T22:04:59.715Z"
   },
   {
    "duration": 184,
    "start_time": "2023-06-10T22:04:59.723Z"
   },
   {
    "duration": 7,
    "start_time": "2023-06-10T22:04:59.908Z"
   },
   {
    "duration": 333,
    "start_time": "2023-06-10T22:04:59.917Z"
   },
   {
    "duration": 8,
    "start_time": "2023-06-10T22:05:00.251Z"
   },
   {
    "duration": 225,
    "start_time": "2023-06-10T22:05:00.261Z"
   },
   {
    "duration": 8,
    "start_time": "2023-06-10T22:05:00.488Z"
   },
   {
    "duration": 145,
    "start_time": "2023-06-10T22:05:00.497Z"
   },
   {
    "duration": 14,
    "start_time": "2023-06-10T22:05:00.643Z"
   },
   {
    "duration": 182,
    "start_time": "2023-06-10T22:05:00.659Z"
   },
   {
    "duration": 14,
    "start_time": "2023-06-10T22:05:00.843Z"
   },
   {
    "duration": 148,
    "start_time": "2023-06-10T22:05:00.859Z"
   },
   {
    "duration": 6,
    "start_time": "2023-06-10T22:05:01.009Z"
   },
   {
    "duration": 163,
    "start_time": "2023-06-10T22:05:01.017Z"
   },
   {
    "duration": 7,
    "start_time": "2023-06-10T22:05:01.182Z"
   },
   {
    "duration": 243,
    "start_time": "2023-06-10T22:05:01.190Z"
   },
   {
    "duration": 7,
    "start_time": "2023-06-10T22:05:01.435Z"
   },
   {
    "duration": 170,
    "start_time": "2023-06-10T22:05:01.456Z"
   },
   {
    "duration": 7,
    "start_time": "2023-06-10T22:05:01.628Z"
   },
   {
    "duration": 194,
    "start_time": "2023-06-10T22:05:01.637Z"
   },
   {
    "duration": 6,
    "start_time": "2023-06-10T22:05:01.833Z"
   },
   {
    "duration": 206,
    "start_time": "2023-06-10T22:05:01.841Z"
   },
   {
    "duration": 9,
    "start_time": "2023-06-10T22:05:02.058Z"
   },
   {
    "duration": 233,
    "start_time": "2023-06-10T22:05:02.070Z"
   },
   {
    "duration": 7,
    "start_time": "2023-06-10T22:05:02.306Z"
   },
   {
    "duration": 170,
    "start_time": "2023-06-10T22:05:02.314Z"
   },
   {
    "duration": 7,
    "start_time": "2023-06-10T22:05:02.487Z"
   },
   {
    "duration": 273,
    "start_time": "2023-06-10T22:05:02.496Z"
   },
   {
    "duration": 7,
    "start_time": "2023-06-10T22:05:02.770Z"
   },
   {
    "duration": 155,
    "start_time": "2023-06-10T22:05:02.778Z"
   },
   {
    "duration": 18836,
    "start_time": "2023-06-10T22:05:02.935Z"
   },
   {
    "duration": 19580,
    "start_time": "2023-06-10T22:05:21.773Z"
   },
   {
    "duration": 5,
    "start_time": "2023-06-10T22:05:41.355Z"
   },
   {
    "duration": 8,
    "start_time": "2023-06-10T22:05:41.361Z"
   },
   {
    "duration": 5,
    "start_time": "2023-06-10T22:05:41.371Z"
   },
   {
    "duration": 16,
    "start_time": "2023-06-10T22:05:41.378Z"
   },
   {
    "duration": 3,
    "start_time": "2023-06-10T22:05:41.395Z"
   },
   {
    "duration": 4,
    "start_time": "2023-06-10T22:05:41.399Z"
   },
   {
    "duration": 5,
    "start_time": "2023-06-10T22:05:41.404Z"
   },
   {
    "duration": 4,
    "start_time": "2023-06-10T22:05:41.413Z"
   },
   {
    "duration": 40,
    "start_time": "2023-06-10T22:05:41.418Z"
   },
   {
    "duration": 4087,
    "start_time": "2023-06-10T22:06:12.382Z"
   },
   {
    "duration": 1312,
    "start_time": "2023-06-10T22:06:16.472Z"
   },
   {
    "duration": 50,
    "start_time": "2023-06-10T22:06:17.787Z"
   },
   {
    "duration": 6,
    "start_time": "2023-06-10T22:06:17.840Z"
   },
   {
    "duration": 21,
    "start_time": "2023-06-10T22:06:17.848Z"
   },
   {
    "duration": 23,
    "start_time": "2023-06-10T22:06:17.871Z"
   },
   {
    "duration": 9,
    "start_time": "2023-06-10T22:06:17.896Z"
   },
   {
    "duration": 8,
    "start_time": "2023-06-10T22:06:17.907Z"
   },
   {
    "duration": 13,
    "start_time": "2023-06-10T22:06:17.917Z"
   },
   {
    "duration": 29,
    "start_time": "2023-06-10T22:06:17.933Z"
   },
   {
    "duration": 10,
    "start_time": "2023-06-10T22:06:17.964Z"
   },
   {
    "duration": 20,
    "start_time": "2023-06-10T22:06:17.976Z"
   },
   {
    "duration": 17,
    "start_time": "2023-06-10T22:06:17.998Z"
   },
   {
    "duration": 26,
    "start_time": "2023-06-10T22:06:18.016Z"
   },
   {
    "duration": 10,
    "start_time": "2023-06-10T22:06:18.044Z"
   },
   {
    "duration": 9,
    "start_time": "2023-06-10T22:06:18.057Z"
   },
   {
    "duration": 17,
    "start_time": "2023-06-10T22:06:18.067Z"
   },
   {
    "duration": 23,
    "start_time": "2023-06-10T22:06:18.085Z"
   },
   {
    "duration": 10,
    "start_time": "2023-06-10T22:06:18.110Z"
   },
   {
    "duration": 11,
    "start_time": "2023-06-10T22:06:18.122Z"
   },
   {
    "duration": 7,
    "start_time": "2023-06-10T22:06:18.135Z"
   },
   {
    "duration": 19,
    "start_time": "2023-06-10T22:06:18.157Z"
   },
   {
    "duration": 3,
    "start_time": "2023-06-10T22:06:18.178Z"
   },
   {
    "duration": 21,
    "start_time": "2023-06-10T22:06:18.182Z"
   },
   {
    "duration": 3,
    "start_time": "2023-06-10T22:06:18.205Z"
   },
   {
    "duration": 52,
    "start_time": "2023-06-10T22:06:18.209Z"
   },
   {
    "duration": 4,
    "start_time": "2023-06-10T22:06:18.263Z"
   },
   {
    "duration": 15,
    "start_time": "2023-06-10T22:06:18.271Z"
   },
   {
    "duration": 27,
    "start_time": "2023-06-10T22:06:18.288Z"
   },
   {
    "duration": 3,
    "start_time": "2023-06-10T22:06:18.317Z"
   },
   {
    "duration": 8,
    "start_time": "2023-06-10T22:06:18.322Z"
   },
   {
    "duration": 3,
    "start_time": "2023-06-10T22:06:18.357Z"
   },
   {
    "duration": 17,
    "start_time": "2023-06-10T22:06:18.361Z"
   },
   {
    "duration": 12,
    "start_time": "2023-06-10T22:06:18.380Z"
   },
   {
    "duration": 27,
    "start_time": "2023-06-10T22:06:18.394Z"
   },
   {
    "duration": 8,
    "start_time": "2023-06-10T22:06:18.423Z"
   },
   {
    "duration": 25,
    "start_time": "2023-06-10T22:06:18.433Z"
   },
   {
    "duration": 11,
    "start_time": "2023-06-10T22:06:18.460Z"
   },
   {
    "duration": 121,
    "start_time": "2023-06-10T22:06:18.473Z"
   },
   {
    "duration": 6,
    "start_time": "2023-06-10T22:06:18.596Z"
   },
   {
    "duration": 161,
    "start_time": "2023-06-10T22:06:18.603Z"
   },
   {
    "duration": 7,
    "start_time": "2023-06-10T22:06:18.765Z"
   },
   {
    "duration": 155,
    "start_time": "2023-06-10T22:06:18.774Z"
   },
   {
    "duration": 7,
    "start_time": "2023-06-10T22:06:18.932Z"
   },
   {
    "duration": 224,
    "start_time": "2023-06-10T22:06:18.955Z"
   },
   {
    "duration": 8,
    "start_time": "2023-06-10T22:06:19.182Z"
   },
   {
    "duration": 318,
    "start_time": "2023-06-10T22:06:19.192Z"
   },
   {
    "duration": 9,
    "start_time": "2023-06-10T22:06:19.513Z"
   },
   {
    "duration": 232,
    "start_time": "2023-06-10T22:06:19.524Z"
   },
   {
    "duration": 7,
    "start_time": "2023-06-10T22:06:19.758Z"
   },
   {
    "duration": 152,
    "start_time": "2023-06-10T22:06:19.768Z"
   },
   {
    "duration": 5,
    "start_time": "2023-06-10T22:06:19.922Z"
   },
   {
    "duration": 164,
    "start_time": "2023-06-10T22:06:19.929Z"
   },
   {
    "duration": 6,
    "start_time": "2023-06-10T22:06:20.095Z"
   },
   {
    "duration": 157,
    "start_time": "2023-06-10T22:06:20.103Z"
   },
   {
    "duration": 7,
    "start_time": "2023-06-10T22:06:20.262Z"
   },
   {
    "duration": 152,
    "start_time": "2023-06-10T22:06:20.271Z"
   },
   {
    "duration": 6,
    "start_time": "2023-06-10T22:06:20.424Z"
   },
   {
    "duration": 170,
    "start_time": "2023-06-10T22:06:20.432Z"
   },
   {
    "duration": 8,
    "start_time": "2023-06-10T22:06:20.604Z"
   },
   {
    "duration": 189,
    "start_time": "2023-06-10T22:06:20.614Z"
   },
   {
    "duration": 6,
    "start_time": "2023-06-10T22:06:20.806Z"
   },
   {
    "duration": 180,
    "start_time": "2023-06-10T22:06:20.814Z"
   },
   {
    "duration": 7,
    "start_time": "2023-06-10T22:06:20.995Z"
   },
   {
    "duration": 163,
    "start_time": "2023-06-10T22:06:21.003Z"
   },
   {
    "duration": 9,
    "start_time": "2023-06-10T22:06:21.168Z"
   },
   {
    "duration": 163,
    "start_time": "2023-06-10T22:06:21.179Z"
   },
   {
    "duration": 13,
    "start_time": "2023-06-10T22:06:21.344Z"
   },
   {
    "duration": 159,
    "start_time": "2023-06-10T22:06:21.360Z"
   },
   {
    "duration": 7,
    "start_time": "2023-06-10T22:06:21.521Z"
   },
   {
    "duration": 252,
    "start_time": "2023-06-10T22:06:21.529Z"
   },
   {
    "duration": 6,
    "start_time": "2023-06-10T22:06:21.783Z"
   },
   {
    "duration": 151,
    "start_time": "2023-06-10T22:06:21.790Z"
   },
   {
    "duration": 19382,
    "start_time": "2023-06-10T22:06:21.943Z"
   },
   {
    "duration": 19622,
    "start_time": "2023-06-10T22:06:41.326Z"
   },
   {
    "duration": 6,
    "start_time": "2023-06-10T22:07:00.950Z"
   },
   {
    "duration": 52,
    "start_time": "2023-06-10T22:07:00.958Z"
   },
   {
    "duration": 42,
    "start_time": "2023-06-10T22:07:01.012Z"
   },
   {
    "duration": 36,
    "start_time": "2023-06-10T22:07:01.056Z"
   },
   {
    "duration": 29,
    "start_time": "2023-06-10T22:07:01.093Z"
   },
   {
    "duration": 34,
    "start_time": "2023-06-10T22:07:01.124Z"
   },
   {
    "duration": 21,
    "start_time": "2023-06-10T22:07:01.165Z"
   },
   {
    "duration": 54,
    "start_time": "2023-06-10T22:07:01.188Z"
   },
   {
    "duration": 59,
    "start_time": "2023-06-10T22:07:01.244Z"
   },
   {
    "duration": 4101,
    "start_time": "2023-06-10T22:07:15.265Z"
   },
   {
    "duration": 1315,
    "start_time": "2023-06-10T22:07:19.369Z"
   },
   {
    "duration": 50,
    "start_time": "2023-06-10T22:07:20.686Z"
   },
   {
    "duration": 6,
    "start_time": "2023-06-10T22:07:20.739Z"
   },
   {
    "duration": 45,
    "start_time": "2023-06-10T22:07:20.747Z"
   },
   {
    "duration": 56,
    "start_time": "2023-06-10T22:07:20.794Z"
   },
   {
    "duration": 27,
    "start_time": "2023-06-10T22:07:20.852Z"
   },
   {
    "duration": 11,
    "start_time": "2023-06-10T22:07:20.881Z"
   },
   {
    "duration": 19,
    "start_time": "2023-06-10T22:07:20.894Z"
   },
   {
    "duration": 30,
    "start_time": "2023-06-10T22:07:20.916Z"
   },
   {
    "duration": 11,
    "start_time": "2023-06-10T22:07:20.948Z"
   },
   {
    "duration": 13,
    "start_time": "2023-06-10T22:07:20.961Z"
   },
   {
    "duration": 19,
    "start_time": "2023-06-10T22:07:20.976Z"
   },
   {
    "duration": 26,
    "start_time": "2023-06-10T22:07:20.997Z"
   },
   {
    "duration": 11,
    "start_time": "2023-06-10T22:07:21.025Z"
   },
   {
    "duration": 11,
    "start_time": "2023-06-10T22:07:21.038Z"
   },
   {
    "duration": 10,
    "start_time": "2023-06-10T22:07:21.057Z"
   },
   {
    "duration": 24,
    "start_time": "2023-06-10T22:07:21.068Z"
   },
   {
    "duration": 10,
    "start_time": "2023-06-10T22:07:21.094Z"
   },
   {
    "duration": 11,
    "start_time": "2023-06-10T22:07:21.105Z"
   },
   {
    "duration": 15,
    "start_time": "2023-06-10T22:07:21.118Z"
   },
   {
    "duration": 34,
    "start_time": "2023-06-10T22:07:21.135Z"
   },
   {
    "duration": 5,
    "start_time": "2023-06-10T22:07:21.171Z"
   },
   {
    "duration": 34,
    "start_time": "2023-06-10T22:07:21.177Z"
   },
   {
    "duration": 12,
    "start_time": "2023-06-10T22:07:21.213Z"
   },
   {
    "duration": 38,
    "start_time": "2023-06-10T22:07:21.227Z"
   },
   {
    "duration": 4,
    "start_time": "2023-06-10T22:07:21.267Z"
   },
   {
    "duration": 22,
    "start_time": "2023-06-10T22:07:21.275Z"
   },
   {
    "duration": 22,
    "start_time": "2023-06-10T22:07:21.298Z"
   },
   {
    "duration": 3,
    "start_time": "2023-06-10T22:07:21.322Z"
   },
   {
    "duration": 29,
    "start_time": "2023-06-10T22:07:21.326Z"
   },
   {
    "duration": 16,
    "start_time": "2023-06-10T22:07:21.357Z"
   },
   {
    "duration": 46,
    "start_time": "2023-06-10T22:07:21.375Z"
   },
   {
    "duration": 28,
    "start_time": "2023-06-10T22:07:21.423Z"
   },
   {
    "duration": 30,
    "start_time": "2023-06-10T22:07:21.453Z"
   },
   {
    "duration": 6,
    "start_time": "2023-06-10T22:07:21.484Z"
   },
   {
    "duration": 37,
    "start_time": "2023-06-10T22:07:21.491Z"
   },
   {
    "duration": 21,
    "start_time": "2023-06-10T22:07:21.530Z"
   },
   {
    "duration": 17,
    "start_time": "2023-06-10T22:07:21.553Z"
   },
   {
    "duration": 116,
    "start_time": "2023-06-10T22:07:21.573Z"
   },
   {
    "duration": 6,
    "start_time": "2023-06-10T22:07:21.691Z"
   },
   {
    "duration": 151,
    "start_time": "2023-06-10T22:07:21.699Z"
   },
   {
    "duration": 8,
    "start_time": "2023-06-10T22:07:21.851Z"
   },
   {
    "duration": 141,
    "start_time": "2023-06-10T22:07:21.861Z"
   },
   {
    "duration": 5,
    "start_time": "2023-06-10T22:07:22.004Z"
   },
   {
    "duration": 169,
    "start_time": "2023-06-10T22:07:22.011Z"
   },
   {
    "duration": 7,
    "start_time": "2023-06-10T22:07:22.182Z"
   },
   {
    "duration": 292,
    "start_time": "2023-06-10T22:07:22.190Z"
   },
   {
    "duration": 8,
    "start_time": "2023-06-10T22:07:22.484Z"
   },
   {
    "duration": 217,
    "start_time": "2023-06-10T22:07:22.493Z"
   },
   {
    "duration": 7,
    "start_time": "2023-06-10T22:07:22.711Z"
   },
   {
    "duration": 163,
    "start_time": "2023-06-10T22:07:22.720Z"
   },
   {
    "duration": 6,
    "start_time": "2023-06-10T22:07:22.885Z"
   },
   {
    "duration": 173,
    "start_time": "2023-06-10T22:07:22.893Z"
   },
   {
    "duration": 9,
    "start_time": "2023-06-10T22:07:23.068Z"
   },
   {
    "duration": 161,
    "start_time": "2023-06-10T22:07:23.080Z"
   },
   {
    "duration": 6,
    "start_time": "2023-06-10T22:07:23.243Z"
   },
   {
    "duration": 147,
    "start_time": "2023-06-10T22:07:23.256Z"
   },
   {
    "duration": 6,
    "start_time": "2023-06-10T22:07:23.405Z"
   },
   {
    "duration": 146,
    "start_time": "2023-06-10T22:07:23.413Z"
   },
   {
    "duration": 7,
    "start_time": "2023-06-10T22:07:23.561Z"
   },
   {
    "duration": 167,
    "start_time": "2023-06-10T22:07:23.570Z"
   },
   {
    "duration": 7,
    "start_time": "2023-06-10T22:07:23.738Z"
   },
   {
    "duration": 164,
    "start_time": "2023-06-10T22:07:23.746Z"
   },
   {
    "duration": 7,
    "start_time": "2023-06-10T22:07:23.912Z"
   },
   {
    "duration": 158,
    "start_time": "2023-06-10T22:07:23.921Z"
   },
   {
    "duration": 7,
    "start_time": "2023-06-10T22:07:24.081Z"
   },
   {
    "duration": 173,
    "start_time": "2023-06-10T22:07:24.090Z"
   },
   {
    "duration": 6,
    "start_time": "2023-06-10T22:07:24.265Z"
   },
   {
    "duration": 172,
    "start_time": "2023-06-10T22:07:24.273Z"
   },
   {
    "duration": 13,
    "start_time": "2023-06-10T22:07:24.447Z"
   },
   {
    "duration": 277,
    "start_time": "2023-06-10T22:07:24.462Z"
   },
   {
    "duration": 6,
    "start_time": "2023-06-10T22:07:24.740Z"
   },
   {
    "duration": 147,
    "start_time": "2023-06-10T22:07:24.757Z"
   },
   {
    "duration": 19058,
    "start_time": "2023-06-10T22:07:24.905Z"
   },
   {
    "duration": 19796,
    "start_time": "2023-06-10T22:07:43.965Z"
   },
   {
    "duration": 5,
    "start_time": "2023-06-10T22:08:03.763Z"
   },
   {
    "duration": 12,
    "start_time": "2023-06-10T22:08:03.769Z"
   },
   {
    "duration": 6,
    "start_time": "2023-06-10T22:08:03.783Z"
   },
   {
    "duration": 11,
    "start_time": "2023-06-10T22:08:03.791Z"
   },
   {
    "duration": 3,
    "start_time": "2023-06-10T22:08:03.804Z"
   },
   {
    "duration": 2,
    "start_time": "2023-06-10T22:08:03.815Z"
   },
   {
    "duration": 5,
    "start_time": "2023-06-10T22:08:03.819Z"
   },
   {
    "duration": 31,
    "start_time": "2023-06-10T22:08:03.826Z"
   },
   {
    "duration": 16,
    "start_time": "2023-06-10T22:08:03.859Z"
   },
   {
    "duration": 91254,
    "start_time": "2023-06-10T22:08:03.877Z"
   },
   {
    "duration": 91645,
    "start_time": "2023-06-10T22:09:35.133Z"
   },
   {
    "duration": 26,
    "start_time": "2023-06-10T22:11:06.780Z"
   },
   {
    "duration": 29,
    "start_time": "2023-06-10T22:11:06.808Z"
   },
   {
    "duration": 20,
    "start_time": "2023-06-10T22:11:06.839Z"
   },
   {
    "duration": 123,
    "start_time": "2023-06-10T22:11:06.861Z"
   },
   {
    "duration": 0,
    "start_time": "2023-06-10T22:11:06.986Z"
   },
   {
    "duration": 26,
    "start_time": "2023-06-10T22:13:54.813Z"
   },
   {
    "duration": 28,
    "start_time": "2023-06-10T22:14:27.956Z"
   },
   {
    "duration": 25,
    "start_time": "2023-06-10T22:14:51.791Z"
   },
   {
    "duration": 11,
    "start_time": "2023-06-10T22:16:34.770Z"
   },
   {
    "duration": 28,
    "start_time": "2023-06-10T22:16:46.756Z"
   },
   {
    "duration": 28,
    "start_time": "2023-06-10T22:18:39.638Z"
   },
   {
    "duration": 28,
    "start_time": "2023-06-10T22:19:16.966Z"
   },
   {
    "duration": 9,
    "start_time": "2023-06-10T22:21:23.194Z"
   },
   {
    "duration": 14,
    "start_time": "2023-06-10T22:21:33.369Z"
   },
   {
    "duration": 27,
    "start_time": "2023-06-10T22:26:03.106Z"
   },
   {
    "duration": 28,
    "start_time": "2023-06-10T22:26:20.595Z"
   },
   {
    "duration": 30,
    "start_time": "2023-06-10T22:27:08.433Z"
   },
   {
    "duration": 26,
    "start_time": "2023-06-10T22:27:20.803Z"
   },
   {
    "duration": 4,
    "start_time": "2023-06-10T22:28:07.454Z"
   },
   {
    "duration": 4109,
    "start_time": "2023-06-10T22:28:17.601Z"
   },
   {
    "duration": 27,
    "start_time": "2023-06-10T22:28:46.588Z"
   },
   {
    "duration": 3983,
    "start_time": "2023-06-10T22:31:54.458Z"
   },
   {
    "duration": 28,
    "start_time": "2023-06-10T22:33:39.139Z"
   },
   {
    "duration": 10,
    "start_time": "2023-06-10T22:34:57.031Z"
   },
   {
    "duration": 68,
    "start_time": "2023-06-10T22:35:21.324Z"
   },
   {
    "duration": 29,
    "start_time": "2023-06-10T22:35:57.760Z"
   },
   {
    "duration": 26,
    "start_time": "2023-06-10T22:36:05.900Z"
   },
   {
    "duration": 4,
    "start_time": "2023-06-10T22:36:32.011Z"
   },
   {
    "duration": 3918,
    "start_time": "2023-06-10T22:36:41.246Z"
   },
   {
    "duration": 27,
    "start_time": "2023-06-10T22:37:06.064Z"
   },
   {
    "duration": 24,
    "start_time": "2023-06-10T22:45:17.991Z"
   },
   {
    "duration": 11,
    "start_time": "2023-06-10T22:46:05.451Z"
   },
   {
    "duration": 4049,
    "start_time": "2023-06-10T22:46:21.303Z"
   },
   {
    "duration": 25,
    "start_time": "2023-06-10T22:47:42.010Z"
   },
   {
    "duration": 11,
    "start_time": "2023-06-10T22:50:15.512Z"
   },
   {
    "duration": 11,
    "start_time": "2023-06-10T22:50:31.099Z"
   },
   {
    "duration": 5,
    "start_time": "2023-06-10T22:52:09.282Z"
   },
   {
    "duration": 3936,
    "start_time": "2023-06-10T22:52:31.817Z"
   },
   {
    "duration": 33,
    "start_time": "2023-06-10T22:55:41.212Z"
   },
   {
    "duration": 69,
    "start_time": "2023-06-10T22:55:57.559Z"
   },
   {
    "duration": 28,
    "start_time": "2023-06-10T22:56:49.335Z"
   },
   {
    "duration": 26,
    "start_time": "2023-06-10T22:57:23.148Z"
   },
   {
    "duration": 29,
    "start_time": "2023-06-10T23:03:36.423Z"
   },
   {
    "duration": 6,
    "start_time": "2023-06-10T23:08:38.207Z"
   },
   {
    "duration": 12,
    "start_time": "2023-06-10T23:08:46.349Z"
   },
   {
    "duration": 5,
    "start_time": "2023-06-10T23:08:57.177Z"
   },
   {
    "duration": 6,
    "start_time": "2023-06-10T23:10:22.959Z"
   },
   {
    "duration": 594,
    "start_time": "2023-06-10T23:20:02.663Z"
   },
   {
    "duration": 28,
    "start_time": "2023-06-10T23:21:19.850Z"
   },
   {
    "duration": 28,
    "start_time": "2023-06-10T23:21:26.510Z"
   },
   {
    "duration": 24,
    "start_time": "2023-06-10T23:23:48.717Z"
   },
   {
    "duration": 20,
    "start_time": "2023-06-10T23:23:58.220Z"
   },
   {
    "duration": 7,
    "start_time": "2023-06-10T23:24:04.766Z"
   },
   {
    "duration": 5,
    "start_time": "2023-06-10T23:24:13.873Z"
   },
   {
    "duration": 8,
    "start_time": "2023-06-10T23:24:18.673Z"
   },
   {
    "duration": 27,
    "start_time": "2023-06-10T23:24:39.711Z"
   },
   {
    "duration": 28,
    "start_time": "2023-06-10T23:26:36.817Z"
   },
   {
    "duration": 7477,
    "start_time": "2023-06-10T23:28:35.632Z"
   },
   {
    "duration": 4388,
    "start_time": "2023-06-10T23:28:51.803Z"
   },
   {
    "duration": 1326,
    "start_time": "2023-06-10T23:28:56.193Z"
   },
   {
    "duration": 49,
    "start_time": "2023-06-10T23:28:57.521Z"
   },
   {
    "duration": 6,
    "start_time": "2023-06-10T23:28:57.572Z"
   },
   {
    "duration": 15,
    "start_time": "2023-06-10T23:28:57.579Z"
   },
   {
    "duration": 7,
    "start_time": "2023-06-10T23:28:57.595Z"
   },
   {
    "duration": 18,
    "start_time": "2023-06-10T23:28:57.603Z"
   },
   {
    "duration": 16,
    "start_time": "2023-06-10T23:28:57.623Z"
   },
   {
    "duration": 11,
    "start_time": "2023-06-10T23:28:57.657Z"
   },
   {
    "duration": 29,
    "start_time": "2023-06-10T23:28:57.670Z"
   },
   {
    "duration": 12,
    "start_time": "2023-06-10T23:28:57.701Z"
   },
   {
    "duration": 22,
    "start_time": "2023-06-10T23:28:57.714Z"
   },
   {
    "duration": 20,
    "start_time": "2023-06-10T23:28:57.737Z"
   },
   {
    "duration": 26,
    "start_time": "2023-06-10T23:28:57.759Z"
   },
   {
    "duration": 11,
    "start_time": "2023-06-10T23:28:57.787Z"
   },
   {
    "duration": 12,
    "start_time": "2023-06-10T23:28:57.800Z"
   },
   {
    "duration": 18,
    "start_time": "2023-06-10T23:28:57.814Z"
   },
   {
    "duration": 24,
    "start_time": "2023-06-10T23:28:57.834Z"
   },
   {
    "duration": 10,
    "start_time": "2023-06-10T23:28:57.860Z"
   },
   {
    "duration": 7,
    "start_time": "2023-06-10T23:28:57.872Z"
   },
   {
    "duration": 13,
    "start_time": "2023-06-10T23:28:57.881Z"
   },
   {
    "duration": 22,
    "start_time": "2023-06-10T23:28:57.895Z"
   },
   {
    "duration": 4,
    "start_time": "2023-06-10T23:28:57.919Z"
   },
   {
    "duration": 20,
    "start_time": "2023-06-10T23:28:57.957Z"
   },
   {
    "duration": 3,
    "start_time": "2023-06-10T23:28:57.979Z"
   },
   {
    "duration": 27,
    "start_time": "2023-06-10T23:28:57.984Z"
   },
   {
    "duration": 4,
    "start_time": "2023-06-10T23:28:58.012Z"
   },
   {
    "duration": 41,
    "start_time": "2023-06-10T23:28:58.020Z"
   },
   {
    "duration": 21,
    "start_time": "2023-06-10T23:28:58.063Z"
   },
   {
    "duration": 4,
    "start_time": "2023-06-10T23:28:58.086Z"
   },
   {
    "duration": 5,
    "start_time": "2023-06-10T23:28:58.092Z"
   },
   {
    "duration": 19,
    "start_time": "2023-06-10T23:28:58.099Z"
   },
   {
    "duration": 9,
    "start_time": "2023-06-10T23:28:58.120Z"
   },
   {
    "duration": 14,
    "start_time": "2023-06-10T23:28:58.130Z"
   },
   {
    "duration": 30,
    "start_time": "2023-06-10T23:28:58.156Z"
   },
   {
    "duration": 7,
    "start_time": "2023-06-10T23:28:58.187Z"
   },
   {
    "duration": 39,
    "start_time": "2023-06-10T23:28:58.197Z"
   },
   {
    "duration": 23,
    "start_time": "2023-06-10T23:28:58.238Z"
   },
   {
    "duration": 10,
    "start_time": "2023-06-10T23:28:58.263Z"
   },
   {
    "duration": 148,
    "start_time": "2023-06-10T23:28:58.275Z"
   },
   {
    "duration": 6,
    "start_time": "2023-06-10T23:28:58.425Z"
   },
   {
    "duration": 164,
    "start_time": "2023-06-10T23:28:58.434Z"
   },
   {
    "duration": 7,
    "start_time": "2023-06-10T23:28:58.600Z"
   },
   {
    "duration": 150,
    "start_time": "2023-06-10T23:28:58.609Z"
   },
   {
    "duration": 7,
    "start_time": "2023-06-10T23:28:58.760Z"
   },
   {
    "duration": 209,
    "start_time": "2023-06-10T23:28:58.769Z"
   },
   {
    "duration": 7,
    "start_time": "2023-06-10T23:28:58.979Z"
   },
   {
    "duration": 312,
    "start_time": "2023-06-10T23:28:58.988Z"
   },
   {
    "duration": 6,
    "start_time": "2023-06-10T23:28:59.302Z"
   },
   {
    "duration": 194,
    "start_time": "2023-06-10T23:28:59.310Z"
   },
   {
    "duration": 6,
    "start_time": "2023-06-10T23:28:59.506Z"
   },
   {
    "duration": 149,
    "start_time": "2023-06-10T23:28:59.514Z"
   },
   {
    "duration": 6,
    "start_time": "2023-06-10T23:28:59.665Z"
   },
   {
    "duration": 169,
    "start_time": "2023-06-10T23:28:59.673Z"
   },
   {
    "duration": 15,
    "start_time": "2023-06-10T23:28:59.844Z"
   },
   {
    "duration": 138,
    "start_time": "2023-06-10T23:28:59.860Z"
   },
   {
    "duration": 8,
    "start_time": "2023-06-10T23:29:00.000Z"
   },
   {
    "duration": 212,
    "start_time": "2023-06-10T23:29:00.010Z"
   },
   {
    "duration": 7,
    "start_time": "2023-06-10T23:29:00.224Z"
   },
   {
    "duration": 170,
    "start_time": "2023-06-10T23:29:00.233Z"
   },
   {
    "duration": 6,
    "start_time": "2023-06-10T23:29:00.406Z"
   },
   {
    "duration": 190,
    "start_time": "2023-06-10T23:29:00.413Z"
   },
   {
    "duration": 9,
    "start_time": "2023-06-10T23:29:00.606Z"
   },
   {
    "duration": 162,
    "start_time": "2023-06-10T23:29:00.617Z"
   },
   {
    "duration": 6,
    "start_time": "2023-06-10T23:29:00.781Z"
   },
   {
    "duration": 152,
    "start_time": "2023-06-10T23:29:00.789Z"
   },
   {
    "duration": 15,
    "start_time": "2023-06-10T23:29:00.944Z"
   },
   {
    "duration": 154,
    "start_time": "2023-06-10T23:29:00.962Z"
   },
   {
    "duration": 7,
    "start_time": "2023-06-10T23:29:01.118Z"
   },
   {
    "duration": 181,
    "start_time": "2023-06-10T23:29:01.127Z"
   },
   {
    "duration": 7,
    "start_time": "2023-06-10T23:29:01.310Z"
   },
   {
    "duration": 317,
    "start_time": "2023-06-10T23:29:01.319Z"
   },
   {
    "duration": 7,
    "start_time": "2023-06-10T23:29:01.638Z"
   },
   {
    "duration": 173,
    "start_time": "2023-06-10T23:29:01.648Z"
   },
   {
    "duration": 17508,
    "start_time": "2023-06-10T23:29:01.823Z"
   },
   {
    "duration": 18392,
    "start_time": "2023-06-10T23:29:19.333Z"
   },
   {
    "duration": 6,
    "start_time": "2023-06-10T23:29:37.727Z"
   },
   {
    "duration": 22,
    "start_time": "2023-06-10T23:29:37.735Z"
   },
   {
    "duration": 16,
    "start_time": "2023-06-10T23:29:37.758Z"
   },
   {
    "duration": 26,
    "start_time": "2023-06-10T23:29:37.776Z"
   },
   {
    "duration": 6,
    "start_time": "2023-06-10T23:29:37.803Z"
   },
   {
    "duration": 3,
    "start_time": "2023-06-10T23:29:37.815Z"
   },
   {
    "duration": 19,
    "start_time": "2023-06-10T23:29:37.819Z"
   },
   {
    "duration": 7,
    "start_time": "2023-06-10T23:29:37.840Z"
   },
   {
    "duration": 19,
    "start_time": "2023-06-10T23:29:37.848Z"
   },
   {
    "duration": 91773,
    "start_time": "2023-06-10T23:29:37.869Z"
   },
   {
    "duration": 90429,
    "start_time": "2023-06-10T23:31:09.645Z"
   },
   {
    "duration": 31,
    "start_time": "2023-06-10T23:32:40.076Z"
   },
   {
    "duration": 12,
    "start_time": "2023-06-10T23:32:40.109Z"
   },
   {
    "duration": 24,
    "start_time": "2023-06-10T23:32:40.122Z"
   },
   {
    "duration": 14,
    "start_time": "2023-06-10T23:32:40.148Z"
   },
   {
    "duration": 138,
    "start_time": "2023-06-10T23:32:40.163Z"
   },
   {
    "duration": 0,
    "start_time": "2023-06-10T23:32:40.303Z"
   },
   {
    "duration": 0,
    "start_time": "2023-06-10T23:32:40.305Z"
   },
   {
    "duration": 4438,
    "start_time": "2023-06-10T23:39:38.811Z"
   },
   {
    "duration": 1349,
    "start_time": "2023-06-10T23:39:43.252Z"
   },
   {
    "duration": 50,
    "start_time": "2023-06-10T23:39:44.603Z"
   },
   {
    "duration": 6,
    "start_time": "2023-06-10T23:39:44.655Z"
   },
   {
    "duration": 27,
    "start_time": "2023-06-10T23:39:44.663Z"
   },
   {
    "duration": 14,
    "start_time": "2023-06-10T23:39:44.692Z"
   },
   {
    "duration": 18,
    "start_time": "2023-06-10T23:39:44.708Z"
   },
   {
    "duration": 42,
    "start_time": "2023-06-10T23:39:44.728Z"
   },
   {
    "duration": 21,
    "start_time": "2023-06-10T23:39:44.772Z"
   },
   {
    "duration": 41,
    "start_time": "2023-06-10T23:39:44.795Z"
   },
   {
    "duration": 11,
    "start_time": "2023-06-10T23:39:44.838Z"
   },
   {
    "duration": 12,
    "start_time": "2023-06-10T23:39:44.851Z"
   },
   {
    "duration": 22,
    "start_time": "2023-06-10T23:39:44.865Z"
   },
   {
    "duration": 29,
    "start_time": "2023-06-10T23:39:44.890Z"
   },
   {
    "duration": 25,
    "start_time": "2023-06-10T23:39:44.921Z"
   },
   {
    "duration": 32,
    "start_time": "2023-06-10T23:39:44.948Z"
   },
   {
    "duration": 14,
    "start_time": "2023-06-10T23:39:44.982Z"
   },
   {
    "duration": 23,
    "start_time": "2023-06-10T23:39:44.998Z"
   },
   {
    "duration": 83,
    "start_time": "2023-06-10T23:39:45.023Z"
   },
   {
    "duration": 35,
    "start_time": "2023-06-10T23:39:45.108Z"
   },
   {
    "duration": 24,
    "start_time": "2023-06-10T23:39:45.145Z"
   },
   {
    "duration": 30,
    "start_time": "2023-06-10T23:39:45.171Z"
   },
   {
    "duration": 4,
    "start_time": "2023-06-10T23:39:45.203Z"
   },
   {
    "duration": 60,
    "start_time": "2023-06-10T23:39:45.209Z"
   },
   {
    "duration": 5,
    "start_time": "2023-06-10T23:39:45.271Z"
   },
   {
    "duration": 38,
    "start_time": "2023-06-10T23:39:45.279Z"
   },
   {
    "duration": 4,
    "start_time": "2023-06-10T23:39:45.319Z"
   },
   {
    "duration": 33,
    "start_time": "2023-06-10T23:39:45.324Z"
   },
   {
    "duration": 25,
    "start_time": "2023-06-10T23:39:45.359Z"
   },
   {
    "duration": 3,
    "start_time": "2023-06-10T23:39:45.386Z"
   },
   {
    "duration": 22,
    "start_time": "2023-06-10T23:39:45.391Z"
   },
   {
    "duration": 15,
    "start_time": "2023-06-10T23:39:45.415Z"
   },
   {
    "duration": 19,
    "start_time": "2023-06-10T23:39:45.432Z"
   },
   {
    "duration": 20,
    "start_time": "2023-06-10T23:39:45.453Z"
   },
   {
    "duration": 32,
    "start_time": "2023-06-10T23:39:45.475Z"
   },
   {
    "duration": 8,
    "start_time": "2023-06-10T23:39:45.508Z"
   },
   {
    "duration": 29,
    "start_time": "2023-06-10T23:39:45.517Z"
   },
   {
    "duration": 27,
    "start_time": "2023-06-10T23:39:45.547Z"
   },
   {
    "duration": 37,
    "start_time": "2023-06-10T23:39:45.576Z"
   },
   {
    "duration": 105,
    "start_time": "2023-06-10T23:39:45.615Z"
   },
   {
    "duration": 6,
    "start_time": "2023-06-10T23:39:45.726Z"
   },
   {
    "duration": 180,
    "start_time": "2023-06-10T23:39:45.734Z"
   },
   {
    "duration": 8,
    "start_time": "2023-06-10T23:39:45.916Z"
   },
   {
    "duration": 169,
    "start_time": "2023-06-10T23:39:45.927Z"
   },
   {
    "duration": 6,
    "start_time": "2023-06-10T23:39:46.097Z"
   },
   {
    "duration": 173,
    "start_time": "2023-06-10T23:39:46.105Z"
   },
   {
    "duration": 9,
    "start_time": "2023-06-10T23:39:46.280Z"
   },
   {
    "duration": 322,
    "start_time": "2023-06-10T23:39:46.291Z"
   },
   {
    "duration": 7,
    "start_time": "2023-06-10T23:39:46.615Z"
   },
   {
    "duration": 212,
    "start_time": "2023-06-10T23:39:46.623Z"
   },
   {
    "duration": 6,
    "start_time": "2023-06-10T23:39:46.837Z"
   },
   {
    "duration": 131,
    "start_time": "2023-06-10T23:39:46.857Z"
   },
   {
    "duration": 5,
    "start_time": "2023-06-10T23:39:46.989Z"
   },
   {
    "duration": 170,
    "start_time": "2023-06-10T23:39:46.996Z"
   },
   {
    "duration": 6,
    "start_time": "2023-06-10T23:39:47.168Z"
   },
   {
    "duration": 147,
    "start_time": "2023-06-10T23:39:47.176Z"
   },
   {
    "duration": 6,
    "start_time": "2023-06-10T23:39:47.325Z"
   },
   {
    "duration": 164,
    "start_time": "2023-06-10T23:39:47.333Z"
   },
   {
    "duration": 7,
    "start_time": "2023-06-10T23:39:47.498Z"
   },
   {
    "duration": 146,
    "start_time": "2023-06-10T23:39:47.506Z"
   },
   {
    "duration": 6,
    "start_time": "2023-06-10T23:39:47.654Z"
   },
   {
    "duration": 143,
    "start_time": "2023-06-10T23:39:47.662Z"
   },
   {
    "duration": 5,
    "start_time": "2023-06-10T23:39:47.807Z"
   },
   {
    "duration": 146,
    "start_time": "2023-06-10T23:39:47.814Z"
   },
   {
    "duration": 7,
    "start_time": "2023-06-10T23:39:47.961Z"
   },
   {
    "duration": 148,
    "start_time": "2023-06-10T23:39:47.969Z"
   },
   {
    "duration": 6,
    "start_time": "2023-06-10T23:39:48.119Z"
   },
   {
    "duration": 140,
    "start_time": "2023-06-10T23:39:48.126Z"
   },
   {
    "duration": 6,
    "start_time": "2023-06-10T23:39:48.268Z"
   },
   {
    "duration": 175,
    "start_time": "2023-06-10T23:39:48.276Z"
   },
   {
    "duration": 6,
    "start_time": "2023-06-10T23:39:48.456Z"
   },
   {
    "duration": 248,
    "start_time": "2023-06-10T23:39:48.464Z"
   },
   {
    "duration": 6,
    "start_time": "2023-06-10T23:39:48.714Z"
   },
   {
    "duration": 189,
    "start_time": "2023-06-10T23:39:48.722Z"
   },
   {
    "duration": 18775,
    "start_time": "2023-06-10T23:39:48.914Z"
   },
   {
    "duration": 19576,
    "start_time": "2023-06-10T23:40:07.690Z"
   },
   {
    "duration": 6,
    "start_time": "2023-06-10T23:40:27.268Z"
   },
   {
    "duration": 14,
    "start_time": "2023-06-10T23:40:27.276Z"
   },
   {
    "duration": 10,
    "start_time": "2023-06-10T23:40:27.292Z"
   },
   {
    "duration": 47,
    "start_time": "2023-06-10T23:40:27.305Z"
   },
   {
    "duration": 10,
    "start_time": "2023-06-10T23:40:27.354Z"
   },
   {
    "duration": 5,
    "start_time": "2023-06-10T23:40:27.366Z"
   },
   {
    "duration": 27,
    "start_time": "2023-06-10T23:40:27.372Z"
   },
   {
    "duration": 18,
    "start_time": "2023-06-10T23:40:27.400Z"
   },
   {
    "duration": 22,
    "start_time": "2023-06-10T23:40:27.420Z"
   },
   {
    "duration": 89211,
    "start_time": "2023-06-10T23:40:27.444Z"
   },
   {
    "duration": 87935,
    "start_time": "2023-06-10T23:41:56.657Z"
   },
   {
    "duration": 27,
    "start_time": "2023-06-10T23:43:24.593Z"
   },
   {
    "duration": 4,
    "start_time": "2023-06-10T23:43:24.622Z"
   },
   {
    "duration": 7,
    "start_time": "2023-06-10T23:43:24.628Z"
   },
   {
    "duration": 8,
    "start_time": "2023-06-10T23:43:24.637Z"
   },
   {
    "duration": 124,
    "start_time": "2023-06-10T23:43:24.646Z"
   },
   {
    "duration": 0,
    "start_time": "2023-06-10T23:43:24.772Z"
   },
   {
    "duration": 0,
    "start_time": "2023-06-10T23:43:24.773Z"
   },
   {
    "duration": 0,
    "start_time": "2023-06-10T23:43:24.775Z"
   },
   {
    "duration": 34,
    "start_time": "2023-06-10T23:43:32.013Z"
   },
   {
    "duration": 12,
    "start_time": "2023-06-10T23:45:18.608Z"
   },
   {
    "duration": 1776,
    "start_time": "2023-06-10T23:45:39.764Z"
   },
   {
    "duration": 10,
    "start_time": "2023-06-10T23:46:57.898Z"
   },
   {
    "duration": 8,
    "start_time": "2023-06-10T23:47:21.825Z"
   },
   {
    "duration": 21,
    "start_time": "2023-06-10T23:47:32.136Z"
   },
   {
    "duration": 9,
    "start_time": "2023-06-10T23:47:38.616Z"
   },
   {
    "duration": 5,
    "start_time": "2023-06-10T23:48:31.554Z"
   },
   {
    "duration": 5,
    "start_time": "2023-06-10T23:49:14.256Z"
   },
   {
    "duration": 93432,
    "start_time": "2023-06-10T23:50:02.973Z"
   },
   {
    "duration": 95763,
    "start_time": "2023-06-10T23:51:36.407Z"
   },
   {
    "duration": 26,
    "start_time": "2023-06-10T23:53:12.172Z"
   },
   {
    "duration": 11,
    "start_time": "2023-06-10T23:53:12.201Z"
   },
   {
    "duration": 13,
    "start_time": "2023-06-10T23:53:12.213Z"
   },
   {
    "duration": 46,
    "start_time": "2023-06-10T23:53:12.227Z"
   },
   {
    "duration": 35,
    "start_time": "2023-06-10T23:53:30.452Z"
   },
   {
    "duration": 4,
    "start_time": "2023-06-10T23:53:32.496Z"
   },
   {
    "duration": 5,
    "start_time": "2023-06-10T23:53:34.007Z"
   },
   {
    "duration": 42,
    "start_time": "2023-06-10T23:53:35.433Z"
   },
   {
    "duration": 95900,
    "start_time": "2023-06-10T23:54:04.330Z"
   },
   {
    "duration": 26,
    "start_time": "2023-06-10T23:55:40.232Z"
   },
   {
    "duration": 19,
    "start_time": "2023-06-10T23:55:40.260Z"
   },
   {
    "duration": 17,
    "start_time": "2023-06-10T23:55:40.281Z"
   },
   {
    "duration": 41,
    "start_time": "2023-06-10T23:55:40.300Z"
   },
   {
    "duration": 29,
    "start_time": "2023-06-11T00:00:55.833Z"
   },
   {
    "duration": 31,
    "start_time": "2023-06-11T00:01:49.434Z"
   },
   {
    "duration": 79,
    "start_time": "2023-06-11T00:02:21.501Z"
   },
   {
    "duration": 31,
    "start_time": "2023-06-11T00:05:33.786Z"
   },
   {
    "duration": 30,
    "start_time": "2023-06-11T00:07:23.208Z"
   },
   {
    "duration": 43,
    "start_time": "2023-06-11T00:08:21.335Z"
   },
   {
    "duration": 989,
    "start_time": "2023-06-11T00:09:26.562Z"
   },
   {
    "duration": 566,
    "start_time": "2023-06-11T00:10:10.547Z"
   },
   {
    "duration": 23,
    "start_time": "2023-06-11T00:10:25.465Z"
   },
   {
    "duration": 11,
    "start_time": "2023-06-11T00:11:21.400Z"
   },
   {
    "duration": 11,
    "start_time": "2023-06-11T00:11:36.174Z"
   },
   {
    "duration": 8,
    "start_time": "2023-06-11T00:11:58.818Z"
   },
   {
    "duration": 11,
    "start_time": "2023-06-11T00:13:53.880Z"
   },
   {
    "duration": 16,
    "start_time": "2023-06-11T00:14:01.978Z"
   },
   {
    "duration": 2933,
    "start_time": "2023-06-11T00:14:12.261Z"
   },
   {
    "duration": 2840,
    "start_time": "2023-06-11T00:14:35.094Z"
   },
   {
    "duration": 14,
    "start_time": "2023-06-11T00:15:00.403Z"
   },
   {
    "duration": 23,
    "start_time": "2023-06-11T00:15:12.978Z"
   },
   {
    "duration": 870,
    "start_time": "2023-06-11T00:16:07.498Z"
   },
   {
    "duration": 176,
    "start_time": "2023-06-11T00:17:34.819Z"
   },
   {
    "duration": 628,
    "start_time": "2023-06-11T00:17:47.236Z"
   },
   {
    "duration": 4601,
    "start_time": "2023-06-11T00:19:20.129Z"
   },
   {
    "duration": 1390,
    "start_time": "2023-06-11T00:19:24.732Z"
   },
   {
    "duration": 51,
    "start_time": "2023-06-11T00:19:26.123Z"
   },
   {
    "duration": 6,
    "start_time": "2023-06-11T00:19:26.175Z"
   },
   {
    "duration": 58,
    "start_time": "2023-06-11T00:19:26.183Z"
   },
   {
    "duration": 23,
    "start_time": "2023-06-11T00:19:26.242Z"
   },
   {
    "duration": 20,
    "start_time": "2023-06-11T00:19:26.267Z"
   },
   {
    "duration": 26,
    "start_time": "2023-06-11T00:19:26.289Z"
   },
   {
    "duration": 33,
    "start_time": "2023-06-11T00:19:26.317Z"
   },
   {
    "duration": 34,
    "start_time": "2023-06-11T00:19:26.352Z"
   },
   {
    "duration": 12,
    "start_time": "2023-06-11T00:19:26.388Z"
   },
   {
    "duration": 31,
    "start_time": "2023-06-11T00:19:26.401Z"
   },
   {
    "duration": 18,
    "start_time": "2023-06-11T00:19:26.434Z"
   },
   {
    "duration": 27,
    "start_time": "2023-06-11T00:19:26.455Z"
   },
   {
    "duration": 12,
    "start_time": "2023-06-11T00:19:26.483Z"
   },
   {
    "duration": 12,
    "start_time": "2023-06-11T00:19:26.497Z"
   },
   {
    "duration": 14,
    "start_time": "2023-06-11T00:19:26.510Z"
   },
   {
    "duration": 44,
    "start_time": "2023-06-11T00:19:26.525Z"
   },
   {
    "duration": 10,
    "start_time": "2023-06-11T00:19:26.572Z"
   },
   {
    "duration": 20,
    "start_time": "2023-06-11T00:19:26.584Z"
   },
   {
    "duration": 28,
    "start_time": "2023-06-11T00:19:26.606Z"
   },
   {
    "duration": 40,
    "start_time": "2023-06-11T00:19:26.635Z"
   },
   {
    "duration": 3,
    "start_time": "2023-06-11T00:19:26.677Z"
   },
   {
    "duration": 24,
    "start_time": "2023-06-11T00:19:26.682Z"
   },
   {
    "duration": 4,
    "start_time": "2023-06-11T00:19:26.708Z"
   },
   {
    "duration": 56,
    "start_time": "2023-06-11T00:19:26.713Z"
   },
   {
    "duration": 4,
    "start_time": "2023-06-11T00:19:26.770Z"
   },
   {
    "duration": 27,
    "start_time": "2023-06-11T00:19:26.775Z"
   },
   {
    "duration": 36,
    "start_time": "2023-06-11T00:19:26.804Z"
   },
   {
    "duration": 4,
    "start_time": "2023-06-11T00:19:26.842Z"
   },
   {
    "duration": 12,
    "start_time": "2023-06-11T00:19:26.847Z"
   },
   {
    "duration": 25,
    "start_time": "2023-06-11T00:19:26.860Z"
   },
   {
    "duration": 18,
    "start_time": "2023-06-11T00:19:26.887Z"
   },
   {
    "duration": 13,
    "start_time": "2023-06-11T00:19:26.907Z"
   },
   {
    "duration": 27,
    "start_time": "2023-06-11T00:19:26.922Z"
   },
   {
    "duration": 20,
    "start_time": "2023-06-11T00:19:26.951Z"
   },
   {
    "duration": 41,
    "start_time": "2023-06-11T00:19:26.973Z"
   },
   {
    "duration": 15,
    "start_time": "2023-06-11T00:19:27.016Z"
   },
   {
    "duration": 13,
    "start_time": "2023-06-11T00:19:27.033Z"
   },
   {
    "duration": 119,
    "start_time": "2023-06-11T00:19:27.048Z"
   },
   {
    "duration": 6,
    "start_time": "2023-06-11T00:19:27.171Z"
   },
   {
    "duration": 169,
    "start_time": "2023-06-11T00:19:27.179Z"
   },
   {
    "duration": 11,
    "start_time": "2023-06-11T00:19:27.350Z"
   },
   {
    "duration": 169,
    "start_time": "2023-06-11T00:19:27.363Z"
   },
   {
    "duration": 7,
    "start_time": "2023-06-11T00:19:27.534Z"
   },
   {
    "duration": 172,
    "start_time": "2023-06-11T00:19:27.542Z"
   },
   {
    "duration": 7,
    "start_time": "2023-06-11T00:19:27.715Z"
   },
   {
    "duration": 320,
    "start_time": "2023-06-11T00:19:27.724Z"
   },
   {
    "duration": 13,
    "start_time": "2023-06-11T00:19:28.045Z"
   },
   {
    "duration": 206,
    "start_time": "2023-06-11T00:19:28.060Z"
   },
   {
    "duration": 6,
    "start_time": "2023-06-11T00:19:28.268Z"
   },
   {
    "duration": 154,
    "start_time": "2023-06-11T00:19:28.276Z"
   },
   {
    "duration": 8,
    "start_time": "2023-06-11T00:19:28.432Z"
   },
   {
    "duration": 162,
    "start_time": "2023-06-11T00:19:28.457Z"
   },
   {
    "duration": 6,
    "start_time": "2023-06-11T00:19:28.621Z"
   },
   {
    "duration": 147,
    "start_time": "2023-06-11T00:19:28.629Z"
   },
   {
    "duration": 7,
    "start_time": "2023-06-11T00:19:28.778Z"
   },
   {
    "duration": 221,
    "start_time": "2023-06-11T00:19:28.787Z"
   },
   {
    "duration": 7,
    "start_time": "2023-06-11T00:19:29.010Z"
   },
   {
    "duration": 170,
    "start_time": "2023-06-11T00:19:29.019Z"
   },
   {
    "duration": 7,
    "start_time": "2023-06-11T00:19:29.191Z"
   },
   {
    "duration": 160,
    "start_time": "2023-06-11T00:19:29.200Z"
   },
   {
    "duration": 6,
    "start_time": "2023-06-11T00:19:29.362Z"
   },
   {
    "duration": 160,
    "start_time": "2023-06-11T00:19:29.370Z"
   },
   {
    "duration": 7,
    "start_time": "2023-06-11T00:19:29.532Z"
   },
   {
    "duration": 168,
    "start_time": "2023-06-11T00:19:29.541Z"
   },
   {
    "duration": 8,
    "start_time": "2023-06-11T00:19:29.711Z"
   },
   {
    "duration": 152,
    "start_time": "2023-06-11T00:19:29.721Z"
   },
   {
    "duration": 8,
    "start_time": "2023-06-11T00:19:29.875Z"
   },
   {
    "duration": 162,
    "start_time": "2023-06-11T00:19:29.885Z"
   },
   {
    "duration": 12,
    "start_time": "2023-06-11T00:19:30.049Z"
   },
   {
    "duration": 347,
    "start_time": "2023-06-11T00:19:30.062Z"
   },
   {
    "duration": 6,
    "start_time": "2023-06-11T00:19:30.411Z"
   },
   {
    "duration": 194,
    "start_time": "2023-06-11T00:19:30.418Z"
   },
   {
    "duration": 18806,
    "start_time": "2023-06-11T00:19:30.614Z"
   },
   {
    "duration": 19675,
    "start_time": "2023-06-11T00:19:49.422Z"
   },
   {
    "duration": 5,
    "start_time": "2023-06-11T00:20:09.098Z"
   },
   {
    "duration": 9,
    "start_time": "2023-06-11T00:20:09.105Z"
   },
   {
    "duration": 14,
    "start_time": "2023-06-11T00:20:09.116Z"
   },
   {
    "duration": 17,
    "start_time": "2023-06-11T00:20:09.132Z"
   },
   {
    "duration": 12,
    "start_time": "2023-06-11T00:20:09.155Z"
   },
   {
    "duration": 24,
    "start_time": "2023-06-11T00:20:09.169Z"
   },
   {
    "duration": 11,
    "start_time": "2023-06-11T00:20:09.195Z"
   },
   {
    "duration": 12,
    "start_time": "2023-06-11T00:20:09.208Z"
   },
   {
    "duration": 33,
    "start_time": "2023-06-11T00:20:09.222Z"
   },
   {
    "duration": 2060,
    "start_time": "2023-06-11T00:20:09.258Z"
   },
   {
    "duration": 0,
    "start_time": "2023-06-11T00:20:11.319Z"
   },
   {
    "duration": 0,
    "start_time": "2023-06-11T00:20:11.321Z"
   },
   {
    "duration": 0,
    "start_time": "2023-06-11T00:20:11.322Z"
   },
   {
    "duration": 0,
    "start_time": "2023-06-11T00:20:11.323Z"
   },
   {
    "duration": 0,
    "start_time": "2023-06-11T00:20:11.324Z"
   },
   {
    "duration": 0,
    "start_time": "2023-06-11T00:20:11.326Z"
   },
   {
    "duration": 0,
    "start_time": "2023-06-11T00:20:11.327Z"
   },
   {
    "duration": 8,
    "start_time": "2023-06-11T00:20:27.052Z"
   },
   {
    "duration": 95455,
    "start_time": "2023-06-11T00:20:29.171Z"
   },
   {
    "duration": 27,
    "start_time": "2023-06-11T00:22:04.629Z"
   },
   {
    "duration": 13,
    "start_time": "2023-06-11T00:22:04.658Z"
   },
   {
    "duration": 19,
    "start_time": "2023-06-11T00:22:04.674Z"
   },
   {
    "duration": 862,
    "start_time": "2023-06-11T00:22:04.695Z"
   },
   {
    "duration": 0,
    "start_time": "2023-06-11T00:22:05.558Z"
   },
   {
    "duration": 34,
    "start_time": "2023-06-11T00:24:15.216Z"
   },
   {
    "duration": 33,
    "start_time": "2023-06-11T00:27:03.898Z"
   },
   {
    "duration": 35,
    "start_time": "2023-06-11T00:27:39.063Z"
   },
   {
    "duration": 4,
    "start_time": "2023-06-11T00:28:02.399Z"
   },
   {
    "duration": 31,
    "start_time": "2023-06-11T00:28:08.771Z"
   },
   {
    "duration": 4738,
    "start_time": "2023-06-11T00:28:55.658Z"
   },
   {
    "duration": 1309,
    "start_time": "2023-06-11T00:29:00.400Z"
   },
   {
    "duration": 53,
    "start_time": "2023-06-11T00:29:01.711Z"
   },
   {
    "duration": 6,
    "start_time": "2023-06-11T00:29:01.766Z"
   },
   {
    "duration": 52,
    "start_time": "2023-06-11T00:29:01.773Z"
   },
   {
    "duration": 37,
    "start_time": "2023-06-11T00:29:01.827Z"
   },
   {
    "duration": 22,
    "start_time": "2023-06-11T00:29:01.866Z"
   },
   {
    "duration": 82,
    "start_time": "2023-06-11T00:29:01.890Z"
   },
   {
    "duration": 26,
    "start_time": "2023-06-11T00:29:01.974Z"
   },
   {
    "duration": 60,
    "start_time": "2023-06-11T00:29:02.004Z"
   },
   {
    "duration": 35,
    "start_time": "2023-06-11T00:29:02.067Z"
   },
   {
    "duration": 67,
    "start_time": "2023-06-11T00:29:02.104Z"
   },
   {
    "duration": 59,
    "start_time": "2023-06-11T00:29:02.174Z"
   },
   {
    "duration": 56,
    "start_time": "2023-06-11T00:29:02.235Z"
   },
   {
    "duration": 12,
    "start_time": "2023-06-11T00:29:02.293Z"
   },
   {
    "duration": 30,
    "start_time": "2023-06-11T00:29:02.307Z"
   },
   {
    "duration": 20,
    "start_time": "2023-06-11T00:29:02.339Z"
   },
   {
    "duration": 34,
    "start_time": "2023-06-11T00:29:02.361Z"
   },
   {
    "duration": 12,
    "start_time": "2023-06-11T00:29:02.397Z"
   },
   {
    "duration": 8,
    "start_time": "2023-06-11T00:29:02.411Z"
   },
   {
    "duration": 10,
    "start_time": "2023-06-11T00:29:02.421Z"
   },
   {
    "duration": 34,
    "start_time": "2023-06-11T00:29:02.432Z"
   },
   {
    "duration": 4,
    "start_time": "2023-06-11T00:29:02.468Z"
   },
   {
    "duration": 22,
    "start_time": "2023-06-11T00:29:02.473Z"
   },
   {
    "duration": 4,
    "start_time": "2023-06-11T00:29:02.497Z"
   },
   {
    "duration": 57,
    "start_time": "2023-06-11T00:29:02.504Z"
   },
   {
    "duration": 9,
    "start_time": "2023-06-11T00:29:02.563Z"
   },
   {
    "duration": 20,
    "start_time": "2023-06-11T00:29:02.576Z"
   },
   {
    "duration": 25,
    "start_time": "2023-06-11T00:29:02.598Z"
   },
   {
    "duration": 4,
    "start_time": "2023-06-11T00:29:02.626Z"
   },
   {
    "duration": 26,
    "start_time": "2023-06-11T00:29:02.631Z"
   },
   {
    "duration": 11,
    "start_time": "2023-06-11T00:29:02.659Z"
   },
   {
    "duration": 7,
    "start_time": "2023-06-11T00:29:02.672Z"
   },
   {
    "duration": 8,
    "start_time": "2023-06-11T00:29:02.681Z"
   },
   {
    "duration": 28,
    "start_time": "2023-06-11T00:29:02.690Z"
   },
   {
    "duration": 7,
    "start_time": "2023-06-11T00:29:02.720Z"
   },
   {
    "duration": 44,
    "start_time": "2023-06-11T00:29:02.729Z"
   },
   {
    "duration": 10,
    "start_time": "2023-06-11T00:29:02.775Z"
   },
   {
    "duration": 7,
    "start_time": "2023-06-11T00:29:02.787Z"
   },
   {
    "duration": 132,
    "start_time": "2023-06-11T00:29:02.796Z"
   },
   {
    "duration": 10,
    "start_time": "2023-06-11T00:29:02.931Z"
   },
   {
    "duration": 181,
    "start_time": "2023-06-11T00:29:02.943Z"
   },
   {
    "duration": 6,
    "start_time": "2023-06-11T00:29:03.126Z"
   },
   {
    "duration": 157,
    "start_time": "2023-06-11T00:29:03.134Z"
   },
   {
    "duration": 7,
    "start_time": "2023-06-11T00:29:03.292Z"
   },
   {
    "duration": 185,
    "start_time": "2023-06-11T00:29:03.300Z"
   },
   {
    "duration": 7,
    "start_time": "2023-06-11T00:29:03.487Z"
   },
   {
    "duration": 323,
    "start_time": "2023-06-11T00:29:03.496Z"
   },
   {
    "duration": 7,
    "start_time": "2023-06-11T00:29:03.820Z"
   },
   {
    "duration": 214,
    "start_time": "2023-06-11T00:29:03.829Z"
   },
   {
    "duration": 14,
    "start_time": "2023-06-11T00:29:04.045Z"
   },
   {
    "duration": 141,
    "start_time": "2023-06-11T00:29:04.060Z"
   },
   {
    "duration": 6,
    "start_time": "2023-06-11T00:29:04.202Z"
   },
   {
    "duration": 162,
    "start_time": "2023-06-11T00:29:04.209Z"
   },
   {
    "duration": 6,
    "start_time": "2023-06-11T00:29:04.373Z"
   },
   {
    "duration": 142,
    "start_time": "2023-06-11T00:29:04.380Z"
   },
   {
    "duration": 8,
    "start_time": "2023-06-11T00:29:04.524Z"
   },
   {
    "duration": 164,
    "start_time": "2023-06-11T00:29:04.534Z"
   },
   {
    "duration": 6,
    "start_time": "2023-06-11T00:29:04.701Z"
   },
   {
    "duration": 155,
    "start_time": "2023-06-11T00:29:04.709Z"
   },
   {
    "duration": 6,
    "start_time": "2023-06-11T00:29:04.866Z"
   },
   {
    "duration": 154,
    "start_time": "2023-06-11T00:29:04.874Z"
   },
   {
    "duration": 9,
    "start_time": "2023-06-11T00:29:05.030Z"
   },
   {
    "duration": 161,
    "start_time": "2023-06-11T00:29:05.041Z"
   },
   {
    "duration": 6,
    "start_time": "2023-06-11T00:29:05.204Z"
   },
   {
    "duration": 163,
    "start_time": "2023-06-11T00:29:05.214Z"
   },
   {
    "duration": 6,
    "start_time": "2023-06-11T00:29:05.379Z"
   },
   {
    "duration": 152,
    "start_time": "2023-06-11T00:29:05.387Z"
   },
   {
    "duration": 6,
    "start_time": "2023-06-11T00:29:05.541Z"
   },
   {
    "duration": 155,
    "start_time": "2023-06-11T00:29:05.557Z"
   },
   {
    "duration": 7,
    "start_time": "2023-06-11T00:29:05.714Z"
   },
   {
    "duration": 272,
    "start_time": "2023-06-11T00:29:05.722Z"
   },
   {
    "duration": 7,
    "start_time": "2023-06-11T00:29:05.996Z"
   },
   {
    "duration": 154,
    "start_time": "2023-06-11T00:29:06.005Z"
   },
   {
    "duration": 19086,
    "start_time": "2023-06-11T00:29:06.161Z"
   },
   {
    "duration": 19589,
    "start_time": "2023-06-11T00:29:25.249Z"
   },
   {
    "duration": 5,
    "start_time": "2023-06-11T00:29:44.840Z"
   },
   {
    "duration": 27,
    "start_time": "2023-06-11T00:29:44.857Z"
   },
   {
    "duration": 9,
    "start_time": "2023-06-11T00:29:44.886Z"
   },
   {
    "duration": 16,
    "start_time": "2023-06-11T00:29:44.897Z"
   },
   {
    "duration": 13,
    "start_time": "2023-06-11T00:29:44.915Z"
   },
   {
    "duration": 3,
    "start_time": "2023-06-11T00:29:44.933Z"
   },
   {
    "duration": 10,
    "start_time": "2023-06-11T00:29:44.938Z"
   },
   {
    "duration": 26,
    "start_time": "2023-06-11T00:29:44.950Z"
   },
   {
    "duration": 17,
    "start_time": "2023-06-11T00:29:44.978Z"
   },
   {
    "duration": 26,
    "start_time": "2023-06-11T00:29:44.998Z"
   },
   {
    "duration": 199685,
    "start_time": "2023-06-11T00:29:45.026Z"
   },
   {
    "duration": 2,
    "start_time": "2023-06-11T00:33:04.713Z"
   },
   {
    "duration": 29,
    "start_time": "2023-06-11T00:33:04.717Z"
   },
   {
    "duration": 3,
    "start_time": "2023-06-11T00:33:04.748Z"
   },
   {
    "duration": 21,
    "start_time": "2023-06-11T00:33:04.753Z"
   },
   {
    "duration": 31,
    "start_time": "2023-06-11T00:33:04.776Z"
   },
   {
    "duration": 8595,
    "start_time": "2023-06-11T06:42:54.937Z"
   },
   {
    "duration": 1344,
    "start_time": "2023-06-11T06:43:03.535Z"
   },
   {
    "duration": 95,
    "start_time": "2023-06-11T06:43:04.881Z"
   },
   {
    "duration": 6,
    "start_time": "2023-06-11T06:43:04.978Z"
   },
   {
    "duration": 77,
    "start_time": "2023-06-11T06:43:04.986Z"
   },
   {
    "duration": 7,
    "start_time": "2023-06-11T06:43:05.065Z"
   },
   {
    "duration": 11,
    "start_time": "2023-06-11T06:43:05.073Z"
   },
   {
    "duration": 7,
    "start_time": "2023-06-11T06:43:05.085Z"
   },
   {
    "duration": 14,
    "start_time": "2023-06-11T06:43:05.094Z"
   },
   {
    "duration": 126,
    "start_time": "2023-06-11T06:43:05.110Z"
   },
   {
    "duration": 11,
    "start_time": "2023-06-11T06:43:05.237Z"
   },
   {
    "duration": 21,
    "start_time": "2023-06-11T06:43:05.249Z"
   },
   {
    "duration": 27,
    "start_time": "2023-06-11T06:43:05.272Z"
   },
   {
    "duration": 115,
    "start_time": "2023-06-11T06:43:05.303Z"
   },
   {
    "duration": 10,
    "start_time": "2023-06-11T06:43:05.420Z"
   },
   {
    "duration": 11,
    "start_time": "2023-06-11T06:43:05.432Z"
   },
   {
    "duration": 28,
    "start_time": "2023-06-11T06:43:05.445Z"
   },
   {
    "duration": 77,
    "start_time": "2023-06-11T06:43:05.474Z"
   },
   {
    "duration": 10,
    "start_time": "2023-06-11T06:43:05.552Z"
   },
   {
    "duration": 22,
    "start_time": "2023-06-11T06:43:05.563Z"
   },
   {
    "duration": 30,
    "start_time": "2023-06-11T06:43:05.586Z"
   },
   {
    "duration": 30,
    "start_time": "2023-06-11T06:43:05.617Z"
   },
   {
    "duration": 8,
    "start_time": "2023-06-11T06:43:05.648Z"
   },
   {
    "duration": 26,
    "start_time": "2023-06-11T06:43:05.657Z"
   },
   {
    "duration": 16,
    "start_time": "2023-06-11T06:43:05.684Z"
   },
   {
    "duration": 27,
    "start_time": "2023-06-11T06:43:05.702Z"
   },
   {
    "duration": 3,
    "start_time": "2023-06-11T06:43:05.730Z"
   },
   {
    "duration": 15,
    "start_time": "2023-06-11T06:43:05.735Z"
   },
   {
    "duration": 22,
    "start_time": "2023-06-11T06:43:05.751Z"
   },
   {
    "duration": 3,
    "start_time": "2023-06-11T06:43:05.774Z"
   },
   {
    "duration": 21,
    "start_time": "2023-06-11T06:43:05.778Z"
   },
   {
    "duration": 83,
    "start_time": "2023-06-11T06:43:05.800Z"
   },
   {
    "duration": 0,
    "start_time": "2023-06-11T06:43:05.887Z"
   },
   {
    "duration": 0,
    "start_time": "2023-06-11T06:43:05.889Z"
   },
   {
    "duration": 0,
    "start_time": "2023-06-11T06:43:05.890Z"
   },
   {
    "duration": 0,
    "start_time": "2023-06-11T06:43:05.891Z"
   },
   {
    "duration": 0,
    "start_time": "2023-06-11T06:43:05.893Z"
   },
   {
    "duration": 0,
    "start_time": "2023-06-11T06:43:05.894Z"
   },
   {
    "duration": 0,
    "start_time": "2023-06-11T06:43:05.896Z"
   },
   {
    "duration": 0,
    "start_time": "2023-06-11T06:43:05.898Z"
   },
   {
    "duration": 0,
    "start_time": "2023-06-11T06:43:05.899Z"
   },
   {
    "duration": 0,
    "start_time": "2023-06-11T06:43:05.900Z"
   },
   {
    "duration": 0,
    "start_time": "2023-06-11T06:43:05.900Z"
   },
   {
    "duration": 0,
    "start_time": "2023-06-11T06:43:05.901Z"
   },
   {
    "duration": 0,
    "start_time": "2023-06-11T06:43:05.902Z"
   },
   {
    "duration": 0,
    "start_time": "2023-06-11T06:43:05.904Z"
   },
   {
    "duration": 0,
    "start_time": "2023-06-11T06:43:05.905Z"
   },
   {
    "duration": 0,
    "start_time": "2023-06-11T06:43:05.906Z"
   },
   {
    "duration": 0,
    "start_time": "2023-06-11T06:43:05.908Z"
   },
   {
    "duration": 0,
    "start_time": "2023-06-11T06:43:05.909Z"
   },
   {
    "duration": 0,
    "start_time": "2023-06-11T06:43:05.910Z"
   },
   {
    "duration": 0,
    "start_time": "2023-06-11T06:43:05.911Z"
   },
   {
    "duration": 0,
    "start_time": "2023-06-11T06:43:05.912Z"
   },
   {
    "duration": 0,
    "start_time": "2023-06-11T06:43:05.914Z"
   },
   {
    "duration": 0,
    "start_time": "2023-06-11T06:43:05.914Z"
   },
   {
    "duration": 0,
    "start_time": "2023-06-11T06:43:05.915Z"
   },
   {
    "duration": 0,
    "start_time": "2023-06-11T06:43:05.917Z"
   },
   {
    "duration": 0,
    "start_time": "2023-06-11T06:43:05.918Z"
   },
   {
    "duration": 0,
    "start_time": "2023-06-11T06:43:05.919Z"
   },
   {
    "duration": 0,
    "start_time": "2023-06-11T06:43:05.920Z"
   },
   {
    "duration": 0,
    "start_time": "2023-06-11T06:43:05.921Z"
   },
   {
    "duration": 0,
    "start_time": "2023-06-11T06:43:05.922Z"
   },
   {
    "duration": 0,
    "start_time": "2023-06-11T06:43:05.922Z"
   },
   {
    "duration": 0,
    "start_time": "2023-06-11T06:43:05.923Z"
   },
   {
    "duration": 0,
    "start_time": "2023-06-11T06:43:05.924Z"
   },
   {
    "duration": 0,
    "start_time": "2023-06-11T06:43:05.925Z"
   },
   {
    "duration": 0,
    "start_time": "2023-06-11T06:43:05.926Z"
   },
   {
    "duration": 0,
    "start_time": "2023-06-11T06:43:05.972Z"
   },
   {
    "duration": 0,
    "start_time": "2023-06-11T06:43:05.973Z"
   },
   {
    "duration": 0,
    "start_time": "2023-06-11T06:43:05.974Z"
   },
   {
    "duration": 0,
    "start_time": "2023-06-11T06:43:05.975Z"
   },
   {
    "duration": 0,
    "start_time": "2023-06-11T06:43:05.976Z"
   },
   {
    "duration": 0,
    "start_time": "2023-06-11T06:43:05.977Z"
   },
   {
    "duration": 0,
    "start_time": "2023-06-11T06:43:05.978Z"
   },
   {
    "duration": 0,
    "start_time": "2023-06-11T06:43:05.979Z"
   },
   {
    "duration": 0,
    "start_time": "2023-06-11T06:43:05.980Z"
   },
   {
    "duration": 0,
    "start_time": "2023-06-11T06:43:05.981Z"
   },
   {
    "duration": 0,
    "start_time": "2023-06-11T06:43:05.982Z"
   },
   {
    "duration": 0,
    "start_time": "2023-06-11T06:43:05.982Z"
   },
   {
    "duration": 0,
    "start_time": "2023-06-11T06:43:05.983Z"
   },
   {
    "duration": 0,
    "start_time": "2023-06-11T06:43:05.984Z"
   },
   {
    "duration": 0,
    "start_time": "2023-06-11T06:43:05.985Z"
   },
   {
    "duration": 0,
    "start_time": "2023-06-11T06:43:05.986Z"
   },
   {
    "duration": 0,
    "start_time": "2023-06-11T06:43:05.987Z"
   },
   {
    "duration": 0,
    "start_time": "2023-06-11T06:43:05.988Z"
   },
   {
    "duration": 0,
    "start_time": "2023-06-11T06:43:05.989Z"
   },
   {
    "duration": 0,
    "start_time": "2023-06-11T06:43:05.990Z"
   },
   {
    "duration": 0,
    "start_time": "2023-06-11T06:43:05.991Z"
   },
   {
    "duration": 0,
    "start_time": "2023-06-11T06:43:05.992Z"
   },
   {
    "duration": 0,
    "start_time": "2023-06-11T06:43:05.992Z"
   },
   {
    "duration": 0,
    "start_time": "2023-06-11T06:43:05.993Z"
   },
   {
    "duration": 4,
    "start_time": "2023-06-11T06:44:01.809Z"
   },
   {
    "duration": 5,
    "start_time": "2023-06-11T06:44:06.408Z"
   },
   {
    "duration": 13,
    "start_time": "2023-06-11T06:44:06.414Z"
   },
   {
    "duration": 28,
    "start_time": "2023-06-11T06:44:06.429Z"
   },
   {
    "duration": 4,
    "start_time": "2023-06-11T06:44:06.459Z"
   },
   {
    "duration": 27,
    "start_time": "2023-06-11T06:44:06.464Z"
   },
   {
    "duration": 15,
    "start_time": "2023-06-11T06:44:06.492Z"
   },
   {
    "duration": 9,
    "start_time": "2023-06-11T06:44:06.509Z"
   },
   {
    "duration": 127,
    "start_time": "2023-06-11T06:44:06.520Z"
   },
   {
    "duration": 6,
    "start_time": "2023-06-11T06:44:06.648Z"
   },
   {
    "duration": 128,
    "start_time": "2023-06-11T06:44:06.673Z"
   },
   {
    "duration": 5,
    "start_time": "2023-06-11T06:44:06.802Z"
   },
   {
    "duration": 131,
    "start_time": "2023-06-11T06:44:06.809Z"
   },
   {
    "duration": 6,
    "start_time": "2023-06-11T06:44:06.941Z"
   },
   {
    "duration": 225,
    "start_time": "2023-06-11T06:44:06.948Z"
   },
   {
    "duration": 6,
    "start_time": "2023-06-11T06:44:07.175Z"
   },
   {
    "duration": 220,
    "start_time": "2023-06-11T06:44:07.183Z"
   },
   {
    "duration": 6,
    "start_time": "2023-06-11T06:44:07.405Z"
   },
   {
    "duration": 206,
    "start_time": "2023-06-11T06:44:07.413Z"
   },
   {
    "duration": 6,
    "start_time": "2023-06-11T06:44:07.621Z"
   },
   {
    "duration": 129,
    "start_time": "2023-06-11T06:44:07.628Z"
   },
   {
    "duration": 4,
    "start_time": "2023-06-11T06:44:07.759Z"
   },
   {
    "duration": 134,
    "start_time": "2023-06-11T06:44:07.771Z"
   },
   {
    "duration": 8,
    "start_time": "2023-06-11T06:44:07.908Z"
   },
   {
    "duration": 136,
    "start_time": "2023-06-11T06:44:07.917Z"
   },
   {
    "duration": 17,
    "start_time": "2023-06-11T06:44:08.055Z"
   },
   {
    "duration": 143,
    "start_time": "2023-06-11T06:44:08.073Z"
   },
   {
    "duration": 5,
    "start_time": "2023-06-11T06:44:08.217Z"
   },
   {
    "duration": 204,
    "start_time": "2023-06-11T06:44:08.226Z"
   },
   {
    "duration": 6,
    "start_time": "2023-06-11T06:44:08.431Z"
   },
   {
    "duration": 147,
    "start_time": "2023-06-11T06:44:08.439Z"
   },
   {
    "duration": 6,
    "start_time": "2023-06-11T06:44:08.587Z"
   },
   {
    "duration": 144,
    "start_time": "2023-06-11T06:44:08.595Z"
   },
   {
    "duration": 6,
    "start_time": "2023-06-11T06:44:08.741Z"
   },
   {
    "duration": 184,
    "start_time": "2023-06-11T06:44:08.748Z"
   },
   {
    "duration": 7,
    "start_time": "2023-06-11T06:44:08.933Z"
   },
   {
    "duration": 175,
    "start_time": "2023-06-11T06:44:08.941Z"
   },
   {
    "duration": 6,
    "start_time": "2023-06-11T06:44:09.118Z"
   },
   {
    "duration": 230,
    "start_time": "2023-06-11T06:44:09.126Z"
   },
   {
    "duration": 14,
    "start_time": "2023-06-11T06:44:09.357Z"
   },
   {
    "duration": 129,
    "start_time": "2023-06-11T06:44:09.373Z"
   },
   {
    "duration": 6,
    "start_time": "2023-06-11T06:44:09.503Z"
   },
   {
    "duration": 139,
    "start_time": "2023-06-11T06:44:09.510Z"
   },
   {
    "duration": 17570,
    "start_time": "2023-06-11T06:44:09.651Z"
   },
   {
    "duration": 18422,
    "start_time": "2023-06-11T06:44:27.223Z"
   },
   {
    "duration": 6,
    "start_time": "2023-06-11T06:44:45.647Z"
   },
   {
    "duration": 81,
    "start_time": "2023-06-11T06:44:45.655Z"
   },
   {
    "duration": 23,
    "start_time": "2023-06-11T06:44:45.738Z"
   },
   {
    "duration": 17,
    "start_time": "2023-06-11T06:44:45.763Z"
   },
   {
    "duration": 61,
    "start_time": "2023-06-11T06:44:45.781Z"
   },
   {
    "duration": 26,
    "start_time": "2023-06-11T06:44:45.844Z"
   },
   {
    "duration": 33,
    "start_time": "2023-06-11T06:44:45.873Z"
   },
   {
    "duration": 13,
    "start_time": "2023-06-11T06:44:45.908Z"
   },
   {
    "duration": 24,
    "start_time": "2023-06-11T06:44:45.923Z"
   },
   {
    "duration": 18,
    "start_time": "2023-06-11T06:44:45.949Z"
   },
   {
    "duration": 10209,
    "start_time": "2023-06-11T06:44:45.970Z"
   },
   {
    "duration": 0,
    "start_time": "2023-06-11T06:44:56.181Z"
   },
   {
    "duration": 0,
    "start_time": "2023-06-11T06:44:56.182Z"
   },
   {
    "duration": 0,
    "start_time": "2023-06-11T06:44:56.183Z"
   },
   {
    "duration": 0,
    "start_time": "2023-06-11T06:44:56.184Z"
   },
   {
    "duration": 0,
    "start_time": "2023-06-11T06:44:56.185Z"
   },
   {
    "duration": 36751,
    "start_time": "2023-06-11T07:02:22.777Z"
   },
   {
    "duration": 81663,
    "start_time": "2023-06-11T07:03:57.363Z"
   },
   {
    "duration": 25,
    "start_time": "2023-06-11T07:05:51.524Z"
   },
   {
    "duration": 4,
    "start_time": "2023-06-11T07:05:57.141Z"
   },
   {
    "duration": 4,
    "start_time": "2023-06-11T07:05:59.489Z"
   },
   {
    "duration": 27,
    "start_time": "2023-06-11T07:06:07.990Z"
   },
   {
    "duration": 9828,
    "start_time": "2023-06-11T07:10:53.678Z"
   },
   {
    "duration": 84242,
    "start_time": "2023-06-11T07:13:45.996Z"
   },
   {
    "duration": 10714,
    "start_time": "2023-06-11T07:17:54.228Z"
   },
   {
    "duration": 10220,
    "start_time": "2023-06-11T07:20:39.271Z"
   },
   {
    "duration": 123712,
    "start_time": "2023-06-11T07:23:39.695Z"
   },
   {
    "duration": 28,
    "start_time": "2023-06-11T07:26:14.250Z"
   },
   {
    "duration": 4,
    "start_time": "2023-06-11T07:26:19.557Z"
   },
   {
    "duration": 4,
    "start_time": "2023-06-11T07:26:23.114Z"
   },
   {
    "duration": 26,
    "start_time": "2023-06-11T07:26:28.630Z"
   },
   {
    "duration": 3,
    "start_time": "2023-06-11T07:27:01.995Z"
   },
   {
    "duration": 224697,
    "start_time": "2023-06-11T07:27:09.298Z"
   },
   {
    "duration": 31,
    "start_time": "2023-06-11T07:30:53.997Z"
   },
   {
    "duration": 4,
    "start_time": "2023-06-11T07:30:59.769Z"
   },
   {
    "duration": 4,
    "start_time": "2023-06-11T07:31:02.912Z"
   },
   {
    "duration": 39,
    "start_time": "2023-06-11T07:31:09.306Z"
   },
   {
    "duration": 3,
    "start_time": "2023-06-11T07:31:25.309Z"
   },
   {
    "duration": 26,
    "start_time": "2023-06-11T07:35:26.192Z"
   },
   {
    "duration": 5,
    "start_time": "2023-06-11T07:35:43.309Z"
   },
   {
    "duration": 4,
    "start_time": "2023-06-11T07:35:47.127Z"
   },
   {
    "duration": 3,
    "start_time": "2023-06-11T07:36:07.329Z"
   },
   {
    "duration": 36662,
    "start_time": "2023-06-11T07:36:12.811Z"
   },
   {
    "duration": 37217,
    "start_time": "2023-06-11T07:38:47.388Z"
   },
   {
    "duration": 109895,
    "start_time": "2023-06-11T07:41:05.393Z"
   },
   {
    "duration": 10196,
    "start_time": "2023-06-11T07:45:10.877Z"
   },
   {
    "duration": 9823,
    "start_time": "2023-06-11T07:51:50.113Z"
   },
   {
    "duration": 17401,
    "start_time": "2023-06-11T07:53:12.637Z"
   },
   {
    "duration": 3917,
    "start_time": "2023-06-11T07:55:31.595Z"
   },
   {
    "duration": 1136,
    "start_time": "2023-06-11T07:55:35.515Z"
   },
   {
    "duration": 49,
    "start_time": "2023-06-11T07:55:36.652Z"
   },
   {
    "duration": 5,
    "start_time": "2023-06-11T07:55:36.702Z"
   },
   {
    "duration": 18,
    "start_time": "2023-06-11T07:55:36.709Z"
   },
   {
    "duration": 8,
    "start_time": "2023-06-11T07:55:36.729Z"
   },
   {
    "duration": 13,
    "start_time": "2023-06-11T07:55:36.738Z"
   },
   {
    "duration": 9,
    "start_time": "2023-06-11T07:55:36.752Z"
   },
   {
    "duration": 15,
    "start_time": "2023-06-11T07:55:36.763Z"
   },
   {
    "duration": 28,
    "start_time": "2023-06-11T07:55:36.780Z"
   },
   {
    "duration": 9,
    "start_time": "2023-06-11T07:55:36.810Z"
   },
   {
    "duration": 8,
    "start_time": "2023-06-11T07:55:36.821Z"
   },
   {
    "duration": 10,
    "start_time": "2023-06-11T07:55:36.830Z"
   },
   {
    "duration": 34,
    "start_time": "2023-06-11T07:55:36.842Z"
   },
   {
    "duration": 10,
    "start_time": "2023-06-11T07:55:36.877Z"
   },
   {
    "duration": 9,
    "start_time": "2023-06-11T07:55:36.888Z"
   },
   {
    "duration": 13,
    "start_time": "2023-06-11T07:55:36.898Z"
   },
   {
    "duration": 23,
    "start_time": "2023-06-11T07:55:36.912Z"
   },
   {
    "duration": 9,
    "start_time": "2023-06-11T07:55:36.936Z"
   },
   {
    "duration": 19,
    "start_time": "2023-06-11T07:55:36.946Z"
   },
   {
    "duration": 9,
    "start_time": "2023-06-11T07:55:36.967Z"
   },
   {
    "duration": 26,
    "start_time": "2023-06-11T07:55:36.977Z"
   },
   {
    "duration": 3,
    "start_time": "2023-06-11T07:55:37.004Z"
   },
   {
    "duration": 24,
    "start_time": "2023-06-11T07:55:37.009Z"
   },
   {
    "duration": 5,
    "start_time": "2023-06-11T07:55:37.034Z"
   },
   {
    "duration": 37,
    "start_time": "2023-06-11T07:55:37.041Z"
   },
   {
    "duration": 4,
    "start_time": "2023-06-11T07:55:37.080Z"
   },
   {
    "duration": 17,
    "start_time": "2023-06-11T07:55:37.086Z"
   },
   {
    "duration": 19,
    "start_time": "2023-06-11T07:55:37.104Z"
   },
   {
    "duration": 3,
    "start_time": "2023-06-11T07:55:37.124Z"
   },
   {
    "duration": 6,
    "start_time": "2023-06-11T07:55:37.128Z"
   },
   {
    "duration": 6,
    "start_time": "2023-06-11T07:55:37.136Z"
   },
   {
    "duration": 9,
    "start_time": "2023-06-11T07:55:37.143Z"
   },
   {
    "duration": 22,
    "start_time": "2023-06-11T07:55:37.171Z"
   },
   {
    "duration": 4,
    "start_time": "2023-06-11T07:55:37.194Z"
   },
   {
    "duration": 22,
    "start_time": "2023-06-11T07:55:37.199Z"
   },
   {
    "duration": 7,
    "start_time": "2023-06-11T07:55:37.222Z"
   },
   {
    "duration": 9,
    "start_time": "2023-06-11T07:55:37.230Z"
   },
   {
    "duration": 133,
    "start_time": "2023-06-11T07:55:37.240Z"
   },
   {
    "duration": 5,
    "start_time": "2023-06-11T07:55:37.375Z"
   },
   {
    "duration": 130,
    "start_time": "2023-06-11T07:55:37.384Z"
   },
   {
    "duration": 6,
    "start_time": "2023-06-11T07:55:37.516Z"
   },
   {
    "duration": 127,
    "start_time": "2023-06-11T07:55:37.523Z"
   },
   {
    "duration": 6,
    "start_time": "2023-06-11T07:55:37.651Z"
   },
   {
    "duration": 153,
    "start_time": "2023-06-11T07:55:37.658Z"
   },
   {
    "duration": 6,
    "start_time": "2023-06-11T07:55:37.813Z"
   },
   {
    "duration": 321,
    "start_time": "2023-06-11T07:55:37.820Z"
   },
   {
    "duration": 6,
    "start_time": "2023-06-11T07:55:38.143Z"
   },
   {
    "duration": 205,
    "start_time": "2023-06-11T07:55:38.151Z"
   },
   {
    "duration": 14,
    "start_time": "2023-06-11T07:55:38.358Z"
   },
   {
    "duration": 123,
    "start_time": "2023-06-11T07:55:38.374Z"
   },
   {
    "duration": 5,
    "start_time": "2023-06-11T07:55:38.499Z"
   },
   {
    "duration": 145,
    "start_time": "2023-06-11T07:55:38.505Z"
   },
   {
    "duration": 5,
    "start_time": "2023-06-11T07:55:38.652Z"
   },
   {
    "duration": 124,
    "start_time": "2023-06-11T07:55:38.658Z"
   },
   {
    "duration": 7,
    "start_time": "2023-06-11T07:55:38.784Z"
   },
   {
    "duration": 189,
    "start_time": "2023-06-11T07:55:38.792Z"
   },
   {
    "duration": 7,
    "start_time": "2023-06-11T07:55:38.983Z"
   },
   {
    "duration": 155,
    "start_time": "2023-06-11T07:55:38.991Z"
   },
   {
    "duration": 6,
    "start_time": "2023-06-11T07:55:39.148Z"
   },
   {
    "duration": 159,
    "start_time": "2023-06-11T07:55:39.155Z"
   },
   {
    "duration": 7,
    "start_time": "2023-06-11T07:55:39.315Z"
   },
   {
    "duration": 174,
    "start_time": "2023-06-11T07:55:39.324Z"
   },
   {
    "duration": 6,
    "start_time": "2023-06-11T07:55:39.500Z"
   },
   {
    "duration": 140,
    "start_time": "2023-06-11T07:55:39.508Z"
   },
   {
    "duration": 7,
    "start_time": "2023-06-11T07:55:39.650Z"
   },
   {
    "duration": 136,
    "start_time": "2023-06-11T07:55:39.658Z"
   },
   {
    "duration": 7,
    "start_time": "2023-06-11T07:55:39.796Z"
   },
   {
    "duration": 165,
    "start_time": "2023-06-11T07:55:39.805Z"
   },
   {
    "duration": 7,
    "start_time": "2023-06-11T07:55:39.972Z"
   },
   {
    "duration": 276,
    "start_time": "2023-06-11T07:55:39.981Z"
   },
   {
    "duration": 7,
    "start_time": "2023-06-11T07:55:40.259Z"
   },
   {
    "duration": 188,
    "start_time": "2023-06-11T07:55:40.272Z"
   },
   {
    "duration": 18311,
    "start_time": "2023-06-11T07:55:40.462Z"
   },
   {
    "duration": 17850,
    "start_time": "2023-06-11T07:55:58.775Z"
   },
   {
    "duration": 5,
    "start_time": "2023-06-11T07:56:16.626Z"
   },
   {
    "duration": 17,
    "start_time": "2023-06-11T07:56:16.632Z"
   },
   {
    "duration": 24,
    "start_time": "2023-06-11T07:56:16.650Z"
   },
   {
    "duration": 8,
    "start_time": "2023-06-11T07:56:16.676Z"
   },
   {
    "duration": 7,
    "start_time": "2023-06-11T07:56:16.686Z"
   },
   {
    "duration": 7,
    "start_time": "2023-06-11T07:56:16.694Z"
   },
   {
    "duration": 14,
    "start_time": "2023-06-11T07:56:16.702Z"
   },
   {
    "duration": 8,
    "start_time": "2023-06-11T07:56:16.718Z"
   },
   {
    "duration": 11,
    "start_time": "2023-06-11T07:56:16.727Z"
   },
   {
    "duration": 68521,
    "start_time": "2023-06-11T07:56:16.740Z"
   },
   {
    "duration": 34,
    "start_time": "2023-06-11T07:57:25.263Z"
   },
   {
    "duration": 4,
    "start_time": "2023-06-11T07:57:25.298Z"
   },
   {
    "duration": 16,
    "start_time": "2023-06-11T07:57:25.304Z"
   },
   {
    "duration": 32,
    "start_time": "2023-06-11T07:57:25.322Z"
   },
   {
    "duration": 119,
    "start_time": "2023-06-11T08:03:47.842Z"
   },
   {
    "duration": 156,
    "start_time": "2023-06-11T08:04:03.098Z"
   },
   {
    "duration": 27,
    "start_time": "2023-06-11T08:04:23.977Z"
   },
   {
    "duration": 267,
    "start_time": "2023-06-11T08:04:32.221Z"
   },
   {
    "duration": 10,
    "start_time": "2023-06-11T08:08:03.307Z"
   },
   {
    "duration": 15,
    "start_time": "2023-06-11T08:08:11.850Z"
   },
   {
    "duration": 15,
    "start_time": "2023-06-11T08:08:57.129Z"
   },
   {
    "duration": 26,
    "start_time": "2023-06-11T08:09:28.102Z"
   },
   {
    "duration": 7,
    "start_time": "2023-06-11T08:09:30.723Z"
   },
   {
    "duration": 298,
    "start_time": "2023-06-11T08:10:00.699Z"
   },
   {
    "duration": 198,
    "start_time": "2023-06-11T08:11:24.953Z"
   },
   {
    "duration": 8,
    "start_time": "2023-06-11T08:17:02.949Z"
   },
   {
    "duration": 15,
    "start_time": "2023-06-11T08:17:42.380Z"
   },
   {
    "duration": 11,
    "start_time": "2023-06-11T08:17:58.886Z"
   },
   {
    "duration": 2,
    "start_time": "2023-06-11T08:22:30.030Z"
   },
   {
    "duration": 63,
    "start_time": "2023-06-11T08:28:28.909Z"
   },
   {
    "duration": 13,
    "start_time": "2023-06-11T08:36:12.549Z"
   },
   {
    "duration": 12,
    "start_time": "2023-06-11T08:36:25.030Z"
   },
   {
    "duration": 23,
    "start_time": "2023-06-11T08:36:55.230Z"
   },
   {
    "duration": 20,
    "start_time": "2023-06-11T08:37:34.771Z"
   },
   {
    "duration": 4568,
    "start_time": "2023-06-11T08:37:45.760Z"
   },
   {
    "duration": 5,
    "start_time": "2023-06-11T08:37:50.330Z"
   },
   {
    "duration": 72,
    "start_time": "2023-06-11T08:37:50.338Z"
   },
   {
    "duration": 8,
    "start_time": "2023-06-11T08:37:50.412Z"
   },
   {
    "duration": 28,
    "start_time": "2023-06-11T08:37:50.423Z"
   },
   {
    "duration": 10,
    "start_time": "2023-06-11T08:37:50.453Z"
   },
   {
    "duration": 12,
    "start_time": "2023-06-11T08:37:50.465Z"
   },
   {
    "duration": 13,
    "start_time": "2023-06-11T08:37:50.479Z"
   },
   {
    "duration": 27,
    "start_time": "2023-06-11T08:37:50.494Z"
   },
   {
    "duration": 31,
    "start_time": "2023-06-11T08:37:50.523Z"
   },
   {
    "duration": 18,
    "start_time": "2023-06-11T08:37:50.556Z"
   },
   {
    "duration": 23,
    "start_time": "2023-06-11T08:37:50.576Z"
   },
   {
    "duration": 19,
    "start_time": "2023-06-11T08:37:50.601Z"
   },
   {
    "duration": 29,
    "start_time": "2023-06-11T08:37:50.625Z"
   },
   {
    "duration": 15,
    "start_time": "2023-06-11T08:37:50.656Z"
   },
   {
    "duration": 7,
    "start_time": "2023-06-11T08:37:50.673Z"
   },
   {
    "duration": 20,
    "start_time": "2023-06-11T08:37:50.681Z"
   },
   {
    "duration": 25,
    "start_time": "2023-06-11T08:37:50.703Z"
   },
   {
    "duration": 29,
    "start_time": "2023-06-11T08:37:50.730Z"
   },
   {
    "duration": 11,
    "start_time": "2023-06-11T08:37:50.761Z"
   },
   {
    "duration": 8,
    "start_time": "2023-06-11T08:37:50.773Z"
   },
   {
    "duration": 24,
    "start_time": "2023-06-11T08:37:50.783Z"
   },
   {
    "duration": 3,
    "start_time": "2023-06-11T08:37:50.809Z"
   },
   {
    "duration": 30,
    "start_time": "2023-06-11T08:37:50.814Z"
   },
   {
    "duration": 4,
    "start_time": "2023-06-11T08:37:50.846Z"
   },
   {
    "duration": 29,
    "start_time": "2023-06-11T08:37:50.871Z"
   },
   {
    "duration": 4,
    "start_time": "2023-06-11T08:37:50.902Z"
   },
   {
    "duration": 25,
    "start_time": "2023-06-11T08:37:50.908Z"
   },
   {
    "duration": 39,
    "start_time": "2023-06-11T08:37:50.935Z"
   },
   {
    "duration": 3,
    "start_time": "2023-06-11T08:37:50.976Z"
   },
   {
    "duration": 9,
    "start_time": "2023-06-11T08:37:50.981Z"
   },
   {
    "duration": 9,
    "start_time": "2023-06-11T08:37:50.992Z"
   },
   {
    "duration": 11,
    "start_time": "2023-06-11T08:37:51.003Z"
   },
   {
    "duration": 25,
    "start_time": "2023-06-11T08:37:51.016Z"
   },
   {
    "duration": 29,
    "start_time": "2023-06-11T08:37:51.043Z"
   },
   {
    "duration": 22,
    "start_time": "2023-06-11T08:37:51.073Z"
   },
   {
    "duration": 6,
    "start_time": "2023-06-11T08:37:51.097Z"
   },
   {
    "duration": 8,
    "start_time": "2023-06-11T08:37:51.104Z"
   },
   {
    "duration": 174,
    "start_time": "2023-06-11T08:37:51.113Z"
   },
   {
    "duration": 8,
    "start_time": "2023-06-11T08:37:51.289Z"
   },
   {
    "duration": 192,
    "start_time": "2023-06-11T08:37:51.303Z"
   },
   {
    "duration": 6,
    "start_time": "2023-06-11T08:37:51.497Z"
   },
   {
    "duration": 184,
    "start_time": "2023-06-11T08:37:51.504Z"
   },
   {
    "duration": 7,
    "start_time": "2023-06-11T08:37:51.689Z"
   },
   {
    "duration": 219,
    "start_time": "2023-06-11T08:37:51.697Z"
   },
   {
    "duration": 8,
    "start_time": "2023-06-11T08:37:51.917Z"
   },
   {
    "duration": 277,
    "start_time": "2023-06-11T08:37:51.926Z"
   },
   {
    "duration": 7,
    "start_time": "2023-06-11T08:37:52.205Z"
   },
   {
    "duration": 264,
    "start_time": "2023-06-11T08:37:52.214Z"
   },
   {
    "duration": 6,
    "start_time": "2023-06-11T08:37:52.480Z"
   },
   {
    "duration": 178,
    "start_time": "2023-06-11T08:37:52.487Z"
   },
   {
    "duration": 6,
    "start_time": "2023-06-11T08:37:52.671Z"
   },
   {
    "duration": 253,
    "start_time": "2023-06-11T08:37:52.679Z"
   },
   {
    "duration": 8,
    "start_time": "2023-06-11T08:37:52.934Z"
   },
   {
    "duration": 300,
    "start_time": "2023-06-11T08:37:52.944Z"
   },
   {
    "duration": 7,
    "start_time": "2023-06-11T08:37:53.246Z"
   },
   {
    "duration": 197,
    "start_time": "2023-06-11T08:37:53.255Z"
   },
   {
    "duration": 17,
    "start_time": "2023-06-11T08:37:53.454Z"
   },
   {
    "duration": 201,
    "start_time": "2023-06-11T08:37:53.474Z"
   },
   {
    "duration": 8,
    "start_time": "2023-06-11T08:37:53.677Z"
   },
   {
    "duration": 203,
    "start_time": "2023-06-11T08:37:53.687Z"
   },
   {
    "duration": 7,
    "start_time": "2023-06-11T08:37:53.892Z"
   },
   {
    "duration": 207,
    "start_time": "2023-06-11T08:37:53.901Z"
   },
   {
    "duration": 7,
    "start_time": "2023-06-11T08:37:54.110Z"
   },
   {
    "duration": 197,
    "start_time": "2023-06-11T08:37:54.119Z"
   },
   {
    "duration": 6,
    "start_time": "2023-06-11T08:37:54.318Z"
   },
   {
    "duration": 216,
    "start_time": "2023-06-11T08:37:54.326Z"
   },
   {
    "duration": 6,
    "start_time": "2023-06-11T08:37:54.544Z"
   },
   {
    "duration": 211,
    "start_time": "2023-06-11T08:37:54.552Z"
   },
   {
    "duration": 11,
    "start_time": "2023-06-11T08:37:54.765Z"
   },
   {
    "duration": 196,
    "start_time": "2023-06-11T08:37:54.778Z"
   },
   {
    "duration": 6,
    "start_time": "2023-06-11T08:37:54.976Z"
   },
   {
    "duration": 203,
    "start_time": "2023-06-11T08:37:54.983Z"
   },
   {
    "duration": 19010,
    "start_time": "2023-06-11T08:37:55.188Z"
   },
   {
    "duration": 19403,
    "start_time": "2023-06-11T08:38:14.201Z"
   },
   {
    "duration": 4,
    "start_time": "2023-06-11T08:38:33.606Z"
   },
   {
    "duration": 7,
    "start_time": "2023-06-11T08:38:33.612Z"
   },
   {
    "duration": 10,
    "start_time": "2023-06-11T08:38:33.621Z"
   },
   {
    "duration": 8,
    "start_time": "2023-06-11T08:38:33.633Z"
   },
   {
    "duration": 4,
    "start_time": "2023-06-11T08:38:33.642Z"
   },
   {
    "duration": 6,
    "start_time": "2023-06-11T08:38:33.647Z"
   },
   {
    "duration": 2,
    "start_time": "2023-06-11T08:38:33.672Z"
   },
   {
    "duration": 6,
    "start_time": "2023-06-11T08:38:33.676Z"
   },
   {
    "duration": 12,
    "start_time": "2023-06-11T08:38:33.683Z"
   },
   {
    "duration": 74019,
    "start_time": "2023-06-11T08:38:33.697Z"
   },
   {
    "duration": 27,
    "start_time": "2023-06-11T08:39:47.718Z"
   },
   {
    "duration": 7,
    "start_time": "2023-06-11T08:39:47.747Z"
   },
   {
    "duration": 6,
    "start_time": "2023-06-11T08:39:47.755Z"
   },
   {
    "duration": 32,
    "start_time": "2023-06-11T08:39:47.762Z"
   },
   {
    "duration": 178,
    "start_time": "2023-06-11T08:39:47.796Z"
   },
   {
    "duration": 27,
    "start_time": "2023-06-11T08:39:47.976Z"
   },
   {
    "duration": 33,
    "start_time": "2023-06-11T08:43:41.790Z"
   },
   {
    "duration": 36,
    "start_time": "2023-06-11T08:43:57.290Z"
   },
   {
    "duration": 7,
    "start_time": "2023-06-11T08:44:04.550Z"
   },
   {
    "duration": 39,
    "start_time": "2023-06-11T08:44:16.229Z"
   },
   {
    "duration": 59,
    "start_time": "2023-06-11T08:44:49.429Z"
   },
   {
    "duration": 4575,
    "start_time": "2023-06-11T08:45:47.192Z"
   },
   {
    "duration": 6,
    "start_time": "2023-06-11T08:45:51.770Z"
   },
   {
    "duration": 80,
    "start_time": "2023-06-11T08:45:51.778Z"
   },
   {
    "duration": 7,
    "start_time": "2023-06-11T08:45:51.860Z"
   },
   {
    "duration": 18,
    "start_time": "2023-06-11T08:45:51.870Z"
   },
   {
    "duration": 8,
    "start_time": "2023-06-11T08:45:51.890Z"
   },
   {
    "duration": 12,
    "start_time": "2023-06-11T08:45:51.900Z"
   },
   {
    "duration": 13,
    "start_time": "2023-06-11T08:45:51.913Z"
   },
   {
    "duration": 12,
    "start_time": "2023-06-11T08:45:51.928Z"
   },
   {
    "duration": 45,
    "start_time": "2023-06-11T08:45:51.941Z"
   },
   {
    "duration": 12,
    "start_time": "2023-06-11T08:45:51.988Z"
   },
   {
    "duration": 14,
    "start_time": "2023-06-11T08:45:52.001Z"
   },
   {
    "duration": 14,
    "start_time": "2023-06-11T08:45:52.017Z"
   },
   {
    "duration": 27,
    "start_time": "2023-06-11T08:45:52.035Z"
   },
   {
    "duration": 12,
    "start_time": "2023-06-11T08:45:52.071Z"
   },
   {
    "duration": 6,
    "start_time": "2023-06-11T08:45:52.085Z"
   },
   {
    "duration": 32,
    "start_time": "2023-06-11T08:45:52.093Z"
   },
   {
    "duration": 24,
    "start_time": "2023-06-11T08:45:52.126Z"
   },
   {
    "duration": 10,
    "start_time": "2023-06-11T08:45:52.152Z"
   },
   {
    "duration": 6,
    "start_time": "2023-06-11T08:45:52.171Z"
   },
   {
    "duration": 11,
    "start_time": "2023-06-11T08:45:52.179Z"
   },
   {
    "duration": 22,
    "start_time": "2023-06-11T08:45:52.192Z"
   },
   {
    "duration": 4,
    "start_time": "2023-06-11T08:45:52.218Z"
   },
   {
    "duration": 24,
    "start_time": "2023-06-11T08:45:52.224Z"
   },
   {
    "duration": 5,
    "start_time": "2023-06-11T08:45:52.271Z"
   },
   {
    "duration": 38,
    "start_time": "2023-06-11T08:45:52.277Z"
   },
   {
    "duration": 5,
    "start_time": "2023-06-11T08:45:52.317Z"
   },
   {
    "duration": 15,
    "start_time": "2023-06-11T08:45:52.324Z"
   },
   {
    "duration": 38,
    "start_time": "2023-06-11T08:45:52.341Z"
   },
   {
    "duration": 4,
    "start_time": "2023-06-11T08:45:52.380Z"
   },
   {
    "duration": 12,
    "start_time": "2023-06-11T08:45:52.385Z"
   },
   {
    "duration": 20,
    "start_time": "2023-06-11T08:45:52.399Z"
   },
   {
    "duration": 16,
    "start_time": "2023-06-11T08:45:52.422Z"
   },
   {
    "duration": 33,
    "start_time": "2023-06-11T08:45:52.440Z"
   },
   {
    "duration": 7,
    "start_time": "2023-06-11T08:45:52.475Z"
   },
   {
    "duration": 28,
    "start_time": "2023-06-11T08:45:52.484Z"
   },
   {
    "duration": 16,
    "start_time": "2023-06-11T08:45:52.514Z"
   },
   {
    "duration": 20,
    "start_time": "2023-06-11T08:45:52.532Z"
   },
   {
    "duration": 159,
    "start_time": "2023-06-11T08:45:52.554Z"
   },
   {
    "duration": 6,
    "start_time": "2023-06-11T08:45:52.715Z"
   },
   {
    "duration": 217,
    "start_time": "2023-06-11T08:45:52.726Z"
   },
   {
    "duration": 6,
    "start_time": "2023-06-11T08:45:52.945Z"
   },
   {
    "duration": 201,
    "start_time": "2023-06-11T08:45:52.953Z"
   },
   {
    "duration": 7,
    "start_time": "2023-06-11T08:45:53.156Z"
   },
   {
    "duration": 218,
    "start_time": "2023-06-11T08:45:53.173Z"
   },
   {
    "duration": 8,
    "start_time": "2023-06-11T08:45:53.393Z"
   },
   {
    "duration": 295,
    "start_time": "2023-06-11T08:45:53.403Z"
   },
   {
    "duration": 8,
    "start_time": "2023-06-11T08:45:53.700Z"
   },
   {
    "duration": 321,
    "start_time": "2023-06-11T08:45:53.710Z"
   },
   {
    "duration": 8,
    "start_time": "2023-06-11T08:45:54.033Z"
   },
   {
    "duration": 222,
    "start_time": "2023-06-11T08:45:54.043Z"
   },
   {
    "duration": 8,
    "start_time": "2023-06-11T08:45:54.267Z"
   },
   {
    "duration": 216,
    "start_time": "2023-06-11T08:45:54.277Z"
   },
   {
    "duration": 7,
    "start_time": "2023-06-11T08:45:54.495Z"
   },
   {
    "duration": 189,
    "start_time": "2023-06-11T08:45:54.503Z"
   },
   {
    "duration": 6,
    "start_time": "2023-06-11T08:45:54.693Z"
   },
   {
    "duration": 191,
    "start_time": "2023-06-11T08:45:54.701Z"
   },
   {
    "duration": 7,
    "start_time": "2023-06-11T08:45:54.894Z"
   },
   {
    "duration": 196,
    "start_time": "2023-06-11T08:45:54.902Z"
   },
   {
    "duration": 7,
    "start_time": "2023-06-11T08:45:55.101Z"
   },
   {
    "duration": 198,
    "start_time": "2023-06-11T08:45:55.109Z"
   },
   {
    "duration": 7,
    "start_time": "2023-06-11T08:45:55.309Z"
   },
   {
    "duration": 198,
    "start_time": "2023-06-11T08:45:55.318Z"
   },
   {
    "duration": 6,
    "start_time": "2023-06-11T08:45:55.518Z"
   },
   {
    "duration": 356,
    "start_time": "2023-06-11T08:45:55.526Z"
   },
   {
    "duration": 7,
    "start_time": "2023-06-11T08:45:55.884Z"
   },
   {
    "duration": 194,
    "start_time": "2023-06-11T08:45:55.893Z"
   },
   {
    "duration": 10,
    "start_time": "2023-06-11T08:45:56.088Z"
   },
   {
    "duration": 228,
    "start_time": "2023-06-11T08:45:56.100Z"
   },
   {
    "duration": 8,
    "start_time": "2023-06-11T08:45:56.330Z"
   },
   {
    "duration": 198,
    "start_time": "2023-06-11T08:45:56.340Z"
   },
   {
    "duration": 6,
    "start_time": "2023-06-11T08:45:56.540Z"
   },
   {
    "duration": 202,
    "start_time": "2023-06-11T08:45:56.548Z"
   },
   {
    "duration": 20348,
    "start_time": "2023-06-11T08:45:56.752Z"
   },
   {
    "duration": 20361,
    "start_time": "2023-06-11T08:46:17.102Z"
   },
   {
    "duration": 9,
    "start_time": "2023-06-11T08:46:37.465Z"
   },
   {
    "duration": 8,
    "start_time": "2023-06-11T08:46:37.476Z"
   },
   {
    "duration": 9,
    "start_time": "2023-06-11T08:46:37.486Z"
   },
   {
    "duration": 8,
    "start_time": "2023-06-11T08:46:37.497Z"
   },
   {
    "duration": 3,
    "start_time": "2023-06-11T08:46:37.507Z"
   },
   {
    "duration": 7,
    "start_time": "2023-06-11T08:46:37.511Z"
   },
   {
    "duration": 10,
    "start_time": "2023-06-11T08:46:37.520Z"
   },
   {
    "duration": 10,
    "start_time": "2023-06-11T08:46:37.532Z"
   },
   {
    "duration": 28,
    "start_time": "2023-06-11T08:46:37.544Z"
   },
   {
    "duration": 73008,
    "start_time": "2023-06-11T08:46:37.574Z"
   },
   {
    "duration": 26,
    "start_time": "2023-06-11T08:47:50.584Z"
   },
   {
    "duration": 14,
    "start_time": "2023-06-11T08:47:50.612Z"
   },
   {
    "duration": 10,
    "start_time": "2023-06-11T08:47:50.627Z"
   },
   {
    "duration": 60,
    "start_time": "2023-06-11T08:47:50.639Z"
   },
   {
    "duration": 6,
    "start_time": "2023-06-11T08:47:50.701Z"
   },
   {
    "duration": 193,
    "start_time": "2023-06-11T08:47:50.709Z"
   },
   {
    "duration": 29,
    "start_time": "2023-06-11T08:47:50.904Z"
   },
   {
    "duration": 211,
    "start_time": "2023-06-11T08:47:50.935Z"
   },
   {
    "duration": 10,
    "start_time": "2023-06-11T08:47:51.149Z"
   },
   {
    "duration": 62,
    "start_time": "2023-06-11T09:14:23.880Z"
   },
   {
    "duration": 66,
    "start_time": "2023-06-11T09:14:39.512Z"
   },
   {
    "duration": 76,
    "start_time": "2023-06-11T09:15:49.276Z"
   },
   {
    "duration": 4611,
    "start_time": "2023-06-11T09:19:03.454Z"
   },
   {
    "duration": 1329,
    "start_time": "2023-06-11T09:19:08.067Z"
   },
   {
    "duration": 62,
    "start_time": "2023-06-11T09:19:09.398Z"
   },
   {
    "duration": 6,
    "start_time": "2023-06-11T09:19:09.462Z"
   },
   {
    "duration": 21,
    "start_time": "2023-06-11T09:19:09.471Z"
   },
   {
    "duration": 32,
    "start_time": "2023-06-11T09:19:09.495Z"
   },
   {
    "duration": 12,
    "start_time": "2023-06-11T09:19:09.529Z"
   },
   {
    "duration": 9,
    "start_time": "2023-06-11T09:19:09.542Z"
   },
   {
    "duration": 18,
    "start_time": "2023-06-11T09:19:09.553Z"
   },
   {
    "duration": 34,
    "start_time": "2023-06-11T09:19:09.573Z"
   },
   {
    "duration": 12,
    "start_time": "2023-06-11T09:19:09.609Z"
   },
   {
    "duration": 38,
    "start_time": "2023-06-11T09:19:09.622Z"
   },
   {
    "duration": 16,
    "start_time": "2023-06-11T09:19:09.662Z"
   },
   {
    "duration": 30,
    "start_time": "2023-06-11T09:19:09.681Z"
   },
   {
    "duration": 12,
    "start_time": "2023-06-11T09:19:09.713Z"
   },
   {
    "duration": 11,
    "start_time": "2023-06-11T09:19:09.727Z"
   },
   {
    "duration": 24,
    "start_time": "2023-06-11T09:19:09.740Z"
   },
   {
    "duration": 32,
    "start_time": "2023-06-11T09:19:09.766Z"
   },
   {
    "duration": 13,
    "start_time": "2023-06-11T09:19:09.800Z"
   },
   {
    "duration": 12,
    "start_time": "2023-06-11T09:19:09.815Z"
   },
   {
    "duration": 8,
    "start_time": "2023-06-11T09:19:09.829Z"
   },
   {
    "duration": 50,
    "start_time": "2023-06-11T09:19:09.839Z"
   },
   {
    "duration": 5,
    "start_time": "2023-06-11T09:19:09.892Z"
   },
   {
    "duration": 38,
    "start_time": "2023-06-11T09:19:09.900Z"
   },
   {
    "duration": 5,
    "start_time": "2023-06-11T09:19:09.940Z"
   },
   {
    "duration": 49,
    "start_time": "2023-06-11T09:19:09.947Z"
   },
   {
    "duration": 6,
    "start_time": "2023-06-11T09:19:09.998Z"
   },
   {
    "duration": 44,
    "start_time": "2023-06-11T09:19:10.006Z"
   },
   {
    "duration": 71,
    "start_time": "2023-06-11T09:19:10.053Z"
   },
   {
    "duration": 4,
    "start_time": "2023-06-11T09:19:10.126Z"
   },
   {
    "duration": 12,
    "start_time": "2023-06-11T09:19:10.132Z"
   },
   {
    "duration": 14,
    "start_time": "2023-06-11T09:19:10.146Z"
   },
   {
    "duration": 12,
    "start_time": "2023-06-11T09:19:10.161Z"
   },
   {
    "duration": 47,
    "start_time": "2023-06-11T09:19:10.175Z"
   },
   {
    "duration": 8,
    "start_time": "2023-06-11T09:19:10.224Z"
   },
   {
    "duration": 38,
    "start_time": "2023-06-11T09:19:10.235Z"
   },
   {
    "duration": 8,
    "start_time": "2023-06-11T09:19:10.275Z"
   },
   {
    "duration": 7,
    "start_time": "2023-06-11T09:19:10.285Z"
   },
   {
    "duration": 128,
    "start_time": "2023-06-11T09:19:10.294Z"
   },
   {
    "duration": 27,
    "start_time": "2023-06-11T09:19:10.424Z"
   },
   {
    "duration": 244,
    "start_time": "2023-06-11T09:19:10.458Z"
   },
   {
    "duration": 9,
    "start_time": "2023-06-11T09:19:10.706Z"
   },
   {
    "duration": 150,
    "start_time": "2023-06-11T09:19:10.716Z"
   },
   {
    "duration": 8,
    "start_time": "2023-06-11T09:19:10.867Z"
   },
   {
    "duration": 195,
    "start_time": "2023-06-11T09:19:10.877Z"
   },
   {
    "duration": 7,
    "start_time": "2023-06-11T09:19:11.073Z"
   },
   {
    "duration": 307,
    "start_time": "2023-06-11T09:19:11.082Z"
   },
   {
    "duration": 7,
    "start_time": "2023-06-11T09:19:11.391Z"
   },
   {
    "duration": 239,
    "start_time": "2023-06-11T09:19:11.399Z"
   },
   {
    "duration": 7,
    "start_time": "2023-06-11T09:19:11.639Z"
   },
   {
    "duration": 150,
    "start_time": "2023-06-11T09:19:11.648Z"
   },
   {
    "duration": 6,
    "start_time": "2023-06-11T09:19:11.801Z"
   },
   {
    "duration": 193,
    "start_time": "2023-06-11T09:19:11.809Z"
   },
   {
    "duration": 6,
    "start_time": "2023-06-11T09:19:12.004Z"
   },
   {
    "duration": 157,
    "start_time": "2023-06-11T09:19:12.011Z"
   },
   {
    "duration": 7,
    "start_time": "2023-06-11T09:19:12.170Z"
   },
   {
    "duration": 167,
    "start_time": "2023-06-11T09:19:12.179Z"
   },
   {
    "duration": 6,
    "start_time": "2023-06-11T09:19:12.348Z"
   },
   {
    "duration": 159,
    "start_time": "2023-06-11T09:19:12.372Z"
   },
   {
    "duration": 7,
    "start_time": "2023-06-11T09:19:12.532Z"
   },
   {
    "duration": 152,
    "start_time": "2023-06-11T09:19:12.541Z"
   },
   {
    "duration": 7,
    "start_time": "2023-06-11T09:19:12.694Z"
   },
   {
    "duration": 171,
    "start_time": "2023-06-11T09:19:12.703Z"
   },
   {
    "duration": 6,
    "start_time": "2023-06-11T09:19:12.876Z"
   },
   {
    "duration": 158,
    "start_time": "2023-06-11T09:19:12.884Z"
   },
   {
    "duration": 7,
    "start_time": "2023-06-11T09:19:13.044Z"
   },
   {
    "duration": 166,
    "start_time": "2023-06-11T09:19:13.053Z"
   },
   {
    "duration": 9,
    "start_time": "2023-06-11T09:19:13.221Z"
   },
   {
    "duration": 179,
    "start_time": "2023-06-11T09:19:13.232Z"
   },
   {
    "duration": 6,
    "start_time": "2023-06-11T09:19:13.413Z"
   },
   {
    "duration": 256,
    "start_time": "2023-06-11T09:19:13.421Z"
   },
   {
    "duration": 6,
    "start_time": "2023-06-11T09:19:13.679Z"
   },
   {
    "duration": 163,
    "start_time": "2023-06-11T09:19:13.686Z"
   },
   {
    "duration": 19459,
    "start_time": "2023-06-11T09:19:13.850Z"
   },
   {
    "duration": 19662,
    "start_time": "2023-06-11T09:19:33.311Z"
   },
   {
    "duration": 5,
    "start_time": "2023-06-11T09:19:52.975Z"
   },
   {
    "duration": 15,
    "start_time": "2023-06-11T09:19:52.982Z"
   },
   {
    "duration": 17,
    "start_time": "2023-06-11T09:19:52.999Z"
   },
   {
    "duration": 11,
    "start_time": "2023-06-11T09:19:53.019Z"
   },
   {
    "duration": 6,
    "start_time": "2023-06-11T09:19:53.032Z"
   },
   {
    "duration": 22,
    "start_time": "2023-06-11T09:19:53.040Z"
   },
   {
    "duration": 18,
    "start_time": "2023-06-11T09:19:53.064Z"
   },
   {
    "duration": 39,
    "start_time": "2023-06-11T09:19:53.084Z"
   },
   {
    "duration": 17,
    "start_time": "2023-06-11T09:19:53.126Z"
   },
   {
    "duration": 81774,
    "start_time": "2023-06-11T09:19:53.145Z"
   },
   {
    "duration": 26,
    "start_time": "2023-06-11T09:21:14.921Z"
   },
   {
    "duration": 8,
    "start_time": "2023-06-11T09:21:14.949Z"
   },
   {
    "duration": 16,
    "start_time": "2023-06-11T09:21:14.958Z"
   },
   {
    "duration": 155,
    "start_time": "2023-06-11T09:21:14.976Z"
   },
   {
    "duration": 0,
    "start_time": "2023-06-11T09:21:15.132Z"
   },
   {
    "duration": 0,
    "start_time": "2023-06-11T09:21:15.134Z"
   },
   {
    "duration": 0,
    "start_time": "2023-06-11T09:21:15.135Z"
   },
   {
    "duration": 0,
    "start_time": "2023-06-11T09:21:15.136Z"
   },
   {
    "duration": 0,
    "start_time": "2023-06-11T09:21:15.137Z"
   },
   {
    "duration": 42,
    "start_time": "2023-06-11T09:25:42.964Z"
   },
   {
    "duration": 38,
    "start_time": "2023-06-11T09:26:19.310Z"
   },
   {
    "duration": 59,
    "start_time": "2023-06-11T09:26:21.540Z"
   },
   {
    "duration": 9,
    "start_time": "2023-06-11T09:26:28.162Z"
   },
   {
    "duration": 18,
    "start_time": "2023-06-11T09:26:53.081Z"
   },
   {
    "duration": 33,
    "start_time": "2023-06-11T09:27:08.170Z"
   },
   {
    "duration": 65,
    "start_time": "2023-06-11T09:27:15.101Z"
   },
   {
    "duration": 6,
    "start_time": "2023-06-11T09:27:22.297Z"
   },
   {
    "duration": 183,
    "start_time": "2023-06-11T09:27:28.968Z"
   },
   {
    "duration": 264,
    "start_time": "2023-06-11T09:27:35.761Z"
   },
   {
    "duration": 7,
    "start_time": "2023-06-11T09:27:40.746Z"
   },
   {
    "duration": 18557,
    "start_time": "2023-06-11T16:55:16.261Z"
   },
   {
    "duration": 1542,
    "start_time": "2023-06-11T16:55:34.822Z"
   },
   {
    "duration": 103,
    "start_time": "2023-06-11T16:55:36.365Z"
   },
   {
    "duration": 8,
    "start_time": "2023-06-11T16:55:36.472Z"
   },
   {
    "duration": 31,
    "start_time": "2023-06-11T16:55:36.483Z"
   },
   {
    "duration": 19,
    "start_time": "2023-06-11T16:55:36.516Z"
   },
   {
    "duration": 39,
    "start_time": "2023-06-11T16:55:36.537Z"
   },
   {
    "duration": 11,
    "start_time": "2023-06-11T16:55:36.578Z"
   },
   {
    "duration": 39,
    "start_time": "2023-06-11T16:55:36.591Z"
   },
   {
    "duration": 155,
    "start_time": "2023-06-11T16:55:36.633Z"
   },
   {
    "duration": 19,
    "start_time": "2023-06-11T16:55:36.791Z"
   },
   {
    "duration": 26,
    "start_time": "2023-06-11T16:55:36.812Z"
   },
   {
    "duration": 49,
    "start_time": "2023-06-11T16:55:36.840Z"
   },
   {
    "duration": 209,
    "start_time": "2023-06-11T16:55:36.891Z"
   },
   {
    "duration": 13,
    "start_time": "2023-06-11T16:55:37.102Z"
   },
   {
    "duration": 13,
    "start_time": "2023-06-11T16:55:37.117Z"
   },
   {
    "duration": 43,
    "start_time": "2023-06-11T16:55:37.132Z"
   },
   {
    "duration": 97,
    "start_time": "2023-06-11T16:55:37.177Z"
   },
   {
    "duration": 14,
    "start_time": "2023-06-11T16:55:37.277Z"
   },
   {
    "duration": 21,
    "start_time": "2023-06-11T16:55:37.293Z"
   },
   {
    "duration": 14,
    "start_time": "2023-06-11T16:55:37.318Z"
   },
   {
    "duration": 77,
    "start_time": "2023-06-11T16:55:37.335Z"
   },
   {
    "duration": 6,
    "start_time": "2023-06-11T16:55:37.414Z"
   },
   {
    "duration": 69,
    "start_time": "2023-06-11T16:55:37.421Z"
   },
   {
    "duration": 9,
    "start_time": "2023-06-11T16:55:37.492Z"
   },
   {
    "duration": 65,
    "start_time": "2023-06-11T16:55:37.503Z"
   },
   {
    "duration": 6,
    "start_time": "2023-06-11T16:55:37.571Z"
   },
   {
    "duration": 17,
    "start_time": "2023-06-11T16:55:37.583Z"
   },
   {
    "duration": 61,
    "start_time": "2023-06-11T16:55:37.602Z"
   },
   {
    "duration": 4,
    "start_time": "2023-06-11T16:55:37.664Z"
   },
   {
    "duration": 27,
    "start_time": "2023-06-11T16:55:37.670Z"
   },
   {
    "duration": 25,
    "start_time": "2023-06-11T16:55:37.700Z"
   },
   {
    "duration": 26,
    "start_time": "2023-06-11T16:55:37.728Z"
   },
   {
    "duration": 76,
    "start_time": "2023-06-11T16:55:37.756Z"
   },
   {
    "duration": 48,
    "start_time": "2023-06-11T16:55:37.835Z"
   },
   {
    "duration": 39,
    "start_time": "2023-06-11T16:55:37.886Z"
   },
   {
    "duration": 18,
    "start_time": "2023-06-11T16:55:37.927Z"
   },
   {
    "duration": 33,
    "start_time": "2023-06-11T16:55:37.949Z"
   },
   {
    "duration": 159,
    "start_time": "2023-06-11T16:55:37.984Z"
   },
   {
    "duration": 15,
    "start_time": "2023-06-11T16:55:38.148Z"
   },
   {
    "duration": 175,
    "start_time": "2023-06-11T16:55:38.166Z"
   },
   {
    "duration": 19,
    "start_time": "2023-06-11T16:55:38.343Z"
   },
   {
    "duration": 164,
    "start_time": "2023-06-11T16:55:38.364Z"
   },
   {
    "duration": 9,
    "start_time": "2023-06-11T16:55:38.530Z"
   },
   {
    "duration": 237,
    "start_time": "2023-06-11T16:55:38.553Z"
   },
   {
    "duration": 9,
    "start_time": "2023-06-11T16:55:38.793Z"
   },
   {
    "duration": 357,
    "start_time": "2023-06-11T16:55:38.804Z"
   },
   {
    "duration": 8,
    "start_time": "2023-06-11T16:55:39.167Z"
   },
   {
    "duration": 231,
    "start_time": "2023-06-11T16:55:39.177Z"
   },
   {
    "duration": 6,
    "start_time": "2023-06-11T16:55:39.410Z"
   },
   {
    "duration": 183,
    "start_time": "2023-06-11T16:55:39.418Z"
   },
   {
    "duration": 8,
    "start_time": "2023-06-11T16:55:39.604Z"
   },
   {
    "duration": 195,
    "start_time": "2023-06-11T16:55:39.614Z"
   },
   {
    "duration": 6,
    "start_time": "2023-06-11T16:55:39.811Z"
   },
   {
    "duration": 172,
    "start_time": "2023-06-11T16:55:39.818Z"
   },
   {
    "duration": 7,
    "start_time": "2023-06-11T16:55:39.992Z"
   },
   {
    "duration": 177,
    "start_time": "2023-06-11T16:55:40.000Z"
   },
   {
    "duration": 6,
    "start_time": "2023-06-11T16:55:40.179Z"
   },
   {
    "duration": 210,
    "start_time": "2023-06-11T16:55:40.187Z"
   },
   {
    "duration": 7,
    "start_time": "2023-06-11T16:55:40.399Z"
   },
   {
    "duration": 185,
    "start_time": "2023-06-11T16:55:40.408Z"
   },
   {
    "duration": 7,
    "start_time": "2023-06-11T16:55:40.594Z"
   },
   {
    "duration": 201,
    "start_time": "2023-06-11T16:55:40.603Z"
   },
   {
    "duration": 7,
    "start_time": "2023-06-11T16:55:40.806Z"
   },
   {
    "duration": 179,
    "start_time": "2023-06-11T16:55:40.815Z"
   },
   {
    "duration": 7,
    "start_time": "2023-06-11T16:55:40.996Z"
   },
   {
    "duration": 182,
    "start_time": "2023-06-11T16:55:41.005Z"
   },
   {
    "duration": 6,
    "start_time": "2023-06-11T16:55:41.189Z"
   },
   {
    "duration": 192,
    "start_time": "2023-06-11T16:55:41.197Z"
   },
   {
    "duration": 9,
    "start_time": "2023-06-11T16:55:41.391Z"
   },
   {
    "duration": 272,
    "start_time": "2023-06-11T16:55:41.402Z"
   },
   {
    "duration": 6,
    "start_time": "2023-06-11T16:55:41.676Z"
   },
   {
    "duration": 179,
    "start_time": "2023-06-11T16:55:41.684Z"
   },
   {
    "duration": 21696,
    "start_time": "2023-06-11T16:55:41.865Z"
   },
   {
    "duration": 21785,
    "start_time": "2023-06-11T16:56:03.565Z"
   },
   {
    "duration": 5,
    "start_time": "2023-06-11T16:56:25.352Z"
   },
   {
    "duration": 38,
    "start_time": "2023-06-11T16:56:25.359Z"
   },
   {
    "duration": 11,
    "start_time": "2023-06-11T16:56:25.399Z"
   },
   {
    "duration": 20,
    "start_time": "2023-06-11T16:56:25.412Z"
   },
   {
    "duration": 34,
    "start_time": "2023-06-11T16:56:25.435Z"
   },
   {
    "duration": 9,
    "start_time": "2023-06-11T16:56:25.471Z"
   },
   {
    "duration": 3,
    "start_time": "2023-06-11T16:56:25.488Z"
   },
   {
    "duration": 12,
    "start_time": "2023-06-11T16:56:25.493Z"
   },
   {
    "duration": 13,
    "start_time": "2023-06-11T16:56:25.507Z"
   },
   {
    "duration": 168,
    "start_time": "2023-06-11T16:56:25.522Z"
   },
   {
    "duration": 0,
    "start_time": "2023-06-11T16:56:25.692Z"
   },
   {
    "duration": 0,
    "start_time": "2023-06-11T16:56:25.694Z"
   },
   {
    "duration": 0,
    "start_time": "2023-06-11T16:56:25.695Z"
   },
   {
    "duration": 0,
    "start_time": "2023-06-11T16:56:25.697Z"
   },
   {
    "duration": 0,
    "start_time": "2023-06-11T16:56:25.698Z"
   },
   {
    "duration": 0,
    "start_time": "2023-06-11T16:56:25.699Z"
   },
   {
    "duration": 0,
    "start_time": "2023-06-11T16:56:25.701Z"
   },
   {
    "duration": 0,
    "start_time": "2023-06-11T16:56:25.702Z"
   },
   {
    "duration": 0,
    "start_time": "2023-06-11T16:56:25.703Z"
   },
   {
    "duration": 0,
    "start_time": "2023-06-11T16:56:25.704Z"
   },
   {
    "duration": 3652483,
    "start_time": "2023-06-11T16:57:55.696Z"
   },
   {
    "duration": 52,
    "start_time": "2023-06-11T17:58:48.182Z"
   },
   {
    "duration": 18,
    "start_time": "2023-06-11T17:58:48.237Z"
   },
   {
    "duration": 51,
    "start_time": "2023-06-11T17:58:48.263Z"
   },
   {
    "duration": 72,
    "start_time": "2023-06-11T17:58:48.325Z"
   },
   {
    "duration": 126,
    "start_time": "2023-06-11T17:58:48.399Z"
   },
   {
    "duration": 51,
    "start_time": "2023-06-11T17:58:48.527Z"
   },
   {
    "duration": 327,
    "start_time": "2023-06-11T17:58:48.581Z"
   },
   {
    "duration": 341,
    "start_time": "2023-06-11T17:58:48.910Z"
   },
   {
    "duration": 30,
    "start_time": "2023-06-11T17:58:49.259Z"
   },
   {
    "duration": 8928,
    "start_time": "2023-06-11T18:20:39.224Z"
   },
   {
    "duration": 1430,
    "start_time": "2023-06-11T18:20:48.155Z"
   },
   {
    "duration": 149,
    "start_time": "2023-06-11T18:20:49.586Z"
   },
   {
    "duration": 6,
    "start_time": "2023-06-11T18:20:49.737Z"
   },
   {
    "duration": 14,
    "start_time": "2023-06-11T18:20:49.745Z"
   },
   {
    "duration": 8,
    "start_time": "2023-06-11T18:20:49.761Z"
   },
   {
    "duration": 9,
    "start_time": "2023-06-11T18:20:49.770Z"
   },
   {
    "duration": 7,
    "start_time": "2023-06-11T18:20:49.780Z"
   },
   {
    "duration": 11,
    "start_time": "2023-06-11T18:20:49.788Z"
   },
   {
    "duration": 105,
    "start_time": "2023-06-11T18:20:49.802Z"
   },
   {
    "duration": 11,
    "start_time": "2023-06-11T18:20:49.908Z"
   },
   {
    "duration": 10,
    "start_time": "2023-06-11T18:20:49.921Z"
   },
   {
    "duration": 20,
    "start_time": "2023-06-11T18:20:49.932Z"
   },
   {
    "duration": 61,
    "start_time": "2023-06-11T18:20:49.954Z"
   },
   {
    "duration": 12,
    "start_time": "2023-06-11T18:20:50.017Z"
   },
   {
    "duration": 10,
    "start_time": "2023-06-11T18:20:50.030Z"
   },
   {
    "duration": 34,
    "start_time": "2023-06-11T18:20:50.041Z"
   },
   {
    "duration": 63,
    "start_time": "2023-06-11T18:20:50.077Z"
   },
   {
    "duration": 10,
    "start_time": "2023-06-11T18:20:50.141Z"
   },
   {
    "duration": 9,
    "start_time": "2023-06-11T18:20:50.153Z"
   },
   {
    "duration": 15,
    "start_time": "2023-06-11T18:20:50.163Z"
   },
   {
    "duration": 26,
    "start_time": "2023-06-11T18:20:50.179Z"
   },
   {
    "duration": 3,
    "start_time": "2023-06-11T18:20:50.207Z"
   },
   {
    "duration": 46,
    "start_time": "2023-06-11T18:20:50.212Z"
   },
   {
    "duration": 3,
    "start_time": "2023-06-11T18:20:50.259Z"
   },
   {
    "duration": 32,
    "start_time": "2023-06-11T18:20:50.264Z"
   },
   {
    "duration": 4,
    "start_time": "2023-06-11T18:20:50.298Z"
   },
   {
    "duration": 12,
    "start_time": "2023-06-11T18:20:50.307Z"
   },
   {
    "duration": 48,
    "start_time": "2023-06-11T18:20:50.320Z"
   },
   {
    "duration": 3,
    "start_time": "2023-06-11T18:20:50.370Z"
   },
   {
    "duration": 13,
    "start_time": "2023-06-11T18:20:50.374Z"
   },
   {
    "duration": 9,
    "start_time": "2023-06-11T18:20:50.388Z"
   },
   {
    "duration": 7,
    "start_time": "2023-06-11T18:20:50.399Z"
   },
   {
    "duration": 36,
    "start_time": "2023-06-11T18:20:50.407Z"
   },
   {
    "duration": 5,
    "start_time": "2023-06-11T18:20:50.451Z"
   },
   {
    "duration": 36,
    "start_time": "2023-06-11T18:20:50.457Z"
   },
   {
    "duration": 13,
    "start_time": "2023-06-11T18:20:50.496Z"
   },
   {
    "duration": 10,
    "start_time": "2023-06-11T18:20:50.511Z"
   },
   {
    "duration": 136,
    "start_time": "2023-06-11T18:20:50.522Z"
   },
   {
    "duration": 7,
    "start_time": "2023-06-11T18:20:50.660Z"
   },
   {
    "duration": 173,
    "start_time": "2023-06-11T18:20:50.669Z"
   },
   {
    "duration": 10,
    "start_time": "2023-06-11T18:20:50.844Z"
   },
   {
    "duration": 135,
    "start_time": "2023-06-11T18:20:50.856Z"
   },
   {
    "duration": 6,
    "start_time": "2023-06-11T18:20:50.993Z"
   },
   {
    "duration": 261,
    "start_time": "2023-06-11T18:20:51.000Z"
   },
   {
    "duration": 9,
    "start_time": "2023-06-11T18:20:51.263Z"
   },
   {
    "duration": 226,
    "start_time": "2023-06-11T18:20:51.275Z"
   },
   {
    "duration": 7,
    "start_time": "2023-06-11T18:20:51.503Z"
   },
   {
    "duration": 211,
    "start_time": "2023-06-11T18:20:51.512Z"
   },
   {
    "duration": 6,
    "start_time": "2023-06-11T18:20:51.725Z"
   },
   {
    "duration": 148,
    "start_time": "2023-06-11T18:20:51.732Z"
   },
   {
    "duration": 5,
    "start_time": "2023-06-11T18:20:51.882Z"
   },
   {
    "duration": 164,
    "start_time": "2023-06-11T18:20:51.889Z"
   },
   {
    "duration": 5,
    "start_time": "2023-06-11T18:20:52.055Z"
   },
   {
    "duration": 141,
    "start_time": "2023-06-11T18:20:52.062Z"
   },
   {
    "duration": 7,
    "start_time": "2023-06-11T18:20:52.205Z"
   },
   {
    "duration": 174,
    "start_time": "2023-06-11T18:20:52.213Z"
   },
   {
    "duration": 6,
    "start_time": "2023-06-11T18:20:52.388Z"
   },
   {
    "duration": 172,
    "start_time": "2023-06-11T18:20:52.396Z"
   },
   {
    "duration": 6,
    "start_time": "2023-06-11T18:20:52.569Z"
   },
   {
    "duration": 151,
    "start_time": "2023-06-11T18:20:52.576Z"
   },
   {
    "duration": 6,
    "start_time": "2023-06-11T18:20:52.728Z"
   },
   {
    "duration": 156,
    "start_time": "2023-06-11T18:20:52.736Z"
   },
   {
    "duration": 5,
    "start_time": "2023-06-11T18:20:52.894Z"
   },
   {
    "duration": 152,
    "start_time": "2023-06-11T18:20:52.901Z"
   },
   {
    "duration": 6,
    "start_time": "2023-06-11T18:20:53.055Z"
   },
   {
    "duration": 144,
    "start_time": "2023-06-11T18:20:53.063Z"
   },
   {
    "duration": 7,
    "start_time": "2023-06-11T18:20:53.209Z"
   },
   {
    "duration": 261,
    "start_time": "2023-06-11T18:20:53.217Z"
   },
   {
    "duration": 6,
    "start_time": "2023-06-11T18:20:53.480Z"
   },
   {
    "duration": 151,
    "start_time": "2023-06-11T18:20:53.488Z"
   },
   {
    "duration": 11,
    "start_time": "2023-06-11T18:20:53.640Z"
   },
   {
    "duration": 147,
    "start_time": "2023-06-11T18:20:53.652Z"
   },
   {
    "duration": 18096,
    "start_time": "2023-06-11T18:20:53.800Z"
   },
   {
    "duration": 18498,
    "start_time": "2023-06-11T18:21:11.898Z"
   },
   {
    "duration": 5,
    "start_time": "2023-06-11T18:21:30.398Z"
   },
   {
    "duration": 37,
    "start_time": "2023-06-11T18:21:30.405Z"
   },
   {
    "duration": 31,
    "start_time": "2023-06-11T18:21:30.443Z"
   },
   {
    "duration": 36,
    "start_time": "2023-06-11T18:21:30.476Z"
   },
   {
    "duration": 54,
    "start_time": "2023-06-11T18:21:30.514Z"
   },
   {
    "duration": 49,
    "start_time": "2023-06-11T18:21:30.569Z"
   },
   {
    "duration": 25,
    "start_time": "2023-06-11T18:21:30.623Z"
   },
   {
    "duration": 43,
    "start_time": "2023-06-11T18:21:30.650Z"
   },
   {
    "duration": 56,
    "start_time": "2023-06-11T18:21:30.695Z"
   },
   {
    "duration": 2640845,
    "start_time": "2023-06-11T18:21:30.753Z"
   },
   {
    "duration": 34,
    "start_time": "2023-06-11T19:05:31.601Z"
   },
   {
    "duration": 25,
    "start_time": "2023-06-11T19:05:31.636Z"
   },
   {
    "duration": 23,
    "start_time": "2023-06-11T19:05:31.662Z"
   },
   {
    "duration": 86,
    "start_time": "2023-06-11T19:05:31.687Z"
   },
   {
    "duration": 72,
    "start_time": "2023-06-11T19:05:31.775Z"
   },
   {
    "duration": 7,
    "start_time": "2023-06-11T19:05:31.849Z"
   },
   {
    "duration": 203,
    "start_time": "2023-06-11T19:05:31.858Z"
   },
   {
    "duration": 267,
    "start_time": "2023-06-11T19:05:32.063Z"
   },
   {
    "duration": 18,
    "start_time": "2023-06-11T19:05:32.332Z"
   },
   {
    "duration": 103,
    "start_time": "2023-06-11T19:11:10.668Z"
   },
   {
    "duration": 10,
    "start_time": "2023-06-11T19:11:19.867Z"
   },
   {
    "duration": 9,
    "start_time": "2023-06-11T19:11:42.019Z"
   },
   {
    "duration": 10,
    "start_time": "2023-06-11T19:12:45.727Z"
   },
   {
    "duration": 9,
    "start_time": "2023-06-11T19:14:51.955Z"
   },
   {
    "duration": 10,
    "start_time": "2023-06-11T19:15:58.379Z"
   },
   {
    "duration": 8,
    "start_time": "2023-06-11T19:16:40.775Z"
   },
   {
    "duration": 11,
    "start_time": "2023-06-11T19:16:48.747Z"
   },
   {
    "duration": 10,
    "start_time": "2023-06-11T19:19:29.060Z"
   },
   {
    "duration": 9,
    "start_time": "2023-06-11T19:22:59.301Z"
   },
   {
    "duration": 9,
    "start_time": "2023-06-11T19:30:06.394Z"
   },
   {
    "duration": 9,
    "start_time": "2023-06-11T19:31:38.339Z"
   },
   {
    "duration": 10,
    "start_time": "2023-06-11T19:37:26.824Z"
   },
   {
    "duration": 16,
    "start_time": "2023-06-11T19:39:01.208Z"
   },
   {
    "duration": 10,
    "start_time": "2023-06-11T19:41:58.844Z"
   },
   {
    "duration": 9,
    "start_time": "2023-06-11T19:45:11.910Z"
   },
   {
    "duration": 16,
    "start_time": "2023-06-11T19:45:48.435Z"
   },
   {
    "duration": 23,
    "start_time": "2023-06-11T19:46:07.363Z"
   },
   {
    "duration": 11,
    "start_time": "2023-06-11T19:46:59.709Z"
   },
   {
    "duration": 11,
    "start_time": "2023-06-11T19:47:32.162Z"
   },
   {
    "duration": 9,
    "start_time": "2023-06-11T19:48:16.873Z"
   },
   {
    "duration": 9,
    "start_time": "2023-06-11T19:48:24.573Z"
   },
   {
    "duration": 10,
    "start_time": "2023-06-11T19:48:44.824Z"
   },
   {
    "duration": 13,
    "start_time": "2023-06-11T19:56:14.019Z"
   },
   {
    "duration": 10,
    "start_time": "2023-06-11T19:59:30.277Z"
   },
   {
    "duration": 9,
    "start_time": "2023-06-11T20:06:15.323Z"
   },
   {
    "duration": 10,
    "start_time": "2023-06-11T20:12:12.400Z"
   },
   {
    "duration": 8,
    "start_time": "2023-06-11T20:12:25.217Z"
   },
   {
    "duration": 9,
    "start_time": "2023-06-11T20:16:21.324Z"
   },
   {
    "duration": 9,
    "start_time": "2023-06-11T20:16:24.982Z"
   },
   {
    "duration": 9,
    "start_time": "2023-06-11T20:16:36.470Z"
   },
   {
    "duration": 9,
    "start_time": "2023-06-11T20:16:54.008Z"
   },
   {
    "duration": 16,
    "start_time": "2023-06-11T20:21:04.348Z"
   },
   {
    "duration": 13785,
    "start_time": "2023-06-12T16:48:15.408Z"
   },
   {
    "duration": 1766,
    "start_time": "2023-06-12T16:48:29.196Z"
   },
   {
    "duration": 92,
    "start_time": "2023-06-12T16:48:30.964Z"
   },
   {
    "duration": 110,
    "start_time": "2023-06-12T16:48:31.058Z"
   },
   {
    "duration": 554,
    "start_time": "2023-06-12T16:48:31.172Z"
   },
   {
    "duration": 123,
    "start_time": "2023-06-12T16:48:31.728Z"
   },
   {
    "duration": 76,
    "start_time": "2023-06-12T16:48:31.857Z"
   },
   {
    "duration": 106,
    "start_time": "2023-06-12T16:48:31.937Z"
   },
   {
    "duration": 94,
    "start_time": "2023-06-12T16:48:32.045Z"
   },
   {
    "duration": 166,
    "start_time": "2023-06-12T16:48:32.140Z"
   },
   {
    "duration": 16,
    "start_time": "2023-06-12T16:48:32.309Z"
   },
   {
    "duration": 33,
    "start_time": "2023-06-12T16:48:32.332Z"
   },
   {
    "duration": 91,
    "start_time": "2023-06-12T16:48:32.367Z"
   },
   {
    "duration": 97,
    "start_time": "2023-06-12T16:48:32.462Z"
   },
   {
    "duration": 20,
    "start_time": "2023-06-12T16:48:32.561Z"
   },
   {
    "duration": 79,
    "start_time": "2023-06-12T16:48:32.586Z"
   },
   {
    "duration": 45,
    "start_time": "2023-06-12T16:48:32.667Z"
   },
   {
    "duration": 55,
    "start_time": "2023-06-12T16:48:32.714Z"
   },
   {
    "duration": 17,
    "start_time": "2023-06-12T16:48:32.771Z"
   },
   {
    "duration": 57,
    "start_time": "2023-06-12T16:48:32.790Z"
   },
   {
    "duration": 10,
    "start_time": "2023-06-12T16:48:32.848Z"
   },
   {
    "duration": 46,
    "start_time": "2023-06-12T16:48:32.859Z"
   },
   {
    "duration": 32,
    "start_time": "2023-06-12T16:48:32.907Z"
   },
   {
    "duration": 29,
    "start_time": "2023-06-12T16:48:32.940Z"
   },
   {
    "duration": 11,
    "start_time": "2023-06-12T16:48:32.970Z"
   },
   {
    "duration": 103,
    "start_time": "2023-06-12T16:48:32.983Z"
   },
   {
    "duration": 5,
    "start_time": "2023-06-12T16:48:33.087Z"
   },
   {
    "duration": 53,
    "start_time": "2023-06-12T16:48:33.094Z"
   },
   {
    "duration": 22,
    "start_time": "2023-06-12T16:48:33.149Z"
   },
   {
    "duration": 6,
    "start_time": "2023-06-12T16:48:33.179Z"
   },
   {
    "duration": 64,
    "start_time": "2023-06-12T16:48:33.186Z"
   },
   {
    "duration": 17,
    "start_time": "2023-06-12T16:48:33.252Z"
   },
   {
    "duration": 80,
    "start_time": "2023-06-12T16:48:33.271Z"
   },
   {
    "duration": 31,
    "start_time": "2023-06-12T16:48:33.352Z"
   },
   {
    "duration": 9,
    "start_time": "2023-06-12T16:48:33.385Z"
   },
   {
    "duration": 84,
    "start_time": "2023-06-12T16:48:33.396Z"
   },
   {
    "duration": 39,
    "start_time": "2023-06-12T16:48:33.481Z"
   },
   {
    "duration": 28,
    "start_time": "2023-06-12T16:48:33.525Z"
   },
   {
    "duration": 138,
    "start_time": "2023-06-12T16:48:33.555Z"
   },
   {
    "duration": 7,
    "start_time": "2023-06-12T16:48:33.695Z"
   },
   {
    "duration": 218,
    "start_time": "2023-06-12T16:48:33.708Z"
   },
   {
    "duration": 14,
    "start_time": "2023-06-12T16:48:33.928Z"
   },
   {
    "duration": 250,
    "start_time": "2023-06-12T16:48:33.946Z"
   },
   {
    "duration": 19,
    "start_time": "2023-06-12T16:48:34.202Z"
   },
   {
    "duration": 239,
    "start_time": "2023-06-12T16:48:34.223Z"
   },
   {
    "duration": 27,
    "start_time": "2023-06-12T16:48:34.463Z"
   },
   {
    "duration": 451,
    "start_time": "2023-06-12T16:48:34.492Z"
   },
   {
    "duration": 11,
    "start_time": "2023-06-12T16:48:34.950Z"
   },
   {
    "duration": 287,
    "start_time": "2023-06-12T16:48:34.963Z"
   },
   {
    "duration": 7,
    "start_time": "2023-06-12T16:48:35.253Z"
   },
   {
    "duration": 203,
    "start_time": "2023-06-12T16:48:35.262Z"
   },
   {
    "duration": 7,
    "start_time": "2023-06-12T16:48:35.466Z"
   },
   {
    "duration": 330,
    "start_time": "2023-06-12T16:48:35.474Z"
   },
   {
    "duration": 16,
    "start_time": "2023-06-12T16:48:35.807Z"
   },
   {
    "duration": 252,
    "start_time": "2023-06-12T16:48:35.827Z"
   },
   {
    "duration": 8,
    "start_time": "2023-06-12T16:48:36.082Z"
   },
   {
    "duration": 259,
    "start_time": "2023-06-12T16:48:36.093Z"
   },
   {
    "duration": 7,
    "start_time": "2023-06-12T16:48:36.354Z"
   },
   {
    "duration": 252,
    "start_time": "2023-06-12T16:48:36.362Z"
   },
   {
    "duration": 7,
    "start_time": "2023-06-12T16:48:36.616Z"
   },
   {
    "duration": 209,
    "start_time": "2023-06-12T16:48:36.625Z"
   },
   {
    "duration": 6,
    "start_time": "2023-06-12T16:48:36.836Z"
   },
   {
    "duration": 176,
    "start_time": "2023-06-12T16:48:36.844Z"
   },
   {
    "duration": 9,
    "start_time": "2023-06-12T16:48:37.024Z"
   },
   {
    "duration": 192,
    "start_time": "2023-06-12T16:48:37.034Z"
   },
   {
    "duration": 7,
    "start_time": "2023-06-12T16:48:37.227Z"
   },
   {
    "duration": 171,
    "start_time": "2023-06-12T16:48:37.236Z"
   },
   {
    "duration": 15,
    "start_time": "2023-06-12T16:48:37.420Z"
   },
   {
    "duration": 229,
    "start_time": "2023-06-12T16:48:37.438Z"
   },
   {
    "duration": 17,
    "start_time": "2023-06-12T16:48:37.668Z"
   },
   {
    "duration": 368,
    "start_time": "2023-06-12T16:48:37.687Z"
   },
   {
    "duration": 6,
    "start_time": "2023-06-12T16:48:38.056Z"
   },
   {
    "duration": 270,
    "start_time": "2023-06-12T16:48:38.064Z"
   },
   {
    "duration": 25272,
    "start_time": "2023-06-12T16:48:38.338Z"
   },
   {
    "duration": 26053,
    "start_time": "2023-06-12T16:49:03.615Z"
   },
   {
    "duration": 16,
    "start_time": "2023-06-12T16:49:29.671Z"
   },
   {
    "duration": 45,
    "start_time": "2023-06-12T16:49:29.690Z"
   },
   {
    "duration": 7,
    "start_time": "2023-06-12T16:49:29.737Z"
   },
   {
    "duration": 12,
    "start_time": "2023-06-12T16:49:29.746Z"
   },
   {
    "duration": 6,
    "start_time": "2023-06-12T16:49:29.760Z"
   },
   {
    "duration": 45,
    "start_time": "2023-06-12T16:49:29.767Z"
   },
   {
    "duration": 37,
    "start_time": "2023-06-12T16:49:29.815Z"
   },
   {
    "duration": 7,
    "start_time": "2023-06-12T16:49:29.854Z"
   },
   {
    "duration": 24,
    "start_time": "2023-06-12T16:49:29.862Z"
   },
   {
    "duration": 30367,
    "start_time": "2023-06-12T18:16:35.032Z"
   },
   {
    "duration": 4734,
    "start_time": "2023-06-12T18:17:05.403Z"
   },
   {
    "duration": 143,
    "start_time": "2023-06-12T18:17:10.140Z"
   },
   {
    "duration": 41,
    "start_time": "2023-06-12T18:17:10.285Z"
   },
   {
    "duration": 31,
    "start_time": "2023-06-12T18:17:10.332Z"
   },
   {
    "duration": 61,
    "start_time": "2023-06-12T18:17:10.370Z"
   },
   {
    "duration": 21,
    "start_time": "2023-06-12T18:17:10.437Z"
   },
   {
    "duration": 22,
    "start_time": "2023-06-12T18:17:10.461Z"
   },
   {
    "duration": 30,
    "start_time": "2023-06-12T18:17:10.525Z"
   },
   {
    "duration": 85,
    "start_time": "2023-06-12T18:17:10.557Z"
   },
   {
    "duration": 28,
    "start_time": "2023-06-12T18:17:10.644Z"
   },
   {
    "duration": 52,
    "start_time": "2023-06-12T18:17:10.678Z"
   },
   {
    "duration": 20,
    "start_time": "2023-06-12T18:17:10.736Z"
   },
   {
    "duration": 101,
    "start_time": "2023-06-12T18:17:10.763Z"
   },
   {
    "duration": 82,
    "start_time": "2023-06-12T18:17:10.869Z"
   },
   {
    "duration": 21,
    "start_time": "2023-06-12T18:17:10.953Z"
   },
   {
    "duration": 76,
    "start_time": "2023-06-12T18:17:10.982Z"
   },
   {
    "duration": 72,
    "start_time": "2023-06-12T18:17:11.069Z"
   },
   {
    "duration": 29,
    "start_time": "2023-06-12T18:17:11.157Z"
   },
   {
    "duration": 52,
    "start_time": "2023-06-12T18:17:11.197Z"
   },
   {
    "duration": 21,
    "start_time": "2023-06-12T18:17:11.257Z"
   },
   {
    "duration": 85,
    "start_time": "2023-06-12T18:17:11.284Z"
   },
   {
    "duration": 62,
    "start_time": "2023-06-12T18:17:11.377Z"
   },
   {
    "duration": 61,
    "start_time": "2023-06-12T18:17:11.444Z"
   },
   {
    "duration": 20,
    "start_time": "2023-06-12T18:17:11.530Z"
   },
   {
    "duration": 85,
    "start_time": "2023-06-12T18:17:11.556Z"
   },
   {
    "duration": 4,
    "start_time": "2023-06-12T18:17:11.643Z"
   },
   {
    "duration": 78,
    "start_time": "2023-06-12T18:17:11.652Z"
   },
   {
    "duration": 75,
    "start_time": "2023-06-12T18:17:11.733Z"
   },
   {
    "duration": 30,
    "start_time": "2023-06-12T18:17:11.810Z"
   },
   {
    "duration": 5,
    "start_time": "2023-06-12T18:17:11.851Z"
   },
   {
    "duration": 12,
    "start_time": "2023-06-12T18:17:11.861Z"
   },
   {
    "duration": 24,
    "start_time": "2023-06-12T18:17:11.877Z"
   },
   {
    "duration": 41,
    "start_time": "2023-06-12T18:17:11.927Z"
   },
   {
    "duration": 17,
    "start_time": "2023-06-12T18:17:11.970Z"
   },
   {
    "duration": 67,
    "start_time": "2023-06-12T18:17:11.989Z"
   },
   {
    "duration": 11,
    "start_time": "2023-06-12T18:17:12.060Z"
   },
   {
    "duration": 59,
    "start_time": "2023-06-12T18:17:12.073Z"
   },
   {
    "duration": 349,
    "start_time": "2023-06-12T18:17:12.140Z"
   },
   {
    "duration": 64,
    "start_time": "2023-06-12T18:17:12.491Z"
   },
   {
    "duration": 807,
    "start_time": "2023-06-12T18:17:12.566Z"
   },
   {
    "duration": 38,
    "start_time": "2023-06-12T18:17:13.428Z"
   },
   {
    "duration": 614,
    "start_time": "2023-06-12T18:17:13.526Z"
   },
   {
    "duration": 35,
    "start_time": "2023-06-12T18:17:14.146Z"
   },
   {
    "duration": 540,
    "start_time": "2023-06-12T18:17:14.227Z"
   },
   {
    "duration": 62,
    "start_time": "2023-06-12T18:17:14.775Z"
   },
   {
    "duration": 1134,
    "start_time": "2023-06-12T18:17:14.843Z"
   },
   {
    "duration": 51,
    "start_time": "2023-06-12T18:17:15.986Z"
   },
   {
    "duration": 636,
    "start_time": "2023-06-12T18:17:16.045Z"
   },
   {
    "duration": 22,
    "start_time": "2023-06-12T18:17:16.735Z"
   },
   {
    "duration": 486,
    "start_time": "2023-06-12T18:17:16.765Z"
   },
   {
    "duration": 15,
    "start_time": "2023-06-12T18:17:17.257Z"
   },
   {
    "duration": 465,
    "start_time": "2023-06-12T18:17:17.278Z"
   },
   {
    "duration": 13,
    "start_time": "2023-06-12T18:17:17.745Z"
   },
   {
    "duration": 419,
    "start_time": "2023-06-12T18:17:17.760Z"
   },
   {
    "duration": 14,
    "start_time": "2023-06-12T18:17:18.226Z"
   },
   {
    "duration": 431,
    "start_time": "2023-06-12T18:17:18.242Z"
   },
   {
    "duration": 16,
    "start_time": "2023-06-12T18:17:18.733Z"
   },
   {
    "duration": 438,
    "start_time": "2023-06-12T18:17:18.751Z"
   },
   {
    "duration": 48,
    "start_time": "2023-06-12T18:17:19.191Z"
   },
   {
    "duration": 412,
    "start_time": "2023-06-12T18:17:19.249Z"
   },
   {
    "duration": 19,
    "start_time": "2023-06-12T18:17:19.667Z"
   },
   {
    "duration": 425,
    "start_time": "2023-06-12T18:17:19.731Z"
   },
   {
    "duration": 22,
    "start_time": "2023-06-12T18:17:20.160Z"
   },
   {
    "duration": 455,
    "start_time": "2023-06-12T18:17:20.184Z"
   },
   {
    "duration": 16,
    "start_time": "2023-06-12T18:17:20.644Z"
   },
   {
    "duration": 417,
    "start_time": "2023-06-12T18:17:20.665Z"
   },
   {
    "duration": 47,
    "start_time": "2023-06-12T18:17:21.084Z"
   },
   {
    "duration": 521,
    "start_time": "2023-06-12T18:17:21.134Z"
   },
   {
    "duration": 15,
    "start_time": "2023-06-12T18:17:21.658Z"
   },
   {
    "duration": 888,
    "start_time": "2023-06-12T18:17:21.676Z"
   },
   {
    "duration": 14,
    "start_time": "2023-06-12T18:17:22.567Z"
   },
   {
    "duration": 520,
    "start_time": "2023-06-12T18:17:22.627Z"
   },
   {
    "duration": 59818,
    "start_time": "2023-06-12T18:17:23.151Z"
   },
   {
    "duration": 77077,
    "start_time": "2023-06-12T18:18:22.977Z"
   },
   {
    "duration": 6,
    "start_time": "2023-06-12T18:19:40.056Z"
   },
   {
    "duration": 10,
    "start_time": "2023-06-12T18:19:40.064Z"
   },
   {
    "duration": 56,
    "start_time": "2023-06-12T18:19:40.076Z"
   },
   {
    "duration": 20,
    "start_time": "2023-06-12T18:19:40.136Z"
   },
   {
    "duration": 27,
    "start_time": "2023-06-12T18:19:40.161Z"
   },
   {
    "duration": 6,
    "start_time": "2023-06-12T18:19:40.228Z"
   },
   {
    "duration": 18,
    "start_time": "2023-06-12T18:19:40.236Z"
   },
   {
    "duration": 24,
    "start_time": "2023-06-12T18:19:40.257Z"
   },
   {
    "duration": 51,
    "start_time": "2023-06-12T18:19:40.297Z"
   },
   {
    "duration": 11333879,
    "start_time": "2023-06-12T18:19:40.351Z"
   },
   {
    "duration": 136,
    "start_time": "2023-06-12T21:28:34.249Z"
   },
   {
    "duration": 19,
    "start_time": "2023-06-12T21:28:34.438Z"
   },
   {
    "duration": 14,
    "start_time": "2023-06-12T21:28:34.471Z"
   },
   {
    "duration": 227,
    "start_time": "2023-06-12T21:28:34.534Z"
   },
   {
    "duration": 302,
    "start_time": "2023-06-12T21:28:34.765Z"
   },
   {
    "duration": 9,
    "start_time": "2023-06-12T21:28:35.069Z"
   },
   {
    "duration": 839,
    "start_time": "2023-06-12T21:28:35.127Z"
   },
   {
    "duration": 604,
    "start_time": "2023-06-12T21:28:35.976Z"
   },
   {
    "duration": 39,
    "start_time": "2023-06-12T21:28:36.631Z"
   },
   {
    "duration": 500,
    "start_time": "2023-06-12T21:28:36.684Z"
   },
   {
    "duration": 0,
    "start_time": "2023-06-12T21:28:37.230Z"
   },
   {
    "duration": 79,
    "start_time": "2023-06-12T21:32:11.658Z"
   },
   {
    "duration": 113,
    "start_time": "2023-06-12T21:33:51.437Z"
   },
   {
    "duration": 73,
    "start_time": "2023-06-12T21:34:07.768Z"
   },
   {
    "duration": 79,
    "start_time": "2023-06-12T21:34:27.457Z"
   },
   {
    "duration": 17,
    "start_time": "2023-06-12T21:34:34.925Z"
   },
   {
    "duration": 15,
    "start_time": "2023-06-12T21:34:41.026Z"
   },
   {
    "duration": 30,
    "start_time": "2023-06-12T21:35:22.828Z"
   },
   {
    "duration": 17,
    "start_time": "2023-06-12T21:36:56.927Z"
   },
   {
    "duration": 21,
    "start_time": "2023-06-12T21:37:05.132Z"
   },
   {
    "duration": 15,
    "start_time": "2023-06-12T21:38:07.027Z"
   },
   {
    "duration": 18,
    "start_time": "2023-06-12T21:39:04.722Z"
   },
   {
    "duration": 10,
    "start_time": "2023-06-12T21:39:22.567Z"
   },
   {
    "duration": 48,
    "start_time": "2023-06-12T21:39:32.380Z"
   },
   {
    "duration": 45,
    "start_time": "2023-06-13T06:07:48.671Z"
   },
   {
    "duration": 10918,
    "start_time": "2023-06-13T06:08:00.971Z"
   },
   {
    "duration": 1418,
    "start_time": "2023-06-13T06:08:11.893Z"
   },
   {
    "duration": 150,
    "start_time": "2023-06-13T06:08:13.313Z"
   },
   {
    "duration": 6,
    "start_time": "2023-06-13T06:08:13.465Z"
   },
   {
    "duration": 15,
    "start_time": "2023-06-13T06:08:13.473Z"
   },
   {
    "duration": 7,
    "start_time": "2023-06-13T06:08:13.489Z"
   },
   {
    "duration": 14,
    "start_time": "2023-06-13T06:08:13.498Z"
   },
   {
    "duration": 11,
    "start_time": "2023-06-13T06:08:13.513Z"
   },
   {
    "duration": 11,
    "start_time": "2023-06-13T06:08:13.526Z"
   },
   {
    "duration": 104,
    "start_time": "2023-06-13T06:08:13.556Z"
   },
   {
    "duration": 11,
    "start_time": "2023-06-13T06:08:13.662Z"
   },
   {
    "duration": 10,
    "start_time": "2023-06-13T06:08:13.674Z"
   },
   {
    "duration": 12,
    "start_time": "2023-06-13T06:08:13.685Z"
   },
   {
    "duration": 70,
    "start_time": "2023-06-13T06:08:13.700Z"
   },
   {
    "duration": 12,
    "start_time": "2023-06-13T06:08:13.772Z"
   },
   {
    "duration": 10,
    "start_time": "2023-06-13T06:08:13.786Z"
   },
   {
    "duration": 12,
    "start_time": "2023-06-13T06:08:13.798Z"
   },
   {
    "duration": 65,
    "start_time": "2023-06-13T06:08:13.812Z"
   },
   {
    "duration": 11,
    "start_time": "2023-06-13T06:08:13.878Z"
   },
   {
    "duration": 11,
    "start_time": "2023-06-13T06:08:13.891Z"
   },
   {
    "duration": 8,
    "start_time": "2023-06-13T06:08:13.904Z"
   },
   {
    "duration": 32,
    "start_time": "2023-06-13T06:08:13.914Z"
   },
   {
    "duration": 4,
    "start_time": "2023-06-13T06:08:13.948Z"
   },
   {
    "duration": 21,
    "start_time": "2023-06-13T06:08:13.957Z"
   },
   {
    "duration": 4,
    "start_time": "2023-06-13T06:08:13.980Z"
   },
   {
    "duration": 31,
    "start_time": "2023-06-13T06:08:13.985Z"
   },
   {
    "duration": 5,
    "start_time": "2023-06-13T06:08:14.018Z"
   },
   {
    "duration": 41,
    "start_time": "2023-06-13T06:08:14.025Z"
   },
   {
    "duration": 22,
    "start_time": "2023-06-13T06:08:14.067Z"
   },
   {
    "duration": 3,
    "start_time": "2023-06-13T06:08:14.091Z"
   },
   {
    "duration": 6,
    "start_time": "2023-06-13T06:08:14.095Z"
   },
   {
    "duration": 4,
    "start_time": "2023-06-13T06:08:14.103Z"
   },
   {
    "duration": 11,
    "start_time": "2023-06-13T06:08:14.108Z"
   },
   {
    "duration": 54,
    "start_time": "2023-06-13T06:08:14.121Z"
   },
   {
    "duration": 4,
    "start_time": "2023-06-13T06:08:14.177Z"
   },
   {
    "duration": 27,
    "start_time": "2023-06-13T06:08:14.183Z"
   },
   {
    "duration": 16,
    "start_time": "2023-06-13T06:08:14.211Z"
   },
   {
    "duration": 8,
    "start_time": "2023-06-13T06:08:14.229Z"
   },
   {
    "duration": 134,
    "start_time": "2023-06-13T06:08:14.239Z"
   },
   {
    "duration": 6,
    "start_time": "2023-06-13T06:08:14.375Z"
   },
   {
    "duration": 148,
    "start_time": "2023-06-13T06:08:14.385Z"
   },
   {
    "duration": 6,
    "start_time": "2023-06-13T06:08:14.535Z"
   },
   {
    "duration": 144,
    "start_time": "2023-06-13T06:08:14.543Z"
   },
   {
    "duration": 7,
    "start_time": "2023-06-13T06:08:14.689Z"
   },
   {
    "duration": 164,
    "start_time": "2023-06-13T06:08:14.697Z"
   },
   {
    "duration": 7,
    "start_time": "2023-06-13T06:08:14.862Z"
   },
   {
    "duration": 286,
    "start_time": "2023-06-13T06:08:14.870Z"
   },
   {
    "duration": 7,
    "start_time": "2023-06-13T06:08:15.158Z"
   },
   {
    "duration": 213,
    "start_time": "2023-06-13T06:08:15.166Z"
   },
   {
    "duration": 6,
    "start_time": "2023-06-13T06:08:15.380Z"
   },
   {
    "duration": 132,
    "start_time": "2023-06-13T06:08:15.387Z"
   },
   {
    "duration": 5,
    "start_time": "2023-06-13T06:08:15.521Z"
   },
   {
    "duration": 160,
    "start_time": "2023-06-13T06:08:15.528Z"
   },
   {
    "duration": 6,
    "start_time": "2023-06-13T06:08:15.689Z"
   },
   {
    "duration": 142,
    "start_time": "2023-06-13T06:08:15.696Z"
   },
   {
    "duration": 6,
    "start_time": "2023-06-13T06:08:15.840Z"
   },
   {
    "duration": 142,
    "start_time": "2023-06-13T06:08:15.848Z"
   },
   {
    "duration": 8,
    "start_time": "2023-06-13T06:08:15.992Z"
   },
   {
    "duration": 170,
    "start_time": "2023-06-13T06:08:16.002Z"
   },
   {
    "duration": 6,
    "start_time": "2023-06-13T06:08:16.173Z"
   },
   {
    "duration": 143,
    "start_time": "2023-06-13T06:08:16.182Z"
   },
   {
    "duration": 7,
    "start_time": "2023-06-13T06:08:16.328Z"
   },
   {
    "duration": 163,
    "start_time": "2023-06-13T06:08:16.337Z"
   },
   {
    "duration": 7,
    "start_time": "2023-06-13T06:08:16.502Z"
   },
   {
    "duration": 147,
    "start_time": "2023-06-13T06:08:16.511Z"
   },
   {
    "duration": 7,
    "start_time": "2023-06-13T06:08:16.660Z"
   },
   {
    "duration": 150,
    "start_time": "2023-06-13T06:08:16.668Z"
   },
   {
    "duration": 6,
    "start_time": "2023-06-13T06:08:16.819Z"
   },
   {
    "duration": 153,
    "start_time": "2023-06-13T06:08:16.826Z"
   },
   {
    "duration": 6,
    "start_time": "2023-06-13T06:08:16.981Z"
   },
   {
    "duration": 245,
    "start_time": "2023-06-13T06:08:16.989Z"
   },
   {
    "duration": 6,
    "start_time": "2023-06-13T06:08:17.237Z"
   },
   {
    "duration": 139,
    "start_time": "2023-06-13T06:08:17.256Z"
   },
   {
    "duration": 18523,
    "start_time": "2023-06-13T06:08:17.398Z"
   },
   {
    "duration": 18654,
    "start_time": "2023-06-13T06:08:35.923Z"
   },
   {
    "duration": 4,
    "start_time": "2023-06-13T06:08:54.579Z"
   },
   {
    "duration": 9,
    "start_time": "2023-06-13T06:08:54.584Z"
   },
   {
    "duration": 5,
    "start_time": "2023-06-13T06:08:54.595Z"
   },
   {
    "duration": 10,
    "start_time": "2023-06-13T06:08:54.602Z"
   },
   {
    "duration": 4,
    "start_time": "2023-06-13T06:08:54.613Z"
   },
   {
    "duration": 7,
    "start_time": "2023-06-13T06:08:54.618Z"
   },
   {
    "duration": 25,
    "start_time": "2023-06-13T06:08:54.627Z"
   },
   {
    "duration": 5,
    "start_time": "2023-06-13T06:08:54.653Z"
   },
   {
    "duration": 8,
    "start_time": "2023-06-13T06:08:54.660Z"
   },
   {
    "duration": 2831840,
    "start_time": "2023-06-13T06:08:54.670Z"
   },
   {
    "duration": 26,
    "start_time": "2023-06-13T06:56:06.512Z"
   },
   {
    "duration": 12,
    "start_time": "2023-06-13T06:56:06.540Z"
   },
   {
    "duration": 31,
    "start_time": "2023-06-13T06:56:06.554Z"
   },
   {
    "duration": 49,
    "start_time": "2023-06-13T06:56:06.587Z"
   },
   {
    "duration": 64,
    "start_time": "2023-06-13T06:56:06.638Z"
   },
   {
    "duration": 6,
    "start_time": "2023-06-13T06:56:06.704Z"
   },
   {
    "duration": 200,
    "start_time": "2023-06-13T06:56:06.711Z"
   },
   {
    "duration": 282,
    "start_time": "2023-06-13T06:56:06.914Z"
   },
   {
    "duration": 12,
    "start_time": "2023-06-13T06:56:07.198Z"
   },
   {
    "duration": 9,
    "start_time": "2023-06-13T06:56:07.212Z"
   },
   {
    "duration": 248,
    "start_time": "2023-06-13T06:57:16.524Z"
   },
   {
    "duration": 380,
    "start_time": "2023-06-13T06:57:31.711Z"
   },
   {
    "duration": 25,
    "start_time": "2023-06-13T07:00:28.574Z"
   },
   {
    "duration": 13,
    "start_time": "2023-06-13T07:00:33.906Z"
   },
   {
    "duration": 204,
    "start_time": "2023-06-13T07:01:05.584Z"
   },
   {
    "duration": 372,
    "start_time": "2023-06-13T07:01:19.774Z"
   },
   {
    "duration": 504,
    "start_time": "2023-06-13T07:02:28.918Z"
   },
   {
    "duration": 398,
    "start_time": "2023-06-13T07:14:12.814Z"
   }
  ],
  "kernelspec": {
   "display_name": "Python 3 (ipykernel)",
   "language": "python",
   "name": "python3"
  },
  "language_info": {
   "codemirror_mode": {
    "name": "ipython",
    "version": 3
   },
   "file_extension": ".py",
   "mimetype": "text/x-python",
   "name": "python",
   "nbconvert_exporter": "python",
   "pygments_lexer": "ipython3",
   "version": "3.11.3"
  },
  "toc": {
   "base_numbering": 1,
   "nav_menu": {},
   "number_sections": true,
   "sideBar": true,
   "skip_h1_title": true,
   "title_cell": "Table of Contents",
   "title_sidebar": "Contents",
   "toc_cell": false,
   "toc_position": {},
   "toc_section_display": true,
   "toc_window_display": false
  }
 },
 "nbformat": 4,
 "nbformat_minor": 5
}
