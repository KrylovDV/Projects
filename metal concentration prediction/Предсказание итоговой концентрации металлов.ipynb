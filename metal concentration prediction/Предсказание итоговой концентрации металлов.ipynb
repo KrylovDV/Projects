{
 "cells": [
  {
   "cell_type": "markdown",
   "metadata": {
    "toc": true
   },
   "source": [
    "<h1>Содержание<span class=\"tocSkip\"></span></h1>\n",
    "<div class=\"toc\"><ul class=\"toc-item\"><li><span><a href=\"#Подготовка-данных\" data-toc-modified-id=\"Подготовка-данных-1\"><span class=\"toc-item-num\">1&nbsp;&nbsp;</span>Подготовка данных</a></span><ul class=\"toc-item\"><li><span><a href=\"#Выводы-по-подготовке-данных:\" data-toc-modified-id=\"Выводы-по-подготовке-данных:-1.1\"><span class=\"toc-item-num\">1.1&nbsp;&nbsp;</span>Выводы по подготовке данных:</a></span></li></ul></li><li><span><a href=\"#Анализ-данных\" data-toc-modified-id=\"Анализ-данных-2\"><span class=\"toc-item-num\">2&nbsp;&nbsp;</span>Анализ данных</a></span><ul class=\"toc-item\"><li><span><a href=\"#Рассмотрим-изменение-концентраций-металлов\" data-toc-modified-id=\"Рассмотрим-изменение-концентраций-металлов-2.1\"><span class=\"toc-item-num\">2.1&nbsp;&nbsp;</span>Рассмотрим изменение концентраций металлов</a></span></li><li><span><a href=\"#Рассмотрим-суммарную-концентрацию-металлов\" data-toc-modified-id=\"Рассмотрим-суммарную-концентрацию-металлов-2.2\"><span class=\"toc-item-num\">2.2&nbsp;&nbsp;</span>Рассмотрим суммарную концентрацию металлов</a></span></li><li><span><a href=\"#Выводы-по-анализу-суммарных-концентраций:\" data-toc-modified-id=\"Выводы-по-анализу-суммарных-концентраций:-2.3\"><span class=\"toc-item-num\">2.3&nbsp;&nbsp;</span>Выводы по анализу суммарных концентраций:</a></span></li><li><span><a href=\"#Выводы-по-части-анализа-данных:\" data-toc-modified-id=\"Выводы-по-части-анализа-данных:-2.4\"><span class=\"toc-item-num\">2.4&nbsp;&nbsp;</span>Выводы по части анализа данных:</a></span></li></ul></li><li><span><a href=\"#Модель\" data-toc-modified-id=\"Модель-3\"><span class=\"toc-item-num\">3&nbsp;&nbsp;</span>Модель</a></span><ul class=\"toc-item\"><li><ul class=\"toc-item\"><li><span><a href=\"#Проверим-модели-линейной-регресси-на-кросс-валидации-для-каждого-целевого-признака:\" data-toc-modified-id=\"Проверим-модели-линейной-регресси-на-кросс-валидации-для-каждого-целевого-признака:-3.0.1\"><span class=\"toc-item-num\">3.0.1&nbsp;&nbsp;</span>Проверим модели линейной регресси на кросс-валидации для каждого целевого признака:</a></span></li><li><span><a href=\"#Проверим-модели-случайного-леса-на-кросс-валидации-для-каждого-целевого-признака:\" data-toc-modified-id=\"Проверим-модели-случайного-леса-на-кросс-валидации-для-каждого-целевого-признака:-3.0.2\"><span class=\"toc-item-num\">3.0.2&nbsp;&nbsp;</span>Проверим модели случайного леса на кросс-валидации для каждого целевого признака:</a></span></li><li><span><a href=\"#Посчитаем-общее-симметричное-среднее-абсолютное-процентное-отклонение-для-модели-случайного-леса\" data-toc-modified-id=\"Посчитаем-общее-симметричное-среднее-абсолютное-процентное-отклонение-для-модели-случайного-леса-3.0.3\"><span class=\"toc-item-num\">3.0.3&nbsp;&nbsp;</span>Посчитаем общее симметричное среднее абсолютное процентное отклонение для модели случайного леса</a></span></li><li><span><a href=\"#промежуточный-вывод:\" data-toc-modified-id=\"промежуточный-вывод:-3.0.4\"><span class=\"toc-item-num\">3.0.4&nbsp;&nbsp;</span>промежуточный вывод:</a></span></li></ul></li><li><span><a href=\"#Проверим-модель-на-тестовой-выборке\" data-toc-modified-id=\"Проверим-модель-на-тестовой-выборке-3.1\"><span class=\"toc-item-num\">3.1&nbsp;&nbsp;</span>Проверим модель на тестовой выборке</a></span><ul class=\"toc-item\"><li><span><a href=\"#Выыод-по-сравнению-с-дамми-моделью:\" data-toc-modified-id=\"Выыод-по-сравнению-с-дамми-моделью:-3.1.1\"><span class=\"toc-item-num\">3.1.1&nbsp;&nbsp;</span>Выыод по сравнению с дамми моделью:</a></span></li></ul></li></ul></li></ul></div>"
   ]
  },
  {
   "cell_type": "markdown",
   "metadata": {},
   "source": [
    "# Восстановление золота из руды"
   ]
  },
  {
   "cell_type": "markdown",
   "metadata": {},
   "source": [
    "Наша задача - подготовить прототип модели машинного обучения для компании, которая разрабатывает решения для эффективной работы промышленных предприятий.\n",
    "\n",
    "Модель должна предсказать коэффициент восстановления золота из золотосодержащей руды.В нашем распоряжении данные с параметрами добычи и очистки. \n",
    "\n",
    "Модель поможет оптимизировать производство, чтобы не запускать предприятие с убыточными характеристиками.\n"
   ]
  },
  {
   "cell_type": "markdown",
   "metadata": {},
   "source": [
    "## Подготовка данных"
   ]
  },
  {
   "cell_type": "code",
   "execution_count": 1,
   "metadata": {},
   "outputs": [],
   "source": [
    "import pandas as pd\n",
    "import matplotlib.pyplot as plt\n",
    "import numpy as np\n",
    "from sklearn.metrics import mean_absolute_error,  make_scorer\n",
    "from sklearn.linear_model import LinearRegression, LogisticRegression\n",
    "from sklearn.ensemble import RandomForestRegressor\n",
    "from sklearn.model_selection import cross_val_score, train_test_split, GridSearchCV\n",
    "from sklearn.dummy import DummyRegressor"
   ]
  },
  {
   "cell_type": "code",
   "execution_count": 2,
   "metadata": {},
   "outputs": [
    {
     "data": {
      "text/html": [
       "<div>\n",
       "<style scoped>\n",
       "    .dataframe tbody tr th:only-of-type {\n",
       "        vertical-align: middle;\n",
       "    }\n",
       "\n",
       "    .dataframe tbody tr th {\n",
       "        vertical-align: top;\n",
       "    }\n",
       "\n",
       "    .dataframe thead th {\n",
       "        text-align: right;\n",
       "    }\n",
       "</style>\n",
       "<table border=\"1\" class=\"dataframe\">\n",
       "  <thead>\n",
       "    <tr style=\"text-align: right;\">\n",
       "      <th></th>\n",
       "      <th>date</th>\n",
       "      <th>final.output.concentrate_ag</th>\n",
       "      <th>final.output.concentrate_pb</th>\n",
       "      <th>final.output.concentrate_sol</th>\n",
       "      <th>final.output.concentrate_au</th>\n",
       "      <th>final.output.recovery</th>\n",
       "      <th>final.output.tail_ag</th>\n",
       "      <th>final.output.tail_pb</th>\n",
       "      <th>final.output.tail_sol</th>\n",
       "      <th>final.output.tail_au</th>\n",
       "      <th>...</th>\n",
       "      <th>secondary_cleaner.state.floatbank4_a_air</th>\n",
       "      <th>secondary_cleaner.state.floatbank4_a_level</th>\n",
       "      <th>secondary_cleaner.state.floatbank4_b_air</th>\n",
       "      <th>secondary_cleaner.state.floatbank4_b_level</th>\n",
       "      <th>secondary_cleaner.state.floatbank5_a_air</th>\n",
       "      <th>secondary_cleaner.state.floatbank5_a_level</th>\n",
       "      <th>secondary_cleaner.state.floatbank5_b_air</th>\n",
       "      <th>secondary_cleaner.state.floatbank5_b_level</th>\n",
       "      <th>secondary_cleaner.state.floatbank6_a_air</th>\n",
       "      <th>secondary_cleaner.state.floatbank6_a_level</th>\n",
       "    </tr>\n",
       "  </thead>\n",
       "  <tbody>\n",
       "    <tr>\n",
       "      <th>0</th>\n",
       "      <td>2016-01-15 00:00:00</td>\n",
       "      <td>6.055403</td>\n",
       "      <td>9.889648</td>\n",
       "      <td>5.507324</td>\n",
       "      <td>42.192020</td>\n",
       "      <td>70.541216</td>\n",
       "      <td>10.411962</td>\n",
       "      <td>0.895447</td>\n",
       "      <td>16.904297</td>\n",
       "      <td>2.143149</td>\n",
       "      <td>...</td>\n",
       "      <td>14.016835</td>\n",
       "      <td>-502.488007</td>\n",
       "      <td>12.099931</td>\n",
       "      <td>-504.715942</td>\n",
       "      <td>9.925633</td>\n",
       "      <td>-498.310211</td>\n",
       "      <td>8.079666</td>\n",
       "      <td>-500.470978</td>\n",
       "      <td>14.151341</td>\n",
       "      <td>-605.841980</td>\n",
       "    </tr>\n",
       "    <tr>\n",
       "      <th>1</th>\n",
       "      <td>2016-01-15 01:00:00</td>\n",
       "      <td>6.029369</td>\n",
       "      <td>9.968944</td>\n",
       "      <td>5.257781</td>\n",
       "      <td>42.701629</td>\n",
       "      <td>69.266198</td>\n",
       "      <td>10.462676</td>\n",
       "      <td>0.927452</td>\n",
       "      <td>16.634514</td>\n",
       "      <td>2.224930</td>\n",
       "      <td>...</td>\n",
       "      <td>13.992281</td>\n",
       "      <td>-505.503262</td>\n",
       "      <td>11.950531</td>\n",
       "      <td>-501.331529</td>\n",
       "      <td>10.039245</td>\n",
       "      <td>-500.169983</td>\n",
       "      <td>7.984757</td>\n",
       "      <td>-500.582168</td>\n",
       "      <td>13.998353</td>\n",
       "      <td>-599.787184</td>\n",
       "    </tr>\n",
       "    <tr>\n",
       "      <th>2</th>\n",
       "      <td>2016-01-15 02:00:00</td>\n",
       "      <td>6.055926</td>\n",
       "      <td>10.213995</td>\n",
       "      <td>5.383759</td>\n",
       "      <td>42.657501</td>\n",
       "      <td>68.116445</td>\n",
       "      <td>10.507046</td>\n",
       "      <td>0.953716</td>\n",
       "      <td>16.208849</td>\n",
       "      <td>2.257889</td>\n",
       "      <td>...</td>\n",
       "      <td>14.015015</td>\n",
       "      <td>-502.520901</td>\n",
       "      <td>11.912783</td>\n",
       "      <td>-501.133383</td>\n",
       "      <td>10.070913</td>\n",
       "      <td>-500.129135</td>\n",
       "      <td>8.013877</td>\n",
       "      <td>-500.517572</td>\n",
       "      <td>14.028663</td>\n",
       "      <td>-601.427363</td>\n",
       "    </tr>\n",
       "    <tr>\n",
       "      <th>3</th>\n",
       "      <td>2016-01-15 03:00:00</td>\n",
       "      <td>6.047977</td>\n",
       "      <td>9.977019</td>\n",
       "      <td>4.858634</td>\n",
       "      <td>42.689819</td>\n",
       "      <td>68.347543</td>\n",
       "      <td>10.422762</td>\n",
       "      <td>0.883763</td>\n",
       "      <td>16.532835</td>\n",
       "      <td>2.146849</td>\n",
       "      <td>...</td>\n",
       "      <td>14.036510</td>\n",
       "      <td>-500.857308</td>\n",
       "      <td>11.999550</td>\n",
       "      <td>-501.193686</td>\n",
       "      <td>9.970366</td>\n",
       "      <td>-499.201640</td>\n",
       "      <td>7.977324</td>\n",
       "      <td>-500.255908</td>\n",
       "      <td>14.005551</td>\n",
       "      <td>-599.996129</td>\n",
       "    </tr>\n",
       "    <tr>\n",
       "      <th>4</th>\n",
       "      <td>2016-01-15 04:00:00</td>\n",
       "      <td>6.148599</td>\n",
       "      <td>10.142511</td>\n",
       "      <td>4.939416</td>\n",
       "      <td>42.774141</td>\n",
       "      <td>66.927016</td>\n",
       "      <td>10.360302</td>\n",
       "      <td>0.792826</td>\n",
       "      <td>16.525686</td>\n",
       "      <td>2.055292</td>\n",
       "      <td>...</td>\n",
       "      <td>14.027298</td>\n",
       "      <td>-499.838632</td>\n",
       "      <td>11.953070</td>\n",
       "      <td>-501.053894</td>\n",
       "      <td>9.925709</td>\n",
       "      <td>-501.686727</td>\n",
       "      <td>7.894242</td>\n",
       "      <td>-500.356035</td>\n",
       "      <td>13.996647</td>\n",
       "      <td>-601.496691</td>\n",
       "    </tr>\n",
       "    <tr>\n",
       "      <th>...</th>\n",
       "      <td>...</td>\n",
       "      <td>...</td>\n",
       "      <td>...</td>\n",
       "      <td>...</td>\n",
       "      <td>...</td>\n",
       "      <td>...</td>\n",
       "      <td>...</td>\n",
       "      <td>...</td>\n",
       "      <td>...</td>\n",
       "      <td>...</td>\n",
       "      <td>...</td>\n",
       "      <td>...</td>\n",
       "      <td>...</td>\n",
       "      <td>...</td>\n",
       "      <td>...</td>\n",
       "      <td>...</td>\n",
       "      <td>...</td>\n",
       "      <td>...</td>\n",
       "      <td>...</td>\n",
       "      <td>...</td>\n",
       "      <td>...</td>\n",
       "    </tr>\n",
       "    <tr>\n",
       "      <th>19434</th>\n",
       "      <td>2018-08-18 06:59:59</td>\n",
       "      <td>3.224920</td>\n",
       "      <td>11.356233</td>\n",
       "      <td>6.803482</td>\n",
       "      <td>46.713954</td>\n",
       "      <td>73.755150</td>\n",
       "      <td>8.769645</td>\n",
       "      <td>3.141541</td>\n",
       "      <td>10.403181</td>\n",
       "      <td>1.529220</td>\n",
       "      <td>...</td>\n",
       "      <td>23.031497</td>\n",
       "      <td>-501.167942</td>\n",
       "      <td>20.007571</td>\n",
       "      <td>-499.740028</td>\n",
       "      <td>18.006038</td>\n",
       "      <td>-499.834374</td>\n",
       "      <td>13.001114</td>\n",
       "      <td>-500.155694</td>\n",
       "      <td>20.007840</td>\n",
       "      <td>-501.296428</td>\n",
       "    </tr>\n",
       "    <tr>\n",
       "      <th>19435</th>\n",
       "      <td>2018-08-18 07:59:59</td>\n",
       "      <td>3.195978</td>\n",
       "      <td>11.349355</td>\n",
       "      <td>6.862249</td>\n",
       "      <td>46.866780</td>\n",
       "      <td>69.049291</td>\n",
       "      <td>8.897321</td>\n",
       "      <td>3.130493</td>\n",
       "      <td>10.549470</td>\n",
       "      <td>1.612542</td>\n",
       "      <td>...</td>\n",
       "      <td>22.960095</td>\n",
       "      <td>-501.612783</td>\n",
       "      <td>20.035660</td>\n",
       "      <td>-500.251357</td>\n",
       "      <td>17.998535</td>\n",
       "      <td>-500.395178</td>\n",
       "      <td>12.954048</td>\n",
       "      <td>-499.895163</td>\n",
       "      <td>19.968498</td>\n",
       "      <td>-501.041608</td>\n",
       "    </tr>\n",
       "    <tr>\n",
       "      <th>19436</th>\n",
       "      <td>2018-08-18 08:59:59</td>\n",
       "      <td>3.109998</td>\n",
       "      <td>11.434366</td>\n",
       "      <td>6.886013</td>\n",
       "      <td>46.795691</td>\n",
       "      <td>67.002189</td>\n",
       "      <td>8.529606</td>\n",
       "      <td>2.911418</td>\n",
       "      <td>11.115147</td>\n",
       "      <td>1.596616</td>\n",
       "      <td>...</td>\n",
       "      <td>23.015718</td>\n",
       "      <td>-501.711599</td>\n",
       "      <td>19.951231</td>\n",
       "      <td>-499.857027</td>\n",
       "      <td>18.019543</td>\n",
       "      <td>-500.451156</td>\n",
       "      <td>13.023431</td>\n",
       "      <td>-499.914391</td>\n",
       "      <td>19.990885</td>\n",
       "      <td>-501.518452</td>\n",
       "    </tr>\n",
       "    <tr>\n",
       "      <th>19437</th>\n",
       "      <td>2018-08-18 09:59:59</td>\n",
       "      <td>3.367241</td>\n",
       "      <td>11.625587</td>\n",
       "      <td>6.799433</td>\n",
       "      <td>46.408188</td>\n",
       "      <td>65.523246</td>\n",
       "      <td>8.777171</td>\n",
       "      <td>2.819214</td>\n",
       "      <td>10.463847</td>\n",
       "      <td>1.602879</td>\n",
       "      <td>...</td>\n",
       "      <td>23.024963</td>\n",
       "      <td>-501.153409</td>\n",
       "      <td>20.054122</td>\n",
       "      <td>-500.314711</td>\n",
       "      <td>17.979515</td>\n",
       "      <td>-499.272871</td>\n",
       "      <td>12.992404</td>\n",
       "      <td>-499.976268</td>\n",
       "      <td>20.013986</td>\n",
       "      <td>-500.625471</td>\n",
       "    </tr>\n",
       "    <tr>\n",
       "      <th>19438</th>\n",
       "      <td>2018-08-18 10:59:59</td>\n",
       "      <td>3.598375</td>\n",
       "      <td>11.737832</td>\n",
       "      <td>6.717509</td>\n",
       "      <td>46.299438</td>\n",
       "      <td>70.281454</td>\n",
       "      <td>8.406690</td>\n",
       "      <td>2.517518</td>\n",
       "      <td>10.652193</td>\n",
       "      <td>1.389434</td>\n",
       "      <td>...</td>\n",
       "      <td>23.018622</td>\n",
       "      <td>-500.492702</td>\n",
       "      <td>20.020205</td>\n",
       "      <td>-500.220296</td>\n",
       "      <td>17.963512</td>\n",
       "      <td>-499.939490</td>\n",
       "      <td>12.990306</td>\n",
       "      <td>-500.080993</td>\n",
       "      <td>19.990336</td>\n",
       "      <td>-499.191575</td>\n",
       "    </tr>\n",
       "  </tbody>\n",
       "</table>\n",
       "<p>19439 rows × 87 columns</p>\n",
       "</div>"
      ],
      "text/plain": [
       "                      date  final.output.concentrate_ag  \\\n",
       "0      2016-01-15 00:00:00                     6.055403   \n",
       "1      2016-01-15 01:00:00                     6.029369   \n",
       "2      2016-01-15 02:00:00                     6.055926   \n",
       "3      2016-01-15 03:00:00                     6.047977   \n",
       "4      2016-01-15 04:00:00                     6.148599   \n",
       "...                    ...                          ...   \n",
       "19434  2018-08-18 06:59:59                     3.224920   \n",
       "19435  2018-08-18 07:59:59                     3.195978   \n",
       "19436  2018-08-18 08:59:59                     3.109998   \n",
       "19437  2018-08-18 09:59:59                     3.367241   \n",
       "19438  2018-08-18 10:59:59                     3.598375   \n",
       "\n",
       "       final.output.concentrate_pb  final.output.concentrate_sol  \\\n",
       "0                         9.889648                      5.507324   \n",
       "1                         9.968944                      5.257781   \n",
       "2                        10.213995                      5.383759   \n",
       "3                         9.977019                      4.858634   \n",
       "4                        10.142511                      4.939416   \n",
       "...                            ...                           ...   \n",
       "19434                    11.356233                      6.803482   \n",
       "19435                    11.349355                      6.862249   \n",
       "19436                    11.434366                      6.886013   \n",
       "19437                    11.625587                      6.799433   \n",
       "19438                    11.737832                      6.717509   \n",
       "\n",
       "       final.output.concentrate_au  final.output.recovery  \\\n",
       "0                        42.192020              70.541216   \n",
       "1                        42.701629              69.266198   \n",
       "2                        42.657501              68.116445   \n",
       "3                        42.689819              68.347543   \n",
       "4                        42.774141              66.927016   \n",
       "...                            ...                    ...   \n",
       "19434                    46.713954              73.755150   \n",
       "19435                    46.866780              69.049291   \n",
       "19436                    46.795691              67.002189   \n",
       "19437                    46.408188              65.523246   \n",
       "19438                    46.299438              70.281454   \n",
       "\n",
       "       final.output.tail_ag  final.output.tail_pb  final.output.tail_sol  \\\n",
       "0                 10.411962              0.895447              16.904297   \n",
       "1                 10.462676              0.927452              16.634514   \n",
       "2                 10.507046              0.953716              16.208849   \n",
       "3                 10.422762              0.883763              16.532835   \n",
       "4                 10.360302              0.792826              16.525686   \n",
       "...                     ...                   ...                    ...   \n",
       "19434              8.769645              3.141541              10.403181   \n",
       "19435              8.897321              3.130493              10.549470   \n",
       "19436              8.529606              2.911418              11.115147   \n",
       "19437              8.777171              2.819214              10.463847   \n",
       "19438              8.406690              2.517518              10.652193   \n",
       "\n",
       "       final.output.tail_au  ...  secondary_cleaner.state.floatbank4_a_air  \\\n",
       "0                  2.143149  ...                                 14.016835   \n",
       "1                  2.224930  ...                                 13.992281   \n",
       "2                  2.257889  ...                                 14.015015   \n",
       "3                  2.146849  ...                                 14.036510   \n",
       "4                  2.055292  ...                                 14.027298   \n",
       "...                     ...  ...                                       ...   \n",
       "19434              1.529220  ...                                 23.031497   \n",
       "19435              1.612542  ...                                 22.960095   \n",
       "19436              1.596616  ...                                 23.015718   \n",
       "19437              1.602879  ...                                 23.024963   \n",
       "19438              1.389434  ...                                 23.018622   \n",
       "\n",
       "       secondary_cleaner.state.floatbank4_a_level  \\\n",
       "0                                     -502.488007   \n",
       "1                                     -505.503262   \n",
       "2                                     -502.520901   \n",
       "3                                     -500.857308   \n",
       "4                                     -499.838632   \n",
       "...                                           ...   \n",
       "19434                                 -501.167942   \n",
       "19435                                 -501.612783   \n",
       "19436                                 -501.711599   \n",
       "19437                                 -501.153409   \n",
       "19438                                 -500.492702   \n",
       "\n",
       "       secondary_cleaner.state.floatbank4_b_air  \\\n",
       "0                                     12.099931   \n",
       "1                                     11.950531   \n",
       "2                                     11.912783   \n",
       "3                                     11.999550   \n",
       "4                                     11.953070   \n",
       "...                                         ...   \n",
       "19434                                 20.007571   \n",
       "19435                                 20.035660   \n",
       "19436                                 19.951231   \n",
       "19437                                 20.054122   \n",
       "19438                                 20.020205   \n",
       "\n",
       "       secondary_cleaner.state.floatbank4_b_level  \\\n",
       "0                                     -504.715942   \n",
       "1                                     -501.331529   \n",
       "2                                     -501.133383   \n",
       "3                                     -501.193686   \n",
       "4                                     -501.053894   \n",
       "...                                           ...   \n",
       "19434                                 -499.740028   \n",
       "19435                                 -500.251357   \n",
       "19436                                 -499.857027   \n",
       "19437                                 -500.314711   \n",
       "19438                                 -500.220296   \n",
       "\n",
       "       secondary_cleaner.state.floatbank5_a_air  \\\n",
       "0                                      9.925633   \n",
       "1                                     10.039245   \n",
       "2                                     10.070913   \n",
       "3                                      9.970366   \n",
       "4                                      9.925709   \n",
       "...                                         ...   \n",
       "19434                                 18.006038   \n",
       "19435                                 17.998535   \n",
       "19436                                 18.019543   \n",
       "19437                                 17.979515   \n",
       "19438                                 17.963512   \n",
       "\n",
       "       secondary_cleaner.state.floatbank5_a_level  \\\n",
       "0                                     -498.310211   \n",
       "1                                     -500.169983   \n",
       "2                                     -500.129135   \n",
       "3                                     -499.201640   \n",
       "4                                     -501.686727   \n",
       "...                                           ...   \n",
       "19434                                 -499.834374   \n",
       "19435                                 -500.395178   \n",
       "19436                                 -500.451156   \n",
       "19437                                 -499.272871   \n",
       "19438                                 -499.939490   \n",
       "\n",
       "       secondary_cleaner.state.floatbank5_b_air  \\\n",
       "0                                      8.079666   \n",
       "1                                      7.984757   \n",
       "2                                      8.013877   \n",
       "3                                      7.977324   \n",
       "4                                      7.894242   \n",
       "...                                         ...   \n",
       "19434                                 13.001114   \n",
       "19435                                 12.954048   \n",
       "19436                                 13.023431   \n",
       "19437                                 12.992404   \n",
       "19438                                 12.990306   \n",
       "\n",
       "       secondary_cleaner.state.floatbank5_b_level  \\\n",
       "0                                     -500.470978   \n",
       "1                                     -500.582168   \n",
       "2                                     -500.517572   \n",
       "3                                     -500.255908   \n",
       "4                                     -500.356035   \n",
       "...                                           ...   \n",
       "19434                                 -500.155694   \n",
       "19435                                 -499.895163   \n",
       "19436                                 -499.914391   \n",
       "19437                                 -499.976268   \n",
       "19438                                 -500.080993   \n",
       "\n",
       "       secondary_cleaner.state.floatbank6_a_air  \\\n",
       "0                                     14.151341   \n",
       "1                                     13.998353   \n",
       "2                                     14.028663   \n",
       "3                                     14.005551   \n",
       "4                                     13.996647   \n",
       "...                                         ...   \n",
       "19434                                 20.007840   \n",
       "19435                                 19.968498   \n",
       "19436                                 19.990885   \n",
       "19437                                 20.013986   \n",
       "19438                                 19.990336   \n",
       "\n",
       "       secondary_cleaner.state.floatbank6_a_level  \n",
       "0                                     -605.841980  \n",
       "1                                     -599.787184  \n",
       "2                                     -601.427363  \n",
       "3                                     -599.996129  \n",
       "4                                     -601.496691  \n",
       "...                                           ...  \n",
       "19434                                 -501.296428  \n",
       "19435                                 -501.041608  \n",
       "19436                                 -501.518452  \n",
       "19437                                 -500.625471  \n",
       "19438                                 -499.191575  \n",
       "\n",
       "[19439 rows x 87 columns]"
      ]
     },
     "execution_count": 2,
     "metadata": {},
     "output_type": "execute_result"
    }
   ],
   "source": [
    "df_full = pd.read_csv('/datasets/gold_recovery_full_new.csv')\n",
    "df_full"
   ]
  },
  {
   "cell_type": "code",
   "execution_count": 3,
   "metadata": {},
   "outputs": [
    {
     "data": {
      "text/plain": [
       "date                                            0\n",
       "final.output.concentrate_ag                     1\n",
       "final.output.concentrate_pb                     1\n",
       "final.output.concentrate_sol                  211\n",
       "final.output.concentrate_au                     0\n",
       "                                             ... \n",
       "secondary_cleaner.state.floatbank5_a_level      1\n",
       "secondary_cleaner.state.floatbank5_b_air        1\n",
       "secondary_cleaner.state.floatbank5_b_level      1\n",
       "secondary_cleaner.state.floatbank6_a_air        2\n",
       "secondary_cleaner.state.floatbank6_a_level      1\n",
       "Length: 87, dtype: int64"
      ]
     },
     "execution_count": 3,
     "metadata": {},
     "output_type": "execute_result"
    }
   ],
   "source": [
    "df_full.isna().sum()"
   ]
  },
  {
   "cell_type": "markdown",
   "metadata": {},
   "source": [
    "Так как данные взятые близко друг к другу по времени близки (по условию задачи), заполним пропуски значениями из сосоедней строки:\n"
   ]
  },
  {
   "cell_type": "code",
   "execution_count": 4,
   "metadata": {},
   "outputs": [
    {
     "data": {
      "text/plain": [
       "date                                          0\n",
       "final.output.concentrate_ag                   0\n",
       "final.output.concentrate_pb                   0\n",
       "final.output.concentrate_sol                  0\n",
       "final.output.concentrate_au                   0\n",
       "                                             ..\n",
       "secondary_cleaner.state.floatbank5_a_level    0\n",
       "secondary_cleaner.state.floatbank5_b_air      0\n",
       "secondary_cleaner.state.floatbank5_b_level    0\n",
       "secondary_cleaner.state.floatbank6_a_air      0\n",
       "secondary_cleaner.state.floatbank6_a_level    0\n",
       "Length: 87, dtype: int64"
      ]
     },
     "execution_count": 4,
     "metadata": {},
     "output_type": "execute_result"
    }
   ],
   "source": [
    "df_full = df_full.ffill(axis=0)\n",
    "df_full.isna().sum()"
   ]
  },
  {
   "cell_type": "code",
   "execution_count": 5,
   "metadata": {},
   "outputs": [
    {
     "data": {
      "text/plain": [
       "Index(['date', 'final.output.concentrate_ag', 'final.output.concentrate_pb',\n",
       "       'final.output.concentrate_sol', 'final.output.concentrate_au',\n",
       "       'final.output.recovery', 'final.output.tail_ag', 'final.output.tail_pb',\n",
       "       'final.output.tail_sol', 'final.output.tail_au',\n",
       "       'primary_cleaner.input.sulfate', 'primary_cleaner.input.depressant',\n",
       "       'primary_cleaner.input.feed_size', 'primary_cleaner.input.xanthate',\n",
       "       'primary_cleaner.output.concentrate_ag',\n",
       "       'primary_cleaner.output.concentrate_pb',\n",
       "       'primary_cleaner.output.concentrate_sol',\n",
       "       'primary_cleaner.output.concentrate_au',\n",
       "       'primary_cleaner.output.tail_ag', 'primary_cleaner.output.tail_pb',\n",
       "       'primary_cleaner.output.tail_sol', 'primary_cleaner.output.tail_au',\n",
       "       'primary_cleaner.state.floatbank8_a_air',\n",
       "       'primary_cleaner.state.floatbank8_a_level',\n",
       "       'primary_cleaner.state.floatbank8_b_air',\n",
       "       'primary_cleaner.state.floatbank8_b_level',\n",
       "       'primary_cleaner.state.floatbank8_c_air',\n",
       "       'primary_cleaner.state.floatbank8_c_level',\n",
       "       'primary_cleaner.state.floatbank8_d_air',\n",
       "       'primary_cleaner.state.floatbank8_d_level',\n",
       "       'rougher.calculation.sulfate_to_au_concentrate',\n",
       "       'rougher.calculation.floatbank10_sulfate_to_au_feed',\n",
       "       'rougher.calculation.floatbank11_sulfate_to_au_feed',\n",
       "       'rougher.calculation.au_pb_ratio', 'rougher.input.feed_ag',\n",
       "       'rougher.input.feed_pb', 'rougher.input.feed_rate',\n",
       "       'rougher.input.feed_size', 'rougher.input.feed_sol',\n",
       "       'rougher.input.feed_au', 'rougher.input.floatbank10_sulfate',\n",
       "       'rougher.input.floatbank10_xanthate',\n",
       "       'rougher.input.floatbank11_sulfate',\n",
       "       'rougher.input.floatbank11_xanthate', 'rougher.output.concentrate_ag',\n",
       "       'rougher.output.concentrate_pb', 'rougher.output.concentrate_sol',\n",
       "       'rougher.output.concentrate_au', 'rougher.output.recovery',\n",
       "       'rougher.output.tail_ag', 'rougher.output.tail_pb',\n",
       "       'rougher.output.tail_sol', 'rougher.output.tail_au',\n",
       "       'rougher.state.floatbank10_a_air', 'rougher.state.floatbank10_a_level',\n",
       "       'rougher.state.floatbank10_b_air', 'rougher.state.floatbank10_b_level',\n",
       "       'rougher.state.floatbank10_c_air', 'rougher.state.floatbank10_c_level',\n",
       "       'rougher.state.floatbank10_d_air', 'rougher.state.floatbank10_d_level',\n",
       "       'rougher.state.floatbank10_e_air', 'rougher.state.floatbank10_e_level',\n",
       "       'rougher.state.floatbank10_f_air', 'rougher.state.floatbank10_f_level',\n",
       "       'secondary_cleaner.output.tail_ag', 'secondary_cleaner.output.tail_pb',\n",
       "       'secondary_cleaner.output.tail_sol', 'secondary_cleaner.output.tail_au',\n",
       "       'secondary_cleaner.state.floatbank2_a_air',\n",
       "       'secondary_cleaner.state.floatbank2_a_level',\n",
       "       'secondary_cleaner.state.floatbank2_b_air',\n",
       "       'secondary_cleaner.state.floatbank2_b_level',\n",
       "       'secondary_cleaner.state.floatbank3_a_air',\n",
       "       'secondary_cleaner.state.floatbank3_a_level',\n",
       "       'secondary_cleaner.state.floatbank3_b_air',\n",
       "       'secondary_cleaner.state.floatbank3_b_level',\n",
       "       'secondary_cleaner.state.floatbank4_a_air',\n",
       "       'secondary_cleaner.state.floatbank4_a_level',\n",
       "       'secondary_cleaner.state.floatbank4_b_air',\n",
       "       'secondary_cleaner.state.floatbank4_b_level',\n",
       "       'secondary_cleaner.state.floatbank5_a_air',\n",
       "       'secondary_cleaner.state.floatbank5_a_level',\n",
       "       'secondary_cleaner.state.floatbank5_b_air',\n",
       "       'secondary_cleaner.state.floatbank5_b_level',\n",
       "       'secondary_cleaner.state.floatbank6_a_air',\n",
       "       'secondary_cleaner.state.floatbank6_a_level'],\n",
       "      dtype='object')"
      ]
     },
     "execution_count": 5,
     "metadata": {},
     "output_type": "execute_result"
    }
   ],
   "source": [
    "df_full.columns"
   ]
  },
  {
   "cell_type": "code",
   "execution_count": 6,
   "metadata": {
    "scrolled": true
   },
   "outputs": [
    {
     "name": "stdout",
     "output_type": "stream",
     "text": [
      "<class 'pandas.core.frame.DataFrame'>\n",
      "RangeIndex: 19439 entries, 0 to 19438\n",
      "Data columns (total 87 columns):\n",
      " #   Column                                              Non-Null Count  Dtype  \n",
      "---  ------                                              --------------  -----  \n",
      " 0   date                                                19439 non-null  object \n",
      " 1   final.output.concentrate_ag                         19439 non-null  float64\n",
      " 2   final.output.concentrate_pb                         19439 non-null  float64\n",
      " 3   final.output.concentrate_sol                        19439 non-null  float64\n",
      " 4   final.output.concentrate_au                         19439 non-null  float64\n",
      " 5   final.output.recovery                               19439 non-null  float64\n",
      " 6   final.output.tail_ag                                19439 non-null  float64\n",
      " 7   final.output.tail_pb                                19439 non-null  float64\n",
      " 8   final.output.tail_sol                               19439 non-null  float64\n",
      " 9   final.output.tail_au                                19439 non-null  float64\n",
      " 10  primary_cleaner.input.sulfate                       19439 non-null  float64\n",
      " 11  primary_cleaner.input.depressant                    19439 non-null  float64\n",
      " 12  primary_cleaner.input.feed_size                     19439 non-null  float64\n",
      " 13  primary_cleaner.input.xanthate                      19439 non-null  float64\n",
      " 14  primary_cleaner.output.concentrate_ag               19439 non-null  float64\n",
      " 15  primary_cleaner.output.concentrate_pb               19439 non-null  float64\n",
      " 16  primary_cleaner.output.concentrate_sol              19439 non-null  float64\n",
      " 17  primary_cleaner.output.concentrate_au               19439 non-null  float64\n",
      " 18  primary_cleaner.output.tail_ag                      19439 non-null  float64\n",
      " 19  primary_cleaner.output.tail_pb                      19439 non-null  float64\n",
      " 20  primary_cleaner.output.tail_sol                     19439 non-null  float64\n",
      " 21  primary_cleaner.output.tail_au                      19439 non-null  float64\n",
      " 22  primary_cleaner.state.floatbank8_a_air              19439 non-null  float64\n",
      " 23  primary_cleaner.state.floatbank8_a_level            19439 non-null  float64\n",
      " 24  primary_cleaner.state.floatbank8_b_air              19439 non-null  float64\n",
      " 25  primary_cleaner.state.floatbank8_b_level            19439 non-null  float64\n",
      " 26  primary_cleaner.state.floatbank8_c_air              19439 non-null  float64\n",
      " 27  primary_cleaner.state.floatbank8_c_level            19439 non-null  float64\n",
      " 28  primary_cleaner.state.floatbank8_d_air              19439 non-null  float64\n",
      " 29  primary_cleaner.state.floatbank8_d_level            19439 non-null  float64\n",
      " 30  rougher.calculation.sulfate_to_au_concentrate       19439 non-null  float64\n",
      " 31  rougher.calculation.floatbank10_sulfate_to_au_feed  19439 non-null  float64\n",
      " 32  rougher.calculation.floatbank11_sulfate_to_au_feed  19439 non-null  float64\n",
      " 33  rougher.calculation.au_pb_ratio                     19439 non-null  float64\n",
      " 34  rougher.input.feed_ag                               19439 non-null  float64\n",
      " 35  rougher.input.feed_pb                               19439 non-null  float64\n",
      " 36  rougher.input.feed_rate                             19439 non-null  float64\n",
      " 37  rougher.input.feed_size                             19439 non-null  float64\n",
      " 38  rougher.input.feed_sol                              19439 non-null  float64\n",
      " 39  rougher.input.feed_au                               19439 non-null  float64\n",
      " 40  rougher.input.floatbank10_sulfate                   19439 non-null  float64\n",
      " 41  rougher.input.floatbank10_xanthate                  19439 non-null  float64\n",
      " 42  rougher.input.floatbank11_sulfate                   19439 non-null  float64\n",
      " 43  rougher.input.floatbank11_xanthate                  19439 non-null  float64\n",
      " 44  rougher.output.concentrate_ag                       19439 non-null  float64\n",
      " 45  rougher.output.concentrate_pb                       19439 non-null  float64\n",
      " 46  rougher.output.concentrate_sol                      19439 non-null  float64\n",
      " 47  rougher.output.concentrate_au                       19439 non-null  float64\n",
      " 48  rougher.output.recovery                             19439 non-null  float64\n",
      " 49  rougher.output.tail_ag                              19439 non-null  float64\n",
      " 50  rougher.output.tail_pb                              19439 non-null  float64\n",
      " 51  rougher.output.tail_sol                             19439 non-null  float64\n",
      " 52  rougher.output.tail_au                              19439 non-null  float64\n",
      " 53  rougher.state.floatbank10_a_air                     19439 non-null  float64\n",
      " 54  rougher.state.floatbank10_a_level                   19439 non-null  float64\n",
      " 55  rougher.state.floatbank10_b_air                     19439 non-null  float64\n",
      " 56  rougher.state.floatbank10_b_level                   19439 non-null  float64\n",
      " 57  rougher.state.floatbank10_c_air                     19439 non-null  float64\n",
      " 58  rougher.state.floatbank10_c_level                   19439 non-null  float64\n",
      " 59  rougher.state.floatbank10_d_air                     19439 non-null  float64\n",
      " 60  rougher.state.floatbank10_d_level                   19439 non-null  float64\n",
      " 61  rougher.state.floatbank10_e_air                     19439 non-null  float64\n",
      " 62  rougher.state.floatbank10_e_level                   19439 non-null  float64\n",
      " 63  rougher.state.floatbank10_f_air                     19439 non-null  float64\n",
      " 64  rougher.state.floatbank10_f_level                   19439 non-null  float64\n",
      " 65  secondary_cleaner.output.tail_ag                    19439 non-null  float64\n",
      " 66  secondary_cleaner.output.tail_pb                    19439 non-null  float64\n",
      " 67  secondary_cleaner.output.tail_sol                   19439 non-null  float64\n",
      " 68  secondary_cleaner.output.tail_au                    19439 non-null  float64\n",
      " 69  secondary_cleaner.state.floatbank2_a_air            19439 non-null  float64\n",
      " 70  secondary_cleaner.state.floatbank2_a_level          19439 non-null  float64\n",
      " 71  secondary_cleaner.state.floatbank2_b_air            19439 non-null  float64\n",
      " 72  secondary_cleaner.state.floatbank2_b_level          19439 non-null  float64\n",
      " 73  secondary_cleaner.state.floatbank3_a_air            19439 non-null  float64\n",
      " 74  secondary_cleaner.state.floatbank3_a_level          19439 non-null  float64\n",
      " 75  secondary_cleaner.state.floatbank3_b_air            19439 non-null  float64\n",
      " 76  secondary_cleaner.state.floatbank3_b_level          19439 non-null  float64\n",
      " 77  secondary_cleaner.state.floatbank4_a_air            19439 non-null  float64\n",
      " 78  secondary_cleaner.state.floatbank4_a_level          19439 non-null  float64\n",
      " 79  secondary_cleaner.state.floatbank4_b_air            19439 non-null  float64\n",
      " 80  secondary_cleaner.state.floatbank4_b_level          19439 non-null  float64\n",
      " 81  secondary_cleaner.state.floatbank5_a_air            19439 non-null  float64\n",
      " 82  secondary_cleaner.state.floatbank5_a_level          19439 non-null  float64\n",
      " 83  secondary_cleaner.state.floatbank5_b_air            19439 non-null  float64\n",
      " 84  secondary_cleaner.state.floatbank5_b_level          19439 non-null  float64\n",
      " 85  secondary_cleaner.state.floatbank6_a_air            19439 non-null  float64\n",
      " 86  secondary_cleaner.state.floatbank6_a_level          19439 non-null  float64\n",
      "dtypes: float64(86), object(1)\n",
      "memory usage: 12.9+ MB\n"
     ]
    }
   ],
   "source": [
    "# посмотри на типы данных\n",
    "df_full.info()"
   ]
  },
  {
   "cell_type": "code",
   "execution_count": 7,
   "metadata": {
    "scrolled": true
   },
   "outputs": [
    {
     "data": {
      "text/html": [
       "<div>\n",
       "<style scoped>\n",
       "    .dataframe tbody tr th:only-of-type {\n",
       "        vertical-align: middle;\n",
       "    }\n",
       "\n",
       "    .dataframe tbody tr th {\n",
       "        vertical-align: top;\n",
       "    }\n",
       "\n",
       "    .dataframe thead th {\n",
       "        text-align: right;\n",
       "    }\n",
       "</style>\n",
       "<table border=\"1\" class=\"dataframe\">\n",
       "  <thead>\n",
       "    <tr style=\"text-align: right;\">\n",
       "      <th></th>\n",
       "      <th>date</th>\n",
       "      <th>final.output.concentrate_ag</th>\n",
       "      <th>final.output.concentrate_pb</th>\n",
       "      <th>final.output.concentrate_sol</th>\n",
       "      <th>final.output.concentrate_au</th>\n",
       "      <th>final.output.recovery</th>\n",
       "      <th>final.output.tail_ag</th>\n",
       "      <th>final.output.tail_pb</th>\n",
       "      <th>final.output.tail_sol</th>\n",
       "      <th>final.output.tail_au</th>\n",
       "      <th>...</th>\n",
       "      <th>secondary_cleaner.state.floatbank4_a_air</th>\n",
       "      <th>secondary_cleaner.state.floatbank4_a_level</th>\n",
       "      <th>secondary_cleaner.state.floatbank4_b_air</th>\n",
       "      <th>secondary_cleaner.state.floatbank4_b_level</th>\n",
       "      <th>secondary_cleaner.state.floatbank5_a_air</th>\n",
       "      <th>secondary_cleaner.state.floatbank5_a_level</th>\n",
       "      <th>secondary_cleaner.state.floatbank5_b_air</th>\n",
       "      <th>secondary_cleaner.state.floatbank5_b_level</th>\n",
       "      <th>secondary_cleaner.state.floatbank6_a_air</th>\n",
       "      <th>secondary_cleaner.state.floatbank6_a_level</th>\n",
       "    </tr>\n",
       "  </thead>\n",
       "  <tbody>\n",
       "    <tr>\n",
       "      <th>0</th>\n",
       "      <td>2016-01-15 00:00:00</td>\n",
       "      <td>6.055403</td>\n",
       "      <td>9.889648</td>\n",
       "      <td>5.507324</td>\n",
       "      <td>42.192020</td>\n",
       "      <td>70.541216</td>\n",
       "      <td>10.411962</td>\n",
       "      <td>0.895447</td>\n",
       "      <td>16.904297</td>\n",
       "      <td>2.143149</td>\n",
       "      <td>...</td>\n",
       "      <td>14.016835</td>\n",
       "      <td>-502.488007</td>\n",
       "      <td>12.099931</td>\n",
       "      <td>-504.715942</td>\n",
       "      <td>9.925633</td>\n",
       "      <td>-498.310211</td>\n",
       "      <td>8.079666</td>\n",
       "      <td>-500.470978</td>\n",
       "      <td>14.151341</td>\n",
       "      <td>-605.841980</td>\n",
       "    </tr>\n",
       "    <tr>\n",
       "      <th>1</th>\n",
       "      <td>2016-01-15 01:00:00</td>\n",
       "      <td>6.029369</td>\n",
       "      <td>9.968944</td>\n",
       "      <td>5.257781</td>\n",
       "      <td>42.701629</td>\n",
       "      <td>69.266198</td>\n",
       "      <td>10.462676</td>\n",
       "      <td>0.927452</td>\n",
       "      <td>16.634514</td>\n",
       "      <td>2.224930</td>\n",
       "      <td>...</td>\n",
       "      <td>13.992281</td>\n",
       "      <td>-505.503262</td>\n",
       "      <td>11.950531</td>\n",
       "      <td>-501.331529</td>\n",
       "      <td>10.039245</td>\n",
       "      <td>-500.169983</td>\n",
       "      <td>7.984757</td>\n",
       "      <td>-500.582168</td>\n",
       "      <td>13.998353</td>\n",
       "      <td>-599.787184</td>\n",
       "    </tr>\n",
       "    <tr>\n",
       "      <th>2</th>\n",
       "      <td>2016-01-15 02:00:00</td>\n",
       "      <td>6.055926</td>\n",
       "      <td>10.213995</td>\n",
       "      <td>5.383759</td>\n",
       "      <td>42.657501</td>\n",
       "      <td>68.116445</td>\n",
       "      <td>10.507046</td>\n",
       "      <td>0.953716</td>\n",
       "      <td>16.208849</td>\n",
       "      <td>2.257889</td>\n",
       "      <td>...</td>\n",
       "      <td>14.015015</td>\n",
       "      <td>-502.520901</td>\n",
       "      <td>11.912783</td>\n",
       "      <td>-501.133383</td>\n",
       "      <td>10.070913</td>\n",
       "      <td>-500.129135</td>\n",
       "      <td>8.013877</td>\n",
       "      <td>-500.517572</td>\n",
       "      <td>14.028663</td>\n",
       "      <td>-601.427363</td>\n",
       "    </tr>\n",
       "    <tr>\n",
       "      <th>3</th>\n",
       "      <td>2016-01-15 03:00:00</td>\n",
       "      <td>6.047977</td>\n",
       "      <td>9.977019</td>\n",
       "      <td>4.858634</td>\n",
       "      <td>42.689819</td>\n",
       "      <td>68.347543</td>\n",
       "      <td>10.422762</td>\n",
       "      <td>0.883763</td>\n",
       "      <td>16.532835</td>\n",
       "      <td>2.146849</td>\n",
       "      <td>...</td>\n",
       "      <td>14.036510</td>\n",
       "      <td>-500.857308</td>\n",
       "      <td>11.999550</td>\n",
       "      <td>-501.193686</td>\n",
       "      <td>9.970366</td>\n",
       "      <td>-499.201640</td>\n",
       "      <td>7.977324</td>\n",
       "      <td>-500.255908</td>\n",
       "      <td>14.005551</td>\n",
       "      <td>-599.996129</td>\n",
       "    </tr>\n",
       "    <tr>\n",
       "      <th>4</th>\n",
       "      <td>2016-01-15 04:00:00</td>\n",
       "      <td>6.148599</td>\n",
       "      <td>10.142511</td>\n",
       "      <td>4.939416</td>\n",
       "      <td>42.774141</td>\n",
       "      <td>66.927016</td>\n",
       "      <td>10.360302</td>\n",
       "      <td>0.792826</td>\n",
       "      <td>16.525686</td>\n",
       "      <td>2.055292</td>\n",
       "      <td>...</td>\n",
       "      <td>14.027298</td>\n",
       "      <td>-499.838632</td>\n",
       "      <td>11.953070</td>\n",
       "      <td>-501.053894</td>\n",
       "      <td>9.925709</td>\n",
       "      <td>-501.686727</td>\n",
       "      <td>7.894242</td>\n",
       "      <td>-500.356035</td>\n",
       "      <td>13.996647</td>\n",
       "      <td>-601.496691</td>\n",
       "    </tr>\n",
       "    <tr>\n",
       "      <th>...</th>\n",
       "      <td>...</td>\n",
       "      <td>...</td>\n",
       "      <td>...</td>\n",
       "      <td>...</td>\n",
       "      <td>...</td>\n",
       "      <td>...</td>\n",
       "      <td>...</td>\n",
       "      <td>...</td>\n",
       "      <td>...</td>\n",
       "      <td>...</td>\n",
       "      <td>...</td>\n",
       "      <td>...</td>\n",
       "      <td>...</td>\n",
       "      <td>...</td>\n",
       "      <td>...</td>\n",
       "      <td>...</td>\n",
       "      <td>...</td>\n",
       "      <td>...</td>\n",
       "      <td>...</td>\n",
       "      <td>...</td>\n",
       "      <td>...</td>\n",
       "    </tr>\n",
       "    <tr>\n",
       "      <th>14144</th>\n",
       "      <td>2018-08-18 06:59:59</td>\n",
       "      <td>3.224920</td>\n",
       "      <td>11.356233</td>\n",
       "      <td>6.803482</td>\n",
       "      <td>46.713954</td>\n",
       "      <td>73.755150</td>\n",
       "      <td>8.769645</td>\n",
       "      <td>3.141541</td>\n",
       "      <td>10.403181</td>\n",
       "      <td>1.529220</td>\n",
       "      <td>...</td>\n",
       "      <td>23.031497</td>\n",
       "      <td>-501.167942</td>\n",
       "      <td>20.007571</td>\n",
       "      <td>-499.740028</td>\n",
       "      <td>18.006038</td>\n",
       "      <td>-499.834374</td>\n",
       "      <td>13.001114</td>\n",
       "      <td>-500.155694</td>\n",
       "      <td>20.007840</td>\n",
       "      <td>-501.296428</td>\n",
       "    </tr>\n",
       "    <tr>\n",
       "      <th>14145</th>\n",
       "      <td>2018-08-18 07:59:59</td>\n",
       "      <td>3.195978</td>\n",
       "      <td>11.349355</td>\n",
       "      <td>6.862249</td>\n",
       "      <td>46.866780</td>\n",
       "      <td>69.049291</td>\n",
       "      <td>8.897321</td>\n",
       "      <td>3.130493</td>\n",
       "      <td>10.549470</td>\n",
       "      <td>1.612542</td>\n",
       "      <td>...</td>\n",
       "      <td>22.960095</td>\n",
       "      <td>-501.612783</td>\n",
       "      <td>20.035660</td>\n",
       "      <td>-500.251357</td>\n",
       "      <td>17.998535</td>\n",
       "      <td>-500.395178</td>\n",
       "      <td>12.954048</td>\n",
       "      <td>-499.895163</td>\n",
       "      <td>19.968498</td>\n",
       "      <td>-501.041608</td>\n",
       "    </tr>\n",
       "    <tr>\n",
       "      <th>14146</th>\n",
       "      <td>2018-08-18 08:59:59</td>\n",
       "      <td>3.109998</td>\n",
       "      <td>11.434366</td>\n",
       "      <td>6.886013</td>\n",
       "      <td>46.795691</td>\n",
       "      <td>67.002189</td>\n",
       "      <td>8.529606</td>\n",
       "      <td>2.911418</td>\n",
       "      <td>11.115147</td>\n",
       "      <td>1.596616</td>\n",
       "      <td>...</td>\n",
       "      <td>23.015718</td>\n",
       "      <td>-501.711599</td>\n",
       "      <td>19.951231</td>\n",
       "      <td>-499.857027</td>\n",
       "      <td>18.019543</td>\n",
       "      <td>-500.451156</td>\n",
       "      <td>13.023431</td>\n",
       "      <td>-499.914391</td>\n",
       "      <td>19.990885</td>\n",
       "      <td>-501.518452</td>\n",
       "    </tr>\n",
       "    <tr>\n",
       "      <th>14147</th>\n",
       "      <td>2018-08-18 09:59:59</td>\n",
       "      <td>3.367241</td>\n",
       "      <td>11.625587</td>\n",
       "      <td>6.799433</td>\n",
       "      <td>46.408188</td>\n",
       "      <td>65.523246</td>\n",
       "      <td>8.777171</td>\n",
       "      <td>2.819214</td>\n",
       "      <td>10.463847</td>\n",
       "      <td>1.602879</td>\n",
       "      <td>...</td>\n",
       "      <td>23.024963</td>\n",
       "      <td>-501.153409</td>\n",
       "      <td>20.054122</td>\n",
       "      <td>-500.314711</td>\n",
       "      <td>17.979515</td>\n",
       "      <td>-499.272871</td>\n",
       "      <td>12.992404</td>\n",
       "      <td>-499.976268</td>\n",
       "      <td>20.013986</td>\n",
       "      <td>-500.625471</td>\n",
       "    </tr>\n",
       "    <tr>\n",
       "      <th>14148</th>\n",
       "      <td>2018-08-18 10:59:59</td>\n",
       "      <td>3.598375</td>\n",
       "      <td>11.737832</td>\n",
       "      <td>6.717509</td>\n",
       "      <td>46.299438</td>\n",
       "      <td>70.281454</td>\n",
       "      <td>8.406690</td>\n",
       "      <td>2.517518</td>\n",
       "      <td>10.652193</td>\n",
       "      <td>1.389434</td>\n",
       "      <td>...</td>\n",
       "      <td>23.018622</td>\n",
       "      <td>-500.492702</td>\n",
       "      <td>20.020205</td>\n",
       "      <td>-500.220296</td>\n",
       "      <td>17.963512</td>\n",
       "      <td>-499.939490</td>\n",
       "      <td>12.990306</td>\n",
       "      <td>-500.080993</td>\n",
       "      <td>19.990336</td>\n",
       "      <td>-499.191575</td>\n",
       "    </tr>\n",
       "  </tbody>\n",
       "</table>\n",
       "<p>14149 rows × 87 columns</p>\n",
       "</div>"
      ],
      "text/plain": [
       "                      date  final.output.concentrate_ag  \\\n",
       "0      2016-01-15 00:00:00                     6.055403   \n",
       "1      2016-01-15 01:00:00                     6.029369   \n",
       "2      2016-01-15 02:00:00                     6.055926   \n",
       "3      2016-01-15 03:00:00                     6.047977   \n",
       "4      2016-01-15 04:00:00                     6.148599   \n",
       "...                    ...                          ...   \n",
       "14144  2018-08-18 06:59:59                     3.224920   \n",
       "14145  2018-08-18 07:59:59                     3.195978   \n",
       "14146  2018-08-18 08:59:59                     3.109998   \n",
       "14147  2018-08-18 09:59:59                     3.367241   \n",
       "14148  2018-08-18 10:59:59                     3.598375   \n",
       "\n",
       "       final.output.concentrate_pb  final.output.concentrate_sol  \\\n",
       "0                         9.889648                      5.507324   \n",
       "1                         9.968944                      5.257781   \n",
       "2                        10.213995                      5.383759   \n",
       "3                         9.977019                      4.858634   \n",
       "4                        10.142511                      4.939416   \n",
       "...                            ...                           ...   \n",
       "14144                    11.356233                      6.803482   \n",
       "14145                    11.349355                      6.862249   \n",
       "14146                    11.434366                      6.886013   \n",
       "14147                    11.625587                      6.799433   \n",
       "14148                    11.737832                      6.717509   \n",
       "\n",
       "       final.output.concentrate_au  final.output.recovery  \\\n",
       "0                        42.192020              70.541216   \n",
       "1                        42.701629              69.266198   \n",
       "2                        42.657501              68.116445   \n",
       "3                        42.689819              68.347543   \n",
       "4                        42.774141              66.927016   \n",
       "...                            ...                    ...   \n",
       "14144                    46.713954              73.755150   \n",
       "14145                    46.866780              69.049291   \n",
       "14146                    46.795691              67.002189   \n",
       "14147                    46.408188              65.523246   \n",
       "14148                    46.299438              70.281454   \n",
       "\n",
       "       final.output.tail_ag  final.output.tail_pb  final.output.tail_sol  \\\n",
       "0                 10.411962              0.895447              16.904297   \n",
       "1                 10.462676              0.927452              16.634514   \n",
       "2                 10.507046              0.953716              16.208849   \n",
       "3                 10.422762              0.883763              16.532835   \n",
       "4                 10.360302              0.792826              16.525686   \n",
       "...                     ...                   ...                    ...   \n",
       "14144              8.769645              3.141541              10.403181   \n",
       "14145              8.897321              3.130493              10.549470   \n",
       "14146              8.529606              2.911418              11.115147   \n",
       "14147              8.777171              2.819214              10.463847   \n",
       "14148              8.406690              2.517518              10.652193   \n",
       "\n",
       "       final.output.tail_au  ...  secondary_cleaner.state.floatbank4_a_air  \\\n",
       "0                  2.143149  ...                                 14.016835   \n",
       "1                  2.224930  ...                                 13.992281   \n",
       "2                  2.257889  ...                                 14.015015   \n",
       "3                  2.146849  ...                                 14.036510   \n",
       "4                  2.055292  ...                                 14.027298   \n",
       "...                     ...  ...                                       ...   \n",
       "14144              1.529220  ...                                 23.031497   \n",
       "14145              1.612542  ...                                 22.960095   \n",
       "14146              1.596616  ...                                 23.015718   \n",
       "14147              1.602879  ...                                 23.024963   \n",
       "14148              1.389434  ...                                 23.018622   \n",
       "\n",
       "       secondary_cleaner.state.floatbank4_a_level  \\\n",
       "0                                     -502.488007   \n",
       "1                                     -505.503262   \n",
       "2                                     -502.520901   \n",
       "3                                     -500.857308   \n",
       "4                                     -499.838632   \n",
       "...                                           ...   \n",
       "14144                                 -501.167942   \n",
       "14145                                 -501.612783   \n",
       "14146                                 -501.711599   \n",
       "14147                                 -501.153409   \n",
       "14148                                 -500.492702   \n",
       "\n",
       "       secondary_cleaner.state.floatbank4_b_air  \\\n",
       "0                                     12.099931   \n",
       "1                                     11.950531   \n",
       "2                                     11.912783   \n",
       "3                                     11.999550   \n",
       "4                                     11.953070   \n",
       "...                                         ...   \n",
       "14144                                 20.007571   \n",
       "14145                                 20.035660   \n",
       "14146                                 19.951231   \n",
       "14147                                 20.054122   \n",
       "14148                                 20.020205   \n",
       "\n",
       "       secondary_cleaner.state.floatbank4_b_level  \\\n",
       "0                                     -504.715942   \n",
       "1                                     -501.331529   \n",
       "2                                     -501.133383   \n",
       "3                                     -501.193686   \n",
       "4                                     -501.053894   \n",
       "...                                           ...   \n",
       "14144                                 -499.740028   \n",
       "14145                                 -500.251357   \n",
       "14146                                 -499.857027   \n",
       "14147                                 -500.314711   \n",
       "14148                                 -500.220296   \n",
       "\n",
       "       secondary_cleaner.state.floatbank5_a_air  \\\n",
       "0                                      9.925633   \n",
       "1                                     10.039245   \n",
       "2                                     10.070913   \n",
       "3                                      9.970366   \n",
       "4                                      9.925709   \n",
       "...                                         ...   \n",
       "14144                                 18.006038   \n",
       "14145                                 17.998535   \n",
       "14146                                 18.019543   \n",
       "14147                                 17.979515   \n",
       "14148                                 17.963512   \n",
       "\n",
       "       secondary_cleaner.state.floatbank5_a_level  \\\n",
       "0                                     -498.310211   \n",
       "1                                     -500.169983   \n",
       "2                                     -500.129135   \n",
       "3                                     -499.201640   \n",
       "4                                     -501.686727   \n",
       "...                                           ...   \n",
       "14144                                 -499.834374   \n",
       "14145                                 -500.395178   \n",
       "14146                                 -500.451156   \n",
       "14147                                 -499.272871   \n",
       "14148                                 -499.939490   \n",
       "\n",
       "       secondary_cleaner.state.floatbank5_b_air  \\\n",
       "0                                      8.079666   \n",
       "1                                      7.984757   \n",
       "2                                      8.013877   \n",
       "3                                      7.977324   \n",
       "4                                      7.894242   \n",
       "...                                         ...   \n",
       "14144                                 13.001114   \n",
       "14145                                 12.954048   \n",
       "14146                                 13.023431   \n",
       "14147                                 12.992404   \n",
       "14148                                 12.990306   \n",
       "\n",
       "       secondary_cleaner.state.floatbank5_b_level  \\\n",
       "0                                     -500.470978   \n",
       "1                                     -500.582168   \n",
       "2                                     -500.517572   \n",
       "3                                     -500.255908   \n",
       "4                                     -500.356035   \n",
       "...                                           ...   \n",
       "14144                                 -500.155694   \n",
       "14145                                 -499.895163   \n",
       "14146                                 -499.914391   \n",
       "14147                                 -499.976268   \n",
       "14148                                 -500.080993   \n",
       "\n",
       "       secondary_cleaner.state.floatbank6_a_air  \\\n",
       "0                                     14.151341   \n",
       "1                                     13.998353   \n",
       "2                                     14.028663   \n",
       "3                                     14.005551   \n",
       "4                                     13.996647   \n",
       "...                                         ...   \n",
       "14144                                 20.007840   \n",
       "14145                                 19.968498   \n",
       "14146                                 19.990885   \n",
       "14147                                 20.013986   \n",
       "14148                                 19.990336   \n",
       "\n",
       "       secondary_cleaner.state.floatbank6_a_level  \n",
       "0                                     -605.841980  \n",
       "1                                     -599.787184  \n",
       "2                                     -601.427363  \n",
       "3                                     -599.996129  \n",
       "4                                     -601.496691  \n",
       "...                                           ...  \n",
       "14144                                 -501.296428  \n",
       "14145                                 -501.041608  \n",
       "14146                                 -501.518452  \n",
       "14147                                 -500.625471  \n",
       "14148                                 -499.191575  \n",
       "\n",
       "[14149 rows x 87 columns]"
      ]
     },
     "execution_count": 7,
     "metadata": {},
     "output_type": "execute_result"
    }
   ],
   "source": [
    "# Рассмотрим обучающие данные\n",
    "df_train = pd.read_csv('/datasets/gold_recovery_train_new.csv')\n",
    "df_train"
   ]
  },
  {
   "cell_type": "code",
   "execution_count": 8,
   "metadata": {},
   "outputs": [
    {
     "data": {
      "text/plain": [
       "date                                          0\n",
       "final.output.concentrate_ag                   0\n",
       "final.output.concentrate_pb                   0\n",
       "final.output.concentrate_sol                  0\n",
       "final.output.concentrate_au                   0\n",
       "                                             ..\n",
       "secondary_cleaner.state.floatbank5_a_level    0\n",
       "secondary_cleaner.state.floatbank5_b_air      0\n",
       "secondary_cleaner.state.floatbank5_b_level    0\n",
       "secondary_cleaner.state.floatbank6_a_air      0\n",
       "secondary_cleaner.state.floatbank6_a_level    0\n",
       "Length: 87, dtype: int64"
      ]
     },
     "execution_count": 8,
     "metadata": {},
     "output_type": "execute_result"
    }
   ],
   "source": [
    "df_train = df_train.ffill(axis=0)\n",
    "df_train.isna().sum()"
   ]
  },
  {
   "cell_type": "code",
   "execution_count": 9,
   "metadata": {},
   "outputs": [
    {
     "name": "stdout",
     "output_type": "stream",
     "text": [
      "<class 'pandas.core.frame.DataFrame'>\n",
      "RangeIndex: 14149 entries, 0 to 14148\n",
      "Data columns (total 87 columns):\n",
      " #   Column                                              Non-Null Count  Dtype  \n",
      "---  ------                                              --------------  -----  \n",
      " 0   date                                                14149 non-null  object \n",
      " 1   final.output.concentrate_ag                         14149 non-null  float64\n",
      " 2   final.output.concentrate_pb                         14149 non-null  float64\n",
      " 3   final.output.concentrate_sol                        14149 non-null  float64\n",
      " 4   final.output.concentrate_au                         14149 non-null  float64\n",
      " 5   final.output.recovery                               14149 non-null  float64\n",
      " 6   final.output.tail_ag                                14149 non-null  float64\n",
      " 7   final.output.tail_pb                                14149 non-null  float64\n",
      " 8   final.output.tail_sol                               14149 non-null  float64\n",
      " 9   final.output.tail_au                                14149 non-null  float64\n",
      " 10  primary_cleaner.input.sulfate                       14149 non-null  float64\n",
      " 11  primary_cleaner.input.depressant                    14149 non-null  float64\n",
      " 12  primary_cleaner.input.feed_size                     14149 non-null  float64\n",
      " 13  primary_cleaner.input.xanthate                      14149 non-null  float64\n",
      " 14  primary_cleaner.output.concentrate_ag               14149 non-null  float64\n",
      " 15  primary_cleaner.output.concentrate_pb               14149 non-null  float64\n",
      " 16  primary_cleaner.output.concentrate_sol              14149 non-null  float64\n",
      " 17  primary_cleaner.output.concentrate_au               14149 non-null  float64\n",
      " 18  primary_cleaner.output.tail_ag                      14149 non-null  float64\n",
      " 19  primary_cleaner.output.tail_pb                      14149 non-null  float64\n",
      " 20  primary_cleaner.output.tail_sol                     14149 non-null  float64\n",
      " 21  primary_cleaner.output.tail_au                      14149 non-null  float64\n",
      " 22  primary_cleaner.state.floatbank8_a_air              14149 non-null  float64\n",
      " 23  primary_cleaner.state.floatbank8_a_level            14149 non-null  float64\n",
      " 24  primary_cleaner.state.floatbank8_b_air              14149 non-null  float64\n",
      " 25  primary_cleaner.state.floatbank8_b_level            14149 non-null  float64\n",
      " 26  primary_cleaner.state.floatbank8_c_air              14149 non-null  float64\n",
      " 27  primary_cleaner.state.floatbank8_c_level            14149 non-null  float64\n",
      " 28  primary_cleaner.state.floatbank8_d_air              14149 non-null  float64\n",
      " 29  primary_cleaner.state.floatbank8_d_level            14149 non-null  float64\n",
      " 30  rougher.calculation.sulfate_to_au_concentrate       14149 non-null  float64\n",
      " 31  rougher.calculation.floatbank10_sulfate_to_au_feed  14149 non-null  float64\n",
      " 32  rougher.calculation.floatbank11_sulfate_to_au_feed  14149 non-null  float64\n",
      " 33  rougher.calculation.au_pb_ratio                     14149 non-null  float64\n",
      " 34  rougher.input.feed_ag                               14149 non-null  float64\n",
      " 35  rougher.input.feed_pb                               14149 non-null  float64\n",
      " 36  rougher.input.feed_rate                             14149 non-null  float64\n",
      " 37  rougher.input.feed_size                             14149 non-null  float64\n",
      " 38  rougher.input.feed_sol                              14149 non-null  float64\n",
      " 39  rougher.input.feed_au                               14149 non-null  float64\n",
      " 40  rougher.input.floatbank10_sulfate                   14149 non-null  float64\n",
      " 41  rougher.input.floatbank10_xanthate                  14149 non-null  float64\n",
      " 42  rougher.input.floatbank11_sulfate                   14149 non-null  float64\n",
      " 43  rougher.input.floatbank11_xanthate                  14149 non-null  float64\n",
      " 44  rougher.output.concentrate_ag                       14149 non-null  float64\n",
      " 45  rougher.output.concentrate_pb                       14149 non-null  float64\n",
      " 46  rougher.output.concentrate_sol                      14149 non-null  float64\n",
      " 47  rougher.output.concentrate_au                       14149 non-null  float64\n",
      " 48  rougher.output.recovery                             14149 non-null  float64\n",
      " 49  rougher.output.tail_ag                              14149 non-null  float64\n",
      " 50  rougher.output.tail_pb                              14149 non-null  float64\n",
      " 51  rougher.output.tail_sol                             14149 non-null  float64\n",
      " 52  rougher.output.tail_au                              14149 non-null  float64\n",
      " 53  rougher.state.floatbank10_a_air                     14149 non-null  float64\n",
      " 54  rougher.state.floatbank10_a_level                   14149 non-null  float64\n",
      " 55  rougher.state.floatbank10_b_air                     14149 non-null  float64\n",
      " 56  rougher.state.floatbank10_b_level                   14149 non-null  float64\n",
      " 57  rougher.state.floatbank10_c_air                     14149 non-null  float64\n",
      " 58  rougher.state.floatbank10_c_level                   14149 non-null  float64\n",
      " 59  rougher.state.floatbank10_d_air                     14149 non-null  float64\n",
      " 60  rougher.state.floatbank10_d_level                   14149 non-null  float64\n",
      " 61  rougher.state.floatbank10_e_air                     14149 non-null  float64\n",
      " 62  rougher.state.floatbank10_e_level                   14149 non-null  float64\n",
      " 63  rougher.state.floatbank10_f_air                     14149 non-null  float64\n",
      " 64  rougher.state.floatbank10_f_level                   14149 non-null  float64\n",
      " 65  secondary_cleaner.output.tail_ag                    14149 non-null  float64\n",
      " 66  secondary_cleaner.output.tail_pb                    14149 non-null  float64\n",
      " 67  secondary_cleaner.output.tail_sol                   14149 non-null  float64\n",
      " 68  secondary_cleaner.output.tail_au                    14149 non-null  float64\n",
      " 69  secondary_cleaner.state.floatbank2_a_air            14149 non-null  float64\n",
      " 70  secondary_cleaner.state.floatbank2_a_level          14149 non-null  float64\n",
      " 71  secondary_cleaner.state.floatbank2_b_air            14149 non-null  float64\n",
      " 72  secondary_cleaner.state.floatbank2_b_level          14149 non-null  float64\n",
      " 73  secondary_cleaner.state.floatbank3_a_air            14149 non-null  float64\n",
      " 74  secondary_cleaner.state.floatbank3_a_level          14149 non-null  float64\n",
      " 75  secondary_cleaner.state.floatbank3_b_air            14149 non-null  float64\n",
      " 76  secondary_cleaner.state.floatbank3_b_level          14149 non-null  float64\n",
      " 77  secondary_cleaner.state.floatbank4_a_air            14149 non-null  float64\n",
      " 78  secondary_cleaner.state.floatbank4_a_level          14149 non-null  float64\n",
      " 79  secondary_cleaner.state.floatbank4_b_air            14149 non-null  float64\n",
      " 80  secondary_cleaner.state.floatbank4_b_level          14149 non-null  float64\n",
      " 81  secondary_cleaner.state.floatbank5_a_air            14149 non-null  float64\n",
      " 82  secondary_cleaner.state.floatbank5_a_level          14149 non-null  float64\n",
      " 83  secondary_cleaner.state.floatbank5_b_air            14149 non-null  float64\n",
      " 84  secondary_cleaner.state.floatbank5_b_level          14149 non-null  float64\n",
      " 85  secondary_cleaner.state.floatbank6_a_air            14149 non-null  float64\n",
      " 86  secondary_cleaner.state.floatbank6_a_level          14149 non-null  float64\n",
      "dtypes: float64(86), object(1)\n",
      "memory usage: 9.4+ MB\n"
     ]
    }
   ],
   "source": [
    "df_train.info()"
   ]
  },
  {
   "cell_type": "code",
   "execution_count": 10,
   "metadata": {
    "scrolled": false
   },
   "outputs": [
    {
     "data": {
      "text/html": [
       "<div>\n",
       "<style scoped>\n",
       "    .dataframe tbody tr th:only-of-type {\n",
       "        vertical-align: middle;\n",
       "    }\n",
       "\n",
       "    .dataframe tbody tr th {\n",
       "        vertical-align: top;\n",
       "    }\n",
       "\n",
       "    .dataframe thead th {\n",
       "        text-align: right;\n",
       "    }\n",
       "</style>\n",
       "<table border=\"1\" class=\"dataframe\">\n",
       "  <thead>\n",
       "    <tr style=\"text-align: right;\">\n",
       "      <th></th>\n",
       "      <th>date</th>\n",
       "      <th>primary_cleaner.input.sulfate</th>\n",
       "      <th>primary_cleaner.input.depressant</th>\n",
       "      <th>primary_cleaner.input.feed_size</th>\n",
       "      <th>primary_cleaner.input.xanthate</th>\n",
       "      <th>primary_cleaner.state.floatbank8_a_air</th>\n",
       "      <th>primary_cleaner.state.floatbank8_a_level</th>\n",
       "      <th>primary_cleaner.state.floatbank8_b_air</th>\n",
       "      <th>primary_cleaner.state.floatbank8_b_level</th>\n",
       "      <th>primary_cleaner.state.floatbank8_c_air</th>\n",
       "      <th>...</th>\n",
       "      <th>secondary_cleaner.state.floatbank4_a_air</th>\n",
       "      <th>secondary_cleaner.state.floatbank4_a_level</th>\n",
       "      <th>secondary_cleaner.state.floatbank4_b_air</th>\n",
       "      <th>secondary_cleaner.state.floatbank4_b_level</th>\n",
       "      <th>secondary_cleaner.state.floatbank5_a_air</th>\n",
       "      <th>secondary_cleaner.state.floatbank5_a_level</th>\n",
       "      <th>secondary_cleaner.state.floatbank5_b_air</th>\n",
       "      <th>secondary_cleaner.state.floatbank5_b_level</th>\n",
       "      <th>secondary_cleaner.state.floatbank6_a_air</th>\n",
       "      <th>secondary_cleaner.state.floatbank6_a_level</th>\n",
       "    </tr>\n",
       "  </thead>\n",
       "  <tbody>\n",
       "    <tr>\n",
       "      <th>0</th>\n",
       "      <td>2016-09-01 00:59:59</td>\n",
       "      <td>210.800909</td>\n",
       "      <td>14.993118</td>\n",
       "      <td>8.080000</td>\n",
       "      <td>1.005021</td>\n",
       "      <td>1398.981301</td>\n",
       "      <td>-500.225577</td>\n",
       "      <td>1399.144926</td>\n",
       "      <td>-499.919735</td>\n",
       "      <td>1400.102998</td>\n",
       "      <td>...</td>\n",
       "      <td>12.023554</td>\n",
       "      <td>-497.795834</td>\n",
       "      <td>8.016656</td>\n",
       "      <td>-501.289139</td>\n",
       "      <td>7.946562</td>\n",
       "      <td>-432.317850</td>\n",
       "      <td>4.872511</td>\n",
       "      <td>-500.037437</td>\n",
       "      <td>26.705889</td>\n",
       "      <td>-499.709414</td>\n",
       "    </tr>\n",
       "    <tr>\n",
       "      <th>1</th>\n",
       "      <td>2016-09-01 01:59:59</td>\n",
       "      <td>215.392455</td>\n",
       "      <td>14.987471</td>\n",
       "      <td>8.080000</td>\n",
       "      <td>0.990469</td>\n",
       "      <td>1398.777912</td>\n",
       "      <td>-500.057435</td>\n",
       "      <td>1398.055362</td>\n",
       "      <td>-499.778182</td>\n",
       "      <td>1396.151033</td>\n",
       "      <td>...</td>\n",
       "      <td>12.058140</td>\n",
       "      <td>-498.695773</td>\n",
       "      <td>8.130979</td>\n",
       "      <td>-499.634209</td>\n",
       "      <td>7.958270</td>\n",
       "      <td>-525.839648</td>\n",
       "      <td>4.878850</td>\n",
       "      <td>-500.162375</td>\n",
       "      <td>25.019940</td>\n",
       "      <td>-499.819438</td>\n",
       "    </tr>\n",
       "    <tr>\n",
       "      <th>2</th>\n",
       "      <td>2016-09-01 02:59:59</td>\n",
       "      <td>215.259946</td>\n",
       "      <td>12.884934</td>\n",
       "      <td>7.786667</td>\n",
       "      <td>0.996043</td>\n",
       "      <td>1398.493666</td>\n",
       "      <td>-500.868360</td>\n",
       "      <td>1398.860436</td>\n",
       "      <td>-499.764529</td>\n",
       "      <td>1398.075709</td>\n",
       "      <td>...</td>\n",
       "      <td>11.962366</td>\n",
       "      <td>-498.767484</td>\n",
       "      <td>8.096893</td>\n",
       "      <td>-500.827423</td>\n",
       "      <td>8.071056</td>\n",
       "      <td>-500.801673</td>\n",
       "      <td>4.905125</td>\n",
       "      <td>-499.828510</td>\n",
       "      <td>24.994862</td>\n",
       "      <td>-500.622559</td>\n",
       "    </tr>\n",
       "    <tr>\n",
       "      <th>3</th>\n",
       "      <td>2016-09-01 03:59:59</td>\n",
       "      <td>215.336236</td>\n",
       "      <td>12.006805</td>\n",
       "      <td>7.640000</td>\n",
       "      <td>0.863514</td>\n",
       "      <td>1399.618111</td>\n",
       "      <td>-498.863574</td>\n",
       "      <td>1397.440120</td>\n",
       "      <td>-499.211024</td>\n",
       "      <td>1400.129303</td>\n",
       "      <td>...</td>\n",
       "      <td>12.033091</td>\n",
       "      <td>-498.350935</td>\n",
       "      <td>8.074946</td>\n",
       "      <td>-499.474407</td>\n",
       "      <td>7.897085</td>\n",
       "      <td>-500.868509</td>\n",
       "      <td>4.931400</td>\n",
       "      <td>-499.963623</td>\n",
       "      <td>24.948919</td>\n",
       "      <td>-498.709987</td>\n",
       "    </tr>\n",
       "    <tr>\n",
       "      <th>4</th>\n",
       "      <td>2016-09-01 04:59:59</td>\n",
       "      <td>199.099327</td>\n",
       "      <td>10.682530</td>\n",
       "      <td>7.530000</td>\n",
       "      <td>0.805575</td>\n",
       "      <td>1401.268123</td>\n",
       "      <td>-500.808305</td>\n",
       "      <td>1398.128818</td>\n",
       "      <td>-499.504543</td>\n",
       "      <td>1402.172226</td>\n",
       "      <td>...</td>\n",
       "      <td>12.025367</td>\n",
       "      <td>-500.786497</td>\n",
       "      <td>8.054678</td>\n",
       "      <td>-500.397500</td>\n",
       "      <td>8.107890</td>\n",
       "      <td>-509.526725</td>\n",
       "      <td>4.957674</td>\n",
       "      <td>-500.360026</td>\n",
       "      <td>25.003331</td>\n",
       "      <td>-500.856333</td>\n",
       "    </tr>\n",
       "    <tr>\n",
       "      <th>...</th>\n",
       "      <td>...</td>\n",
       "      <td>...</td>\n",
       "      <td>...</td>\n",
       "      <td>...</td>\n",
       "      <td>...</td>\n",
       "      <td>...</td>\n",
       "      <td>...</td>\n",
       "      <td>...</td>\n",
       "      <td>...</td>\n",
       "      <td>...</td>\n",
       "      <td>...</td>\n",
       "      <td>...</td>\n",
       "      <td>...</td>\n",
       "      <td>...</td>\n",
       "      <td>...</td>\n",
       "      <td>...</td>\n",
       "      <td>...</td>\n",
       "      <td>...</td>\n",
       "      <td>...</td>\n",
       "      <td>...</td>\n",
       "      <td>...</td>\n",
       "    </tr>\n",
       "    <tr>\n",
       "      <th>5285</th>\n",
       "      <td>2017-12-31 19:59:59</td>\n",
       "      <td>173.957757</td>\n",
       "      <td>15.963399</td>\n",
       "      <td>8.070000</td>\n",
       "      <td>0.896701</td>\n",
       "      <td>1401.930554</td>\n",
       "      <td>-499.728848</td>\n",
       "      <td>1401.441445</td>\n",
       "      <td>-499.193423</td>\n",
       "      <td>1399.810313</td>\n",
       "      <td>...</td>\n",
       "      <td>13.995957</td>\n",
       "      <td>-500.157454</td>\n",
       "      <td>12.069155</td>\n",
       "      <td>-499.673279</td>\n",
       "      <td>7.977259</td>\n",
       "      <td>-499.516126</td>\n",
       "      <td>5.933319</td>\n",
       "      <td>-499.965973</td>\n",
       "      <td>8.987171</td>\n",
       "      <td>-499.755909</td>\n",
       "    </tr>\n",
       "    <tr>\n",
       "      <th>5286</th>\n",
       "      <td>2017-12-31 20:59:59</td>\n",
       "      <td>172.910270</td>\n",
       "      <td>16.002605</td>\n",
       "      <td>8.070000</td>\n",
       "      <td>0.896519</td>\n",
       "      <td>1447.075722</td>\n",
       "      <td>-494.716823</td>\n",
       "      <td>1448.851892</td>\n",
       "      <td>-465.963026</td>\n",
       "      <td>1443.890424</td>\n",
       "      <td>...</td>\n",
       "      <td>16.749781</td>\n",
       "      <td>-496.031539</td>\n",
       "      <td>13.365371</td>\n",
       "      <td>-499.122723</td>\n",
       "      <td>9.288553</td>\n",
       "      <td>-496.892967</td>\n",
       "      <td>7.372897</td>\n",
       "      <td>-499.942956</td>\n",
       "      <td>8.986832</td>\n",
       "      <td>-499.903761</td>\n",
       "    </tr>\n",
       "    <tr>\n",
       "      <th>5287</th>\n",
       "      <td>2017-12-31 21:59:59</td>\n",
       "      <td>171.135718</td>\n",
       "      <td>15.993669</td>\n",
       "      <td>8.070000</td>\n",
       "      <td>1.165996</td>\n",
       "      <td>1498.836182</td>\n",
       "      <td>-501.770403</td>\n",
       "      <td>1499.572353</td>\n",
       "      <td>-495.516347</td>\n",
       "      <td>1502.749213</td>\n",
       "      <td>...</td>\n",
       "      <td>19.994130</td>\n",
       "      <td>-499.791312</td>\n",
       "      <td>15.101425</td>\n",
       "      <td>-499.936252</td>\n",
       "      <td>10.989181</td>\n",
       "      <td>-498.347898</td>\n",
       "      <td>9.020944</td>\n",
       "      <td>-500.040448</td>\n",
       "      <td>8.982038</td>\n",
       "      <td>-497.789882</td>\n",
       "    </tr>\n",
       "    <tr>\n",
       "      <th>5288</th>\n",
       "      <td>2017-12-31 22:59:59</td>\n",
       "      <td>179.697158</td>\n",
       "      <td>15.438979</td>\n",
       "      <td>8.070000</td>\n",
       "      <td>1.501068</td>\n",
       "      <td>1498.466243</td>\n",
       "      <td>-500.483984</td>\n",
       "      <td>1497.986986</td>\n",
       "      <td>-519.200340</td>\n",
       "      <td>1496.569047</td>\n",
       "      <td>...</td>\n",
       "      <td>19.958760</td>\n",
       "      <td>-499.958750</td>\n",
       "      <td>15.026853</td>\n",
       "      <td>-499.723143</td>\n",
       "      <td>11.011607</td>\n",
       "      <td>-499.985046</td>\n",
       "      <td>9.009783</td>\n",
       "      <td>-499.937902</td>\n",
       "      <td>9.012660</td>\n",
       "      <td>-500.154284</td>\n",
       "    </tr>\n",
       "    <tr>\n",
       "      <th>5289</th>\n",
       "      <td>2017-12-31 23:59:59</td>\n",
       "      <td>181.556856</td>\n",
       "      <td>14.995850</td>\n",
       "      <td>8.070000</td>\n",
       "      <td>1.623454</td>\n",
       "      <td>1498.096303</td>\n",
       "      <td>-499.796922</td>\n",
       "      <td>1501.743791</td>\n",
       "      <td>-505.146931</td>\n",
       "      <td>1499.535978</td>\n",
       "      <td>...</td>\n",
       "      <td>20.034715</td>\n",
       "      <td>-500.728588</td>\n",
       "      <td>14.914199</td>\n",
       "      <td>-499.948518</td>\n",
       "      <td>10.986607</td>\n",
       "      <td>-500.658027</td>\n",
       "      <td>8.989497</td>\n",
       "      <td>-500.337588</td>\n",
       "      <td>8.988632</td>\n",
       "      <td>-500.764937</td>\n",
       "    </tr>\n",
       "  </tbody>\n",
       "</table>\n",
       "<p>5290 rows × 53 columns</p>\n",
       "</div>"
      ],
      "text/plain": [
       "                     date  primary_cleaner.input.sulfate  \\\n",
       "0     2016-09-01 00:59:59                     210.800909   \n",
       "1     2016-09-01 01:59:59                     215.392455   \n",
       "2     2016-09-01 02:59:59                     215.259946   \n",
       "3     2016-09-01 03:59:59                     215.336236   \n",
       "4     2016-09-01 04:59:59                     199.099327   \n",
       "...                   ...                            ...   \n",
       "5285  2017-12-31 19:59:59                     173.957757   \n",
       "5286  2017-12-31 20:59:59                     172.910270   \n",
       "5287  2017-12-31 21:59:59                     171.135718   \n",
       "5288  2017-12-31 22:59:59                     179.697158   \n",
       "5289  2017-12-31 23:59:59                     181.556856   \n",
       "\n",
       "      primary_cleaner.input.depressant  primary_cleaner.input.feed_size  \\\n",
       "0                            14.993118                         8.080000   \n",
       "1                            14.987471                         8.080000   \n",
       "2                            12.884934                         7.786667   \n",
       "3                            12.006805                         7.640000   \n",
       "4                            10.682530                         7.530000   \n",
       "...                                ...                              ...   \n",
       "5285                         15.963399                         8.070000   \n",
       "5286                         16.002605                         8.070000   \n",
       "5287                         15.993669                         8.070000   \n",
       "5288                         15.438979                         8.070000   \n",
       "5289                         14.995850                         8.070000   \n",
       "\n",
       "      primary_cleaner.input.xanthate  primary_cleaner.state.floatbank8_a_air  \\\n",
       "0                           1.005021                             1398.981301   \n",
       "1                           0.990469                             1398.777912   \n",
       "2                           0.996043                             1398.493666   \n",
       "3                           0.863514                             1399.618111   \n",
       "4                           0.805575                             1401.268123   \n",
       "...                              ...                                     ...   \n",
       "5285                        0.896701                             1401.930554   \n",
       "5286                        0.896519                             1447.075722   \n",
       "5287                        1.165996                             1498.836182   \n",
       "5288                        1.501068                             1498.466243   \n",
       "5289                        1.623454                             1498.096303   \n",
       "\n",
       "      primary_cleaner.state.floatbank8_a_level  \\\n",
       "0                                  -500.225577   \n",
       "1                                  -500.057435   \n",
       "2                                  -500.868360   \n",
       "3                                  -498.863574   \n",
       "4                                  -500.808305   \n",
       "...                                        ...   \n",
       "5285                               -499.728848   \n",
       "5286                               -494.716823   \n",
       "5287                               -501.770403   \n",
       "5288                               -500.483984   \n",
       "5289                               -499.796922   \n",
       "\n",
       "      primary_cleaner.state.floatbank8_b_air  \\\n",
       "0                                1399.144926   \n",
       "1                                1398.055362   \n",
       "2                                1398.860436   \n",
       "3                                1397.440120   \n",
       "4                                1398.128818   \n",
       "...                                      ...   \n",
       "5285                             1401.441445   \n",
       "5286                             1448.851892   \n",
       "5287                             1499.572353   \n",
       "5288                             1497.986986   \n",
       "5289                             1501.743791   \n",
       "\n",
       "      primary_cleaner.state.floatbank8_b_level  \\\n",
       "0                                  -499.919735   \n",
       "1                                  -499.778182   \n",
       "2                                  -499.764529   \n",
       "3                                  -499.211024   \n",
       "4                                  -499.504543   \n",
       "...                                        ...   \n",
       "5285                               -499.193423   \n",
       "5286                               -465.963026   \n",
       "5287                               -495.516347   \n",
       "5288                               -519.200340   \n",
       "5289                               -505.146931   \n",
       "\n",
       "      primary_cleaner.state.floatbank8_c_air  ...  \\\n",
       "0                                1400.102998  ...   \n",
       "1                                1396.151033  ...   \n",
       "2                                1398.075709  ...   \n",
       "3                                1400.129303  ...   \n",
       "4                                1402.172226  ...   \n",
       "...                                      ...  ...   \n",
       "5285                             1399.810313  ...   \n",
       "5286                             1443.890424  ...   \n",
       "5287                             1502.749213  ...   \n",
       "5288                             1496.569047  ...   \n",
       "5289                             1499.535978  ...   \n",
       "\n",
       "      secondary_cleaner.state.floatbank4_a_air  \\\n",
       "0                                    12.023554   \n",
       "1                                    12.058140   \n",
       "2                                    11.962366   \n",
       "3                                    12.033091   \n",
       "4                                    12.025367   \n",
       "...                                        ...   \n",
       "5285                                 13.995957   \n",
       "5286                                 16.749781   \n",
       "5287                                 19.994130   \n",
       "5288                                 19.958760   \n",
       "5289                                 20.034715   \n",
       "\n",
       "      secondary_cleaner.state.floatbank4_a_level  \\\n",
       "0                                    -497.795834   \n",
       "1                                    -498.695773   \n",
       "2                                    -498.767484   \n",
       "3                                    -498.350935   \n",
       "4                                    -500.786497   \n",
       "...                                          ...   \n",
       "5285                                 -500.157454   \n",
       "5286                                 -496.031539   \n",
       "5287                                 -499.791312   \n",
       "5288                                 -499.958750   \n",
       "5289                                 -500.728588   \n",
       "\n",
       "      secondary_cleaner.state.floatbank4_b_air  \\\n",
       "0                                     8.016656   \n",
       "1                                     8.130979   \n",
       "2                                     8.096893   \n",
       "3                                     8.074946   \n",
       "4                                     8.054678   \n",
       "...                                        ...   \n",
       "5285                                 12.069155   \n",
       "5286                                 13.365371   \n",
       "5287                                 15.101425   \n",
       "5288                                 15.026853   \n",
       "5289                                 14.914199   \n",
       "\n",
       "      secondary_cleaner.state.floatbank4_b_level  \\\n",
       "0                                    -501.289139   \n",
       "1                                    -499.634209   \n",
       "2                                    -500.827423   \n",
       "3                                    -499.474407   \n",
       "4                                    -500.397500   \n",
       "...                                          ...   \n",
       "5285                                 -499.673279   \n",
       "5286                                 -499.122723   \n",
       "5287                                 -499.936252   \n",
       "5288                                 -499.723143   \n",
       "5289                                 -499.948518   \n",
       "\n",
       "      secondary_cleaner.state.floatbank5_a_air  \\\n",
       "0                                     7.946562   \n",
       "1                                     7.958270   \n",
       "2                                     8.071056   \n",
       "3                                     7.897085   \n",
       "4                                     8.107890   \n",
       "...                                        ...   \n",
       "5285                                  7.977259   \n",
       "5286                                  9.288553   \n",
       "5287                                 10.989181   \n",
       "5288                                 11.011607   \n",
       "5289                                 10.986607   \n",
       "\n",
       "      secondary_cleaner.state.floatbank5_a_level  \\\n",
       "0                                    -432.317850   \n",
       "1                                    -525.839648   \n",
       "2                                    -500.801673   \n",
       "3                                    -500.868509   \n",
       "4                                    -509.526725   \n",
       "...                                          ...   \n",
       "5285                                 -499.516126   \n",
       "5286                                 -496.892967   \n",
       "5287                                 -498.347898   \n",
       "5288                                 -499.985046   \n",
       "5289                                 -500.658027   \n",
       "\n",
       "      secondary_cleaner.state.floatbank5_b_air  \\\n",
       "0                                     4.872511   \n",
       "1                                     4.878850   \n",
       "2                                     4.905125   \n",
       "3                                     4.931400   \n",
       "4                                     4.957674   \n",
       "...                                        ...   \n",
       "5285                                  5.933319   \n",
       "5286                                  7.372897   \n",
       "5287                                  9.020944   \n",
       "5288                                  9.009783   \n",
       "5289                                  8.989497   \n",
       "\n",
       "      secondary_cleaner.state.floatbank5_b_level  \\\n",
       "0                                    -500.037437   \n",
       "1                                    -500.162375   \n",
       "2                                    -499.828510   \n",
       "3                                    -499.963623   \n",
       "4                                    -500.360026   \n",
       "...                                          ...   \n",
       "5285                                 -499.965973   \n",
       "5286                                 -499.942956   \n",
       "5287                                 -500.040448   \n",
       "5288                                 -499.937902   \n",
       "5289                                 -500.337588   \n",
       "\n",
       "      secondary_cleaner.state.floatbank6_a_air  \\\n",
       "0                                    26.705889   \n",
       "1                                    25.019940   \n",
       "2                                    24.994862   \n",
       "3                                    24.948919   \n",
       "4                                    25.003331   \n",
       "...                                        ...   \n",
       "5285                                  8.987171   \n",
       "5286                                  8.986832   \n",
       "5287                                  8.982038   \n",
       "5288                                  9.012660   \n",
       "5289                                  8.988632   \n",
       "\n",
       "      secondary_cleaner.state.floatbank6_a_level  \n",
       "0                                    -499.709414  \n",
       "1                                    -499.819438  \n",
       "2                                    -500.622559  \n",
       "3                                    -498.709987  \n",
       "4                                    -500.856333  \n",
       "...                                          ...  \n",
       "5285                                 -499.755909  \n",
       "5286                                 -499.903761  \n",
       "5287                                 -497.789882  \n",
       "5288                                 -500.154284  \n",
       "5289                                 -500.764937  \n",
       "\n",
       "[5290 rows x 53 columns]"
      ]
     },
     "execution_count": 10,
     "metadata": {},
     "output_type": "execute_result"
    }
   ],
   "source": [
    "# Рассмотрим тестовые данные\n",
    "df_test = pd.read_csv('/datasets/gold_recovery_test_new.csv')\n",
    "df_test"
   ]
  },
  {
   "cell_type": "code",
   "execution_count": 11,
   "metadata": {},
   "outputs": [
    {
     "data": {
      "text/html": [
       "<div>\n",
       "<style scoped>\n",
       "    .dataframe tbody tr th:only-of-type {\n",
       "        vertical-align: middle;\n",
       "    }\n",
       "\n",
       "    .dataframe tbody tr th {\n",
       "        vertical-align: top;\n",
       "    }\n",
       "\n",
       "    .dataframe thead th {\n",
       "        text-align: right;\n",
       "    }\n",
       "</style>\n",
       "<table border=\"1\" class=\"dataframe\">\n",
       "  <thead>\n",
       "    <tr style=\"text-align: right;\">\n",
       "      <th></th>\n",
       "      <th>date</th>\n",
       "      <th>primary_cleaner.input.sulfate</th>\n",
       "      <th>primary_cleaner.input.depressant</th>\n",
       "      <th>primary_cleaner.input.feed_size</th>\n",
       "      <th>primary_cleaner.input.xanthate</th>\n",
       "      <th>primary_cleaner.state.floatbank8_a_air</th>\n",
       "      <th>primary_cleaner.state.floatbank8_a_level</th>\n",
       "      <th>primary_cleaner.state.floatbank8_b_air</th>\n",
       "      <th>primary_cleaner.state.floatbank8_b_level</th>\n",
       "      <th>primary_cleaner.state.floatbank8_c_air</th>\n",
       "      <th>...</th>\n",
       "      <th>secondary_cleaner.state.floatbank4_a_air</th>\n",
       "      <th>secondary_cleaner.state.floatbank4_a_level</th>\n",
       "      <th>secondary_cleaner.state.floatbank4_b_air</th>\n",
       "      <th>secondary_cleaner.state.floatbank4_b_level</th>\n",
       "      <th>secondary_cleaner.state.floatbank5_a_air</th>\n",
       "      <th>secondary_cleaner.state.floatbank5_a_level</th>\n",
       "      <th>secondary_cleaner.state.floatbank5_b_air</th>\n",
       "      <th>secondary_cleaner.state.floatbank5_b_level</th>\n",
       "      <th>secondary_cleaner.state.floatbank6_a_air</th>\n",
       "      <th>secondary_cleaner.state.floatbank6_a_level</th>\n",
       "    </tr>\n",
       "  </thead>\n",
       "  <tbody>\n",
       "    <tr>\n",
       "      <th>0</th>\n",
       "      <td>2016-09-01 00:59:59</td>\n",
       "      <td>210.800909</td>\n",
       "      <td>14.993118</td>\n",
       "      <td>8.080000</td>\n",
       "      <td>1.005021</td>\n",
       "      <td>1398.981301</td>\n",
       "      <td>-500.225577</td>\n",
       "      <td>1399.144926</td>\n",
       "      <td>-499.919735</td>\n",
       "      <td>1400.102998</td>\n",
       "      <td>...</td>\n",
       "      <td>12.023554</td>\n",
       "      <td>-497.795834</td>\n",
       "      <td>8.016656</td>\n",
       "      <td>-501.289139</td>\n",
       "      <td>7.946562</td>\n",
       "      <td>-432.317850</td>\n",
       "      <td>4.872511</td>\n",
       "      <td>-500.037437</td>\n",
       "      <td>26.705889</td>\n",
       "      <td>-499.709414</td>\n",
       "    </tr>\n",
       "    <tr>\n",
       "      <th>1</th>\n",
       "      <td>2016-09-01 01:59:59</td>\n",
       "      <td>215.392455</td>\n",
       "      <td>14.987471</td>\n",
       "      <td>8.080000</td>\n",
       "      <td>0.990469</td>\n",
       "      <td>1398.777912</td>\n",
       "      <td>-500.057435</td>\n",
       "      <td>1398.055362</td>\n",
       "      <td>-499.778182</td>\n",
       "      <td>1396.151033</td>\n",
       "      <td>...</td>\n",
       "      <td>12.058140</td>\n",
       "      <td>-498.695773</td>\n",
       "      <td>8.130979</td>\n",
       "      <td>-499.634209</td>\n",
       "      <td>7.958270</td>\n",
       "      <td>-525.839648</td>\n",
       "      <td>4.878850</td>\n",
       "      <td>-500.162375</td>\n",
       "      <td>25.019940</td>\n",
       "      <td>-499.819438</td>\n",
       "    </tr>\n",
       "    <tr>\n",
       "      <th>2</th>\n",
       "      <td>2016-09-01 02:59:59</td>\n",
       "      <td>215.259946</td>\n",
       "      <td>12.884934</td>\n",
       "      <td>7.786667</td>\n",
       "      <td>0.996043</td>\n",
       "      <td>1398.493666</td>\n",
       "      <td>-500.868360</td>\n",
       "      <td>1398.860436</td>\n",
       "      <td>-499.764529</td>\n",
       "      <td>1398.075709</td>\n",
       "      <td>...</td>\n",
       "      <td>11.962366</td>\n",
       "      <td>-498.767484</td>\n",
       "      <td>8.096893</td>\n",
       "      <td>-500.827423</td>\n",
       "      <td>8.071056</td>\n",
       "      <td>-500.801673</td>\n",
       "      <td>4.905125</td>\n",
       "      <td>-499.828510</td>\n",
       "      <td>24.994862</td>\n",
       "      <td>-500.622559</td>\n",
       "    </tr>\n",
       "    <tr>\n",
       "      <th>3</th>\n",
       "      <td>2016-09-01 03:59:59</td>\n",
       "      <td>215.336236</td>\n",
       "      <td>12.006805</td>\n",
       "      <td>7.640000</td>\n",
       "      <td>0.863514</td>\n",
       "      <td>1399.618111</td>\n",
       "      <td>-498.863574</td>\n",
       "      <td>1397.440120</td>\n",
       "      <td>-499.211024</td>\n",
       "      <td>1400.129303</td>\n",
       "      <td>...</td>\n",
       "      <td>12.033091</td>\n",
       "      <td>-498.350935</td>\n",
       "      <td>8.074946</td>\n",
       "      <td>-499.474407</td>\n",
       "      <td>7.897085</td>\n",
       "      <td>-500.868509</td>\n",
       "      <td>4.931400</td>\n",
       "      <td>-499.963623</td>\n",
       "      <td>24.948919</td>\n",
       "      <td>-498.709987</td>\n",
       "    </tr>\n",
       "    <tr>\n",
       "      <th>4</th>\n",
       "      <td>2016-09-01 04:59:59</td>\n",
       "      <td>199.099327</td>\n",
       "      <td>10.682530</td>\n",
       "      <td>7.530000</td>\n",
       "      <td>0.805575</td>\n",
       "      <td>1401.268123</td>\n",
       "      <td>-500.808305</td>\n",
       "      <td>1398.128818</td>\n",
       "      <td>-499.504543</td>\n",
       "      <td>1402.172226</td>\n",
       "      <td>...</td>\n",
       "      <td>12.025367</td>\n",
       "      <td>-500.786497</td>\n",
       "      <td>8.054678</td>\n",
       "      <td>-500.397500</td>\n",
       "      <td>8.107890</td>\n",
       "      <td>-509.526725</td>\n",
       "      <td>4.957674</td>\n",
       "      <td>-500.360026</td>\n",
       "      <td>25.003331</td>\n",
       "      <td>-500.856333</td>\n",
       "    </tr>\n",
       "    <tr>\n",
       "      <th>...</th>\n",
       "      <td>...</td>\n",
       "      <td>...</td>\n",
       "      <td>...</td>\n",
       "      <td>...</td>\n",
       "      <td>...</td>\n",
       "      <td>...</td>\n",
       "      <td>...</td>\n",
       "      <td>...</td>\n",
       "      <td>...</td>\n",
       "      <td>...</td>\n",
       "      <td>...</td>\n",
       "      <td>...</td>\n",
       "      <td>...</td>\n",
       "      <td>...</td>\n",
       "      <td>...</td>\n",
       "      <td>...</td>\n",
       "      <td>...</td>\n",
       "      <td>...</td>\n",
       "      <td>...</td>\n",
       "      <td>...</td>\n",
       "      <td>...</td>\n",
       "    </tr>\n",
       "    <tr>\n",
       "      <th>5285</th>\n",
       "      <td>2017-12-31 19:59:59</td>\n",
       "      <td>173.957757</td>\n",
       "      <td>15.963399</td>\n",
       "      <td>8.070000</td>\n",
       "      <td>0.896701</td>\n",
       "      <td>1401.930554</td>\n",
       "      <td>-499.728848</td>\n",
       "      <td>1401.441445</td>\n",
       "      <td>-499.193423</td>\n",
       "      <td>1399.810313</td>\n",
       "      <td>...</td>\n",
       "      <td>13.995957</td>\n",
       "      <td>-500.157454</td>\n",
       "      <td>12.069155</td>\n",
       "      <td>-499.673279</td>\n",
       "      <td>7.977259</td>\n",
       "      <td>-499.516126</td>\n",
       "      <td>5.933319</td>\n",
       "      <td>-499.965973</td>\n",
       "      <td>8.987171</td>\n",
       "      <td>-499.755909</td>\n",
       "    </tr>\n",
       "    <tr>\n",
       "      <th>5286</th>\n",
       "      <td>2017-12-31 20:59:59</td>\n",
       "      <td>172.910270</td>\n",
       "      <td>16.002605</td>\n",
       "      <td>8.070000</td>\n",
       "      <td>0.896519</td>\n",
       "      <td>1447.075722</td>\n",
       "      <td>-494.716823</td>\n",
       "      <td>1448.851892</td>\n",
       "      <td>-465.963026</td>\n",
       "      <td>1443.890424</td>\n",
       "      <td>...</td>\n",
       "      <td>16.749781</td>\n",
       "      <td>-496.031539</td>\n",
       "      <td>13.365371</td>\n",
       "      <td>-499.122723</td>\n",
       "      <td>9.288553</td>\n",
       "      <td>-496.892967</td>\n",
       "      <td>7.372897</td>\n",
       "      <td>-499.942956</td>\n",
       "      <td>8.986832</td>\n",
       "      <td>-499.903761</td>\n",
       "    </tr>\n",
       "    <tr>\n",
       "      <th>5287</th>\n",
       "      <td>2017-12-31 21:59:59</td>\n",
       "      <td>171.135718</td>\n",
       "      <td>15.993669</td>\n",
       "      <td>8.070000</td>\n",
       "      <td>1.165996</td>\n",
       "      <td>1498.836182</td>\n",
       "      <td>-501.770403</td>\n",
       "      <td>1499.572353</td>\n",
       "      <td>-495.516347</td>\n",
       "      <td>1502.749213</td>\n",
       "      <td>...</td>\n",
       "      <td>19.994130</td>\n",
       "      <td>-499.791312</td>\n",
       "      <td>15.101425</td>\n",
       "      <td>-499.936252</td>\n",
       "      <td>10.989181</td>\n",
       "      <td>-498.347898</td>\n",
       "      <td>9.020944</td>\n",
       "      <td>-500.040448</td>\n",
       "      <td>8.982038</td>\n",
       "      <td>-497.789882</td>\n",
       "    </tr>\n",
       "    <tr>\n",
       "      <th>5288</th>\n",
       "      <td>2017-12-31 22:59:59</td>\n",
       "      <td>179.697158</td>\n",
       "      <td>15.438979</td>\n",
       "      <td>8.070000</td>\n",
       "      <td>1.501068</td>\n",
       "      <td>1498.466243</td>\n",
       "      <td>-500.483984</td>\n",
       "      <td>1497.986986</td>\n",
       "      <td>-519.200340</td>\n",
       "      <td>1496.569047</td>\n",
       "      <td>...</td>\n",
       "      <td>19.958760</td>\n",
       "      <td>-499.958750</td>\n",
       "      <td>15.026853</td>\n",
       "      <td>-499.723143</td>\n",
       "      <td>11.011607</td>\n",
       "      <td>-499.985046</td>\n",
       "      <td>9.009783</td>\n",
       "      <td>-499.937902</td>\n",
       "      <td>9.012660</td>\n",
       "      <td>-500.154284</td>\n",
       "    </tr>\n",
       "    <tr>\n",
       "      <th>5289</th>\n",
       "      <td>2017-12-31 23:59:59</td>\n",
       "      <td>181.556856</td>\n",
       "      <td>14.995850</td>\n",
       "      <td>8.070000</td>\n",
       "      <td>1.623454</td>\n",
       "      <td>1498.096303</td>\n",
       "      <td>-499.796922</td>\n",
       "      <td>1501.743791</td>\n",
       "      <td>-505.146931</td>\n",
       "      <td>1499.535978</td>\n",
       "      <td>...</td>\n",
       "      <td>20.034715</td>\n",
       "      <td>-500.728588</td>\n",
       "      <td>14.914199</td>\n",
       "      <td>-499.948518</td>\n",
       "      <td>10.986607</td>\n",
       "      <td>-500.658027</td>\n",
       "      <td>8.989497</td>\n",
       "      <td>-500.337588</td>\n",
       "      <td>8.988632</td>\n",
       "      <td>-500.764937</td>\n",
       "    </tr>\n",
       "  </tbody>\n",
       "</table>\n",
       "<p>5290 rows × 53 columns</p>\n",
       "</div>"
      ],
      "text/plain": [
       "                     date  primary_cleaner.input.sulfate  \\\n",
       "0     2016-09-01 00:59:59                     210.800909   \n",
       "1     2016-09-01 01:59:59                     215.392455   \n",
       "2     2016-09-01 02:59:59                     215.259946   \n",
       "3     2016-09-01 03:59:59                     215.336236   \n",
       "4     2016-09-01 04:59:59                     199.099327   \n",
       "...                   ...                            ...   \n",
       "5285  2017-12-31 19:59:59                     173.957757   \n",
       "5286  2017-12-31 20:59:59                     172.910270   \n",
       "5287  2017-12-31 21:59:59                     171.135718   \n",
       "5288  2017-12-31 22:59:59                     179.697158   \n",
       "5289  2017-12-31 23:59:59                     181.556856   \n",
       "\n",
       "      primary_cleaner.input.depressant  primary_cleaner.input.feed_size  \\\n",
       "0                            14.993118                         8.080000   \n",
       "1                            14.987471                         8.080000   \n",
       "2                            12.884934                         7.786667   \n",
       "3                            12.006805                         7.640000   \n",
       "4                            10.682530                         7.530000   \n",
       "...                                ...                              ...   \n",
       "5285                         15.963399                         8.070000   \n",
       "5286                         16.002605                         8.070000   \n",
       "5287                         15.993669                         8.070000   \n",
       "5288                         15.438979                         8.070000   \n",
       "5289                         14.995850                         8.070000   \n",
       "\n",
       "      primary_cleaner.input.xanthate  primary_cleaner.state.floatbank8_a_air  \\\n",
       "0                           1.005021                             1398.981301   \n",
       "1                           0.990469                             1398.777912   \n",
       "2                           0.996043                             1398.493666   \n",
       "3                           0.863514                             1399.618111   \n",
       "4                           0.805575                             1401.268123   \n",
       "...                              ...                                     ...   \n",
       "5285                        0.896701                             1401.930554   \n",
       "5286                        0.896519                             1447.075722   \n",
       "5287                        1.165996                             1498.836182   \n",
       "5288                        1.501068                             1498.466243   \n",
       "5289                        1.623454                             1498.096303   \n",
       "\n",
       "      primary_cleaner.state.floatbank8_a_level  \\\n",
       "0                                  -500.225577   \n",
       "1                                  -500.057435   \n",
       "2                                  -500.868360   \n",
       "3                                  -498.863574   \n",
       "4                                  -500.808305   \n",
       "...                                        ...   \n",
       "5285                               -499.728848   \n",
       "5286                               -494.716823   \n",
       "5287                               -501.770403   \n",
       "5288                               -500.483984   \n",
       "5289                               -499.796922   \n",
       "\n",
       "      primary_cleaner.state.floatbank8_b_air  \\\n",
       "0                                1399.144926   \n",
       "1                                1398.055362   \n",
       "2                                1398.860436   \n",
       "3                                1397.440120   \n",
       "4                                1398.128818   \n",
       "...                                      ...   \n",
       "5285                             1401.441445   \n",
       "5286                             1448.851892   \n",
       "5287                             1499.572353   \n",
       "5288                             1497.986986   \n",
       "5289                             1501.743791   \n",
       "\n",
       "      primary_cleaner.state.floatbank8_b_level  \\\n",
       "0                                  -499.919735   \n",
       "1                                  -499.778182   \n",
       "2                                  -499.764529   \n",
       "3                                  -499.211024   \n",
       "4                                  -499.504543   \n",
       "...                                        ...   \n",
       "5285                               -499.193423   \n",
       "5286                               -465.963026   \n",
       "5287                               -495.516347   \n",
       "5288                               -519.200340   \n",
       "5289                               -505.146931   \n",
       "\n",
       "      primary_cleaner.state.floatbank8_c_air  ...  \\\n",
       "0                                1400.102998  ...   \n",
       "1                                1396.151033  ...   \n",
       "2                                1398.075709  ...   \n",
       "3                                1400.129303  ...   \n",
       "4                                1402.172226  ...   \n",
       "...                                      ...  ...   \n",
       "5285                             1399.810313  ...   \n",
       "5286                             1443.890424  ...   \n",
       "5287                             1502.749213  ...   \n",
       "5288                             1496.569047  ...   \n",
       "5289                             1499.535978  ...   \n",
       "\n",
       "      secondary_cleaner.state.floatbank4_a_air  \\\n",
       "0                                    12.023554   \n",
       "1                                    12.058140   \n",
       "2                                    11.962366   \n",
       "3                                    12.033091   \n",
       "4                                    12.025367   \n",
       "...                                        ...   \n",
       "5285                                 13.995957   \n",
       "5286                                 16.749781   \n",
       "5287                                 19.994130   \n",
       "5288                                 19.958760   \n",
       "5289                                 20.034715   \n",
       "\n",
       "      secondary_cleaner.state.floatbank4_a_level  \\\n",
       "0                                    -497.795834   \n",
       "1                                    -498.695773   \n",
       "2                                    -498.767484   \n",
       "3                                    -498.350935   \n",
       "4                                    -500.786497   \n",
       "...                                          ...   \n",
       "5285                                 -500.157454   \n",
       "5286                                 -496.031539   \n",
       "5287                                 -499.791312   \n",
       "5288                                 -499.958750   \n",
       "5289                                 -500.728588   \n",
       "\n",
       "      secondary_cleaner.state.floatbank4_b_air  \\\n",
       "0                                     8.016656   \n",
       "1                                     8.130979   \n",
       "2                                     8.096893   \n",
       "3                                     8.074946   \n",
       "4                                     8.054678   \n",
       "...                                        ...   \n",
       "5285                                 12.069155   \n",
       "5286                                 13.365371   \n",
       "5287                                 15.101425   \n",
       "5288                                 15.026853   \n",
       "5289                                 14.914199   \n",
       "\n",
       "      secondary_cleaner.state.floatbank4_b_level  \\\n",
       "0                                    -501.289139   \n",
       "1                                    -499.634209   \n",
       "2                                    -500.827423   \n",
       "3                                    -499.474407   \n",
       "4                                    -500.397500   \n",
       "...                                          ...   \n",
       "5285                                 -499.673279   \n",
       "5286                                 -499.122723   \n",
       "5287                                 -499.936252   \n",
       "5288                                 -499.723143   \n",
       "5289                                 -499.948518   \n",
       "\n",
       "      secondary_cleaner.state.floatbank5_a_air  \\\n",
       "0                                     7.946562   \n",
       "1                                     7.958270   \n",
       "2                                     8.071056   \n",
       "3                                     7.897085   \n",
       "4                                     8.107890   \n",
       "...                                        ...   \n",
       "5285                                  7.977259   \n",
       "5286                                  9.288553   \n",
       "5287                                 10.989181   \n",
       "5288                                 11.011607   \n",
       "5289                                 10.986607   \n",
       "\n",
       "      secondary_cleaner.state.floatbank5_a_level  \\\n",
       "0                                    -432.317850   \n",
       "1                                    -525.839648   \n",
       "2                                    -500.801673   \n",
       "3                                    -500.868509   \n",
       "4                                    -509.526725   \n",
       "...                                          ...   \n",
       "5285                                 -499.516126   \n",
       "5286                                 -496.892967   \n",
       "5287                                 -498.347898   \n",
       "5288                                 -499.985046   \n",
       "5289                                 -500.658027   \n",
       "\n",
       "      secondary_cleaner.state.floatbank5_b_air  \\\n",
       "0                                     4.872511   \n",
       "1                                     4.878850   \n",
       "2                                     4.905125   \n",
       "3                                     4.931400   \n",
       "4                                     4.957674   \n",
       "...                                        ...   \n",
       "5285                                  5.933319   \n",
       "5286                                  7.372897   \n",
       "5287                                  9.020944   \n",
       "5288                                  9.009783   \n",
       "5289                                  8.989497   \n",
       "\n",
       "      secondary_cleaner.state.floatbank5_b_level  \\\n",
       "0                                    -500.037437   \n",
       "1                                    -500.162375   \n",
       "2                                    -499.828510   \n",
       "3                                    -499.963623   \n",
       "4                                    -500.360026   \n",
       "...                                          ...   \n",
       "5285                                 -499.965973   \n",
       "5286                                 -499.942956   \n",
       "5287                                 -500.040448   \n",
       "5288                                 -499.937902   \n",
       "5289                                 -500.337588   \n",
       "\n",
       "      secondary_cleaner.state.floatbank6_a_air  \\\n",
       "0                                    26.705889   \n",
       "1                                    25.019940   \n",
       "2                                    24.994862   \n",
       "3                                    24.948919   \n",
       "4                                    25.003331   \n",
       "...                                        ...   \n",
       "5285                                  8.987171   \n",
       "5286                                  8.986832   \n",
       "5287                                  8.982038   \n",
       "5288                                  9.012660   \n",
       "5289                                  8.988632   \n",
       "\n",
       "      secondary_cleaner.state.floatbank6_a_level  \n",
       "0                                    -499.709414  \n",
       "1                                    -499.819438  \n",
       "2                                    -500.622559  \n",
       "3                                    -498.709987  \n",
       "4                                    -500.856333  \n",
       "...                                          ...  \n",
       "5285                                 -499.755909  \n",
       "5286                                 -499.903761  \n",
       "5287                                 -497.789882  \n",
       "5288                                 -500.154284  \n",
       "5289                                 -500.764937  \n",
       "\n",
       "[5290 rows x 53 columns]"
      ]
     },
     "execution_count": 11,
     "metadata": {},
     "output_type": "execute_result"
    }
   ],
   "source": [
    "df_test = df_test.ffill(axis=0)\n",
    "df_test\n"
   ]
  },
  {
   "cell_type": "code",
   "execution_count": 12,
   "metadata": {
    "scrolled": true
   },
   "outputs": [
    {
     "name": "stdout",
     "output_type": "stream",
     "text": [
      "<class 'pandas.core.frame.DataFrame'>\n",
      "RangeIndex: 5290 entries, 0 to 5289\n",
      "Data columns (total 53 columns):\n",
      " #   Column                                      Non-Null Count  Dtype  \n",
      "---  ------                                      --------------  -----  \n",
      " 0   date                                        5290 non-null   object \n",
      " 1   primary_cleaner.input.sulfate               5290 non-null   float64\n",
      " 2   primary_cleaner.input.depressant            5290 non-null   float64\n",
      " 3   primary_cleaner.input.feed_size             5290 non-null   float64\n",
      " 4   primary_cleaner.input.xanthate              5290 non-null   float64\n",
      " 5   primary_cleaner.state.floatbank8_a_air      5290 non-null   float64\n",
      " 6   primary_cleaner.state.floatbank8_a_level    5290 non-null   float64\n",
      " 7   primary_cleaner.state.floatbank8_b_air      5290 non-null   float64\n",
      " 8   primary_cleaner.state.floatbank8_b_level    5290 non-null   float64\n",
      " 9   primary_cleaner.state.floatbank8_c_air      5290 non-null   float64\n",
      " 10  primary_cleaner.state.floatbank8_c_level    5290 non-null   float64\n",
      " 11  primary_cleaner.state.floatbank8_d_air      5290 non-null   float64\n",
      " 12  primary_cleaner.state.floatbank8_d_level    5290 non-null   float64\n",
      " 13  rougher.input.feed_ag                       5290 non-null   float64\n",
      " 14  rougher.input.feed_pb                       5290 non-null   float64\n",
      " 15  rougher.input.feed_rate                     5290 non-null   float64\n",
      " 16  rougher.input.feed_size                     5290 non-null   float64\n",
      " 17  rougher.input.feed_sol                      5290 non-null   float64\n",
      " 18  rougher.input.feed_au                       5290 non-null   float64\n",
      " 19  rougher.input.floatbank10_sulfate           5290 non-null   float64\n",
      " 20  rougher.input.floatbank10_xanthate          5290 non-null   float64\n",
      " 21  rougher.input.floatbank11_sulfate           5290 non-null   float64\n",
      " 22  rougher.input.floatbank11_xanthate          5290 non-null   float64\n",
      " 23  rougher.state.floatbank10_a_air             5290 non-null   float64\n",
      " 24  rougher.state.floatbank10_a_level           5290 non-null   float64\n",
      " 25  rougher.state.floatbank10_b_air             5290 non-null   float64\n",
      " 26  rougher.state.floatbank10_b_level           5290 non-null   float64\n",
      " 27  rougher.state.floatbank10_c_air             5290 non-null   float64\n",
      " 28  rougher.state.floatbank10_c_level           5290 non-null   float64\n",
      " 29  rougher.state.floatbank10_d_air             5290 non-null   float64\n",
      " 30  rougher.state.floatbank10_d_level           5290 non-null   float64\n",
      " 31  rougher.state.floatbank10_e_air             5290 non-null   float64\n",
      " 32  rougher.state.floatbank10_e_level           5290 non-null   float64\n",
      " 33  rougher.state.floatbank10_f_air             5290 non-null   float64\n",
      " 34  rougher.state.floatbank10_f_level           5290 non-null   float64\n",
      " 35  secondary_cleaner.state.floatbank2_a_air    5290 non-null   float64\n",
      " 36  secondary_cleaner.state.floatbank2_a_level  5290 non-null   float64\n",
      " 37  secondary_cleaner.state.floatbank2_b_air    5290 non-null   float64\n",
      " 38  secondary_cleaner.state.floatbank2_b_level  5290 non-null   float64\n",
      " 39  secondary_cleaner.state.floatbank3_a_air    5290 non-null   float64\n",
      " 40  secondary_cleaner.state.floatbank3_a_level  5290 non-null   float64\n",
      " 41  secondary_cleaner.state.floatbank3_b_air    5290 non-null   float64\n",
      " 42  secondary_cleaner.state.floatbank3_b_level  5290 non-null   float64\n",
      " 43  secondary_cleaner.state.floatbank4_a_air    5290 non-null   float64\n",
      " 44  secondary_cleaner.state.floatbank4_a_level  5290 non-null   float64\n",
      " 45  secondary_cleaner.state.floatbank4_b_air    5290 non-null   float64\n",
      " 46  secondary_cleaner.state.floatbank4_b_level  5290 non-null   float64\n",
      " 47  secondary_cleaner.state.floatbank5_a_air    5290 non-null   float64\n",
      " 48  secondary_cleaner.state.floatbank5_a_level  5290 non-null   float64\n",
      " 49  secondary_cleaner.state.floatbank5_b_air    5290 non-null   float64\n",
      " 50  secondary_cleaner.state.floatbank5_b_level  5290 non-null   float64\n",
      " 51  secondary_cleaner.state.floatbank6_a_air    5290 non-null   float64\n",
      " 52  secondary_cleaner.state.floatbank6_a_level  5290 non-null   float64\n",
      "dtypes: float64(52), object(1)\n",
      "memory usage: 2.1+ MB\n"
     ]
    }
   ],
   "source": [
    "# Мы видим, что в тестовой выборке меньше колонок (признаков), посмотрим, каких не хватает\n",
    "df_test.info()"
   ]
  },
  {
   "cell_type": "markdown",
   "metadata": {},
   "source": [
    "В тестовом датасете нет данных финальных измерений по каждому металлу. \n",
    "Тестовый датасет предоставляет данные только в начале техпроцесса. На этом основании мы будем именно предсказывать, а не рассчитывать необходимые параметры."
   ]
  },
  {
   "cell_type": "code",
   "execution_count": 13,
   "metadata": {},
   "outputs": [],
   "source": [
    "# сравним степень восстановления золота по формуле и по нашим данным\n",
    "F = df_full['rougher.input.feed_au']\n",
    "C = df_full['rougher.output.concentrate_au']\n",
    "T = df_full['rougher.output.tail_au']"
   ]
  },
  {
   "cell_type": "code",
   "execution_count": 14,
   "metadata": {},
   "outputs": [],
   "source": [
    "estimated_recovery = C * (F-T) / (F * (C-T)) *100"
   ]
  },
  {
   "cell_type": "code",
   "execution_count": 15,
   "metadata": {},
   "outputs": [
    {
     "data": {
      "text/plain": [
       "86.18889176007977"
      ]
     },
     "execution_count": 15,
     "metadata": {},
     "output_type": "execute_result"
    }
   ],
   "source": [
    "df_full['rougher.output.recovery'].median()"
   ]
  },
  {
   "cell_type": "code",
   "execution_count": 16,
   "metadata": {},
   "outputs": [
    {
     "data": {
      "text/plain": [
       "9.874045668302637e-15"
      ]
     },
     "execution_count": 16,
     "metadata": {},
     "output_type": "execute_result"
    }
   ],
   "source": [
    "\n",
    "\n",
    "MSE = mean_absolute_error(estimated_recovery, df_full['rougher.output.recovery'])\n",
    "MSE"
   ]
  },
  {
   "cell_type": "markdown",
   "metadata": {},
   "source": [
    "Мы видим, что в данных очень точно подсчитана степень восстановления чернового концентрата."
   ]
  },
  {
   "cell_type": "markdown",
   "metadata": {},
   "source": [
    "### Выводы по подготовке данных:\n",
    "\n",
    "1. Мы подгрузили данные в проект, заполнили пропуски и разобрались с тем, как сформированы обучающий и тестовый сеты. \n",
    "2. Проверили правильность расчеты целевой метрики и убедились в \"исправности\" данных.\n",
    "3. С этим набором уже можно работать и строить модели."
   ]
  },
  {
   "cell_type": "markdown",
   "metadata": {},
   "source": [
    "## Анализ данных"
   ]
  },
  {
   "cell_type": "markdown",
   "metadata": {},
   "source": [
    "###  Рассмотрим изменение концентраций металлов"
   ]
  },
  {
   "cell_type": "code",
   "execution_count": 17,
   "metadata": {},
   "outputs": [
    {
     "data": {
      "image/png": "[encoded data removed]",
      "text/plain": [
       "<Figure size 432x288 with 1 Axes>"
      ]
     },
     "metadata": {
      "needs_background": "light"
     },
     "output_type": "display_data"
    }
   ],
   "source": [
    "# Рассмотрим концентрацию металлов на разных этапах отчистки. Начнем с золота\n",
    "df_full['rougher.input.feed_au'].hist(bins=30)\n",
    "df_full['rougher.output.concentrate_au'].hist(bins=30)\n",
    "df_full['primary_cleaner.output.concentrate_au'].hist(bins=30)\n",
    "df_full['final.output.concentrate_au'].hist(bins=30)\n",
    "\n",
    "\n",
    "plt.legend(['Перед флотацией', 'После флотации', 'После первичной очистки', 'Финальная'])\n",
    "plt.title('Распределение концентрации золота')\n",
    "plt.xlabel('Значение концентрации')\n",
    "plt.ylabel('Количество значений')\n",
    "plt.show()"
   ]
  },
  {
   "cell_type": "code",
   "execution_count": 18,
   "metadata": {},
   "outputs": [
    {
     "data": {
      "image/png": "[encoded data removed]",
      "text/plain": [
       "<Figure size 432x288 with 1 Axes>"
      ]
     },
     "metadata": {
      "needs_background": "light"
     },
     "output_type": "display_data"
    }
   ],
   "source": [
    "# Свинец\n",
    "df_full['rougher.input.feed_pb'].hist(bins=30)\n",
    "df_full['rougher.output.concentrate_pb'].hist(bins=30)\n",
    "df_full['primary_cleaner.output.concentrate_pb'].hist(bins=30)\n",
    "df_full['final.output.concentrate_pb'].hist(bins=30)\n",
    "\n",
    "\n",
    "plt.legend(['Перед флотацией', 'После флотации', 'После первичной очистки', 'Финальная'])\n",
    "plt.title('Распределение концентрации свинца на разных степенях очистки')\n",
    "plt.xlabel('Значение концентрации')\n",
    "plt.ylabel('Количество значений')\n",
    "plt.show()"
   ]
  },
  {
   "cell_type": "code",
   "execution_count": 19,
   "metadata": {},
   "outputs": [
    {
     "data": {
      "image/png": "[encoded data removed]",
      "text/plain": [
       "<Figure size 432x288 with 1 Axes>"
      ]
     },
     "metadata": {
      "needs_background": "light"
     },
     "output_type": "display_data"
    }
   ],
   "source": [
    "# Серебро\n",
    "df_full['rougher.input.feed_ag'].hist(bins=30)\n",
    "df_full['rougher.output.concentrate_ag'].hist(bins=30)\n",
    "df_full['primary_cleaner.output.concentrate_ag'].hist(bins=30)\n",
    "df_full['final.output.concentrate_ag'].hist(bins=30)\n",
    "\n",
    "\n",
    "plt.legend(['Перед флотацией', 'После флотации', 'После первичной очистки', 'Финальная'])\n",
    "plt.title('Распределение концентрации серебра на разных степенях очистки')\n",
    "plt.xlabel('Значение концентрации')\n",
    "plt.ylabel('Количество значений')\n",
    "plt.show()"
   ]
  },
  {
   "cell_type": "markdown",
   "metadata": {},
   "source": [
    "Выводы:\n",
    "\n",
    "    1. Концентрация золота и свинца растет с клоичеством очисток. Концентрация серебра падает.\n",
    "    2. Концентрация золота вырастает почти в два раза, в то время как свинец растет всего примерно на  40%.\n",
    "    3. Разницу в степени роста концентраций и понижении концентрации серебра скорее всего можно объяснить технологическим процессом. Золото добывается по своим правилам с использованием химических свойств именно этошо вещества. В то время как для наиболее эффективной добычи свица и серебра скорее всего нужны другие технологические процессы. которые основаны на свойствах именно этих металлов."
   ]
  },
  {
   "cell_type": "markdown",
   "metadata": {},
   "source": [
    "Рассмотрим распределения размера гранул на разных этапах на обучающей и тестовой выборке:"
   ]
  },
  {
   "cell_type": "code",
   "execution_count": 20,
   "metadata": {},
   "outputs": [
    {
     "data": {
      "image/png": "[encoded data removed]",
      "text/plain": [
       "<Figure size 432x288 with 1 Axes>"
      ]
     },
     "metadata": {
      "needs_background": "light"
     },
     "output_type": "display_data"
    }
   ],
   "source": [
    "# поступление на флотацию:\n",
    "import seaborn as sns\n",
    "\n",
    "sns.kdeplot(df_train['rougher.input.feed_size'])\n",
    "sns.kdeplot(df_test['rougher.input.feed_size'])\n",
    "\n",
    "plt.legend(['На обучающей выборке','На тестовой'])\n",
    "plt.title('Распределение размера гранул')\n",
    "plt.xlabel('Размер')\n",
    "plt.ylabel('Количество значений')\n",
    "plt.show()"
   ]
  },
  {
   "cell_type": "code",
   "execution_count": 21,
   "metadata": {},
   "outputs": [
    {
     "data": {
      "image/png": "[encoded data removed]",
      "text/plain": [
       "<Figure size 432x288 with 1 Axes>"
      ]
     },
     "metadata": {
      "needs_background": "light"
     },
     "output_type": "display_data"
    }
   ],
   "source": [
    "# поступление на первичную очистку:\n",
    "sns.kdeplot(df_train['primary_cleaner.input.feed_size'])\n",
    "sns.kdeplot(df_test['primary_cleaner.input.feed_size'])\n",
    "\n",
    "plt.legend(['На обучающей выборке','На тестовой'])\n",
    "plt.title('Распределение размера гранул')\n",
    "plt.xlabel('Размер')\n",
    "plt.ylabel('Количество значений') \n",
    "plt.show()"
   ]
  },
  {
   "cell_type": "markdown",
   "metadata": {},
   "source": [
    "Распределения в целом совпадают. Какой-то критической ошибки в данных мы не видим. Разность в значениях обусловлена самим технологическим процессом: сначала выбираются гранулы бОльшего размера, а на следующем этапе остаются гранулы меньшего размера."
   ]
  },
  {
   "cell_type": "markdown",
   "metadata": {},
   "source": [
    "### Рассмотрим суммарную концентрацию металлов"
   ]
  },
  {
   "cell_type": "code",
   "execution_count": 22,
   "metadata": {},
   "outputs": [],
   "source": [
    "# Сумма концентраций для руды(до флотации)\n",
    "rougher = df_full['rougher.input.feed_ag'] + df_full['rougher.input.feed_pb'] + df_full['rougher.input.feed_au']\n",
    "\n",
    "# Сумма концентраций после флотации\n",
    "rougher_output = df_full['rougher.output.concentrate_au'] + df_full['rougher.output.concentrate_pb']+ df_full['rougher.output.concentrate_ag']\n",
    "\n",
    "# Cумма концентарций после первичной очистки\n",
    "primary_cleaner = df_full['primary_cleaner.output.concentrate_au'] + df_full['primary_cleaner.output.concentrate_pb'] + df_full['primary_cleaner.output.concentrate_ag']\n",
    "\n",
    "# Сумма концентраций после вторичной очистки \n",
    "final_output = df_full['final.output.concentrate_au'] + df_full['final.output.concentrate_ag'] + df_full['final.output.concentrate_pb']\n"
   ]
  },
  {
   "cell_type": "code",
   "execution_count": 23,
   "metadata": {
    "scrolled": true
   },
   "outputs": [
    {
     "data": {
      "image/png": "[encoded data removed]",
      "text/plain": [
       "<Figure size 432x288 with 1 Axes>"
      ]
     },
     "metadata": {
      "needs_background": "light"
     },
     "output_type": "display_data"
    }
   ],
   "source": [
    "plt.hist([rougher, rougher_output, primary_cleaner, final_output], bins=30)\n",
    "\n",
    "plt.legend(['Перед флотацией', 'После флотации', 'После первичной очистки', 'Финальная'])\n",
    "plt.title('Распределение сумм концентрации на каждом этапе')\n",
    "plt.xlabel('Сумма конценрации')\n",
    "plt.ylabel('Количество значений')\n",
    "plt.show()\n"
   ]
  },
  {
   "cell_type": "code",
   "execution_count": 24,
   "metadata": {
    "scrolled": false
   },
   "outputs": [
    {
     "data": {
      "image/png": "[encoded data removed]",
      "text/plain": [
       "<Figure size 432x288 with 1 Axes>"
      ]
     },
     "metadata": {
      "needs_background": "light"
     },
     "output_type": "display_data"
    }
   ],
   "source": [
    "plt.boxplot([rougher, rougher_output, primary_cleaner, final_output])\n",
    "\n",
    "plt.title('Распределение сумм концентрации на каждом этапе')\n",
    "#plt.xlabel(names=('Перед флотацией', 'После флотации', 'После первичной очистки', 'Финальная'))\n",
    "plt.xticks([1, 2, 3,  4], ['Перед флотацией', 'После флотации', 'После первичной очистки', 'Финальная'])\n",
    "plt.ylabel('Значение концентрации')\n",
    "plt.show()"
   ]
  },
  {
   "cell_type": "code",
   "execution_count": 25,
   "metadata": {},
   "outputs": [],
   "source": [
    "# Уберем выпадающие значения\n",
    "df_full = df_full[(df_full['rougher.output.concentrate_au'] > 0) &\n",
    "                  (df_full['rougher.output.concentrate_ag'] > 0) & \n",
    "                  (df_full['rougher.output.concentrate_pb'] > 0) & \n",
    "                  (df_full['primary_cleaner.output.concentrate_au'] > 0) & \n",
    "                  (df_full['primary_cleaner.output.concentrate_ag'] > 0) &\n",
    "                  (df_full['primary_cleaner.output.concentrate_pb'] > 0) & \n",
    "                  (df_full['final.output.concentrate_au'] > 0) &\n",
    "                  (df_full['final.output.concentrate_ag'] > 0) &\n",
    "                  (df_full['final.output.concentrate_pb'] > 0)]"
   ]
  },
  {
   "cell_type": "code",
   "execution_count": 26,
   "metadata": {},
   "outputs": [],
   "source": [
    "# Сумма концентраций для руды(до флотации)\n",
    "rougher = df_full['rougher.input.feed_ag'] + df_full['rougher.input.feed_pb'] + df_full['rougher.input.feed_au']\n",
    "\n",
    "# Сумма концентраций после флотации\n",
    "rougher_output = df_full['rougher.output.concentrate_au'] + df_full['rougher.output.concentrate_pb']+ df_full['rougher.output.concentrate_ag']\n",
    "\n",
    "# Cумма концентарций после первичной очистки\n",
    "primary_cleaner = df_full['primary_cleaner.output.concentrate_au'] + df_full['primary_cleaner.output.concentrate_pb'] + df_full['primary_cleaner.output.concentrate_ag']\n",
    "\n",
    "# Сумма концентраций после вторичной очистки \n",
    "final_output = df_full['final.output.concentrate_au'] + df_full['final.output.concentrate_ag'] + df_full['final.output.concentrate_pb']\n"
   ]
  },
  {
   "cell_type": "code",
   "execution_count": 27,
   "metadata": {},
   "outputs": [
    {
     "data": {
      "image/png": "[encoded data removed]",
      "text/plain": [
       "<Figure size 432x288 with 1 Axes>"
      ]
     },
     "metadata": {
      "needs_background": "light"
     },
     "output_type": "display_data"
    }
   ],
   "source": [
    "plt.hist([rougher, rougher_output, primary_cleaner, final_output], bins=30)\n",
    "\n",
    "plt.legend(['Перед флотацией', 'После флотации', 'После первичной очистки', 'Финальная'])\n",
    "plt.title('Распределение сумм концентрации на каждом этапе')\n",
    "plt.xlabel('Сумма конценрации')\n",
    "plt.ylabel('Количество значений')\n",
    "plt.show()"
   ]
  },
  {
   "cell_type": "markdown",
   "metadata": {},
   "source": [
    "### Выводы по анализу суммарных концентраций:\n",
    "\n",
    "1. Мы видим группу значений, где сумма концентраций равно нулю. Это странно. Скорее всего в данных есть неточности. \n",
    "2. Мы видим, что откронений от средних квантилей больше с нижней стороны, чем с верхней.\n",
    "3. Перезаписали таблицу с условиями и избавились от нулей."
   ]
  },
  {
   "cell_type": "code",
   "execution_count": 28,
   "metadata": {},
   "outputs": [],
   "source": [
    "# Уберем выпадающие значения в таблице с тренировочными данными\n",
    "df_train = df_train[(df_train['rougher.output.concentrate_au'] > 0) &\n",
    "                  (df_train['rougher.output.concentrate_ag'] > 0) & \n",
    "                  (df_train['rougher.output.concentrate_pb'] > 0) & \n",
    "                  (df_train['primary_cleaner.output.concentrate_au'] > 0) & \n",
    "                  (df_train['primary_cleaner.output.concentrate_ag'] > 0) &\n",
    "                  (df_train['primary_cleaner.output.concentrate_pb'] > 0) & \n",
    "                  (df_train['final.output.concentrate_au'] > 0) &\n",
    "                  (df_train['final.output.concentrate_ag'] > 0) &\n",
    "                  (df_train['final.output.concentrate_pb'] > 0)]"
   ]
  },
  {
   "cell_type": "markdown",
   "metadata": {},
   "source": [
    "В тестовой выборке этих данных нет."
   ]
  },
  {
   "cell_type": "markdown",
   "metadata": {},
   "source": [
    "### Выводы по части анализа данных:\n",
    "1. мы проверили характер распределений для тренировочной и тестовой выборки - теперь приступать к моделированию.\n",
    "2. Мы расмотрели распределения некоторых величин и убрали выпадающие значения. "
   ]
  },
  {
   "cell_type": "markdown",
   "metadata": {},
   "source": [
    "## Модель"
   ]
  },
  {
   "cell_type": "markdown",
   "metadata": {},
   "source": [
    "Напишем функцию для рассчета SMAPE"
   ]
  },
  {
   "cell_type": "code",
   "execution_count": 29,
   "metadata": {},
   "outputs": [],
   "source": [
    "def smape( a , f ):\n",
    "    smape = 1/ len (a) * np.sum (2 * np.abs (f-a) / (np.abs (a) + np.abs (f))*100)\n",
    "    return smape"
   ]
  },
  {
   "cell_type": "markdown",
   "metadata": {},
   "source": [
    "Подготовим признаки для обучения"
   ]
  },
  {
   "cell_type": "code",
   "execution_count": 30,
   "metadata": {},
   "outputs": [],
   "source": [
    "features = df_train[df_test.columns].drop('date', axis=1) # Оставляем в обучающей таблице только столбцы из тестового датасета\n",
    "target_1 = df_train['rougher.output.recovery']\n",
    "target_2 = df_train['final.output.recovery']"
   ]
  },
  {
   "cell_type": "markdown",
   "metadata": {},
   "source": [
    "Заранее подготовим параметр scorer для оценки с помощью кросс-валидации"
   ]
  },
  {
   "cell_type": "code",
   "execution_count": 31,
   "metadata": {},
   "outputs": [],
   "source": [
    "points = make_scorer(smape, greater_is_better=False)"
   ]
  },
  {
   "cell_type": "markdown",
   "metadata": {},
   "source": [
    "#### Проверим модели линейной регресси на кросс-валидации для каждого целевого признака:"
   ]
  },
  {
   "cell_type": "code",
   "execution_count": 32,
   "metadata": {},
   "outputs": [
    {
     "name": "stdout",
     "output_type": "stream",
     "text": [
      "Средняя оценка модели для черновой концентрации 10.376876577805136\n",
      "Средняя оценка модели для финальной концентрации 13.41888371897968\n",
      "\n",
      "Общее симметричное среднее абсолютное процентное отклонение для модели лениейной регрессии составляет 12.658381933686044 %\n"
     ]
    }
   ],
   "source": [
    "model_1 = LinearRegression()\n",
    "model_2 = LinearRegression()\n",
    "\n",
    "smape_1 = cross_val_score(model_1, features, target_1, cv=3, scoring=points, n_jobs=-1).mean()\n",
    "smape_2 = cross_val_score(model_2, features, target_2, cv=3, scoring=points, n_jobs=-1).mean()\n",
    "\n",
    "print('Средняя оценка модели для черновой концентрации', -(smape_1))\n",
    "print('Средняя оценка модели для финальной концентрации', -(smape_2))\n",
    "\n",
    "common_smape_lr = 0.25*smape_1 + 0.75*smape_2\n",
    "print()\n",
    "\n",
    "print('Общее симметричное среднее абсолютное процентное отклонение для модели лениейной регрессии составляет', -(common_smape_lr), '%')"
   ]
  },
  {
   "cell_type": "markdown",
   "metadata": {},
   "source": [
    "#### Проверим модели случайного леса на кросс-валидации для каждого целевого признака:"
   ]
  },
  {
   "cell_type": "code",
   "execution_count": 33,
   "metadata": {
    "scrolled": true
   },
   "outputs": [
    {
     "name": "stdout",
     "output_type": "stream",
     "text": [
      "Fitting 3 folds for each of 32 candidates, totalling 96 fits\n",
      "[CV 1/3; 1/32] START max_depth=2, n_estimators=10...............................\n",
      "[CV 1/3; 1/32] END .............max_depth=2, n_estimators=10; total time=   0.7s\n",
      "[CV 2/3; 1/32] START max_depth=2, n_estimators=10...............................\n",
      "[CV 2/3; 1/32] END .............max_depth=2, n_estimators=10; total time=   0.6s\n",
      "[CV 3/3; 1/32] START max_depth=2, n_estimators=10...............................\n",
      "[CV 3/3; 1/32] END .............max_depth=2, n_estimators=10; total time=   0.6s\n",
      "[CV 1/3; 2/32] START max_depth=2, n_estimators=15...............................\n",
      "[CV 1/3; 2/32] END .............max_depth=2, n_estimators=15; total time=   0.9s\n",
      "[CV 2/3; 2/32] START max_depth=2, n_estimators=15...............................\n",
      "[CV 2/3; 2/32] END .............max_depth=2, n_estimators=15; total time=   0.8s\n",
      "[CV 3/3; 2/32] START max_depth=2, n_estimators=15...............................\n",
      "[CV 3/3; 2/32] END .............max_depth=2, n_estimators=15; total time=   0.8s\n",
      "[CV 1/3; 3/32] START max_depth=2, n_estimators=20...............................\n",
      "[CV 1/3; 3/32] END .............max_depth=2, n_estimators=20; total time=   1.1s\n",
      "[CV 2/3; 3/32] START max_depth=2, n_estimators=20...............................\n",
      "[CV 2/3; 3/32] END .............max_depth=2, n_estimators=20; total time=   1.1s\n",
      "[CV 3/3; 3/32] START max_depth=2, n_estimators=20...............................\n",
      "[CV 3/3; 3/32] END .............max_depth=2, n_estimators=20; total time=   1.1s\n",
      "[CV 1/3; 4/32] START max_depth=2, n_estimators=25...............................\n",
      "[CV 1/3; 4/32] END .............max_depth=2, n_estimators=25; total time=   1.4s\n",
      "[CV 2/3; 4/32] START max_depth=2, n_estimators=25...............................\n",
      "[CV 2/3; 4/32] END .............max_depth=2, n_estimators=25; total time=   1.5s\n",
      "[CV 3/3; 4/32] START max_depth=2, n_estimators=25...............................\n",
      "[CV 3/3; 4/32] END .............max_depth=2, n_estimators=25; total time=   1.4s\n",
      "[CV 1/3; 5/32] START max_depth=2, n_estimators=30...............................\n",
      "[CV 1/3; 5/32] END .............max_depth=2, n_estimators=30; total time=   1.7s\n",
      "[CV 2/3; 5/32] START max_depth=2, n_estimators=30...............................\n",
      "[CV 2/3; 5/32] END .............max_depth=2, n_estimators=30; total time=   1.7s\n",
      "[CV 3/3; 5/32] START max_depth=2, n_estimators=30...............................\n",
      "[CV 3/3; 5/32] END .............max_depth=2, n_estimators=30; total time=   1.6s\n",
      "[CV 1/3; 6/32] START max_depth=2, n_estimators=35...............................\n",
      "[CV 1/3; 6/32] END .............max_depth=2, n_estimators=35; total time=   1.9s\n",
      "[CV 2/3; 6/32] START max_depth=2, n_estimators=35...............................\n",
      "[CV 2/3; 6/32] END .............max_depth=2, n_estimators=35; total time=   1.9s\n",
      "[CV 3/3; 6/32] START max_depth=2, n_estimators=35...............................\n",
      "[CV 3/3; 6/32] END .............max_depth=2, n_estimators=35; total time=   1.9s\n",
      "[CV 1/3; 7/32] START max_depth=2, n_estimators=40...............................\n",
      "[CV 1/3; 7/32] END .............max_depth=2, n_estimators=40; total time=   2.3s\n",
      "[CV 2/3; 7/32] START max_depth=2, n_estimators=40...............................\n",
      "[CV 2/3; 7/32] END .............max_depth=2, n_estimators=40; total time=   2.2s\n",
      "[CV 3/3; 7/32] START max_depth=2, n_estimators=40...............................\n",
      "[CV 3/3; 7/32] END .............max_depth=2, n_estimators=40; total time=   2.3s\n",
      "[CV 1/3; 8/32] START max_depth=2, n_estimators=45...............................\n",
      "[CV 1/3; 8/32] END .............max_depth=2, n_estimators=45; total time=   2.5s\n",
      "[CV 2/3; 8/32] START max_depth=2, n_estimators=45...............................\n",
      "[CV 2/3; 8/32] END .............max_depth=2, n_estimators=45; total time=   2.6s\n",
      "[CV 3/3; 8/32] START max_depth=2, n_estimators=45...............................\n",
      "[CV 3/3; 8/32] END .............max_depth=2, n_estimators=45; total time=   2.5s\n",
      "[CV 1/3; 9/32] START max_depth=4, n_estimators=10...............................\n",
      "[CV 1/3; 9/32] END .............max_depth=4, n_estimators=10; total time=   1.1s\n",
      "[CV 2/3; 9/32] START max_depth=4, n_estimators=10...............................\n",
      "[CV 2/3; 9/32] END .............max_depth=4, n_estimators=10; total time=   1.2s\n",
      "[CV 3/3; 9/32] START max_depth=4, n_estimators=10...............................\n",
      "[CV 3/3; 9/32] END .............max_depth=4, n_estimators=10; total time=   1.1s\n",
      "[CV 1/3; 10/32] START max_depth=4, n_estimators=15..............................\n",
      "[CV 1/3; 10/32] END ............max_depth=4, n_estimators=15; total time=   1.6s\n",
      "[CV 2/3; 10/32] START max_depth=4, n_estimators=15..............................\n",
      "[CV 2/3; 10/32] END ............max_depth=4, n_estimators=15; total time=   1.5s\n",
      "[CV 3/3; 10/32] START max_depth=4, n_estimators=15..............................\n",
      "[CV 3/3; 10/32] END ............max_depth=4, n_estimators=15; total time=   1.6s\n",
      "[CV 1/3; 11/32] START max_depth=4, n_estimators=20..............................\n",
      "[CV 1/3; 11/32] END ............max_depth=4, n_estimators=20; total time=   2.2s\n",
      "[CV 2/3; 11/32] START max_depth=4, n_estimators=20..............................\n",
      "[CV 2/3; 11/32] END ............max_depth=4, n_estimators=20; total time=   2.1s\n",
      "[CV 3/3; 11/32] START max_depth=4, n_estimators=20..............................\n",
      "[CV 3/3; 11/32] END ............max_depth=4, n_estimators=20; total time=   2.0s\n",
      "[CV 1/3; 12/32] START max_depth=4, n_estimators=25..............................\n",
      "[CV 1/3; 12/32] END ............max_depth=4, n_estimators=25; total time=   2.6s\n",
      "[CV 2/3; 12/32] START max_depth=4, n_estimators=25..............................\n",
      "[CV 2/3; 12/32] END ............max_depth=4, n_estimators=25; total time=   2.8s\n",
      "[CV 3/3; 12/32] START max_depth=4, n_estimators=25..............................\n",
      "[CV 3/3; 12/32] END ............max_depth=4, n_estimators=25; total time=   2.6s\n",
      "[CV 1/3; 13/32] START max_depth=4, n_estimators=30..............................\n",
      "[CV 1/3; 13/32] END ............max_depth=4, n_estimators=30; total time=   3.1s\n",
      "[CV 2/3; 13/32] START max_depth=4, n_estimators=30..............................\n",
      "[CV 2/3; 13/32] END ............max_depth=4, n_estimators=30; total time=   3.1s\n",
      "[CV 3/3; 13/32] START max_depth=4, n_estimators=30..............................\n",
      "[CV 3/3; 13/32] END ............max_depth=4, n_estimators=30; total time=   3.1s\n",
      "[CV 1/3; 14/32] START max_depth=4, n_estimators=35..............................\n",
      "[CV 1/3; 14/32] END ............max_depth=4, n_estimators=35; total time=   3.6s\n",
      "[CV 2/3; 14/32] START max_depth=4, n_estimators=35..............................\n",
      "[CV 2/3; 14/32] END ............max_depth=4, n_estimators=35; total time=   3.7s\n",
      "[CV 3/3; 14/32] START max_depth=4, n_estimators=35..............................\n",
      "[CV 3/3; 14/32] END ............max_depth=4, n_estimators=35; total time=   3.7s\n",
      "[CV 1/3; 15/32] START max_depth=4, n_estimators=40..............................\n",
      "[CV 1/3; 15/32] END ............max_depth=4, n_estimators=40; total time=   4.2s\n",
      "[CV 2/3; 15/32] START max_depth=4, n_estimators=40..............................\n",
      "[CV 2/3; 15/32] END ............max_depth=4, n_estimators=40; total time=   4.2s\n",
      "[CV 3/3; 15/32] START max_depth=4, n_estimators=40..............................\n",
      "[CV 3/3; 15/32] END ............max_depth=4, n_estimators=40; total time=   4.3s\n",
      "[CV 1/3; 16/32] START max_depth=4, n_estimators=45..............................\n",
      "[CV 1/3; 16/32] END ............max_depth=4, n_estimators=45; total time=   4.7s\n",
      "[CV 2/3; 16/32] START max_depth=4, n_estimators=45..............................\n",
      "[CV 2/3; 16/32] END ............max_depth=4, n_estimators=45; total time=   4.7s\n",
      "[CV 3/3; 16/32] START max_depth=4, n_estimators=45..............................\n",
      "[CV 3/3; 16/32] END ............max_depth=4, n_estimators=45; total time=   5.0s\n",
      "[CV 1/3; 17/32] START max_depth=6, n_estimators=10..............................\n",
      "[CV 1/3; 17/32] END ............max_depth=6, n_estimators=10; total time=   2.5s\n",
      "[CV 2/3; 17/32] START max_depth=6, n_estimators=10..............................\n",
      "[CV 2/3; 17/32] END ............max_depth=6, n_estimators=10; total time=   1.6s\n",
      "[CV 3/3; 17/32] START max_depth=6, n_estimators=10..............................\n",
      "[CV 3/3; 17/32] END ............max_depth=6, n_estimators=10; total time=   1.4s\n",
      "[CV 1/3; 18/32] START max_depth=6, n_estimators=15..............................\n",
      "[CV 1/3; 18/32] END ............max_depth=6, n_estimators=15; total time=   2.2s\n",
      "[CV 2/3; 18/32] START max_depth=6, n_estimators=15..............................\n",
      "[CV 2/3; 18/32] END ............max_depth=6, n_estimators=15; total time=   2.3s\n",
      "[CV 3/3; 18/32] START max_depth=6, n_estimators=15..............................\n",
      "[CV 3/3; 18/32] END ............max_depth=6, n_estimators=15; total time=   2.2s\n",
      "[CV 1/3; 19/32] START max_depth=6, n_estimators=20..............................\n",
      "[CV 1/3; 19/32] END ............max_depth=6, n_estimators=20; total time=   3.5s\n",
      "[CV 2/3; 19/32] START max_depth=6, n_estimators=20..............................\n",
      "[CV 2/3; 19/32] END ............max_depth=6, n_estimators=20; total time=   2.9s\n",
      "[CV 3/3; 19/32] START max_depth=6, n_estimators=20..............................\n",
      "[CV 3/3; 19/32] END ............max_depth=6, n_estimators=20; total time=   2.9s\n",
      "[CV 1/3; 20/32] START max_depth=6, n_estimators=25..............................\n",
      "[CV 1/3; 20/32] END ............max_depth=6, n_estimators=25; total time=   3.7s\n",
      "[CV 2/3; 20/32] START max_depth=6, n_estimators=25..............................\n",
      "[CV 2/3; 20/32] END ............max_depth=6, n_estimators=25; total time=   3.6s\n",
      "[CV 3/3; 20/32] START max_depth=6, n_estimators=25..............................\n",
      "[CV 3/3; 20/32] END ............max_depth=6, n_estimators=25; total time=   3.7s\n",
      "[CV 1/3; 21/32] START max_depth=6, n_estimators=30..............................\n",
      "[CV 1/3; 21/32] END ............max_depth=6, n_estimators=30; total time=   4.4s\n",
      "[CV 2/3; 21/32] START max_depth=6, n_estimators=30..............................\n",
      "[CV 2/3; 21/32] END ............max_depth=6, n_estimators=30; total time=   4.6s\n",
      "[CV 3/3; 21/32] START max_depth=6, n_estimators=30..............................\n",
      "[CV 3/3; 21/32] END ............max_depth=6, n_estimators=30; total time=   4.4s\n",
      "[CV 1/3; 22/32] START max_depth=6, n_estimators=35..............................\n",
      "[CV 1/3; 22/32] END ............max_depth=6, n_estimators=35; total time=   5.2s\n",
      "[CV 2/3; 22/32] START max_depth=6, n_estimators=35..............................\n",
      "[CV 2/3; 22/32] END ............max_depth=6, n_estimators=35; total time=   5.3s\n",
      "[CV 3/3; 22/32] START max_depth=6, n_estimators=35..............................\n",
      "[CV 3/3; 22/32] END ............max_depth=6, n_estimators=35; total time=   5.3s\n",
      "[CV 1/3; 23/32] START max_depth=6, n_estimators=40..............................\n",
      "[CV 1/3; 23/32] END ............max_depth=6, n_estimators=40; total time=   6.0s\n",
      "[CV 2/3; 23/32] START max_depth=6, n_estimators=40..............................\n",
      "[CV 2/3; 23/32] END ............max_depth=6, n_estimators=40; total time=   6.3s\n",
      "[CV 3/3; 23/32] START max_depth=6, n_estimators=40..............................\n",
      "[CV 3/3; 23/32] END ............max_depth=6, n_estimators=40; total time=   6.0s\n",
      "[CV 1/3; 24/32] START max_depth=6, n_estimators=45..............................\n",
      "[CV 1/3; 24/32] END ............max_depth=6, n_estimators=45; total time=   6.8s\n",
      "[CV 2/3; 24/32] START max_depth=6, n_estimators=45..............................\n",
      "[CV 2/3; 24/32] END ............max_depth=6, n_estimators=45; total time=   6.8s\n",
      "[CV 3/3; 24/32] START max_depth=6, n_estimators=45..............................\n",
      "[CV 3/3; 24/32] END ............max_depth=6, n_estimators=45; total time=   6.8s\n",
      "[CV 1/3; 25/32] START max_depth=8, n_estimators=10..............................\n",
      "[CV 1/3; 25/32] END ............max_depth=8, n_estimators=10; total time=   2.0s\n",
      "[CV 2/3; 25/32] START max_depth=8, n_estimators=10..............................\n",
      "[CV 2/3; 25/32] END ............max_depth=8, n_estimators=10; total time=   2.1s\n",
      "[CV 3/3; 25/32] START max_depth=8, n_estimators=10..............................\n",
      "[CV 3/3; 25/32] END ............max_depth=8, n_estimators=10; total time=   1.9s\n",
      "[CV 1/3; 26/32] START max_depth=8, n_estimators=15..............................\n",
      "[CV 1/3; 26/32] END ............max_depth=8, n_estimators=15; total time=   2.9s\n",
      "[CV 2/3; 26/32] START max_depth=8, n_estimators=15..............................\n",
      "[CV 2/3; 26/32] END ............max_depth=8, n_estimators=15; total time=   2.9s\n",
      "[CV 3/3; 26/32] START max_depth=8, n_estimators=15..............................\n",
      "[CV 3/3; 26/32] END ............max_depth=8, n_estimators=15; total time=   3.0s\n",
      "[CV 1/3; 27/32] START max_depth=8, n_estimators=20..............................\n",
      "[CV 1/3; 27/32] END ............max_depth=8, n_estimators=20; total time=   4.0s\n",
      "[CV 2/3; 27/32] START max_depth=8, n_estimators=20..............................\n",
      "[CV 2/3; 27/32] END ............max_depth=8, n_estimators=20; total time=   3.9s\n",
      "[CV 3/3; 27/32] START max_depth=8, n_estimators=20..............................\n",
      "[CV 3/3; 27/32] END ............max_depth=8, n_estimators=20; total time=   3.8s\n",
      "[CV 1/3; 28/32] START max_depth=8, n_estimators=25..............................\n",
      "[CV 1/3; 28/32] END ............max_depth=8, n_estimators=25; total time=   4.9s\n",
      "[CV 2/3; 28/32] START max_depth=8, n_estimators=25..............................\n",
      "[CV 2/3; 28/32] END ............max_depth=8, n_estimators=25; total time=   5.1s\n",
      "[CV 3/3; 28/32] START max_depth=8, n_estimators=25..............................\n",
      "[CV 3/3; 28/32] END ............max_depth=8, n_estimators=25; total time=   4.8s\n",
      "[CV 1/3; 29/32] START max_depth=8, n_estimators=30..............................\n",
      "[CV 1/3; 29/32] END ............max_depth=8, n_estimators=30; total time=   6.0s\n",
      "[CV 2/3; 29/32] START max_depth=8, n_estimators=30..............................\n",
      "[CV 2/3; 29/32] END ............max_depth=8, n_estimators=30; total time=   5.8s\n",
      "[CV 3/3; 29/32] START max_depth=8, n_estimators=30..............................\n",
      "[CV 3/3; 29/32] END ............max_depth=8, n_estimators=30; total time=   5.9s\n",
      "[CV 1/3; 30/32] START max_depth=8, n_estimators=35..............................\n",
      "[CV 1/3; 30/32] END ............max_depth=8, n_estimators=35; total time=   6.9s\n",
      "[CV 2/3; 30/32] START max_depth=8, n_estimators=35..............................\n",
      "[CV 2/3; 30/32] END ............max_depth=8, n_estimators=35; total time=   6.7s\n",
      "[CV 3/3; 30/32] START max_depth=8, n_estimators=35..............................\n",
      "[CV 3/3; 30/32] END ............max_depth=8, n_estimators=35; total time=   6.8s\n",
      "[CV 1/3; 31/32] START max_depth=8, n_estimators=40..............................\n",
      "[CV 1/3; 31/32] END ............max_depth=8, n_estimators=40; total time=  11.2s\n",
      "[CV 2/3; 31/32] START max_depth=8, n_estimators=40..............................\n",
      "[CV 2/3; 31/32] END ............max_depth=8, n_estimators=40; total time=  14.7s\n",
      "[CV 3/3; 31/32] START max_depth=8, n_estimators=40..............................\n",
      "[CV 3/3; 31/32] END ............max_depth=8, n_estimators=40; total time=   9.7s\n",
      "[CV 1/3; 32/32] START max_depth=8, n_estimators=45..............................\n",
      "[CV 1/3; 32/32] END ............max_depth=8, n_estimators=45; total time=   9.1s\n",
      "[CV 2/3; 32/32] START max_depth=8, n_estimators=45..............................\n",
      "[CV 2/3; 32/32] END ............max_depth=8, n_estimators=45; total time=  15.4s\n",
      "[CV 3/3; 32/32] START max_depth=8, n_estimators=45..............................\n",
      "[CV 3/3; 32/32] END ............max_depth=8, n_estimators=45; total time=   8.9s\n"
     ]
    },
    {
     "data": {
      "text/plain": [
       "GridSearchCV(cv=3, estimator=RandomForestRegressor(random_state=1), n_jobs=-1,\n",
       "             param_grid={'max_depth': [2, 4, 6, 8],\n",
       "                         'n_estimators': range(10, 50, 5)},\n",
       "             scoring=make_scorer(smape, greater_is_better=False), verbose=10)"
      ]
     },
     "execution_count": 33,
     "metadata": {},
     "output_type": "execute_result"
    }
   ],
   "source": [
    "model_3 = RandomForestRegressor(random_state=1)\n",
    "\n",
    "params = {'max_depth' : [2,4,6,8],\n",
    "          'n_estimators' : range(10,50,5)}\n",
    "\n",
    "grid_CV_3 = GridSearchCV(estimator=model_3, \n",
    "                         param_grid=params, \n",
    "                         scoring = points,\n",
    "                         cv=3,\n",
    "                         n_jobs=-1,\n",
    "                         verbose=10)\n",
    "\n",
    "grid_CV_3.fit(features, target_1)"
   ]
  },
  {
   "cell_type": "code",
   "execution_count": 34,
   "metadata": {},
   "outputs": [
    {
     "name": "stdout",
     "output_type": "stream",
     "text": [
      "{'max_depth': 2, 'n_estimators': 10}\n",
      "\n",
      "Оценка лучшей модели случайного леса для чернового концентрата 7.774590227971527\n"
     ]
    }
   ],
   "source": [
    "best_params = grid_CV_3.best_params_\n",
    "print(best_params)\n",
    "print()\n",
    "best_score = grid_CV_3.best_score_\n",
    "print('Оценка лучшей модели случайного леса для чернового концентрата', -(best_score))"
   ]
  },
  {
   "cell_type": "code",
   "execution_count": 35,
   "metadata": {},
   "outputs": [
    {
     "name": "stdout",
     "output_type": "stream",
     "text": [
      "Fitting 3 folds for each of 32 candidates, totalling 96 fits\n",
      "[CV 1/3; 1/32] START max_depth=2, n_estimators=10...............................\n",
      "[CV 1/3; 1/32] END .............max_depth=2, n_estimators=10; total time=   0.6s\n",
      "[CV 2/3; 1/32] START max_depth=2, n_estimators=10...............................\n",
      "[CV 2/3; 1/32] END .............max_depth=2, n_estimators=10; total time=   0.6s\n",
      "[CV 3/3; 1/32] START max_depth=2, n_estimators=10...............................\n",
      "[CV 3/3; 1/32] END .............max_depth=2, n_estimators=10; total time=   0.6s\n",
      "[CV 1/3; 2/32] START max_depth=2, n_estimators=15...............................\n",
      "[CV 1/3; 2/32] END .............max_depth=2, n_estimators=15; total time=   0.9s\n",
      "[CV 2/3; 2/32] START max_depth=2, n_estimators=15...............................\n",
      "[CV 2/3; 2/32] END .............max_depth=2, n_estimators=15; total time=   1.0s\n",
      "[CV 3/3; 2/32] START max_depth=2, n_estimators=15...............................\n",
      "[CV 3/3; 2/32] END .............max_depth=2, n_estimators=15; total time=   0.9s\n",
      "[CV 1/3; 3/32] START max_depth=2, n_estimators=20...............................\n",
      "[CV 1/3; 3/32] END .............max_depth=2, n_estimators=20; total time=   1.4s\n",
      "[CV 2/3; 3/32] START max_depth=2, n_estimators=20...............................\n",
      "[CV 2/3; 3/32] END .............max_depth=2, n_estimators=20; total time=   1.2s\n",
      "[CV 3/3; 3/32] START max_depth=2, n_estimators=20...............................\n",
      "[CV 3/3; 3/32] END .............max_depth=2, n_estimators=20; total time=   1.2s\n",
      "[CV 1/3; 4/32] START max_depth=2, n_estimators=25...............................\n",
      "[CV 1/3; 4/32] END .............max_depth=2, n_estimators=25; total time=   2.7s\n",
      "[CV 2/3; 4/32] START max_depth=2, n_estimators=25...............................\n",
      "[CV 2/3; 4/32] END .............max_depth=2, n_estimators=25; total time=   2.8s\n",
      "[CV 3/3; 4/32] START max_depth=2, n_estimators=25...............................\n",
      "[CV 3/3; 4/32] END .............max_depth=2, n_estimators=25; total time=   2.7s\n",
      "[CV 1/3; 5/32] START max_depth=2, n_estimators=30...............................\n",
      "[CV 1/3; 5/32] END .............max_depth=2, n_estimators=30; total time=   5.1s\n",
      "[CV 2/3; 5/32] START max_depth=2, n_estimators=30...............................\n",
      "[CV 2/3; 5/32] END .............max_depth=2, n_estimators=30; total time=   6.6s\n",
      "[CV 3/3; 5/32] START max_depth=2, n_estimators=30...............................\n",
      "[CV 3/3; 5/32] END .............max_depth=2, n_estimators=30; total time=   4.1s\n",
      "[CV 1/3; 6/32] START max_depth=2, n_estimators=35...............................\n",
      "[CV 1/3; 6/32] END .............max_depth=2, n_estimators=35; total time=   4.0s\n",
      "[CV 2/3; 6/32] START max_depth=2, n_estimators=35...............................\n",
      "[CV 2/3; 6/32] END .............max_depth=2, n_estimators=35; total time=   2.1s\n",
      "[CV 3/3; 6/32] START max_depth=2, n_estimators=35...............................\n",
      "[CV 3/3; 6/32] END .............max_depth=2, n_estimators=35; total time=   2.1s\n",
      "[CV 1/3; 7/32] START max_depth=2, n_estimators=40...............................\n",
      "[CV 1/3; 7/32] END .............max_depth=2, n_estimators=40; total time=   2.4s\n",
      "[CV 2/3; 7/32] START max_depth=2, n_estimators=40...............................\n",
      "[CV 2/3; 7/32] END .............max_depth=2, n_estimators=40; total time=   2.4s\n",
      "[CV 3/3; 7/32] START max_depth=2, n_estimators=40...............................\n",
      "[CV 3/3; 7/32] END .............max_depth=2, n_estimators=40; total time=   2.4s\n",
      "[CV 1/3; 8/32] START max_depth=2, n_estimators=45...............................\n",
      "[CV 1/3; 8/32] END .............max_depth=2, n_estimators=45; total time=   2.7s\n",
      "[CV 2/3; 8/32] START max_depth=2, n_estimators=45...............................\n",
      "[CV 2/3; 8/32] END .............max_depth=2, n_estimators=45; total time=   2.7s\n",
      "[CV 3/3; 8/32] START max_depth=2, n_estimators=45...............................\n",
      "[CV 3/3; 8/32] END .............max_depth=2, n_estimators=45; total time=   2.7s\n",
      "[CV 1/3; 9/32] START max_depth=4, n_estimators=10...............................\n",
      "[CV 1/3; 9/32] END .............max_depth=4, n_estimators=10; total time=   1.1s\n",
      "[CV 2/3; 9/32] START max_depth=4, n_estimators=10...............................\n",
      "[CV 2/3; 9/32] END .............max_depth=4, n_estimators=10; total time=   1.1s\n",
      "[CV 3/3; 9/32] START max_depth=4, n_estimators=10...............................\n",
      "[CV 3/3; 9/32] END .............max_depth=4, n_estimators=10; total time=   1.1s\n",
      "[CV 1/3; 10/32] START max_depth=4, n_estimators=15..............................\n",
      "[CV 1/3; 10/32] END ............max_depth=4, n_estimators=15; total time=   1.7s\n",
      "[CV 2/3; 10/32] START max_depth=4, n_estimators=15..............................\n",
      "[CV 2/3; 10/32] END ............max_depth=4, n_estimators=15; total time=   1.6s\n",
      "[CV 3/3; 10/32] START max_depth=4, n_estimators=15..............................\n",
      "[CV 3/3; 10/32] END ............max_depth=4, n_estimators=15; total time=   1.7s\n",
      "[CV 1/3; 11/32] START max_depth=4, n_estimators=20..............................\n",
      "[CV 1/3; 11/32] END ............max_depth=4, n_estimators=20; total time=   2.2s\n",
      "[CV 2/3; 11/32] START max_depth=4, n_estimators=20..............................\n",
      "[CV 2/3; 11/32] END ............max_depth=4, n_estimators=20; total time=   2.2s\n",
      "[CV 3/3; 11/32] START max_depth=4, n_estimators=20..............................\n",
      "[CV 3/3; 11/32] END ............max_depth=4, n_estimators=20; total time=   2.2s\n",
      "[CV 1/3; 12/32] START max_depth=4, n_estimators=25..............................\n",
      "[CV 1/3; 12/32] END ............max_depth=4, n_estimators=25; total time=   2.9s\n",
      "[CV 2/3; 12/32] START max_depth=4, n_estimators=25..............................\n",
      "[CV 2/3; 12/32] END ............max_depth=4, n_estimators=25; total time=   2.7s\n",
      "[CV 3/3; 12/32] START max_depth=4, n_estimators=25..............................\n",
      "[CV 3/3; 12/32] END ............max_depth=4, n_estimators=25; total time=   2.8s\n",
      "[CV 1/3; 13/32] START max_depth=4, n_estimators=30..............................\n",
      "[CV 1/3; 13/32] END ............max_depth=4, n_estimators=30; total time=   3.3s\n",
      "[CV 2/3; 13/32] START max_depth=4, n_estimators=30..............................\n",
      "[CV 2/3; 13/32] END ............max_depth=4, n_estimators=30; total time=   3.3s\n",
      "[CV 3/3; 13/32] START max_depth=4, n_estimators=30..............................\n",
      "[CV 3/3; 13/32] END ............max_depth=4, n_estimators=30; total time=   3.5s\n",
      "[CV 1/3; 14/32] START max_depth=4, n_estimators=35..............................\n",
      "[CV 1/3; 14/32] END ............max_depth=4, n_estimators=35; total time=   3.9s\n",
      "[CV 2/3; 14/32] START max_depth=4, n_estimators=35..............................\n",
      "[CV 2/3; 14/32] END ............max_depth=4, n_estimators=35; total time=   3.8s\n",
      "[CV 3/3; 14/32] START max_depth=4, n_estimators=35..............................\n",
      "[CV 3/3; 14/32] END ............max_depth=4, n_estimators=35; total time=   3.8s\n",
      "[CV 1/3; 15/32] START max_depth=4, n_estimators=40..............................\n",
      "[CV 1/3; 15/32] END ............max_depth=4, n_estimators=40; total time=   4.4s\n",
      "[CV 2/3; 15/32] START max_depth=4, n_estimators=40..............................\n",
      "[CV 2/3; 15/32] END ............max_depth=4, n_estimators=40; total time=   4.3s\n",
      "[CV 3/3; 15/32] START max_depth=4, n_estimators=40..............................\n",
      "[CV 3/3; 15/32] END ............max_depth=4, n_estimators=40; total time=   4.4s\n",
      "[CV 1/3; 16/32] START max_depth=4, n_estimators=45..............................\n",
      "[CV 1/3; 16/32] END ............max_depth=4, n_estimators=45; total time=   5.1s\n",
      "[CV 2/3; 16/32] START max_depth=4, n_estimators=45..............................\n",
      "[CV 2/3; 16/32] END ............max_depth=4, n_estimators=45; total time=   5.1s\n",
      "[CV 3/3; 16/32] START max_depth=4, n_estimators=45..............................\n",
      "[CV 3/3; 16/32] END ............max_depth=4, n_estimators=45; total time=   5.1s\n",
      "[CV 1/3; 17/32] START max_depth=6, n_estimators=10..............................\n",
      "[CV 1/3; 17/32] END ............max_depth=6, n_estimators=10; total time=   1.6s\n",
      "[CV 2/3; 17/32] START max_depth=6, n_estimators=10..............................\n",
      "[CV 2/3; 17/32] END ............max_depth=6, n_estimators=10; total time=   1.5s\n",
      "[CV 3/3; 17/32] START max_depth=6, n_estimators=10..............................\n",
      "[CV 3/3; 17/32] END ............max_depth=6, n_estimators=10; total time=   1.6s\n",
      "[CV 1/3; 18/32] START max_depth=6, n_estimators=15..............................\n",
      "[CV 1/3; 18/32] END ............max_depth=6, n_estimators=15; total time=   2.3s\n",
      "[CV 2/3; 18/32] START max_depth=6, n_estimators=15..............................\n",
      "[CV 2/3; 18/32] END ............max_depth=6, n_estimators=15; total time=   2.3s\n",
      "[CV 3/3; 18/32] START max_depth=6, n_estimators=15..............................\n",
      "[CV 3/3; 18/32] END ............max_depth=6, n_estimators=15; total time=   2.3s\n",
      "[CV 1/3; 19/32] START max_depth=6, n_estimators=20..............................\n",
      "[CV 1/3; 19/32] END ............max_depth=6, n_estimators=20; total time=   3.1s\n",
      "[CV 2/3; 19/32] START max_depth=6, n_estimators=20..............................\n",
      "[CV 2/3; 19/32] END ............max_depth=6, n_estimators=20; total time=   3.1s\n",
      "[CV 3/3; 19/32] START max_depth=6, n_estimators=20..............................\n",
      "[CV 3/3; 19/32] END ............max_depth=6, n_estimators=20; total time=   4.3s\n",
      "[CV 1/3; 20/32] START max_depth=6, n_estimators=25..............................\n",
      "[CV 1/3; 20/32] END ............max_depth=6, n_estimators=25; total time=   4.0s\n",
      "[CV 2/3; 20/32] START max_depth=6, n_estimators=25..............................\n",
      "[CV 2/3; 20/32] END ............max_depth=6, n_estimators=25; total time=   3.9s\n",
      "[CV 3/3; 20/32] START max_depth=6, n_estimators=25..............................\n",
      "[CV 3/3; 20/32] END ............max_depth=6, n_estimators=25; total time=   4.1s\n",
      "[CV 1/3; 21/32] START max_depth=6, n_estimators=30..............................\n",
      "[CV 1/3; 21/32] END ............max_depth=6, n_estimators=30; total time=   4.9s\n",
      "[CV 2/3; 21/32] START max_depth=6, n_estimators=30..............................\n",
      "[CV 2/3; 21/32] END ............max_depth=6, n_estimators=30; total time=   4.6s\n",
      "[CV 3/3; 21/32] START max_depth=6, n_estimators=30..............................\n",
      "[CV 3/3; 21/32] END ............max_depth=6, n_estimators=30; total time=   4.8s\n",
      "[CV 1/3; 22/32] START max_depth=6, n_estimators=35..............................\n",
      "[CV 1/3; 22/32] END ............max_depth=6, n_estimators=35; total time=   5.5s\n",
      "[CV 2/3; 22/32] START max_depth=6, n_estimators=35..............................\n",
      "[CV 2/3; 22/32] END ............max_depth=6, n_estimators=35; total time=   5.4s\n",
      "[CV 3/3; 22/32] START max_depth=6, n_estimators=35..............................\n",
      "[CV 3/3; 22/32] END ............max_depth=6, n_estimators=35; total time=   5.6s\n",
      "[CV 1/3; 23/32] START max_depth=6, n_estimators=40..............................\n",
      "[CV 1/3; 23/32] END ............max_depth=6, n_estimators=40; total time=   6.3s\n",
      "[CV 2/3; 23/32] START max_depth=6, n_estimators=40..............................\n",
      "[CV 2/3; 23/32] END ............max_depth=6, n_estimators=40; total time=   6.0s\n",
      "[CV 3/3; 23/32] START max_depth=6, n_estimators=40..............................\n",
      "[CV 3/3; 23/32] END ............max_depth=6, n_estimators=40; total time=   6.3s\n",
      "[CV 1/3; 24/32] START max_depth=6, n_estimators=45..............................\n",
      "[CV 1/3; 24/32] END ............max_depth=6, n_estimators=45; total time=   7.1s\n",
      "[CV 2/3; 24/32] START max_depth=6, n_estimators=45..............................\n",
      "[CV 2/3; 24/32] END ............max_depth=6, n_estimators=45; total time=   7.0s\n",
      "[CV 3/3; 24/32] START max_depth=6, n_estimators=45..............................\n",
      "[CV 3/3; 24/32] END ............max_depth=6, n_estimators=45; total time=   7.2s\n",
      "[CV 1/3; 25/32] START max_depth=8, n_estimators=10..............................\n",
      "[CV 1/3; 25/32] END ............max_depth=8, n_estimators=10; total time=   2.0s\n",
      "[CV 2/3; 25/32] START max_depth=8, n_estimators=10..............................\n",
      "[CV 2/3; 25/32] END ............max_depth=8, n_estimators=10; total time=   1.9s\n",
      "[CV 3/3; 25/32] START max_depth=8, n_estimators=10..............................\n",
      "[CV 3/3; 25/32] END ............max_depth=8, n_estimators=10; total time=   2.0s\n",
      "[CV 1/3; 26/32] START max_depth=8, n_estimators=15..............................\n",
      "[CV 1/3; 26/32] END ............max_depth=8, n_estimators=15; total time=   2.9s\n",
      "[CV 2/3; 26/32] START max_depth=8, n_estimators=15..............................\n",
      "[CV 2/3; 26/32] END ............max_depth=8, n_estimators=15; total time=   3.1s\n",
      "[CV 3/3; 26/32] START max_depth=8, n_estimators=15..............................\n",
      "[CV 3/3; 26/32] END ............max_depth=8, n_estimators=15; total time=   3.0s\n",
      "[CV 1/3; 27/32] START max_depth=8, n_estimators=20..............................\n",
      "[CV 1/3; 27/32] END ............max_depth=8, n_estimators=20; total time=   3.9s\n",
      "[CV 2/3; 27/32] START max_depth=8, n_estimators=20..............................\n",
      "[CV 2/3; 27/32] END ............max_depth=8, n_estimators=20; total time=   3.8s\n",
      "[CV 3/3; 27/32] START max_depth=8, n_estimators=20..............................\n",
      "[CV 3/3; 27/32] END ............max_depth=8, n_estimators=20; total time=   5.6s\n",
      "[CV 1/3; 28/32] START max_depth=8, n_estimators=25..............................\n",
      "[CV 1/3; 28/32] END ............max_depth=8, n_estimators=25; total time=  13.2s\n",
      "[CV 2/3; 28/32] START max_depth=8, n_estimators=25..............................\n",
      "[CV 2/3; 28/32] END ............max_depth=8, n_estimators=25; total time=   9.0s\n",
      "[CV 3/3; 28/32] START max_depth=8, n_estimators=25..............................\n",
      "[CV 3/3; 28/32] END ............max_depth=8, n_estimators=25; total time=   4.9s\n",
      "[CV 1/3; 29/32] START max_depth=8, n_estimators=30..............................\n",
      "[CV 1/3; 29/32] END ............max_depth=8, n_estimators=30; total time=   5.7s\n",
      "[CV 2/3; 29/32] START max_depth=8, n_estimators=30..............................\n",
      "[CV 2/3; 29/32] END ............max_depth=8, n_estimators=30; total time=   5.6s\n",
      "[CV 3/3; 29/32] START max_depth=8, n_estimators=30..............................\n",
      "[CV 3/3; 29/32] END ............max_depth=8, n_estimators=30; total time=   6.7s\n",
      "[CV 1/3; 30/32] START max_depth=8, n_estimators=35..............................\n",
      "[CV 1/3; 30/32] END ............max_depth=8, n_estimators=35; total time=   6.8s\n",
      "[CV 2/3; 30/32] START max_depth=8, n_estimators=35..............................\n",
      "[CV 2/3; 30/32] END ............max_depth=8, n_estimators=35; total time=   6.9s\n",
      "[CV 3/3; 30/32] START max_depth=8, n_estimators=35..............................\n",
      "[CV 3/3; 30/32] END ............max_depth=8, n_estimators=35; total time=  14.3s\n",
      "[CV 1/3; 31/32] START max_depth=8, n_estimators=40..............................\n",
      "[CV 1/3; 31/32] END ............max_depth=8, n_estimators=40; total time=  15.8s\n",
      "[CV 2/3; 31/32] START max_depth=8, n_estimators=40..............................\n",
      "[CV 2/3; 31/32] END ............max_depth=8, n_estimators=40; total time=  15.6s\n",
      "[CV 3/3; 31/32] START max_depth=8, n_estimators=40..............................\n",
      "[CV 3/3; 31/32] END ............max_depth=8, n_estimators=40; total time=   7.9s\n",
      "[CV 1/3; 32/32] START max_depth=8, n_estimators=45..............................\n",
      "[CV 1/3; 32/32] END ............max_depth=8, n_estimators=45; total time=   8.7s\n",
      "[CV 2/3; 32/32] START max_depth=8, n_estimators=45..............................\n",
      "[CV 2/3; 32/32] END ............max_depth=8, n_estimators=45; total time=   8.6s\n",
      "[CV 3/3; 32/32] START max_depth=8, n_estimators=45..............................\n",
      "[CV 3/3; 32/32] END ............max_depth=8, n_estimators=45; total time=   8.8s\n"
     ]
    },
    {
     "data": {
      "text/plain": [
       "GridSearchCV(cv=3, estimator=RandomForestRegressor(random_state=1), n_jobs=-1,\n",
       "             param_grid={'max_depth': [2, 4, 6, 8],\n",
       "                         'n_estimators': range(10, 50, 5)},\n",
       "             scoring=make_scorer(smape, greater_is_better=False), verbose=10)"
      ]
     },
     "execution_count": 35,
     "metadata": {},
     "output_type": "execute_result"
    }
   ],
   "source": [
    "model_4 = RandomForestRegressor(random_state =1)\n",
    "\n",
    "params = {'max_depth' : [2,4,6,8],\n",
    "          'n_estimators' : range(10,50,5)}\n",
    "\n",
    "grid_CV_4 = GridSearchCV(estimator=model_4, \n",
    "                         param_grid=params, \n",
    "                         scoring = points,\n",
    "                         cv=3,\n",
    "                         n_jobs=-1,\n",
    "                         verbose=10)\n",
    "\n",
    "grid_CV_4.fit(features, target_2)"
   ]
  },
  {
   "cell_type": "code",
   "execution_count": 36,
   "metadata": {},
   "outputs": [
    {
     "name": "stdout",
     "output_type": "stream",
     "text": [
      "{'max_depth': 2, 'n_estimators': 10}\n",
      "\n",
      "Оценка лучшей модели случайного леса для финального концентрата 10.213809788407744\n"
     ]
    }
   ],
   "source": [
    "best_params_4 = grid_CV_4.best_params_\n",
    "print(best_params)\n",
    "print()\n",
    "best_score_4 = grid_CV_4.best_score_\n",
    "print('Оценка лучшей модели случайного леса для финального концентрата', -(best_score_4))"
   ]
  },
  {
   "cell_type": "markdown",
   "metadata": {},
   "source": [
    "#### Посчитаем общее симметричное среднее абсолютное процентное отклонение для модели случайного леса"
   ]
  },
  {
   "cell_type": "code",
   "execution_count": 37,
   "metadata": {},
   "outputs": [
    {
     "name": "stdout",
     "output_type": "stream",
     "text": [
      "Общее симметричное среднее абсолютное процентное отклонение для модели лениейной регрессии составляет 9.60400489829869 %\n"
     ]
    }
   ],
   "source": [
    "common_smape_rf = 0.25*best_score + 0.75*best_score_4\n",
    "\n",
    "print('Общее симметричное среднее абсолютное процентное отклонение для модели лениейной регрессии составляет', -(common_smape_rf), '%')"
   ]
  },
  {
   "cell_type": "markdown",
   "metadata": {},
   "source": [
    "#### промежуточный вывод:\n",
    "\n",
    "Для оценки симметричного среднего абсолютного процентного отклонения берем модель случайного леса с 10 деревьями с глубиной 2."
   ]
  },
  {
   "cell_type": "markdown",
   "metadata": {},
   "source": [
    "### Проверим модель на тестовой выборке"
   ]
  },
  {
   "cell_type": "code",
   "execution_count": 38,
   "metadata": {
    "scrolled": true
   },
   "outputs": [
    {
     "data": {
      "text/html": [
       "<div>\n",
       "<style scoped>\n",
       "    .dataframe tbody tr th:only-of-type {\n",
       "        vertical-align: middle;\n",
       "    }\n",
       "\n",
       "    .dataframe tbody tr th {\n",
       "        vertical-align: top;\n",
       "    }\n",
       "\n",
       "    .dataframe thead th {\n",
       "        text-align: right;\n",
       "    }\n",
       "</style>\n",
       "<table border=\"1\" class=\"dataframe\">\n",
       "  <thead>\n",
       "    <tr style=\"text-align: right;\">\n",
       "      <th></th>\n",
       "      <th>date</th>\n",
       "      <th>primary_cleaner.input.sulfate</th>\n",
       "      <th>primary_cleaner.input.depressant</th>\n",
       "      <th>primary_cleaner.input.feed_size</th>\n",
       "      <th>primary_cleaner.input.xanthate</th>\n",
       "      <th>primary_cleaner.state.floatbank8_a_air</th>\n",
       "      <th>primary_cleaner.state.floatbank8_a_level</th>\n",
       "      <th>primary_cleaner.state.floatbank8_b_air</th>\n",
       "      <th>primary_cleaner.state.floatbank8_b_level</th>\n",
       "      <th>primary_cleaner.state.floatbank8_c_air</th>\n",
       "      <th>...</th>\n",
       "      <th>secondary_cleaner.state.floatbank4_b_air</th>\n",
       "      <th>secondary_cleaner.state.floatbank4_b_level</th>\n",
       "      <th>secondary_cleaner.state.floatbank5_a_air</th>\n",
       "      <th>secondary_cleaner.state.floatbank5_a_level</th>\n",
       "      <th>secondary_cleaner.state.floatbank5_b_air</th>\n",
       "      <th>secondary_cleaner.state.floatbank5_b_level</th>\n",
       "      <th>secondary_cleaner.state.floatbank6_a_air</th>\n",
       "      <th>secondary_cleaner.state.floatbank6_a_level</th>\n",
       "      <th>rougher.output.recovery</th>\n",
       "      <th>final.output.recovery</th>\n",
       "    </tr>\n",
       "  </thead>\n",
       "  <tbody>\n",
       "    <tr>\n",
       "      <th>0</th>\n",
       "      <td>2016-09-01 00:59:59</td>\n",
       "      <td>210.800909</td>\n",
       "      <td>14.993118</td>\n",
       "      <td>8.080000</td>\n",
       "      <td>1.005021</td>\n",
       "      <td>1398.981301</td>\n",
       "      <td>-500.225577</td>\n",
       "      <td>1399.144926</td>\n",
       "      <td>-499.919735</td>\n",
       "      <td>1400.102998</td>\n",
       "      <td>...</td>\n",
       "      <td>8.016656</td>\n",
       "      <td>-501.289139</td>\n",
       "      <td>7.946562</td>\n",
       "      <td>-432.317850</td>\n",
       "      <td>4.872511</td>\n",
       "      <td>-500.037437</td>\n",
       "      <td>26.705889</td>\n",
       "      <td>-499.709414</td>\n",
       "      <td>89.993421</td>\n",
       "      <td>70.273583</td>\n",
       "    </tr>\n",
       "    <tr>\n",
       "      <th>1</th>\n",
       "      <td>2016-09-01 01:59:59</td>\n",
       "      <td>215.392455</td>\n",
       "      <td>14.987471</td>\n",
       "      <td>8.080000</td>\n",
       "      <td>0.990469</td>\n",
       "      <td>1398.777912</td>\n",
       "      <td>-500.057435</td>\n",
       "      <td>1398.055362</td>\n",
       "      <td>-499.778182</td>\n",
       "      <td>1396.151033</td>\n",
       "      <td>...</td>\n",
       "      <td>8.130979</td>\n",
       "      <td>-499.634209</td>\n",
       "      <td>7.958270</td>\n",
       "      <td>-525.839648</td>\n",
       "      <td>4.878850</td>\n",
       "      <td>-500.162375</td>\n",
       "      <td>25.019940</td>\n",
       "      <td>-499.819438</td>\n",
       "      <td>88.089657</td>\n",
       "      <td>68.910432</td>\n",
       "    </tr>\n",
       "    <tr>\n",
       "      <th>2</th>\n",
       "      <td>2016-09-01 02:59:59</td>\n",
       "      <td>215.259946</td>\n",
       "      <td>12.884934</td>\n",
       "      <td>7.786667</td>\n",
       "      <td>0.996043</td>\n",
       "      <td>1398.493666</td>\n",
       "      <td>-500.868360</td>\n",
       "      <td>1398.860436</td>\n",
       "      <td>-499.764529</td>\n",
       "      <td>1398.075709</td>\n",
       "      <td>...</td>\n",
       "      <td>8.096893</td>\n",
       "      <td>-500.827423</td>\n",
       "      <td>8.071056</td>\n",
       "      <td>-500.801673</td>\n",
       "      <td>4.905125</td>\n",
       "      <td>-499.828510</td>\n",
       "      <td>24.994862</td>\n",
       "      <td>-500.622559</td>\n",
       "      <td>88.412756</td>\n",
       "      <td>68.143213</td>\n",
       "    </tr>\n",
       "    <tr>\n",
       "      <th>3</th>\n",
       "      <td>2016-09-01 03:59:59</td>\n",
       "      <td>215.336236</td>\n",
       "      <td>12.006805</td>\n",
       "      <td>7.640000</td>\n",
       "      <td>0.863514</td>\n",
       "      <td>1399.618111</td>\n",
       "      <td>-498.863574</td>\n",
       "      <td>1397.440120</td>\n",
       "      <td>-499.211024</td>\n",
       "      <td>1400.129303</td>\n",
       "      <td>...</td>\n",
       "      <td>8.074946</td>\n",
       "      <td>-499.474407</td>\n",
       "      <td>7.897085</td>\n",
       "      <td>-500.868509</td>\n",
       "      <td>4.931400</td>\n",
       "      <td>-499.963623</td>\n",
       "      <td>24.948919</td>\n",
       "      <td>-498.709987</td>\n",
       "      <td>87.360133</td>\n",
       "      <td>67.776393</td>\n",
       "    </tr>\n",
       "    <tr>\n",
       "      <th>4</th>\n",
       "      <td>2016-09-01 04:59:59</td>\n",
       "      <td>199.099327</td>\n",
       "      <td>10.682530</td>\n",
       "      <td>7.530000</td>\n",
       "      <td>0.805575</td>\n",
       "      <td>1401.268123</td>\n",
       "      <td>-500.808305</td>\n",
       "      <td>1398.128818</td>\n",
       "      <td>-499.504543</td>\n",
       "      <td>1402.172226</td>\n",
       "      <td>...</td>\n",
       "      <td>8.054678</td>\n",
       "      <td>-500.397500</td>\n",
       "      <td>8.107890</td>\n",
       "      <td>-509.526725</td>\n",
       "      <td>4.957674</td>\n",
       "      <td>-500.360026</td>\n",
       "      <td>25.003331</td>\n",
       "      <td>-500.856333</td>\n",
       "      <td>83.236367</td>\n",
       "      <td>61.467078</td>\n",
       "    </tr>\n",
       "    <tr>\n",
       "      <th>...</th>\n",
       "      <td>...</td>\n",
       "      <td>...</td>\n",
       "      <td>...</td>\n",
       "      <td>...</td>\n",
       "      <td>...</td>\n",
       "      <td>...</td>\n",
       "      <td>...</td>\n",
       "      <td>...</td>\n",
       "      <td>...</td>\n",
       "      <td>...</td>\n",
       "      <td>...</td>\n",
       "      <td>...</td>\n",
       "      <td>...</td>\n",
       "      <td>...</td>\n",
       "      <td>...</td>\n",
       "      <td>...</td>\n",
       "      <td>...</td>\n",
       "      <td>...</td>\n",
       "      <td>...</td>\n",
       "      <td>...</td>\n",
       "      <td>...</td>\n",
       "    </tr>\n",
       "    <tr>\n",
       "      <th>5117</th>\n",
       "      <td>2017-12-31 19:59:59</td>\n",
       "      <td>173.957757</td>\n",
       "      <td>15.963399</td>\n",
       "      <td>8.070000</td>\n",
       "      <td>0.896701</td>\n",
       "      <td>1401.930554</td>\n",
       "      <td>-499.728848</td>\n",
       "      <td>1401.441445</td>\n",
       "      <td>-499.193423</td>\n",
       "      <td>1399.810313</td>\n",
       "      <td>...</td>\n",
       "      <td>12.069155</td>\n",
       "      <td>-499.673279</td>\n",
       "      <td>7.977259</td>\n",
       "      <td>-499.516126</td>\n",
       "      <td>5.933319</td>\n",
       "      <td>-499.965973</td>\n",
       "      <td>8.987171</td>\n",
       "      <td>-499.755909</td>\n",
       "      <td>95.172585</td>\n",
       "      <td>68.919891</td>\n",
       "    </tr>\n",
       "    <tr>\n",
       "      <th>5118</th>\n",
       "      <td>2017-12-31 20:59:59</td>\n",
       "      <td>172.910270</td>\n",
       "      <td>16.002605</td>\n",
       "      <td>8.070000</td>\n",
       "      <td>0.896519</td>\n",
       "      <td>1447.075722</td>\n",
       "      <td>-494.716823</td>\n",
       "      <td>1448.851892</td>\n",
       "      <td>-465.963026</td>\n",
       "      <td>1443.890424</td>\n",
       "      <td>...</td>\n",
       "      <td>13.365371</td>\n",
       "      <td>-499.122723</td>\n",
       "      <td>9.288553</td>\n",
       "      <td>-496.892967</td>\n",
       "      <td>7.372897</td>\n",
       "      <td>-499.942956</td>\n",
       "      <td>8.986832</td>\n",
       "      <td>-499.903761</td>\n",
       "      <td>94.575036</td>\n",
       "      <td>68.440582</td>\n",
       "    </tr>\n",
       "    <tr>\n",
       "      <th>5119</th>\n",
       "      <td>2017-12-31 21:59:59</td>\n",
       "      <td>171.135718</td>\n",
       "      <td>15.993669</td>\n",
       "      <td>8.070000</td>\n",
       "      <td>1.165996</td>\n",
       "      <td>1498.836182</td>\n",
       "      <td>-501.770403</td>\n",
       "      <td>1499.572353</td>\n",
       "      <td>-495.516347</td>\n",
       "      <td>1502.749213</td>\n",
       "      <td>...</td>\n",
       "      <td>15.101425</td>\n",
       "      <td>-499.936252</td>\n",
       "      <td>10.989181</td>\n",
       "      <td>-498.347898</td>\n",
       "      <td>9.020944</td>\n",
       "      <td>-500.040448</td>\n",
       "      <td>8.982038</td>\n",
       "      <td>-497.789882</td>\n",
       "      <td>93.018138</td>\n",
       "      <td>67.092759</td>\n",
       "    </tr>\n",
       "    <tr>\n",
       "      <th>5120</th>\n",
       "      <td>2017-12-31 22:59:59</td>\n",
       "      <td>179.697158</td>\n",
       "      <td>15.438979</td>\n",
       "      <td>8.070000</td>\n",
       "      <td>1.501068</td>\n",
       "      <td>1498.466243</td>\n",
       "      <td>-500.483984</td>\n",
       "      <td>1497.986986</td>\n",
       "      <td>-519.200340</td>\n",
       "      <td>1496.569047</td>\n",
       "      <td>...</td>\n",
       "      <td>15.026853</td>\n",
       "      <td>-499.723143</td>\n",
       "      <td>11.011607</td>\n",
       "      <td>-499.985046</td>\n",
       "      <td>9.009783</td>\n",
       "      <td>-499.937902</td>\n",
       "      <td>9.012660</td>\n",
       "      <td>-500.154284</td>\n",
       "      <td>92.599042</td>\n",
       "      <td>68.061186</td>\n",
       "    </tr>\n",
       "    <tr>\n",
       "      <th>5121</th>\n",
       "      <td>2017-12-31 23:59:59</td>\n",
       "      <td>181.556856</td>\n",
       "      <td>14.995850</td>\n",
       "      <td>8.070000</td>\n",
       "      <td>1.623454</td>\n",
       "      <td>1498.096303</td>\n",
       "      <td>-499.796922</td>\n",
       "      <td>1501.743791</td>\n",
       "      <td>-505.146931</td>\n",
       "      <td>1499.535978</td>\n",
       "      <td>...</td>\n",
       "      <td>14.914199</td>\n",
       "      <td>-499.948518</td>\n",
       "      <td>10.986607</td>\n",
       "      <td>-500.658027</td>\n",
       "      <td>8.989497</td>\n",
       "      <td>-500.337588</td>\n",
       "      <td>8.988632</td>\n",
       "      <td>-500.764937</td>\n",
       "      <td>91.177695</td>\n",
       "      <td>71.699976</td>\n",
       "    </tr>\n",
       "  </tbody>\n",
       "</table>\n",
       "<p>5122 rows × 55 columns</p>\n",
       "</div>"
      ],
      "text/plain": [
       "                     date  primary_cleaner.input.sulfate  \\\n",
       "0     2016-09-01 00:59:59                     210.800909   \n",
       "1     2016-09-01 01:59:59                     215.392455   \n",
       "2     2016-09-01 02:59:59                     215.259946   \n",
       "3     2016-09-01 03:59:59                     215.336236   \n",
       "4     2016-09-01 04:59:59                     199.099327   \n",
       "...                   ...                            ...   \n",
       "5117  2017-12-31 19:59:59                     173.957757   \n",
       "5118  2017-12-31 20:59:59                     172.910270   \n",
       "5119  2017-12-31 21:59:59                     171.135718   \n",
       "5120  2017-12-31 22:59:59                     179.697158   \n",
       "5121  2017-12-31 23:59:59                     181.556856   \n",
       "\n",
       "      primary_cleaner.input.depressant  primary_cleaner.input.feed_size  \\\n",
       "0                            14.993118                         8.080000   \n",
       "1                            14.987471                         8.080000   \n",
       "2                            12.884934                         7.786667   \n",
       "3                            12.006805                         7.640000   \n",
       "4                            10.682530                         7.530000   \n",
       "...                                ...                              ...   \n",
       "5117                         15.963399                         8.070000   \n",
       "5118                         16.002605                         8.070000   \n",
       "5119                         15.993669                         8.070000   \n",
       "5120                         15.438979                         8.070000   \n",
       "5121                         14.995850                         8.070000   \n",
       "\n",
       "      primary_cleaner.input.xanthate  primary_cleaner.state.floatbank8_a_air  \\\n",
       "0                           1.005021                             1398.981301   \n",
       "1                           0.990469                             1398.777912   \n",
       "2                           0.996043                             1398.493666   \n",
       "3                           0.863514                             1399.618111   \n",
       "4                           0.805575                             1401.268123   \n",
       "...                              ...                                     ...   \n",
       "5117                        0.896701                             1401.930554   \n",
       "5118                        0.896519                             1447.075722   \n",
       "5119                        1.165996                             1498.836182   \n",
       "5120                        1.501068                             1498.466243   \n",
       "5121                        1.623454                             1498.096303   \n",
       "\n",
       "      primary_cleaner.state.floatbank8_a_level  \\\n",
       "0                                  -500.225577   \n",
       "1                                  -500.057435   \n",
       "2                                  -500.868360   \n",
       "3                                  -498.863574   \n",
       "4                                  -500.808305   \n",
       "...                                        ...   \n",
       "5117                               -499.728848   \n",
       "5118                               -494.716823   \n",
       "5119                               -501.770403   \n",
       "5120                               -500.483984   \n",
       "5121                               -499.796922   \n",
       "\n",
       "      primary_cleaner.state.floatbank8_b_air  \\\n",
       "0                                1399.144926   \n",
       "1                                1398.055362   \n",
       "2                                1398.860436   \n",
       "3                                1397.440120   \n",
       "4                                1398.128818   \n",
       "...                                      ...   \n",
       "5117                             1401.441445   \n",
       "5118                             1448.851892   \n",
       "5119                             1499.572353   \n",
       "5120                             1497.986986   \n",
       "5121                             1501.743791   \n",
       "\n",
       "      primary_cleaner.state.floatbank8_b_level  \\\n",
       "0                                  -499.919735   \n",
       "1                                  -499.778182   \n",
       "2                                  -499.764529   \n",
       "3                                  -499.211024   \n",
       "4                                  -499.504543   \n",
       "...                                        ...   \n",
       "5117                               -499.193423   \n",
       "5118                               -465.963026   \n",
       "5119                               -495.516347   \n",
       "5120                               -519.200340   \n",
       "5121                               -505.146931   \n",
       "\n",
       "      primary_cleaner.state.floatbank8_c_air  ...  \\\n",
       "0                                1400.102998  ...   \n",
       "1                                1396.151033  ...   \n",
       "2                                1398.075709  ...   \n",
       "3                                1400.129303  ...   \n",
       "4                                1402.172226  ...   \n",
       "...                                      ...  ...   \n",
       "5117                             1399.810313  ...   \n",
       "5118                             1443.890424  ...   \n",
       "5119                             1502.749213  ...   \n",
       "5120                             1496.569047  ...   \n",
       "5121                             1499.535978  ...   \n",
       "\n",
       "      secondary_cleaner.state.floatbank4_b_air  \\\n",
       "0                                     8.016656   \n",
       "1                                     8.130979   \n",
       "2                                     8.096893   \n",
       "3                                     8.074946   \n",
       "4                                     8.054678   \n",
       "...                                        ...   \n",
       "5117                                 12.069155   \n",
       "5118                                 13.365371   \n",
       "5119                                 15.101425   \n",
       "5120                                 15.026853   \n",
       "5121                                 14.914199   \n",
       "\n",
       "      secondary_cleaner.state.floatbank4_b_level  \\\n",
       "0                                    -501.289139   \n",
       "1                                    -499.634209   \n",
       "2                                    -500.827423   \n",
       "3                                    -499.474407   \n",
       "4                                    -500.397500   \n",
       "...                                          ...   \n",
       "5117                                 -499.673279   \n",
       "5118                                 -499.122723   \n",
       "5119                                 -499.936252   \n",
       "5120                                 -499.723143   \n",
       "5121                                 -499.948518   \n",
       "\n",
       "      secondary_cleaner.state.floatbank5_a_air  \\\n",
       "0                                     7.946562   \n",
       "1                                     7.958270   \n",
       "2                                     8.071056   \n",
       "3                                     7.897085   \n",
       "4                                     8.107890   \n",
       "...                                        ...   \n",
       "5117                                  7.977259   \n",
       "5118                                  9.288553   \n",
       "5119                                 10.989181   \n",
       "5120                                 11.011607   \n",
       "5121                                 10.986607   \n",
       "\n",
       "      secondary_cleaner.state.floatbank5_a_level  \\\n",
       "0                                    -432.317850   \n",
       "1                                    -525.839648   \n",
       "2                                    -500.801673   \n",
       "3                                    -500.868509   \n",
       "4                                    -509.526725   \n",
       "...                                          ...   \n",
       "5117                                 -499.516126   \n",
       "5118                                 -496.892967   \n",
       "5119                                 -498.347898   \n",
       "5120                                 -499.985046   \n",
       "5121                                 -500.658027   \n",
       "\n",
       "      secondary_cleaner.state.floatbank5_b_air  \\\n",
       "0                                     4.872511   \n",
       "1                                     4.878850   \n",
       "2                                     4.905125   \n",
       "3                                     4.931400   \n",
       "4                                     4.957674   \n",
       "...                                        ...   \n",
       "5117                                  5.933319   \n",
       "5118                                  7.372897   \n",
       "5119                                  9.020944   \n",
       "5120                                  9.009783   \n",
       "5121                                  8.989497   \n",
       "\n",
       "      secondary_cleaner.state.floatbank5_b_level  \\\n",
       "0                                    -500.037437   \n",
       "1                                    -500.162375   \n",
       "2                                    -499.828510   \n",
       "3                                    -499.963623   \n",
       "4                                    -500.360026   \n",
       "...                                          ...   \n",
       "5117                                 -499.965973   \n",
       "5118                                 -499.942956   \n",
       "5119                                 -500.040448   \n",
       "5120                                 -499.937902   \n",
       "5121                                 -500.337588   \n",
       "\n",
       "      secondary_cleaner.state.floatbank6_a_air  \\\n",
       "0                                    26.705889   \n",
       "1                                    25.019940   \n",
       "2                                    24.994862   \n",
       "3                                    24.948919   \n",
       "4                                    25.003331   \n",
       "...                                        ...   \n",
       "5117                                  8.987171   \n",
       "5118                                  8.986832   \n",
       "5119                                  8.982038   \n",
       "5120                                  9.012660   \n",
       "5121                                  8.988632   \n",
       "\n",
       "      secondary_cleaner.state.floatbank6_a_level  rougher.output.recovery  \\\n",
       "0                                    -499.709414                89.993421   \n",
       "1                                    -499.819438                88.089657   \n",
       "2                                    -500.622559                88.412756   \n",
       "3                                    -498.709987                87.360133   \n",
       "4                                    -500.856333                83.236367   \n",
       "...                                          ...                      ...   \n",
       "5117                                 -499.755909                95.172585   \n",
       "5118                                 -499.903761                94.575036   \n",
       "5119                                 -497.789882                93.018138   \n",
       "5120                                 -500.154284                92.599042   \n",
       "5121                                 -500.764937                91.177695   \n",
       "\n",
       "      final.output.recovery  \n",
       "0                 70.273583  \n",
       "1                 68.910432  \n",
       "2                 68.143213  \n",
       "3                 67.776393  \n",
       "4                 61.467078  \n",
       "...                     ...  \n",
       "5117              68.919891  \n",
       "5118              68.440582  \n",
       "5119              67.092759  \n",
       "5120              68.061186  \n",
       "5121              71.699976  \n",
       "\n",
       "[5122 rows x 55 columns]"
      ]
     },
     "execution_count": 38,
     "metadata": {},
     "output_type": "execute_result"
    }
   ],
   "source": [
    "data_test=df_test.merge(df_full[['date', 'rougher.output.recovery', 'final.output.recovery']], on='date')\n",
    "data_test"
   ]
  },
  {
   "cell_type": "code",
   "execution_count": 39,
   "metadata": {},
   "outputs": [],
   "source": [
    "# Раздеим тестовую выборку на признаки и целевой показатель:\n",
    "features_test = data_test.drop(['rougher.output.recovery','final.output.recovery', 'date'], axis=1)\n",
    "\n",
    "target_test_1 = data_test['rougher.output.recovery']\n",
    "target_test_2 = data_test['final.output.recovery']"
   ]
  },
  {
   "cell_type": "code",
   "execution_count": 40,
   "metadata": {},
   "outputs": [
    {
     "name": "stdout",
     "output_type": "stream",
     "text": [
      "Общее симметричное среднее абсолютное процентное отклонение для модели лениейной регрессии составляет 6.973553044053742 %\n"
     ]
    }
   ],
   "source": [
    "# Обучим нашу модель случайного леса на обучающей тестовой выборке:\n",
    "\n",
    "predictions_1 = grid_CV_3.best_estimator_.predict(features_test)\n",
    "predictions_2 = grid_CV_4.best_estimator_.predict(features_test)\n",
    "\n",
    "smape_final_1 = smape(target_test_1, predictions_1)\n",
    "smape_final_2 = smape(target_test_2, predictions_2)\n",
    "\n",
    "common_smape_final = 0.25*smape_final_1 + 0.75*smape_final_2\n",
    "\n",
    "print('Общее симметричное среднее абсолютное процентное отклонение для модели лениейной регрессии составляет', (common_smape_final), '%')\n"
   ]
  },
  {
   "cell_type": "markdown",
   "metadata": {},
   "source": [
    "Сравним работу нашей модели со средним числом (проверим на адекватность)\n"
   ]
  },
  {
   "cell_type": "code",
   "execution_count": 41,
   "metadata": {},
   "outputs": [
    {
     "name": "stdout",
     "output_type": "stream",
     "text": [
      "Общее симметричное среднее абсолютное процентное отклонение для константной модели 7.770717123671202 %\n"
     ]
    }
   ],
   "source": [
    "dummy_regr_1 = DummyRegressor(strategy=\"mean\")\n",
    "dummy_regr_2 = DummyRegressor(strategy=\"mean\")\n",
    "\n",
    "dummy_regr_1.fit(features, target_1)\n",
    "dummy_regr_2.fit(features, target_2)\n",
    "\n",
    "dummy_pred_1 = dummy_regr_1.predict(features_test)\n",
    "dummy_pred_2 = dummy_regr_2.predict(features_test)\n",
    "\n",
    "\n",
    "score_1 = smape(target_test_1, dummy_pred_1)\n",
    "score_2 = smape(target_test_2, dummy_pred_2)\n",
    "\n",
    "common_smape_dm = 0.25*score_1 + 0.75*score_2\n",
    "\n",
    "print('Общее симметричное среднее абсолютное процентное отклонение для константной модели', (common_smape_dm), '%')"
   ]
  },
  {
   "cell_type": "markdown",
   "metadata": {},
   "source": [
    "#### Выыод по сравнению с дамми моделью:\n",
    "\n",
    "Наша модель предсказывает лучше, чем случайная"
   ]
  },
  {
   "cell_type": "markdown",
   "metadata": {},
   "source": [
    "## Выводы:\n"
   ]
  },
  {
   "cell_type": "markdown",
   "metadata": {},
   "source": [
    "1. Вэтом проекте мы подгрузили данные в проект, заполнили пропуски и разобрались с тем, как сформированы обучающий и тестовый сеты. Проверили правильность расчеты целевой метрики и убедились в \"исправности\" данных.\n",
    "2. По итогам анализа мы убедились в схожести распределений для тренировочной и тестовой выборки, расмотрели распределения некоторых величин и убрали выпадающие значения.\n",
    "3. В рамках технического задания метрикой качества было выбрано именно процентное отклонение. \n",
    "4. Для предсказания мы использовали 3 модели: линейную регрессию, решающие деревья и случайный лес. \n",
    "5. Для повышения качества моделей мы применяли форматирование признаков, обучение на кросс валидации, перебор параметров модели.\n",
    "6. В итоге нам удалось добиться точности выше, чем была указана заказчиком. "
   ]
  }
 ],
 "metadata": {
  "ExecuteTimeLog": [
   {
    "duration": 910,
    "start_time": "2023-02-19T10:00:16.384Z"
   },
   {
    "duration": 2063,
    "start_time": "2023-02-19T10:00:18.505Z"
   },
   {
    "duration": 313,
    "start_time": "2023-02-19T10:00:56.952Z"
   },
   {
    "duration": 353,
    "start_time": "2023-02-19T10:04:10.919Z"
   },
   {
    "duration": 294,
    "start_time": "2023-02-19T10:04:16.190Z"
   },
   {
    "duration": 295,
    "start_time": "2023-02-19T10:04:20.763Z"
   },
   {
    "duration": 361,
    "start_time": "2023-02-19T10:04:33.998Z"
   },
   {
    "duration": 14,
    "start_time": "2023-02-19T10:10:52.844Z"
   },
   {
    "duration": 11,
    "start_time": "2023-02-19T10:11:22.375Z"
   },
   {
    "duration": 18,
    "start_time": "2023-02-19T10:11:30.228Z"
   },
   {
    "duration": 492,
    "start_time": "2023-02-19T10:20:36.035Z"
   },
   {
    "duration": 317,
    "start_time": "2023-02-19T10:21:25.340Z"
   },
   {
    "duration": 354,
    "start_time": "2023-02-19T10:21:36.470Z"
   },
   {
    "duration": 369,
    "start_time": "2023-02-19T10:21:58.672Z"
   },
   {
    "duration": 25,
    "start_time": "2023-02-19T10:22:50.735Z"
   },
   {
    "duration": 12,
    "start_time": "2023-02-19T10:23:11.034Z"
   },
   {
    "duration": 13,
    "start_time": "2023-02-19T10:27:22.526Z"
   },
   {
    "duration": 4,
    "start_time": "2023-02-19T10:28:11.189Z"
   },
   {
    "duration": 20,
    "start_time": "2023-02-19T10:28:18.332Z"
   },
   {
    "duration": 53,
    "start_time": "2023-02-19T10:35:09.594Z"
   },
   {
    "duration": 24,
    "start_time": "2023-02-19T10:35:42.033Z"
   },
   {
    "duration": 26,
    "start_time": "2023-02-19T10:35:57.732Z"
   },
   {
    "duration": 17,
    "start_time": "2023-02-19T10:36:05.292Z"
   },
   {
    "duration": 14,
    "start_time": "2023-02-19T10:36:08.266Z"
   },
   {
    "duration": 30,
    "start_time": "2023-02-19T10:36:15.437Z"
   },
   {
    "duration": 17,
    "start_time": "2023-02-19T10:36:26.157Z"
   },
   {
    "duration": 3,
    "start_time": "2023-02-19T10:36:43.262Z"
   },
   {
    "duration": 349,
    "start_time": "2023-02-19T10:36:43.275Z"
   },
   {
    "duration": 17,
    "start_time": "2023-02-19T10:36:43.626Z"
   },
   {
    "duration": 42,
    "start_time": "2023-02-19T10:36:43.646Z"
   },
   {
    "duration": 57,
    "start_time": "2023-02-19T10:36:43.691Z"
   },
   {
    "duration": 16,
    "start_time": "2023-02-19T10:37:00.435Z"
   },
   {
    "duration": 3,
    "start_time": "2023-02-19T10:38:03.731Z"
   },
   {
    "duration": 29,
    "start_time": "2023-02-19T10:38:13.889Z"
   },
   {
    "duration": 18,
    "start_time": "2023-02-19T10:39:44.925Z"
   },
   {
    "duration": 13,
    "start_time": "2023-02-19T10:39:50.868Z"
   },
   {
    "duration": 13,
    "start_time": "2023-02-19T10:40:00.534Z"
   },
   {
    "duration": 421,
    "start_time": "2023-02-19T10:40:00.549Z"
   },
   {
    "duration": 13,
    "start_time": "2023-02-19T10:40:00.972Z"
   },
   {
    "duration": 93,
    "start_time": "2023-02-19T10:40:00.987Z"
   },
   {
    "duration": 94,
    "start_time": "2023-02-19T10:40:01.082Z"
   },
   {
    "duration": 95,
    "start_time": "2023-02-19T10:40:01.179Z"
   },
   {
    "duration": 103,
    "start_time": "2023-02-19T10:40:01.275Z"
   },
   {
    "duration": 12,
    "start_time": "2023-02-19T10:42:11.245Z"
   },
   {
    "duration": 366,
    "start_time": "2023-02-19T10:42:11.259Z"
   },
   {
    "duration": 25,
    "start_time": "2023-02-19T10:42:11.630Z"
   },
   {
    "duration": 30,
    "start_time": "2023-02-19T10:42:11.661Z"
   },
   {
    "duration": 3,
    "start_time": "2023-02-19T10:42:11.694Z"
   },
   {
    "duration": 63,
    "start_time": "2023-02-19T10:42:11.699Z"
   },
   {
    "duration": 30,
    "start_time": "2023-02-19T10:42:11.764Z"
   },
   {
    "duration": 4,
    "start_time": "2023-02-19T10:42:45.735Z"
   },
   {
    "duration": 56,
    "start_time": "2023-02-19T10:43:37.353Z"
   },
   {
    "duration": 45,
    "start_time": "2023-02-19T10:44:10.769Z"
   },
   {
    "duration": 369,
    "start_time": "2023-02-19T10:44:21.133Z"
   },
   {
    "duration": 230,
    "start_time": "2023-02-19T10:45:51.990Z"
   },
   {
    "duration": 1645,
    "start_time": "2023-02-19T11:00:35.395Z"
   },
   {
    "duration": 9,
    "start_time": "2023-02-19T11:00:43.826Z"
   },
   {
    "duration": 8,
    "start_time": "2023-02-19T11:00:47.572Z"
   },
   {
    "duration": 1663,
    "start_time": "2023-02-19T11:00:49.730Z"
   },
   {
    "duration": 3,
    "start_time": "2023-02-19T11:01:11.385Z"
   },
   {
    "duration": 388,
    "start_time": "2023-02-19T11:01:11.392Z"
   },
   {
    "duration": 24,
    "start_time": "2023-02-19T11:01:11.782Z"
   },
   {
    "duration": 35,
    "start_time": "2023-02-19T11:01:11.811Z"
   },
   {
    "duration": 12,
    "start_time": "2023-02-19T11:01:11.849Z"
   },
   {
    "duration": 10,
    "start_time": "2023-02-19T11:01:11.863Z"
   },
   {
    "duration": 25,
    "start_time": "2023-02-19T11:01:11.875Z"
   },
   {
    "duration": 333,
    "start_time": "2023-02-19T11:01:11.902Z"
   },
   {
    "duration": 115,
    "start_time": "2023-02-19T11:01:12.236Z"
   },
   {
    "duration": 1770,
    "start_time": "2023-02-19T11:01:12.353Z"
   },
   {
    "duration": 0,
    "start_time": "2023-02-19T11:01:14.126Z"
   },
   {
    "duration": 0,
    "start_time": "2023-02-19T11:01:14.131Z"
   },
   {
    "duration": 3,
    "start_time": "2023-02-19T11:01:29.286Z"
   },
   {
    "duration": 7,
    "start_time": "2023-02-19T11:01:32.759Z"
   },
   {
    "duration": 5,
    "start_time": "2023-02-19T11:01:35.492Z"
   },
   {
    "duration": 816,
    "start_time": "2023-02-19T11:02:50.134Z"
   },
   {
    "duration": 18,
    "start_time": "2023-02-19T11:07:55.753Z"
   },
   {
    "duration": 7,
    "start_time": "2023-02-19T11:18:29.492Z"
   },
   {
    "duration": 8,
    "start_time": "2023-02-19T11:20:34.872Z"
   },
   {
    "duration": 15,
    "start_time": "2023-02-19T11:21:43.035Z"
   },
   {
    "duration": 11,
    "start_time": "2023-02-19T11:23:19.949Z"
   },
   {
    "duration": 37,
    "start_time": "2023-02-19T11:40:23.925Z"
   },
   {
    "duration": 208,
    "start_time": "2023-02-19T11:40:54.466Z"
   },
   {
    "duration": 194,
    "start_time": "2023-02-19T11:41:10.952Z"
   },
   {
    "duration": 180,
    "start_time": "2023-02-19T11:41:20.465Z"
   },
   {
    "duration": 202,
    "start_time": "2023-02-19T11:41:36.255Z"
   },
   {
    "duration": 562,
    "start_time": "2023-02-19T11:42:28.647Z"
   },
   {
    "duration": 303,
    "start_time": "2023-02-19T11:45:41.332Z"
   },
   {
    "duration": 1398,
    "start_time": "2023-02-19T11:47:37.643Z"
   },
   {
    "duration": 1793,
    "start_time": "2023-02-19T11:47:45.164Z"
   },
   {
    "duration": 61,
    "start_time": "2023-02-19T12:22:16.336Z"
   },
   {
    "duration": 332,
    "start_time": "2023-02-19T12:22:16.399Z"
   },
   {
    "duration": 10,
    "start_time": "2023-02-19T12:22:16.735Z"
   },
   {
    "duration": 16,
    "start_time": "2023-02-19T12:22:16.748Z"
   },
   {
    "duration": 17,
    "start_time": "2023-02-19T12:22:16.766Z"
   },
   {
    "duration": 10,
    "start_time": "2023-02-19T12:22:16.785Z"
   },
   {
    "duration": 24,
    "start_time": "2023-02-19T12:22:16.797Z"
   },
   {
    "duration": 331,
    "start_time": "2023-02-19T12:22:16.826Z"
   },
   {
    "duration": 16,
    "start_time": "2023-02-19T12:22:17.159Z"
   },
   {
    "duration": 125,
    "start_time": "2023-02-19T12:22:17.177Z"
   },
   {
    "duration": 24,
    "start_time": "2023-02-19T12:22:17.304Z"
   },
   {
    "duration": 31,
    "start_time": "2023-02-19T12:22:17.329Z"
   },
   {
    "duration": 15,
    "start_time": "2023-02-19T12:22:17.362Z"
   },
   {
    "duration": 9,
    "start_time": "2023-02-19T12:22:17.380Z"
   },
   {
    "duration": 15,
    "start_time": "2023-02-19T12:22:17.390Z"
   },
   {
    "duration": 38,
    "start_time": "2023-02-19T12:22:17.412Z"
   },
   {
    "duration": 9,
    "start_time": "2023-02-19T12:22:17.452Z"
   },
   {
    "duration": 16,
    "start_time": "2023-02-19T12:22:17.463Z"
   },
   {
    "duration": 279,
    "start_time": "2023-02-19T12:22:17.481Z"
   },
   {
    "duration": 299,
    "start_time": "2023-02-19T12:22:17.762Z"
   },
   {
    "duration": 96,
    "start_time": "2023-02-19T12:22:18.063Z"
   },
   {
    "duration": 78,
    "start_time": "2023-02-19T12:24:29.918Z"
   },
   {
    "duration": 75,
    "start_time": "2023-02-19T12:24:41.043Z"
   },
   {
    "duration": 4,
    "start_time": "2023-02-19T12:29:41.352Z"
   },
   {
    "duration": 4,
    "start_time": "2023-02-19T12:41:11.194Z"
   },
   {
    "duration": 446,
    "start_time": "2023-02-19T12:41:11.201Z"
   },
   {
    "duration": 13,
    "start_time": "2023-02-19T12:41:11.652Z"
   },
   {
    "duration": 60,
    "start_time": "2023-02-19T12:41:11.668Z"
   },
   {
    "duration": 19,
    "start_time": "2023-02-19T12:41:11.738Z"
   },
   {
    "duration": 11,
    "start_time": "2023-02-19T12:41:11.759Z"
   },
   {
    "duration": 26,
    "start_time": "2023-02-19T12:41:11.773Z"
   },
   {
    "duration": 328,
    "start_time": "2023-02-19T12:41:11.801Z"
   },
   {
    "duration": 31,
    "start_time": "2023-02-19T12:41:12.132Z"
   },
   {
    "duration": 112,
    "start_time": "2023-02-19T12:41:12.165Z"
   },
   {
    "duration": 14,
    "start_time": "2023-02-19T12:41:12.278Z"
   },
   {
    "duration": 11,
    "start_time": "2023-02-19T12:41:12.303Z"
   },
   {
    "duration": 46,
    "start_time": "2023-02-19T12:41:12.316Z"
   },
   {
    "duration": 6,
    "start_time": "2023-02-19T12:41:12.364Z"
   },
   {
    "duration": 8,
    "start_time": "2023-02-19T12:41:12.372Z"
   },
   {
    "duration": 11,
    "start_time": "2023-02-19T12:41:12.382Z"
   },
   {
    "duration": 68,
    "start_time": "2023-02-19T12:41:12.395Z"
   },
   {
    "duration": 18,
    "start_time": "2023-02-19T12:41:12.464Z"
   },
   {
    "duration": 362,
    "start_time": "2023-02-19T12:41:12.484Z"
   },
   {
    "duration": 445,
    "start_time": "2023-02-19T12:41:12.848Z"
   },
   {
    "duration": 5,
    "start_time": "2023-02-19T12:41:13.295Z"
   },
   {
    "duration": 64,
    "start_time": "2023-02-19T12:41:13.302Z"
   },
   {
    "duration": 112,
    "start_time": "2023-02-19T12:53:09.361Z"
   },
   {
    "duration": 26,
    "start_time": "2023-02-19T12:53:43.933Z"
   },
   {
    "duration": 4,
    "start_time": "2023-02-19T12:55:32.286Z"
   },
   {
    "duration": 379,
    "start_time": "2023-02-19T12:55:32.292Z"
   },
   {
    "duration": 11,
    "start_time": "2023-02-19T12:55:32.673Z"
   },
   {
    "duration": 32,
    "start_time": "2023-02-19T12:55:32.702Z"
   },
   {
    "duration": 9,
    "start_time": "2023-02-19T12:55:32.737Z"
   },
   {
    "duration": 9,
    "start_time": "2023-02-19T12:55:32.748Z"
   },
   {
    "duration": 22,
    "start_time": "2023-02-19T12:55:32.758Z"
   },
   {
    "duration": 333,
    "start_time": "2023-02-19T12:55:32.782Z"
   },
   {
    "duration": 21,
    "start_time": "2023-02-19T12:55:33.118Z"
   },
   {
    "duration": 20,
    "start_time": "2023-02-19T12:55:33.141Z"
   },
   {
    "duration": 126,
    "start_time": "2023-02-19T12:55:33.164Z"
   },
   {
    "duration": 9,
    "start_time": "2023-02-19T12:55:33.293Z"
   },
   {
    "duration": 24,
    "start_time": "2023-02-19T12:55:33.309Z"
   },
   {
    "duration": 7,
    "start_time": "2023-02-19T12:55:33.337Z"
   },
   {
    "duration": 6,
    "start_time": "2023-02-19T12:55:33.346Z"
   },
   {
    "duration": 6,
    "start_time": "2023-02-19T12:55:33.354Z"
   },
   {
    "duration": 6,
    "start_time": "2023-02-19T12:55:33.362Z"
   },
   {
    "duration": 7,
    "start_time": "2023-02-19T12:55:33.370Z"
   },
   {
    "duration": 35,
    "start_time": "2023-02-19T12:55:33.379Z"
   },
   {
    "duration": 16,
    "start_time": "2023-02-19T12:55:33.417Z"
   },
   {
    "duration": 303,
    "start_time": "2023-02-19T12:55:33.435Z"
   },
   {
    "duration": 299,
    "start_time": "2023-02-19T12:55:33.740Z"
   },
   {
    "duration": 4,
    "start_time": "2023-02-19T12:55:34.041Z"
   },
   {
    "duration": 34,
    "start_time": "2023-02-19T12:55:34.048Z"
   },
   {
    "duration": 1270,
    "start_time": "2023-02-19T12:57:50.461Z"
   },
   {
    "duration": 8553,
    "start_time": "2023-02-19T12:58:08.258Z"
   },
   {
    "duration": 4204,
    "start_time": "2023-02-19T13:05:03.520Z"
   },
   {
    "duration": 8492,
    "start_time": "2023-02-19T13:15:41.551Z"
   },
   {
    "duration": 9283,
    "start_time": "2023-02-19T13:16:33.640Z"
   },
   {
    "duration": 8685,
    "start_time": "2023-02-19T13:17:03.927Z"
   },
   {
    "duration": 14352,
    "start_time": "2023-02-19T13:17:27.564Z"
   },
   {
    "duration": 17386,
    "start_time": "2023-02-19T13:18:10.562Z"
   },
   {
    "duration": 17,
    "start_time": "2023-02-19T13:20:20.756Z"
   },
   {
    "duration": 13230,
    "start_time": "2023-02-19T13:20:32.898Z"
   },
   {
    "duration": 11,
    "start_time": "2023-02-19T13:22:27.757Z"
   },
   {
    "duration": 26,
    "start_time": "2023-02-19T13:22:46.196Z"
   },
   {
    "duration": 334061,
    "start_time": "2023-02-19T13:22:57.996Z"
   },
   {
    "duration": 200039,
    "start_time": "2023-02-19T13:28:46.245Z"
   },
   {
    "duration": 15178,
    "start_time": "2023-02-19T13:33:22.658Z"
   },
   {
    "duration": 8578,
    "start_time": "2023-02-19T13:37:49.534Z"
   },
   {
    "duration": 43183,
    "start_time": "2023-02-19T13:38:19.981Z"
   },
   {
    "duration": 12,
    "start_time": "2023-02-19T13:42:19.130Z"
   },
   {
    "duration": 87772,
    "start_time": "2023-02-19T13:42:41.143Z"
   },
   {
    "duration": 47594,
    "start_time": "2023-02-19T13:46:07.264Z"
   },
   {
    "duration": 47730,
    "start_time": "2023-02-19T13:47:10.232Z"
   },
   {
    "duration": 11,
    "start_time": "2023-02-19T13:58:55.671Z"
   },
   {
    "duration": 3618,
    "start_time": "2023-02-19T13:59:37.658Z"
   },
   {
    "duration": 699968,
    "start_time": "2023-02-19T14:03:08.150Z"
   },
   {
    "duration": 229653,
    "start_time": "2023-02-19T14:15:02.540Z"
   },
   {
    "duration": 37308,
    "start_time": "2023-02-19T14:22:36.228Z"
   },
   {
    "duration": 17,
    "start_time": "2023-02-20T15:04:08.290Z"
   },
   {
    "duration": 218,
    "start_time": "2023-02-20T15:04:17.503Z"
   },
   {
    "duration": 91,
    "start_time": "2023-02-21T05:30:17.177Z"
   },
   {
    "duration": 82,
    "start_time": "2023-02-21T05:32:43.455Z"
   },
   {
    "duration": 1467,
    "start_time": "2023-02-21T05:47:41.274Z"
   },
   {
    "duration": 1514,
    "start_time": "2023-02-21T05:47:42.743Z"
   },
   {
    "duration": 9,
    "start_time": "2023-02-21T05:47:44.258Z"
   },
   {
    "duration": 15,
    "start_time": "2023-02-21T05:47:44.269Z"
   },
   {
    "duration": 4,
    "start_time": "2023-02-21T05:47:44.285Z"
   },
   {
    "duration": 16,
    "start_time": "2023-02-21T05:47:44.291Z"
   },
   {
    "duration": 252,
    "start_time": "2023-02-21T05:47:44.308Z"
   },
   {
    "duration": 15,
    "start_time": "2023-02-21T05:47:44.562Z"
   },
   {
    "duration": 14,
    "start_time": "2023-02-21T05:47:44.579Z"
   },
   {
    "duration": 144,
    "start_time": "2023-02-21T05:47:44.595Z"
   },
   {
    "duration": 7,
    "start_time": "2023-02-21T05:47:44.741Z"
   },
   {
    "duration": 11,
    "start_time": "2023-02-21T05:47:44.749Z"
   },
   {
    "duration": 2,
    "start_time": "2023-02-21T05:47:44.762Z"
   },
   {
    "duration": 8,
    "start_time": "2023-02-21T05:47:44.766Z"
   },
   {
    "duration": 6,
    "start_time": "2023-02-21T05:47:44.776Z"
   },
   {
    "duration": 15,
    "start_time": "2023-02-21T05:47:44.783Z"
   },
   {
    "duration": 140,
    "start_time": "2023-02-21T05:48:05.816Z"
   },
   {
    "duration": 205,
    "start_time": "2023-02-21T05:48:52.207Z"
   },
   {
    "duration": 172,
    "start_time": "2023-02-21T05:49:11.088Z"
   },
   {
    "duration": 238,
    "start_time": "2023-02-21T05:49:29.688Z"
   },
   {
    "duration": 282,
    "start_time": "2023-02-21T05:50:40.048Z"
   },
   {
    "duration": 212,
    "start_time": "2023-02-21T05:50:56.569Z"
   },
   {
    "duration": 215,
    "start_time": "2023-02-21T05:54:45.490Z"
   },
   {
    "duration": 245,
    "start_time": "2023-02-21T05:55:02.409Z"
   },
   {
    "duration": 204,
    "start_time": "2023-02-21T05:56:26.133Z"
   },
   {
    "duration": 273,
    "start_time": "2023-02-21T05:56:37.632Z"
   },
   {
    "duration": 214,
    "start_time": "2023-02-21T05:57:51.633Z"
   },
   {
    "duration": 210,
    "start_time": "2023-02-21T05:58:15.671Z"
   },
   {
    "duration": 246,
    "start_time": "2023-02-21T05:59:12.632Z"
   },
   {
    "duration": 250,
    "start_time": "2023-02-21T06:00:29.472Z"
   },
   {
    "duration": 355,
    "start_time": "2023-02-21T06:01:23.551Z"
   },
   {
    "duration": 288,
    "start_time": "2023-02-21T06:02:13.752Z"
   },
   {
    "duration": 287,
    "start_time": "2023-02-21T06:04:24.735Z"
   },
   {
    "duration": 322,
    "start_time": "2023-02-21T06:06:13.176Z"
   },
   {
    "duration": 271,
    "start_time": "2023-02-21T06:08:14.755Z"
   },
   {
    "duration": 271,
    "start_time": "2023-02-21T06:10:09.861Z"
   },
   {
    "duration": 361,
    "start_time": "2023-02-21T06:10:56.958Z"
   },
   {
    "duration": 286,
    "start_time": "2023-02-21T06:11:28.128Z"
   },
   {
    "duration": 298,
    "start_time": "2023-02-21T06:11:57.000Z"
   },
   {
    "duration": 296,
    "start_time": "2023-02-21T06:12:08.376Z"
   },
   {
    "duration": 246,
    "start_time": "2023-02-21T06:13:10.696Z"
   },
   {
    "duration": 329,
    "start_time": "2023-02-21T06:14:11.657Z"
   },
   {
    "duration": 263,
    "start_time": "2023-02-21T06:14:38.061Z"
   },
   {
    "duration": 106,
    "start_time": "2023-02-21T06:44:08.754Z"
   },
   {
    "duration": 3,
    "start_time": "2023-02-21T06:44:34.349Z"
   },
   {
    "duration": 88,
    "start_time": "2023-02-21T06:47:11.727Z"
   },
   {
    "duration": 1235,
    "start_time": "2023-02-21T06:54:00.688Z"
   },
   {
    "duration": 18,
    "start_time": "2023-02-21T06:55:51.007Z"
   },
   {
    "duration": 31,
    "start_time": "2023-02-21T06:59:05.967Z"
   },
   {
    "duration": 23,
    "start_time": "2023-02-21T07:02:08.528Z"
   },
   {
    "duration": 20,
    "start_time": "2023-02-21T07:02:32.288Z"
   },
   {
    "duration": 22,
    "start_time": "2023-02-21T07:02:44.475Z"
   },
   {
    "duration": 23,
    "start_time": "2023-02-21T07:06:06.929Z"
   },
   {
    "duration": 19,
    "start_time": "2023-02-21T07:07:41.008Z"
   },
   {
    "duration": 11,
    "start_time": "2023-02-21T07:09:15.751Z"
   },
   {
    "duration": 15,
    "start_time": "2023-02-21T07:09:36.127Z"
   },
   {
    "duration": 16,
    "start_time": "2023-02-21T07:09:46.387Z"
   },
   {
    "duration": 6,
    "start_time": "2023-02-21T07:11:47.467Z"
   },
   {
    "duration": 12,
    "start_time": "2023-02-21T07:12:00.306Z"
   },
   {
    "duration": 7,
    "start_time": "2023-02-21T07:12:30.768Z"
   },
   {
    "duration": 9,
    "start_time": "2023-02-21T07:14:48.968Z"
   },
   {
    "duration": 11,
    "start_time": "2023-02-21T07:15:07.159Z"
   },
   {
    "duration": 12,
    "start_time": "2023-02-21T07:15:24.927Z"
   },
   {
    "duration": 7,
    "start_time": "2023-02-21T07:15:40.447Z"
   },
   {
    "duration": 11,
    "start_time": "2023-02-21T07:15:42.528Z"
   },
   {
    "duration": 7,
    "start_time": "2023-02-21T07:16:14.767Z"
   },
   {
    "duration": 4,
    "start_time": "2023-02-21T07:16:16.459Z"
   },
   {
    "duration": 224,
    "start_time": "2023-02-21T07:23:53.716Z"
   },
   {
    "duration": 193,
    "start_time": "2023-02-21T07:26:34.443Z"
   },
   {
    "duration": 322,
    "start_time": "2023-02-21T07:26:52.524Z"
   },
   {
    "duration": 380,
    "start_time": "2023-02-21T07:30:27.559Z"
   },
   {
    "duration": 3,
    "start_time": "2023-02-21T07:31:17.158Z"
   },
   {
    "duration": 321,
    "start_time": "2023-02-21T07:31:25.717Z"
   },
   {
    "duration": 389,
    "start_time": "2023-02-21T07:32:25.555Z"
   },
   {
    "duration": 523,
    "start_time": "2023-02-21T07:36:26.716Z"
   },
   {
    "duration": 507,
    "start_time": "2023-02-21T07:36:59.435Z"
   },
   {
    "duration": 1597,
    "start_time": "2023-02-21T07:37:58.196Z"
   },
   {
    "duration": 493,
    "start_time": "2023-02-21T07:40:43.496Z"
   },
   {
    "duration": 4,
    "start_time": "2023-02-21T07:41:14.357Z"
   },
   {
    "duration": 323,
    "start_time": "2023-02-21T07:41:14.364Z"
   },
   {
    "duration": 9,
    "start_time": "2023-02-21T07:41:14.688Z"
   },
   {
    "duration": 17,
    "start_time": "2023-02-21T07:41:14.698Z"
   },
   {
    "duration": 7,
    "start_time": "2023-02-21T07:41:14.736Z"
   },
   {
    "duration": 26,
    "start_time": "2023-02-21T07:41:14.746Z"
   },
   {
    "duration": 311,
    "start_time": "2023-02-21T07:41:14.774Z"
   },
   {
    "duration": 15,
    "start_time": "2023-02-21T07:41:15.087Z"
   },
   {
    "duration": 17,
    "start_time": "2023-02-21T07:41:15.103Z"
   },
   {
    "duration": 95,
    "start_time": "2023-02-21T07:41:15.137Z"
   },
   {
    "duration": 11,
    "start_time": "2023-02-21T07:41:15.234Z"
   },
   {
    "duration": 23,
    "start_time": "2023-02-21T07:41:15.248Z"
   },
   {
    "duration": 3,
    "start_time": "2023-02-21T07:41:15.273Z"
   },
   {
    "duration": 14,
    "start_time": "2023-02-21T07:41:15.279Z"
   },
   {
    "duration": 9,
    "start_time": "2023-02-21T07:41:15.294Z"
   },
   {
    "duration": 4,
    "start_time": "2023-02-21T07:41:15.305Z"
   },
   {
    "duration": 320,
    "start_time": "2023-02-21T07:41:15.311Z"
   },
   {
    "duration": 325,
    "start_time": "2023-02-21T07:41:15.643Z"
   },
   {
    "duration": 319,
    "start_time": "2023-02-21T07:41:15.970Z"
   },
   {
    "duration": 359,
    "start_time": "2023-02-21T07:41:16.291Z"
   },
   {
    "duration": 278,
    "start_time": "2023-02-21T07:41:16.652Z"
   },
   {
    "duration": 7,
    "start_time": "2023-02-21T07:41:16.931Z"
   },
   {
    "duration": 10,
    "start_time": "2023-02-21T07:41:16.940Z"
   },
   {
    "duration": 27,
    "start_time": "2023-02-21T07:41:16.953Z"
   },
   {
    "duration": 7,
    "start_time": "2023-02-21T07:41:16.982Z"
   },
   {
    "duration": 9,
    "start_time": "2023-02-21T07:41:16.990Z"
   },
   {
    "duration": 576,
    "start_time": "2023-02-21T07:41:26.797Z"
   },
   {
    "duration": 32945,
    "start_time": "2023-02-21T07:41:48.157Z"
   },
   {
    "duration": 118781,
    "start_time": "2023-02-21T07:42:50.193Z"
   },
   {
    "duration": 112763,
    "start_time": "2023-02-21T07:45:57.429Z"
   },
   {
    "duration": 124391,
    "start_time": "2023-02-21T07:49:22.668Z"
   },
   {
    "duration": 112587,
    "start_time": "2023-02-21T07:53:04.868Z"
   },
   {
    "duration": 112458,
    "start_time": "2023-02-21T07:55:39.496Z"
   },
   {
    "duration": 112245,
    "start_time": "2023-02-21T07:58:20.987Z"
   },
   {
    "duration": 30785,
    "start_time": "2023-02-21T08:07:32.695Z"
   },
   {
    "duration": 30928,
    "start_time": "2023-02-21T08:10:29.247Z"
   },
   {
    "duration": 4,
    "start_time": "2023-02-21T08:16:22.846Z"
   },
   {
    "duration": 1600,
    "start_time": "2023-02-21T08:16:35.086Z"
   },
   {
    "duration": 3,
    "start_time": "2023-02-21T08:20:44.486Z"
   },
   {
    "duration": 1679,
    "start_time": "2023-02-21T08:20:56.998Z"
   },
   {
    "duration": 3,
    "start_time": "2023-02-21T08:21:07.578Z"
   },
   {
    "duration": 272,
    "start_time": "2023-02-21T08:21:07.582Z"
   },
   {
    "duration": 9,
    "start_time": "2023-02-21T08:21:07.856Z"
   },
   {
    "duration": 20,
    "start_time": "2023-02-21T08:21:07.866Z"
   },
   {
    "duration": 5,
    "start_time": "2023-02-21T08:21:07.888Z"
   },
   {
    "duration": 23,
    "start_time": "2023-02-21T08:21:07.895Z"
   },
   {
    "duration": 254,
    "start_time": "2023-02-21T08:21:07.938Z"
   },
   {
    "duration": 15,
    "start_time": "2023-02-21T08:21:08.193Z"
   },
   {
    "duration": 27,
    "start_time": "2023-02-21T08:21:08.210Z"
   },
   {
    "duration": 85,
    "start_time": "2023-02-21T08:21:08.239Z"
   },
   {
    "duration": 12,
    "start_time": "2023-02-21T08:21:08.326Z"
   },
   {
    "duration": 12,
    "start_time": "2023-02-21T08:21:08.339Z"
   },
   {
    "duration": 2,
    "start_time": "2023-02-21T08:21:08.353Z"
   },
   {
    "duration": 18,
    "start_time": "2023-02-21T08:21:08.356Z"
   },
   {
    "duration": 8,
    "start_time": "2023-02-21T08:21:08.375Z"
   },
   {
    "duration": 10,
    "start_time": "2023-02-21T08:21:08.384Z"
   },
   {
    "duration": 251,
    "start_time": "2023-02-21T08:21:08.396Z"
   },
   {
    "duration": 270,
    "start_time": "2023-02-21T08:21:08.649Z"
   },
   {
    "duration": 268,
    "start_time": "2023-02-21T08:21:08.920Z"
   },
   {
    "duration": 337,
    "start_time": "2023-02-21T08:21:09.190Z"
   },
   {
    "duration": 251,
    "start_time": "2023-02-21T08:21:09.529Z"
   },
   {
    "duration": 3,
    "start_time": "2023-02-21T08:21:09.782Z"
   },
   {
    "duration": 7,
    "start_time": "2023-02-21T08:21:09.786Z"
   },
   {
    "duration": 15,
    "start_time": "2023-02-21T08:21:09.794Z"
   },
   {
    "duration": 6,
    "start_time": "2023-02-21T08:21:09.811Z"
   },
   {
    "duration": 4,
    "start_time": "2023-02-21T08:21:09.819Z"
   },
   {
    "duration": 1842,
    "start_time": "2023-02-21T08:21:13.167Z"
   },
   {
    "duration": 3,
    "start_time": "2023-02-21T08:21:57.326Z"
   },
   {
    "duration": 497,
    "start_time": "2023-02-21T08:22:04.046Z"
   },
   {
    "duration": 30827,
    "start_time": "2023-02-21T08:22:34.152Z"
   },
   {
    "duration": 11,
    "start_time": "2023-02-21T08:25:23.806Z"
   },
   {
    "duration": 4,
    "start_time": "2023-02-21T08:25:39.966Z"
   },
   {
    "duration": 3,
    "start_time": "2023-02-21T08:26:30.047Z"
   },
   {
    "duration": 271,
    "start_time": "2023-02-21T08:26:30.052Z"
   },
   {
    "duration": 16,
    "start_time": "2023-02-21T08:26:30.325Z"
   },
   {
    "duration": 19,
    "start_time": "2023-02-21T08:26:30.343Z"
   },
   {
    "duration": 13,
    "start_time": "2023-02-21T08:26:30.364Z"
   },
   {
    "duration": 39,
    "start_time": "2023-02-21T08:26:30.379Z"
   },
   {
    "duration": 262,
    "start_time": "2023-02-21T08:26:30.419Z"
   },
   {
    "duration": 16,
    "start_time": "2023-02-21T08:26:30.682Z"
   },
   {
    "duration": 26,
    "start_time": "2023-02-21T08:26:30.699Z"
   },
   {
    "duration": 105,
    "start_time": "2023-02-21T08:26:30.727Z"
   },
   {
    "duration": 7,
    "start_time": "2023-02-21T08:26:30.834Z"
   },
   {
    "duration": 24,
    "start_time": "2023-02-21T08:26:30.843Z"
   },
   {
    "duration": 22,
    "start_time": "2023-02-21T08:26:30.868Z"
   },
   {
    "duration": 15,
    "start_time": "2023-02-21T08:26:30.893Z"
   },
   {
    "duration": 11,
    "start_time": "2023-02-21T08:26:30.909Z"
   },
   {
    "duration": 8,
    "start_time": "2023-02-21T08:26:30.921Z"
   },
   {
    "duration": 265,
    "start_time": "2023-02-21T08:26:30.930Z"
   },
   {
    "duration": 266,
    "start_time": "2023-02-21T08:26:31.197Z"
   },
   {
    "duration": 263,
    "start_time": "2023-02-21T08:26:31.465Z"
   },
   {
    "duration": 351,
    "start_time": "2023-02-21T08:26:31.729Z"
   },
   {
    "duration": 275,
    "start_time": "2023-02-21T08:26:32.081Z"
   },
   {
    "duration": 3,
    "start_time": "2023-02-21T08:26:32.358Z"
   },
   {
    "duration": 22,
    "start_time": "2023-02-21T08:26:32.362Z"
   },
   {
    "duration": 23,
    "start_time": "2023-02-21T08:26:32.386Z"
   },
   {
    "duration": 4,
    "start_time": "2023-02-21T08:26:32.411Z"
   },
   {
    "duration": 529,
    "start_time": "2023-02-21T08:26:32.417Z"
   },
   {
    "duration": 7,
    "start_time": "2023-02-21T08:26:35.675Z"
   },
   {
    "duration": 9,
    "start_time": "2023-02-21T10:11:41.602Z"
   },
   {
    "duration": 265,
    "start_time": "2023-02-21T10:11:51.150Z"
   },
   {
    "duration": 2596,
    "start_time": "2023-02-21T10:41:24.407Z"
   },
   {
    "duration": 1280,
    "start_time": "2023-02-21T10:41:27.005Z"
   },
   {
    "duration": 10,
    "start_time": "2023-02-21T10:41:28.288Z"
   },
   {
    "duration": 26,
    "start_time": "2023-02-21T10:41:28.300Z"
   },
   {
    "duration": 5,
    "start_time": "2023-02-21T10:41:28.328Z"
   },
   {
    "duration": 20,
    "start_time": "2023-02-21T10:41:28.354Z"
   },
   {
    "duration": 284,
    "start_time": "2023-02-21T10:41:28.376Z"
   },
   {
    "duration": 17,
    "start_time": "2023-02-21T10:41:28.662Z"
   },
   {
    "duration": 23,
    "start_time": "2023-02-21T10:41:28.681Z"
   },
   {
    "duration": 172,
    "start_time": "2023-02-21T10:41:28.707Z"
   },
   {
    "duration": 9,
    "start_time": "2023-02-21T10:41:28.880Z"
   },
   {
    "duration": 13,
    "start_time": "2023-02-21T10:41:28.890Z"
   },
   {
    "duration": 3,
    "start_time": "2023-02-21T10:41:28.904Z"
   },
   {
    "duration": 7,
    "start_time": "2023-02-21T10:41:28.909Z"
   },
   {
    "duration": 6,
    "start_time": "2023-02-21T10:41:28.917Z"
   },
   {
    "duration": 6,
    "start_time": "2023-02-21T10:41:28.953Z"
   },
   {
    "duration": 307,
    "start_time": "2023-02-21T10:41:28.961Z"
   },
   {
    "duration": 319,
    "start_time": "2023-02-21T10:41:29.270Z"
   },
   {
    "duration": 412,
    "start_time": "2023-02-21T10:41:29.592Z"
   },
   {
    "duration": 277,
    "start_time": "2023-02-21T10:41:30.005Z"
   },
   {
    "duration": 271,
    "start_time": "2023-02-21T10:41:30.284Z"
   },
   {
    "duration": 4,
    "start_time": "2023-02-21T10:41:31.889Z"
   },
   {
    "duration": 4,
    "start_time": "2023-02-21T10:41:32.197Z"
   },
   {
    "duration": 22,
    "start_time": "2023-02-21T10:41:34.537Z"
   },
   {
    "duration": 7,
    "start_time": "2023-02-21T10:41:35.255Z"
   },
   {
    "duration": 4,
    "start_time": "2023-02-21T10:41:35.593Z"
   },
   {
    "duration": 564,
    "start_time": "2023-02-21T10:41:47.001Z"
   },
   {
    "duration": 452,
    "start_time": "2023-02-21T10:42:17.410Z"
   },
   {
    "duration": 1682,
    "start_time": "2023-02-21T10:42:58.807Z"
   },
   {
    "duration": 322,
    "start_time": "2023-02-21T10:43:00.491Z"
   },
   {
    "duration": 13,
    "start_time": "2023-02-21T10:43:00.815Z"
   },
   {
    "duration": 33,
    "start_time": "2023-02-21T10:43:00.831Z"
   },
   {
    "duration": 21,
    "start_time": "2023-02-21T10:43:00.865Z"
   },
   {
    "duration": 76,
    "start_time": "2023-02-21T10:43:00.888Z"
   },
   {
    "duration": 317,
    "start_time": "2023-02-21T10:43:00.967Z"
   },
   {
    "duration": 19,
    "start_time": "2023-02-21T10:43:01.286Z"
   },
   {
    "duration": 25,
    "start_time": "2023-02-21T10:43:01.308Z"
   },
   {
    "duration": 135,
    "start_time": "2023-02-21T10:43:01.335Z"
   },
   {
    "duration": 10,
    "start_time": "2023-02-21T10:43:01.471Z"
   },
   {
    "duration": 51,
    "start_time": "2023-02-21T10:43:01.483Z"
   },
   {
    "duration": 56,
    "start_time": "2023-02-21T10:43:01.536Z"
   },
   {
    "duration": 47,
    "start_time": "2023-02-21T10:43:01.594Z"
   },
   {
    "duration": 40,
    "start_time": "2023-02-21T10:43:01.643Z"
   },
   {
    "duration": 24,
    "start_time": "2023-02-21T10:43:01.684Z"
   },
   {
    "duration": 309,
    "start_time": "2023-02-21T10:43:02.064Z"
   },
   {
    "duration": 286,
    "start_time": "2023-02-21T10:43:02.375Z"
   },
   {
    "duration": 362,
    "start_time": "2023-02-21T10:43:02.663Z"
   },
   {
    "duration": 243,
    "start_time": "2023-02-21T10:43:03.027Z"
   },
   {
    "duration": 272,
    "start_time": "2023-02-21T10:43:03.272Z"
   },
   {
    "duration": 3,
    "start_time": "2023-02-21T10:43:04.424Z"
   },
   {
    "duration": 19,
    "start_time": "2023-02-21T10:43:05.755Z"
   },
   {
    "duration": 8,
    "start_time": "2023-02-21T10:43:10.285Z"
   },
   {
    "duration": 4,
    "start_time": "2023-02-21T10:43:10.702Z"
   },
   {
    "duration": 714,
    "start_time": "2023-02-21T10:43:11.343Z"
   },
   {
    "duration": 51,
    "start_time": "2023-02-21T11:04:18.600Z"
   },
   {
    "duration": 83,
    "start_time": "2023-02-21T11:04:42.728Z"
   },
   {
    "duration": 1719,
    "start_time": "2023-02-21T11:10:05.014Z"
   },
   {
    "duration": 979,
    "start_time": "2023-02-21T11:10:06.735Z"
   },
   {
    "duration": 12,
    "start_time": "2023-02-21T11:10:07.716Z"
   },
   {
    "duration": 29,
    "start_time": "2023-02-21T11:10:07.730Z"
   },
   {
    "duration": 5,
    "start_time": "2023-02-21T11:10:07.763Z"
   },
   {
    "duration": 26,
    "start_time": "2023-02-21T11:10:07.770Z"
   },
   {
    "duration": 332,
    "start_time": "2023-02-21T11:10:07.799Z"
   },
   {
    "duration": 29,
    "start_time": "2023-02-21T11:10:08.132Z"
   },
   {
    "duration": 16,
    "start_time": "2023-02-21T11:10:08.163Z"
   },
   {
    "duration": 458,
    "start_time": "2023-02-21T11:10:08.181Z"
   },
   {
    "duration": 16,
    "start_time": "2023-02-21T11:10:08.641Z"
   },
   {
    "duration": 33,
    "start_time": "2023-02-21T11:10:08.658Z"
   },
   {
    "duration": 3,
    "start_time": "2023-02-21T11:10:08.693Z"
   },
   {
    "duration": 17,
    "start_time": "2023-02-21T11:10:08.698Z"
   },
   {
    "duration": 7,
    "start_time": "2023-02-21T11:10:08.716Z"
   },
   {
    "duration": 13,
    "start_time": "2023-02-21T11:10:08.724Z"
   },
   {
    "duration": 392,
    "start_time": "2023-02-21T11:10:28.894Z"
   },
   {
    "duration": 363,
    "start_time": "2023-02-21T11:11:02.072Z"
   },
   {
    "duration": 446,
    "start_time": "2023-02-21T11:12:02.655Z"
   },
   {
    "duration": 518,
    "start_time": "2023-02-21T11:12:51.913Z"
   },
   {
    "duration": 443,
    "start_time": "2023-02-21T11:13:09.795Z"
   },
   {
    "duration": 442,
    "start_time": "2023-02-21T11:13:22.845Z"
   },
   {
    "duration": 73,
    "start_time": "2023-02-21T11:16:26.037Z"
   },
   {
    "duration": 336,
    "start_time": "2023-02-21T11:18:19.933Z"
   },
   {
    "duration": 453,
    "start_time": "2023-02-21T11:18:34.281Z"
   },
   {
    "duration": 11,
    "start_time": "2023-02-21T11:21:15.212Z"
   },
   {
    "duration": 467,
    "start_time": "2023-02-21T11:21:20.515Z"
   },
   {
    "duration": 403,
    "start_time": "2023-02-21T11:21:54.457Z"
   },
   {
    "duration": 424,
    "start_time": "2023-02-21T11:22:12.535Z"
   },
   {
    "duration": 499,
    "start_time": "2023-02-21T11:28:16.065Z"
   },
   {
    "duration": 610,
    "start_time": "2023-02-21T11:28:50.135Z"
   },
   {
    "duration": 421,
    "start_time": "2023-02-21T11:29:06.358Z"
   },
   {
    "duration": 414,
    "start_time": "2023-02-21T11:29:25.011Z"
   },
   {
    "duration": 440,
    "start_time": "2023-02-21T11:29:45.934Z"
   },
   {
    "duration": 435,
    "start_time": "2023-02-21T11:31:06.215Z"
   },
   {
    "duration": 51,
    "start_time": "2023-02-21T11:36:14.893Z"
   },
   {
    "duration": 49,
    "start_time": "2023-02-21T11:36:51.061Z"
   },
   {
    "duration": 57,
    "start_time": "2023-02-21T11:37:36.542Z"
   },
   {
    "duration": 4,
    "start_time": "2023-02-21T11:38:01.693Z"
   },
   {
    "duration": 20,
    "start_time": "2023-02-21T11:38:11.573Z"
   },
   {
    "duration": 11,
    "start_time": "2023-02-21T11:38:16.863Z"
   },
   {
    "duration": 5,
    "start_time": "2023-02-21T11:38:18.759Z"
   },
   {
    "duration": 1086,
    "start_time": "2023-02-21T11:38:24.772Z"
   },
   {
    "duration": 132615,
    "start_time": "2023-02-21T11:39:12.873Z"
   },
   {
    "duration": 17939,
    "start_time": "2023-02-21T11:45:08.191Z"
   },
   {
    "duration": 136161,
    "start_time": "2023-02-21T11:49:23.729Z"
   },
   {
    "duration": 18792,
    "start_time": "2023-02-21T11:52:45.260Z"
   },
   {
    "duration": 18772,
    "start_time": "2023-02-21T11:53:27.798Z"
   },
   {
    "duration": 10,
    "start_time": "2023-02-21T12:04:53.677Z"
   },
   {
    "duration": 16,
    "start_time": "2023-02-21T12:05:26.901Z"
   },
   {
    "duration": 74651,
    "start_time": "2023-02-21T12:05:36.621Z"
   },
   {
    "duration": 47752,
    "start_time": "2023-02-21T12:08:22.166Z"
   },
   {
    "duration": 20,
    "start_time": "2023-02-21T12:13:08.960Z"
   },
   {
    "duration": 34789,
    "start_time": "2023-02-21T12:13:36.200Z"
   },
   {
    "duration": 36529,
    "start_time": "2023-02-21T12:14:40.790Z"
   },
   {
    "duration": 783,
    "start_time": "2023-02-21T12:22:22.050Z"
   },
   {
    "duration": 6,
    "start_time": "2023-02-21T12:23:01.090Z"
   },
   {
    "duration": 10,
    "start_time": "2023-02-21T12:25:54.371Z"
   },
   {
    "duration": 16,
    "start_time": "2023-02-21T12:31:25.924Z"
   },
   {
    "duration": 91,
    "start_time": "2023-02-21T12:35:43.071Z"
   },
   {
    "duration": 36,
    "start_time": "2023-02-21T12:36:53.461Z"
   },
   {
    "duration": 8,
    "start_time": "2023-02-21T12:38:00.711Z"
   },
   {
    "duration": 15,
    "start_time": "2023-02-21T12:38:42.211Z"
   },
   {
    "duration": 33,
    "start_time": "2023-02-21T12:39:01.371Z"
   },
   {
    "duration": 16,
    "start_time": "2023-02-21T12:46:28.269Z"
   },
   {
    "duration": 10,
    "start_time": "2023-02-21T12:46:53.370Z"
   },
   {
    "duration": 10,
    "start_time": "2023-02-21T12:47:14.298Z"
   },
   {
    "duration": 14,
    "start_time": "2023-02-21T12:48:12.728Z"
   },
   {
    "duration": 32,
    "start_time": "2023-02-21T12:48:53.758Z"
   },
   {
    "duration": 6,
    "start_time": "2023-02-21T12:49:00.927Z"
   },
   {
    "duration": 30,
    "start_time": "2023-02-21T12:54:21.673Z"
   },
   {
    "duration": 5,
    "start_time": "2023-02-21T12:54:56.117Z"
   },
   {
    "duration": 15,
    "start_time": "2023-02-21T12:54:58.202Z"
   },
   {
    "duration": 4,
    "start_time": "2023-02-21T13:01:59.062Z"
   },
   {
    "duration": 45,
    "start_time": "2023-02-21T13:02:36.041Z"
   },
   {
    "duration": 47,
    "start_time": "2023-02-21T13:04:23.002Z"
   },
   {
    "duration": 7,
    "start_time": "2023-02-21T13:21:58.515Z"
   },
   {
    "duration": 105,
    "start_time": "2023-02-21T13:22:25.644Z"
   },
   {
    "duration": 123,
    "start_time": "2023-02-21T13:23:12.047Z"
   },
   {
    "duration": 110,
    "start_time": "2023-02-21T13:23:58.663Z"
   },
   {
    "duration": 10,
    "start_time": "2023-02-21T13:25:35.262Z"
   },
   {
    "duration": 10,
    "start_time": "2023-02-21T13:25:44.498Z"
   },
   {
    "duration": 115,
    "start_time": "2023-02-21T13:25:50.174Z"
   },
   {
    "duration": 132,
    "start_time": "2023-02-21T13:26:05.002Z"
   },
   {
    "duration": 122,
    "start_time": "2023-02-21T13:26:11.948Z"
   },
   {
    "duration": 102,
    "start_time": "2023-02-21T13:26:23.245Z"
   },
   {
    "duration": 209,
    "start_time": "2023-02-21T13:27:01.762Z"
   },
   {
    "duration": 142,
    "start_time": "2023-02-21T13:27:38.039Z"
   },
   {
    "duration": 190,
    "start_time": "2023-02-21T13:28:27.742Z"
   },
   {
    "duration": 135,
    "start_time": "2023-02-21T13:29:13.371Z"
   },
   {
    "duration": 124,
    "start_time": "2023-02-21T13:30:00.040Z"
   },
   {
    "duration": 193,
    "start_time": "2023-02-21T13:30:18.103Z"
   },
   {
    "duration": 327,
    "start_time": "2023-02-21T13:30:26.363Z"
   },
   {
    "duration": 357,
    "start_time": "2023-02-21T13:30:36.022Z"
   },
   {
    "duration": 166,
    "start_time": "2023-02-21T13:31:03.622Z"
   },
   {
    "duration": 5,
    "start_time": "2023-02-21T13:34:17.342Z"
   },
   {
    "duration": 235,
    "start_time": "2023-02-21T13:34:28.464Z"
   },
   {
    "duration": 412,
    "start_time": "2023-02-21T13:34:40.257Z"
   },
   {
    "duration": 9,
    "start_time": "2023-02-22T13:35:13.594Z"
   },
   {
    "duration": 276,
    "start_time": "2023-02-22T13:35:27.137Z"
   },
   {
    "duration": 1396,
    "start_time": "2023-02-22T14:27:22.629Z"
   },
   {
    "duration": 859,
    "start_time": "2023-02-22T14:27:24.027Z"
   },
   {
    "duration": 8,
    "start_time": "2023-02-22T14:27:24.888Z"
   },
   {
    "duration": 30,
    "start_time": "2023-02-22T14:27:24.899Z"
   },
   {
    "duration": 5,
    "start_time": "2023-02-22T14:27:24.932Z"
   },
   {
    "duration": 18,
    "start_time": "2023-02-22T14:27:24.938Z"
   },
   {
    "duration": 313,
    "start_time": "2023-02-22T14:27:24.957Z"
   },
   {
    "duration": 16,
    "start_time": "2023-02-22T14:27:25.272Z"
   },
   {
    "duration": 16,
    "start_time": "2023-02-22T14:27:25.290Z"
   },
   {
    "duration": 411,
    "start_time": "2023-02-22T14:27:25.308Z"
   },
   {
    "duration": 7,
    "start_time": "2023-02-22T14:27:25.720Z"
   },
   {
    "duration": 23,
    "start_time": "2023-02-22T14:27:25.729Z"
   },
   {
    "duration": 8,
    "start_time": "2023-02-22T14:27:25.754Z"
   },
   {
    "duration": 21,
    "start_time": "2023-02-22T14:27:25.765Z"
   },
   {
    "duration": 22,
    "start_time": "2023-02-22T14:27:25.787Z"
   },
   {
    "duration": 8,
    "start_time": "2023-02-22T14:27:25.810Z"
   },
   {
    "duration": 351,
    "start_time": "2023-02-22T14:27:25.819Z"
   },
   {
    "duration": 441,
    "start_time": "2023-02-22T14:27:26.172Z"
   },
   {
    "duration": 447,
    "start_time": "2023-02-22T14:27:26.615Z"
   },
   {
    "duration": 504,
    "start_time": "2023-02-22T14:27:27.064Z"
   },
   {
    "duration": 421,
    "start_time": "2023-02-22T14:27:27.570Z"
   },
   {
    "duration": 7,
    "start_time": "2023-02-22T14:27:27.992Z"
   },
   {
    "duration": 336,
    "start_time": "2023-02-22T14:27:28.000Z"
   },
   {
    "duration": 127,
    "start_time": "2023-02-22T14:27:28.338Z"
   },
   {
    "duration": 3,
    "start_time": "2023-02-22T14:27:28.467Z"
   },
   {
    "duration": 110,
    "start_time": "2023-02-22T14:29:19.366Z"
   },
   {
    "duration": 8,
    "start_time": "2023-02-22T14:29:58.865Z"
   },
   {
    "duration": 15,
    "start_time": "2023-02-22T14:30:51.401Z"
   },
   {
    "duration": 8,
    "start_time": "2023-02-22T14:30:56.920Z"
   },
   {
    "duration": 4,
    "start_time": "2023-02-22T14:31:02.606Z"
   },
   {
    "duration": 3,
    "start_time": "2023-02-22T14:34:46.566Z"
   },
   {
    "duration": 55,
    "start_time": "2023-02-22T14:35:35.298Z"
   },
   {
    "duration": 15,
    "start_time": "2023-02-22T14:36:08.652Z"
   },
   {
    "duration": 7,
    "start_time": "2023-02-22T14:36:11.212Z"
   },
   {
    "duration": 6,
    "start_time": "2023-02-22T14:36:16.333Z"
   },
   {
    "duration": 3,
    "start_time": "2023-02-22T14:36:18.832Z"
   },
   {
    "duration": 2204,
    "start_time": "2023-02-22T14:36:22.994Z"
   },
   {
    "duration": 2039,
    "start_time": "2023-02-22T14:36:43.455Z"
   },
   {
    "duration": 76332,
    "start_time": "2023-02-22T14:53:36.199Z"
   },
   {
    "duration": 8,
    "start_time": "2023-02-22T14:58:44.192Z"
   },
   {
    "duration": 9,
    "start_time": "2023-02-22T14:59:00.592Z"
   },
   {
    "duration": 9,
    "start_time": "2023-02-22T14:59:19.494Z"
   },
   {
    "duration": 4,
    "start_time": "2023-02-22T15:02:19.652Z"
   },
   {
    "duration": 4,
    "start_time": "2023-02-22T15:04:47.732Z"
   },
   {
    "duration": 4,
    "start_time": "2023-02-22T15:05:03.632Z"
   },
   {
    "duration": 10,
    "start_time": "2023-02-22T15:07:15.574Z"
   },
   {
    "duration": 2499,
    "start_time": "2023-02-22T15:07:34.095Z"
   },
   {
    "duration": 1888,
    "start_time": "2023-02-22T15:07:50.516Z"
   },
   {
    "duration": 2377,
    "start_time": "2023-02-22T15:08:23.014Z"
   },
   {
    "duration": 4,
    "start_time": "2023-02-22T15:09:21.038Z"
   },
   {
    "duration": 78020,
    "start_time": "2023-02-22T15:10:27.961Z"
   },
   {
    "duration": 4,
    "start_time": "2023-02-22T15:11:54.374Z"
   },
   {
    "duration": 3,
    "start_time": "2023-02-22T15:12:05.507Z"
   },
   {
    "duration": 31,
    "start_time": "2023-02-22T15:16:20.567Z"
   },
   {
    "duration": 5,
    "start_time": "2023-02-22T15:19:34.455Z"
   },
   {
    "duration": 3,
    "start_time": "2023-02-22T15:19:36.696Z"
   },
   {
    "duration": 15,
    "start_time": "2023-02-22T15:19:39.004Z"
   },
   {
    "duration": 3,
    "start_time": "2023-02-22T15:20:37.773Z"
   },
   {
    "duration": 12,
    "start_time": "2023-02-22T15:20:40.853Z"
   },
   {
    "duration": 1060,
    "start_time": "2023-02-22T15:22:04.688Z"
   },
   {
    "duration": 15,
    "start_time": "2023-02-22T15:22:12.510Z"
   },
   {
    "duration": 1065,
    "start_time": "2023-02-22T15:22:42.509Z"
   },
   {
    "duration": 14,
    "start_time": "2023-02-22T15:22:46.760Z"
   },
   {
    "duration": 9,
    "start_time": "2023-02-22T15:26:05.954Z"
   },
   {
    "duration": 12,
    "start_time": "2023-02-22T15:26:16.105Z"
   },
   {
    "duration": 11,
    "start_time": "2023-02-22T15:35:41.824Z"
   },
   {
    "duration": 7,
    "start_time": "2023-02-22T15:36:47.015Z"
   },
   {
    "duration": 7,
    "start_time": "2023-02-22T15:37:30.367Z"
   },
   {
    "duration": 11,
    "start_time": "2023-02-22T15:37:46.671Z"
   },
   {
    "duration": 8,
    "start_time": "2023-02-22T15:38:05.776Z"
   },
   {
    "duration": 3,
    "start_time": "2023-02-22T15:42:36.670Z"
   },
   {
    "duration": 148,
    "start_time": "2023-02-22T15:50:28.370Z"
   },
   {
    "duration": 152,
    "start_time": "2023-02-22T15:50:42.612Z"
   },
   {
    "duration": 221,
    "start_time": "2023-02-22T15:50:50.708Z"
   },
   {
    "duration": 142,
    "start_time": "2023-02-22T15:51:09.830Z"
   },
   {
    "duration": 134,
    "start_time": "2023-02-22T15:52:15.873Z"
   },
   {
    "duration": 137,
    "start_time": "2023-02-22T15:52:39.949Z"
   },
   {
    "duration": 10,
    "start_time": "2023-02-22T15:53:27.218Z"
   },
   {
    "duration": 12,
    "start_time": "2023-02-22T15:53:51.672Z"
   },
   {
    "duration": 146,
    "start_time": "2023-02-22T15:56:48.466Z"
   },
   {
    "duration": 82,
    "start_time": "2023-02-22T16:00:36.894Z"
   },
   {
    "duration": 65,
    "start_time": "2023-02-22T16:00:47.801Z"
   },
   {
    "duration": 43,
    "start_time": "2023-02-22T16:00:59.852Z"
   },
   {
    "duration": 45,
    "start_time": "2023-02-22T16:01:12.183Z"
   },
   {
    "duration": 40,
    "start_time": "2023-02-22T16:01:24.427Z"
   },
   {
    "duration": 10,
    "start_time": "2023-02-22T16:01:55.920Z"
   },
   {
    "duration": 61,
    "start_time": "2023-02-22T16:05:03.579Z"
   },
   {
    "duration": 34,
    "start_time": "2023-02-22T16:05:23.887Z"
   },
   {
    "duration": 2,
    "start_time": "2023-02-22T16:05:41.292Z"
   },
   {
    "duration": 12,
    "start_time": "2023-02-22T16:07:12.958Z"
   },
   {
    "duration": 12,
    "start_time": "2023-02-22T16:07:29.959Z"
   },
   {
    "duration": 28,
    "start_time": "2023-02-22T16:08:46.000Z"
   },
   {
    "duration": 14,
    "start_time": "2023-02-22T16:11:18.280Z"
   },
   {
    "duration": 15,
    "start_time": "2023-02-22T16:12:10.638Z"
   },
   {
    "duration": 14,
    "start_time": "2023-02-22T16:12:28.979Z"
   },
   {
    "duration": 3,
    "start_time": "2023-02-22T16:15:29.199Z"
   },
   {
    "duration": 13,
    "start_time": "2023-02-22T16:17:26.220Z"
   },
   {
    "duration": 11,
    "start_time": "2023-02-22T16:18:51.991Z"
   },
   {
    "duration": 12,
    "start_time": "2023-02-22T16:19:40.129Z"
   },
   {
    "duration": 51,
    "start_time": "2023-02-22T16:19:58.281Z"
   },
   {
    "duration": 11,
    "start_time": "2023-02-22T16:20:12.435Z"
   },
   {
    "duration": 11,
    "start_time": "2023-02-22T16:20:32.411Z"
   },
   {
    "duration": 12,
    "start_time": "2023-02-22T16:21:28.843Z"
   },
   {
    "duration": 13,
    "start_time": "2023-02-22T16:23:35.811Z"
   },
   {
    "duration": 3,
    "start_time": "2023-02-22T16:23:55.724Z"
   },
   {
    "duration": 303,
    "start_time": "2023-02-22T16:23:55.738Z"
   },
   {
    "duration": 9,
    "start_time": "2023-02-22T16:23:56.044Z"
   },
   {
    "duration": 16,
    "start_time": "2023-02-22T16:23:56.055Z"
   },
   {
    "duration": 4,
    "start_time": "2023-02-22T16:23:56.092Z"
   },
   {
    "duration": 19,
    "start_time": "2023-02-22T16:23:56.098Z"
   },
   {
    "duration": 331,
    "start_time": "2023-02-22T16:23:56.119Z"
   },
   {
    "duration": 19,
    "start_time": "2023-02-22T16:23:56.452Z"
   },
   {
    "duration": 30,
    "start_time": "2023-02-22T16:23:56.474Z"
   },
   {
    "duration": 112,
    "start_time": "2023-02-22T16:23:56.506Z"
   },
   {
    "duration": 8,
    "start_time": "2023-02-22T16:23:56.620Z"
   },
   {
    "duration": 12,
    "start_time": "2023-02-22T16:23:56.629Z"
   },
   {
    "duration": 3,
    "start_time": "2023-02-22T16:23:56.642Z"
   },
   {
    "duration": 10,
    "start_time": "2023-02-22T16:23:56.646Z"
   },
   {
    "duration": 5,
    "start_time": "2023-02-22T16:23:56.658Z"
   },
   {
    "duration": 29,
    "start_time": "2023-02-22T16:23:56.665Z"
   },
   {
    "duration": 337,
    "start_time": "2023-02-22T16:23:56.696Z"
   },
   {
    "duration": 360,
    "start_time": "2023-02-22T16:23:57.034Z"
   },
   {
    "duration": 447,
    "start_time": "2023-02-22T16:23:57.395Z"
   },
   {
    "duration": 428,
    "start_time": "2023-02-22T16:23:57.844Z"
   },
   {
    "duration": 421,
    "start_time": "2023-02-22T16:23:58.274Z"
   },
   {
    "duration": 7,
    "start_time": "2023-02-22T16:23:58.696Z"
   },
   {
    "duration": 345,
    "start_time": "2023-02-22T16:23:58.704Z"
   },
   {
    "duration": 146,
    "start_time": "2023-02-22T16:23:59.050Z"
   },
   {
    "duration": 4,
    "start_time": "2023-02-22T16:31:21.825Z"
   },
   {
    "duration": 4,
    "start_time": "2023-02-22T16:32:32.886Z"
   },
   {
    "duration": 59,
    "start_time": "2023-02-22T16:35:34.215Z"
   },
   {
    "duration": 194,
    "start_time": "2023-02-22T16:35:43.738Z"
   },
   {
    "duration": 5,
    "start_time": "2023-02-22T16:36:19.852Z"
   },
   {
    "duration": 6,
    "start_time": "2023-02-22T16:36:37.712Z"
   },
   {
    "duration": 323,
    "start_time": "2023-02-22T16:37:01.034Z"
   },
   {
    "duration": 7,
    "start_time": "2023-02-22T16:37:30.773Z"
   },
   {
    "duration": 5,
    "start_time": "2023-02-22T16:37:33.891Z"
   },
   {
    "duration": 345,
    "start_time": "2023-02-22T16:37:38.392Z"
   },
   {
    "duration": 7,
    "start_time": "2023-02-22T16:38:22.669Z"
   },
   {
    "duration": 5,
    "start_time": "2023-02-22T16:38:24.840Z"
   },
   {
    "duration": 301,
    "start_time": "2023-02-22T16:38:30.200Z"
   },
   {
    "duration": 6,
    "start_time": "2023-02-22T16:39:31.229Z"
   },
   {
    "duration": 7,
    "start_time": "2023-02-22T16:39:34.012Z"
   },
   {
    "duration": 495,
    "start_time": "2023-02-22T16:39:39.165Z"
   },
   {
    "duration": 4,
    "start_time": "2023-02-22T16:40:45.268Z"
   },
   {
    "duration": 288,
    "start_time": "2023-02-22T16:40:45.276Z"
   },
   {
    "duration": 9,
    "start_time": "2023-02-22T16:40:45.566Z"
   },
   {
    "duration": 29,
    "start_time": "2023-02-22T16:40:45.577Z"
   },
   {
    "duration": 4,
    "start_time": "2023-02-22T16:40:45.609Z"
   },
   {
    "duration": 24,
    "start_time": "2023-02-22T16:40:45.615Z"
   },
   {
    "duration": 277,
    "start_time": "2023-02-22T16:40:45.641Z"
   },
   {
    "duration": 16,
    "start_time": "2023-02-22T16:40:45.920Z"
   },
   {
    "duration": 16,
    "start_time": "2023-02-22T16:40:45.938Z"
   },
   {
    "duration": 110,
    "start_time": "2023-02-22T16:40:45.956Z"
   },
   {
    "duration": 9,
    "start_time": "2023-02-22T16:40:46.068Z"
   },
   {
    "duration": 14,
    "start_time": "2023-02-22T16:40:46.091Z"
   },
   {
    "duration": 3,
    "start_time": "2023-02-22T16:40:46.107Z"
   },
   {
    "duration": 7,
    "start_time": "2023-02-22T16:40:46.112Z"
   },
   {
    "duration": 9,
    "start_time": "2023-02-22T16:40:46.120Z"
   },
   {
    "duration": 7,
    "start_time": "2023-02-22T16:40:46.131Z"
   },
   {
    "duration": 345,
    "start_time": "2023-02-22T16:40:46.139Z"
   },
   {
    "duration": 346,
    "start_time": "2023-02-22T16:40:46.491Z"
   },
   {
    "duration": 385,
    "start_time": "2023-02-22T16:40:46.839Z"
   },
   {
    "duration": 440,
    "start_time": "2023-02-22T16:40:47.225Z"
   },
   {
    "duration": 414,
    "start_time": "2023-02-22T16:40:47.667Z"
   },
   {
    "duration": 9,
    "start_time": "2023-02-22T16:40:48.083Z"
   },
   {
    "duration": 321,
    "start_time": "2023-02-22T16:40:48.094Z"
   },
   {
    "duration": 153,
    "start_time": "2023-02-22T16:40:48.417Z"
   },
   {
    "duration": 21,
    "start_time": "2023-02-22T16:40:48.571Z"
   },
   {
    "duration": 6,
    "start_time": "2023-02-22T16:40:48.594Z"
   },
   {
    "duration": 326,
    "start_time": "2023-02-22T16:40:51.465Z"
   },
   {
    "duration": 47,
    "start_time": "2023-02-22T16:42:09.759Z"
   },
   {
    "duration": 11,
    "start_time": "2023-02-23T13:04:30.094Z"
   },
   {
    "duration": 212,
    "start_time": "2023-02-23T13:04:38.742Z"
   },
   {
    "duration": 73,
    "start_time": "2023-02-23T13:17:03.988Z"
   },
   {
    "duration": 89,
    "start_time": "2023-02-23T13:26:47.360Z"
   },
   {
    "duration": 56,
    "start_time": "2023-02-23T13:28:23.043Z"
   },
   {
    "duration": 1658,
    "start_time": "2023-02-23T13:28:31.684Z"
   },
   {
    "duration": 1536,
    "start_time": "2023-02-23T13:28:33.344Z"
   },
   {
    "duration": 10,
    "start_time": "2023-02-23T13:28:34.886Z"
   },
   {
    "duration": 18,
    "start_time": "2023-02-23T13:28:34.898Z"
   },
   {
    "duration": 11,
    "start_time": "2023-02-23T13:28:34.919Z"
   },
   {
    "duration": 34,
    "start_time": "2023-02-23T13:28:34.932Z"
   },
   {
    "duration": 345,
    "start_time": "2023-02-23T13:28:34.968Z"
   },
   {
    "duration": 18,
    "start_time": "2023-02-23T13:28:35.314Z"
   },
   {
    "duration": 41,
    "start_time": "2023-02-23T13:28:35.334Z"
   },
   {
    "duration": 205,
    "start_time": "2023-02-23T13:28:35.384Z"
   },
   {
    "duration": 10,
    "start_time": "2023-02-23T13:28:35.590Z"
   },
   {
    "duration": 14,
    "start_time": "2023-02-23T13:28:35.602Z"
   },
   {
    "duration": 4,
    "start_time": "2023-02-23T13:28:35.618Z"
   },
   {
    "duration": 13,
    "start_time": "2023-02-23T13:28:35.625Z"
   },
   {
    "duration": 8,
    "start_time": "2023-02-23T13:28:35.666Z"
   },
   {
    "duration": 16,
    "start_time": "2023-02-23T13:28:35.681Z"
   },
   {
    "duration": 427,
    "start_time": "2023-02-23T13:28:35.699Z"
   },
   {
    "duration": 531,
    "start_time": "2023-02-23T13:28:36.129Z"
   },
   {
    "duration": 560,
    "start_time": "2023-02-23T13:28:36.663Z"
   },
   {
    "duration": 696,
    "start_time": "2023-02-23T13:28:37.224Z"
   },
   {
    "duration": 470,
    "start_time": "2023-02-23T13:28:37.923Z"
   },
   {
    "duration": 7,
    "start_time": "2023-02-23T13:28:38.394Z"
   },
   {
    "duration": 427,
    "start_time": "2023-02-23T13:28:38.402Z"
   },
   {
    "duration": 190,
    "start_time": "2023-02-23T13:28:38.831Z"
   },
   {
    "duration": 14,
    "start_time": "2023-02-23T13:28:39.023Z"
   },
   {
    "duration": 14,
    "start_time": "2023-02-23T13:28:39.039Z"
   },
   {
    "duration": 440,
    "start_time": "2023-02-23T13:28:39.055Z"
   },
   {
    "duration": 12,
    "start_time": "2023-02-23T13:28:42.297Z"
   },
   {
    "duration": 1422,
    "start_time": "2023-02-23T13:29:49.834Z"
   },
   {
    "duration": 9,
    "start_time": "2023-02-23T13:36:06.539Z"
   },
   {
    "duration": 87,
    "start_time": "2023-02-23T13:36:40.793Z"
   },
   {
    "duration": 3,
    "start_time": "2023-02-23T13:37:26.715Z"
   },
   {
    "duration": 10,
    "start_time": "2023-02-23T13:38:54.095Z"
   },
   {
    "duration": 3,
    "start_time": "2023-02-23T13:38:59.275Z"
   },
   {
    "duration": 325,
    "start_time": "2023-02-23T13:38:59.280Z"
   },
   {
    "duration": 10,
    "start_time": "2023-02-23T13:38:59.607Z"
   },
   {
    "duration": 42,
    "start_time": "2023-02-23T13:38:59.618Z"
   },
   {
    "duration": 9,
    "start_time": "2023-02-23T13:38:59.662Z"
   },
   {
    "duration": 18,
    "start_time": "2023-02-23T13:38:59.673Z"
   },
   {
    "duration": 296,
    "start_time": "2023-02-23T13:38:59.693Z"
   },
   {
    "duration": 16,
    "start_time": "2023-02-23T13:38:59.991Z"
   },
   {
    "duration": 16,
    "start_time": "2023-02-23T13:39:00.009Z"
   },
   {
    "duration": 110,
    "start_time": "2023-02-23T13:39:00.028Z"
   },
   {
    "duration": 29,
    "start_time": "2023-02-23T13:39:00.139Z"
   },
   {
    "duration": 15,
    "start_time": "2023-02-23T13:39:00.169Z"
   },
   {
    "duration": 3,
    "start_time": "2023-02-23T13:39:00.186Z"
   },
   {
    "duration": 12,
    "start_time": "2023-02-23T13:39:00.191Z"
   },
   {
    "duration": 9,
    "start_time": "2023-02-23T13:39:00.205Z"
   },
   {
    "duration": 6,
    "start_time": "2023-02-23T13:39:00.216Z"
   },
   {
    "duration": 480,
    "start_time": "2023-02-23T13:39:00.224Z"
   },
   {
    "duration": 415,
    "start_time": "2023-02-23T13:39:00.705Z"
   },
   {
    "duration": 421,
    "start_time": "2023-02-23T13:39:01.122Z"
   },
   {
    "duration": 518,
    "start_time": "2023-02-23T13:39:01.545Z"
   },
   {
    "duration": 420,
    "start_time": "2023-02-23T13:39:02.066Z"
   },
   {
    "duration": 6,
    "start_time": "2023-02-23T13:39:02.488Z"
   },
   {
    "duration": 381,
    "start_time": "2023-02-23T13:39:02.496Z"
   },
   {
    "duration": 150,
    "start_time": "2023-02-23T13:39:02.879Z"
   },
   {
    "duration": 23,
    "start_time": "2023-02-23T13:39:03.031Z"
   },
   {
    "duration": 17,
    "start_time": "2023-02-23T13:39:03.055Z"
   },
   {
    "duration": 451,
    "start_time": "2023-02-23T13:39:03.074Z"
   },
   {
    "duration": 28,
    "start_time": "2023-02-23T13:39:03.528Z"
   },
   {
    "duration": 6,
    "start_time": "2023-02-23T13:39:03.558Z"
   },
   {
    "duration": 14,
    "start_time": "2023-02-23T13:39:03.566Z"
   },
   {
    "duration": 7,
    "start_time": "2023-02-23T13:39:03.582Z"
   },
   {
    "duration": 2708,
    "start_time": "2023-02-23T13:39:10.448Z"
   },
   {
    "duration": 4279,
    "start_time": "2023-02-23T13:40:50.074Z"
   },
   {
    "duration": 3988,
    "start_time": "2023-02-23T13:42:49.868Z"
   },
   {
    "duration": 2743,
    "start_time": "2023-02-23T13:43:06.432Z"
   },
   {
    "duration": 3709,
    "start_time": "2023-02-23T13:43:36.862Z"
   },
   {
    "duration": 67,
    "start_time": "2023-02-23T13:44:21.514Z"
   },
   {
    "duration": 109609,
    "start_time": "2023-02-23T13:45:06.274Z"
   },
   {
    "duration": 349845,
    "start_time": "2023-02-23T13:50:17.753Z"
   },
   {
    "duration": 4,
    "start_time": "2023-02-23T13:56:22.794Z"
   },
   {
    "duration": 3,
    "start_time": "2023-02-23T13:56:40.794Z"
   },
   {
    "duration": 327215,
    "start_time": "2023-02-23T13:57:00.093Z"
   },
   {
    "duration": 227031,
    "start_time": "2023-02-23T14:02:32.833Z"
   },
   {
    "duration": 0,
    "start_time": "2023-02-23T14:06:19.866Z"
   },
   {
    "duration": 357368,
    "start_time": "2023-02-23T14:11:55.276Z"
   },
   {
    "duration": 4,
    "start_time": "2023-02-23T14:18:14.229Z"
   },
   {
    "duration": 4,
    "start_time": "2023-02-23T14:18:24.156Z"
   },
   {
    "duration": 9,
    "start_time": "2023-02-23T14:18:33.773Z"
   },
   {
    "duration": 4,
    "start_time": "2023-02-23T14:18:43.113Z"
   },
   {
    "duration": 20,
    "start_time": "2023-02-23T14:21:28.873Z"
   },
   {
    "duration": 25,
    "start_time": "2023-02-23T14:21:36.253Z"
   },
   {
    "duration": 23,
    "start_time": "2023-02-23T14:21:52.152Z"
   },
   {
    "duration": 16,
    "start_time": "2023-02-23T14:22:16.720Z"
   },
   {
    "duration": 12,
    "start_time": "2023-02-23T14:23:15.370Z"
   },
   {
    "duration": 14,
    "start_time": "2023-02-23T14:24:15.132Z"
   },
   {
    "duration": 19,
    "start_time": "2023-02-23T14:24:27.671Z"
   },
   {
    "duration": 16,
    "start_time": "2023-02-23T14:26:06.571Z"
   },
   {
    "duration": 4,
    "start_time": "2023-02-23T14:26:06.589Z"
   },
   {
    "duration": 24,
    "start_time": "2023-02-23T14:26:06.595Z"
   },
   {
    "duration": 0,
    "start_time": "2023-02-23T14:26:06.621Z"
   },
   {
    "duration": 0,
    "start_time": "2023-02-23T14:26:06.622Z"
   },
   {
    "duration": 0,
    "start_time": "2023-02-23T14:26:06.623Z"
   },
   {
    "duration": 4,
    "start_time": "2023-02-23T14:28:02.774Z"
   },
   {
    "duration": 323,
    "start_time": "2023-02-23T14:28:02.783Z"
   },
   {
    "duration": 10,
    "start_time": "2023-02-23T14:28:03.109Z"
   },
   {
    "duration": 35,
    "start_time": "2023-02-23T14:28:03.120Z"
   },
   {
    "duration": 4,
    "start_time": "2023-02-23T14:28:03.158Z"
   },
   {
    "duration": 19,
    "start_time": "2023-02-23T14:28:03.164Z"
   },
   {
    "duration": 290,
    "start_time": "2023-02-23T14:28:03.185Z"
   },
   {
    "duration": 17,
    "start_time": "2023-02-23T14:28:03.477Z"
   },
   {
    "duration": 20,
    "start_time": "2023-02-23T14:28:03.496Z"
   },
   {
    "duration": 111,
    "start_time": "2023-02-23T14:28:03.518Z"
   },
   {
    "duration": 10,
    "start_time": "2023-02-23T14:28:03.633Z"
   },
   {
    "duration": 14,
    "start_time": "2023-02-23T14:28:03.654Z"
   },
   {
    "duration": 3,
    "start_time": "2023-02-23T14:28:03.671Z"
   },
   {
    "duration": 10,
    "start_time": "2023-02-23T14:28:03.677Z"
   },
   {
    "duration": 13,
    "start_time": "2023-02-23T14:28:03.689Z"
   },
   {
    "duration": 9,
    "start_time": "2023-02-23T14:28:03.704Z"
   },
   {
    "duration": 421,
    "start_time": "2023-02-23T14:28:03.716Z"
   },
   {
    "duration": 393,
    "start_time": "2023-02-23T14:28:04.139Z"
   },
   {
    "duration": 478,
    "start_time": "2023-02-23T14:28:04.534Z"
   },
   {
    "duration": 424,
    "start_time": "2023-02-23T14:28:05.014Z"
   },
   {
    "duration": 529,
    "start_time": "2023-02-23T14:28:05.440Z"
   },
   {
    "duration": 7,
    "start_time": "2023-02-23T14:28:05.971Z"
   },
   {
    "duration": 398,
    "start_time": "2023-02-23T14:28:05.979Z"
   },
   {
    "duration": 177,
    "start_time": "2023-02-23T14:28:06.379Z"
   },
   {
    "duration": 12,
    "start_time": "2023-02-23T14:28:06.558Z"
   },
   {
    "duration": 8,
    "start_time": "2023-02-23T14:28:06.572Z"
   },
   {
    "duration": 387,
    "start_time": "2023-02-23T14:28:06.582Z"
   },
   {
    "duration": 11,
    "start_time": "2023-02-23T14:28:06.971Z"
   },
   {
    "duration": 3,
    "start_time": "2023-02-23T14:28:06.986Z"
   },
   {
    "duration": 11,
    "start_time": "2023-02-23T14:28:06.990Z"
   },
   {
    "duration": 8,
    "start_time": "2023-02-23T14:28:07.003Z"
   },
   {
    "duration": 2045,
    "start_time": "2023-02-23T14:28:07.013Z"
   },
   {
    "duration": 3,
    "start_time": "2023-02-23T14:28:09.060Z"
   },
   {
    "duration": 89,
    "start_time": "2023-02-23T14:28:09.064Z"
   },
   {
    "duration": 5,
    "start_time": "2023-02-23T14:28:09.155Z"
   },
   {
    "duration": 7,
    "start_time": "2023-02-23T14:28:09.161Z"
   },
   {
    "duration": 6,
    "start_time": "2023-02-23T14:28:09.170Z"
   },
   {
    "duration": 29,
    "start_time": "2023-02-23T14:28:14.391Z"
   },
   {
    "duration": 7,
    "start_time": "2023-02-23T14:28:35.932Z"
   },
   {
    "duration": 13,
    "start_time": "2023-02-23T14:29:17.112Z"
   },
   {
    "duration": 16,
    "start_time": "2023-02-23T14:32:47.654Z"
   },
   {
    "duration": 9,
    "start_time": "2023-02-23T14:33:33.032Z"
   },
   {
    "duration": 13,
    "start_time": "2023-02-23T14:33:38.411Z"
   },
   {
    "duration": 9,
    "start_time": "2023-02-23T14:33:57.211Z"
   },
   {
    "duration": 16,
    "start_time": "2023-02-23T14:34:53.842Z"
   },
   {
    "duration": 21,
    "start_time": "2023-02-23T14:35:28.995Z"
   },
   {
    "duration": 25,
    "start_time": "2023-02-23T14:38:05.516Z"
   },
   {
    "duration": 38,
    "start_time": "2023-02-23T14:40:45.971Z"
   },
   {
    "duration": 36,
    "start_time": "2023-02-23T14:42:06.862Z"
   },
   {
    "duration": 33,
    "start_time": "2023-02-23T14:42:23.672Z"
   },
   {
    "duration": 36,
    "start_time": "2023-02-23T14:43:02.140Z"
   },
   {
    "duration": 68,
    "start_time": "2023-02-23T14:43:14.642Z"
   },
   {
    "duration": 29,
    "start_time": "2023-02-23T14:43:34.010Z"
   },
   {
    "duration": 30,
    "start_time": "2023-02-23T14:43:42.192Z"
   },
   {
    "duration": 27,
    "start_time": "2023-02-23T14:44:15.130Z"
   },
   {
    "duration": 34,
    "start_time": "2023-02-23T14:44:35.007Z"
   },
   {
    "duration": 50,
    "start_time": "2023-02-23T14:45:01.654Z"
   },
   {
    "duration": 48,
    "start_time": "2023-02-23T14:45:31.054Z"
   },
   {
    "duration": 14,
    "start_time": "2023-02-23T14:46:11.292Z"
   },
   {
    "duration": 13,
    "start_time": "2023-02-23T14:47:23.312Z"
   },
   {
    "duration": 11,
    "start_time": "2023-02-23T14:47:37.310Z"
   },
   {
    "duration": 11,
    "start_time": "2023-02-23T14:47:53.399Z"
   },
   {
    "duration": 14,
    "start_time": "2023-02-23T14:47:58.893Z"
   },
   {
    "duration": 11,
    "start_time": "2023-02-23T14:48:13.131Z"
   },
   {
    "duration": 33,
    "start_time": "2023-02-23T14:48:40.953Z"
   },
   {
    "duration": 43,
    "start_time": "2023-02-23T14:49:13.971Z"
   },
   {
    "duration": 29,
    "start_time": "2023-02-23T14:49:25.771Z"
   },
   {
    "duration": 29,
    "start_time": "2023-02-23T14:50:08.022Z"
   },
   {
    "duration": 28,
    "start_time": "2023-02-23T14:50:49.217Z"
   },
   {
    "duration": 40,
    "start_time": "2023-02-23T14:51:55.169Z"
   },
   {
    "duration": 33,
    "start_time": "2023-02-23T14:52:01.945Z"
   },
   {
    "duration": 3,
    "start_time": "2023-02-23T14:52:09.931Z"
   },
   {
    "duration": 316,
    "start_time": "2023-02-23T14:52:09.938Z"
   },
   {
    "duration": 10,
    "start_time": "2023-02-23T14:52:10.257Z"
   },
   {
    "duration": 18,
    "start_time": "2023-02-23T14:52:10.269Z"
   },
   {
    "duration": 4,
    "start_time": "2023-02-23T14:52:10.289Z"
   },
   {
    "duration": 21,
    "start_time": "2023-02-23T14:52:10.295Z"
   },
   {
    "duration": 319,
    "start_time": "2023-02-23T14:52:10.318Z"
   },
   {
    "duration": 22,
    "start_time": "2023-02-23T14:52:10.639Z"
   },
   {
    "duration": 16,
    "start_time": "2023-02-23T14:52:10.663Z"
   },
   {
    "duration": 98,
    "start_time": "2023-02-23T14:52:10.681Z"
   },
   {
    "duration": 8,
    "start_time": "2023-02-23T14:52:10.781Z"
   },
   {
    "duration": 13,
    "start_time": "2023-02-23T14:52:10.791Z"
   },
   {
    "duration": 3,
    "start_time": "2023-02-23T14:52:10.806Z"
   },
   {
    "duration": 17,
    "start_time": "2023-02-23T14:52:10.811Z"
   },
   {
    "duration": 6,
    "start_time": "2023-02-23T14:52:10.829Z"
   },
   {
    "duration": 20,
    "start_time": "2023-02-23T14:52:10.837Z"
   },
   {
    "duration": 480,
    "start_time": "2023-02-23T14:52:10.859Z"
   },
   {
    "duration": 385,
    "start_time": "2023-02-23T14:52:11.340Z"
   },
   {
    "duration": 390,
    "start_time": "2023-02-23T14:52:11.727Z"
   },
   {
    "duration": 409,
    "start_time": "2023-02-23T14:52:12.119Z"
   },
   {
    "duration": 420,
    "start_time": "2023-02-23T14:52:12.530Z"
   },
   {
    "duration": 7,
    "start_time": "2023-02-23T14:52:12.951Z"
   },
   {
    "duration": 348,
    "start_time": "2023-02-23T14:52:12.959Z"
   },
   {
    "duration": 148,
    "start_time": "2023-02-23T14:52:13.308Z"
   },
   {
    "duration": 9,
    "start_time": "2023-02-23T14:52:13.458Z"
   },
   {
    "duration": 8,
    "start_time": "2023-02-23T14:52:13.469Z"
   },
   {
    "duration": 484,
    "start_time": "2023-02-23T14:52:13.479Z"
   },
   {
    "duration": 9,
    "start_time": "2023-02-23T14:52:13.965Z"
   },
   {
    "duration": 3,
    "start_time": "2023-02-23T14:52:13.977Z"
   },
   {
    "duration": 9,
    "start_time": "2023-02-23T14:52:13.982Z"
   },
   {
    "duration": 6,
    "start_time": "2023-02-23T14:52:13.992Z"
   },
   {
    "duration": 1772,
    "start_time": "2023-02-23T14:52:14.000Z"
   },
   {
    "duration": 6,
    "start_time": "2023-02-23T14:52:15.854Z"
   },
   {
    "duration": 90,
    "start_time": "2023-02-23T14:52:15.864Z"
   },
   {
    "duration": 2,
    "start_time": "2023-02-23T14:52:15.956Z"
   },
   {
    "duration": 8,
    "start_time": "2023-02-23T14:52:15.960Z"
   },
   {
    "duration": 13,
    "start_time": "2023-02-23T14:52:15.970Z"
   },
   {
    "duration": 7,
    "start_time": "2023-02-23T14:52:15.985Z"
   },
   {
    "duration": 16,
    "start_time": "2023-02-23T14:52:22.549Z"
   },
   {
    "duration": 14,
    "start_time": "2023-02-23T14:53:12.069Z"
   },
   {
    "duration": 3,
    "start_time": "2023-02-23T14:53:28.956Z"
   },
   {
    "duration": 306,
    "start_time": "2023-02-23T14:53:28.964Z"
   },
   {
    "duration": 9,
    "start_time": "2023-02-23T14:53:29.273Z"
   },
   {
    "duration": 17,
    "start_time": "2023-02-23T14:53:29.283Z"
   },
   {
    "duration": 5,
    "start_time": "2023-02-23T14:53:29.302Z"
   },
   {
    "duration": 46,
    "start_time": "2023-02-23T14:53:29.310Z"
   },
   {
    "duration": 316,
    "start_time": "2023-02-23T14:53:29.358Z"
   },
   {
    "duration": 19,
    "start_time": "2023-02-23T14:53:29.676Z"
   },
   {
    "duration": 18,
    "start_time": "2023-02-23T14:53:29.697Z"
   },
   {
    "duration": 122,
    "start_time": "2023-02-23T14:53:29.717Z"
   },
   {
    "duration": 12,
    "start_time": "2023-02-23T14:53:29.842Z"
   },
   {
    "duration": 13,
    "start_time": "2023-02-23T14:53:29.855Z"
   },
   {
    "duration": 3,
    "start_time": "2023-02-23T14:53:29.870Z"
   },
   {
    "duration": 10,
    "start_time": "2023-02-23T14:53:29.874Z"
   },
   {
    "duration": 6,
    "start_time": "2023-02-23T14:53:29.886Z"
   },
   {
    "duration": 8,
    "start_time": "2023-02-23T14:53:29.893Z"
   },
   {
    "duration": 363,
    "start_time": "2023-02-23T14:53:29.903Z"
   },
   {
    "duration": 377,
    "start_time": "2023-02-23T14:53:30.269Z"
   },
   {
    "duration": 362,
    "start_time": "2023-02-23T14:53:30.653Z"
   },
   {
    "duration": 409,
    "start_time": "2023-02-23T14:53:31.017Z"
   },
   {
    "duration": 417,
    "start_time": "2023-02-23T14:53:31.428Z"
   },
   {
    "duration": 10,
    "start_time": "2023-02-23T14:53:31.847Z"
   },
   {
    "duration": 448,
    "start_time": "2023-02-23T14:53:31.859Z"
   },
   {
    "duration": 146,
    "start_time": "2023-02-23T14:53:32.309Z"
   },
   {
    "duration": 12,
    "start_time": "2023-02-23T14:53:32.457Z"
   },
   {
    "duration": 8,
    "start_time": "2023-02-23T14:53:32.470Z"
   },
   {
    "duration": 356,
    "start_time": "2023-02-23T14:53:32.480Z"
   },
   {
    "duration": 19,
    "start_time": "2023-02-23T14:53:32.838Z"
   },
   {
    "duration": 8,
    "start_time": "2023-02-23T14:53:32.859Z"
   },
   {
    "duration": 18,
    "start_time": "2023-02-23T14:53:32.869Z"
   },
   {
    "duration": 9,
    "start_time": "2023-02-23T14:53:32.889Z"
   },
   {
    "duration": 1958,
    "start_time": "2023-02-23T14:53:32.900Z"
   },
   {
    "duration": 3,
    "start_time": "2023-02-23T14:53:34.859Z"
   },
   {
    "duration": 7,
    "start_time": "2023-02-23T14:53:34.863Z"
   },
   {
    "duration": 5,
    "start_time": "2023-02-23T14:53:34.872Z"
   },
   {
    "duration": 17,
    "start_time": "2023-02-23T14:53:34.879Z"
   },
   {
    "duration": 11,
    "start_time": "2023-02-23T14:53:34.898Z"
   },
   {
    "duration": 43,
    "start_time": "2023-02-23T14:53:34.911Z"
   },
   {
    "duration": 16,
    "start_time": "2023-02-23T14:53:38.223Z"
   },
   {
    "duration": 39,
    "start_time": "2023-02-23T14:53:45.438Z"
   },
   {
    "duration": 38,
    "start_time": "2023-02-23T14:57:21.680Z"
   },
   {
    "duration": 17,
    "start_time": "2023-02-23T14:59:13.319Z"
   },
   {
    "duration": 20,
    "start_time": "2023-02-23T14:59:20.632Z"
   },
   {
    "duration": 18,
    "start_time": "2023-02-23T15:00:18.280Z"
   },
   {
    "duration": 4,
    "start_time": "2023-02-23T15:00:26.331Z"
   },
   {
    "duration": 363,
    "start_time": "2023-02-23T15:00:26.338Z"
   },
   {
    "duration": 9,
    "start_time": "2023-02-23T15:00:26.702Z"
   },
   {
    "duration": 20,
    "start_time": "2023-02-23T15:00:26.713Z"
   },
   {
    "duration": 4,
    "start_time": "2023-02-23T15:00:26.735Z"
   },
   {
    "duration": 34,
    "start_time": "2023-02-23T15:00:26.741Z"
   },
   {
    "duration": 323,
    "start_time": "2023-02-23T15:00:26.777Z"
   },
   {
    "duration": 18,
    "start_time": "2023-02-23T15:00:27.102Z"
   },
   {
    "duration": 17,
    "start_time": "2023-02-23T15:00:27.121Z"
   },
   {
    "duration": 116,
    "start_time": "2023-02-23T15:00:27.154Z"
   },
   {
    "duration": 12,
    "start_time": "2023-02-23T15:00:27.272Z"
   },
   {
    "duration": 15,
    "start_time": "2023-02-23T15:00:27.286Z"
   },
   {
    "duration": 4,
    "start_time": "2023-02-23T15:00:27.305Z"
   },
   {
    "duration": 15,
    "start_time": "2023-02-23T15:00:27.310Z"
   },
   {
    "duration": 31,
    "start_time": "2023-02-23T15:00:27.327Z"
   },
   {
    "duration": 7,
    "start_time": "2023-02-23T15:00:27.361Z"
   },
   {
    "duration": 506,
    "start_time": "2023-02-23T15:00:27.369Z"
   },
   {
    "duration": 447,
    "start_time": "2023-02-23T15:00:27.882Z"
   },
   {
    "duration": 452,
    "start_time": "2023-02-23T15:00:28.331Z"
   },
   {
    "duration": 602,
    "start_time": "2023-02-23T15:00:28.785Z"
   },
   {
    "duration": 482,
    "start_time": "2023-02-23T15:00:29.389Z"
   },
   {
    "duration": 10,
    "start_time": "2023-02-23T15:00:29.874Z"
   },
   {
    "duration": 450,
    "start_time": "2023-02-23T15:00:29.886Z"
   },
   {
    "duration": 196,
    "start_time": "2023-02-23T15:00:30.338Z"
   },
   {
    "duration": 16,
    "start_time": "2023-02-23T15:00:30.537Z"
   },
   {
    "duration": 44,
    "start_time": "2023-02-23T15:00:30.557Z"
   },
   {
    "duration": 450,
    "start_time": "2023-02-23T15:00:30.603Z"
   },
   {
    "duration": 20,
    "start_time": "2023-02-23T15:00:31.055Z"
   },
   {
    "duration": 31,
    "start_time": "2023-02-23T15:00:31.077Z"
   },
   {
    "duration": 14,
    "start_time": "2023-02-23T15:00:31.111Z"
   },
   {
    "duration": 59,
    "start_time": "2023-02-23T15:00:31.127Z"
   },
   {
    "duration": 2766,
    "start_time": "2023-02-23T15:00:31.188Z"
   },
   {
    "duration": 3,
    "start_time": "2023-02-23T15:00:33.956Z"
   },
   {
    "duration": 120,
    "start_time": "2023-02-23T15:00:33.963Z"
   },
   {
    "duration": 19,
    "start_time": "2023-02-23T15:00:34.085Z"
   },
   {
    "duration": 10,
    "start_time": "2023-02-23T15:00:34.106Z"
   },
   {
    "duration": 5,
    "start_time": "2023-02-23T15:00:34.119Z"
   },
   {
    "duration": 9,
    "start_time": "2023-02-23T15:00:34.126Z"
   },
   {
    "duration": 22,
    "start_time": "2023-02-23T15:00:36.682Z"
   },
   {
    "duration": 19,
    "start_time": "2023-02-23T15:01:13.293Z"
   },
   {
    "duration": 21,
    "start_time": "2023-02-23T15:01:32.097Z"
   },
   {
    "duration": 18,
    "start_time": "2023-02-23T15:01:36.311Z"
   },
   {
    "duration": 36,
    "start_time": "2023-02-23T15:02:40.910Z"
   },
   {
    "duration": 3,
    "start_time": "2023-02-23T15:02:46.001Z"
   },
   {
    "duration": 384,
    "start_time": "2023-02-23T15:02:46.007Z"
   },
   {
    "duration": 10,
    "start_time": "2023-02-23T15:02:46.393Z"
   },
   {
    "duration": 21,
    "start_time": "2023-02-23T15:02:46.405Z"
   },
   {
    "duration": 32,
    "start_time": "2023-02-23T15:02:46.428Z"
   },
   {
    "duration": 31,
    "start_time": "2023-02-23T15:02:46.462Z"
   },
   {
    "duration": 334,
    "start_time": "2023-02-23T15:02:46.495Z"
   },
   {
    "duration": 30,
    "start_time": "2023-02-23T15:02:46.831Z"
   },
   {
    "duration": 20,
    "start_time": "2023-02-23T15:02:46.865Z"
   },
   {
    "duration": 106,
    "start_time": "2023-02-23T15:02:46.886Z"
   },
   {
    "duration": 8,
    "start_time": "2023-02-23T15:02:46.994Z"
   },
   {
    "duration": 12,
    "start_time": "2023-02-23T15:02:47.004Z"
   },
   {
    "duration": 7,
    "start_time": "2023-02-23T15:02:47.018Z"
   },
   {
    "duration": 7,
    "start_time": "2023-02-23T15:02:47.026Z"
   },
   {
    "duration": 22,
    "start_time": "2023-02-23T15:02:47.035Z"
   },
   {
    "duration": 22,
    "start_time": "2023-02-23T15:02:47.060Z"
   },
   {
    "duration": 411,
    "start_time": "2023-02-23T15:02:47.083Z"
   },
   {
    "duration": 609,
    "start_time": "2023-02-23T15:02:47.495Z"
   },
   {
    "duration": 406,
    "start_time": "2023-02-23T15:02:48.106Z"
   },
   {
    "duration": 432,
    "start_time": "2023-02-23T15:02:48.514Z"
   },
   {
    "duration": 439,
    "start_time": "2023-02-23T15:02:48.948Z"
   },
   {
    "duration": 6,
    "start_time": "2023-02-23T15:02:49.390Z"
   },
   {
    "duration": 424,
    "start_time": "2023-02-23T15:02:49.398Z"
   },
   {
    "duration": 172,
    "start_time": "2023-02-23T15:02:49.826Z"
   },
   {
    "duration": 11,
    "start_time": "2023-02-23T15:02:49.999Z"
   },
   {
    "duration": 7,
    "start_time": "2023-02-23T15:02:50.012Z"
   },
   {
    "duration": 407,
    "start_time": "2023-02-23T15:02:50.021Z"
   },
   {
    "duration": 23,
    "start_time": "2023-02-23T15:02:50.430Z"
   },
   {
    "duration": 18,
    "start_time": "2023-02-23T15:02:50.456Z"
   },
   {
    "duration": 12,
    "start_time": "2023-02-23T15:02:50.476Z"
   },
   {
    "duration": 15,
    "start_time": "2023-02-23T15:02:50.489Z"
   },
   {
    "duration": 2849,
    "start_time": "2023-02-23T15:02:50.506Z"
   },
   {
    "duration": 6,
    "start_time": "2023-02-23T15:02:53.357Z"
   },
   {
    "duration": 6,
    "start_time": "2023-02-23T15:02:53.369Z"
   },
   {
    "duration": 4,
    "start_time": "2023-02-23T15:02:53.377Z"
   },
   {
    "duration": 7,
    "start_time": "2023-02-23T15:02:53.383Z"
   },
   {
    "duration": 12,
    "start_time": "2023-02-23T15:02:53.391Z"
   },
   {
    "duration": 9,
    "start_time": "2023-02-23T15:02:53.404Z"
   },
   {
    "duration": 58,
    "start_time": "2023-02-23T15:02:57.597Z"
   },
   {
    "duration": 45,
    "start_time": "2023-02-23T15:03:30.553Z"
   },
   {
    "duration": 24,
    "start_time": "2023-02-23T15:03:48.776Z"
   },
   {
    "duration": 17,
    "start_time": "2023-02-23T15:04:24.211Z"
   },
   {
    "duration": 6,
    "start_time": "2023-02-23T15:04:30.156Z"
   },
   {
    "duration": 356,
    "start_time": "2023-02-23T15:04:30.168Z"
   },
   {
    "duration": 9,
    "start_time": "2023-02-23T15:04:30.526Z"
   },
   {
    "duration": 40,
    "start_time": "2023-02-23T15:04:30.536Z"
   },
   {
    "duration": 49,
    "start_time": "2023-02-23T15:04:30.578Z"
   },
   {
    "duration": 43,
    "start_time": "2023-02-23T15:04:30.629Z"
   },
   {
    "duration": 367,
    "start_time": "2023-02-23T15:04:30.675Z"
   },
   {
    "duration": 22,
    "start_time": "2023-02-23T15:04:31.056Z"
   },
   {
    "duration": 38,
    "start_time": "2023-02-23T15:04:31.081Z"
   },
   {
    "duration": 121,
    "start_time": "2023-02-23T15:04:31.121Z"
   },
   {
    "duration": 21,
    "start_time": "2023-02-23T15:04:31.244Z"
   },
   {
    "duration": 25,
    "start_time": "2023-02-23T15:04:31.266Z"
   },
   {
    "duration": 13,
    "start_time": "2023-02-23T15:04:31.293Z"
   },
   {
    "duration": 11,
    "start_time": "2023-02-23T15:04:31.309Z"
   },
   {
    "duration": 19,
    "start_time": "2023-02-23T15:04:31.322Z"
   },
   {
    "duration": 32,
    "start_time": "2023-02-23T15:04:31.343Z"
   },
   {
    "duration": 541,
    "start_time": "2023-02-23T15:04:31.377Z"
   },
   {
    "duration": 458,
    "start_time": "2023-02-23T15:04:31.920Z"
   },
   {
    "duration": 406,
    "start_time": "2023-02-23T15:04:32.380Z"
   },
   {
    "duration": 453,
    "start_time": "2023-02-23T15:04:32.789Z"
   },
   {
    "duration": 436,
    "start_time": "2023-02-23T15:04:33.244Z"
   },
   {
    "duration": 6,
    "start_time": "2023-02-23T15:04:33.682Z"
   },
   {
    "duration": 411,
    "start_time": "2023-02-23T15:04:33.690Z"
   },
   {
    "duration": 169,
    "start_time": "2023-02-23T15:04:34.103Z"
   },
   {
    "duration": 12,
    "start_time": "2023-02-23T15:04:34.274Z"
   },
   {
    "duration": 8,
    "start_time": "2023-02-23T15:04:34.288Z"
   },
   {
    "duration": 501,
    "start_time": "2023-02-23T15:04:34.297Z"
   },
   {
    "duration": 10,
    "start_time": "2023-02-23T15:04:34.800Z"
   },
   {
    "duration": 5,
    "start_time": "2023-02-23T15:04:34.812Z"
   },
   {
    "duration": 13,
    "start_time": "2023-02-23T15:04:34.819Z"
   },
   {
    "duration": 55,
    "start_time": "2023-02-23T15:04:34.834Z"
   },
   {
    "duration": 3771,
    "start_time": "2023-02-23T15:04:34.891Z"
   },
   {
    "duration": 6,
    "start_time": "2023-02-23T15:04:38.664Z"
   },
   {
    "duration": 9,
    "start_time": "2023-02-23T15:04:38.671Z"
   },
   {
    "duration": 75,
    "start_time": "2023-02-23T15:04:38.682Z"
   },
   {
    "duration": 18,
    "start_time": "2023-02-23T15:04:38.759Z"
   },
   {
    "duration": 4,
    "start_time": "2023-02-23T15:04:38.779Z"
   },
   {
    "duration": 8,
    "start_time": "2023-02-23T15:04:38.784Z"
   },
   {
    "duration": 33,
    "start_time": "2023-02-23T15:04:38.794Z"
   },
   {
    "duration": 20,
    "start_time": "2023-02-23T15:04:45.666Z"
   },
   {
    "duration": 31,
    "start_time": "2023-02-23T15:05:04.080Z"
   },
   {
    "duration": 35,
    "start_time": "2023-02-23T15:05:12.534Z"
   },
   {
    "duration": 53,
    "start_time": "2023-02-23T15:05:20.499Z"
   },
   {
    "duration": 66,
    "start_time": "2023-02-23T15:06:05.513Z"
   },
   {
    "duration": 41,
    "start_time": "2023-02-23T15:06:21.986Z"
   },
   {
    "duration": 17,
    "start_time": "2023-02-23T15:06:43.495Z"
   },
   {
    "duration": 3,
    "start_time": "2023-02-23T15:06:57.982Z"
   },
   {
    "duration": 352,
    "start_time": "2023-02-23T15:06:57.987Z"
   },
   {
    "duration": 14,
    "start_time": "2023-02-23T15:06:58.340Z"
   },
   {
    "duration": 17,
    "start_time": "2023-02-23T15:06:58.360Z"
   },
   {
    "duration": 4,
    "start_time": "2023-02-23T15:06:58.379Z"
   },
   {
    "duration": 21,
    "start_time": "2023-02-23T15:06:58.385Z"
   },
   {
    "duration": 338,
    "start_time": "2023-02-23T15:06:58.408Z"
   },
   {
    "duration": 22,
    "start_time": "2023-02-23T15:06:58.748Z"
   },
   {
    "duration": 18,
    "start_time": "2023-02-23T15:06:58.772Z"
   },
   {
    "duration": 115,
    "start_time": "2023-02-23T15:06:58.792Z"
   },
   {
    "duration": 9,
    "start_time": "2023-02-23T15:06:58.908Z"
   },
   {
    "duration": 17,
    "start_time": "2023-02-23T15:06:58.919Z"
   },
   {
    "duration": 15,
    "start_time": "2023-02-23T15:06:58.953Z"
   },
   {
    "duration": 13,
    "start_time": "2023-02-23T15:06:58.973Z"
   },
   {
    "duration": 9,
    "start_time": "2023-02-23T15:06:58.988Z"
   },
   {
    "duration": 12,
    "start_time": "2023-02-23T15:06:58.998Z"
   },
   {
    "duration": 368,
    "start_time": "2023-02-23T15:06:59.012Z"
   },
   {
    "duration": 434,
    "start_time": "2023-02-23T15:06:59.382Z"
   },
   {
    "duration": 399,
    "start_time": "2023-02-23T15:06:59.818Z"
   },
   {
    "duration": 427,
    "start_time": "2023-02-23T15:07:00.218Z"
   },
   {
    "duration": 427,
    "start_time": "2023-02-23T15:07:00.647Z"
   },
   {
    "duration": 7,
    "start_time": "2023-02-23T15:07:01.076Z"
   },
   {
    "duration": 532,
    "start_time": "2023-02-23T15:07:01.085Z"
   },
   {
    "duration": 179,
    "start_time": "2023-02-23T15:07:01.618Z"
   },
   {
    "duration": 11,
    "start_time": "2023-02-23T15:07:01.799Z"
   },
   {
    "duration": 24,
    "start_time": "2023-02-23T15:07:01.811Z"
   },
   {
    "duration": 401,
    "start_time": "2023-02-23T15:07:01.836Z"
   },
   {
    "duration": 26,
    "start_time": "2023-02-23T15:07:02.238Z"
   },
   {
    "duration": 19,
    "start_time": "2023-02-23T15:07:02.266Z"
   },
   {
    "duration": 18,
    "start_time": "2023-02-23T15:07:02.287Z"
   },
   {
    "duration": 22,
    "start_time": "2023-02-23T15:07:02.307Z"
   },
   {
    "duration": 3443,
    "start_time": "2023-02-23T15:07:02.331Z"
   },
   {
    "duration": 3,
    "start_time": "2023-02-23T15:07:05.776Z"
   },
   {
    "duration": 77,
    "start_time": "2023-02-23T15:07:05.781Z"
   },
   {
    "duration": 21,
    "start_time": "2023-02-23T15:07:05.861Z"
   },
   {
    "duration": 7,
    "start_time": "2023-02-23T15:07:05.885Z"
   },
   {
    "duration": 6,
    "start_time": "2023-02-23T15:07:05.895Z"
   },
   {
    "duration": 56,
    "start_time": "2023-02-23T15:07:05.903Z"
   },
   {
    "duration": 33,
    "start_time": "2023-02-23T15:07:05.961Z"
   },
   {
    "duration": 38,
    "start_time": "2023-02-23T15:07:11.971Z"
   },
   {
    "duration": 17,
    "start_time": "2023-02-23T15:07:41.451Z"
   },
   {
    "duration": 42,
    "start_time": "2023-02-23T15:07:46.189Z"
   },
   {
    "duration": 44,
    "start_time": "2023-02-23T15:08:32.365Z"
   },
   {
    "duration": 4,
    "start_time": "2023-02-23T15:08:47.229Z"
   },
   {
    "duration": 346,
    "start_time": "2023-02-23T15:08:47.238Z"
   },
   {
    "duration": 11,
    "start_time": "2023-02-23T15:08:47.587Z"
   },
   {
    "duration": 19,
    "start_time": "2023-02-23T15:08:47.600Z"
   },
   {
    "duration": 5,
    "start_time": "2023-02-23T15:08:47.622Z"
   },
   {
    "duration": 30,
    "start_time": "2023-02-23T15:08:47.658Z"
   },
   {
    "duration": 345,
    "start_time": "2023-02-23T15:08:47.689Z"
   },
   {
    "duration": 35,
    "start_time": "2023-02-23T15:08:48.036Z"
   },
   {
    "duration": 23,
    "start_time": "2023-02-23T15:08:48.072Z"
   },
   {
    "duration": 146,
    "start_time": "2023-02-23T15:08:48.098Z"
   },
   {
    "duration": 16,
    "start_time": "2023-02-23T15:08:48.254Z"
   },
   {
    "duration": 16,
    "start_time": "2023-02-23T15:08:48.271Z"
   },
   {
    "duration": 3,
    "start_time": "2023-02-23T15:08:48.289Z"
   },
   {
    "duration": 7,
    "start_time": "2023-02-23T15:08:48.293Z"
   },
   {
    "duration": 6,
    "start_time": "2023-02-23T15:08:48.301Z"
   },
   {
    "duration": 5,
    "start_time": "2023-02-23T15:08:48.309Z"
   },
   {
    "duration": 452,
    "start_time": "2023-02-23T15:08:48.316Z"
   },
   {
    "duration": 403,
    "start_time": "2023-02-23T15:08:48.770Z"
   },
   {
    "duration": 540,
    "start_time": "2023-02-23T15:08:49.174Z"
   },
   {
    "duration": 428,
    "start_time": "2023-02-23T15:08:49.716Z"
   },
   {
    "duration": 529,
    "start_time": "2023-02-23T15:08:50.160Z"
   },
   {
    "duration": 7,
    "start_time": "2023-02-23T15:08:50.691Z"
   },
   {
    "duration": 388,
    "start_time": "2023-02-23T15:08:50.699Z"
   },
   {
    "duration": 161,
    "start_time": "2023-02-23T15:08:51.089Z"
   },
   {
    "duration": 13,
    "start_time": "2023-02-23T15:08:51.260Z"
   },
   {
    "duration": 14,
    "start_time": "2023-02-23T15:08:51.275Z"
   },
   {
    "duration": 375,
    "start_time": "2023-02-23T15:08:51.290Z"
   },
   {
    "duration": 11,
    "start_time": "2023-02-23T15:08:51.667Z"
   },
   {
    "duration": 3,
    "start_time": "2023-02-23T15:08:51.681Z"
   },
   {
    "duration": 34,
    "start_time": "2023-02-23T15:08:51.686Z"
   },
   {
    "duration": 6,
    "start_time": "2023-02-23T15:08:51.722Z"
   },
   {
    "duration": 5233,
    "start_time": "2023-02-23T15:08:51.730Z"
   },
   {
    "duration": 4,
    "start_time": "2023-02-23T15:08:56.976Z"
   },
   {
    "duration": 79,
    "start_time": "2023-02-23T15:08:56.985Z"
   },
   {
    "duration": 11,
    "start_time": "2023-02-23T15:08:57.067Z"
   },
   {
    "duration": 7,
    "start_time": "2023-02-23T15:08:57.079Z"
   },
   {
    "duration": 6,
    "start_time": "2023-02-23T15:08:57.089Z"
   },
   {
    "duration": 8,
    "start_time": "2023-02-23T15:08:57.097Z"
   },
   {
    "duration": 42,
    "start_time": "2023-02-23T15:09:01.452Z"
   },
   {
    "duration": 8,
    "start_time": "2023-02-23T15:09:20.956Z"
   },
   {
    "duration": 362949,
    "start_time": "2023-02-23T15:18:01.355Z"
   },
   {
    "duration": 4,
    "start_time": "2023-02-23T15:24:04.306Z"
   },
   {
    "duration": 373074,
    "start_time": "2023-02-23T15:24:04.312Z"
   },
   {
    "duration": 4,
    "start_time": "2023-02-23T15:30:17.388Z"
   },
   {
    "duration": 6,
    "start_time": "2023-02-23T15:30:17.394Z"
   },
   {
    "duration": 7,
    "start_time": "2023-02-23T15:30:17.402Z"
   },
   {
    "duration": 63,
    "start_time": "2023-02-23T15:30:17.410Z"
   },
   {
    "duration": 17,
    "start_time": "2023-02-23T15:30:17.474Z"
   },
   {
    "duration": 0,
    "start_time": "2023-02-23T15:30:17.494Z"
   },
   {
    "duration": 0,
    "start_time": "2023-02-23T15:30:17.495Z"
   },
   {
    "duration": 0,
    "start_time": "2023-02-23T15:30:17.497Z"
   },
   {
    "duration": 16,
    "start_time": "2023-02-23T15:31:42.472Z"
   },
   {
    "duration": 4,
    "start_time": "2023-02-23T15:32:13.486Z"
   },
   {
    "duration": 358,
    "start_time": "2023-02-23T15:32:13.500Z"
   },
   {
    "duration": 12,
    "start_time": "2023-02-23T15:32:13.860Z"
   },
   {
    "duration": 16,
    "start_time": "2023-02-23T15:32:13.874Z"
   },
   {
    "duration": 4,
    "start_time": "2023-02-23T15:32:13.892Z"
   },
   {
    "duration": 23,
    "start_time": "2023-02-23T15:32:13.898Z"
   },
   {
    "duration": 318,
    "start_time": "2023-02-23T15:32:13.922Z"
   },
   {
    "duration": 31,
    "start_time": "2023-02-23T15:32:14.242Z"
   },
   {
    "duration": 21,
    "start_time": "2023-02-23T15:32:14.275Z"
   },
   {
    "duration": 141,
    "start_time": "2023-02-23T15:32:14.298Z"
   },
   {
    "duration": 26,
    "start_time": "2023-02-23T15:32:14.440Z"
   },
   {
    "duration": 21,
    "start_time": "2023-02-23T15:32:14.467Z"
   },
   {
    "duration": 3,
    "start_time": "2023-02-23T15:32:14.490Z"
   },
   {
    "duration": 8,
    "start_time": "2023-02-23T15:32:14.495Z"
   },
   {
    "duration": 6,
    "start_time": "2023-02-23T15:32:14.506Z"
   },
   {
    "duration": 6,
    "start_time": "2023-02-23T15:32:14.514Z"
   },
   {
    "duration": 625,
    "start_time": "2023-02-23T15:32:14.522Z"
   },
   {
    "duration": 454,
    "start_time": "2023-02-23T15:32:15.153Z"
   },
   {
    "duration": 423,
    "start_time": "2023-02-23T15:32:15.609Z"
   },
   {
    "duration": 445,
    "start_time": "2023-02-23T15:32:16.034Z"
   },
   {
    "duration": 398,
    "start_time": "2023-02-23T15:32:16.481Z"
   },
   {
    "duration": 7,
    "start_time": "2023-02-23T15:32:16.881Z"
   },
   {
    "duration": 401,
    "start_time": "2023-02-23T15:32:16.890Z"
   },
   {
    "duration": 190,
    "start_time": "2023-02-23T15:32:17.293Z"
   },
   {
    "duration": 12,
    "start_time": "2023-02-23T15:32:17.485Z"
   },
   {
    "duration": 10,
    "start_time": "2023-02-23T15:32:17.499Z"
   },
   {
    "duration": 613,
    "start_time": "2023-02-23T15:32:17.511Z"
   },
   {
    "duration": 38,
    "start_time": "2023-02-23T15:32:18.126Z"
   },
   {
    "duration": 6,
    "start_time": "2023-02-23T15:32:18.168Z"
   },
   {
    "duration": 10,
    "start_time": "2023-02-23T15:32:18.176Z"
   },
   {
    "duration": 4,
    "start_time": "2023-02-23T15:32:18.187Z"
   },
   {
    "duration": 3464,
    "start_time": "2023-02-23T15:32:18.193Z"
   },
   {
    "duration": 371313,
    "start_time": "2023-02-23T15:32:21.660Z"
   },
   {
    "duration": 5,
    "start_time": "2023-02-23T15:38:32.975Z"
   },
   {
    "duration": 399880,
    "start_time": "2023-02-23T15:38:32.982Z"
   },
   {
    "duration": 5,
    "start_time": "2023-02-23T15:45:12.864Z"
   },
   {
    "duration": 21,
    "start_time": "2023-02-23T15:45:12.871Z"
   },
   {
    "duration": 12,
    "start_time": "2023-02-23T15:45:12.894Z"
   },
   {
    "duration": 69,
    "start_time": "2023-02-23T15:45:12.909Z"
   },
   {
    "duration": 6,
    "start_time": "2023-02-23T15:50:03.574Z"
   },
   {
    "duration": 32,
    "start_time": "2023-02-23T15:56:40.844Z"
   },
   {
    "duration": 22,
    "start_time": "2023-02-23T15:56:49.940Z"
   },
   {
    "duration": 25,
    "start_time": "2023-02-23T15:57:26.552Z"
   },
   {
    "duration": 12,
    "start_time": "2023-02-23T15:58:00.488Z"
   },
   {
    "duration": 29,
    "start_time": "2023-02-23T16:02:37.452Z"
   },
   {
    "duration": 17,
    "start_time": "2023-02-23T16:07:01.383Z"
   },
   {
    "duration": 20,
    "start_time": "2023-02-23T16:07:14.493Z"
   },
   {
    "duration": 31,
    "start_time": "2023-02-23T16:08:35.024Z"
   },
   {
    "duration": 17,
    "start_time": "2023-02-23T16:11:18.195Z"
   },
   {
    "duration": 30,
    "start_time": "2023-02-23T16:11:53.050Z"
   },
   {
    "duration": 53,
    "start_time": "2023-02-23T16:13:35.512Z"
   },
   {
    "duration": 46,
    "start_time": "2023-02-23T16:14:59.991Z"
   },
   {
    "duration": 39,
    "start_time": "2023-02-23T16:15:19.108Z"
   },
   {
    "duration": 64,
    "start_time": "2023-02-23T16:15:37.149Z"
   },
   {
    "duration": 48,
    "start_time": "2023-02-23T16:19:51.640Z"
   },
   {
    "duration": 5,
    "start_time": "2023-02-23T16:20:44.229Z"
   },
   {
    "duration": 59,
    "start_time": "2023-02-23T16:21:49.748Z"
   },
   {
    "duration": 131,
    "start_time": "2023-02-23T16:22:52.650Z"
   },
   {
    "duration": 98,
    "start_time": "2023-02-23T16:23:27.091Z"
   },
   {
    "duration": 20,
    "start_time": "2023-02-23T16:25:21.309Z"
   },
   {
    "duration": 46,
    "start_time": "2023-02-23T16:25:55.441Z"
   },
   {
    "duration": 44,
    "start_time": "2023-02-23T16:26:06.748Z"
   },
   {
    "duration": 46,
    "start_time": "2023-02-23T16:26:31.849Z"
   },
   {
    "duration": 39,
    "start_time": "2023-02-23T16:28:03.787Z"
   },
   {
    "duration": 4,
    "start_time": "2023-02-23T16:28:16.131Z"
   },
   {
    "duration": 110,
    "start_time": "2023-02-23T16:28:16.137Z"
   },
   {
    "duration": 47,
    "start_time": "2023-02-23T16:28:16.249Z"
   },
   {
    "duration": 14,
    "start_time": "2023-02-23T16:28:16.298Z"
   },
   {
    "duration": 0,
    "start_time": "2023-02-23T16:28:16.314Z"
   },
   {
    "duration": 0,
    "start_time": "2023-02-23T16:28:16.315Z"
   },
   {
    "duration": 0,
    "start_time": "2023-02-23T16:28:16.316Z"
   },
   {
    "duration": 98,
    "start_time": "2023-02-23T16:29:46.390Z"
   },
   {
    "duration": 34,
    "start_time": "2023-02-23T16:29:49.982Z"
   },
   {
    "duration": 99,
    "start_time": "2023-02-23T16:31:15.116Z"
   },
   {
    "duration": 44,
    "start_time": "2023-02-23T16:31:17.428Z"
   },
   {
    "duration": 101,
    "start_time": "2023-02-23T16:32:01.030Z"
   },
   {
    "duration": 39,
    "start_time": "2023-02-23T16:32:04.509Z"
   },
   {
    "duration": 6,
    "start_time": "2023-02-23T16:32:19.686Z"
   },
   {
    "duration": 99,
    "start_time": "2023-02-23T16:32:22.310Z"
   },
   {
    "duration": 44,
    "start_time": "2023-02-23T16:32:24.629Z"
   },
   {
    "duration": 94,
    "start_time": "2023-02-23T16:33:05.689Z"
   },
   {
    "duration": 53,
    "start_time": "2023-02-23T16:33:08.349Z"
   },
   {
    "duration": 102,
    "start_time": "2023-02-23T16:33:39.398Z"
   },
   {
    "duration": 56,
    "start_time": "2023-02-23T16:33:42.008Z"
   },
   {
    "duration": 12,
    "start_time": "2023-02-23T16:33:57.049Z"
   },
   {
    "duration": 5,
    "start_time": "2023-02-23T16:34:01.190Z"
   },
   {
    "duration": 151,
    "start_time": "2023-02-23T16:34:03.037Z"
   },
   {
    "duration": 54,
    "start_time": "2023-02-23T16:34:10.050Z"
   },
   {
    "duration": 66,
    "start_time": "2023-02-23T16:34:22.629Z"
   },
   {
    "duration": 39,
    "start_time": "2023-02-23T16:34:36.887Z"
   },
   {
    "duration": 106,
    "start_time": "2023-02-23T16:34:45.087Z"
   },
   {
    "duration": 57,
    "start_time": "2023-02-23T16:34:47.690Z"
   },
   {
    "duration": 41,
    "start_time": "2023-02-23T16:36:51.589Z"
   },
   {
    "duration": 141,
    "start_time": "2023-02-23T16:37:01.950Z"
   },
   {
    "duration": 51,
    "start_time": "2023-02-23T16:37:04.890Z"
   },
   {
    "duration": 24,
    "start_time": "2023-02-23T16:39:01.303Z"
   },
   {
    "duration": 21,
    "start_time": "2023-02-23T16:39:16.630Z"
   },
   {
    "duration": 36,
    "start_time": "2023-02-23T16:39:24.429Z"
   },
   {
    "duration": 36,
    "start_time": "2023-02-23T16:39:45.196Z"
   },
   {
    "duration": 40,
    "start_time": "2023-02-23T16:40:12.190Z"
   },
   {
    "duration": 56,
    "start_time": "2023-02-23T16:40:30.709Z"
   },
   {
    "duration": 22,
    "start_time": "2023-02-23T16:40:45.282Z"
   },
   {
    "duration": 51,
    "start_time": "2023-02-23T16:41:50.148Z"
   },
   {
    "duration": 98,
    "start_time": "2023-02-23T16:42:44.890Z"
   },
   {
    "duration": 53,
    "start_time": "2023-02-23T16:42:49.911Z"
   },
   {
    "duration": 60,
    "start_time": "2023-02-23T16:43:22.426Z"
   },
   {
    "duration": 49,
    "start_time": "2023-02-23T16:43:49.909Z"
   },
   {
    "duration": 38,
    "start_time": "2023-02-23T16:44:00.310Z"
   },
   {
    "duration": 50,
    "start_time": "2023-02-23T16:44:08.355Z"
   },
   {
    "duration": 52,
    "start_time": "2023-02-23T16:44:53.828Z"
   },
   {
    "duration": 25,
    "start_time": "2023-02-23T16:45:05.909Z"
   },
   {
    "duration": 23,
    "start_time": "2023-02-23T16:46:09.441Z"
   },
   {
    "duration": 15,
    "start_time": "2023-02-23T16:46:27.429Z"
   },
   {
    "duration": 70,
    "start_time": "2023-02-23T16:47:07.398Z"
   },
   {
    "duration": 17,
    "start_time": "2023-02-23T16:51:18.549Z"
   },
   {
    "duration": 1502,
    "start_time": "2023-02-23T16:51:28.689Z"
   },
   {
    "duration": 1516,
    "start_time": "2023-02-23T16:51:30.193Z"
   },
   {
    "duration": 8,
    "start_time": "2023-02-23T16:51:31.711Z"
   },
   {
    "duration": 16,
    "start_time": "2023-02-23T16:51:31.721Z"
   },
   {
    "duration": 5,
    "start_time": "2023-02-23T16:51:31.739Z"
   },
   {
    "duration": 55,
    "start_time": "2023-02-23T16:51:31.746Z"
   },
   {
    "duration": 325,
    "start_time": "2023-02-23T16:51:31.803Z"
   },
   {
    "duration": 49,
    "start_time": "2023-02-23T16:51:32.130Z"
   },
   {
    "duration": 27,
    "start_time": "2023-02-23T16:51:32.183Z"
   },
   {
    "duration": 216,
    "start_time": "2023-02-23T16:51:32.212Z"
   },
   {
    "duration": 10,
    "start_time": "2023-02-23T16:51:32.430Z"
   },
   {
    "duration": 27,
    "start_time": "2023-02-23T16:51:32.441Z"
   },
   {
    "duration": 10,
    "start_time": "2023-02-23T16:51:32.473Z"
   },
   {
    "duration": 12,
    "start_time": "2023-02-23T16:51:32.490Z"
   },
   {
    "duration": 6,
    "start_time": "2023-02-23T16:51:32.504Z"
   },
   {
    "duration": 8,
    "start_time": "2023-02-23T16:51:32.512Z"
   },
   {
    "duration": 392,
    "start_time": "2023-02-23T16:51:32.522Z"
   },
   {
    "duration": 414,
    "start_time": "2023-02-23T16:51:32.916Z"
   },
   {
    "duration": 486,
    "start_time": "2023-02-23T16:51:33.332Z"
   },
   {
    "duration": 525,
    "start_time": "2023-02-23T16:51:33.820Z"
   },
   {
    "duration": 437,
    "start_time": "2023-02-23T16:51:34.347Z"
   },
   {
    "duration": 6,
    "start_time": "2023-02-23T16:51:34.787Z"
   },
   {
    "duration": 381,
    "start_time": "2023-02-23T16:51:34.795Z"
   },
   {
    "duration": 155,
    "start_time": "2023-02-23T16:51:35.178Z"
   },
   {
    "duration": 19,
    "start_time": "2023-02-23T16:51:35.335Z"
   },
   {
    "duration": 32,
    "start_time": "2023-02-23T16:51:35.360Z"
   },
   {
    "duration": 391,
    "start_time": "2023-02-23T16:51:35.394Z"
   },
   {
    "duration": 12,
    "start_time": "2023-02-23T16:51:35.787Z"
   },
   {
    "duration": 4,
    "start_time": "2023-02-23T16:51:35.800Z"
   },
   {
    "duration": 18,
    "start_time": "2023-02-23T16:51:35.806Z"
   },
   {
    "duration": 9,
    "start_time": "2023-02-23T16:51:35.826Z"
   },
   {
    "duration": 6257,
    "start_time": "2023-02-23T16:51:35.837Z"
   },
   {
    "duration": 385604,
    "start_time": "2023-02-23T16:51:42.097Z"
   },
   {
    "duration": 6,
    "start_time": "2023-02-23T16:58:07.704Z"
   },
   {
    "duration": 391959,
    "start_time": "2023-02-23T16:58:07.712Z"
   },
   {
    "duration": 10,
    "start_time": "2023-02-23T17:04:39.674Z"
   },
   {
    "duration": 7,
    "start_time": "2023-02-23T17:04:39.689Z"
   },
   {
    "duration": 7,
    "start_time": "2023-02-23T17:04:39.698Z"
   },
   {
    "duration": 5,
    "start_time": "2023-02-23T17:04:39.706Z"
   },
   {
    "duration": 102,
    "start_time": "2023-02-23T17:04:39.713Z"
   },
   {
    "duration": 55,
    "start_time": "2023-02-23T17:06:37.772Z"
   },
   {
    "duration": 7,
    "start_time": "2023-02-23T17:06:59.809Z"
   },
   {
    "duration": 7,
    "start_time": "2023-02-23T17:07:34.580Z"
   },
   {
    "duration": 1729,
    "start_time": "2023-02-24T13:51:58.783Z"
   },
   {
    "duration": 972,
    "start_time": "2023-02-24T13:52:00.516Z"
   },
   {
    "duration": 14,
    "start_time": "2023-02-24T13:52:01.490Z"
   },
   {
    "duration": 25,
    "start_time": "2023-02-24T13:52:01.507Z"
   },
   {
    "duration": 6,
    "start_time": "2023-02-24T13:52:01.534Z"
   },
   {
    "duration": 23,
    "start_time": "2023-02-24T13:52:01.542Z"
   },
   {
    "duration": 359,
    "start_time": "2023-02-24T13:52:01.567Z"
   },
   {
    "duration": 21,
    "start_time": "2023-02-24T13:52:01.928Z"
   },
   {
    "duration": 22,
    "start_time": "2023-02-24T13:52:01.952Z"
   },
   {
    "duration": 436,
    "start_time": "2023-02-24T13:52:01.998Z"
   },
   {
    "duration": 9,
    "start_time": "2023-02-24T13:52:02.436Z"
   },
   {
    "duration": 13,
    "start_time": "2023-02-24T13:52:02.446Z"
   },
   {
    "duration": 3,
    "start_time": "2023-02-24T13:52:02.461Z"
   },
   {
    "duration": 8,
    "start_time": "2023-02-24T13:52:02.465Z"
   },
   {
    "duration": 8,
    "start_time": "2023-02-24T13:52:02.474Z"
   },
   {
    "duration": 24,
    "start_time": "2023-02-24T13:52:02.483Z"
   },
   {
    "duration": 359,
    "start_time": "2023-02-24T13:52:02.509Z"
   },
   {
    "duration": 380,
    "start_time": "2023-02-24T13:52:02.870Z"
   },
   {
    "duration": 477,
    "start_time": "2023-02-24T13:52:03.251Z"
   },
   {
    "duration": 453,
    "start_time": "2023-02-24T13:52:03.731Z"
   },
   {
    "duration": 415,
    "start_time": "2023-02-24T13:52:04.191Z"
   },
   {
    "duration": 6,
    "start_time": "2023-02-24T13:52:04.609Z"
   },
   {
    "duration": 362,
    "start_time": "2023-02-24T13:52:04.616Z"
   },
   {
    "duration": 165,
    "start_time": "2023-02-24T13:52:04.980Z"
   },
   {
    "duration": 12,
    "start_time": "2023-02-24T13:52:05.147Z"
   },
   {
    "duration": 6,
    "start_time": "2023-02-24T13:52:05.160Z"
   },
   {
    "duration": 355,
    "start_time": "2023-02-24T13:52:05.169Z"
   },
   {
    "duration": 12,
    "start_time": "2023-02-24T13:52:05.526Z"
   },
   {
    "duration": 3,
    "start_time": "2023-02-24T13:52:05.540Z"
   },
   {
    "duration": 12,
    "start_time": "2023-02-24T13:52:05.544Z"
   },
   {
    "duration": 7,
    "start_time": "2023-02-24T13:52:05.558Z"
   },
   {
    "duration": 2649,
    "start_time": "2023-02-24T13:52:05.566Z"
   },
   {
    "duration": 248414,
    "start_time": "2023-02-24T13:52:08.217Z"
   },
   {
    "duration": 0,
    "start_time": "2023-02-24T13:56:16.632Z"
   },
   {
    "duration": 0,
    "start_time": "2023-02-24T13:56:16.634Z"
   },
   {
    "duration": 0,
    "start_time": "2023-02-24T13:56:16.635Z"
   },
   {
    "duration": 0,
    "start_time": "2023-02-24T13:56:16.636Z"
   },
   {
    "duration": 0,
    "start_time": "2023-02-24T13:56:16.637Z"
   },
   {
    "duration": 0,
    "start_time": "2023-02-24T13:56:16.638Z"
   },
   {
    "duration": 0,
    "start_time": "2023-02-24T13:56:16.639Z"
   },
   {
    "duration": 0,
    "start_time": "2023-02-24T13:56:16.640Z"
   },
   {
    "duration": 0,
    "start_time": "2023-02-24T13:56:16.641Z"
   },
   {
    "duration": 0,
    "start_time": "2023-02-24T13:56:16.643Z"
   },
   {
    "duration": 0,
    "start_time": "2023-02-24T13:56:16.644Z"
   },
   {
    "duration": 1758,
    "start_time": "2023-02-24T13:56:42.924Z"
   },
   {
    "duration": 327,
    "start_time": "2023-02-24T13:56:44.684Z"
   },
   {
    "duration": 12,
    "start_time": "2023-02-24T13:56:45.013Z"
   },
   {
    "duration": 22,
    "start_time": "2023-02-24T13:56:45.027Z"
   },
   {
    "duration": 6,
    "start_time": "2023-02-24T13:56:45.052Z"
   },
   {
    "duration": 47,
    "start_time": "2023-02-24T13:56:45.060Z"
   },
   {
    "duration": 305,
    "start_time": "2023-02-24T13:56:45.109Z"
   },
   {
    "duration": 16,
    "start_time": "2023-02-24T13:56:45.416Z"
   },
   {
    "duration": 16,
    "start_time": "2023-02-24T13:56:45.434Z"
   },
   {
    "duration": 132,
    "start_time": "2023-02-24T13:56:45.453Z"
   },
   {
    "duration": 14,
    "start_time": "2023-02-24T13:56:45.587Z"
   },
   {
    "duration": 21,
    "start_time": "2023-02-24T13:56:45.603Z"
   },
   {
    "duration": 17,
    "start_time": "2023-02-24T13:56:45.626Z"
   },
   {
    "duration": 14,
    "start_time": "2023-02-24T13:56:45.645Z"
   },
   {
    "duration": 12,
    "start_time": "2023-02-24T13:56:45.661Z"
   },
   {
    "duration": 17,
    "start_time": "2023-02-24T13:56:45.674Z"
   },
   {
    "duration": 396,
    "start_time": "2023-02-24T13:56:45.693Z"
   },
   {
    "duration": 440,
    "start_time": "2023-02-24T13:56:46.092Z"
   },
   {
    "duration": 548,
    "start_time": "2023-02-24T13:56:46.534Z"
   },
   {
    "duration": 497,
    "start_time": "2023-02-24T13:56:47.084Z"
   },
   {
    "duration": 497,
    "start_time": "2023-02-24T13:56:47.584Z"
   },
   {
    "duration": 12,
    "start_time": "2023-02-24T13:56:48.083Z"
   },
   {
    "duration": 368,
    "start_time": "2023-02-24T13:56:48.096Z"
   },
   {
    "duration": 160,
    "start_time": "2023-02-24T13:56:48.466Z"
   },
   {
    "duration": 14,
    "start_time": "2023-02-24T13:56:48.627Z"
   },
   {
    "duration": 20,
    "start_time": "2023-02-24T13:56:48.643Z"
   },
   {
    "duration": 351,
    "start_time": "2023-02-24T13:56:48.665Z"
   },
   {
    "duration": 13,
    "start_time": "2023-02-24T13:56:49.019Z"
   },
   {
    "duration": 3,
    "start_time": "2023-02-24T13:56:49.033Z"
   },
   {
    "duration": 13,
    "start_time": "2023-02-24T13:56:49.037Z"
   },
   {
    "duration": 8,
    "start_time": "2023-02-24T13:56:49.051Z"
   },
   {
    "duration": 1533,
    "start_time": "2023-02-24T13:56:49.060Z"
   },
   {
    "duration": 343463,
    "start_time": "2023-02-24T13:56:50.595Z"
   },
   {
    "duration": 4,
    "start_time": "2023-02-24T14:02:34.060Z"
   },
   {
    "duration": 347952,
    "start_time": "2023-02-24T14:02:34.066Z"
   },
   {
    "duration": 4,
    "start_time": "2023-02-24T14:08:22.021Z"
   },
   {
    "duration": 7,
    "start_time": "2023-02-24T14:08:22.027Z"
   },
   {
    "duration": 12,
    "start_time": "2023-02-24T14:08:22.036Z"
   },
   {
    "duration": 6,
    "start_time": "2023-02-24T14:08:22.050Z"
   },
   {
    "duration": 111,
    "start_time": "2023-02-24T14:08:22.058Z"
   },
   {
    "duration": 58,
    "start_time": "2023-02-24T14:08:22.171Z"
   },
   {
    "duration": 148,
    "start_time": "2023-02-24T14:08:22.231Z"
   },
   {
    "duration": 0,
    "start_time": "2023-02-24T14:08:22.381Z"
   },
   {
    "duration": 0,
    "start_time": "2023-02-24T14:08:22.382Z"
   },
   {
    "duration": 5,
    "start_time": "2023-02-24T14:09:30.013Z"
   },
   {
    "duration": 30,
    "start_time": "2023-02-24T14:09:30.021Z"
   },
   {
    "duration": 0,
    "start_time": "2023-02-24T14:09:30.053Z"
   },
   {
    "duration": 25,
    "start_time": "2023-02-24T14:10:06.681Z"
   },
   {
    "duration": 50,
    "start_time": "2023-02-24T14:34:30.684Z"
   },
   {
    "duration": 1493,
    "start_time": "2023-02-24T14:34:43.525Z"
   },
   {
    "duration": 873,
    "start_time": "2023-02-24T14:34:45.020Z"
   },
   {
    "duration": 9,
    "start_time": "2023-02-24T14:34:45.895Z"
   },
   {
    "duration": 22,
    "start_time": "2023-02-24T14:34:45.906Z"
   },
   {
    "duration": 5,
    "start_time": "2023-02-24T14:34:45.930Z"
   },
   {
    "duration": 25,
    "start_time": "2023-02-24T14:34:45.936Z"
   },
   {
    "duration": 320,
    "start_time": "2023-02-24T14:34:45.963Z"
   },
   {
    "duration": 16,
    "start_time": "2023-02-24T14:34:46.285Z"
   },
   {
    "duration": 15,
    "start_time": "2023-02-24T14:34:46.302Z"
   },
   {
    "duration": 441,
    "start_time": "2023-02-24T14:34:46.318Z"
   },
   {
    "duration": 10,
    "start_time": "2023-02-24T14:34:46.760Z"
   },
   {
    "duration": 13,
    "start_time": "2023-02-24T14:34:46.771Z"
   },
   {
    "duration": 3,
    "start_time": "2023-02-24T14:34:46.786Z"
   },
   {
    "duration": 8,
    "start_time": "2023-02-24T14:34:46.793Z"
   },
   {
    "duration": 7,
    "start_time": "2023-02-24T14:34:46.802Z"
   },
   {
    "duration": 6,
    "start_time": "2023-02-24T14:34:46.811Z"
   },
   {
    "duration": 389,
    "start_time": "2023-02-24T14:34:46.818Z"
   },
   {
    "duration": 419,
    "start_time": "2023-02-24T14:34:47.208Z"
   },
   {
    "duration": 338,
    "start_time": "2023-02-24T14:34:47.628Z"
   },
   {
    "duration": 454,
    "start_time": "2023-02-24T14:34:47.967Z"
   },
   {
    "duration": 411,
    "start_time": "2023-02-24T14:34:48.422Z"
   },
   {
    "duration": 6,
    "start_time": "2023-02-24T14:34:48.834Z"
   },
   {
    "duration": 338,
    "start_time": "2023-02-24T14:34:48.841Z"
   },
   {
    "duration": 145,
    "start_time": "2023-02-24T14:34:49.180Z"
   },
   {
    "duration": 11,
    "start_time": "2023-02-24T14:34:49.327Z"
   },
   {
    "duration": 12,
    "start_time": "2023-02-24T14:34:49.339Z"
   },
   {
    "duration": 334,
    "start_time": "2023-02-24T14:34:49.352Z"
   },
   {
    "duration": 13,
    "start_time": "2023-02-24T14:34:49.688Z"
   },
   {
    "duration": 3,
    "start_time": "2023-02-24T14:34:49.703Z"
   },
   {
    "duration": 19,
    "start_time": "2023-02-24T14:34:49.708Z"
   },
   {
    "duration": 5,
    "start_time": "2023-02-24T14:34:49.729Z"
   },
   {
    "duration": 1617,
    "start_time": "2023-02-24T14:34:49.736Z"
   },
   {
    "duration": 332957,
    "start_time": "2023-02-24T14:34:51.355Z"
   },
   {
    "duration": 3,
    "start_time": "2023-02-24T14:40:24.314Z"
   },
   {
    "duration": 340442,
    "start_time": "2023-02-24T14:40:24.319Z"
   },
   {
    "duration": 4,
    "start_time": "2023-02-24T14:46:04.763Z"
   },
   {
    "duration": 7,
    "start_time": "2023-02-24T14:46:04.768Z"
   },
   {
    "duration": 9,
    "start_time": "2023-02-24T14:46:04.776Z"
   },
   {
    "duration": 6,
    "start_time": "2023-02-24T14:46:04.786Z"
   },
   {
    "duration": 38,
    "start_time": "2023-02-24T14:46:04.793Z"
   },
   {
    "duration": 83,
    "start_time": "2023-02-24T14:46:04.849Z"
   },
   {
    "duration": 0,
    "start_time": "2023-02-24T14:46:04.933Z"
   },
   {
    "duration": 0,
    "start_time": "2023-02-24T14:46:04.948Z"
   },
   {
    "duration": 19,
    "start_time": "2023-02-24T14:50:32.766Z"
   },
   {
    "duration": 17,
    "start_time": "2023-02-24T14:52:17.046Z"
   },
   {
    "duration": 30,
    "start_time": "2023-02-24T14:56:10.366Z"
   },
   {
    "duration": 33,
    "start_time": "2023-02-24T14:59:11.565Z"
   },
   {
    "duration": 36,
    "start_time": "2023-02-24T15:00:11.085Z"
   },
   {
    "duration": 10,
    "start_time": "2023-02-24T15:00:28.205Z"
   },
   {
    "duration": 35,
    "start_time": "2023-02-24T15:00:50.885Z"
   },
   {
    "duration": 39,
    "start_time": "2023-02-24T15:01:07.810Z"
   },
   {
    "duration": 36,
    "start_time": "2023-02-24T15:01:24.526Z"
   },
   {
    "duration": 36,
    "start_time": "2023-02-24T15:01:32.606Z"
   },
   {
    "duration": 42,
    "start_time": "2023-02-24T15:01:42.785Z"
   },
   {
    "duration": 6,
    "start_time": "2023-02-24T15:02:07.363Z"
   },
   {
    "duration": 3,
    "start_time": "2023-02-24T15:02:15.646Z"
   },
   {
    "duration": 342,
    "start_time": "2023-02-24T15:02:15.650Z"
   },
   {
    "duration": 8,
    "start_time": "2023-02-24T15:02:15.993Z"
   },
   {
    "duration": 19,
    "start_time": "2023-02-24T15:02:16.003Z"
   },
   {
    "duration": 4,
    "start_time": "2023-02-24T15:02:16.023Z"
   },
   {
    "duration": 31,
    "start_time": "2023-02-24T15:02:16.029Z"
   },
   {
    "duration": 296,
    "start_time": "2023-02-24T15:02:16.061Z"
   },
   {
    "duration": 16,
    "start_time": "2023-02-24T15:02:16.359Z"
   },
   {
    "duration": 15,
    "start_time": "2023-02-24T15:02:16.377Z"
   },
   {
    "duration": 105,
    "start_time": "2023-02-24T15:02:16.395Z"
   },
   {
    "duration": 8,
    "start_time": "2023-02-24T15:02:16.502Z"
   },
   {
    "duration": 14,
    "start_time": "2023-02-24T15:02:16.512Z"
   },
   {
    "duration": 20,
    "start_time": "2023-02-24T15:02:16.528Z"
   },
   {
    "duration": 15,
    "start_time": "2023-02-24T15:02:16.549Z"
   },
   {
    "duration": 14,
    "start_time": "2023-02-24T15:02:16.565Z"
   },
   {
    "duration": 6,
    "start_time": "2023-02-24T15:02:16.581Z"
   },
   {
    "duration": 315,
    "start_time": "2023-02-24T15:02:16.589Z"
   },
   {
    "duration": 342,
    "start_time": "2023-02-24T15:02:16.906Z"
   },
   {
    "duration": 355,
    "start_time": "2023-02-24T15:02:17.249Z"
   },
   {
    "duration": 418,
    "start_time": "2023-02-24T15:02:17.606Z"
   },
   {
    "duration": 451,
    "start_time": "2023-02-24T15:02:18.026Z"
   },
   {
    "duration": 6,
    "start_time": "2023-02-24T15:02:18.478Z"
   },
   {
    "duration": 409,
    "start_time": "2023-02-24T15:02:18.486Z"
   },
   {
    "duration": 133,
    "start_time": "2023-02-24T15:02:18.897Z"
   },
   {
    "duration": 18,
    "start_time": "2023-02-24T15:02:19.031Z"
   },
   {
    "duration": 7,
    "start_time": "2023-02-24T15:02:19.050Z"
   },
   {
    "duration": 331,
    "start_time": "2023-02-24T15:02:19.058Z"
   },
   {
    "duration": 13,
    "start_time": "2023-02-24T15:02:19.392Z"
   },
   {
    "duration": 3,
    "start_time": "2023-02-24T15:02:19.406Z"
   },
   {
    "duration": 12,
    "start_time": "2023-02-24T15:02:19.410Z"
   },
   {
    "duration": 8,
    "start_time": "2023-02-24T15:02:19.423Z"
   },
   {
    "duration": 1516,
    "start_time": "2023-02-24T15:02:19.432Z"
   },
   {
    "duration": 334899,
    "start_time": "2023-02-24T15:02:20.950Z"
   },
   {
    "duration": 4,
    "start_time": "2023-02-24T15:07:55.850Z"
   },
   {
    "duration": 335451,
    "start_time": "2023-02-24T15:07:55.855Z"
   },
   {
    "duration": 4,
    "start_time": "2023-02-24T15:13:31.307Z"
   },
   {
    "duration": 11,
    "start_time": "2023-02-24T15:13:31.313Z"
   },
   {
    "duration": 14,
    "start_time": "2023-02-24T15:13:31.326Z"
   },
   {
    "duration": 18,
    "start_time": "2023-02-24T15:13:31.342Z"
   },
   {
    "duration": 45,
    "start_time": "2023-02-24T15:13:31.362Z"
   },
   {
    "duration": 10,
    "start_time": "2023-02-24T15:13:31.409Z"
   },
   {
    "duration": 44,
    "start_time": "2023-02-24T15:13:31.420Z"
   },
   {
    "duration": 0,
    "start_time": "2023-02-24T15:13:31.466Z"
   },
   {
    "duration": 21,
    "start_time": "2023-02-24T15:22:04.227Z"
   },
   {
    "duration": 18,
    "start_time": "2023-02-24T15:23:36.848Z"
   },
   {
    "duration": 4,
    "start_time": "2023-02-24T15:24:06.596Z"
   },
   {
    "duration": 17,
    "start_time": "2023-02-24T15:24:16.607Z"
   },
   {
    "duration": 18,
    "start_time": "2023-02-24T15:24:41.487Z"
   },
   {
    "duration": 18,
    "start_time": "2023-02-24T15:24:54.208Z"
   },
   {
    "duration": 32,
    "start_time": "2023-02-24T15:25:07.887Z"
   },
   {
    "duration": 16,
    "start_time": "2023-02-24T15:27:00.496Z"
   },
   {
    "duration": 25,
    "start_time": "2023-02-24T15:27:20.536Z"
   },
   {
    "duration": 18,
    "start_time": "2023-02-24T15:27:42.391Z"
   },
   {
    "duration": 17,
    "start_time": "2023-02-24T15:28:23.365Z"
   },
   {
    "duration": 26,
    "start_time": "2023-02-24T15:28:49.193Z"
   },
   {
    "duration": 17,
    "start_time": "2023-02-24T15:28:59.105Z"
   },
   {
    "duration": 25,
    "start_time": "2023-02-24T15:31:14.594Z"
   },
   {
    "duration": 25,
    "start_time": "2023-02-24T15:31:24.421Z"
   },
   {
    "duration": 24,
    "start_time": "2023-02-24T15:32:54.985Z"
   },
   {
    "duration": 17,
    "start_time": "2023-02-24T15:33:04.561Z"
   },
   {
    "duration": 9,
    "start_time": "2023-02-24T16:26:24.319Z"
   },
   {
    "duration": 689,
    "start_time": "2023-02-24T16:26:37.987Z"
   },
   {
    "duration": 9,
    "start_time": "2023-02-24T16:29:49.693Z"
   },
   {
    "duration": 18,
    "start_time": "2023-02-24T16:30:06.026Z"
   },
   {
    "duration": 20,
    "start_time": "2023-02-24T16:31:23.923Z"
   },
   {
    "duration": 724,
    "start_time": "2023-02-24T16:34:07.168Z"
   },
   {
    "duration": 11,
    "start_time": "2023-02-24T16:34:54.694Z"
   },
   {
    "duration": 14,
    "start_time": "2023-02-24T16:36:32.588Z"
   },
   {
    "duration": 105,
    "start_time": "2023-02-24T16:36:58.140Z"
   },
   {
    "duration": 8,
    "start_time": "2023-02-24T16:37:06.824Z"
   },
   {
    "duration": 27,
    "start_time": "2023-02-24T16:37:13.225Z"
   },
   {
    "duration": 22,
    "start_time": "2023-02-24T16:37:42.624Z"
   },
   {
    "duration": 20,
    "start_time": "2023-02-24T16:37:56.495Z"
   },
   {
    "duration": 26,
    "start_time": "2023-02-24T16:38:07.456Z"
   },
   {
    "duration": 4,
    "start_time": "2023-02-24T16:38:16.095Z"
   },
   {
    "duration": 10,
    "start_time": "2023-02-24T16:38:21.055Z"
   },
   {
    "duration": 19,
    "start_time": "2023-02-24T16:39:06.999Z"
   },
   {
    "duration": 34,
    "start_time": "2023-02-24T16:39:21.075Z"
   },
   {
    "duration": 39,
    "start_time": "2023-02-24T16:39:48.936Z"
   },
   {
    "duration": 24,
    "start_time": "2023-02-24T16:40:07.628Z"
   },
   {
    "duration": 11,
    "start_time": "2023-02-24T16:40:49.495Z"
   },
   {
    "duration": 25,
    "start_time": "2023-02-24T16:41:01.455Z"
   },
   {
    "duration": 30,
    "start_time": "2023-02-24T16:41:26.198Z"
   },
   {
    "duration": 13,
    "start_time": "2023-02-24T16:41:45.612Z"
   },
   {
    "duration": 21,
    "start_time": "2023-02-24T16:42:29.830Z"
   },
   {
    "duration": 20,
    "start_time": "2023-02-24T16:42:39.600Z"
   },
   {
    "duration": 4,
    "start_time": "2023-02-24T16:43:07.488Z"
   },
   {
    "duration": 334,
    "start_time": "2023-02-24T16:43:07.493Z"
   },
   {
    "duration": 9,
    "start_time": "2023-02-24T16:43:07.828Z"
   },
   {
    "duration": 14,
    "start_time": "2023-02-24T16:43:07.848Z"
   },
   {
    "duration": 4,
    "start_time": "2023-02-24T16:43:07.864Z"
   },
   {
    "duration": 40,
    "start_time": "2023-02-24T16:43:07.870Z"
   },
   {
    "duration": 288,
    "start_time": "2023-02-24T16:43:07.912Z"
   },
   {
    "duration": 17,
    "start_time": "2023-02-24T16:43:08.201Z"
   },
   {
    "duration": 29,
    "start_time": "2023-02-24T16:43:08.219Z"
   },
   {
    "duration": 93,
    "start_time": "2023-02-24T16:43:08.249Z"
   },
   {
    "duration": 23,
    "start_time": "2023-02-24T16:43:08.344Z"
   },
   {
    "duration": 11,
    "start_time": "2023-02-24T16:43:08.368Z"
   },
   {
    "duration": 2,
    "start_time": "2023-02-24T16:43:08.380Z"
   },
   {
    "duration": 20,
    "start_time": "2023-02-24T16:43:08.383Z"
   },
   {
    "duration": 20,
    "start_time": "2023-02-24T16:43:08.405Z"
   },
   {
    "duration": 27,
    "start_time": "2023-02-24T16:43:08.426Z"
   },
   {
    "duration": 355,
    "start_time": "2023-02-24T16:43:08.455Z"
   },
   {
    "duration": 455,
    "start_time": "2023-02-24T16:43:08.812Z"
   },
   {
    "duration": 363,
    "start_time": "2023-02-24T16:43:09.268Z"
   },
   {
    "duration": 494,
    "start_time": "2023-02-24T16:43:09.633Z"
   },
   {
    "duration": 411,
    "start_time": "2023-02-24T16:43:10.129Z"
   },
   {
    "duration": 9,
    "start_time": "2023-02-24T16:43:10.541Z"
   },
   {
    "duration": 332,
    "start_time": "2023-02-24T16:43:10.551Z"
   },
   {
    "duration": 145,
    "start_time": "2023-02-24T16:43:10.885Z"
   },
   {
    "duration": 9,
    "start_time": "2023-02-24T16:43:11.031Z"
   },
   {
    "duration": 12,
    "start_time": "2023-02-24T16:43:11.041Z"
   },
   {
    "duration": 337,
    "start_time": "2023-02-24T16:43:11.055Z"
   },
   {
    "duration": 12,
    "start_time": "2023-02-24T16:43:11.394Z"
   },
   {
    "duration": 3,
    "start_time": "2023-02-24T16:43:11.409Z"
   },
   {
    "duration": 10,
    "start_time": "2023-02-24T16:43:11.413Z"
   },
   {
    "duration": 9,
    "start_time": "2023-02-24T16:43:11.425Z"
   },
   {
    "duration": 1126,
    "start_time": "2023-02-24T16:43:11.436Z"
   },
   {
    "duration": 343937,
    "start_time": "2023-02-24T16:43:12.649Z"
   },
   {
    "duration": 4,
    "start_time": "2023-02-24T16:48:56.588Z"
   },
   {
    "duration": 354122,
    "start_time": "2023-02-24T16:48:56.594Z"
   },
   {
    "duration": 4,
    "start_time": "2023-02-24T16:54:50.718Z"
   },
   {
    "duration": 11,
    "start_time": "2023-02-24T16:54:50.724Z"
   },
   {
    "duration": 35,
    "start_time": "2023-02-24T16:54:50.737Z"
   },
   {
    "duration": 9,
    "start_time": "2023-02-24T16:56:39.121Z"
   },
   {
    "duration": 677,
    "start_time": "2023-02-24T16:58:32.009Z"
   },
   {
    "duration": 709,
    "start_time": "2023-02-24T16:58:51.894Z"
   },
   {
    "duration": 11,
    "start_time": "2023-02-24T16:59:03.469Z"
   },
   {
    "duration": 21,
    "start_time": "2023-02-24T16:59:27.040Z"
   },
   {
    "duration": 28,
    "start_time": "2023-02-24T17:00:48.152Z"
   },
   {
    "duration": 11,
    "start_time": "2023-02-24T17:01:18.323Z"
   },
   {
    "duration": 13,
    "start_time": "2023-02-24T17:01:37.820Z"
   },
   {
    "duration": 28,
    "start_time": "2023-02-24T17:01:50.691Z"
   },
   {
    "duration": 14,
    "start_time": "2023-02-24T17:02:01.487Z"
   },
   {
    "duration": 13,
    "start_time": "2023-02-24T17:02:49.441Z"
   },
   {
    "duration": 22,
    "start_time": "2023-02-24T17:03:08.229Z"
   },
   {
    "duration": 36,
    "start_time": "2023-02-24T17:03:27.164Z"
   },
   {
    "duration": 4,
    "start_time": "2023-02-24T17:04:22.363Z"
   },
   {
    "duration": 22,
    "start_time": "2023-02-24T17:24:05.685Z"
   },
   {
    "duration": 34,
    "start_time": "2023-02-24T17:24:28.347Z"
   },
   {
    "duration": 25,
    "start_time": "2023-02-24T17:25:26.497Z"
   },
   {
    "duration": 34,
    "start_time": "2023-02-24T17:29:29.155Z"
   },
   {
    "duration": 19,
    "start_time": "2023-02-24T17:30:04.177Z"
   },
   {
    "duration": 17,
    "start_time": "2023-02-24T17:30:28.941Z"
   },
   {
    "duration": 19,
    "start_time": "2023-02-24T17:30:48.594Z"
   },
   {
    "duration": 10,
    "start_time": "2023-02-24T17:32:35.635Z"
   },
   {
    "duration": 9,
    "start_time": "2023-02-24T17:32:54.172Z"
   },
   {
    "duration": 35,
    "start_time": "2023-02-24T17:33:00.641Z"
   },
   {
    "duration": 36,
    "start_time": "2023-02-24T17:33:22.675Z"
   },
   {
    "duration": 27,
    "start_time": "2023-02-24T17:34:42.806Z"
   },
   {
    "duration": 31,
    "start_time": "2023-02-24T17:37:54.887Z"
   },
   {
    "duration": 21,
    "start_time": "2023-02-24T17:41:53.746Z"
   },
   {
    "duration": 24,
    "start_time": "2023-02-24T17:42:12.474Z"
   },
   {
    "duration": 17,
    "start_time": "2023-02-24T17:42:23.060Z"
   },
   {
    "duration": 26,
    "start_time": "2023-02-24T17:43:09.667Z"
   },
   {
    "duration": 3,
    "start_time": "2023-02-24T17:43:19.528Z"
   },
   {
    "duration": 275,
    "start_time": "2023-02-24T17:43:19.533Z"
   },
   {
    "duration": 7,
    "start_time": "2023-02-24T17:43:19.810Z"
   },
   {
    "duration": 16,
    "start_time": "2023-02-24T17:43:19.818Z"
   },
   {
    "duration": 14,
    "start_time": "2023-02-24T17:43:19.836Z"
   },
   {
    "duration": 20,
    "start_time": "2023-02-24T17:43:19.851Z"
   },
   {
    "duration": 278,
    "start_time": "2023-02-24T17:43:19.872Z"
   },
   {
    "duration": 14,
    "start_time": "2023-02-24T17:43:20.152Z"
   },
   {
    "duration": 14,
    "start_time": "2023-02-24T17:43:20.168Z"
   },
   {
    "duration": 99,
    "start_time": "2023-02-24T17:43:20.183Z"
   },
   {
    "duration": 25,
    "start_time": "2023-02-24T17:43:20.284Z"
   },
   {
    "duration": 11,
    "start_time": "2023-02-24T17:43:20.311Z"
   },
   {
    "duration": 24,
    "start_time": "2023-02-24T17:43:20.324Z"
   },
   {
    "duration": 12,
    "start_time": "2023-02-24T17:43:20.352Z"
   },
   {
    "duration": 23,
    "start_time": "2023-02-24T17:43:20.365Z"
   },
   {
    "duration": 13,
    "start_time": "2023-02-24T17:43:20.389Z"
   },
   {
    "duration": 324,
    "start_time": "2023-02-24T17:43:20.403Z"
   },
   {
    "duration": 379,
    "start_time": "2023-02-24T17:43:20.729Z"
   },
   {
    "duration": 355,
    "start_time": "2023-02-24T17:43:21.110Z"
   },
   {
    "duration": 349,
    "start_time": "2023-02-24T17:43:21.467Z"
   },
   {
    "duration": 420,
    "start_time": "2023-02-24T17:43:21.818Z"
   },
   {
    "duration": 12,
    "start_time": "2023-02-24T17:43:22.240Z"
   },
   {
    "duration": 424,
    "start_time": "2023-02-24T17:43:22.253Z"
   },
   {
    "duration": 192,
    "start_time": "2023-02-24T17:43:22.678Z"
   },
   {
    "duration": 14,
    "start_time": "2023-02-24T17:43:22.872Z"
   },
   {
    "duration": 32,
    "start_time": "2023-02-24T17:43:22.888Z"
   },
   {
    "duration": 354,
    "start_time": "2023-02-24T17:43:22.922Z"
   },
   {
    "duration": 12,
    "start_time": "2023-02-24T17:43:23.277Z"
   },
   {
    "duration": 76,
    "start_time": "2023-02-24T17:43:23.290Z"
   },
   {
    "duration": 10,
    "start_time": "2023-02-24T17:43:23.368Z"
   },
   {
    "duration": 7,
    "start_time": "2023-02-24T17:43:23.380Z"
   },
   {
    "duration": 1170,
    "start_time": "2023-02-24T17:43:23.388Z"
   },
   {
    "duration": 329757,
    "start_time": "2023-02-24T17:43:24.560Z"
   },
   {
    "duration": 3,
    "start_time": "2023-02-24T17:48:54.319Z"
   },
   {
    "duration": 339000,
    "start_time": "2023-02-24T17:48:54.323Z"
   },
   {
    "duration": 3,
    "start_time": "2023-02-24T17:54:33.325Z"
   },
   {
    "duration": 16,
    "start_time": "2023-02-24T17:54:33.330Z"
   },
   {
    "duration": 30,
    "start_time": "2023-02-24T17:54:33.348Z"
   },
   {
    "duration": 23,
    "start_time": "2023-02-24T17:54:33.380Z"
   },
   {
    "duration": 18,
    "start_time": "2023-02-24T17:54:33.405Z"
   },
   {
    "duration": 27,
    "start_time": "2023-02-24T17:54:33.426Z"
   },
   {
    "duration": 0,
    "start_time": "2023-02-24T17:54:33.455Z"
   },
   {
    "duration": 0,
    "start_time": "2023-02-24T17:54:33.456Z"
   },
   {
    "duration": 49,
    "start_time": "2023-02-24T17:58:08.799Z"
   },
   {
    "duration": 3251,
    "start_time": "2023-02-25T12:50:41.273Z"
   },
   {
    "duration": 698,
    "start_time": "2023-02-25T12:50:44.526Z"
   },
   {
    "duration": 78,
    "start_time": "2023-02-25T12:50:45.225Z"
   },
   {
    "duration": 24,
    "start_time": "2023-02-25T12:50:45.310Z"
   },
   {
    "duration": 64,
    "start_time": "2023-02-25T12:50:45.336Z"
   },
   {
    "duration": 26,
    "start_time": "2023-02-25T12:50:45.402Z"
   },
   {
    "duration": 791,
    "start_time": "2023-02-25T12:50:45.430Z"
   },
   {
    "duration": 80,
    "start_time": "2023-02-25T12:50:46.223Z"
   },
   {
    "duration": 24,
    "start_time": "2023-02-25T12:50:46.312Z"
   },
   {
    "duration": 281,
    "start_time": "2023-02-25T12:50:46.339Z"
   },
   {
    "duration": 92,
    "start_time": "2023-02-25T12:50:46.625Z"
   },
   {
    "duration": 88,
    "start_time": "2023-02-25T12:50:46.719Z"
   },
   {
    "duration": 4,
    "start_time": "2023-02-25T12:50:46.811Z"
   },
   {
    "duration": 22,
    "start_time": "2023-02-25T12:50:46.817Z"
   },
   {
    "duration": 58,
    "start_time": "2023-02-25T12:50:46.842Z"
   },
   {
    "duration": 40,
    "start_time": "2023-02-25T12:50:46.903Z"
   },
   {
    "duration": 1174,
    "start_time": "2023-02-25T12:50:46.945Z"
   },
   {
    "duration": 1073,
    "start_time": "2023-02-25T12:50:48.126Z"
   },
   {
    "duration": 1138,
    "start_time": "2023-02-25T12:50:49.201Z"
   },
   {
    "duration": 1040,
    "start_time": "2023-02-25T12:50:50.392Z"
   },
   {
    "duration": 766,
    "start_time": "2023-02-25T12:50:51.435Z"
   },
   {
    "duration": 9,
    "start_time": "2023-02-25T12:50:52.203Z"
   },
   {
    "duration": 817,
    "start_time": "2023-02-25T12:50:52.213Z"
   },
   {
    "duration": 466,
    "start_time": "2023-02-25T12:50:53.032Z"
   },
   {
    "duration": 13,
    "start_time": "2023-02-25T12:50:53.509Z"
   },
   {
    "duration": 24,
    "start_time": "2023-02-25T12:50:53.523Z"
   },
   {
    "duration": 819,
    "start_time": "2023-02-25T12:50:53.596Z"
   },
   {
    "duration": 12,
    "start_time": "2023-02-25T12:50:54.419Z"
   },
   {
    "duration": 64,
    "start_time": "2023-02-25T12:50:54.433Z"
   },
   {
    "duration": 14,
    "start_time": "2023-02-25T12:50:54.499Z"
   },
   {
    "duration": 14,
    "start_time": "2023-02-25T12:50:54.515Z"
   },
   {
    "duration": 2674,
    "start_time": "2023-02-25T12:50:54.530Z"
   },
   {
    "duration": 848202,
    "start_time": "2023-02-25T12:50:57.211Z"
   },
   {
    "duration": 4,
    "start_time": "2023-02-25T13:05:05.416Z"
   },
   {
    "duration": 783286,
    "start_time": "2023-02-25T13:05:05.422Z"
   },
   {
    "duration": 4,
    "start_time": "2023-02-25T13:18:08.710Z"
   },
   {
    "duration": 19,
    "start_time": "2023-02-25T13:18:08.715Z"
   },
   {
    "duration": 286,
    "start_time": "2023-02-25T13:18:08.735Z"
   },
   {
    "duration": 0,
    "start_time": "2023-02-25T13:18:09.023Z"
   },
   {
    "duration": 0,
    "start_time": "2023-02-25T13:18:09.024Z"
   },
   {
    "duration": 0,
    "start_time": "2023-02-25T13:18:09.025Z"
   },
   {
    "duration": 0,
    "start_time": "2023-02-25T13:18:09.026Z"
   },
   {
    "duration": 0,
    "start_time": "2023-02-25T13:18:09.027Z"
   },
   {
    "duration": 0,
    "start_time": "2023-02-25T13:18:09.028Z"
   },
   {
    "duration": 32,
    "start_time": "2023-02-25T13:18:25.413Z"
   },
   {
    "duration": 28,
    "start_time": "2023-02-25T13:18:29.404Z"
   },
   {
    "duration": 14,
    "start_time": "2023-02-25T13:18:36.428Z"
   },
   {
    "duration": 38,
    "start_time": "2023-02-25T13:18:39.256Z"
   },
   {
    "duration": 7,
    "start_time": "2023-02-25T13:18:55.839Z"
   },
   {
    "duration": 2844,
    "start_time": "2023-02-25T13:19:25.187Z"
   },
   {
    "duration": 587,
    "start_time": "2023-02-25T13:19:28.033Z"
   },
   {
    "duration": 10,
    "start_time": "2023-02-25T13:19:28.621Z"
   },
   {
    "duration": 74,
    "start_time": "2023-02-25T13:19:28.633Z"
   },
   {
    "duration": 5,
    "start_time": "2023-02-25T13:19:28.709Z"
   },
   {
    "duration": 82,
    "start_time": "2023-02-25T13:19:28.716Z"
   },
   {
    "duration": 605,
    "start_time": "2023-02-25T13:19:28.799Z"
   },
   {
    "duration": 16,
    "start_time": "2023-02-25T13:19:29.408Z"
   },
   {
    "duration": 77,
    "start_time": "2023-02-25T13:19:29.425Z"
   },
   {
    "duration": 218,
    "start_time": "2023-02-25T13:19:29.506Z"
   },
   {
    "duration": 91,
    "start_time": "2023-02-25T13:19:29.726Z"
   },
   {
    "duration": 12,
    "start_time": "2023-02-25T13:19:29.819Z"
   },
   {
    "duration": 68,
    "start_time": "2023-02-25T13:19:29.833Z"
   },
   {
    "duration": 9,
    "start_time": "2023-02-25T13:19:29.905Z"
   },
   {
    "duration": 11,
    "start_time": "2023-02-25T13:19:29.916Z"
   },
   {
    "duration": 5,
    "start_time": "2023-02-25T13:19:29.929Z"
   },
   {
    "duration": 886,
    "start_time": "2023-02-25T13:19:29.936Z"
   },
   {
    "duration": 907,
    "start_time": "2023-02-25T13:19:30.825Z"
   },
   {
    "duration": 1182,
    "start_time": "2023-02-25T13:19:31.734Z"
   },
   {
    "duration": 718,
    "start_time": "2023-02-25T13:19:32.918Z"
   },
   {
    "duration": 633,
    "start_time": "2023-02-25T13:19:33.692Z"
   },
   {
    "duration": 6,
    "start_time": "2023-02-25T13:19:34.328Z"
   },
   {
    "duration": 887,
    "start_time": "2023-02-25T13:19:34.335Z"
   },
   {
    "duration": 386,
    "start_time": "2023-02-25T13:19:35.224Z"
   },
   {
    "duration": 13,
    "start_time": "2023-02-25T13:19:35.612Z"
   },
   {
    "duration": 66,
    "start_time": "2023-02-25T13:19:35.627Z"
   },
   {
    "duration": 836,
    "start_time": "2023-02-25T13:19:35.701Z"
   },
   {
    "duration": 67,
    "start_time": "2023-02-25T13:19:36.539Z"
   },
   {
    "duration": 9,
    "start_time": "2023-02-25T13:19:36.608Z"
   },
   {
    "duration": 13,
    "start_time": "2023-02-25T13:19:36.620Z"
   },
   {
    "duration": 73,
    "start_time": "2023-02-25T13:19:36.635Z"
   },
   {
    "duration": 2260,
    "start_time": "2023-02-25T13:19:37.443Z"
   },
   {
    "duration": 32,
    "start_time": "2023-02-25T13:19:45.114Z"
   },
   {
    "duration": 31,
    "start_time": "2023-02-25T13:19:45.710Z"
   },
   {
    "duration": 219,
    "start_time": "2023-02-25T13:19:49.903Z"
   },
   {
    "duration": 37,
    "start_time": "2023-02-25T13:20:33.761Z"
   },
   {
    "duration": 15,
    "start_time": "2023-02-25T13:20:40.882Z"
   },
   {
    "duration": 9,
    "start_time": "2023-02-25T13:21:08.810Z"
   },
   {
    "duration": 15,
    "start_time": "2023-02-25T13:21:27.311Z"
   },
   {
    "duration": 2939,
    "start_time": "2023-02-25T13:22:21.182Z"
   },
   {
    "duration": 884,
    "start_time": "2023-02-25T13:22:24.123Z"
   },
   {
    "duration": 13,
    "start_time": "2023-02-25T13:22:25.010Z"
   },
   {
    "duration": 85,
    "start_time": "2023-02-25T13:22:25.025Z"
   },
   {
    "duration": 5,
    "start_time": "2023-02-25T13:22:25.112Z"
   },
   {
    "duration": 90,
    "start_time": "2023-02-25T13:22:25.118Z"
   },
   {
    "duration": 614,
    "start_time": "2023-02-25T13:22:25.211Z"
   },
   {
    "duration": 73,
    "start_time": "2023-02-25T13:22:25.827Z"
   },
   {
    "duration": 17,
    "start_time": "2023-02-25T13:22:25.904Z"
   },
   {
    "duration": 292,
    "start_time": "2023-02-25T13:22:25.923Z"
   },
   {
    "duration": 97,
    "start_time": "2023-02-25T13:22:26.218Z"
   },
   {
    "duration": 17,
    "start_time": "2023-02-25T13:22:26.317Z"
   },
   {
    "duration": 74,
    "start_time": "2023-02-25T13:22:26.336Z"
   },
   {
    "duration": 11,
    "start_time": "2023-02-25T13:22:26.411Z"
   },
   {
    "duration": 8,
    "start_time": "2023-02-25T13:22:26.424Z"
   },
   {
    "duration": 6,
    "start_time": "2023-02-25T13:22:26.434Z"
   },
   {
    "duration": 832,
    "start_time": "2023-02-25T13:22:26.493Z"
   },
   {
    "duration": 893,
    "start_time": "2023-02-25T13:22:27.327Z"
   },
   {
    "duration": 1072,
    "start_time": "2023-02-25T13:22:28.223Z"
   },
   {
    "duration": 795,
    "start_time": "2023-02-25T13:22:29.297Z"
   },
   {
    "duration": 722,
    "start_time": "2023-02-25T13:22:30.096Z"
   },
   {
    "duration": 7,
    "start_time": "2023-02-25T13:22:30.820Z"
   },
   {
    "duration": 886,
    "start_time": "2023-02-25T13:22:30.829Z"
   },
   {
    "duration": 317,
    "start_time": "2023-02-25T13:22:31.717Z"
   },
   {
    "duration": 19,
    "start_time": "2023-02-25T13:22:32.093Z"
   },
   {
    "duration": 15,
    "start_time": "2023-02-25T13:22:32.114Z"
   },
   {
    "duration": 789,
    "start_time": "2023-02-25T13:22:32.131Z"
   },
   {
    "duration": 82,
    "start_time": "2023-02-25T13:22:32.923Z"
   },
   {
    "duration": 6,
    "start_time": "2023-02-25T13:22:33.009Z"
   },
   {
    "duration": 15,
    "start_time": "2023-02-25T13:22:33.017Z"
   },
   {
    "duration": 63,
    "start_time": "2023-02-25T13:22:33.033Z"
   },
   {
    "duration": 2512,
    "start_time": "2023-02-25T13:22:33.099Z"
   },
   {
    "duration": 821826,
    "start_time": "2023-02-25T13:22:35.692Z"
   },
   {
    "duration": 9,
    "start_time": "2023-02-25T13:36:17.520Z"
   },
   {
    "duration": 691212,
    "start_time": "2023-02-25T13:36:17.530Z"
   },
   {
    "duration": 3,
    "start_time": "2023-02-25T13:47:48.744Z"
   },
   {
    "duration": 20,
    "start_time": "2023-02-25T13:47:48.749Z"
   },
   {
    "duration": 41,
    "start_time": "2023-02-25T13:47:48.771Z"
   },
   {
    "duration": 131,
    "start_time": "2023-02-25T13:47:48.814Z"
   },
   {
    "duration": 0,
    "start_time": "2023-02-25T13:47:48.947Z"
   },
   {
    "duration": 0,
    "start_time": "2023-02-25T13:47:48.948Z"
   },
   {
    "duration": 6,
    "start_time": "2023-02-25T13:53:32.718Z"
   },
   {
    "duration": 22,
    "start_time": "2023-02-25T13:53:35.471Z"
   },
   {
    "duration": 23,
    "start_time": "2023-02-25T13:53:43.864Z"
   },
   {
    "duration": 20,
    "start_time": "2023-02-25T13:53:53.402Z"
   },
   {
    "duration": 20,
    "start_time": "2023-02-25T13:54:04.419Z"
   },
   {
    "duration": 19,
    "start_time": "2023-02-25T13:54:11.396Z"
   },
   {
    "duration": 12,
    "start_time": "2023-02-25T13:54:21.280Z"
   },
   {
    "duration": 12,
    "start_time": "2023-02-25T13:54:48.765Z"
   },
   {
    "duration": 11,
    "start_time": "2023-02-25T13:55:02.700Z"
   },
   {
    "duration": 9,
    "start_time": "2023-02-25T13:55:14.838Z"
   },
   {
    "duration": 1710,
    "start_time": "2023-02-25T13:55:28.880Z"
   },
   {
    "duration": 389,
    "start_time": "2023-02-25T13:55:30.593Z"
   },
   {
    "duration": 13,
    "start_time": "2023-02-25T13:55:30.984Z"
   },
   {
    "duration": 40,
    "start_time": "2023-02-25T13:55:30.999Z"
   },
   {
    "duration": 8,
    "start_time": "2023-02-25T13:55:31.041Z"
   },
   {
    "duration": 53,
    "start_time": "2023-02-25T13:55:31.050Z"
   },
   {
    "duration": 280,
    "start_time": "2023-02-25T13:55:31.105Z"
   },
   {
    "duration": 19,
    "start_time": "2023-02-25T13:55:31.387Z"
   },
   {
    "duration": 34,
    "start_time": "2023-02-25T13:55:31.408Z"
   },
   {
    "duration": 113,
    "start_time": "2023-02-25T13:55:31.445Z"
   },
   {
    "duration": 39,
    "start_time": "2023-02-25T13:55:31.560Z"
   },
   {
    "duration": 17,
    "start_time": "2023-02-25T13:55:31.602Z"
   },
   {
    "duration": 3,
    "start_time": "2023-02-25T13:55:31.621Z"
   },
   {
    "duration": 24,
    "start_time": "2023-02-25T13:55:31.625Z"
   },
   {
    "duration": 10,
    "start_time": "2023-02-25T13:55:31.650Z"
   },
   {
    "duration": 22,
    "start_time": "2023-02-25T13:55:31.661Z"
   },
   {
    "duration": 407,
    "start_time": "2023-02-25T13:55:31.685Z"
   },
   {
    "duration": 406,
    "start_time": "2023-02-25T13:55:32.094Z"
   },
   {
    "duration": 469,
    "start_time": "2023-02-25T13:55:32.502Z"
   },
   {
    "duration": 503,
    "start_time": "2023-02-25T13:55:32.974Z"
   },
   {
    "duration": 484,
    "start_time": "2023-02-25T13:55:33.479Z"
   },
   {
    "duration": 7,
    "start_time": "2023-02-25T13:55:33.965Z"
   },
   {
    "duration": 359,
    "start_time": "2023-02-25T13:55:33.974Z"
   },
   {
    "duration": 159,
    "start_time": "2023-02-25T13:55:34.335Z"
   },
   {
    "duration": 14,
    "start_time": "2023-02-25T13:55:34.496Z"
   },
   {
    "duration": 7,
    "start_time": "2023-02-25T13:55:34.511Z"
   },
   {
    "duration": 366,
    "start_time": "2023-02-25T13:55:34.520Z"
   },
   {
    "duration": 19,
    "start_time": "2023-02-25T13:55:34.893Z"
   },
   {
    "duration": 3,
    "start_time": "2023-02-25T13:55:34.914Z"
   },
   {
    "duration": 13,
    "start_time": "2023-02-25T13:55:34.918Z"
   },
   {
    "duration": 12,
    "start_time": "2023-02-25T13:55:34.932Z"
   },
   {
    "duration": 1848,
    "start_time": "2023-02-25T13:55:34.946Z"
   },
   {
    "duration": 356508,
    "start_time": "2023-02-25T13:55:36.796Z"
   },
   {
    "duration": 5,
    "start_time": "2023-02-25T14:01:33.305Z"
   },
   {
    "duration": 404220,
    "start_time": "2023-02-25T14:01:33.312Z"
   },
   {
    "duration": 4,
    "start_time": "2023-02-25T14:08:17.533Z"
   },
   {
    "duration": 12,
    "start_time": "2023-02-25T14:08:17.539Z"
   },
   {
    "duration": 56,
    "start_time": "2023-02-25T14:08:17.552Z"
   },
   {
    "duration": 6,
    "start_time": "2023-02-25T14:08:17.610Z"
   },
   {
    "duration": 20,
    "start_time": "2023-02-25T14:08:17.617Z"
   },
   {
    "duration": 8,
    "start_time": "2023-02-25T14:08:17.638Z"
   }
  ],
  "kernelspec": {
   "display_name": "Python 3 (ipykernel)",
   "language": "python",
   "name": "python3"
  },
  "language_info": {
   "codemirror_mode": {
    "name": "ipython",
    "version": 3
   },
   "file_extension": ".py",
   "mimetype": "text/x-python",
   "name": "python",
   "nbconvert_exporter": "python",
   "pygments_lexer": "ipython3",
   "version": "3.9.12"
  },
  "toc": {
   "base_numbering": 1,
   "nav_menu": {},
   "number_sections": true,
   "sideBar": true,
   "skip_h1_title": true,
   "title_cell": "Содержание",
   "title_sidebar": "Contents",
   "toc_cell": true,
   "toc_position": {
    "height": "calc(100% - 180px)",
    "left": "10px",
    "top": "150px",
    "width": "218.495px"
   },
   "toc_section_display": true,
   "toc_window_display": true
  }
 },
 "nbformat": 4,
 "nbformat_minor": 2
}
