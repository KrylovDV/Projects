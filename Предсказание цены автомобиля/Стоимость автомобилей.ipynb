{
 "cells": [
  {
   "cell_type": "markdown",
   "id": "e75b5e6c",
   "metadata": {},
   "source": [
    "## Введение"
   ]
  },
  {
   "cell_type": "markdown",
   "id": "7b51e610",
   "metadata": {},
   "source": [
    "Описание проекта\n",
    "\n",
    "\n",
    "Нам нужно построить модель для определения стоимости. \n",
    "    \n",
    "    Признаки\n",
    "DateCrawled — дата скачивания анкеты из базы\n",
    "\n",
    "VehicleType — тип автомобильного кузова\n",
    "\n",
    "RegistrationYear — год регистрации автомобиля\n",
    "\n",
    "Gearbox — тип коробки передач\n",
    "\n",
    "Power — мощность (л. с.)\n",
    "\n",
    "Model — модель автомобиля\n",
    "\n",
    "Kilometer — пробег (км)\n",
    "\n",
    "RegistrationMonth — месяц регистрации автомобиля\n",
    "\n",
    "FuelType — тип топлива\n",
    "\n",
    "Brand — марка автомобиля\n",
    "\n",
    "NotRepaired — была машина в ремонте или нет\n",
    "\n",
    "DateCreated — дата создания анкеты\n",
    "\n",
    "NumberOfPictures — количество фотографий автомобиля\n",
    "\n",
    "PostalCode — почтовый индекс владельца анкеты (пользователя)\n",
    "\n",
    "LastSeen — дата последней активности пользователя\n",
    "\n",
    "\n",
    "    Целевой признак\n",
    "\n",
    "Price — цена (евро)"
   ]
  },
  {
   "cell_type": "markdown",
   "id": "4c0cde1b",
   "metadata": {},
   "source": [
    "### 1. Знакомство с данными\n"
   ]
  },
  {
   "cell_type": "code",
   "execution_count": 93,
   "id": "887dae95",
   "metadata": {},
   "outputs": [],
   "source": [
    "import pandas as pd\n",
    "import matplotlib.pyplot as plt\n",
    "import numpy as np\n",
    "\n",
    "from sklearn.linear_model import LogisticRegression, LinearRegression\n",
    "from sklearn.tree import DecisionTreeClassifier\n",
    "from sklearn.ensemble import RandomForestClassifier, RandomForestRegressor\n",
    "from sklearn.model_selection import RandomizedSearchCV, train_test_split\n",
    "from sklearn.model_selection import cross_val_score, GridSearchCV\n",
    "from sklearn.metrics import mean_squared_error"
   ]
  },
  {
   "cell_type": "code",
   "execution_count": 94,
   "id": "e4b05031",
   "metadata": {
    "scrolled": false
   },
   "outputs": [
    {
     "data": {
      "text/html": [
       "<div>\n",
       "<style scoped>\n",
       "    .dataframe tbody tr th:only-of-type {\n",
       "        vertical-align: middle;\n",
       "    }\n",
       "\n",
       "    .dataframe tbody tr th {\n",
       "        vertical-align: top;\n",
       "    }\n",
       "\n",
       "    .dataframe thead th {\n",
       "        text-align: right;\n",
       "    }\n",
       "</style>\n",
       "<table border=\"1\" class=\"dataframe\">\n",
       "  <thead>\n",
       "    <tr style=\"text-align: right;\">\n",
       "      <th></th>\n",
       "      <th>DateCrawled</th>\n",
       "      <th>Price</th>\n",
       "      <th>VehicleType</th>\n",
       "      <th>RegistrationYear</th>\n",
       "      <th>Gearbox</th>\n",
       "      <th>Power</th>\n",
       "      <th>Model</th>\n",
       "      <th>Kilometer</th>\n",
       "      <th>RegistrationMonth</th>\n",
       "      <th>FuelType</th>\n",
       "      <th>Brand</th>\n",
       "      <th>Repaired</th>\n",
       "      <th>DateCreated</th>\n",
       "      <th>NumberOfPictures</th>\n",
       "      <th>PostalCode</th>\n",
       "      <th>LastSeen</th>\n",
       "    </tr>\n",
       "  </thead>\n",
       "  <tbody>\n",
       "    <tr>\n",
       "      <th>0</th>\n",
       "      <td>2016-03-24 11:52:17</td>\n",
       "      <td>480</td>\n",
       "      <td>NaN</td>\n",
       "      <td>1993</td>\n",
       "      <td>manual</td>\n",
       "      <td>0</td>\n",
       "      <td>golf</td>\n",
       "      <td>150000</td>\n",
       "      <td>0</td>\n",
       "      <td>petrol</td>\n",
       "      <td>volkswagen</td>\n",
       "      <td>NaN</td>\n",
       "      <td>2016-03-24 00:00:00</td>\n",
       "      <td>0</td>\n",
       "      <td>70435</td>\n",
       "      <td>2016-04-07 03:16:57</td>\n",
       "    </tr>\n",
       "    <tr>\n",
       "      <th>1</th>\n",
       "      <td>2016-03-24 10:58:45</td>\n",
       "      <td>18300</td>\n",
       "      <td>coupe</td>\n",
       "      <td>2011</td>\n",
       "      <td>manual</td>\n",
       "      <td>190</td>\n",
       "      <td>NaN</td>\n",
       "      <td>125000</td>\n",
       "      <td>5</td>\n",
       "      <td>gasoline</td>\n",
       "      <td>audi</td>\n",
       "      <td>yes</td>\n",
       "      <td>2016-03-24 00:00:00</td>\n",
       "      <td>0</td>\n",
       "      <td>66954</td>\n",
       "      <td>2016-04-07 01:46:50</td>\n",
       "    </tr>\n",
       "    <tr>\n",
       "      <th>2</th>\n",
       "      <td>2016-03-14 12:52:21</td>\n",
       "      <td>9800</td>\n",
       "      <td>suv</td>\n",
       "      <td>2004</td>\n",
       "      <td>auto</td>\n",
       "      <td>163</td>\n",
       "      <td>grand</td>\n",
       "      <td>125000</td>\n",
       "      <td>8</td>\n",
       "      <td>gasoline</td>\n",
       "      <td>jeep</td>\n",
       "      <td>NaN</td>\n",
       "      <td>2016-03-14 00:00:00</td>\n",
       "      <td>0</td>\n",
       "      <td>90480</td>\n",
       "      <td>2016-04-05 12:47:46</td>\n",
       "    </tr>\n",
       "    <tr>\n",
       "      <th>3</th>\n",
       "      <td>2016-03-17 16:54:04</td>\n",
       "      <td>1500</td>\n",
       "      <td>small</td>\n",
       "      <td>2001</td>\n",
       "      <td>manual</td>\n",
       "      <td>75</td>\n",
       "      <td>golf</td>\n",
       "      <td>150000</td>\n",
       "      <td>6</td>\n",
       "      <td>petrol</td>\n",
       "      <td>volkswagen</td>\n",
       "      <td>no</td>\n",
       "      <td>2016-03-17 00:00:00</td>\n",
       "      <td>0</td>\n",
       "      <td>91074</td>\n",
       "      <td>2016-03-17 17:40:17</td>\n",
       "    </tr>\n",
       "    <tr>\n",
       "      <th>4</th>\n",
       "      <td>2016-03-31 17:25:20</td>\n",
       "      <td>3600</td>\n",
       "      <td>small</td>\n",
       "      <td>2008</td>\n",
       "      <td>manual</td>\n",
       "      <td>69</td>\n",
       "      <td>fabia</td>\n",
       "      <td>90000</td>\n",
       "      <td>7</td>\n",
       "      <td>gasoline</td>\n",
       "      <td>skoda</td>\n",
       "      <td>no</td>\n",
       "      <td>2016-03-31 00:00:00</td>\n",
       "      <td>0</td>\n",
       "      <td>60437</td>\n",
       "      <td>2016-04-06 10:17:21</td>\n",
       "    </tr>\n",
       "  </tbody>\n",
       "</table>\n",
       "</div>"
      ],
      "text/plain": [
       "           DateCrawled  Price VehicleType  RegistrationYear Gearbox  Power  \\\n",
       "0  2016-03-24 11:52:17    480         NaN              1993  manual      0   \n",
       "1  2016-03-24 10:58:45  18300       coupe              2011  manual    190   \n",
       "2  2016-03-14 12:52:21   9800         suv              2004    auto    163   \n",
       "3  2016-03-17 16:54:04   1500       small              2001  manual     75   \n",
       "4  2016-03-31 17:25:20   3600       small              2008  manual     69   \n",
       "\n",
       "   Model  Kilometer  RegistrationMonth  FuelType       Brand Repaired  \\\n",
       "0   golf     150000                  0    petrol  volkswagen      NaN   \n",
       "1    NaN     125000                  5  gasoline        audi      yes   \n",
       "2  grand     125000                  8  gasoline        jeep      NaN   \n",
       "3   golf     150000                  6    petrol  volkswagen       no   \n",
       "4  fabia      90000                  7  gasoline       skoda       no   \n",
       "\n",
       "           DateCreated  NumberOfPictures  PostalCode             LastSeen  \n",
       "0  2016-03-24 00:00:00                 0       70435  2016-04-07 03:16:57  \n",
       "1  2016-03-24 00:00:00                 0       66954  2016-04-07 01:46:50  \n",
       "2  2016-03-14 00:00:00                 0       90480  2016-04-05 12:47:46  \n",
       "3  2016-03-17 00:00:00                 0       91074  2016-03-17 17:40:17  \n",
       "4  2016-03-31 00:00:00                 0       60437  2016-04-06 10:17:21  "
      ]
     },
     "execution_count": 94,
     "metadata": {},
     "output_type": "execute_result"
    }
   ],
   "source": [
    "df = pd.read_csv('/datasets/autos.csv')\n",
    "df.head(5)"
   ]
  },
  {
   "cell_type": "code",
   "execution_count": 95,
   "id": "7d888dc7",
   "metadata": {},
   "outputs": [
    {
     "name": "stdout",
     "output_type": "stream",
     "text": [
      "<class 'pandas.core.frame.DataFrame'>\n",
      "RangeIndex: 354369 entries, 0 to 354368\n",
      "Data columns (total 16 columns):\n",
      " #   Column             Non-Null Count   Dtype \n",
      "---  ------             --------------   ----- \n",
      " 0   DateCrawled        354369 non-null  object\n",
      " 1   Price              354369 non-null  int64 \n",
      " 2   VehicleType        316879 non-null  object\n",
      " 3   RegistrationYear   354369 non-null  int64 \n",
      " 4   Gearbox            334536 non-null  object\n",
      " 5   Power              354369 non-null  int64 \n",
      " 6   Model              334664 non-null  object\n",
      " 7   Kilometer          354369 non-null  int64 \n",
      " 8   RegistrationMonth  354369 non-null  int64 \n",
      " 9   FuelType           321474 non-null  object\n",
      " 10  Brand              354369 non-null  object\n",
      " 11  Repaired           283215 non-null  object\n",
      " 12  DateCreated        354369 non-null  object\n",
      " 13  NumberOfPictures   354369 non-null  int64 \n",
      " 14  PostalCode         354369 non-null  int64 \n",
      " 15  LastSeen           354369 non-null  object\n",
      "dtypes: int64(7), object(9)\n",
      "memory usage: 43.3+ MB\n"
     ]
    }
   ],
   "source": [
    "df.info()"
   ]
  },
  {
   "cell_type": "code",
   "execution_count": 96,
   "id": "3f09d98b",
   "metadata": {
    "scrolled": false
   },
   "outputs": [
    {
     "data": {
      "text/plain": [
       "DateCrawled              0\n",
       "Price                    0\n",
       "VehicleType          37490\n",
       "RegistrationYear         0\n",
       "Gearbox              19833\n",
       "Power                    0\n",
       "Model                19705\n",
       "Kilometer                0\n",
       "RegistrationMonth        0\n",
       "FuelType             32895\n",
       "Brand                    0\n",
       "Repaired             71154\n",
       "DateCreated              0\n",
       "NumberOfPictures         0\n",
       "PostalCode               0\n",
       "LastSeen                 0\n",
       "dtype: int64"
      ]
     },
     "execution_count": 96,
     "metadata": {},
     "output_type": "execute_result"
    }
   ],
   "source": [
    "df.isna().sum()"
   ]
  },
  {
   "cell_type": "markdown",
   "metadata": {},
   "source": [
    "В данных есть категориальные и численные признаки.Много пропусков. Нужно детально их рассмотреть и пропработать прежде, чем работать с моделями обучения. "
   ]
  },
  {
   "cell_type": "code",
   "execution_count": 97,
   "id": "dd9713eb",
   "metadata": {},
   "outputs": [],
   "source": [
    "df[['VehicleType','Gearbox','Model','FuelType','Repaired']] = df[['VehicleType','Gearbox','Model','FuelType','Repaired']].fillna('no_info')\n",
    "\n"
   ]
  },
  {
   "cell_type": "markdown",
   "metadata": {},
   "source": [
    "Пока я заполню все пропуски одним и тем же \"ключем\". Во времея более детального рассмотрения данных он вылезет и мы сможем определеить роль этих пропусков."
   ]
  },
  {
   "cell_type": "markdown",
   "metadata": {},
   "source": [
    "#### Уберем неинформативные признаки\n"
   ]
  },
  {
   "cell_type": "markdown",
   "metadata": {},
   "source": [
    "Неинформативными считаем следующие признаки:\n",
    "    \n",
    "    DateCrawled — дата скачивания анкеты из базы\n",
    "    RegistrationMonth — месяц регистрации автомобиля\n",
    "    DateCreated — дата создания анкеты\n",
    "    PostalCode — почтовый индекс владельца анкеты (пользователя)\n",
    "    LastSeen — дата последней активности пользователя\n",
    "    "
   ]
  },
  {
   "cell_type": "code",
   "execution_count": 98,
   "metadata": {
    "scrolled": true
   },
   "outputs": [
    {
     "data": {
      "text/plain": [
       "(354369, 11)"
      ]
     },
     "execution_count": 98,
     "metadata": {},
     "output_type": "execute_result"
    }
   ],
   "source": [
    "# уберем их\n",
    "df = df.drop(['RegistrationMonth','DateCrawled', 'DateCreated', 'LastSeen', 'PostalCode'], axis=1)\n",
    "df.shape"
   ]
  },
  {
   "cell_type": "code",
   "execution_count": 99,
   "metadata": {},
   "outputs": [
    {
     "name": "stdout",
     "output_type": "stream",
     "text": [
      "Index(['Price', 'VehicleType', 'RegistrationYear', 'Gearbox', 'Power', 'Model',\n",
      "       'Kilometer', 'FuelType', 'Brand', 'Repaired', 'NumberOfPictures'],\n",
      "      dtype='object')\n"
     ]
    }
   ],
   "source": [
    "print(df.columns)"
   ]
  },
  {
   "cell_type": "markdown",
   "metadata": {},
   "source": [
    "#### Рассмотрим данные в пределах каждого признака"
   ]
  },
  {
   "cell_type": "code",
   "execution_count": 100,
   "metadata": {},
   "outputs": [
    {
     "data": {
      "image/png": "[encoded data removed]",
      "text/plain": [
       "<Figure size 432x288 with 1 Axes>"
      ]
     },
     "metadata": {
      "needs_background": "light"
     },
     "output_type": "display_data"
    }
   ],
   "source": [
    "plt.hist(df['Price'], bins=100)\n",
    "plt.show()"
   ]
  },
  {
   "cell_type": "code",
   "execution_count": 101,
   "metadata": {},
   "outputs": [
    {
     "data": {
      "text/html": [
       "<div>\n",
       "<style scoped>\n",
       "    .dataframe tbody tr th:only-of-type {\n",
       "        vertical-align: middle;\n",
       "    }\n",
       "\n",
       "    .dataframe tbody tr th {\n",
       "        vertical-align: top;\n",
       "    }\n",
       "\n",
       "    .dataframe thead th {\n",
       "        text-align: right;\n",
       "    }\n",
       "</style>\n",
       "<table border=\"1\" class=\"dataframe\">\n",
       "  <thead>\n",
       "    <tr style=\"text-align: right;\">\n",
       "      <th></th>\n",
       "      <th>Price</th>\n",
       "      <th>VehicleType</th>\n",
       "      <th>RegistrationYear</th>\n",
       "      <th>Gearbox</th>\n",
       "      <th>Power</th>\n",
       "      <th>Model</th>\n",
       "      <th>Kilometer</th>\n",
       "      <th>FuelType</th>\n",
       "      <th>Brand</th>\n",
       "      <th>Repaired</th>\n",
       "      <th>NumberOfPictures</th>\n",
       "    </tr>\n",
       "  </thead>\n",
       "  <tbody>\n",
       "    <tr>\n",
       "      <th>7</th>\n",
       "      <td>0</td>\n",
       "      <td>sedan</td>\n",
       "      <td>1980</td>\n",
       "      <td>manual</td>\n",
       "      <td>50</td>\n",
       "      <td>other</td>\n",
       "      <td>40000</td>\n",
       "      <td>petrol</td>\n",
       "      <td>volkswagen</td>\n",
       "      <td>no</td>\n",
       "      <td>0</td>\n",
       "    </tr>\n",
       "    <tr>\n",
       "      <th>40</th>\n",
       "      <td>0</td>\n",
       "      <td>no_info</td>\n",
       "      <td>1990</td>\n",
       "      <td>no_info</td>\n",
       "      <td>0</td>\n",
       "      <td>corsa</td>\n",
       "      <td>150000</td>\n",
       "      <td>petrol</td>\n",
       "      <td>opel</td>\n",
       "      <td>no_info</td>\n",
       "      <td>0</td>\n",
       "    </tr>\n",
       "    <tr>\n",
       "      <th>111</th>\n",
       "      <td>0</td>\n",
       "      <td>no_info</td>\n",
       "      <td>2017</td>\n",
       "      <td>manual</td>\n",
       "      <td>0</td>\n",
       "      <td>golf</td>\n",
       "      <td>5000</td>\n",
       "      <td>petrol</td>\n",
       "      <td>volkswagen</td>\n",
       "      <td>no_info</td>\n",
       "      <td>0</td>\n",
       "    </tr>\n",
       "    <tr>\n",
       "      <th>115</th>\n",
       "      <td>0</td>\n",
       "      <td>small</td>\n",
       "      <td>1999</td>\n",
       "      <td>no_info</td>\n",
       "      <td>0</td>\n",
       "      <td>no_info</td>\n",
       "      <td>5000</td>\n",
       "      <td>petrol</td>\n",
       "      <td>volkswagen</td>\n",
       "      <td>no_info</td>\n",
       "      <td>0</td>\n",
       "    </tr>\n",
       "    <tr>\n",
       "      <th>152</th>\n",
       "      <td>0</td>\n",
       "      <td>bus</td>\n",
       "      <td>2004</td>\n",
       "      <td>manual</td>\n",
       "      <td>101</td>\n",
       "      <td>meriva</td>\n",
       "      <td>150000</td>\n",
       "      <td>lpg</td>\n",
       "      <td>opel</td>\n",
       "      <td>yes</td>\n",
       "      <td>0</td>\n",
       "    </tr>\n",
       "  </tbody>\n",
       "</table>\n",
       "</div>"
      ],
      "text/plain": [
       "     Price VehicleType  RegistrationYear  Gearbox  Power    Model  Kilometer  \\\n",
       "7        0       sedan              1980   manual     50    other      40000   \n",
       "40       0     no_info              1990  no_info      0    corsa     150000   \n",
       "111      0     no_info              2017   manual      0     golf       5000   \n",
       "115      0       small              1999  no_info      0  no_info       5000   \n",
       "152      0         bus              2004   manual    101   meriva     150000   \n",
       "\n",
       "    FuelType       Brand Repaired  NumberOfPictures  \n",
       "7     petrol  volkswagen       no                 0  \n",
       "40    petrol        opel  no_info                 0  \n",
       "111   petrol  volkswagen  no_info                 0  \n",
       "115   petrol  volkswagen  no_info                 0  \n",
       "152      lpg        opel      yes                 0  "
      ]
     },
     "execution_count": 101,
     "metadata": {},
     "output_type": "execute_result"
    }
   ],
   "source": [
    "tab = df.loc[df['Price']==0]\n",
    "tab.head(5)\n"
   ]
  },
  {
   "cell_type": "markdown",
   "metadata": {},
   "source": [
    "Мы видим, что есть ряд предложений, где стоимость автомобиля равна нулю. От таких данных мы избавимся. В дальнейшем мы будем последовательно убирать из данных неадекватные значения."
   ]
  },
  {
   "cell_type": "code",
   "execution_count": 102,
   "metadata": {},
   "outputs": [
    {
     "data": {
      "text/plain": [
       "(328475, 11)"
      ]
     },
     "execution_count": 102,
     "metadata": {},
     "output_type": "execute_result"
    }
   ],
   "source": [
    "df = df.loc[df['Price'] > 300]\n",
    "df.shape"
   ]
  },
  {
   "cell_type": "code",
   "execution_count": 103,
   "metadata": {
    "scrolled": false
   },
   "outputs": [
    {
     "data": {
      "text/plain": [
       "<AxesSubplot:>"
      ]
     },
     "execution_count": 103,
     "metadata": {},
     "output_type": "execute_result"
    },
    {
     "data": {
      "image/png": "[encoded data removed]",
      "text/plain": [
       "<Figure size 432x288 with 1 Axes>"
      ]
     },
     "metadata": {
      "needs_background": "light"
     },
     "output_type": "display_data"
    }
   ],
   "source": [
    "df['VehicleType'].hist(bins=40)\n"
   ]
  },
  {
   "cell_type": "markdown",
   "metadata": {},
   "source": [
    "C типами кузова все в порядке"
   ]
  },
  {
   "cell_type": "code",
   "execution_count": 104,
   "metadata": {},
   "outputs": [
    {
     "data": {
      "text/plain": [
       "<AxesSubplot:>"
      ]
     },
     "execution_count": 104,
     "metadata": {},
     "output_type": "execute_result"
    },
    {
     "data": {
      "image/png": "[encoded data removed]",
      "text/plain": [
       "<Figure size 432x288 with 1 Axes>"
      ]
     },
     "metadata": {
      "needs_background": "light"
     },
     "output_type": "display_data"
    }
   ],
   "source": [
    "df['RegistrationYear'].hist()"
   ]
  },
  {
   "cell_type": "code",
   "execution_count": 105,
   "metadata": {},
   "outputs": [],
   "source": [
    "df=df.loc[(df['RegistrationYear']<=2023) & (df['RegistrationYear']>=1990)]"
   ]
  },
  {
   "cell_type": "code",
   "execution_count": 106,
   "metadata": {},
   "outputs": [
    {
     "data": {
      "text/plain": [
       "<AxesSubplot:>"
      ]
     },
     "execution_count": 106,
     "metadata": {},
     "output_type": "execute_result"
    },
    {
     "data": {
      "image/png": "[encoded data removed]",
      "text/plain": [
       "<Figure size 432x288 with 1 Axes>"
      ]
     },
     "metadata": {
      "needs_background": "light"
     },
     "output_type": "display_data"
    }
   ],
   "source": [
    "df['RegistrationYear'].hist()"
   ]
  },
  {
   "cell_type": "markdown",
   "metadata": {},
   "source": [
    "Убрали выпадающие года выпуска."
   ]
  },
  {
   "cell_type": "code",
   "execution_count": 107,
   "metadata": {
    "scrolled": false
   },
   "outputs": [
    {
     "data": {
      "text/plain": [
       "<AxesSubplot:>"
      ]
     },
     "execution_count": 107,
     "metadata": {},
     "output_type": "execute_result"
    },
    {
     "data": {
      "image/png": "[encoded data removed]",
      "text/plain": [
       "<Figure size 432x288 with 1 Axes>"
      ]
     },
     "metadata": {
      "needs_background": "light"
     },
     "output_type": "display_data"
    }
   ],
   "source": [
    "df['Gearbox'].hist()"
   ]
  },
  {
   "cell_type": "code",
   "execution_count": 108,
   "metadata": {},
   "outputs": [
    {
     "data": {
      "text/plain": [
       "<AxesSubplot:>"
      ]
     },
     "execution_count": 108,
     "metadata": {},
     "output_type": "execute_result"
    },
    {
     "data": {
      "image/png": "[encoded data removed]",
      "text/plain": [
       "<Figure size 432x288 with 1 Axes>"
      ]
     },
     "metadata": {
      "needs_background": "light"
     },
     "output_type": "display_data"
    }
   ],
   "source": [
    "df['Power'].hist()"
   ]
  },
  {
   "cell_type": "code",
   "execution_count": 109,
   "metadata": {},
   "outputs": [],
   "source": [
    "df = df.loc[(df['Power'] < 600) & (df['Power'] > 30)]"
   ]
  },
  {
   "cell_type": "code",
   "execution_count": 110,
   "metadata": {},
   "outputs": [
    {
     "data": {
      "text/plain": [
       "<AxesSubplot:>"
      ]
     },
     "execution_count": 110,
     "metadata": {},
     "output_type": "execute_result"
    },
    {
     "data": {
      "image/png": "[encoded data removed]",
      "text/plain": [
       "<Figure size 432x288 with 1 Axes>"
      ]
     },
     "metadata": {
      "needs_background": "light"
     },
     "output_type": "display_data"
    }
   ],
   "source": [
    "df['Power'].hist()"
   ]
  },
  {
   "cell_type": "markdown",
   "metadata": {},
   "source": [
    "Убрали очень большие и очень маленькие значения мощности."
   ]
  },
  {
   "cell_type": "code",
   "execution_count": 111,
   "metadata": {
    "scrolled": true
   },
   "outputs": [
    {
     "data": {
      "text/plain": [
       "<AxesSubplot:>"
      ]
     },
     "execution_count": 111,
     "metadata": {},
     "output_type": "execute_result"
    },
    {
     "data": {
      "image/png": "[encoded data removed]",
      "text/plain": [
       "<Figure size 432x288 with 1 Axes>"
      ]
     },
     "metadata": {
      "needs_background": "light"
     },
     "output_type": "display_data"
    }
   ],
   "source": [
    "df['Kilometer'].hist()"
   ]
  },
  {
   "cell_type": "markdown",
   "metadata": {},
   "source": [
    "Данные по пробегу в порядке."
   ]
  },
  {
   "cell_type": "code",
   "execution_count": 112,
   "metadata": {},
   "outputs": [
    {
     "data": {
      "text/plain": [
       "<AxesSubplot:>"
      ]
     },
     "execution_count": 112,
     "metadata": {},
     "output_type": "execute_result"
    },
    {
     "data": {
      "image/png": "[encoded data removed]",
      "text/plain": [
       "<Figure size 432x288 with 1 Axes>"
      ]
     },
     "metadata": {
      "needs_background": "light"
     },
     "output_type": "display_data"
    }
   ],
   "source": [
    "df['FuelType'].hist(bins=20)"
   ]
  },
  {
   "cell_type": "code",
   "execution_count": 113,
   "metadata": {},
   "outputs": [
    {
     "data": {
      "text/plain": [
       "petrol      178595\n",
       "gasoline     88319\n",
       "no_info      17415\n",
       "lpg           4677\n",
       "cng            486\n",
       "hybrid         204\n",
       "other           50\n",
       "electric        36\n",
       "Name: FuelType, dtype: int64"
      ]
     },
     "execution_count": 113,
     "metadata": {},
     "output_type": "execute_result"
    }
   ],
   "source": [
    "df['FuelType'].value_counts()"
   ]
  },
  {
   "cell_type": "markdown",
   "metadata": {},
   "source": [
    "С данными по типу топлива все в порядке."
   ]
  },
  {
   "cell_type": "code",
   "execution_count": 114,
   "metadata": {},
   "outputs": [
    {
     "data": {
      "text/plain": [
       "<AxesSubplot:>"
      ]
     },
     "execution_count": 114,
     "metadata": {},
     "output_type": "execute_result"
    },
    {
     "data": {
      "image/png": "[encoded data removed]",
      "text/plain": [
       "<Figure size 432x288 with 1 Axes>"
      ]
     },
     "metadata": {
      "needs_background": "light"
     },
     "output_type": "display_data"
    }
   ],
   "source": [
    "df['Repaired'].hist()"
   ]
  },
  {
   "cell_type": "markdown",
   "metadata": {},
   "source": [
    "С данными о ремонте все в порядке."
   ]
  },
  {
   "cell_type": "code",
   "execution_count": 115,
   "metadata": {},
   "outputs": [
    {
     "data": {
      "text/plain": [
       "<AxesSubplot:>"
      ]
     },
     "execution_count": 115,
     "metadata": {},
     "output_type": "execute_result"
    },
    {
     "data": {
      "image/png": "[encoded data removed]",
      "text/plain": [
       "<Figure size 432x288 with 1 Axes>"
      ]
     },
     "metadata": {
      "needs_background": "light"
     },
     "output_type": "display_data"
    }
   ],
   "source": [
    "df['NumberOfPictures'].hist()"
   ]
  },
  {
   "cell_type": "code",
   "execution_count": 116,
   "metadata": {},
   "outputs": [
    {
     "data": {
      "text/plain": [
       "0    289782\n",
       "Name: NumberOfPictures, dtype: int64"
      ]
     },
     "execution_count": 116,
     "metadata": {},
     "output_type": "execute_result"
    }
   ],
   "source": [
    "df['NumberOfPictures'].value_counts()"
   ]
  },
  {
   "cell_type": "code",
   "execution_count": 117,
   "metadata": {},
   "outputs": [
    {
     "data": {
      "text/html": [
       "<div>\n",
       "<style scoped>\n",
       "    .dataframe tbody tr th:only-of-type {\n",
       "        vertical-align: middle;\n",
       "    }\n",
       "\n",
       "    .dataframe tbody tr th {\n",
       "        vertical-align: top;\n",
       "    }\n",
       "\n",
       "    .dataframe thead th {\n",
       "        text-align: right;\n",
       "    }\n",
       "</style>\n",
       "<table border=\"1\" class=\"dataframe\">\n",
       "  <thead>\n",
       "    <tr style=\"text-align: right;\">\n",
       "      <th></th>\n",
       "      <th>Price</th>\n",
       "      <th>VehicleType</th>\n",
       "      <th>RegistrationYear</th>\n",
       "      <th>Gearbox</th>\n",
       "      <th>Power</th>\n",
       "      <th>Model</th>\n",
       "      <th>Kilometer</th>\n",
       "      <th>FuelType</th>\n",
       "      <th>Brand</th>\n",
       "      <th>Repaired</th>\n",
       "    </tr>\n",
       "  </thead>\n",
       "  <tbody>\n",
       "    <tr>\n",
       "      <th>1</th>\n",
       "      <td>18300</td>\n",
       "      <td>coupe</td>\n",
       "      <td>2011</td>\n",
       "      <td>manual</td>\n",
       "      <td>190</td>\n",
       "      <td>no_info</td>\n",
       "      <td>125000</td>\n",
       "      <td>gasoline</td>\n",
       "      <td>audi</td>\n",
       "      <td>yes</td>\n",
       "    </tr>\n",
       "    <tr>\n",
       "      <th>2</th>\n",
       "      <td>9800</td>\n",
       "      <td>suv</td>\n",
       "      <td>2004</td>\n",
       "      <td>auto</td>\n",
       "      <td>163</td>\n",
       "      <td>grand</td>\n",
       "      <td>125000</td>\n",
       "      <td>gasoline</td>\n",
       "      <td>jeep</td>\n",
       "      <td>no_info</td>\n",
       "    </tr>\n",
       "    <tr>\n",
       "      <th>3</th>\n",
       "      <td>1500</td>\n",
       "      <td>small</td>\n",
       "      <td>2001</td>\n",
       "      <td>manual</td>\n",
       "      <td>75</td>\n",
       "      <td>golf</td>\n",
       "      <td>150000</td>\n",
       "      <td>petrol</td>\n",
       "      <td>volkswagen</td>\n",
       "      <td>no</td>\n",
       "    </tr>\n",
       "    <tr>\n",
       "      <th>4</th>\n",
       "      <td>3600</td>\n",
       "      <td>small</td>\n",
       "      <td>2008</td>\n",
       "      <td>manual</td>\n",
       "      <td>69</td>\n",
       "      <td>fabia</td>\n",
       "      <td>90000</td>\n",
       "      <td>gasoline</td>\n",
       "      <td>skoda</td>\n",
       "      <td>no</td>\n",
       "    </tr>\n",
       "    <tr>\n",
       "      <th>5</th>\n",
       "      <td>650</td>\n",
       "      <td>sedan</td>\n",
       "      <td>1995</td>\n",
       "      <td>manual</td>\n",
       "      <td>102</td>\n",
       "      <td>3er</td>\n",
       "      <td>150000</td>\n",
       "      <td>petrol</td>\n",
       "      <td>bmw</td>\n",
       "      <td>yes</td>\n",
       "    </tr>\n",
       "    <tr>\n",
       "      <th>...</th>\n",
       "      <td>...</td>\n",
       "      <td>...</td>\n",
       "      <td>...</td>\n",
       "      <td>...</td>\n",
       "      <td>...</td>\n",
       "      <td>...</td>\n",
       "      <td>...</td>\n",
       "      <td>...</td>\n",
       "      <td>...</td>\n",
       "      <td>...</td>\n",
       "    </tr>\n",
       "    <tr>\n",
       "      <th>354361</th>\n",
       "      <td>5250</td>\n",
       "      <td>no_info</td>\n",
       "      <td>2016</td>\n",
       "      <td>auto</td>\n",
       "      <td>150</td>\n",
       "      <td>159</td>\n",
       "      <td>150000</td>\n",
       "      <td>no_info</td>\n",
       "      <td>alfa_romeo</td>\n",
       "      <td>no</td>\n",
       "    </tr>\n",
       "    <tr>\n",
       "      <th>354362</th>\n",
       "      <td>3200</td>\n",
       "      <td>sedan</td>\n",
       "      <td>2004</td>\n",
       "      <td>manual</td>\n",
       "      <td>225</td>\n",
       "      <td>leon</td>\n",
       "      <td>150000</td>\n",
       "      <td>petrol</td>\n",
       "      <td>seat</td>\n",
       "      <td>yes</td>\n",
       "    </tr>\n",
       "    <tr>\n",
       "      <th>354366</th>\n",
       "      <td>1199</td>\n",
       "      <td>convertible</td>\n",
       "      <td>2000</td>\n",
       "      <td>auto</td>\n",
       "      <td>101</td>\n",
       "      <td>fortwo</td>\n",
       "      <td>125000</td>\n",
       "      <td>petrol</td>\n",
       "      <td>smart</td>\n",
       "      <td>no</td>\n",
       "    </tr>\n",
       "    <tr>\n",
       "      <th>354367</th>\n",
       "      <td>9200</td>\n",
       "      <td>bus</td>\n",
       "      <td>1996</td>\n",
       "      <td>manual</td>\n",
       "      <td>102</td>\n",
       "      <td>transporter</td>\n",
       "      <td>150000</td>\n",
       "      <td>gasoline</td>\n",
       "      <td>volkswagen</td>\n",
       "      <td>no</td>\n",
       "    </tr>\n",
       "    <tr>\n",
       "      <th>354368</th>\n",
       "      <td>3400</td>\n",
       "      <td>wagon</td>\n",
       "      <td>2002</td>\n",
       "      <td>manual</td>\n",
       "      <td>100</td>\n",
       "      <td>golf</td>\n",
       "      <td>150000</td>\n",
       "      <td>gasoline</td>\n",
       "      <td>volkswagen</td>\n",
       "      <td>no_info</td>\n",
       "    </tr>\n",
       "  </tbody>\n",
       "</table>\n",
       "<p>289782 rows × 10 columns</p>\n",
       "</div>"
      ],
      "text/plain": [
       "        Price  VehicleType  RegistrationYear Gearbox  Power        Model  \\\n",
       "1       18300        coupe              2011  manual    190      no_info   \n",
       "2        9800          suv              2004    auto    163        grand   \n",
       "3        1500        small              2001  manual     75         golf   \n",
       "4        3600        small              2008  manual     69        fabia   \n",
       "5         650        sedan              1995  manual    102          3er   \n",
       "...       ...          ...               ...     ...    ...          ...   \n",
       "354361   5250      no_info              2016    auto    150          159   \n",
       "354362   3200        sedan              2004  manual    225         leon   \n",
       "354366   1199  convertible              2000    auto    101       fortwo   \n",
       "354367   9200          bus              1996  manual    102  transporter   \n",
       "354368   3400        wagon              2002  manual    100         golf   \n",
       "\n",
       "        Kilometer  FuelType       Brand Repaired  \n",
       "1          125000  gasoline        audi      yes  \n",
       "2          125000  gasoline        jeep  no_info  \n",
       "3          150000    petrol  volkswagen       no  \n",
       "4           90000  gasoline       skoda       no  \n",
       "5          150000    petrol         bmw      yes  \n",
       "...           ...       ...         ...      ...  \n",
       "354361     150000   no_info  alfa_romeo       no  \n",
       "354362     150000    petrol        seat      yes  \n",
       "354366     125000    petrol       smart       no  \n",
       "354367     150000  gasoline  volkswagen       no  \n",
       "354368     150000  gasoline  volkswagen  no_info  \n",
       "\n",
       "[289782 rows x 10 columns]"
      ]
     },
     "execution_count": 117,
     "metadata": {},
     "output_type": "execute_result"
    }
   ],
   "source": [
    "# в столбце с количеством фото везде нули. Удалим его.\n",
    "df = df.drop(['NumberOfPictures'], axis=1)\n",
    "df"
   ]
  },
  {
   "cell_type": "markdown",
   "metadata": {},
   "source": [
    "### Вывод: \n",
    "\n",
    "    Мы внимательно рассмотрели каждый столбец наших данных и скорректировали их следующими способами:\n",
    "        1.Удалили неинформативные признаки\n",
    "        2.Удалили предложения за ноль евро\n",
    "        3.Удалили предложения с неадекватными годами выпуска\n",
    "        4.Удалили предложения с неадекватными мощностями"
   ]
  },
  {
   "cell_type": "markdown",
   "id": "afce2487",
   "metadata": {},
   "source": [
    "###  Построение моделей"
   ]
  },
  {
   "cell_type": "markdown",
   "metadata": {},
   "source": [
    "##### Сначала подготовим данные для нелинейных моделей, для этого используем порядковое кодирование."
   ]
  },
  {
   "cell_type": "code",
   "execution_count": 118,
   "metadata": {},
   "outputs": [],
   "source": [
    "from sklearn.preprocessing import OrdinalEncoder"
   ]
  },
  {
   "cell_type": "code",
   "execution_count": 119,
   "metadata": {},
   "outputs": [],
   "source": [
    "# Сформируем признаки и целевой показатель\n",
    "features_ord = df.drop(['Price'], axis=1)\n",
    "target_ord = df['Price']"
   ]
  },
  {
   "cell_type": "code",
   "execution_count": 120,
   "metadata": {
    "scrolled": true
   },
   "outputs": [
    {
     "name": "stdout",
     "output_type": "stream",
     "text": [
      "(173869, 9)\n",
      "(173869,)\n",
      "\n",
      "(57956, 9)\n",
      "(57956,)\n",
      "\n",
      "(57957, 9)\n",
      "(57957,)\n"
     ]
    }
   ],
   "source": [
    "# Формируем обучающую, валидационную и тестовую выборки\n",
    "# Проверяем их по форме\n",
    "\n",
    "features_train_ord, features_valid_ord, target_train_ord, target_valid_ord = train_test_split(features_ord, target_ord, test_size = 0.4, random_state=42)\n",
    "\n",
    "features_valid_ord, features_test_ord, target_valid_ord, target_test_ord = train_test_split(features_valid_ord, target_valid_ord, test_size = 0.5, random_state=42)\n",
    "\n",
    "print(features_train_ord.shape)\n",
    "print(target_train_ord.shape)\n",
    "print()\n",
    "print(features_valid_ord.shape)\n",
    "print(target_valid_ord.shape)\n",
    "print()\n",
    "print(features_test_ord.shape)\n",
    "print(target_test_ord.shape)"
   ]
  },
  {
   "cell_type": "code",
   "execution_count": 121,
   "metadata": {},
   "outputs": [
    {
     "data": {
      "text/plain": [
       "['VehicleType', 'Gearbox', 'Model', 'FuelType', 'Brand', 'Repaired']"
      ]
     },
     "execution_count": 121,
     "metadata": {},
     "output_type": "execute_result"
    }
   ],
   "source": [
    "# Укажем категориальные признаки для кодирования\n",
    "cat_features = features_ord.drop(['RegistrationYear', 'Kilometer', 'Power'], axis=1).columns\n",
    "cat_features = list(cat_features)\n",
    "cat_features\n",
    "\n"
   ]
  },
  {
   "cell_type": "code",
   "execution_count": 122,
   "metadata": {},
   "outputs": [
    {
     "name": "stderr",
     "output_type": "stream",
     "text": [
      "/opt/conda/lib/python3.9/site-packages/pandas/core/indexing.py:1738: SettingWithCopyWarning: \n",
      "A value is trying to be set on a copy of a slice from a DataFrame.\n",
      "Try using .loc[row_indexer,col_indexer] = value instead\n",
      "\n",
      "See the caveats in the documentation: https://pandas.pydata.org/pandas-docs/stable/user_guide/indexing.html#returning-a-view-versus-a-copy\n",
      "  self._setitem_single_column(loc, value[:, i].tolist(), pi)\n"
     ]
    },
    {
     "data": {
      "text/html": [
       "<div>\n",
       "<style scoped>\n",
       "    .dataframe tbody tr th:only-of-type {\n",
       "        vertical-align: middle;\n",
       "    }\n",
       "\n",
       "    .dataframe tbody tr th {\n",
       "        vertical-align: top;\n",
       "    }\n",
       "\n",
       "    .dataframe thead th {\n",
       "        text-align: right;\n",
       "    }\n",
       "</style>\n",
       "<table border=\"1\" class=\"dataframe\">\n",
       "  <thead>\n",
       "    <tr style=\"text-align: right;\">\n",
       "      <th></th>\n",
       "      <th>VehicleType</th>\n",
       "      <th>RegistrationYear</th>\n",
       "      <th>Gearbox</th>\n",
       "      <th>Power</th>\n",
       "      <th>Model</th>\n",
       "      <th>Kilometer</th>\n",
       "      <th>FuelType</th>\n",
       "      <th>Brand</th>\n",
       "      <th>Repaired</th>\n",
       "    </tr>\n",
       "  </thead>\n",
       "  <tbody>\n",
       "    <tr>\n",
       "      <th>336127</th>\n",
       "      <td>8.0</td>\n",
       "      <td>2000</td>\n",
       "      <td>0.0</td>\n",
       "      <td>144</td>\n",
       "      <td>162.0</td>\n",
       "      <td>150000</td>\n",
       "      <td>7.0</td>\n",
       "      <td>24.0</td>\n",
       "      <td>0.0</td>\n",
       "    </tr>\n",
       "    <tr>\n",
       "      <th>144396</th>\n",
       "      <td>8.0</td>\n",
       "      <td>2002</td>\n",
       "      <td>0.0</td>\n",
       "      <td>163</td>\n",
       "      <td>14.0</td>\n",
       "      <td>150000</td>\n",
       "      <td>2.0</td>\n",
       "      <td>2.0</td>\n",
       "      <td>0.0</td>\n",
       "    </tr>\n",
       "    <tr>\n",
       "      <th>169519</th>\n",
       "      <td>5.0</td>\n",
       "      <td>2004</td>\n",
       "      <td>1.0</td>\n",
       "      <td>140</td>\n",
       "      <td>187.0</td>\n",
       "      <td>150000</td>\n",
       "      <td>7.0</td>\n",
       "      <td>39.0</td>\n",
       "      <td>0.0</td>\n",
       "    </tr>\n",
       "    <tr>\n",
       "      <th>83417</th>\n",
       "      <td>3.0</td>\n",
       "      <td>2016</td>\n",
       "      <td>1.0</td>\n",
       "      <td>75</td>\n",
       "      <td>164.0</td>\n",
       "      <td>150000</td>\n",
       "      <td>5.0</td>\n",
       "      <td>19.0</td>\n",
       "      <td>1.0</td>\n",
       "    </tr>\n",
       "    <tr>\n",
       "      <th>194187</th>\n",
       "      <td>1.0</td>\n",
       "      <td>2008</td>\n",
       "      <td>1.0</td>\n",
       "      <td>120</td>\n",
       "      <td>7.0</td>\n",
       "      <td>70000</td>\n",
       "      <td>7.0</td>\n",
       "      <td>25.0</td>\n",
       "      <td>0.0</td>\n",
       "    </tr>\n",
       "  </tbody>\n",
       "</table>\n",
       "</div>"
      ],
      "text/plain": [
       "        VehicleType  RegistrationYear  Gearbox  Power  Model  Kilometer  \\\n",
       "336127          8.0              2000      0.0    144  162.0     150000   \n",
       "144396          8.0              2002      0.0    163   14.0     150000   \n",
       "169519          5.0              2004      1.0    140  187.0     150000   \n",
       "83417           3.0              2016      1.0     75  164.0     150000   \n",
       "194187          1.0              2008      1.0    120    7.0      70000   \n",
       "\n",
       "        FuelType  Brand  Repaired  \n",
       "336127       7.0   24.0       0.0  \n",
       "144396       2.0    2.0       0.0  \n",
       "169519       7.0   39.0       0.0  \n",
       "83417        5.0   19.0       1.0  \n",
       "194187       7.0   25.0       0.0  "
      ]
     },
     "execution_count": 122,
     "metadata": {},
     "output_type": "execute_result"
    }
   ],
   "source": [
    "encoder = OrdinalEncoder(handle_unknown='use_encoded_value', unknown_value=-1)\n",
    "    \n",
    "features_train_ord.loc[:, cat_features] = encoder.fit_transform(features_train_ord.loc[:, cat_features])\n",
    "features_valid_ord.loc[:, cat_features] = encoder.fit_transform(features_valid_ord.loc[:, cat_features])\n",
    "features_test_ord.loc[:, cat_features] = encoder.fit_transform(features_test_ord.loc[:, cat_features])\n",
    "\n",
    "features_test_ord.head()\n"
   ]
  },
  {
   "cell_type": "markdown",
   "metadata": {},
   "source": []
  },
  {
   "cell_type": "code",
   "execution_count": 123,
   "metadata": {},
   "outputs": [],
   "source": [
    "# features_train_ord = encoder.transform(features_train_ord)\n",
    "# features_train_ord = pd.DataFrame(encoder.transform(features_train_ord), columns = features_train_ord.columns)\n",
    "\n",
    "# features_train_ord.head()\n"
   ]
  },
  {
   "cell_type": "markdown",
   "id": "8c32e6f1",
   "metadata": {},
   "source": [
    "##### Подготовка данных для построения линейных моделей"
   ]
  },
  {
   "cell_type": "code",
   "execution_count": 124,
   "id": "8dd96d75",
   "metadata": {},
   "outputs": [],
   "source": [
    "# Переведем категориальные переменные в количественный с помощью дамми-переменных\n",
    "\n",
    "сategorical_col_updated = ['VehicleType', 'Gearbox', 'Model', 'FuelType', 'Brand', 'Repaired']\n",
    "\n",
    "df = pd.get_dummies(df, columns = сategorical_col_updated,  drop_first=True)"
   ]
  },
  {
   "cell_type": "code",
   "execution_count": 125,
   "id": "8f93a0c9",
   "metadata": {},
   "outputs": [],
   "source": [
    "df = df.reset_index()"
   ]
  },
  {
   "cell_type": "code",
   "execution_count": 126,
   "id": "3e8006a2",
   "metadata": {},
   "outputs": [],
   "source": [
    "# формируем таблицы признаков и цевого показателя\n",
    "\n",
    "features = df.drop(['Price'], axis=1)\n",
    "target = df['Price']"
   ]
  },
  {
   "cell_type": "code",
   "execution_count": 127,
   "id": "07f5290f",
   "metadata": {},
   "outputs": [
    {
     "name": "stdout",
     "output_type": "stream",
     "text": [
      "(173869, 310)\n",
      "(173869,)\n",
      "\n",
      "(57956, 310)\n",
      "(57956,)\n",
      "\n",
      "(57957, 310)\n",
      "(57957,)\n"
     ]
    }
   ],
   "source": [
    "# Формируем обучающую и валидационную выборки\n",
    "# Проверяем их по форме\n",
    "\n",
    "features_train, features_valid, target_train, target_valid = train_test_split(features, target, test_size = 0.4, random_state=42)\n",
    "\n",
    "features_valid, features_test, target_valid, target_test = train_test_split(features_valid, target_valid, test_size = 0.5, random_state=42)\n",
    "\n",
    "print(features_train.shape)\n",
    "print(target_train.shape)\n",
    "print()\n",
    "print(features_valid.shape)\n",
    "print(target_valid.shape)\n",
    "print()\n",
    "print(features_test.shape)\n",
    "print(target_test.shape)"
   ]
  },
  {
   "cell_type": "markdown",
   "id": "6972ebe3",
   "metadata": {},
   "source": [
    "####  Линейная регрессия"
   ]
  },
  {
   "cell_type": "code",
   "execution_count": 128,
   "id": "0b57df9e",
   "metadata": {},
   "outputs": [],
   "source": [
    "# Для улучшения качества модели также используем кросс-валидацию"
   ]
  },
  {
   "cell_type": "code",
   "execution_count": 129,
   "id": "65df0b3b",
   "metadata": {},
   "outputs": [],
   "source": [
    "from sklearn.model_selection import cross_val_score, GridSearchCV"
   ]
  },
  {
   "cell_type": "code",
   "execution_count": 130,
   "id": "f16ba71f",
   "metadata": {},
   "outputs": [
    {
     "name": "stdout",
     "output_type": "stream",
     "text": [
      "2308.690539205458\n",
      "CPU times: user 1min 5s, sys: 2min, total: 3min 6s\n",
      "Wall time: 3min 6s\n"
     ]
    }
   ],
   "source": [
    "%%time\n",
    "model_4 = LinearRegression()\n",
    "\n",
    "RMSE_4 = cross_val_score(model_4, features, target, cv=3, scoring='neg_root_mean_squared_error').mean()\n",
    "print(-RMSE_4)"
   ]
  },
  {
   "cell_type": "code",
   "execution_count": 131,
   "metadata": {},
   "outputs": [
    {
     "name": "stdout",
     "output_type": "stream",
     "text": [
      "CPU times: user 18.9 s, sys: 41.5 s, total: 1min\n",
      "Wall time: 1min\n"
     ]
    },
    {
     "data": {
      "text/plain": [
       "LinearRegression()"
      ]
     },
     "execution_count": 131,
     "metadata": {},
     "output_type": "execute_result"
    }
   ],
   "source": [
    "%%time\n",
    "linear_model = LinearRegression()\n",
    "linear_model.fit(features_train, target_train)\n",
    "\n"
   ]
  },
  {
   "cell_type": "code",
   "execution_count": 132,
   "metadata": {},
   "outputs": [
    {
     "name": "stdout",
     "output_type": "stream",
     "text": [
      "2306.446074273682\n",
      "CPU times: user 84 ms, sys: 149 ms, total: 233 ms\n",
      "Wall time: 223 ms\n"
     ]
    }
   ],
   "source": [
    "%%time\n",
    "linear_preds = linear_model.predict(features_valid)\n",
    "print(mean_squared_error(target_valid, linear_preds)**0.5)"
   ]
  },
  {
   "cell_type": "code",
   "execution_count": 133,
   "metadata": {},
   "outputs": [
    {
     "name": "stdout",
     "output_type": "stream",
     "text": [
      "Оценка качетсва модели линейной регресссии с использованием кросс-валидации: 2308.690539205458\n",
      "Время обучения линейной регрессии на кросс-валидации: 41 секунда\n",
      "Время предсказания линейной регрессии на кросс-валидации: 0.2 секунды\n"
     ]
    }
   ],
   "source": [
    "print('Оценка качетсва модели линейной регресссии с использованием кросс-валидации:',-RMSE_4)\n",
    "print('Время обучения линейной регрессии на кросс-валидации: 41 секунда')\n",
    "print('Время предсказания линейной регрессии на кросс-валидации: 0.2 секунды')"
   ]
  },
  {
   "cell_type": "markdown",
   "id": "01cb48eb",
   "metadata": {},
   "source": [
    "#### Выводы:\n",
    "    Результат работы модели попадает у словия ТЗ. Время обучения в абсолютных единицах незначительное."
   ]
  },
  {
   "cell_type": "markdown",
   "id": "a2c39d64",
   "metadata": {},
   "source": [
    "#### 3.2 Случайный лес:\n"
   ]
  },
  {
   "cell_type": "code",
   "execution_count": 134,
   "metadata": {},
   "outputs": [],
   "source": [
    "# Для кросс валидации объединим обучающую и валидационную выборки:\n",
    "\n",
    "features_final = pd.concat([features_train_ord, features_valid_ord])\n",
    "target_final = pd.concat([target_train_ord, target_valid_ord])"
   ]
  },
  {
   "cell_type": "code",
   "execution_count": 135,
   "id": "e802cb04",
   "metadata": {},
   "outputs": [
    {
     "name": "stdout",
     "output_type": "stream",
     "text": [
      "CPU times: user 16.8 s, sys: 0 ns, total: 16.8 s\n",
      "Wall time: 17 s\n"
     ]
    },
    {
     "data": {
      "text/plain": [
       "GridSearchCV(cv=3, estimator=RandomForestRegressor(random_state=1), n_jobs=-1,\n",
       "             param_grid={'max_depth': [4, 6, 8],\n",
       "                         'n_estimators': range(10, 15, 5)},\n",
       "             return_train_score=True, scoring='neg_root_mean_squared_error')"
      ]
     },
     "execution_count": 135,
     "metadata": {},
     "output_type": "execute_result"
    }
   ],
   "source": [
    "%%time\n",
    "model_5 = RandomForestRegressor(random_state=1)\n",
    "\n",
    "params = {'max_depth' : [4,6,8],\n",
    "          'n_estimators' : range(10,15,5)}\n",
    "\n",
    "grid_CV_3 = GridSearchCV(estimator=model_5, \n",
    "                         param_grid=params, \n",
    "                         scoring = 'neg_root_mean_squared_error',\n",
    "                         cv=3,\n",
    "                         n_jobs=-1,\n",
    "                         return_train_score=True)\n",
    "\n",
    "grid_CV_3.fit(features_final, target_final)\n"
   ]
  },
  {
   "cell_type": "code",
   "execution_count": 136,
   "metadata": {},
   "outputs": [
    {
     "data": {
      "text/html": [
       "<div>\n",
       "<style scoped>\n",
       "    .dataframe tbody tr th:only-of-type {\n",
       "        vertical-align: middle;\n",
       "    }\n",
       "\n",
       "    .dataframe tbody tr th {\n",
       "        vertical-align: top;\n",
       "    }\n",
       "\n",
       "    .dataframe thead th {\n",
       "        text-align: right;\n",
       "    }\n",
       "</style>\n",
       "<table border=\"1\" class=\"dataframe\">\n",
       "  <thead>\n",
       "    <tr style=\"text-align: right;\">\n",
       "      <th></th>\n",
       "      <th>mean_fit_time</th>\n",
       "      <th>mean_score_time</th>\n",
       "    </tr>\n",
       "  </thead>\n",
       "  <tbody>\n",
       "    <tr>\n",
       "      <th>0</th>\n",
       "      <td>1.044481</td>\n",
       "      <td>0.035278</td>\n",
       "    </tr>\n",
       "    <tr>\n",
       "      <th>1</th>\n",
       "      <td>1.421505</td>\n",
       "      <td>0.044244</td>\n",
       "    </tr>\n",
       "    <tr>\n",
       "      <th>2</th>\n",
       "      <td>1.812524</td>\n",
       "      <td>0.065237</td>\n",
       "    </tr>\n",
       "  </tbody>\n",
       "</table>\n",
       "</div>"
      ],
      "text/plain": [
       "   mean_fit_time  mean_score_time\n",
       "0       1.044481         0.035278\n",
       "1       1.421505         0.044244\n",
       "2       1.812524         0.065237"
      ]
     },
     "execution_count": 136,
     "metadata": {},
     "output_type": "execute_result"
    }
   ],
   "source": [
    "results =  pd.DataFrame(grid_CV_3.cv_results_)\n",
    "results[['mean_fit_time', 'mean_score_time']]"
   ]
  },
  {
   "cell_type": "code",
   "execution_count": 137,
   "id": "9a05e6c7",
   "metadata": {},
   "outputs": [
    {
     "name": "stdout",
     "output_type": "stream",
     "text": [
      "CPU times: user 4 µs, sys: 0 ns, total: 4 µs\n",
      "Wall time: 7.39 µs\n",
      "{'max_depth': 8, 'n_estimators': 10}\n",
      "\n",
      "Оценка лучшей модели случайного леса на кросс-валидации 1975.175318639224\n",
      "Время обучения случайного леса на кросс-валидации: 4.278510649998983\n",
      "Скорость прелсказания случайного леса на кросс-валидации: 0.14475949605305988\n"
     ]
    }
   ],
   "source": [
    "%time\n",
    "best_params = grid_CV_3.best_params_\n",
    "print(best_params)\n",
    "print()\n",
    "best_score = grid_CV_3.best_score_\n",
    "print('Оценка лучшей модели случайного леса на кросс-валидации', -(best_score))\n",
    "print('Время обучения случайного леса на кросс-валидации:', results['mean_fit_time'].sum())\n",
    "print('Скорость прелсказания случайного леса на кросс-валидации:', results['mean_score_time'].sum())"
   ]
  },
  {
   "cell_type": "markdown",
   "id": "af9044d8",
   "metadata": {},
   "source": [
    "#### Выводы:\n",
    "    Случайный лес на кросс-валидации показал хорошее время и очень высокую точность."
   ]
  },
  {
   "cell_type": "markdown",
   "id": "5d95141c",
   "metadata": {},
   "source": [
    "####  Градиентный бустинг:"
   ]
  },
  {
   "cell_type": "code",
   "execution_count": 138,
   "metadata": {},
   "outputs": [],
   "source": [
    "import lightgbm as lgb"
   ]
  },
  {
   "cell_type": "code",
   "execution_count": 139,
   "id": "f90e25fc",
   "metadata": {},
   "outputs": [],
   "source": [
    "# Сформируем обучающую и тестовую выборки\n",
    "\n",
    "lgb_train = lgb.Dataset(features_train, target_train)\n",
    "lgb_eval = lgb.Dataset(features_valid, target_valid, reference=lgb_train)"
   ]
  },
  {
   "cell_type": "code",
   "execution_count": 140,
   "id": "1c867fb6",
   "metadata": {},
   "outputs": [],
   "source": [
    "\n",
    "params = {\n",
    "    'task': 'train',\n",
    "    'boosting_type': 'gbdt',  # Установить тип продвижения\n",
    "    'objective': 'regression', # Целевая функция\n",
    "    'metric': {'l2', 'rmse'},  # Функция оценки\n",
    "    'num_leaves': 31,   # Количество листовых узлов\n",
    "    'learning_rate': 0.05,  # Скорость обучения\n",
    "    'feature_fraction': 0.9, # Построить коэффициент выбора функций\n",
    "    'bagging_fraction': 0.8, # Построить коэффициент выборки\n",
    "    'bagging_freq': 5,  # k означает, что упаковка выполняется каждые k итераций\n",
    "    'verbose': 1 # <0 показывает фатальный, = 0 показывает ошибку (предупреждение),> 0 показывает информацию\n",
    "}"
   ]
  },
  {
   "cell_type": "code",
   "execution_count": 141,
   "id": "3b92d898",
   "metadata": {},
   "outputs": [
    {
     "name": "stderr",
     "output_type": "stream",
     "text": [
      "/opt/conda/lib/python3.9/site-packages/lightgbm/engine.py:181: UserWarning: 'early_stopping_rounds' argument is deprecated and will be removed in a future release of LightGBM. Pass 'early_stopping()' callback via 'callbacks' argument instead.\n",
      "  _log_warning(\"'early_stopping_rounds' argument is deprecated and will be removed in a future release of LightGBM. \"\n"
     ]
    },
    {
     "name": "stdout",
     "output_type": "stream",
     "text": [
      "[LightGBM] [Warning] Auto-choosing row-wise multi-threading, the overhead of testing was 1.384204 seconds.\n",
      "You can set `force_row_wise=true` to remove the overhead.\n",
      "And if memory is not enough, you can set `force_col_wise=true`.\n",
      "[LightGBM] [Info] Total Bins 1096\n",
      "[LightGBM] [Info] Number of data points in the train set: 173869, number of used features: 288\n",
      "[LightGBM] [Info] Start training from score 4944.648178\n",
      "[1]\tvalid_0's rmse: 4414.92\tvalid_0's l2: 1.94915e+07\n",
      "Training until validation scores don't improve for 5 rounds\n",
      "[2]\tvalid_0's rmse: 4277.76\tvalid_0's l2: 1.82993e+07\n",
      "[3]\tvalid_0's rmse: 4127.61\tvalid_0's l2: 1.70372e+07\n",
      "[4]\tvalid_0's rmse: 3986.4\tvalid_0's l2: 1.58914e+07\n",
      "[5]\tvalid_0's rmse: 3854.67\tvalid_0's l2: 1.48585e+07\n",
      "[6]\tvalid_0's rmse: 3730.91\tvalid_0's l2: 1.39197e+07\n",
      "[7]\tvalid_0's rmse: 3614.97\tvalid_0's l2: 1.3068e+07\n",
      "[8]\tvalid_0's rmse: 3506.2\tvalid_0's l2: 1.22934e+07\n",
      "[9]\tvalid_0's rmse: 3403.01\tvalid_0's l2: 1.15805e+07\n",
      "[10]\tvalid_0's rmse: 3307.76\tvalid_0's l2: 1.09413e+07\n",
      "[11]\tvalid_0's rmse: 3215.47\tvalid_0's l2: 1.03393e+07\n",
      "[12]\tvalid_0's rmse: 3131.11\tvalid_0's l2: 9.80383e+06\n",
      "[13]\tvalid_0's rmse: 3051.65\tvalid_0's l2: 9.31257e+06\n",
      "[14]\tvalid_0's rmse: 2982.59\tvalid_0's l2: 8.89586e+06\n",
      "[15]\tvalid_0's rmse: 2908.73\tvalid_0's l2: 8.46073e+06\n",
      "[16]\tvalid_0's rmse: 2842.48\tvalid_0's l2: 8.07968e+06\n",
      "[17]\tvalid_0's rmse: 2778.16\tvalid_0's l2: 7.71816e+06\n",
      "[18]\tvalid_0's rmse: 2719.06\tvalid_0's l2: 7.39329e+06\n",
      "[19]\tvalid_0's rmse: 2665.12\tvalid_0's l2: 7.10286e+06\n",
      "[20]\tvalid_0's rmse: 2616.51\tvalid_0's l2: 6.8461e+06\n",
      "[21]\tvalid_0's rmse: 2567.13\tvalid_0's l2: 6.59016e+06\n",
      "[22]\tvalid_0's rmse: 2523.4\tvalid_0's l2: 6.36753e+06\n",
      "[23]\tvalid_0's rmse: 2479.7\tvalid_0's l2: 6.14889e+06\n",
      "[24]\tvalid_0's rmse: 2439.37\tvalid_0's l2: 5.95053e+06\n",
      "[25]\tvalid_0's rmse: 2402.8\tvalid_0's l2: 5.77344e+06\n",
      "[26]\tvalid_0's rmse: 2368.74\tvalid_0's l2: 5.61094e+06\n",
      "[27]\tvalid_0's rmse: 2334.82\tvalid_0's l2: 5.45137e+06\n",
      "[28]\tvalid_0's rmse: 2303.24\tvalid_0's l2: 5.30492e+06\n",
      "[29]\tvalid_0's rmse: 2272.45\tvalid_0's l2: 5.16404e+06\n",
      "[30]\tvalid_0's rmse: 2244.4\tvalid_0's l2: 5.03735e+06\n",
      "[31]\tvalid_0's rmse: 2217.3\tvalid_0's l2: 4.91642e+06\n",
      "[32]\tvalid_0's rmse: 2192.57\tvalid_0's l2: 4.80735e+06\n",
      "[33]\tvalid_0's rmse: 2167.55\tvalid_0's l2: 4.69828e+06\n",
      "[34]\tvalid_0's rmse: 2145.23\tvalid_0's l2: 4.60201e+06\n",
      "[35]\tvalid_0's rmse: 2124.8\tvalid_0's l2: 4.51475e+06\n",
      "Did not meet early stopping. Best iteration is:\n",
      "[35]\tvalid_0's rmse: 2124.8\tvalid_0's l2: 4.51475e+06\n",
      "CPU times: user 6min 43s, sys: 0 ns, total: 6min 43s\n",
      "Wall time: 6min 44s\n"
     ]
    }
   ],
   "source": [
    "%%time \n",
    "\n",
    "gbm_new = lgb.train(params,lgb_train,num_boost_round=35,valid_sets=lgb_eval,early_stopping_rounds=5)\n"
   ]
  },
  {
   "cell_type": "code",
   "execution_count": 146,
   "id": "b0a77d40",
   "metadata": {},
   "outputs": [
    {
     "name": "stdout",
     "output_type": "stream",
     "text": [
      "CPU times: user 437 ms, sys: 0 ns, total: 437 ms\n",
      "Wall time: 417 ms\n"
     ]
    }
   ],
   "source": [
    "\n",
    "\n",
    "%%time\n",
    "preds = gbm_new.predict(features_valid, num_iteration=gbm_new.best_iteration)"
   ]
  },
  {
   "cell_type": "code",
   "execution_count": 147,
   "id": "a789ac72",
   "metadata": {},
   "outputs": [
    {
     "name": "stdout",
     "output_type": "stream",
     "text": [
      "RMSE модели градиентного бустинга: 2124.795025433288\n",
      "Время обучения LightGBM: 6 минут 3 секунды\n",
      "Скорость прелсказанияLightGBM: 0.4 секунды\n"
     ]
    }
   ],
   "source": [
    "# Модель оценки\n",
    "print('RMSE модели градиентного бустинга:', mean_squared_error(target_valid, preds) ** 0.5)\n",
    "print('Время обучения LightGBM: 6 минут 3 секунды')\n",
    "print('Скорость прелсказанияLightGBM: 0.4 секунды')"
   ]
  },
  {
   "cell_type": "markdown",
   "metadata": {},
   "source": [
    "#### Выводы: \n",
    "    \n",
    "    Мы получили точность выше, чем указана в ТЗ. При этом время обучения зависит от количества итераций, то есть: чем точнее мы хотим получить результат, тем болеше времени на это потреббуется.\n",
    "    \n",
    "    Из трех моделей:\n",
    "        лучшая точность - случайный лес\n",
    "        лучшая скорость обучения - случайный лес\n",
    "        лучшая скорость предсказания - градиентный бустинг\n",
    "        \n",
    "        \n",
    "     Для проверки на тестовой выборке выбираем случайный лес, так как точночть там сильно выше, а различия во времени незначительны в абсолютном выражении."
   ]
  },
  {
   "cell_type": "markdown",
   "metadata": {},
   "source": [
    "### Тестирование:\n"
   ]
  },
  {
   "cell_type": "markdown",
   "metadata": {},
   "source": [
    "Для теста берем модель, которая показала лучшие результаты на валидационной выорке: случайный лес на кросс-валидации."
   ]
  },
  {
   "cell_type": "code",
   "execution_count": 148,
   "metadata": {
    "scrolled": true
   },
   "outputs": [
    {
     "name": "stdout",
     "output_type": "stream",
     "text": [
      "CPU times: user 2.07 s, sys: 0 ns, total: 2.07 s\n",
      "Wall time: 2.09 s\n"
     ]
    },
    {
     "data": {
      "text/plain": [
       "RandomForestRegressor(max_depth=8, n_estimators=10, random_state=42)"
      ]
     },
     "execution_count": 148,
     "metadata": {},
     "output_type": "execute_result"
    }
   ],
   "source": [
    "%%time\n",
    "final_model = RandomForestRegressor(max_depth=8, n_estimators=10, random_state = 42)\n",
    "final_model.fit(features_train_ord, target_train_ord)\n",
    "\n"
   ]
  },
  {
   "cell_type": "code",
   "execution_count": 149,
   "metadata": {},
   "outputs": [
    {
     "name": "stdout",
     "output_type": "stream",
     "text": [
      "RMSE модели на тестовой выборке: 2014.8505834317734\n",
      "Время обучения на тестовой выборке: 2 секунды\n",
      "Скорость прелсказанияLightGBM: 0.5 секунды\n",
      "\n",
      "CPU times: user 46.7 ms, sys: 0 ns, total: 46.7 ms\n",
      "Wall time: 45.5 ms\n"
     ]
    }
   ],
   "source": [
    "%%time\n",
    "predictions = final_model.predict(features_test_ord)\n",
    "print('RMSE модели на тестовой выборке:', mean_squared_error(target_test_ord, predictions) ** 0.5)\n",
    "print('Время обучения на тестовой выборке: 2 секунды')\n",
    "print('Скорость прелсказанияLightGBM: 0.5 секунды')\n",
    "print()"
   ]
  },
  {
   "cell_type": "markdown",
   "metadata": {},
   "source": [
    "### Выводы:\n",
    "     На этапе анализа данных мы внимательно рассмотрели каждый столбец и скорректировали их следующими способами:\n",
    "        1.Удалили неинформативные признаки\n",
    "        2.Удалили предложения за ноль евро\n",
    "        3.Удалили предложения с неадекватными годами выпуска\n",
    "        4.Удалили предложения с неадекватными мощностями\n",
    "        \n",
    "      Работу разных моделей предсказания нам обеспечило кодирование признаков под каждый случай (ОНЕ и ordinal encoder)\n",
    "      Показатели качества модели на тестовой выборке оказались выше требуемых. Это стало возможным благодаря перебору \n",
    "      гиперпараметров для каждой модели и обучению на кросс-валидации."
   ]
  }
 ],
 "metadata": {
  "ExecuteTimeLog": [
   {
    "duration": 1841,
    "start_time": "2023-03-25T09:38:21.498Z"
   },
   {
    "duration": 2948,
    "start_time": "2023-03-25T09:38:28.198Z"
   },
   {
    "duration": 1578,
    "start_time": "2023-03-30T07:45:39.636Z"
   },
   {
    "duration": 1044,
    "start_time": "2023-03-30T07:45:43.980Z"
   },
   {
    "duration": 105,
    "start_time": "2023-03-30T07:45:50.915Z"
   },
   {
    "duration": 99,
    "start_time": "2023-03-30T07:45:55.556Z"
   },
   {
    "duration": 97,
    "start_time": "2023-03-30T07:50:36.535Z"
   },
   {
    "duration": 76,
    "start_time": "2023-03-30T07:50:38.921Z"
   },
   {
    "duration": 117,
    "start_time": "2023-03-30T07:50:46.956Z"
   },
   {
    "duration": 3,
    "start_time": "2023-03-30T07:50:54.188Z"
   },
   {
    "duration": 225150,
    "start_time": "2023-03-30T07:51:26.356Z"
   },
   {
    "duration": 0,
    "start_time": "2023-03-30T07:55:11.507Z"
   },
   {
    "duration": 27,
    "start_time": "2023-03-30T07:56:43.436Z"
   },
   {
    "duration": 11,
    "start_time": "2023-03-30T07:58:41.594Z"
   },
   {
    "duration": 10,
    "start_time": "2023-03-30T07:58:46.292Z"
   },
   {
    "duration": 8,
    "start_time": "2023-03-30T07:58:55.292Z"
   },
   {
    "duration": 3,
    "start_time": "2023-03-30T07:58:58.723Z"
   },
   {
    "duration": 155,
    "start_time": "2023-03-30T07:59:41.247Z"
   },
   {
    "duration": 154,
    "start_time": "2023-03-30T08:00:08.599Z"
   },
   {
    "duration": 178,
    "start_time": "2023-03-30T08:00:20.857Z"
   },
   {
    "duration": 256,
    "start_time": "2023-03-30T08:00:49.294Z"
   },
   {
    "duration": 35,
    "start_time": "2023-03-30T08:01:22.838Z"
   },
   {
    "duration": 36,
    "start_time": "2023-03-30T08:02:05.957Z"
   },
   {
    "duration": 19,
    "start_time": "2023-03-30T08:02:19.637Z"
   },
   {
    "duration": 32,
    "start_time": "2023-03-30T08:06:12.289Z"
   },
   {
    "duration": 296,
    "start_time": "2023-03-30T08:07:19.324Z"
   },
   {
    "duration": 280,
    "start_time": "2023-03-30T08:07:43.580Z"
   },
   {
    "duration": 195,
    "start_time": "2023-03-30T08:10:24.094Z"
   },
   {
    "duration": 100,
    "start_time": "2023-03-30T08:10:57.526Z"
   },
   {
    "duration": 3,
    "start_time": "2023-03-30T08:11:24.126Z"
   },
   {
    "duration": 760,
    "start_time": "2023-03-30T08:11:24.131Z"
   },
   {
    "duration": 114,
    "start_time": "2023-03-30T08:11:24.892Z"
   },
   {
    "duration": 104,
    "start_time": "2023-03-30T08:11:25.007Z"
   },
   {
    "duration": 96,
    "start_time": "2023-03-30T08:11:25.113Z"
   },
   {
    "duration": 16,
    "start_time": "2023-03-30T08:11:25.210Z"
   },
   {
    "duration": 3,
    "start_time": "2023-03-30T08:11:25.228Z"
   },
   {
    "duration": 260,
    "start_time": "2023-03-30T08:11:25.232Z"
   },
   {
    "duration": 16,
    "start_time": "2023-03-30T08:11:25.494Z"
   },
   {
    "duration": 24,
    "start_time": "2023-03-30T08:11:25.511Z"
   },
   {
    "duration": 213,
    "start_time": "2023-03-30T08:11:45.806Z"
   },
   {
    "duration": 41,
    "start_time": "2023-03-30T08:14:02.645Z"
   },
   {
    "duration": 218,
    "start_time": "2023-03-30T08:15:03.305Z"
   },
   {
    "duration": 252,
    "start_time": "2023-03-30T08:15:39.488Z"
   },
   {
    "duration": 641,
    "start_time": "2023-03-30T08:15:51.586Z"
   },
   {
    "duration": 254,
    "start_time": "2023-03-30T08:15:56.526Z"
   },
   {
    "duration": 126,
    "start_time": "2023-03-30T08:17:01.089Z"
   },
   {
    "duration": 132,
    "start_time": "2023-03-30T08:17:38.761Z"
   },
   {
    "duration": 118,
    "start_time": "2023-03-30T08:17:45.185Z"
   },
   {
    "duration": 8,
    "start_time": "2023-03-30T08:17:57.645Z"
   },
   {
    "duration": 134,
    "start_time": "2023-03-30T08:18:17.245Z"
   },
   {
    "duration": 30,
    "start_time": "2023-03-30T08:19:27.917Z"
   },
   {
    "duration": 134,
    "start_time": "2023-03-30T08:19:36.125Z"
   },
   {
    "duration": 24,
    "start_time": "2023-03-30T08:20:52.791Z"
   },
   {
    "duration": 136,
    "start_time": "2023-03-30T08:20:55.215Z"
   },
   {
    "duration": 208,
    "start_time": "2023-03-30T08:22:46.376Z"
   },
   {
    "duration": 26,
    "start_time": "2023-03-30T08:23:58.326Z"
   },
   {
    "duration": 136,
    "start_time": "2023-03-30T08:27:24.123Z"
   },
   {
    "duration": 22,
    "start_time": "2023-03-30T08:28:08.202Z"
   },
   {
    "duration": 147,
    "start_time": "2023-03-30T08:28:18.300Z"
   },
   {
    "duration": 21,
    "start_time": "2023-03-30T08:28:36.183Z"
   },
   {
    "duration": 150,
    "start_time": "2023-03-30T08:28:38.901Z"
   },
   {
    "duration": 28,
    "start_time": "2023-03-30T08:29:14.120Z"
   },
   {
    "duration": 115,
    "start_time": "2023-03-30T08:29:16.440Z"
   },
   {
    "duration": 2827,
    "start_time": "2023-03-30T08:30:32.125Z"
   },
   {
    "duration": 25,
    "start_time": "2023-03-30T08:31:01.702Z"
   },
   {
    "duration": 13,
    "start_time": "2023-03-30T08:31:21.757Z"
   },
   {
    "duration": 28,
    "start_time": "2023-03-30T08:31:40.201Z"
   },
   {
    "duration": 119,
    "start_time": "2023-03-30T08:33:40.294Z"
   },
   {
    "duration": 141,
    "start_time": "2023-03-30T08:36:24.284Z"
   },
   {
    "duration": 196,
    "start_time": "2023-03-30T08:37:52.221Z"
   },
   {
    "duration": 242,
    "start_time": "2023-03-30T08:38:11.261Z"
   },
   {
    "duration": 25,
    "start_time": "2023-03-30T08:38:46.984Z"
   },
   {
    "duration": 333,
    "start_time": "2023-03-30T08:39:49.085Z"
   },
   {
    "duration": 158,
    "start_time": "2023-03-30T08:40:32.102Z"
   },
   {
    "duration": 124,
    "start_time": "2023-03-30T08:41:38.361Z"
   },
   {
    "duration": 725,
    "start_time": "2023-03-30T08:42:35.713Z"
   },
   {
    "duration": 674,
    "start_time": "2023-03-30T08:42:54.584Z"
   },
   {
    "duration": 7,
    "start_time": "2023-03-30T08:43:30.179Z"
   },
   {
    "duration": 52,
    "start_time": "2023-03-30T08:44:48.361Z"
   },
   {
    "duration": 4,
    "start_time": "2023-03-30T08:45:10.122Z"
   },
   {
    "duration": 1329,
    "start_time": "2023-03-30T08:45:56.858Z"
   },
   {
    "duration": 1126,
    "start_time": "2023-03-30T08:45:58.188Z"
   },
   {
    "duration": 114,
    "start_time": "2023-03-30T08:45:59.315Z"
   },
   {
    "duration": 107,
    "start_time": "2023-03-30T08:45:59.432Z"
   },
   {
    "duration": 117,
    "start_time": "2023-03-30T08:45:59.541Z"
   },
   {
    "duration": 38,
    "start_time": "2023-03-30T08:45:59.659Z"
   },
   {
    "duration": 3,
    "start_time": "2023-03-30T08:45:59.698Z"
   },
   {
    "duration": 260,
    "start_time": "2023-03-30T08:45:59.702Z"
   },
   {
    "duration": 22,
    "start_time": "2023-03-30T08:45:59.969Z"
   },
   {
    "duration": 31,
    "start_time": "2023-03-30T08:45:59.998Z"
   },
   {
    "duration": 264,
    "start_time": "2023-03-30T08:46:00.030Z"
   },
   {
    "duration": 121,
    "start_time": "2023-03-30T08:46:00.296Z"
   },
   {
    "duration": 27,
    "start_time": "2023-03-30T08:46:00.418Z"
   },
   {
    "duration": 212,
    "start_time": "2023-03-30T08:46:00.447Z"
   },
   {
    "duration": 192,
    "start_time": "2023-03-30T08:46:00.660Z"
   },
   {
    "duration": 156,
    "start_time": "2023-03-30T08:46:00.854Z"
   },
   {
    "duration": 24,
    "start_time": "2023-03-30T08:46:01.012Z"
   },
   {
    "duration": 155,
    "start_time": "2023-03-30T08:46:01.038Z"
   },
   {
    "duration": 140,
    "start_time": "2023-03-30T08:46:01.199Z"
   },
   {
    "duration": 240,
    "start_time": "2023-03-30T08:46:01.341Z"
   },
   {
    "duration": 26,
    "start_time": "2023-03-30T08:46:01.587Z"
   },
   {
    "duration": 209,
    "start_time": "2023-03-30T08:46:01.614Z"
   },
   {
    "duration": 135,
    "start_time": "2023-03-30T08:46:01.824Z"
   },
   {
    "duration": 21,
    "start_time": "2023-03-30T08:46:01.960Z"
   },
   {
    "duration": 15,
    "start_time": "2023-03-30T08:46:01.987Z"
   },
   {
    "duration": 24,
    "start_time": "2023-03-30T08:46:18.201Z"
   },
   {
    "duration": 24,
    "start_time": "2023-03-30T08:46:42.202Z"
   },
   {
    "duration": 130,
    "start_time": "2023-03-30T08:46:53.961Z"
   },
   {
    "duration": 4,
    "start_time": "2023-03-30T08:47:19.808Z"
   },
   {
    "duration": 835,
    "start_time": "2023-03-30T08:47:19.815Z"
   },
   {
    "duration": 126,
    "start_time": "2023-03-30T08:47:20.651Z"
   },
   {
    "duration": 112,
    "start_time": "2023-03-30T08:47:20.780Z"
   },
   {
    "duration": 94,
    "start_time": "2023-03-30T08:47:20.899Z"
   },
   {
    "duration": 17,
    "start_time": "2023-03-30T08:47:20.995Z"
   },
   {
    "duration": 12,
    "start_time": "2023-03-30T08:47:21.014Z"
   },
   {
    "duration": 270,
    "start_time": "2023-03-30T08:47:21.028Z"
   },
   {
    "duration": 16,
    "start_time": "2023-03-30T08:47:21.301Z"
   },
   {
    "duration": 28,
    "start_time": "2023-03-30T08:47:21.318Z"
   },
   {
    "duration": 272,
    "start_time": "2023-03-30T08:47:21.348Z"
   },
   {
    "duration": 230,
    "start_time": "2023-03-30T08:47:21.621Z"
   },
   {
    "duration": 35,
    "start_time": "2023-03-30T08:47:21.853Z"
   },
   {
    "duration": 146,
    "start_time": "2023-03-30T08:47:21.891Z"
   },
   {
    "duration": 204,
    "start_time": "2023-03-30T08:47:22.039Z"
   },
   {
    "duration": 168,
    "start_time": "2023-03-30T08:47:22.245Z"
   },
   {
    "duration": 23,
    "start_time": "2023-03-30T08:47:22.415Z"
   },
   {
    "duration": 181,
    "start_time": "2023-03-30T08:47:22.440Z"
   },
   {
    "duration": 180,
    "start_time": "2023-03-30T08:47:22.623Z"
   },
   {
    "duration": 226,
    "start_time": "2023-03-30T08:47:22.804Z"
   },
   {
    "duration": 25,
    "start_time": "2023-03-30T08:47:23.031Z"
   },
   {
    "duration": 181,
    "start_time": "2023-03-30T08:47:23.074Z"
   },
   {
    "duration": 167,
    "start_time": "2023-03-30T08:47:23.256Z"
   },
   {
    "duration": 7,
    "start_time": "2023-03-30T08:47:23.424Z"
   },
   {
    "duration": 22,
    "start_time": "2023-03-30T08:47:31.401Z"
   },
   {
    "duration": 12,
    "start_time": "2023-03-30T08:48:31.241Z"
   },
   {
    "duration": 7,
    "start_time": "2023-03-30T08:48:39.895Z"
   },
   {
    "duration": 738,
    "start_time": "2023-03-30T08:48:39.904Z"
   },
   {
    "duration": 117,
    "start_time": "2023-03-30T08:48:40.643Z"
   },
   {
    "duration": 132,
    "start_time": "2023-03-30T08:48:40.761Z"
   },
   {
    "duration": 95,
    "start_time": "2023-03-30T08:48:40.897Z"
   },
   {
    "duration": 16,
    "start_time": "2023-03-30T08:48:40.994Z"
   },
   {
    "duration": 3,
    "start_time": "2023-03-30T08:48:41.012Z"
   },
   {
    "duration": 279,
    "start_time": "2023-03-30T08:48:41.017Z"
   },
   {
    "duration": 16,
    "start_time": "2023-03-30T08:48:41.298Z"
   },
   {
    "duration": 28,
    "start_time": "2023-03-30T08:48:41.316Z"
   },
   {
    "duration": 287,
    "start_time": "2023-03-30T08:48:41.345Z"
   },
   {
    "duration": 271,
    "start_time": "2023-03-30T08:48:41.633Z"
   },
   {
    "duration": 23,
    "start_time": "2023-03-30T08:48:41.906Z"
   },
   {
    "duration": 182,
    "start_time": "2023-03-30T08:48:41.932Z"
   },
   {
    "duration": 228,
    "start_time": "2023-03-30T08:48:42.116Z"
   },
   {
    "duration": 201,
    "start_time": "2023-03-30T08:48:42.345Z"
   },
   {
    "duration": 35,
    "start_time": "2023-03-30T08:48:42.548Z"
   },
   {
    "duration": 179,
    "start_time": "2023-03-30T08:48:42.584Z"
   },
   {
    "duration": 171,
    "start_time": "2023-03-30T08:48:42.772Z"
   },
   {
    "duration": 272,
    "start_time": "2023-03-30T08:48:42.944Z"
   },
   {
    "duration": 27,
    "start_time": "2023-03-30T08:48:43.218Z"
   },
   {
    "duration": 199,
    "start_time": "2023-03-30T08:48:43.247Z"
   },
   {
    "duration": 144,
    "start_time": "2023-03-30T08:48:43.447Z"
   },
   {
    "duration": 7,
    "start_time": "2023-03-30T08:48:43.594Z"
   },
   {
    "duration": 35,
    "start_time": "2023-03-30T08:48:43.602Z"
   },
   {
    "duration": 545,
    "start_time": "2023-03-30T08:54:44.521Z"
   },
   {
    "duration": 3,
    "start_time": "2023-03-30T08:54:52.034Z"
   },
   {
    "duration": 45,
    "start_time": "2023-03-30T08:54:54.521Z"
   },
   {
    "duration": 13,
    "start_time": "2023-03-30T08:54:59.501Z"
   },
   {
    "duration": 189,
    "start_time": "2023-03-30T08:55:08.504Z"
   },
   {
    "duration": 326,
    "start_time": "2023-03-30T08:55:16.123Z"
   },
   {
    "duration": 50383,
    "start_time": "2023-03-30T08:55:23.214Z"
   },
   {
    "duration": 287,
    "start_time": "2023-03-30T09:05:15.107Z"
   },
   {
    "duration": 604,
    "start_time": "2023-03-30T09:06:45.856Z"
   },
   {
    "duration": 604,
    "start_time": "2023-03-30T09:07:55.591Z"
   },
   {
    "duration": 419,
    "start_time": "2023-03-30T09:09:06.263Z"
   },
   {
    "duration": 358,
    "start_time": "2023-03-30T09:11:37.600Z"
   },
   {
    "duration": 101,
    "start_time": "2023-03-30T09:12:36.484Z"
   },
   {
    "duration": 32160,
    "start_time": "2023-03-30T09:12:46.105Z"
   },
   {
    "duration": 29086,
    "start_time": "2023-03-30T09:13:26.603Z"
   },
   {
    "duration": 3,
    "start_time": "2023-03-30T09:18:31.585Z"
   },
   {
    "duration": 99,
    "start_time": "2023-03-30T09:18:34.067Z"
   },
   {
    "duration": 122185,
    "start_time": "2023-03-30T09:19:00.388Z"
   },
   {
    "duration": 100,
    "start_time": "2023-03-30T09:26:26.660Z"
   },
   {
    "duration": 4,
    "start_time": "2023-03-30T09:27:21.814Z"
   },
   {
    "duration": 4873,
    "start_time": "2023-03-30T09:29:37.265Z"
   },
   {
    "duration": 3963,
    "start_time": "2023-03-30T09:30:38.192Z"
   },
   {
    "duration": 304,
    "start_time": "2023-03-30T09:32:41.880Z"
   },
   {
    "duration": 1003,
    "start_time": "2023-03-30T09:34:47.285Z"
   },
   {
    "duration": 1535,
    "start_time": "2023-03-30T09:36:42.017Z"
   },
   {
    "duration": 1287,
    "start_time": "2023-03-30T09:36:43.554Z"
   },
   {
    "duration": 152,
    "start_time": "2023-03-30T09:36:44.842Z"
   },
   {
    "duration": 126,
    "start_time": "2023-03-30T09:36:44.999Z"
   },
   {
    "duration": 131,
    "start_time": "2023-03-30T09:36:45.127Z"
   },
   {
    "duration": 44,
    "start_time": "2023-03-30T09:36:45.260Z"
   },
   {
    "duration": 4,
    "start_time": "2023-03-30T09:36:45.307Z"
   },
   {
    "duration": 315,
    "start_time": "2023-03-30T09:36:45.313Z"
   },
   {
    "duration": 19,
    "start_time": "2023-03-30T09:36:45.631Z"
   },
   {
    "duration": 57,
    "start_time": "2023-03-30T09:36:45.653Z"
   },
   {
    "duration": 341,
    "start_time": "2023-03-30T09:36:45.711Z"
   },
   {
    "duration": 148,
    "start_time": "2023-03-30T09:36:46.054Z"
   },
   {
    "duration": 35,
    "start_time": "2023-03-30T09:36:46.204Z"
   },
   {
    "duration": 245,
    "start_time": "2023-03-30T09:36:46.240Z"
   },
   {
    "duration": 243,
    "start_time": "2023-03-30T09:36:46.492Z"
   },
   {
    "duration": 242,
    "start_time": "2023-03-30T09:36:46.738Z"
   },
   {
    "duration": 30,
    "start_time": "2023-03-30T09:36:46.982Z"
   },
   {
    "duration": 175,
    "start_time": "2023-03-30T09:36:47.014Z"
   },
   {
    "duration": 171,
    "start_time": "2023-03-30T09:36:47.194Z"
   },
   {
    "duration": 273,
    "start_time": "2023-03-30T09:36:47.368Z"
   },
   {
    "duration": 37,
    "start_time": "2023-03-30T09:36:47.643Z"
   },
   {
    "duration": 216,
    "start_time": "2023-03-30T09:36:47.683Z"
   },
   {
    "duration": 151,
    "start_time": "2023-03-30T09:36:47.901Z"
   },
   {
    "duration": 18,
    "start_time": "2023-03-30T09:36:48.054Z"
   },
   {
    "duration": 38,
    "start_time": "2023-03-30T09:36:48.073Z"
   },
   {
    "duration": 2,
    "start_time": "2023-03-30T09:36:48.112Z"
   },
   {
    "duration": 667,
    "start_time": "2023-03-30T09:36:48.116Z"
   },
   {
    "duration": 465,
    "start_time": "2023-03-30T09:36:48.790Z"
   },
   {
    "duration": 7,
    "start_time": "2023-03-30T09:36:49.256Z"
   },
   {
    "duration": 178,
    "start_time": "2023-03-30T09:36:49.268Z"
   },
   {
    "duration": 0,
    "start_time": "2023-03-30T09:36:49.448Z"
   },
   {
    "duration": 0,
    "start_time": "2023-03-30T09:36:49.448Z"
   },
   {
    "duration": 0,
    "start_time": "2023-03-30T09:36:49.450Z"
   },
   {
    "duration": 0,
    "start_time": "2023-03-30T09:36:49.451Z"
   },
   {
    "duration": 0,
    "start_time": "2023-03-30T09:36:49.452Z"
   },
   {
    "duration": 0,
    "start_time": "2023-03-30T09:36:49.454Z"
   },
   {
    "duration": 0,
    "start_time": "2023-03-30T09:36:49.469Z"
   },
   {
    "duration": 0,
    "start_time": "2023-03-30T09:36:49.470Z"
   },
   {
    "duration": 0,
    "start_time": "2023-03-30T09:36:49.471Z"
   },
   {
    "duration": 87,
    "start_time": "2023-03-30T09:37:23.058Z"
   },
   {
    "duration": 56,
    "start_time": "2023-03-30T09:38:08.828Z"
   },
   {
    "duration": 63,
    "start_time": "2023-03-30T09:38:23.885Z"
   },
   {
    "duration": 659,
    "start_time": "2023-03-30T09:38:53.696Z"
   },
   {
    "duration": 46,
    "start_time": "2023-03-30T09:38:58.771Z"
   },
   {
    "duration": 184,
    "start_time": "2023-03-30T09:39:00.837Z"
   },
   {
    "duration": 411,
    "start_time": "2023-03-30T09:39:03.199Z"
   },
   {
    "duration": 436,
    "start_time": "2023-03-30T09:39:18.501Z"
   },
   {
    "duration": 3,
    "start_time": "2023-03-30T09:39:33.262Z"
   },
   {
    "duration": 3,
    "start_time": "2023-03-30T09:39:35.623Z"
   },
   {
    "duration": 130258,
    "start_time": "2023-03-30T09:39:37.417Z"
   },
   {
    "duration": 17851,
    "start_time": "2023-03-30T09:42:06.156Z"
   },
   {
    "duration": 11,
    "start_time": "2023-03-30T09:42:41.766Z"
   },
   {
    "duration": 9,
    "start_time": "2023-03-30T09:45:51.995Z"
   },
   {
    "duration": 23,
    "start_time": "2023-03-30T09:47:17.843Z"
   },
   {
    "duration": 15,
    "start_time": "2023-03-30T09:47:20.387Z"
   },
   {
    "duration": 9,
    "start_time": "2023-03-30T09:47:28.023Z"
   },
   {
    "duration": 9,
    "start_time": "2023-03-30T09:47:36.335Z"
   },
   {
    "duration": 5,
    "start_time": "2023-03-30T09:49:18.787Z"
   },
   {
    "duration": 4,
    "start_time": "2023-03-30T09:49:21.784Z"
   },
   {
    "duration": 9,
    "start_time": "2023-03-30T09:49:31.382Z"
   },
   {
    "duration": 9,
    "start_time": "2023-03-30T09:49:47.945Z"
   },
   {
    "duration": 25046,
    "start_time": "2023-03-30T09:49:54.445Z"
   },
   {
    "duration": 0,
    "start_time": "2023-03-30T09:50:19.493Z"
   },
   {
    "duration": 4,
    "start_time": "2023-03-30T09:50:26.684Z"
   },
   {
    "duration": 98568,
    "start_time": "2023-03-30T09:50:32.213Z"
   },
   {
    "duration": 9,
    "start_time": "2023-03-30T09:54:15.151Z"
   },
   {
    "duration": 8,
    "start_time": "2023-03-30T09:54:24.912Z"
   },
   {
    "duration": 111432,
    "start_time": "2023-03-30T10:00:23.153Z"
   },
   {
    "duration": 13,
    "start_time": "2023-03-30T10:02:22.032Z"
   },
   {
    "duration": 12,
    "start_time": "2023-03-30T10:07:20.604Z"
   },
   {
    "duration": 14,
    "start_time": "2023-03-30T10:07:45.963Z"
   },
   {
    "duration": 323,
    "start_time": "2023-03-30T10:08:44.763Z"
   },
   {
    "duration": 9,
    "start_time": "2023-03-30T10:08:48.919Z"
   },
   {
    "duration": 4,
    "start_time": "2023-03-30T10:09:00.444Z"
   },
   {
    "duration": 5,
    "start_time": "2023-03-30T10:09:12.219Z"
   },
   {
    "duration": 1928,
    "start_time": "2023-03-30T10:16:20.692Z"
   },
   {
    "duration": 1764,
    "start_time": "2023-03-30T10:16:58.476Z"
   },
   {
    "duration": 1444,
    "start_time": "2023-03-30T12:50:57.167Z"
   },
   {
    "duration": 3270,
    "start_time": "2023-03-30T12:50:58.612Z"
   },
   {
    "duration": 134,
    "start_time": "2023-03-30T12:51:01.884Z"
   },
   {
    "duration": 120,
    "start_time": "2023-03-30T12:51:02.020Z"
   },
   {
    "duration": 122,
    "start_time": "2023-03-30T12:51:02.142Z"
   },
   {
    "duration": 70,
    "start_time": "2023-03-30T12:51:02.266Z"
   },
   {
    "duration": 80,
    "start_time": "2023-03-30T12:51:02.338Z"
   },
   {
    "duration": 282,
    "start_time": "2023-03-30T12:51:02.420Z"
   },
   {
    "duration": 23,
    "start_time": "2023-03-30T12:51:02.703Z"
   },
   {
    "duration": 12,
    "start_time": "2023-03-30T12:51:11.964Z"
   },
   {
    "duration": 13,
    "start_time": "2023-03-30T12:51:33.549Z"
   },
   {
    "duration": 715,
    "start_time": "2023-03-30T12:51:33.566Z"
   },
   {
    "duration": 111,
    "start_time": "2023-03-30T12:51:34.282Z"
   },
   {
    "duration": 114,
    "start_time": "2023-03-30T12:51:34.395Z"
   },
   {
    "duration": 116,
    "start_time": "2023-03-30T12:51:34.512Z"
   },
   {
    "duration": 37,
    "start_time": "2023-03-30T12:51:34.630Z"
   },
   {
    "duration": 9,
    "start_time": "2023-03-30T12:51:34.669Z"
   },
   {
    "duration": 240,
    "start_time": "2023-03-30T12:51:34.681Z"
   },
   {
    "duration": 13,
    "start_time": "2023-03-30T12:51:34.922Z"
   },
   {
    "duration": 29,
    "start_time": "2023-03-30T12:51:34.937Z"
   },
   {
    "duration": 167,
    "start_time": "2023-03-30T12:51:34.968Z"
   },
   {
    "duration": 201,
    "start_time": "2023-03-30T12:51:35.137Z"
   },
   {
    "duration": 17,
    "start_time": "2023-03-30T12:51:35.340Z"
   },
   {
    "duration": 129,
    "start_time": "2023-03-30T12:51:35.360Z"
   },
   {
    "duration": 103,
    "start_time": "2023-03-30T12:51:35.491Z"
   },
   {
    "duration": 119,
    "start_time": "2023-03-30T12:51:35.596Z"
   },
   {
    "duration": 6,
    "start_time": "2023-03-30T12:51:35.716Z"
   },
   {
    "duration": 142,
    "start_time": "2023-03-30T12:51:35.723Z"
   },
   {
    "duration": 118,
    "start_time": "2023-03-30T12:51:35.867Z"
   },
   {
    "duration": 126,
    "start_time": "2023-03-30T12:51:35.986Z"
   },
   {
    "duration": 6,
    "start_time": "2023-03-30T12:51:36.114Z"
   },
   {
    "duration": 111,
    "start_time": "2023-03-30T12:51:36.121Z"
   },
   {
    "duration": 138,
    "start_time": "2023-03-30T12:51:36.233Z"
   },
   {
    "duration": 5,
    "start_time": "2023-03-30T12:51:36.373Z"
   },
   {
    "duration": 21,
    "start_time": "2023-03-30T12:51:36.379Z"
   },
   {
    "duration": 2,
    "start_time": "2023-03-30T13:07:35.728Z"
   },
   {
    "duration": 106,
    "start_time": "2023-03-30T13:07:37.869Z"
   },
   {
    "duration": 4,
    "start_time": "2023-03-30T13:07:57.228Z"
   },
   {
    "duration": 9,
    "start_time": "2023-03-30T13:08:02.689Z"
   },
   {
    "duration": 6,
    "start_time": "2023-03-30T13:08:59.728Z"
   },
   {
    "duration": 5,
    "start_time": "2023-03-30T13:09:14.189Z"
   },
   {
    "duration": 9,
    "start_time": "2023-03-30T13:09:19.150Z"
   },
   {
    "duration": 853,
    "start_time": "2023-03-30T13:09:19.162Z"
   },
   {
    "duration": 124,
    "start_time": "2023-03-30T13:09:20.016Z"
   },
   {
    "duration": 128,
    "start_time": "2023-03-30T13:09:20.152Z"
   },
   {
    "duration": 122,
    "start_time": "2023-03-30T13:09:20.283Z"
   },
   {
    "duration": 29,
    "start_time": "2023-03-30T13:09:20.407Z"
   },
   {
    "duration": 26,
    "start_time": "2023-03-30T13:09:20.438Z"
   },
   {
    "duration": 304,
    "start_time": "2023-03-30T13:09:20.466Z"
   },
   {
    "duration": 16,
    "start_time": "2023-03-30T13:09:20.772Z"
   },
   {
    "duration": 34,
    "start_time": "2023-03-30T13:09:26.228Z"
   },
   {
    "duration": 3,
    "start_time": "2023-03-30T13:09:40.508Z"
   },
   {
    "duration": 750,
    "start_time": "2023-03-30T13:09:40.513Z"
   },
   {
    "duration": 108,
    "start_time": "2023-03-30T13:09:41.265Z"
   },
   {
    "duration": 106,
    "start_time": "2023-03-30T13:09:41.375Z"
   },
   {
    "duration": 98,
    "start_time": "2023-03-30T13:09:41.483Z"
   },
   {
    "duration": 18,
    "start_time": "2023-03-30T13:09:41.583Z"
   },
   {
    "duration": 3,
    "start_time": "2023-03-30T13:09:41.602Z"
   },
   {
    "duration": 304,
    "start_time": "2023-03-30T13:09:41.606Z"
   },
   {
    "duration": 13,
    "start_time": "2023-03-30T13:09:41.911Z"
   },
   {
    "duration": 45,
    "start_time": "2023-03-30T13:09:41.926Z"
   },
   {
    "duration": 234,
    "start_time": "2023-03-30T13:09:41.973Z"
   },
   {
    "duration": 124,
    "start_time": "2023-03-30T13:09:42.208Z"
   },
   {
    "duration": 31,
    "start_time": "2023-03-30T13:09:42.335Z"
   },
   {
    "duration": 132,
    "start_time": "2023-03-30T13:09:42.368Z"
   },
   {
    "duration": 186,
    "start_time": "2023-03-30T13:09:42.502Z"
   },
   {
    "duration": 136,
    "start_time": "2023-03-30T13:09:42.689Z"
   },
   {
    "duration": 40,
    "start_time": "2023-03-30T13:09:42.827Z"
   },
   {
    "duration": 122,
    "start_time": "2023-03-30T13:09:42.869Z"
   },
   {
    "duration": 176,
    "start_time": "2023-03-30T13:09:42.992Z"
   },
   {
    "duration": 199,
    "start_time": "2023-03-30T13:09:43.169Z"
   },
   {
    "duration": 23,
    "start_time": "2023-03-30T13:09:43.369Z"
   },
   {
    "duration": 182,
    "start_time": "2023-03-30T13:09:43.393Z"
   },
   {
    "duration": 206,
    "start_time": "2023-03-30T13:09:43.577Z"
   },
   {
    "duration": 6,
    "start_time": "2023-03-30T13:09:43.784Z"
   },
   {
    "duration": 29,
    "start_time": "2023-03-30T13:09:43.792Z"
   },
   {
    "duration": 2,
    "start_time": "2023-03-30T13:09:43.823Z"
   },
   {
    "duration": 43,
    "start_time": "2023-03-30T13:09:43.827Z"
   },
   {
    "duration": 92,
    "start_time": "2023-03-30T13:09:43.871Z"
   },
   {
    "duration": 359,
    "start_time": "2023-03-30T13:24:26.196Z"
   },
   {
    "duration": 4,
    "start_time": "2023-03-30T13:25:13.905Z"
   },
   {
    "duration": 753,
    "start_time": "2023-03-30T13:25:13.920Z"
   },
   {
    "duration": 190,
    "start_time": "2023-03-30T13:25:14.676Z"
   },
   {
    "duration": 205,
    "start_time": "2023-03-30T13:25:14.869Z"
   },
   {
    "duration": 155,
    "start_time": "2023-03-30T13:25:15.077Z"
   },
   {
    "duration": 24,
    "start_time": "2023-03-30T13:25:15.235Z"
   },
   {
    "duration": 3,
    "start_time": "2023-03-30T13:25:15.261Z"
   },
   {
    "duration": 258,
    "start_time": "2023-03-30T13:25:15.266Z"
   },
   {
    "duration": 24,
    "start_time": "2023-03-30T13:25:15.526Z"
   },
   {
    "duration": 33,
    "start_time": "2023-03-30T13:25:15.552Z"
   },
   {
    "duration": 232,
    "start_time": "2023-03-30T13:25:15.587Z"
   },
   {
    "duration": 119,
    "start_time": "2023-03-30T13:25:15.821Z"
   },
   {
    "duration": 29,
    "start_time": "2023-03-30T13:25:15.942Z"
   },
   {
    "duration": 134,
    "start_time": "2023-03-30T13:25:15.973Z"
   },
   {
    "duration": 199,
    "start_time": "2023-03-30T13:25:16.109Z"
   },
   {
    "duration": 196,
    "start_time": "2023-03-30T13:25:16.309Z"
   },
   {
    "duration": 43,
    "start_time": "2023-03-30T13:25:16.507Z"
   },
   {
    "duration": 188,
    "start_time": "2023-03-30T13:25:16.552Z"
   },
   {
    "duration": 203,
    "start_time": "2023-03-30T13:25:16.742Z"
   },
   {
    "duration": 331,
    "start_time": "2023-03-30T13:25:16.947Z"
   },
   {
    "duration": 29,
    "start_time": "2023-03-30T13:25:17.281Z"
   },
   {
    "duration": 193,
    "start_time": "2023-03-30T13:25:17.312Z"
   },
   {
    "duration": 142,
    "start_time": "2023-03-30T13:25:17.507Z"
   },
   {
    "duration": 8,
    "start_time": "2023-03-30T13:25:17.650Z"
   },
   {
    "duration": 38,
    "start_time": "2023-03-30T13:25:17.659Z"
   },
   {
    "duration": 3,
    "start_time": "2023-03-30T13:25:17.699Z"
   },
   {
    "duration": 21,
    "start_time": "2023-03-30T13:25:17.703Z"
   },
   {
    "duration": 87,
    "start_time": "2023-03-30T13:25:17.726Z"
   },
   {
    "duration": 405,
    "start_time": "2023-03-30T13:25:21.207Z"
   },
   {
    "duration": 366,
    "start_time": "2023-03-30T13:34:36.610Z"
   },
   {
    "duration": 335,
    "start_time": "2023-03-30T13:34:54.200Z"
   },
   {
    "duration": 615,
    "start_time": "2023-03-30T13:35:32.951Z"
   },
   {
    "duration": 832,
    "start_time": "2023-03-30T13:35:39.570Z"
   },
   {
    "duration": 28,
    "start_time": "2023-03-30T13:35:49.450Z"
   },
   {
    "duration": 628,
    "start_time": "2023-03-30T13:37:04.370Z"
   },
   {
    "duration": 5,
    "start_time": "2023-03-30T13:37:22.667Z"
   },
   {
    "duration": 891,
    "start_time": "2023-03-30T13:37:22.674Z"
   },
   {
    "duration": 123,
    "start_time": "2023-03-30T13:37:23.566Z"
   },
   {
    "duration": 127,
    "start_time": "2023-03-30T13:37:23.691Z"
   },
   {
    "duration": 105,
    "start_time": "2023-03-30T13:37:23.821Z"
   },
   {
    "duration": 28,
    "start_time": "2023-03-30T13:37:23.928Z"
   },
   {
    "duration": 25,
    "start_time": "2023-03-30T13:37:23.958Z"
   },
   {
    "duration": 262,
    "start_time": "2023-03-30T13:37:23.985Z"
   },
   {
    "duration": 17,
    "start_time": "2023-03-30T13:37:24.249Z"
   },
   {
    "duration": 45,
    "start_time": "2023-03-30T13:37:24.268Z"
   },
   {
    "duration": 323,
    "start_time": "2023-03-30T13:37:24.315Z"
   },
   {
    "duration": 208,
    "start_time": "2023-03-30T13:37:24.641Z"
   },
   {
    "duration": 30,
    "start_time": "2023-03-30T13:37:24.851Z"
   },
   {
    "duration": 227,
    "start_time": "2023-03-30T13:37:24.885Z"
   },
   {
    "duration": 224,
    "start_time": "2023-03-30T13:37:25.114Z"
   },
   {
    "duration": 161,
    "start_time": "2023-03-30T13:37:25.340Z"
   },
   {
    "duration": 22,
    "start_time": "2023-03-30T13:37:25.503Z"
   },
   {
    "duration": 166,
    "start_time": "2023-03-30T13:37:25.528Z"
   },
   {
    "duration": 159,
    "start_time": "2023-03-30T13:37:25.696Z"
   },
   {
    "duration": 238,
    "start_time": "2023-03-30T13:37:25.857Z"
   },
   {
    "duration": 36,
    "start_time": "2023-03-30T13:37:26.096Z"
   },
   {
    "duration": 216,
    "start_time": "2023-03-30T13:37:26.148Z"
   },
   {
    "duration": 150,
    "start_time": "2023-03-30T13:37:26.367Z"
   },
   {
    "duration": 9,
    "start_time": "2023-03-30T13:37:26.519Z"
   },
   {
    "duration": 69,
    "start_time": "2023-03-30T13:37:26.530Z"
   },
   {
    "duration": 3,
    "start_time": "2023-03-30T13:37:26.601Z"
   },
   {
    "duration": 26,
    "start_time": "2023-03-30T13:37:26.605Z"
   },
   {
    "duration": 86,
    "start_time": "2023-03-30T13:37:26.633Z"
   },
   {
    "duration": 413,
    "start_time": "2023-03-30T13:37:26.721Z"
   },
   {
    "duration": 0,
    "start_time": "2023-03-30T13:37:27.136Z"
   },
   {
    "duration": 0,
    "start_time": "2023-03-30T13:37:27.138Z"
   },
   {
    "duration": 0,
    "start_time": "2023-03-30T13:37:27.149Z"
   },
   {
    "duration": 0,
    "start_time": "2023-03-30T13:37:27.150Z"
   },
   {
    "duration": 0,
    "start_time": "2023-03-30T13:37:27.152Z"
   },
   {
    "duration": 0,
    "start_time": "2023-03-30T13:37:27.153Z"
   },
   {
    "duration": 0,
    "start_time": "2023-03-30T13:37:27.154Z"
   },
   {
    "duration": 0,
    "start_time": "2023-03-30T13:37:27.155Z"
   },
   {
    "duration": 105,
    "start_time": "2023-03-30T13:40:27.250Z"
   },
   {
    "duration": 119,
    "start_time": "2023-03-30T13:43:28.590Z"
   },
   {
    "duration": 115,
    "start_time": "2023-03-30T13:46:23.015Z"
   },
   {
    "duration": 15,
    "start_time": "2023-03-30T13:52:36.917Z"
   },
   {
    "duration": 650,
    "start_time": "2023-03-30T13:53:19.832Z"
   },
   {
    "duration": 1218,
    "start_time": "2023-03-30T13:53:45.405Z"
   },
   {
    "duration": 1257,
    "start_time": "2023-03-30T13:54:23.650Z"
   },
   {
    "duration": 4,
    "start_time": "2023-03-30T13:54:28.851Z"
   },
   {
    "duration": 658,
    "start_time": "2023-03-30T13:54:28.857Z"
   },
   {
    "duration": 104,
    "start_time": "2023-03-30T13:54:29.516Z"
   },
   {
    "duration": 106,
    "start_time": "2023-03-30T13:54:29.622Z"
   },
   {
    "duration": 123,
    "start_time": "2023-03-30T13:54:29.730Z"
   },
   {
    "duration": 21,
    "start_time": "2023-03-30T13:54:29.856Z"
   },
   {
    "duration": 4,
    "start_time": "2023-03-30T13:54:29.878Z"
   },
   {
    "duration": 227,
    "start_time": "2023-03-30T13:54:29.884Z"
   },
   {
    "duration": 13,
    "start_time": "2023-03-30T13:54:30.113Z"
   },
   {
    "duration": 42,
    "start_time": "2023-03-30T13:54:30.127Z"
   },
   {
    "duration": 345,
    "start_time": "2023-03-30T13:54:30.170Z"
   },
   {
    "duration": 135,
    "start_time": "2023-03-30T13:54:30.516Z"
   },
   {
    "duration": 22,
    "start_time": "2023-03-30T13:54:30.652Z"
   },
   {
    "duration": 136,
    "start_time": "2023-03-30T13:54:30.677Z"
   },
   {
    "duration": 169,
    "start_time": "2023-03-30T13:54:30.815Z"
   },
   {
    "duration": 149,
    "start_time": "2023-03-30T13:54:30.985Z"
   },
   {
    "duration": 25,
    "start_time": "2023-03-30T13:54:31.136Z"
   },
   {
    "duration": 129,
    "start_time": "2023-03-30T13:54:31.162Z"
   },
   {
    "duration": 143,
    "start_time": "2023-03-30T13:54:31.292Z"
   },
   {
    "duration": 215,
    "start_time": "2023-03-30T13:54:31.436Z"
   },
   {
    "duration": 25,
    "start_time": "2023-03-30T13:54:31.652Z"
   },
   {
    "duration": 172,
    "start_time": "2023-03-30T13:54:31.678Z"
   },
   {
    "duration": 123,
    "start_time": "2023-03-30T13:54:31.851Z"
   },
   {
    "duration": 6,
    "start_time": "2023-03-30T13:54:31.976Z"
   },
   {
    "duration": 48,
    "start_time": "2023-03-30T13:54:31.984Z"
   },
   {
    "duration": 3,
    "start_time": "2023-03-30T13:54:32.034Z"
   },
   {
    "duration": 18,
    "start_time": "2023-03-30T13:54:32.038Z"
   },
   {
    "duration": 1228,
    "start_time": "2023-03-30T13:54:50.170Z"
   },
   {
    "duration": 787,
    "start_time": "2023-03-30T13:56:14.813Z"
   },
   {
    "duration": 33,
    "start_time": "2023-03-30T13:56:23.338Z"
   },
   {
    "duration": 5,
    "start_time": "2023-03-30T13:56:52.027Z"
   },
   {
    "duration": 673,
    "start_time": "2023-03-30T13:56:52.048Z"
   },
   {
    "duration": 109,
    "start_time": "2023-03-30T13:56:52.723Z"
   },
   {
    "duration": 189,
    "start_time": "2023-03-30T13:56:52.834Z"
   },
   {
    "duration": 106,
    "start_time": "2023-03-30T13:56:53.025Z"
   },
   {
    "duration": 21,
    "start_time": "2023-03-30T13:56:53.133Z"
   },
   {
    "duration": 3,
    "start_time": "2023-03-30T13:56:53.156Z"
   },
   {
    "duration": 216,
    "start_time": "2023-03-30T13:56:53.160Z"
   },
   {
    "duration": 14,
    "start_time": "2023-03-30T13:56:53.378Z"
   },
   {
    "duration": 27,
    "start_time": "2023-03-30T13:56:53.393Z"
   },
   {
    "duration": 250,
    "start_time": "2023-03-30T13:56:53.421Z"
   },
   {
    "duration": 122,
    "start_time": "2023-03-30T13:56:53.673Z"
   },
   {
    "duration": 21,
    "start_time": "2023-03-30T13:56:53.797Z"
   },
   {
    "duration": 138,
    "start_time": "2023-03-30T13:56:53.820Z"
   },
   {
    "duration": 200,
    "start_time": "2023-03-30T13:56:53.961Z"
   },
   {
    "duration": 151,
    "start_time": "2023-03-30T13:56:54.163Z"
   },
   {
    "duration": 33,
    "start_time": "2023-03-30T13:56:54.316Z"
   },
   {
    "duration": 337,
    "start_time": "2023-03-30T13:56:54.351Z"
   },
   {
    "duration": 182,
    "start_time": "2023-03-30T13:56:54.690Z"
   },
   {
    "duration": 238,
    "start_time": "2023-03-30T13:56:54.874Z"
   },
   {
    "duration": 26,
    "start_time": "2023-03-30T13:56:55.113Z"
   },
   {
    "duration": 158,
    "start_time": "2023-03-30T13:56:55.152Z"
   },
   {
    "duration": 123,
    "start_time": "2023-03-30T13:56:55.311Z"
   },
   {
    "duration": 15,
    "start_time": "2023-03-30T13:56:55.436Z"
   },
   {
    "duration": 27,
    "start_time": "2023-03-30T13:56:55.452Z"
   },
   {
    "duration": 3,
    "start_time": "2023-03-30T13:56:55.480Z"
   },
   {
    "duration": 18,
    "start_time": "2023-03-30T13:56:55.484Z"
   },
   {
    "duration": 829,
    "start_time": "2023-03-30T13:56:55.504Z"
   },
   {
    "duration": 53,
    "start_time": "2023-03-30T13:57:05.253Z"
   },
   {
    "duration": 17235,
    "start_time": "2023-03-30T13:57:26.248Z"
   },
   {
    "duration": 5,
    "start_time": "2023-03-30T13:57:53.100Z"
   },
   {
    "duration": 6,
    "start_time": "2023-03-30T14:00:10.051Z"
   },
   {
    "duration": 59,
    "start_time": "2023-03-30T14:01:39.091Z"
   },
   {
    "duration": 13,
    "start_time": "2023-03-30T14:01:50.090Z"
   },
   {
    "duration": 62,
    "start_time": "2023-03-30T14:01:52.129Z"
   },
   {
    "duration": 3,
    "start_time": "2023-03-30T14:01:58.229Z"
   },
   {
    "duration": 189,
    "start_time": "2023-03-30T14:02:00.050Z"
   },
   {
    "duration": 3,
    "start_time": "2023-03-30T14:02:18.110Z"
   },
   {
    "duration": 168,
    "start_time": "2023-03-30T14:02:36.290Z"
   },
   {
    "duration": 150,
    "start_time": "2023-03-30T14:03:37.654Z"
   },
   {
    "duration": 3,
    "start_time": "2023-03-30T14:03:56.990Z"
   },
   {
    "duration": 1347,
    "start_time": "2023-03-30T14:04:24.290Z"
   },
   {
    "duration": 743,
    "start_time": "2023-03-30T14:04:25.639Z"
   },
   {
    "duration": 105,
    "start_time": "2023-03-30T14:04:26.383Z"
   },
   {
    "duration": 103,
    "start_time": "2023-03-30T14:04:26.490Z"
   },
   {
    "duration": 119,
    "start_time": "2023-03-30T14:04:26.594Z"
   },
   {
    "duration": 35,
    "start_time": "2023-03-30T14:04:26.714Z"
   },
   {
    "duration": 14,
    "start_time": "2023-03-30T14:04:26.750Z"
   },
   {
    "duration": 226,
    "start_time": "2023-03-30T14:04:26.765Z"
   },
   {
    "duration": 15,
    "start_time": "2023-03-30T14:04:26.992Z"
   },
   {
    "duration": 45,
    "start_time": "2023-03-30T14:04:27.009Z"
   },
   {
    "duration": 226,
    "start_time": "2023-03-30T14:04:27.056Z"
   },
   {
    "duration": 124,
    "start_time": "2023-03-30T14:04:27.283Z"
   },
   {
    "duration": 40,
    "start_time": "2023-03-30T14:04:27.409Z"
   },
   {
    "duration": 188,
    "start_time": "2023-03-30T14:04:27.450Z"
   },
   {
    "duration": 168,
    "start_time": "2023-03-30T14:04:27.648Z"
   },
   {
    "duration": 141,
    "start_time": "2023-03-30T14:04:27.818Z"
   },
   {
    "duration": 26,
    "start_time": "2023-03-30T14:04:27.960Z"
   },
   {
    "duration": 135,
    "start_time": "2023-03-30T14:04:27.988Z"
   },
   {
    "duration": 148,
    "start_time": "2023-03-30T14:04:28.125Z"
   },
   {
    "duration": 205,
    "start_time": "2023-03-30T14:04:28.274Z"
   },
   {
    "duration": 23,
    "start_time": "2023-03-30T14:04:28.481Z"
   },
   {
    "duration": 177,
    "start_time": "2023-03-30T14:04:28.505Z"
   },
   {
    "duration": 126,
    "start_time": "2023-03-30T14:04:28.683Z"
   },
   {
    "duration": 6,
    "start_time": "2023-03-30T14:04:28.811Z"
   },
   {
    "duration": 44,
    "start_time": "2023-03-30T14:04:28.819Z"
   },
   {
    "duration": 2,
    "start_time": "2023-03-30T14:04:28.864Z"
   },
   {
    "duration": 35,
    "start_time": "2023-03-30T14:04:28.868Z"
   },
   {
    "duration": 810,
    "start_time": "2023-03-30T14:04:28.906Z"
   },
   {
    "duration": 64,
    "start_time": "2023-03-30T14:04:29.719Z"
   },
   {
    "duration": 459,
    "start_time": "2023-03-30T14:04:29.785Z"
   },
   {
    "duration": 33,
    "start_time": "2023-03-30T14:04:30.245Z"
   },
   {
    "duration": 145,
    "start_time": "2023-03-30T14:04:30.279Z"
   },
   {
    "duration": 278,
    "start_time": "2023-03-30T14:04:30.426Z"
   },
   {
    "duration": 2,
    "start_time": "2023-03-30T14:04:30.706Z"
   },
   {
    "duration": 33,
    "start_time": "2023-03-30T14:04:30.710Z"
   },
   {
    "duration": 61807,
    "start_time": "2023-03-30T14:04:30.745Z"
   },
   {
    "duration": 5,
    "start_time": "2023-03-30T14:05:32.554Z"
   },
   {
    "duration": 3,
    "start_time": "2023-03-30T14:06:30.832Z"
   },
   {
    "duration": 18693,
    "start_time": "2023-03-30T14:07:04.991Z"
   },
   {
    "duration": 5,
    "start_time": "2023-03-30T14:07:30.292Z"
   },
   {
    "duration": 5,
    "start_time": "2023-03-30T14:07:53.693Z"
   },
   {
    "duration": 22,
    "start_time": "2023-03-30T14:08:14.535Z"
   },
   {
    "duration": 3,
    "start_time": "2023-03-30T14:08:16.583Z"
   },
   {
    "duration": 4,
    "start_time": "2023-03-30T14:08:18.551Z"
   },
   {
    "duration": 332426,
    "start_time": "2023-03-30T14:08:21.630Z"
   },
   {
    "duration": 3,
    "start_time": "2023-03-30T14:15:42.890Z"
   },
   {
    "duration": 363631,
    "start_time": "2023-03-30T14:16:51.520Z"
   },
   {
    "duration": 375,
    "start_time": "2023-03-30T14:23:05.694Z"
   },
   {
    "duration": 431,
    "start_time": "2023-03-30T14:23:19.829Z"
   },
   {
    "duration": 3,
    "start_time": "2023-03-30T14:23:32.744Z"
   },
   {
    "duration": 411,
    "start_time": "2023-03-30T14:23:37.340Z"
   },
   {
    "duration": 5,
    "start_time": "2023-03-30T14:24:37.010Z"
   },
   {
    "duration": 1720,
    "start_time": "2023-03-30T14:31:37.809Z"
   },
   {
    "duration": 3,
    "start_time": "2023-03-30T14:32:01.891Z"
   },
   {
    "duration": 1718,
    "start_time": "2023-03-30T14:32:18.830Z"
   },
   {
    "duration": 59,
    "start_time": "2023-03-30T14:32:23.972Z"
   },
   {
    "duration": 59,
    "start_time": "2023-03-30T14:32:35.190Z"
   },
   {
    "duration": 47,
    "start_time": "2023-03-30T14:33:34.889Z"
   },
   {
    "duration": 73,
    "start_time": "2023-03-30T14:34:42.329Z"
   },
   {
    "duration": 51,
    "start_time": "2023-03-30T14:35:12.880Z"
   },
   {
    "duration": 1952,
    "start_time": "2023-03-31T06:29:53.689Z"
   },
   {
    "duration": 1467,
    "start_time": "2023-03-31T06:29:55.643Z"
   },
   {
    "duration": 210,
    "start_time": "2023-03-31T06:29:57.111Z"
   },
   {
    "duration": 213,
    "start_time": "2023-03-31T06:29:57.324Z"
   },
   {
    "duration": 164,
    "start_time": "2023-03-31T06:29:57.539Z"
   },
   {
    "duration": 30,
    "start_time": "2023-03-31T06:29:57.705Z"
   },
   {
    "duration": 4,
    "start_time": "2023-03-31T06:29:57.737Z"
   },
   {
    "duration": 375,
    "start_time": "2023-03-31T06:29:57.743Z"
   },
   {
    "duration": 20,
    "start_time": "2023-03-31T06:29:58.121Z"
   },
   {
    "duration": 74,
    "start_time": "2023-03-31T06:29:58.143Z"
   },
   {
    "duration": 340,
    "start_time": "2023-03-31T06:29:58.219Z"
   },
   {
    "duration": 187,
    "start_time": "2023-03-31T06:29:58.565Z"
   },
   {
    "duration": 68,
    "start_time": "2023-03-31T06:29:58.754Z"
   },
   {
    "duration": 296,
    "start_time": "2023-03-31T06:29:58.825Z"
   },
   {
    "duration": 271,
    "start_time": "2023-03-31T06:29:59.124Z"
   },
   {
    "duration": 192,
    "start_time": "2023-03-31T06:29:59.403Z"
   },
   {
    "duration": 28,
    "start_time": "2023-03-31T06:29:59.599Z"
   },
   {
    "duration": 193,
    "start_time": "2023-03-31T06:29:59.629Z"
   },
   {
    "duration": 194,
    "start_time": "2023-03-31T06:29:59.824Z"
   },
   {
    "duration": 309,
    "start_time": "2023-03-31T06:30:00.020Z"
   },
   {
    "duration": 53,
    "start_time": "2023-03-31T06:30:00.331Z"
   },
   {
    "duration": 250,
    "start_time": "2023-03-31T06:30:00.394Z"
   },
   {
    "duration": 192,
    "start_time": "2023-03-31T06:30:00.645Z"
   },
   {
    "duration": 7,
    "start_time": "2023-03-31T06:30:00.839Z"
   },
   {
    "duration": 69,
    "start_time": "2023-03-31T06:30:00.848Z"
   },
   {
    "duration": 4,
    "start_time": "2023-03-31T06:49:39.218Z"
   },
   {
    "duration": 15,
    "start_time": "2023-03-31T06:49:41.338Z"
   },
   {
    "duration": 22,
    "start_time": "2023-03-31T06:50:22.358Z"
   },
   {
    "duration": 116,
    "start_time": "2023-03-31T06:50:24.259Z"
   },
   {
    "duration": 130,
    "start_time": "2023-03-31T06:54:42.183Z"
   },
   {
    "duration": 9,
    "start_time": "2023-03-31T06:55:10.998Z"
   },
   {
    "duration": 17,
    "start_time": "2023-03-31T06:55:22.518Z"
   },
   {
    "duration": 18,
    "start_time": "2023-03-31T06:55:44.399Z"
   },
   {
    "duration": 19,
    "start_time": "2023-03-31T06:56:10.018Z"
   },
   {
    "duration": 318,
    "start_time": "2023-03-31T06:57:49.418Z"
   },
   {
    "duration": 15,
    "start_time": "2023-03-31T06:58:53.976Z"
   },
   {
    "duration": 418,
    "start_time": "2023-03-31T06:58:56.897Z"
   },
   {
    "duration": 12,
    "start_time": "2023-03-31T06:59:20.298Z"
   },
   {
    "duration": 450,
    "start_time": "2023-03-31T06:59:26.158Z"
   },
   {
    "duration": 76,
    "start_time": "2023-03-31T07:00:22.718Z"
   },
   {
    "duration": 370,
    "start_time": "2023-03-31T07:01:01.887Z"
   },
   {
    "duration": 368,
    "start_time": "2023-03-31T07:01:19.910Z"
   },
   {
    "duration": 89,
    "start_time": "2023-03-31T07:01:47.318Z"
   },
   {
    "duration": 11,
    "start_time": "2023-03-31T07:02:49.960Z"
   },
   {
    "duration": 81,
    "start_time": "2023-03-31T07:08:35.660Z"
   },
   {
    "duration": 83,
    "start_time": "2023-03-31T07:08:38.777Z"
   },
   {
    "duration": 82,
    "start_time": "2023-03-31T07:08:46.358Z"
   },
   {
    "duration": 91,
    "start_time": "2023-03-31T07:08:57.517Z"
   },
   {
    "duration": 23,
    "start_time": "2023-03-31T07:11:47.760Z"
   },
   {
    "duration": 106,
    "start_time": "2023-03-31T07:11:49.989Z"
   },
   {
    "duration": 3,
    "start_time": "2023-03-31T07:11:57.478Z"
   },
   {
    "duration": 133,
    "start_time": "2023-03-31T07:12:54.265Z"
   },
   {
    "duration": 181,
    "start_time": "2023-03-31T07:14:46.857Z"
   },
   {
    "duration": 178,
    "start_time": "2023-03-31T07:15:11.856Z"
   },
   {
    "duration": 727,
    "start_time": "2023-03-31T07:15:25.953Z"
   },
   {
    "duration": 43,
    "start_time": "2023-03-31T07:15:32.977Z"
   },
   {
    "duration": 192,
    "start_time": "2023-03-31T07:15:34.923Z"
   },
   {
    "duration": 387,
    "start_time": "2023-03-31T07:15:39.590Z"
   },
   {
    "duration": 3,
    "start_time": "2023-03-31T07:15:45.534Z"
   },
   {
    "duration": 165428,
    "start_time": "2023-03-31T07:15:47.635Z"
   },
   {
    "duration": 40702,
    "start_time": "2023-03-31T07:19:47.687Z"
   },
   {
    "duration": 327,
    "start_time": "2023-03-31T07:21:02.098Z"
   },
   {
    "duration": 220,
    "start_time": "2023-03-31T07:21:18.252Z"
   },
   {
    "duration": 4,
    "start_time": "2023-03-31T07:21:33.836Z"
   },
   {
    "duration": 3016,
    "start_time": "2023-03-31T21:12:33.389Z"
   },
   {
    "duration": 1066,
    "start_time": "2023-03-31T21:12:36.407Z"
   },
   {
    "duration": 120,
    "start_time": "2023-03-31T21:12:37.474Z"
   },
   {
    "duration": 107,
    "start_time": "2023-03-31T21:12:37.595Z"
   },
   {
    "duration": 120,
    "start_time": "2023-03-31T21:12:37.704Z"
   },
   {
    "duration": 25,
    "start_time": "2023-03-31T21:12:37.826Z"
   },
   {
    "duration": 20,
    "start_time": "2023-03-31T21:12:37.853Z"
   },
   {
    "duration": 236,
    "start_time": "2023-03-31T21:12:37.875Z"
   },
   {
    "duration": 15,
    "start_time": "2023-03-31T21:12:38.112Z"
   },
   {
    "duration": 45,
    "start_time": "2023-03-31T21:12:38.129Z"
   },
   {
    "duration": 237,
    "start_time": "2023-03-31T21:12:38.175Z"
   },
   {
    "duration": 127,
    "start_time": "2023-03-31T21:12:38.413Z"
   },
   {
    "duration": 35,
    "start_time": "2023-03-31T21:12:38.542Z"
   },
   {
    "duration": 207,
    "start_time": "2023-03-31T21:12:38.580Z"
   },
   {
    "duration": 177,
    "start_time": "2023-03-31T21:12:38.788Z"
   },
   {
    "duration": 140,
    "start_time": "2023-03-31T21:12:38.967Z"
   },
   {
    "duration": 35,
    "start_time": "2023-03-31T21:12:39.109Z"
   },
   {
    "duration": 129,
    "start_time": "2023-03-31T21:12:39.145Z"
   },
   {
    "duration": 151,
    "start_time": "2023-03-31T21:12:39.275Z"
   },
   {
    "duration": 225,
    "start_time": "2023-03-31T21:12:39.428Z"
   },
   {
    "duration": 27,
    "start_time": "2023-03-31T21:12:39.655Z"
   },
   {
    "duration": 195,
    "start_time": "2023-03-31T21:12:39.685Z"
   },
   {
    "duration": 139,
    "start_time": "2023-03-31T21:12:39.882Z"
   },
   {
    "duration": 19,
    "start_time": "2023-03-31T21:12:40.022Z"
   },
   {
    "duration": 35,
    "start_time": "2023-03-31T21:12:40.043Z"
   },
   {
    "duration": 3,
    "start_time": "2023-03-31T21:12:40.080Z"
   },
   {
    "duration": 16,
    "start_time": "2023-03-31T21:12:40.085Z"
   },
   {
    "duration": 103,
    "start_time": "2023-03-31T21:12:40.103Z"
   },
   {
    "duration": 14,
    "start_time": "2023-03-31T21:12:40.208Z"
   },
   {
    "duration": 481,
    "start_time": "2023-03-31T21:12:40.224Z"
   },
   {
    "duration": 0,
    "start_time": "2023-03-31T21:12:40.707Z"
   },
   {
    "duration": 0,
    "start_time": "2023-03-31T21:12:40.709Z"
   },
   {
    "duration": 16,
    "start_time": "2023-03-31T21:12:44.020Z"
   },
   {
    "duration": 335,
    "start_time": "2023-03-31T21:12:53.893Z"
   },
   {
    "duration": 10,
    "start_time": "2023-03-31T21:12:58.703Z"
   },
   {
    "duration": 17,
    "start_time": "2023-03-31T21:13:06.247Z"
   },
   {
    "duration": 170,
    "start_time": "2023-03-31T21:15:44.413Z"
   },
   {
    "duration": 162,
    "start_time": "2023-03-31T21:15:49.636Z"
   },
   {
    "duration": 4,
    "start_time": "2023-03-31T21:15:52.522Z"
   },
   {
    "duration": 4,
    "start_time": "2023-03-31T21:15:55.994Z"
   },
   {
    "duration": 10,
    "start_time": "2023-03-31T21:16:01.283Z"
   },
   {
    "duration": 70,
    "start_time": "2023-03-31T21:16:03.566Z"
   },
   {
    "duration": 15,
    "start_time": "2023-03-31T21:16:03.638Z"
   },
   {
    "duration": 290,
    "start_time": "2023-03-31T21:16:03.668Z"
   },
   {
    "duration": 26,
    "start_time": "2023-03-31T21:16:06.708Z"
   },
   {
    "duration": 137,
    "start_time": "2023-03-31T21:16:14.042Z"
   },
   {
    "duration": 219,
    "start_time": "2023-03-31T21:16:16.194Z"
   },
   {
    "duration": 196,
    "start_time": "2023-03-31T21:16:21.326Z"
   },
   {
    "duration": 18,
    "start_time": "2023-03-31T21:16:24.448Z"
   },
   {
    "duration": 18,
    "start_time": "2023-03-31T21:16:31.723Z"
   },
   {
    "duration": 12,
    "start_time": "2023-03-31T21:16:45.893Z"
   },
   {
    "duration": 18,
    "start_time": "2023-03-31T21:16:52.309Z"
   },
   {
    "duration": 10,
    "start_time": "2023-03-31T21:16:58.441Z"
   },
   {
    "duration": 4,
    "start_time": "2023-03-31T21:17:00.918Z"
   },
   {
    "duration": 15,
    "start_time": "2023-03-31T21:17:16.925Z"
   },
   {
    "duration": 18,
    "start_time": "2023-03-31T21:17:54.862Z"
   },
   {
    "duration": 49,
    "start_time": "2023-03-31T21:18:29.987Z"
   },
   {
    "duration": 13,
    "start_time": "2023-03-31T21:18:35.415Z"
   },
   {
    "duration": 186,
    "start_time": "2023-03-31T21:18:41.098Z"
   },
   {
    "duration": 387,
    "start_time": "2023-03-31T21:18:52.559Z"
   },
   {
    "duration": 24,
    "start_time": "2023-03-31T21:18:55.166Z"
   },
   {
    "duration": 311,
    "start_time": "2023-03-31T21:19:18.357Z"
   },
   {
    "duration": 1923,
    "start_time": "2023-04-01T05:57:15.725Z"
   },
   {
    "duration": 4184,
    "start_time": "2023-04-01T05:57:17.651Z"
   },
   {
    "duration": 188,
    "start_time": "2023-04-01T05:57:21.837Z"
   },
   {
    "duration": 151,
    "start_time": "2023-04-01T05:57:22.031Z"
   },
   {
    "duration": 197,
    "start_time": "2023-04-01T05:57:22.184Z"
   },
   {
    "duration": 34,
    "start_time": "2023-04-01T05:57:22.383Z"
   },
   {
    "duration": 19,
    "start_time": "2023-04-01T05:57:22.419Z"
   },
   {
    "duration": 368,
    "start_time": "2023-04-01T05:57:22.440Z"
   },
   {
    "duration": 27,
    "start_time": "2023-04-01T05:57:22.810Z"
   },
   {
    "duration": 58,
    "start_time": "2023-04-01T05:57:22.840Z"
   },
   {
    "duration": 388,
    "start_time": "2023-04-01T05:57:22.906Z"
   },
   {
    "duration": 140,
    "start_time": "2023-04-01T05:57:23.299Z"
   },
   {
    "duration": 50,
    "start_time": "2023-04-01T05:57:23.441Z"
   },
   {
    "duration": 291,
    "start_time": "2023-04-01T05:57:23.494Z"
   },
   {
    "duration": 275,
    "start_time": "2023-04-01T05:57:23.787Z"
   },
   {
    "duration": 150,
    "start_time": "2023-04-01T05:57:24.063Z"
   },
   {
    "duration": 32,
    "start_time": "2023-04-01T05:57:24.215Z"
   },
   {
    "duration": 175,
    "start_time": "2023-04-01T05:57:24.248Z"
   },
   {
    "duration": 154,
    "start_time": "2023-04-01T05:57:24.427Z"
   },
   {
    "duration": 246,
    "start_time": "2023-04-01T05:57:24.583Z"
   },
   {
    "duration": 26,
    "start_time": "2023-04-01T05:57:24.831Z"
   },
   {
    "duration": 255,
    "start_time": "2023-04-01T05:57:24.858Z"
   },
   {
    "duration": 134,
    "start_time": "2023-04-01T05:57:25.115Z"
   },
   {
    "duration": 7,
    "start_time": "2023-04-01T05:57:25.251Z"
   },
   {
    "duration": 88,
    "start_time": "2023-04-01T05:57:25.259Z"
   },
   {
    "duration": 12,
    "start_time": "2023-04-01T05:57:25.348Z"
   },
   {
    "duration": 47,
    "start_time": "2023-04-01T05:57:25.362Z"
   },
   {
    "duration": 103,
    "start_time": "2023-04-01T05:57:25.418Z"
   },
   {
    "duration": 29,
    "start_time": "2023-04-01T05:58:09.607Z"
   },
   {
    "duration": 967,
    "start_time": "2023-04-01T05:59:13.926Z"
   },
   {
    "duration": 3,
    "start_time": "2023-04-01T05:59:46.250Z"
   },
   {
    "duration": 1182,
    "start_time": "2023-04-01T05:59:56.758Z"
   },
   {
    "duration": 38,
    "start_time": "2023-04-01T06:01:22.055Z"
   },
   {
    "duration": 21,
    "start_time": "2023-04-01T06:01:29.618Z"
   },
   {
    "duration": 16,
    "start_time": "2023-04-01T06:01:35.522Z"
   },
   {
    "duration": 22,
    "start_time": "2023-04-01T06:02:01.326Z"
   },
   {
    "duration": 40,
    "start_time": "2023-04-01T06:02:06.298Z"
   },
   {
    "duration": 618,
    "start_time": "2023-04-01T06:02:08.957Z"
   },
   {
    "duration": 15,
    "start_time": "2023-04-01T06:02:24.698Z"
   },
   {
    "duration": 898,
    "start_time": "2023-04-01T06:02:24.719Z"
   },
   {
    "duration": 170,
    "start_time": "2023-04-01T06:02:25.630Z"
   },
   {
    "duration": 250,
    "start_time": "2023-04-01T06:02:25.802Z"
   },
   {
    "duration": 170,
    "start_time": "2023-04-01T06:02:26.063Z"
   },
   {
    "duration": 24,
    "start_time": "2023-04-01T06:02:26.238Z"
   },
   {
    "duration": 39,
    "start_time": "2023-04-01T06:02:26.264Z"
   },
   {
    "duration": 427,
    "start_time": "2023-04-01T06:02:26.314Z"
   },
   {
    "duration": 25,
    "start_time": "2023-04-01T06:02:26.743Z"
   },
   {
    "duration": 143,
    "start_time": "2023-04-01T06:02:26.770Z"
   },
   {
    "duration": 342,
    "start_time": "2023-04-01T06:02:26.920Z"
   },
   {
    "duration": 257,
    "start_time": "2023-04-01T06:02:27.264Z"
   },
   {
    "duration": 26,
    "start_time": "2023-04-01T06:02:27.522Z"
   },
   {
    "duration": 175,
    "start_time": "2023-04-01T06:02:27.551Z"
   },
   {
    "duration": 230,
    "start_time": "2023-04-01T06:02:27.727Z"
   },
   {
    "duration": 182,
    "start_time": "2023-04-01T06:02:27.959Z"
   },
   {
    "duration": 26,
    "start_time": "2023-04-01T06:02:28.143Z"
   },
   {
    "duration": 181,
    "start_time": "2023-04-01T06:02:28.171Z"
   },
   {
    "duration": 174,
    "start_time": "2023-04-01T06:02:28.354Z"
   },
   {
    "duration": 255,
    "start_time": "2023-04-01T06:02:28.532Z"
   },
   {
    "duration": 59,
    "start_time": "2023-04-01T06:02:28.789Z"
   },
   {
    "duration": 215,
    "start_time": "2023-04-01T06:02:28.849Z"
   },
   {
    "duration": 177,
    "start_time": "2023-04-01T06:02:29.067Z"
   },
   {
    "duration": 6,
    "start_time": "2023-04-01T06:02:29.246Z"
   },
   {
    "duration": 57,
    "start_time": "2023-04-01T06:02:29.254Z"
   },
   {
    "duration": 3,
    "start_time": "2023-04-01T06:02:29.322Z"
   },
   {
    "duration": 21,
    "start_time": "2023-04-01T06:02:29.326Z"
   },
   {
    "duration": 86,
    "start_time": "2023-04-01T06:02:29.348Z"
   },
   {
    "duration": 17,
    "start_time": "2023-04-01T06:02:29.436Z"
   },
   {
    "duration": 901,
    "start_time": "2023-04-01T06:02:29.456Z"
   },
   {
    "duration": 773,
    "start_time": "2023-04-01T06:02:47.124Z"
   },
   {
    "duration": 624,
    "start_time": "2023-04-01T06:06:26.714Z"
   },
   {
    "duration": 666,
    "start_time": "2023-04-01T06:06:51.760Z"
   },
   {
    "duration": 601,
    "start_time": "2023-04-01T06:07:01.839Z"
   },
   {
    "duration": 107,
    "start_time": "2023-04-01T06:07:38.102Z"
   },
   {
    "duration": 12506,
    "start_time": "2023-04-01T06:07:57.124Z"
   },
   {
    "duration": 13570,
    "start_time": "2023-04-01T06:09:47.800Z"
   },
   {
    "duration": 13099,
    "start_time": "2023-04-01T06:10:06.526Z"
   },
   {
    "duration": 5,
    "start_time": "2023-04-01T06:10:36.647Z"
   },
   {
    "duration": 21,
    "start_time": "2023-04-01T06:18:40.056Z"
   },
   {
    "duration": 13,
    "start_time": "2023-04-01T06:19:51.319Z"
   },
   {
    "duration": 17542,
    "start_time": "2023-04-01T06:20:23.799Z"
   },
   {
    "duration": 5,
    "start_time": "2023-04-01T06:20:47.447Z"
   },
   {
    "duration": 9,
    "start_time": "2023-04-01T06:21:31.422Z"
   },
   {
    "duration": 9,
    "start_time": "2023-04-01T06:21:48.555Z"
   },
   {
    "duration": 4,
    "start_time": "2023-04-01T06:33:20.243Z"
   },
   {
    "duration": 22,
    "start_time": "2023-04-01T06:33:26.438Z"
   },
   {
    "duration": 13,
    "start_time": "2023-04-01T06:34:48.134Z"
   },
   {
    "duration": 2539,
    "start_time": "2023-04-01T06:37:46.230Z"
   },
   {
    "duration": 95,
    "start_time": "2023-04-01T06:38:05.548Z"
   },
   {
    "duration": 1026,
    "start_time": "2023-04-01T06:38:09.605Z"
   },
   {
    "duration": 18,
    "start_time": "2023-04-01T06:38:28.605Z"
   },
   {
    "duration": 10,
    "start_time": "2023-04-01T06:39:30.815Z"
   },
   {
    "duration": 6,
    "start_time": "2023-04-01T06:39:54.430Z"
   },
   {
    "duration": 6,
    "start_time": "2023-04-01T06:41:13.952Z"
   },
   {
    "duration": 971,
    "start_time": "2023-04-01T06:41:13.960Z"
   },
   {
    "duration": 228,
    "start_time": "2023-04-01T06:41:14.938Z"
   },
   {
    "duration": 194,
    "start_time": "2023-04-01T06:41:15.168Z"
   },
   {
    "duration": 177,
    "start_time": "2023-04-01T06:41:15.371Z"
   },
   {
    "duration": 17,
    "start_time": "2023-04-01T06:41:15.549Z"
   },
   {
    "duration": 6,
    "start_time": "2023-04-01T06:41:15.568Z"
   },
   {
    "duration": 366,
    "start_time": "2023-04-01T06:41:15.590Z"
   },
   {
    "duration": 27,
    "start_time": "2023-04-01T06:41:15.958Z"
   },
   {
    "duration": 121,
    "start_time": "2023-04-01T06:41:15.986Z"
   },
   {
    "duration": 306,
    "start_time": "2023-04-01T06:41:16.109Z"
   },
   {
    "duration": 305,
    "start_time": "2023-04-01T06:41:16.417Z"
   },
   {
    "duration": 34,
    "start_time": "2023-04-01T06:41:16.724Z"
   },
   {
    "duration": 147,
    "start_time": "2023-04-01T06:41:16.762Z"
   },
   {
    "duration": 200,
    "start_time": "2023-04-01T06:41:16.912Z"
   },
   {
    "duration": 152,
    "start_time": "2023-04-01T06:41:17.114Z"
   },
   {
    "duration": 40,
    "start_time": "2023-04-01T06:41:17.268Z"
   },
   {
    "duration": 168,
    "start_time": "2023-04-01T06:41:17.316Z"
   },
   {
    "duration": 171,
    "start_time": "2023-04-01T06:41:17.494Z"
   },
   {
    "duration": 282,
    "start_time": "2023-04-01T06:41:17.668Z"
   },
   {
    "duration": 37,
    "start_time": "2023-04-01T06:41:17.952Z"
   },
   {
    "duration": 226,
    "start_time": "2023-04-01T06:41:17.990Z"
   },
   {
    "duration": 129,
    "start_time": "2023-04-01T06:41:18.218Z"
   },
   {
    "duration": 7,
    "start_time": "2023-04-01T06:41:18.349Z"
   },
   {
    "duration": 60,
    "start_time": "2023-04-01T06:41:18.357Z"
   },
   {
    "duration": 4,
    "start_time": "2023-04-01T06:41:18.419Z"
   },
   {
    "duration": 26,
    "start_time": "2023-04-01T06:41:18.425Z"
   },
   {
    "duration": 82,
    "start_time": "2023-04-01T06:41:18.453Z"
   },
   {
    "duration": 18,
    "start_time": "2023-04-01T06:41:18.537Z"
   },
   {
    "duration": 1094,
    "start_time": "2023-04-01T06:41:18.557Z"
   },
   {
    "duration": 4,
    "start_time": "2023-04-01T06:41:19.653Z"
   },
   {
    "duration": 584,
    "start_time": "2023-04-01T06:41:19.659Z"
   },
   {
    "duration": 56,
    "start_time": "2023-04-01T06:41:20.253Z"
   },
   {
    "duration": 254,
    "start_time": "2023-04-01T06:41:20.317Z"
   },
   {
    "duration": 355,
    "start_time": "2023-04-01T06:41:20.572Z"
   },
   {
    "duration": 2,
    "start_time": "2023-04-01T06:41:20.929Z"
   },
   {
    "duration": 26,
    "start_time": "2023-04-01T06:41:20.934Z"
   },
   {
    "duration": 186741,
    "start_time": "2023-04-01T06:41:20.962Z"
   },
   {
    "duration": 60623,
    "start_time": "2023-04-01T06:44:27.705Z"
   },
   {
    "duration": 241,
    "start_time": "2023-04-01T06:45:28.373Z"
   },
   {
    "duration": 20,
    "start_time": "2023-04-01T06:45:28.689Z"
   },
   {
    "duration": 28,
    "start_time": "2023-04-01T06:45:28.716Z"
   },
   {
    "duration": 17042,
    "start_time": "2023-04-01T06:45:28.746Z"
   },
   {
    "duration": 17,
    "start_time": "2023-04-01T06:45:45.789Z"
   },
   {
    "duration": 33,
    "start_time": "2023-04-01T06:45:45.811Z"
   },
   {
    "duration": 39,
    "start_time": "2023-04-01T06:45:45.846Z"
   },
   {
    "duration": 10,
    "start_time": "2023-04-01T06:45:45.887Z"
   },
   {
    "duration": 53,
    "start_time": "2023-04-01T06:45:45.898Z"
   },
   {
    "duration": 404438,
    "start_time": "2023-04-01T06:45:45.953Z"
   },
   {
    "duration": 408,
    "start_time": "2023-04-01T06:52:30.393Z"
   },
   {
    "duration": 4,
    "start_time": "2023-04-01T06:52:30.804Z"
   },
   {
    "duration": 1989,
    "start_time": "2023-04-01T06:52:30.810Z"
   },
   {
    "duration": 51,
    "start_time": "2023-04-01T06:52:32.807Z"
   },
   {
    "duration": 432,
    "start_time": "2023-04-01T06:53:35.690Z"
   },
   {
    "duration": 7,
    "start_time": "2023-04-01T06:53:40.956Z"
   },
   {
    "duration": 2098,
    "start_time": "2023-04-01T06:54:02.955Z"
   },
   {
    "duration": 50,
    "start_time": "2023-04-01T06:54:07.517Z"
   }
  ],
  "kernelspec": {
   "display_name": "Python 3 (ipykernel)",
   "language": "python",
   "name": "python3"
  },
  "language_info": {
   "codemirror_mode": {
    "name": "ipython",
    "version": 3
   },
   "file_extension": ".py",
   "mimetype": "text/x-python",
   "name": "python",
   "nbconvert_exporter": "python",
   "pygments_lexer": "ipython3",
   "version": "3.9.12"
  },
  "toc": {
   "base_numbering": 1,
   "nav_menu": {},
   "number_sections": true,
   "sideBar": true,
   "skip_h1_title": true,
   "title_cell": "Table of Contents",
   "title_sidebar": "Contents",
   "toc_cell": false,
   "toc_position": {},
   "toc_section_display": true,
   "toc_window_display": false
  }
 },
 "nbformat": 4,
 "nbformat_minor": 2
}
