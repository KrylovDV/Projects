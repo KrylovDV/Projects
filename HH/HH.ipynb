{
 "cells": [
  {
   "cell_type": "markdown",
   "id": "272854d1",
   "metadata": {},
   "source": [
    "Лист Сводная\n",
    "\n",
    "Необходимо распределить все данные и вывести, как указано в таблице\n",
    "Разделение СНГ-Россия\n",
    "- страну можно определить столбцы F лист Revenue API и Installs API\n",
    "- по названию кампании столбец D лист Plarin (если в названии кампании есть “cis”, то эта кампания запущена на СНГ и все ее показатели можно отнести к СНГ)\n",
    "\n",
    "Разделение по датам\n",
    "- даты указаны столбец H лист Plarin, столбец A лист Revenue API, столбец A лист Installs API\n",
    "- Период - гибкие даты. Данные должны меняться в зависимости от дат, выставленных в ячейках B1 и B2 лист Сводная\n",
    "\n",
    "Метрики\n",
    "\n",
    "Spend - это расход, количество потраченных денег. Выводим в долларах, курс берем средний за май 2023 года. Расход указан на листе Plarin столбец I\n",
    "\n",
    "Installs - общее количество установок за указанный период по определенному направлению. Указано на листе Installs API столбец G\n",
    "CPI\n",
    "\n",
    "Cost per Install - стоимость 1 установки за выбранный период по выбранному направлению. Считается как Spend/Installs. Выводим в долларах\n",
    "\n",
    "Окупаемость - окупаемости трафика за выбранный период по выбранному направлению. Считается как Revenue / Spend. Выводится в %.\n",
    "\n",
    "Revenue - столбец H Лист Revenue API\n",
    "\n",
    "Profit - прибыль по данному направлению за данный период. Считается как Revenue-Spend. Выводится в $\n"
   ]
  },
  {
   "cell_type": "code",
   "execution_count": 48,
   "id": "560e0e7e",
   "metadata": {},
   "outputs": [],
   "source": [
    "import pandas as pd"
   ]
  },
  {
   "cell_type": "markdown",
   "id": "b1f3c0ec",
   "metadata": {},
   "source": [
    "## Выгрузим таблицу с прибылью"
   ]
  },
  {
   "cell_type": "code",
   "execution_count": 49,
   "id": "4eab1d8a",
   "metadata": {},
   "outputs": [
    {
     "data": {
      "text/html": [
       "<div>\n",
       "<style scoped>\n",
       "    .dataframe tbody tr th:only-of-type {\n",
       "        vertical-align: middle;\n",
       "    }\n",
       "\n",
       "    .dataframe tbody tr th {\n",
       "        vertical-align: top;\n",
       "    }\n",
       "\n",
       "    .dataframe thead th {\n",
       "        text-align: right;\n",
       "    }\n",
       "</style>\n",
       "<table border=\"1\" class=\"dataframe\">\n",
       "  <thead>\n",
       "    <tr style=\"text-align: right;\">\n",
       "      <th></th>\n",
       "      <th>Date</th>\n",
       "      <th>date_range</th>\n",
       "      <th>Tracker</th>\n",
       "      <th>Campaign</th>\n",
       "      <th>Adgroup</th>\n",
       "      <th>Network</th>\n",
       "      <th>Country</th>\n",
       "      <th>region</th>\n",
       "      <th>Days after Install</th>\n",
       "      <th>Revenue</th>\n",
       "    </tr>\n",
       "  </thead>\n",
       "  <tbody>\n",
       "    <tr>\n",
       "      <th>0</th>\n",
       "      <td>2023-05-10</td>\n",
       "      <td>6-10 мая</td>\n",
       "      <td>se043uy</td>\n",
       "      <td>67982511</td>\n",
       "      <td>126908782</td>\n",
       "      <td>huntermob_vk</td>\n",
       "      <td>ru</td>\n",
       "      <td>Россия</td>\n",
       "      <td>0</td>\n",
       "      <td>28.309</td>\n",
       "    </tr>\n",
       "    <tr>\n",
       "      <th>1</th>\n",
       "      <td>2023-05-10</td>\n",
       "      <td>6-10 мая</td>\n",
       "      <td>se043uy</td>\n",
       "      <td>67982511</td>\n",
       "      <td>126908782</td>\n",
       "      <td>huntermob_vk</td>\n",
       "      <td>ru</td>\n",
       "      <td>Россия</td>\n",
       "      <td>2</td>\n",
       "      <td>33.395</td>\n",
       "    </tr>\n",
       "    <tr>\n",
       "      <th>2</th>\n",
       "      <td>2023-05-10</td>\n",
       "      <td>6-10 мая</td>\n",
       "      <td>se043uy</td>\n",
       "      <td>67982511</td>\n",
       "      <td>126908782</td>\n",
       "      <td>huntermob_vk</td>\n",
       "      <td>ru</td>\n",
       "      <td>Россия</td>\n",
       "      <td>5</td>\n",
       "      <td>64.955</td>\n",
       "    </tr>\n",
       "    <tr>\n",
       "      <th>3</th>\n",
       "      <td>2023-05-10</td>\n",
       "      <td>6-10 мая</td>\n",
       "      <td>y1882qa</td>\n",
       "      <td>68663028</td>\n",
       "      <td>127644596</td>\n",
       "      <td>huntermob_vk</td>\n",
       "      <td>ru</td>\n",
       "      <td>Россия</td>\n",
       "      <td>6</td>\n",
       "      <td>18.151</td>\n",
       "    </tr>\n",
       "    <tr>\n",
       "      <th>4</th>\n",
       "      <td>2023-05-10</td>\n",
       "      <td>6-10 мая</td>\n",
       "      <td>au5jm7x</td>\n",
       "      <td>67997174</td>\n",
       "      <td>126924318</td>\n",
       "      <td>huntermob_vk</td>\n",
       "      <td>ru</td>\n",
       "      <td>Россия</td>\n",
       "      <td>2</td>\n",
       "      <td>7.933</td>\n",
       "    </tr>\n",
       "  </tbody>\n",
       "</table>\n",
       "</div>"
      ],
      "text/plain": [
       "        Date date_range  Tracker  Campaign    Adgroup       Network Country  \\\n",
       "0 2023-05-10   6-10 мая  se043uy  67982511  126908782  huntermob_vk      ru   \n",
       "1 2023-05-10   6-10 мая  se043uy  67982511  126908782  huntermob_vk      ru   \n",
       "2 2023-05-10   6-10 мая  se043uy  67982511  126908782  huntermob_vk      ru   \n",
       "3 2023-05-10   6-10 мая  y1882qa  68663028  127644596  huntermob_vk      ru   \n",
       "4 2023-05-10   6-10 мая  au5jm7x  67997174  126924318  huntermob_vk      ru   \n",
       "\n",
       "   region  Days after Install  Revenue  \n",
       "0  Россия                   0   28.309  \n",
       "1  Россия                   2   33.395  \n",
       "2  Россия                   5   64.955  \n",
       "3  Россия                   6   18.151  \n",
       "4  Россия                   2    7.933  "
      ]
     },
     "execution_count": 49,
     "metadata": {},
     "output_type": "execute_result"
    }
   ],
   "source": [
    "# выгрузим таблицу с прибылью \n",
    "\n",
    "revenue = pd.read_excel('Installs API.xlsx', sheet_name = 'Revenue API')\n",
    "revenue.head()"
   ]
  },
  {
   "cell_type": "code",
   "execution_count": 50,
   "id": "7fde6525",
   "metadata": {},
   "outputs": [
    {
     "data": {
      "text/plain": [
       "11-31 мая    222\n",
       "6-10 мая      26\n",
       "Name: date_range, dtype: int64"
      ]
     },
     "execution_count": 50,
     "metadata": {},
     "output_type": "execute_result"
    }
   ],
   "source": [
    "# рассмотрим какие значения бывают в столбце date_range\n",
    "\n",
    "revenue['date_range'].value_counts()"
   ]
  },
  {
   "cell_type": "code",
   "execution_count": 51,
   "id": "8ba9b446",
   "metadata": {},
   "outputs": [
    {
     "data": {
      "text/plain": [
       "Россия    236\n",
       "СНГ        12\n",
       "Name: region, dtype: int64"
      ]
     },
     "execution_count": 51,
     "metadata": {},
     "output_type": "execute_result"
    }
   ],
   "source": [
    "# рассмотрим какие значения бывают в столбце region\n",
    "\n",
    "revenue['region'].value_counts()"
   ]
  },
  {
   "cell_type": "code",
   "execution_count": 52,
   "id": "f9b0ab11",
   "metadata": {},
   "outputs": [
    {
     "name": "stdout",
     "output_type": "stream",
     "text": [
      "<class 'pandas.core.frame.DataFrame'>\n",
      "RangeIndex: 248 entries, 0 to 247\n",
      "Data columns (total 10 columns):\n",
      " #   Column              Non-Null Count  Dtype         \n",
      "---  ------              --------------  -----         \n",
      " 0   Date                248 non-null    datetime64[ns]\n",
      " 1   date_range          248 non-null    object        \n",
      " 2   Tracker             248 non-null    object        \n",
      " 3   Campaign            248 non-null    object        \n",
      " 4   Adgroup             248 non-null    object        \n",
      " 5   Network             248 non-null    object        \n",
      " 6   Country             248 non-null    object        \n",
      " 7   region              248 non-null    object        \n",
      " 8   Days after Install  248 non-null    int64         \n",
      " 9   Revenue             248 non-null    float64       \n",
      "dtypes: datetime64[ns](1), float64(1), int64(1), object(7)\n",
      "memory usage: 19.5+ KB\n"
     ]
    }
   ],
   "source": [
    "# посмотрим общую информацию по таблице\n",
    "\n",
    "revenue.info()"
   ]
  },
  {
   "cell_type": "code",
   "execution_count": 53,
   "id": "16af6d18",
   "metadata": {},
   "outputs": [
    {
     "name": "stdout",
     "output_type": "stream",
     "text": [
      "пропусков: Date                  0\n",
      "date_range            0\n",
      "Tracker               0\n",
      "Campaign              0\n",
      "Adgroup               0\n",
      "Network               0\n",
      "Country               0\n",
      "region                0\n",
      "Days after Install    0\n",
      "Revenue               0\n",
      "dtype: int64\n",
      "\n",
      "дубликатов: 0\n"
     ]
    }
   ],
   "source": [
    "# проверим на пропуски и дубликаты\n",
    "print('пропусков:', revenue.isna().sum())\n",
    "print()\n",
    "print('дубликатов:', revenue.duplicated().sum())"
   ]
  },
  {
   "cell_type": "markdown",
   "id": "c3e0b0fb",
   "metadata": {},
   "source": [
    "## Выгрузим таблицу с обявлениями"
   ]
  },
  {
   "cell_type": "code",
   "execution_count": 54,
   "id": "39edd65b",
   "metadata": {
    "scrolled": false
   },
   "outputs": [
    {
     "data": {
      "text/html": [
       "<div>\n",
       "<style scoped>\n",
       "    .dataframe tbody tr th:only-of-type {\n",
       "        vertical-align: middle;\n",
       "    }\n",
       "\n",
       "    .dataframe tbody tr th {\n",
       "        vertical-align: top;\n",
       "    }\n",
       "\n",
       "    .dataframe thead th {\n",
       "        text-align: right;\n",
       "    }\n",
       "</style>\n",
       "<table border=\"1\" class=\"dataframe\">\n",
       "  <thead>\n",
       "    <tr style=\"text-align: right;\">\n",
       "      <th></th>\n",
       "      <th>ID Объявления</th>\n",
       "      <th>Название объявления</th>\n",
       "      <th>ID Кампании</th>\n",
       "      <th>Название кампании</th>\n",
       "      <th>region</th>\n",
       "      <th>Источник</th>\n",
       "      <th>Unnamed: 6</th>\n",
       "      <th>Клиент</th>\n",
       "      <th>Дата</th>\n",
       "      <th>date_range</th>\n",
       "      <th>...</th>\n",
       "      <th>CPC</th>\n",
       "      <th>CPA</th>\n",
       "      <th>EPC</th>\n",
       "      <th>EPM</th>\n",
       "      <th>eCPC</th>\n",
       "      <th>eCPM</th>\n",
       "      <th>P&amp;L</th>\n",
       "      <th>Выручка</th>\n",
       "      <th>ROI</th>\n",
       "      <th>CRR (с НДС)</th>\n",
       "    </tr>\n",
       "  </thead>\n",
       "  <tbody>\n",
       "    <tr>\n",
       "      <th>0</th>\n",
       "      <td>126907858</td>\n",
       "      <td>DG GE VideoK инструменты 1</td>\n",
       "      <td>67981631</td>\n",
       "      <td>Joom12DR_31.12_VideoK_Instrument1_pack1210_M_2...</td>\n",
       "      <td>Россия</td>\n",
       "      <td>myTarget</td>\n",
       "      <td>14481112</td>\n",
       "      <td>Joom_HM_VKAds_9 (RUB)</td>\n",
       "      <td>2023-05-12</td>\n",
       "      <td>11-31 мая</td>\n",
       "      <td>...</td>\n",
       "      <td>NaN</td>\n",
       "      <td>NaN</td>\n",
       "      <td>NaN</td>\n",
       "      <td>NaN</td>\n",
       "      <td>NaN</td>\n",
       "      <td>15,00 RUB</td>\n",
       "      <td>NaN</td>\n",
       "      <td>NaN</td>\n",
       "      <td>NaN</td>\n",
       "      <td>NaN</td>\n",
       "    </tr>\n",
       "    <tr>\n",
       "      <th>1</th>\n",
       "      <td>126907858</td>\n",
       "      <td>DG GE VideoK инструменты 1</td>\n",
       "      <td>67981631</td>\n",
       "      <td>Joom12DR_31.12_VideoK_Instrument1_pack1210_M_2...</td>\n",
       "      <td>Россия</td>\n",
       "      <td>myTarget</td>\n",
       "      <td>14481112</td>\n",
       "      <td>Joom_HM_VKAds_9 (RUB)</td>\n",
       "      <td>2023-05-11</td>\n",
       "      <td>11-31 мая</td>\n",
       "      <td>...</td>\n",
       "      <td>22,09 RUB</td>\n",
       "      <td>117 RUB</td>\n",
       "      <td>NaN</td>\n",
       "      <td>NaN</td>\n",
       "      <td>NaN</td>\n",
       "      <td>45,58 RUB</td>\n",
       "      <td>NaN</td>\n",
       "      <td>NaN</td>\n",
       "      <td>NaN</td>\n",
       "      <td>NaN</td>\n",
       "    </tr>\n",
       "    <tr>\n",
       "      <th>2</th>\n",
       "      <td>126907858</td>\n",
       "      <td>DG GE VideoK инструменты 1</td>\n",
       "      <td>67981631</td>\n",
       "      <td>Joom12DR_31.12_VideoK_Instrument1_pack1210_M_2...</td>\n",
       "      <td>Россия</td>\n",
       "      <td>myTarget</td>\n",
       "      <td>14481112</td>\n",
       "      <td>Joom_HM_VKAds_9 (RUB)</td>\n",
       "      <td>2023-05-10</td>\n",
       "      <td>6-10 мая</td>\n",
       "      <td>...</td>\n",
       "      <td>21,38 RUB</td>\n",
       "      <td>155 RUB</td>\n",
       "      <td>NaN</td>\n",
       "      <td>NaN</td>\n",
       "      <td>NaN</td>\n",
       "      <td>39,03 RUB</td>\n",
       "      <td>NaN</td>\n",
       "      <td>NaN</td>\n",
       "      <td>NaN</td>\n",
       "      <td>NaN</td>\n",
       "    </tr>\n",
       "    <tr>\n",
       "      <th>3</th>\n",
       "      <td>126907859</td>\n",
       "      <td>DG GE VideoK инструменты 1</td>\n",
       "      <td>67981632</td>\n",
       "      <td>Joom12DR_31.12_VideoK_Instrument1_pack1210_M_2...</td>\n",
       "      <td>Россия</td>\n",
       "      <td>myTarget</td>\n",
       "      <td>14481112</td>\n",
       "      <td>Joom_HM_VKAds_9 (RUB)</td>\n",
       "      <td>2023-05-12</td>\n",
       "      <td>11-31 мая</td>\n",
       "      <td>...</td>\n",
       "      <td>NaN</td>\n",
       "      <td>NaN</td>\n",
       "      <td>NaN</td>\n",
       "      <td>NaN</td>\n",
       "      <td>NaN</td>\n",
       "      <td>25,00 RUB</td>\n",
       "      <td>NaN</td>\n",
       "      <td>NaN</td>\n",
       "      <td>NaN</td>\n",
       "      <td>NaN</td>\n",
       "    </tr>\n",
       "    <tr>\n",
       "      <th>4</th>\n",
       "      <td>126907859</td>\n",
       "      <td>DG GE VideoK инструменты 1</td>\n",
       "      <td>67981632</td>\n",
       "      <td>Joom12DR_31.12_VideoK_Instrument1_pack1210_M_2...</td>\n",
       "      <td>Россия</td>\n",
       "      <td>myTarget</td>\n",
       "      <td>14481112</td>\n",
       "      <td>Joom_HM_VKAds_9 (RUB)</td>\n",
       "      <td>2023-05-11</td>\n",
       "      <td>11-31 мая</td>\n",
       "      <td>...</td>\n",
       "      <td>28,74 RUB</td>\n",
       "      <td>80 RUB</td>\n",
       "      <td>NaN</td>\n",
       "      <td>NaN</td>\n",
       "      <td>NaN</td>\n",
       "      <td>76,91 RUB</td>\n",
       "      <td>NaN</td>\n",
       "      <td>NaN</td>\n",
       "      <td>NaN</td>\n",
       "      <td>NaN</td>\n",
       "    </tr>\n",
       "  </tbody>\n",
       "</table>\n",
       "<p>5 rows × 29 columns</p>\n",
       "</div>"
      ],
      "text/plain": [
       "   ID Объявления         Название объявления  ID Кампании  \\\n",
       "0      126907858  DG GE VideoK инструменты 1     67981631   \n",
       "1      126907858  DG GE VideoK инструменты 1     67981631   \n",
       "2      126907858  DG GE VideoK инструменты 1     67981631   \n",
       "3      126907859  DG GE VideoK инструменты 1     67981632   \n",
       "4      126907859  DG GE VideoK инструменты 1     67981632   \n",
       "\n",
       "                                   Название кампании  region  Источник  \\\n",
       "0  Joom12DR_31.12_VideoK_Instrument1_pack1210_M_2...  Россия  myTarget   \n",
       "1  Joom12DR_31.12_VideoK_Instrument1_pack1210_M_2...  Россия  myTarget   \n",
       "2  Joom12DR_31.12_VideoK_Instrument1_pack1210_M_2...  Россия  myTarget   \n",
       "3  Joom12DR_31.12_VideoK_Instrument1_pack1210_M_2...  Россия  myTarget   \n",
       "4  Joom12DR_31.12_VideoK_Instrument1_pack1210_M_2...  Россия  myTarget   \n",
       "\n",
       "   Unnamed: 6                 Клиент       Дата date_range  ...        CPC  \\\n",
       "0    14481112  Joom_HM_VKAds_9 (RUB) 2023-05-12  11-31 мая  ...        NaN   \n",
       "1    14481112  Joom_HM_VKAds_9 (RUB) 2023-05-11  11-31 мая  ...  22,09 RUB   \n",
       "2    14481112  Joom_HM_VKAds_9 (RUB) 2023-05-10   6-10 мая  ...  21,38 RUB   \n",
       "3    14481112  Joom_HM_VKAds_9 (RUB) 2023-05-12  11-31 мая  ...        NaN   \n",
       "4    14481112  Joom_HM_VKAds_9 (RUB) 2023-05-11  11-31 мая  ...  28,74 RUB   \n",
       "\n",
       "       CPA  EPC  EPM  eCPC       eCPM P&L Выручка ROI CRR (с НДС)  \n",
       "0      NaN  NaN  NaN   NaN  15,00 RUB NaN     NaN NaN         NaN  \n",
       "1  117 RUB  NaN  NaN   NaN  45,58 RUB NaN     NaN NaN         NaN  \n",
       "2  155 RUB  NaN  NaN   NaN  39,03 RUB NaN     NaN NaN         NaN  \n",
       "3      NaN  NaN  NaN   NaN  25,00 RUB NaN     NaN NaN         NaN  \n",
       "4   80 RUB  NaN  NaN   NaN  76,91 RUB NaN     NaN NaN         NaN  \n",
       "\n",
       "[5 rows x 29 columns]"
      ]
     },
     "execution_count": 54,
     "metadata": {},
     "output_type": "execute_result"
    }
   ],
   "source": [
    "plarin = pd.read_excel('Installs API.xlsx', sheet_name = 'Plarin')\n",
    "plarin.head()"
   ]
  },
  {
   "cell_type": "code",
   "execution_count": 55,
   "id": "03f7c2b3",
   "metadata": {},
   "outputs": [
    {
     "name": "stdout",
     "output_type": "stream",
     "text": [
      "<class 'pandas.core.frame.DataFrame'>\n",
      "RangeIndex: 613 entries, 0 to 612\n",
      "Data columns (total 29 columns):\n",
      " #   Column                Non-Null Count  Dtype         \n",
      "---  ------                --------------  -----         \n",
      " 0   ID Объявления         613 non-null    int64         \n",
      " 1   Название объявления   613 non-null    object        \n",
      " 2   ID Кампании           613 non-null    int64         \n",
      " 3   Название кампании     613 non-null    object        \n",
      " 4   region                613 non-null    object        \n",
      " 5   Источник              613 non-null    object        \n",
      " 6   Unnamed: 6            613 non-null    int64         \n",
      " 7   Клиент                613 non-null    object        \n",
      " 8   Дата                  613 non-null    datetime64[ns]\n",
      " 9   date_range            613 non-null    object        \n",
      " 10  Расход                613 non-null    float64       \n",
      " 11  Показы                450 non-null    object        \n",
      " 12  Конверсии по показам  613 non-null    int64         \n",
      " 13  Клики                 394 non-null    float64       \n",
      " 14  Конверсии             569 non-null    float64       \n",
      " 15  CTR                   394 non-null    object        \n",
      " 16  CR                    379 non-null    object        \n",
      " 17  WCR (%)               379 non-null    object        \n",
      " 18  CPM                   450 non-null    object        \n",
      " 19  CPC                   394 non-null    object        \n",
      " 20  CPA                   406 non-null    object        \n",
      " 21  EPC                   0 non-null      float64       \n",
      " 22  EPM                   0 non-null      float64       \n",
      " 23  eCPC                  0 non-null      float64       \n",
      " 24  eCPM                  450 non-null    object        \n",
      " 25  P&L                   0 non-null      float64       \n",
      " 26  Выручка               0 non-null      float64       \n",
      " 27  ROI                   0 non-null      float64       \n",
      " 28  CRR (с НДС)           0 non-null      float64       \n",
      "dtypes: datetime64[ns](1), float64(10), int64(4), object(14)\n",
      "memory usage: 139.0+ KB\n"
     ]
    }
   ],
   "source": [
    "plarin.info()"
   ]
  },
  {
   "cell_type": "code",
   "execution_count": 56,
   "id": "1c81303c",
   "metadata": {
    "scrolled": false
   },
   "outputs": [
    {
     "data": {
      "text/html": [
       "<div>\n",
       "<style scoped>\n",
       "    .dataframe tbody tr th:only-of-type {\n",
       "        vertical-align: middle;\n",
       "    }\n",
       "\n",
       "    .dataframe tbody tr th {\n",
       "        vertical-align: top;\n",
       "    }\n",
       "\n",
       "    .dataframe thead th {\n",
       "        text-align: right;\n",
       "    }\n",
       "</style>\n",
       "<table border=\"1\" class=\"dataframe\">\n",
       "  <thead>\n",
       "    <tr style=\"text-align: right;\">\n",
       "      <th></th>\n",
       "      <th>ID Объявления</th>\n",
       "      <th>Название объявления</th>\n",
       "      <th>ID Кампании</th>\n",
       "      <th>Название кампании</th>\n",
       "      <th>region</th>\n",
       "      <th>Источник</th>\n",
       "      <th>Unnamed: 6</th>\n",
       "      <th>Клиент</th>\n",
       "      <th>Дата</th>\n",
       "      <th>date_range</th>\n",
       "      <th>...</th>\n",
       "      <th>Конверсии по показам</th>\n",
       "      <th>Клики</th>\n",
       "      <th>Конверсии</th>\n",
       "      <th>CTR</th>\n",
       "      <th>CR</th>\n",
       "      <th>WCR (%)</th>\n",
       "      <th>CPM</th>\n",
       "      <th>CPC</th>\n",
       "      <th>CPA</th>\n",
       "      <th>eCPM</th>\n",
       "    </tr>\n",
       "  </thead>\n",
       "  <tbody>\n",
       "    <tr>\n",
       "      <th>0</th>\n",
       "      <td>126907858</td>\n",
       "      <td>DG GE VideoK инструменты 1</td>\n",
       "      <td>67981631</td>\n",
       "      <td>Joom12DR_31.12_VideoK_Instrument1_pack1210_M_2...</td>\n",
       "      <td>Россия</td>\n",
       "      <td>myTarget</td>\n",
       "      <td>14481112</td>\n",
       "      <td>Joom_HM_VKAds_9 (RUB)</td>\n",
       "      <td>2023-05-12</td>\n",
       "      <td>11-31 мая</td>\n",
       "      <td>...</td>\n",
       "      <td>0</td>\n",
       "      <td>NaN</td>\n",
       "      <td>NaN</td>\n",
       "      <td>NaN</td>\n",
       "      <td>NaN</td>\n",
       "      <td>NaN</td>\n",
       "      <td>15,00 RUB</td>\n",
       "      <td>NaN</td>\n",
       "      <td>NaN</td>\n",
       "      <td>15,00 RUB</td>\n",
       "    </tr>\n",
       "    <tr>\n",
       "      <th>1</th>\n",
       "      <td>126907858</td>\n",
       "      <td>DG GE VideoK инструменты 1</td>\n",
       "      <td>67981631</td>\n",
       "      <td>Joom12DR_31.12_VideoK_Instrument1_pack1210_M_2...</td>\n",
       "      <td>Россия</td>\n",
       "      <td>myTarget</td>\n",
       "      <td>14481112</td>\n",
       "      <td>Joom_HM_VKAds_9 (RUB)</td>\n",
       "      <td>2023-05-11</td>\n",
       "      <td>11-31 мая</td>\n",
       "      <td>...</td>\n",
       "      <td>0</td>\n",
       "      <td>69.0</td>\n",
       "      <td>13.0</td>\n",
       "      <td>0,206 %</td>\n",
       "      <td>18,841 %</td>\n",
       "      <td>3,881 %</td>\n",
       "      <td>45,58 RUB</td>\n",
       "      <td>22,09 RUB</td>\n",
       "      <td>117 RUB</td>\n",
       "      <td>45,58 RUB</td>\n",
       "    </tr>\n",
       "    <tr>\n",
       "      <th>2</th>\n",
       "      <td>126907858</td>\n",
       "      <td>DG GE VideoK инструменты 1</td>\n",
       "      <td>67981631</td>\n",
       "      <td>Joom12DR_31.12_VideoK_Instrument1_pack1210_M_2...</td>\n",
       "      <td>Россия</td>\n",
       "      <td>myTarget</td>\n",
       "      <td>14481112</td>\n",
       "      <td>Joom_HM_VKAds_9 (RUB)</td>\n",
       "      <td>2023-05-10</td>\n",
       "      <td>6-10 мая</td>\n",
       "      <td>...</td>\n",
       "      <td>0</td>\n",
       "      <td>29.0</td>\n",
       "      <td>4.0</td>\n",
       "      <td>0,183 %</td>\n",
       "      <td>13,793 %</td>\n",
       "      <td>2,524 %</td>\n",
       "      <td>39,03 RUB</td>\n",
       "      <td>21,38 RUB</td>\n",
       "      <td>155 RUB</td>\n",
       "      <td>39,03 RUB</td>\n",
       "    </tr>\n",
       "    <tr>\n",
       "      <th>3</th>\n",
       "      <td>126907859</td>\n",
       "      <td>DG GE VideoK инструменты 1</td>\n",
       "      <td>67981632</td>\n",
       "      <td>Joom12DR_31.12_VideoK_Instrument1_pack1210_M_2...</td>\n",
       "      <td>Россия</td>\n",
       "      <td>myTarget</td>\n",
       "      <td>14481112</td>\n",
       "      <td>Joom_HM_VKAds_9 (RUB)</td>\n",
       "      <td>2023-05-12</td>\n",
       "      <td>11-31 мая</td>\n",
       "      <td>...</td>\n",
       "      <td>0</td>\n",
       "      <td>NaN</td>\n",
       "      <td>NaN</td>\n",
       "      <td>NaN</td>\n",
       "      <td>NaN</td>\n",
       "      <td>NaN</td>\n",
       "      <td>25,00 RUB</td>\n",
       "      <td>NaN</td>\n",
       "      <td>NaN</td>\n",
       "      <td>25,00 RUB</td>\n",
       "    </tr>\n",
       "    <tr>\n",
       "      <th>4</th>\n",
       "      <td>126907859</td>\n",
       "      <td>DG GE VideoK инструменты 1</td>\n",
       "      <td>67981632</td>\n",
       "      <td>Joom12DR_31.12_VideoK_Instrument1_pack1210_M_2...</td>\n",
       "      <td>Россия</td>\n",
       "      <td>myTarget</td>\n",
       "      <td>14481112</td>\n",
       "      <td>Joom_HM_VKAds_9 (RUB)</td>\n",
       "      <td>2023-05-11</td>\n",
       "      <td>11-31 мая</td>\n",
       "      <td>...</td>\n",
       "      <td>0</td>\n",
       "      <td>53.0</td>\n",
       "      <td>19.0</td>\n",
       "      <td>0,268 %</td>\n",
       "      <td>35,849 %</td>\n",
       "      <td>9,608 %</td>\n",
       "      <td>76,91 RUB</td>\n",
       "      <td>28,74 RUB</td>\n",
       "      <td>80 RUB</td>\n",
       "      <td>76,91 RUB</td>\n",
       "    </tr>\n",
       "  </tbody>\n",
       "</table>\n",
       "<p>5 rows × 22 columns</p>\n",
       "</div>"
      ],
      "text/plain": [
       "   ID Объявления         Название объявления  ID Кампании  \\\n",
       "0      126907858  DG GE VideoK инструменты 1     67981631   \n",
       "1      126907858  DG GE VideoK инструменты 1     67981631   \n",
       "2      126907858  DG GE VideoK инструменты 1     67981631   \n",
       "3      126907859  DG GE VideoK инструменты 1     67981632   \n",
       "4      126907859  DG GE VideoK инструменты 1     67981632   \n",
       "\n",
       "                                   Название кампании  region  Источник  \\\n",
       "0  Joom12DR_31.12_VideoK_Instrument1_pack1210_M_2...  Россия  myTarget   \n",
       "1  Joom12DR_31.12_VideoK_Instrument1_pack1210_M_2...  Россия  myTarget   \n",
       "2  Joom12DR_31.12_VideoK_Instrument1_pack1210_M_2...  Россия  myTarget   \n",
       "3  Joom12DR_31.12_VideoK_Instrument1_pack1210_M_2...  Россия  myTarget   \n",
       "4  Joom12DR_31.12_VideoK_Instrument1_pack1210_M_2...  Россия  myTarget   \n",
       "\n",
       "   Unnamed: 6                 Клиент       Дата date_range  ...  \\\n",
       "0    14481112  Joom_HM_VKAds_9 (RUB) 2023-05-12  11-31 мая  ...   \n",
       "1    14481112  Joom_HM_VKAds_9 (RUB) 2023-05-11  11-31 мая  ...   \n",
       "2    14481112  Joom_HM_VKAds_9 (RUB) 2023-05-10   6-10 мая  ...   \n",
       "3    14481112  Joom_HM_VKAds_9 (RUB) 2023-05-12  11-31 мая  ...   \n",
       "4    14481112  Joom_HM_VKAds_9 (RUB) 2023-05-11  11-31 мая  ...   \n",
       "\n",
       "   Конверсии по показам Клики  Конверсии      CTR        CR  WCR (%)  \\\n",
       "0                     0   NaN        NaN      NaN       NaN      NaN   \n",
       "1                     0  69.0       13.0  0,206 %  18,841 %  3,881 %   \n",
       "2                     0  29.0        4.0  0,183 %  13,793 %  2,524 %   \n",
       "3                     0   NaN        NaN      NaN       NaN      NaN   \n",
       "4                     0  53.0       19.0  0,268 %  35,849 %  9,608 %   \n",
       "\n",
       "         CPM        CPC      CPA       eCPM  \n",
       "0  15,00 RUB        NaN      NaN  15,00 RUB  \n",
       "1  45,58 RUB  22,09 RUB  117 RUB  45,58 RUB  \n",
       "2  39,03 RUB  21,38 RUB  155 RUB  39,03 RUB  \n",
       "3  25,00 RUB        NaN      NaN  25,00 RUB  \n",
       "4  76,91 RUB  28,74 RUB   80 RUB  76,91 RUB  \n",
       "\n",
       "[5 rows x 22 columns]"
      ]
     },
     "execution_count": 56,
     "metadata": {},
     "output_type": "execute_result"
    }
   ],
   "source": [
    "# удалим столбцы без данных\n",
    "plarin = plarin.drop(['EPC', 'EPM','eCPC','P&L','Выручка','ROI','CRR (с НДС)'], axis=1)\n",
    "plarin.head()"
   ]
  },
  {
   "cell_type": "code",
   "execution_count": 57,
   "id": "26c4728e",
   "metadata": {},
   "outputs": [
    {
     "data": {
      "text/plain": [
       "11-31 мая    524\n",
       "6-10 мая      89\n",
       "Name: date_range, dtype: int64"
      ]
     },
     "execution_count": 57,
     "metadata": {},
     "output_type": "execute_result"
    }
   ],
   "source": [
    "# рассмотрим какие значения бывают в столбце date_range\n",
    "\n",
    "plarin['date_range'].value_counts()"
   ]
  },
  {
   "cell_type": "code",
   "execution_count": 58,
   "id": "f5f916aa",
   "metadata": {},
   "outputs": [
    {
     "data": {
      "text/plain": [
       "Россия    575\n",
       "СНГ        38\n",
       "Name: region, dtype: int64"
      ]
     },
     "execution_count": 58,
     "metadata": {},
     "output_type": "execute_result"
    }
   ],
   "source": [
    "# рассмотрим какие значения бывают в столбце region\n",
    "\n",
    "plarin['region'].value_counts()"
   ]
  },
  {
   "cell_type": "code",
   "execution_count": 59,
   "id": "f41e7448",
   "metadata": {},
   "outputs": [
    {
     "name": "stdout",
     "output_type": "stream",
     "text": [
      "пропусков: ID Объявления             0\n",
      "Название объявления       0\n",
      "ID Кампании               0\n",
      "Название кампании         0\n",
      "region                    0\n",
      "Источник                  0\n",
      "Unnamed: 6                0\n",
      "Клиент                    0\n",
      "Дата                      0\n",
      "date_range                0\n",
      "Расход                    0\n",
      "Показы                  163\n",
      "Конверсии по показам      0\n",
      "Клики                   219\n",
      "Конверсии                44\n",
      "CTR                     219\n",
      "CR                      234\n",
      "WCR (%)                 234\n",
      "CPM                     163\n",
      "CPC                     219\n",
      "CPA                     207\n",
      "eCPM                    163\n",
      "dtype: int64\n",
      "\n",
      "дубликатов: 0\n"
     ]
    }
   ],
   "source": [
    "# проверим на пропуски и дубликаты\n",
    "print('пропусков:', plarin.isna().sum())\n",
    "print()\n",
    "print('дубликатов:', plarin.duplicated().sum())"
   ]
  },
  {
   "cell_type": "code",
   "execution_count": 60,
   "id": "4ff5d5fb",
   "metadata": {},
   "outputs": [],
   "source": [
    "# переименуем столбец с индивидуальным номером объявелния для дальнейшего объединениея\n",
    "plarin = plarin.rename(columns={'ID Объявления' : 'Adgroup'})\n",
    "#plarin.head()"
   ]
  },
  {
   "cell_type": "markdown",
   "id": "55c8992f",
   "metadata": {},
   "source": [
    "## Выгрузим таблицу с загрузками"
   ]
  },
  {
   "cell_type": "code",
   "execution_count": 61,
   "id": "a70798c3",
   "metadata": {
    "scrolled": true
   },
   "outputs": [
    {
     "data": {
      "text/html": [
       "<div>\n",
       "<style scoped>\n",
       "    .dataframe tbody tr th:only-of-type {\n",
       "        vertical-align: middle;\n",
       "    }\n",
       "\n",
       "    .dataframe tbody tr th {\n",
       "        vertical-align: top;\n",
       "    }\n",
       "\n",
       "    .dataframe thead th {\n",
       "        text-align: right;\n",
       "    }\n",
       "</style>\n",
       "<table border=\"1\" class=\"dataframe\">\n",
       "  <thead>\n",
       "    <tr style=\"text-align: right;\">\n",
       "      <th></th>\n",
       "      <th>Date</th>\n",
       "      <th>date_range</th>\n",
       "      <th>Tracker</th>\n",
       "      <th>Campaign</th>\n",
       "      <th>Adgroup</th>\n",
       "      <th>Network</th>\n",
       "      <th>Country</th>\n",
       "      <th>region</th>\n",
       "      <th>Installs</th>\n",
       "    </tr>\n",
       "  </thead>\n",
       "  <tbody>\n",
       "    <tr>\n",
       "      <th>0</th>\n",
       "      <td>2023-05-10</td>\n",
       "      <td>6-10 мая</td>\n",
       "      <td>mn3x98u</td>\n",
       "      <td>68115835</td>\n",
       "      <td>127048225</td>\n",
       "      <td>huntermob_vk</td>\n",
       "      <td>ru</td>\n",
       "      <td>Россия</td>\n",
       "      <td>17</td>\n",
       "    </tr>\n",
       "    <tr>\n",
       "      <th>1</th>\n",
       "      <td>2023-05-10</td>\n",
       "      <td>6-10 мая</td>\n",
       "      <td>se043uy</td>\n",
       "      <td>67982511</td>\n",
       "      <td>126908782</td>\n",
       "      <td>huntermob_vk</td>\n",
       "      <td>ru</td>\n",
       "      <td>Россия</td>\n",
       "      <td>8</td>\n",
       "    </tr>\n",
       "    <tr>\n",
       "      <th>2</th>\n",
       "      <td>2023-05-10</td>\n",
       "      <td>6-10 мая</td>\n",
       "      <td>exeopt</td>\n",
       "      <td>67996793</td>\n",
       "      <td>126923936</td>\n",
       "      <td>huntermob_vk</td>\n",
       "      <td>ru</td>\n",
       "      <td>Россия</td>\n",
       "      <td>4</td>\n",
       "    </tr>\n",
       "    <tr>\n",
       "      <th>3</th>\n",
       "      <td>2023-05-10</td>\n",
       "      <td>6-10 мая</td>\n",
       "      <td>y1882qa</td>\n",
       "      <td>68663028</td>\n",
       "      <td>127644596</td>\n",
       "      <td>huntermob_vk</td>\n",
       "      <td>ru</td>\n",
       "      <td>Россия</td>\n",
       "      <td>7</td>\n",
       "    </tr>\n",
       "    <tr>\n",
       "      <th>4</th>\n",
       "      <td>2023-05-10</td>\n",
       "      <td>6-10 мая</td>\n",
       "      <td>rp369y4</td>\n",
       "      <td>68867006</td>\n",
       "      <td>127856769</td>\n",
       "      <td>huntermob_vk</td>\n",
       "      <td>ru</td>\n",
       "      <td>Россия</td>\n",
       "      <td>1</td>\n",
       "    </tr>\n",
       "  </tbody>\n",
       "</table>\n",
       "</div>"
      ],
      "text/plain": [
       "        Date date_range  Tracker  Campaign    Adgroup       Network Country  \\\n",
       "0 2023-05-10   6-10 мая  mn3x98u  68115835  127048225  huntermob_vk      ru   \n",
       "1 2023-05-10   6-10 мая  se043uy  67982511  126908782  huntermob_vk      ru   \n",
       "2 2023-05-10   6-10 мая   exeopt  67996793  126923936  huntermob_vk      ru   \n",
       "3 2023-05-10   6-10 мая  y1882qa  68663028  127644596  huntermob_vk      ru   \n",
       "4 2023-05-10   6-10 мая  rp369y4  68867006  127856769  huntermob_vk      ru   \n",
       "\n",
       "   region  Installs  \n",
       "0  Россия        17  \n",
       "1  Россия         8  \n",
       "2  Россия         4  \n",
       "3  Россия         7  \n",
       "4  Россия         1  "
      ]
     },
     "execution_count": 61,
     "metadata": {},
     "output_type": "execute_result"
    }
   ],
   "source": [
    "installs = pd.read_excel('Installs API.xlsx', sheet_name = 'Installs API')\n",
    "installs.head()"
   ]
  },
  {
   "cell_type": "code",
   "execution_count": 62,
   "id": "55cdeb5b",
   "metadata": {},
   "outputs": [
    {
     "data": {
      "text/plain": [
       "142"
      ]
     },
     "execution_count": 62,
     "metadata": {},
     "output_type": "execute_result"
    }
   ],
   "source": [
    "len(installs['Adgroup'].unique())"
   ]
  },
  {
   "cell_type": "code",
   "execution_count": 63,
   "id": "e511d563",
   "metadata": {
    "scrolled": true
   },
   "outputs": [
    {
     "data": {
      "text/plain": [
       "127644504    26\n",
       "127048227    16\n",
       "127849503    16\n",
       "127850650    13\n",
       "127644502    12\n",
       "Name: Adgroup, dtype: int64"
      ]
     },
     "execution_count": 63,
     "metadata": {},
     "output_type": "execute_result"
    }
   ],
   "source": [
    "installs['Adgroup'].value_counts().head()"
   ]
  },
  {
   "cell_type": "code",
   "execution_count": 64,
   "id": "0fc9ca64",
   "metadata": {
    "scrolled": true
   },
   "outputs": [
    {
     "data": {
      "text/html": [
       "<div>\n",
       "<style scoped>\n",
       "    .dataframe tbody tr th:only-of-type {\n",
       "        vertical-align: middle;\n",
       "    }\n",
       "\n",
       "    .dataframe tbody tr th {\n",
       "        vertical-align: top;\n",
       "    }\n",
       "\n",
       "    .dataframe thead th {\n",
       "        text-align: right;\n",
       "    }\n",
       "</style>\n",
       "<table border=\"1\" class=\"dataframe\">\n",
       "  <thead>\n",
       "    <tr style=\"text-align: right;\">\n",
       "      <th></th>\n",
       "      <th>Date</th>\n",
       "      <th>date_range</th>\n",
       "      <th>Tracker</th>\n",
       "      <th>Campaign</th>\n",
       "      <th>Adgroup</th>\n",
       "      <th>Network</th>\n",
       "      <th>Country</th>\n",
       "      <th>region</th>\n",
       "      <th>Installs</th>\n",
       "    </tr>\n",
       "  </thead>\n",
       "  <tbody>\n",
       "    <tr>\n",
       "      <th>37</th>\n",
       "      <td>2023-05-10</td>\n",
       "      <td>6-10 мая</td>\n",
       "      <td>9coiqt6</td>\n",
       "      <td>68662936</td>\n",
       "      <td>127644504</td>\n",
       "      <td>huntermob_vk</td>\n",
       "      <td>ru</td>\n",
       "      <td>Россия</td>\n",
       "      <td>10</td>\n",
       "    </tr>\n",
       "    <tr>\n",
       "      <th>38</th>\n",
       "      <td>2023-05-10</td>\n",
       "      <td>6-10 мая</td>\n",
       "      <td>9coiqt6</td>\n",
       "      <td>68662936</td>\n",
       "      <td>127644504</td>\n",
       "      <td>huntermob_vk</td>\n",
       "      <td>tj</td>\n",
       "      <td>СНГ</td>\n",
       "      <td>1</td>\n",
       "    </tr>\n",
       "    <tr>\n",
       "      <th>39</th>\n",
       "      <td>2023-05-10</td>\n",
       "      <td>6-10 мая</td>\n",
       "      <td>9coiqt6</td>\n",
       "      <td>68662936</td>\n",
       "      <td>127644504</td>\n",
       "      <td>huntermob_vk</td>\n",
       "      <td>ua</td>\n",
       "      <td>СНГ</td>\n",
       "      <td>3</td>\n",
       "    </tr>\n",
       "    <tr>\n",
       "      <th>143</th>\n",
       "      <td>2023-05-11</td>\n",
       "      <td>11-31 мая</td>\n",
       "      <td>9coiqt6</td>\n",
       "      <td>68662936</td>\n",
       "      <td>127644504</td>\n",
       "      <td>huntermob_vk</td>\n",
       "      <td>at</td>\n",
       "      <td>NaN</td>\n",
       "      <td>1</td>\n",
       "    </tr>\n",
       "    <tr>\n",
       "      <th>144</th>\n",
       "      <td>2023-05-11</td>\n",
       "      <td>11-31 мая</td>\n",
       "      <td>9coiqt6</td>\n",
       "      <td>68662936</td>\n",
       "      <td>127644504</td>\n",
       "      <td>huntermob_vk</td>\n",
       "      <td>ru</td>\n",
       "      <td>Россия</td>\n",
       "      <td>36</td>\n",
       "    </tr>\n",
       "  </tbody>\n",
       "</table>\n",
       "</div>"
      ],
      "text/plain": [
       "          Date date_range  Tracker  Campaign    Adgroup       Network Country  \\\n",
       "37  2023-05-10   6-10 мая  9coiqt6  68662936  127644504  huntermob_vk      ru   \n",
       "38  2023-05-10   6-10 мая  9coiqt6  68662936  127644504  huntermob_vk      tj   \n",
       "39  2023-05-10   6-10 мая  9coiqt6  68662936  127644504  huntermob_vk      ua   \n",
       "143 2023-05-11  11-31 мая  9coiqt6  68662936  127644504  huntermob_vk      at   \n",
       "144 2023-05-11  11-31 мая  9coiqt6  68662936  127644504  huntermob_vk      ru   \n",
       "\n",
       "     region  Installs  \n",
       "37   Россия        10  \n",
       "38      СНГ         1  \n",
       "39      СНГ         3  \n",
       "143     NaN         1  \n",
       "144  Россия        36  "
      ]
     },
     "execution_count": 64,
     "metadata": {},
     "output_type": "execute_result"
    }
   ],
   "source": [
    "temp = installs.loc[installs['Adgroup']==127644504]\n",
    "temp.head()"
   ]
  },
  {
   "cell_type": "markdown",
   "id": "3eb875a9",
   "metadata": {},
   "source": [
    "<div class=\"alert alert-block alert-danger\">\n",
    "В столбце Adgroup по условию должны быть уникальные значения, которые связывали бы таблицы Plarin и Installs. Однако это не так. \n",
    "</div>"
   ]
  },
  {
   "cell_type": "code",
   "execution_count": 65,
   "id": "00db060c",
   "metadata": {},
   "outputs": [
    {
     "data": {
      "text/plain": [
       "Россия    538\n",
       "СНГ        93\n",
       "Name: region, dtype: int64"
      ]
     },
     "execution_count": 65,
     "metadata": {},
     "output_type": "execute_result"
    }
   ],
   "source": [
    "# рассмотрим какие значения бывают в столбце region\n",
    "\n",
    "installs['region'].value_counts()"
   ]
  },
  {
   "cell_type": "code",
   "execution_count": 66,
   "id": "97f55933",
   "metadata": {},
   "outputs": [
    {
     "data": {
      "text/plain": [
       "11-31 мая    542\n",
       "6-10 мая      90\n",
       "Name: date_range, dtype: int64"
      ]
     },
     "execution_count": 66,
     "metadata": {},
     "output_type": "execute_result"
    }
   ],
   "source": [
    "# рассмотрим какие значения бывают в столбце date_range\n",
    "\n",
    "installs['date_range'].value_counts()"
   ]
  },
  {
   "cell_type": "code",
   "execution_count": 67,
   "id": "034aa181",
   "metadata": {},
   "outputs": [
    {
     "name": "stdout",
     "output_type": "stream",
     "text": [
      "<class 'pandas.core.frame.DataFrame'>\n",
      "RangeIndex: 632 entries, 0 to 631\n",
      "Data columns (total 9 columns):\n",
      " #   Column      Non-Null Count  Dtype         \n",
      "---  ------      --------------  -----         \n",
      " 0   Date        632 non-null    datetime64[ns]\n",
      " 1   date_range  632 non-null    object        \n",
      " 2   Tracker     632 non-null    object        \n",
      " 3   Campaign    632 non-null    object        \n",
      " 4   Adgroup     632 non-null    object        \n",
      " 5   Network     632 non-null    object        \n",
      " 6   Country     632 non-null    object        \n",
      " 7   region      631 non-null    object        \n",
      " 8   Installs    632 non-null    int64         \n",
      "dtypes: datetime64[ns](1), int64(1), object(7)\n",
      "memory usage: 44.6+ KB\n"
     ]
    }
   ],
   "source": [
    "# Рассмотрим общую информацию о таблице\n",
    "installs.info()"
   ]
  },
  {
   "cell_type": "markdown",
   "id": "7f1d46a5",
   "metadata": {},
   "source": [
    "### Промежуточные выводы:\n",
    "\n",
    "    1. нам поступили таблицы с одним общим столбцом - уникальным номером объявления\n",
    "    2. есть всего два типа терриоттриального разделения: Россия и СНГ\n",
    "    3. есть 2 временных промежутка: 6-10 мая и 11-31 мая. Эти промежутки совпадают у всех таблиц\n",
    "    \n",
    "    \n",
    "### Дальнейшие действия:\n",
    "\n",
    "    1. соберем нужные данные в рамках каждой таблицы, а потом объединим по результатам за нужный период\n",
    "    "
   ]
  },
  {
   "cell_type": "code",
   "execution_count": 68,
   "id": "a2461702",
   "metadata": {
    "scrolled": false
   },
   "outputs": [
    {
     "data": {
      "text/html": [
       "<div>\n",
       "<style scoped>\n",
       "    .dataframe tbody tr th:only-of-type {\n",
       "        vertical-align: middle;\n",
       "    }\n",
       "\n",
       "    .dataframe tbody tr th {\n",
       "        vertical-align: top;\n",
       "    }\n",
       "\n",
       "    .dataframe thead th {\n",
       "        text-align: right;\n",
       "    }\n",
       "</style>\n",
       "<table border=\"1\" class=\"dataframe\">\n",
       "  <thead>\n",
       "    <tr style=\"text-align: right;\">\n",
       "      <th></th>\n",
       "      <th>date_range</th>\n",
       "      <th>Расход</th>\n",
       "    </tr>\n",
       "  </thead>\n",
       "  <tbody>\n",
       "    <tr>\n",
       "      <th>2</th>\n",
       "      <td>6-10 мая</td>\n",
       "      <td>1274.01</td>\n",
       "    </tr>\n",
       "    <tr>\n",
       "      <th>5</th>\n",
       "      <td>6-10 мая</td>\n",
       "      <td>591.23</td>\n",
       "    </tr>\n",
       "    <tr>\n",
       "      <th>9</th>\n",
       "      <td>6-10 мая</td>\n",
       "      <td>518.84</td>\n",
       "    </tr>\n",
       "    <tr>\n",
       "      <th>14</th>\n",
       "      <td>6-10 мая</td>\n",
       "      <td>671.52</td>\n",
       "    </tr>\n",
       "    <tr>\n",
       "      <th>19</th>\n",
       "      <td>6-10 мая</td>\n",
       "      <td>477.92</td>\n",
       "    </tr>\n",
       "  </tbody>\n",
       "</table>\n",
       "</div>"
      ],
      "text/plain": [
       "   date_range   Расход\n",
       "2    6-10 мая  1274.01\n",
       "5    6-10 мая   591.23\n",
       "9    6-10 мая   518.84\n",
       "14   6-10 мая   671.52\n",
       "19   6-10 мая   477.92"
      ]
     },
     "execution_count": 68,
     "metadata": {},
     "output_type": "execute_result"
    }
   ],
   "source": [
    "# Сделаем \"основу\" для таблицы и дальше будем добавлять по столбцу\n",
    "total = plarin.loc[plarin['date_range']=='6-10 мая'][['date_range','Расход']]\n",
    "total.head()"
   ]
  },
  {
   "cell_type": "code",
   "execution_count": 69,
   "id": "2f41a756",
   "metadata": {
    "scrolled": false
   },
   "outputs": [
    {
     "data": {
      "text/html": [
       "<div>\n",
       "<style scoped>\n",
       "    .dataframe tbody tr th:only-of-type {\n",
       "        vertical-align: middle;\n",
       "    }\n",
       "\n",
       "    .dataframe tbody tr th {\n",
       "        vertical-align: top;\n",
       "    }\n",
       "\n",
       "    .dataframe thead th {\n",
       "        text-align: right;\n",
       "    }\n",
       "</style>\n",
       "<table border=\"1\" class=\"dataframe\">\n",
       "  <thead>\n",
       "    <tr style=\"text-align: right;\">\n",
       "      <th></th>\n",
       "      <th>Расход</th>\n",
       "    </tr>\n",
       "    <tr>\n",
       "      <th>date_range</th>\n",
       "      <th></th>\n",
       "    </tr>\n",
       "  </thead>\n",
       "  <tbody>\n",
       "    <tr>\n",
       "      <th>6-10 мая</th>\n",
       "      <td>68824.05</td>\n",
       "    </tr>\n",
       "  </tbody>\n",
       "</table>\n",
       "</div>"
      ],
      "text/plain": [
       "              Расход\n",
       "date_range          \n",
       "6-10 мая    68824.05"
      ]
     },
     "execution_count": 69,
     "metadata": {},
     "output_type": "execute_result"
    }
   ],
   "source": [
    "total = total.groupby('date_range').agg('sum')\n",
    "total.head()"
   ]
  },
  {
   "cell_type": "code",
   "execution_count": 70,
   "id": "f2022bb5",
   "metadata": {},
   "outputs": [
    {
     "data": {
      "text/html": [
       "<div>\n",
       "<style scoped>\n",
       "    .dataframe tbody tr th:only-of-type {\n",
       "        vertical-align: middle;\n",
       "    }\n",
       "\n",
       "    .dataframe tbody tr th {\n",
       "        vertical-align: top;\n",
       "    }\n",
       "\n",
       "    .dataframe thead th {\n",
       "        text-align: right;\n",
       "    }\n",
       "</style>\n",
       "<table border=\"1\" class=\"dataframe\">\n",
       "  <thead>\n",
       "    <tr style=\"text-align: right;\">\n",
       "      <th></th>\n",
       "      <th>Расход</th>\n",
       "    </tr>\n",
       "    <tr>\n",
       "      <th>date_range</th>\n",
       "      <th></th>\n",
       "    </tr>\n",
       "  </thead>\n",
       "  <tbody>\n",
       "    <tr>\n",
       "      <th>6-10 мая</th>\n",
       "      <td>868.880823</td>\n",
       "    </tr>\n",
       "  </tbody>\n",
       "</table>\n",
       "</div>"
      ],
      "text/plain": [
       "                Расход\n",
       "date_range            \n",
       "6-10 мая    868.880823"
      ]
     },
     "execution_count": 70,
     "metadata": {},
     "output_type": "execute_result"
    }
   ],
   "source": [
    "# сделаем поправку на доллар. Среднее значение за май 2023 - 79,21\n",
    "total['Расход'] = total['Расход'] / 79.21\n",
    "total.head()"
   ]
  },
  {
   "cell_type": "code",
   "execution_count": 71,
   "id": "acde996e",
   "metadata": {
    "scrolled": false
   },
   "outputs": [
    {
     "data": {
      "text/html": [
       "<div>\n",
       "<style scoped>\n",
       "    .dataframe tbody tr th:only-of-type {\n",
       "        vertical-align: middle;\n",
       "    }\n",
       "\n",
       "    .dataframe tbody tr th {\n",
       "        vertical-align: top;\n",
       "    }\n",
       "\n",
       "    .dataframe thead th {\n",
       "        text-align: right;\n",
       "    }\n",
       "</style>\n",
       "<table border=\"1\" class=\"dataframe\">\n",
       "  <thead>\n",
       "    <tr style=\"text-align: right;\">\n",
       "      <th></th>\n",
       "      <th>Расход</th>\n",
       "      <th>installs</th>\n",
       "    </tr>\n",
       "    <tr>\n",
       "      <th>date_range</th>\n",
       "      <th></th>\n",
       "      <th></th>\n",
       "    </tr>\n",
       "  </thead>\n",
       "  <tbody>\n",
       "    <tr>\n",
       "      <th>6-10 мая</th>\n",
       "      <td>868.880823</td>\n",
       "      <td>727</td>\n",
       "    </tr>\n",
       "  </tbody>\n",
       "</table>\n",
       "</div>"
      ],
      "text/plain": [
       "                Расход  installs\n",
       "date_range                      \n",
       "6-10 мая    868.880823       727"
      ]
     },
     "execution_count": 71,
     "metadata": {},
     "output_type": "execute_result"
    }
   ],
   "source": [
    "total['installs'] = installs.loc[installs['date_range']=='6-10 мая']['Installs'].sum()\n",
    "total.head()"
   ]
  },
  {
   "cell_type": "code",
   "execution_count": 72,
   "id": "03f06f98",
   "metadata": {},
   "outputs": [
    {
     "data": {
      "text/html": [
       "<div>\n",
       "<style scoped>\n",
       "    .dataframe tbody tr th:only-of-type {\n",
       "        vertical-align: middle;\n",
       "    }\n",
       "\n",
       "    .dataframe tbody tr th {\n",
       "        vertical-align: top;\n",
       "    }\n",
       "\n",
       "    .dataframe thead th {\n",
       "        text-align: right;\n",
       "    }\n",
       "</style>\n",
       "<table border=\"1\" class=\"dataframe\">\n",
       "  <thead>\n",
       "    <tr style=\"text-align: right;\">\n",
       "      <th></th>\n",
       "      <th>Расход</th>\n",
       "      <th>installs</th>\n",
       "      <th>cpi</th>\n",
       "    </tr>\n",
       "    <tr>\n",
       "      <th>date_range</th>\n",
       "      <th></th>\n",
       "      <th></th>\n",
       "      <th></th>\n",
       "    </tr>\n",
       "  </thead>\n",
       "  <tbody>\n",
       "    <tr>\n",
       "      <th>6-10 мая</th>\n",
       "      <td>868.880823</td>\n",
       "      <td>727</td>\n",
       "      <td>1.195159</td>\n",
       "    </tr>\n",
       "  </tbody>\n",
       "</table>\n",
       "</div>"
      ],
      "text/plain": [
       "                Расход  installs       cpi\n",
       "date_range                                \n",
       "6-10 мая    868.880823       727  1.195159"
      ]
     },
     "execution_count": 72,
     "metadata": {},
     "output_type": "execute_result"
    }
   ],
   "source": [
    "total['cpi'] = total['Расход'] / total['installs']\n",
    "total.head()"
   ]
  },
  {
   "cell_type": "code",
   "execution_count": 73,
   "id": "f3f06895",
   "metadata": {},
   "outputs": [
    {
     "data": {
      "text/html": [
       "<div>\n",
       "<style scoped>\n",
       "    .dataframe tbody tr th:only-of-type {\n",
       "        vertical-align: middle;\n",
       "    }\n",
       "\n",
       "    .dataframe tbody tr th {\n",
       "        vertical-align: top;\n",
       "    }\n",
       "\n",
       "    .dataframe thead th {\n",
       "        text-align: right;\n",
       "    }\n",
       "</style>\n",
       "<table border=\"1\" class=\"dataframe\">\n",
       "  <thead>\n",
       "    <tr style=\"text-align: right;\">\n",
       "      <th></th>\n",
       "      <th>Расход</th>\n",
       "      <th>installs</th>\n",
       "      <th>cpi</th>\n",
       "      <th>Окупаемость</th>\n",
       "    </tr>\n",
       "    <tr>\n",
       "      <th>date_range</th>\n",
       "      <th></th>\n",
       "      <th></th>\n",
       "      <th></th>\n",
       "      <th></th>\n",
       "    </tr>\n",
       "  </thead>\n",
       "  <tbody>\n",
       "    <tr>\n",
       "      <th>6-10 мая</th>\n",
       "      <td>868.880823</td>\n",
       "      <td>727</td>\n",
       "      <td>1.195159</td>\n",
       "      <td>1.039761</td>\n",
       "    </tr>\n",
       "  </tbody>\n",
       "</table>\n",
       "</div>"
      ],
      "text/plain": [
       "                Расход  installs       cpi  Окупаемость\n",
       "date_range                                             \n",
       "6-10 мая    868.880823       727  1.195159     1.039761"
      ]
     },
     "execution_count": 73,
     "metadata": {},
     "output_type": "execute_result"
    }
   ],
   "source": [
    "total['Окупаемость'] = revenue.loc[revenue['date_range']=='6-10 мая']['Revenue'].sum()/total['Расход']\n",
    "total.head()"
   ]
  },
  {
   "cell_type": "code",
   "execution_count": 74,
   "id": "a3bec7c1",
   "metadata": {},
   "outputs": [
    {
     "data": {
      "text/html": [
       "<div>\n",
       "<style scoped>\n",
       "    .dataframe tbody tr th:only-of-type {\n",
       "        vertical-align: middle;\n",
       "    }\n",
       "\n",
       "    .dataframe tbody tr th {\n",
       "        vertical-align: top;\n",
       "    }\n",
       "\n",
       "    .dataframe thead th {\n",
       "        text-align: right;\n",
       "    }\n",
       "</style>\n",
       "<table border=\"1\" class=\"dataframe\">\n",
       "  <thead>\n",
       "    <tr style=\"text-align: right;\">\n",
       "      <th></th>\n",
       "      <th>Расход</th>\n",
       "      <th>installs</th>\n",
       "      <th>cpi</th>\n",
       "      <th>Окупаемость</th>\n",
       "      <th>Profit</th>\n",
       "    </tr>\n",
       "    <tr>\n",
       "      <th>date_range</th>\n",
       "      <th></th>\n",
       "      <th></th>\n",
       "      <th></th>\n",
       "      <th></th>\n",
       "      <th></th>\n",
       "    </tr>\n",
       "  </thead>\n",
       "  <tbody>\n",
       "    <tr>\n",
       "      <th>6-10 мая</th>\n",
       "      <td>868.880823</td>\n",
       "      <td>727</td>\n",
       "      <td>1.195159</td>\n",
       "      <td>1.039761</td>\n",
       "      <td>34.547177</td>\n",
       "    </tr>\n",
       "  </tbody>\n",
       "</table>\n",
       "</div>"
      ],
      "text/plain": [
       "                Расход  installs       cpi  Окупаемость     Profit\n",
       "date_range                                                        \n",
       "6-10 мая    868.880823       727  1.195159     1.039761  34.547177"
      ]
     },
     "execution_count": 74,
     "metadata": {},
     "output_type": "execute_result"
    }
   ],
   "source": [
    "total['Profit'] = revenue.loc[revenue['date_range']=='6-10 мая']['Revenue'].sum() - total['Расход']\n",
    "total.head()"
   ]
  },
  {
   "cell_type": "code",
   "execution_count": 75,
   "id": "c5adcac8",
   "metadata": {},
   "outputs": [
    {
     "data": {
      "text/html": [
       "<div>\n",
       "<style scoped>\n",
       "    .dataframe tbody tr th:only-of-type {\n",
       "        vertical-align: middle;\n",
       "    }\n",
       "\n",
       "    .dataframe tbody tr th {\n",
       "        vertical-align: top;\n",
       "    }\n",
       "\n",
       "    .dataframe thead th {\n",
       "        text-align: right;\n",
       "    }\n",
       "</style>\n",
       "<table border=\"1\" class=\"dataframe\">\n",
       "  <thead>\n",
       "    <tr style=\"text-align: right;\">\n",
       "      <th></th>\n",
       "      <th>date_range</th>\n",
       "      <th>Расход</th>\n",
       "    </tr>\n",
       "  </thead>\n",
       "  <tbody>\n",
       "    <tr>\n",
       "      <th>0</th>\n",
       "      <td>11-31 мая</td>\n",
       "      <td>0.03</td>\n",
       "    </tr>\n",
       "    <tr>\n",
       "      <th>1</th>\n",
       "      <td>11-31 мая</td>\n",
       "      <td>1524.23</td>\n",
       "    </tr>\n",
       "    <tr>\n",
       "      <th>3</th>\n",
       "      <td>11-31 мая</td>\n",
       "      <td>0.05</td>\n",
       "    </tr>\n",
       "    <tr>\n",
       "      <th>4</th>\n",
       "      <td>11-31 мая</td>\n",
       "      <td>1523.19</td>\n",
       "    </tr>\n",
       "    <tr>\n",
       "      <th>6</th>\n",
       "      <td>11-31 мая</td>\n",
       "      <td>256.00</td>\n",
       "    </tr>\n",
       "  </tbody>\n",
       "</table>\n",
       "</div>"
      ],
      "text/plain": [
       "  date_range   Расход\n",
       "0  11-31 мая     0.03\n",
       "1  11-31 мая  1524.23\n",
       "3  11-31 мая     0.05\n",
       "4  11-31 мая  1523.19\n",
       "6  11-31 мая   256.00"
      ]
     },
     "execution_count": 75,
     "metadata": {},
     "output_type": "execute_result"
    }
   ],
   "source": [
    "# Сделаем то же самое для другой даты\n",
    "total_2 = plarin.loc[plarin['date_range']=='11-31 мая'][['date_range','Расход']]\n",
    "total_2.head()\n"
   ]
  },
  {
   "cell_type": "code",
   "execution_count": 76,
   "id": "33ca6642",
   "metadata": {
    "scrolled": false
   },
   "outputs": [
    {
     "data": {
      "text/html": [
       "<div>\n",
       "<style scoped>\n",
       "    .dataframe tbody tr th:only-of-type {\n",
       "        vertical-align: middle;\n",
       "    }\n",
       "\n",
       "    .dataframe tbody tr th {\n",
       "        vertical-align: top;\n",
       "    }\n",
       "\n",
       "    .dataframe thead th {\n",
       "        text-align: right;\n",
       "    }\n",
       "</style>\n",
       "<table border=\"1\" class=\"dataframe\">\n",
       "  <thead>\n",
       "    <tr style=\"text-align: right;\">\n",
       "      <th></th>\n",
       "      <th>Расход</th>\n",
       "    </tr>\n",
       "    <tr>\n",
       "      <th>date_range</th>\n",
       "      <th></th>\n",
       "    </tr>\n",
       "  </thead>\n",
       "  <tbody>\n",
       "    <tr>\n",
       "      <th>11-31 мая</th>\n",
       "      <td>465189.42</td>\n",
       "    </tr>\n",
       "  </tbody>\n",
       "</table>\n",
       "</div>"
      ],
      "text/plain": [
       "               Расход\n",
       "date_range           \n",
       "11-31 мая   465189.42"
      ]
     },
     "execution_count": 76,
     "metadata": {},
     "output_type": "execute_result"
    }
   ],
   "source": [
    "total_2 = total_2.groupby('date_range').agg('sum')\n",
    "total_2.head()"
   ]
  },
  {
   "cell_type": "code",
   "execution_count": 77,
   "id": "3ed84964",
   "metadata": {},
   "outputs": [
    {
     "data": {
      "text/html": [
       "<div>\n",
       "<style scoped>\n",
       "    .dataframe tbody tr th:only-of-type {\n",
       "        vertical-align: middle;\n",
       "    }\n",
       "\n",
       "    .dataframe tbody tr th {\n",
       "        vertical-align: top;\n",
       "    }\n",
       "\n",
       "    .dataframe thead th {\n",
       "        text-align: right;\n",
       "    }\n",
       "</style>\n",
       "<table border=\"1\" class=\"dataframe\">\n",
       "  <thead>\n",
       "    <tr style=\"text-align: right;\">\n",
       "      <th></th>\n",
       "      <th>Расход</th>\n",
       "    </tr>\n",
       "    <tr>\n",
       "      <th>date_range</th>\n",
       "      <th></th>\n",
       "    </tr>\n",
       "  </thead>\n",
       "  <tbody>\n",
       "    <tr>\n",
       "      <th>11-31 мая</th>\n",
       "      <td>5872.862265</td>\n",
       "    </tr>\n",
       "  </tbody>\n",
       "</table>\n",
       "</div>"
      ],
      "text/plain": [
       "                 Расход\n",
       "date_range             \n",
       "11-31 мая   5872.862265"
      ]
     },
     "execution_count": 77,
     "metadata": {},
     "output_type": "execute_result"
    }
   ],
   "source": [
    "# сделаем поправку на доллар. Среднее значение за май 2023 - 79,21\n",
    "total_2['Расход'] = total_2['Расход'] / 79.21\n",
    "total_2.head()"
   ]
  },
  {
   "cell_type": "code",
   "execution_count": 78,
   "id": "5316c7bc",
   "metadata": {},
   "outputs": [
    {
     "data": {
      "text/html": [
       "<div>\n",
       "<style scoped>\n",
       "    .dataframe tbody tr th:only-of-type {\n",
       "        vertical-align: middle;\n",
       "    }\n",
       "\n",
       "    .dataframe tbody tr th {\n",
       "        vertical-align: top;\n",
       "    }\n",
       "\n",
       "    .dataframe thead th {\n",
       "        text-align: right;\n",
       "    }\n",
       "</style>\n",
       "<table border=\"1\" class=\"dataframe\">\n",
       "  <thead>\n",
       "    <tr style=\"text-align: right;\">\n",
       "      <th></th>\n",
       "      <th>Расход</th>\n",
       "      <th>installs</th>\n",
       "    </tr>\n",
       "    <tr>\n",
       "      <th>date_range</th>\n",
       "      <th></th>\n",
       "      <th></th>\n",
       "    </tr>\n",
       "  </thead>\n",
       "  <tbody>\n",
       "    <tr>\n",
       "      <th>11-31 мая</th>\n",
       "      <td>5872.862265</td>\n",
       "      <td>6698</td>\n",
       "    </tr>\n",
       "  </tbody>\n",
       "</table>\n",
       "</div>"
      ],
      "text/plain": [
       "                 Расход  installs\n",
       "date_range                       \n",
       "11-31 мая   5872.862265      6698"
      ]
     },
     "execution_count": 78,
     "metadata": {},
     "output_type": "execute_result"
    }
   ],
   "source": [
    "total_2['installs'] = installs.loc[installs['date_range']=='11-31 мая']['Installs'].sum()\n",
    "total_2.head()"
   ]
  },
  {
   "cell_type": "code",
   "execution_count": 79,
   "id": "598527fe",
   "metadata": {},
   "outputs": [
    {
     "data": {
      "text/html": [
       "<div>\n",
       "<style scoped>\n",
       "    .dataframe tbody tr th:only-of-type {\n",
       "        vertical-align: middle;\n",
       "    }\n",
       "\n",
       "    .dataframe tbody tr th {\n",
       "        vertical-align: top;\n",
       "    }\n",
       "\n",
       "    .dataframe thead th {\n",
       "        text-align: right;\n",
       "    }\n",
       "</style>\n",
       "<table border=\"1\" class=\"dataframe\">\n",
       "  <thead>\n",
       "    <tr style=\"text-align: right;\">\n",
       "      <th></th>\n",
       "      <th>Расход</th>\n",
       "      <th>installs</th>\n",
       "      <th>cpi</th>\n",
       "    </tr>\n",
       "    <tr>\n",
       "      <th>date_range</th>\n",
       "      <th></th>\n",
       "      <th></th>\n",
       "      <th></th>\n",
       "    </tr>\n",
       "  </thead>\n",
       "  <tbody>\n",
       "    <tr>\n",
       "      <th>11-31 мая</th>\n",
       "      <td>5872.862265</td>\n",
       "      <td>6698</td>\n",
       "      <td>0.876808</td>\n",
       "    </tr>\n",
       "  </tbody>\n",
       "</table>\n",
       "</div>"
      ],
      "text/plain": [
       "                 Расход  installs       cpi\n",
       "date_range                                 \n",
       "11-31 мая   5872.862265      6698  0.876808"
      ]
     },
     "execution_count": 79,
     "metadata": {},
     "output_type": "execute_result"
    }
   ],
   "source": [
    "total_2['cpi'] = total_2['Расход'] / total_2['installs']\n",
    "total_2.head()"
   ]
  },
  {
   "cell_type": "code",
   "execution_count": 80,
   "id": "691f4e8d",
   "metadata": {},
   "outputs": [
    {
     "data": {
      "text/html": [
       "<div>\n",
       "<style scoped>\n",
       "    .dataframe tbody tr th:only-of-type {\n",
       "        vertical-align: middle;\n",
       "    }\n",
       "\n",
       "    .dataframe tbody tr th {\n",
       "        vertical-align: top;\n",
       "    }\n",
       "\n",
       "    .dataframe thead th {\n",
       "        text-align: right;\n",
       "    }\n",
       "</style>\n",
       "<table border=\"1\" class=\"dataframe\">\n",
       "  <thead>\n",
       "    <tr style=\"text-align: right;\">\n",
       "      <th></th>\n",
       "      <th>Расход</th>\n",
       "      <th>installs</th>\n",
       "      <th>cpi</th>\n",
       "      <th>Окупаемость</th>\n",
       "    </tr>\n",
       "    <tr>\n",
       "      <th>date_range</th>\n",
       "      <th></th>\n",
       "      <th></th>\n",
       "      <th></th>\n",
       "      <th></th>\n",
       "    </tr>\n",
       "  </thead>\n",
       "  <tbody>\n",
       "    <tr>\n",
       "      <th>11-31 мая</th>\n",
       "      <td>5872.862265</td>\n",
       "      <td>6698</td>\n",
       "      <td>0.876808</td>\n",
       "      <td>1.353608</td>\n",
       "    </tr>\n",
       "  </tbody>\n",
       "</table>\n",
       "</div>"
      ],
      "text/plain": [
       "                 Расход  installs       cpi  Окупаемость\n",
       "date_range                                              \n",
       "11-31 мая   5872.862265      6698  0.876808     1.353608"
      ]
     },
     "execution_count": 80,
     "metadata": {},
     "output_type": "execute_result"
    }
   ],
   "source": [
    "total_2['Окупаемость'] = revenue.loc[revenue['date_range']=='11-31 мая']['Revenue'].sum()/total_2['Расход']\n",
    "total_2.head()"
   ]
  },
  {
   "cell_type": "code",
   "execution_count": 81,
   "id": "2ad4441d",
   "metadata": {},
   "outputs": [
    {
     "data": {
      "text/html": [
       "<div>\n",
       "<style scoped>\n",
       "    .dataframe tbody tr th:only-of-type {\n",
       "        vertical-align: middle;\n",
       "    }\n",
       "\n",
       "    .dataframe tbody tr th {\n",
       "        vertical-align: top;\n",
       "    }\n",
       "\n",
       "    .dataframe thead th {\n",
       "        text-align: right;\n",
       "    }\n",
       "</style>\n",
       "<table border=\"1\" class=\"dataframe\">\n",
       "  <thead>\n",
       "    <tr style=\"text-align: right;\">\n",
       "      <th></th>\n",
       "      <th>Расход</th>\n",
       "      <th>installs</th>\n",
       "      <th>cpi</th>\n",
       "      <th>Окупаемость</th>\n",
       "      <th>Profit</th>\n",
       "    </tr>\n",
       "    <tr>\n",
       "      <th>date_range</th>\n",
       "      <th></th>\n",
       "      <th></th>\n",
       "      <th></th>\n",
       "      <th></th>\n",
       "      <th></th>\n",
       "    </tr>\n",
       "  </thead>\n",
       "  <tbody>\n",
       "    <tr>\n",
       "      <th>11-31 мая</th>\n",
       "      <td>5872.862265</td>\n",
       "      <td>6698</td>\n",
       "      <td>0.876808</td>\n",
       "      <td>1.353608</td>\n",
       "      <td>2076.693735</td>\n",
       "    </tr>\n",
       "  </tbody>\n",
       "</table>\n",
       "</div>"
      ],
      "text/plain": [
       "                 Расход  installs       cpi  Окупаемость       Profit\n",
       "date_range                                                           \n",
       "11-31 мая   5872.862265      6698  0.876808     1.353608  2076.693735"
      ]
     },
     "execution_count": 81,
     "metadata": {},
     "output_type": "execute_result"
    }
   ],
   "source": [
    "total_2['Profit'] = revenue.loc[revenue['date_range']=='11-31 мая']['Revenue'].sum() - total_2['Расход']\n",
    "total_2.head()"
   ]
  },
  {
   "cell_type": "code",
   "execution_count": 82,
   "id": "70ff6a9d",
   "metadata": {
    "scrolled": false
   },
   "outputs": [
    {
     "data": {
      "text/html": [
       "<div>\n",
       "<style scoped>\n",
       "    .dataframe tbody tr th:only-of-type {\n",
       "        vertical-align: middle;\n",
       "    }\n",
       "\n",
       "    .dataframe tbody tr th {\n",
       "        vertical-align: top;\n",
       "    }\n",
       "\n",
       "    .dataframe thead th {\n",
       "        text-align: right;\n",
       "    }\n",
       "</style>\n",
       "<table border=\"1\" class=\"dataframe\">\n",
       "  <thead>\n",
       "    <tr style=\"text-align: right;\">\n",
       "      <th></th>\n",
       "      <th>Расход</th>\n",
       "      <th>installs</th>\n",
       "      <th>cpi</th>\n",
       "      <th>Окупаемость</th>\n",
       "      <th>Profit</th>\n",
       "    </tr>\n",
       "    <tr>\n",
       "      <th>date_range</th>\n",
       "      <th></th>\n",
       "      <th></th>\n",
       "      <th></th>\n",
       "      <th></th>\n",
       "      <th></th>\n",
       "    </tr>\n",
       "  </thead>\n",
       "  <tbody>\n",
       "    <tr>\n",
       "      <th>6-10 мая</th>\n",
       "      <td>868.880823</td>\n",
       "      <td>727</td>\n",
       "      <td>1.195159</td>\n",
       "      <td>1.039761</td>\n",
       "      <td>34.547177</td>\n",
       "    </tr>\n",
       "    <tr>\n",
       "      <th>11-31 мая</th>\n",
       "      <td>5872.862265</td>\n",
       "      <td>6698</td>\n",
       "      <td>0.876808</td>\n",
       "      <td>1.353608</td>\n",
       "      <td>2076.693735</td>\n",
       "    </tr>\n",
       "  </tbody>\n",
       "</table>\n",
       "</div>"
      ],
      "text/plain": [
       "                 Расход  installs       cpi  Окупаемость       Profit\n",
       "date_range                                                           \n",
       "6-10 мая     868.880823       727  1.195159     1.039761    34.547177\n",
       "11-31 мая   5872.862265      6698  0.876808     1.353608  2076.693735"
      ]
     },
     "execution_count": 82,
     "metadata": {},
     "output_type": "execute_result"
    }
   ],
   "source": [
    "# \"сложим\" две получившиеся таблицы\n",
    "\n",
    "sheet_1 = pd.concat([total, total_2])\n",
    "sheet_1"
   ]
  },
  {
   "cell_type": "markdown",
   "id": "f536766c",
   "metadata": {},
   "source": [
    "<div class=\"alert alert-info\">\n",
    "Формиррование первого листа завершено\n",
    "</div>"
   ]
  },
  {
   "cell_type": "markdown",
   "id": "d123c121",
   "metadata": {},
   "source": [
    "### Задача 2. креативы"
   ]
  },
  {
   "cell_type": "markdown",
   "id": "58050d91",
   "metadata": {},
   "source": [
    "Лист Креативы\n",
    "\n",
    "Необходимо собрать Отчет по Креативам за весь период размещения\n",
    "\n",
    "Название креатива \n",
    "Необходимо вывести уникальные названия. Содержатся в столбце B Лист Plarin\n",
    "\n",
    "Spend \n",
    "Это расход, количество потраченных денег по соответствующему названию объявления. Выводим в $, курс берем средний за май 2023 года. Расход указан на листе Plarin столбец I\n",
    "Installs\n",
    "\n",
    "Общее количество установок по соответствующему названию креатива . Указано на листе Installs API столбец G\n",
    "Окупаемость % окупаемости трафика по креативу. Считается как Revenue / Spend. Выводится в %\n",
    "\n",
    "\n",
    "Profit\n",
    "Прибыль по данному креативу. Считается как Revenue-Spend. Выводится в $\n",
    "\n",
    "Регион\n",
    "Необходимо указать креатив был запущен на Россию или СНГ. Определить это можно по Названию соответствующей кампании (в названии содержится “cis”)\n",
    "\n",
    "!! Внимание. Одинаковый креатив мог быть запущен на Россию и СНГ. Необходимо это учесть и вывести их отдельно.\n"
   ]
  },
  {
   "cell_type": "code",
   "execution_count": 83,
   "id": "2a1841ee",
   "metadata": {},
   "outputs": [],
   "source": [
    "creat = pd.read_excel('Installs API.xlsx', sheet_name = 'Plarin')\n"
   ]
  },
  {
   "cell_type": "code",
   "execution_count": 84,
   "id": "8cdde6d0",
   "metadata": {},
   "outputs": [
    {
     "data": {
      "text/plain": [
       "613"
      ]
     },
     "execution_count": 84,
     "metadata": {},
     "output_type": "execute_result"
    }
   ],
   "source": [
    "len(creat)"
   ]
  },
  {
   "cell_type": "code",
   "execution_count": 85,
   "id": "686bdfd3",
   "metadata": {},
   "outputs": [
    {
     "data": {
      "text/plain": [
       "KS SZ VideoK куртки 10             35\n",
       "VI SZ VideoK куртки Ж 3            32\n",
       "VI SZ VideoK куртки М 1            31\n",
       "VI EP VideoK трусы                 30\n",
       "VI SZ VideoD обувь Ж 1             28\n",
       "                                   ..\n",
       "DG IL VideoS чехлы марвел 2         1\n",
       "DG IL VideoS чехлы марвел           1\n",
       "DG IL VideoS чехлы мужские 2        1\n",
       "DG IL VideoS чехлы прикольные 2     1\n",
       "DG IL VideoS чехлы классические     1\n",
       "Name: Название объявления, Length: 97, dtype: int64"
      ]
     },
     "execution_count": 85,
     "metadata": {},
     "output_type": "execute_result"
    }
   ],
   "source": [
    "creat['Название объявления'].value_counts()"
   ]
  },
  {
   "cell_type": "code",
   "execution_count": 86,
   "id": "7e6afa6a",
   "metadata": {},
   "outputs": [
    {
     "data": {
      "text/html": [
       "<div>\n",
       "<style scoped>\n",
       "    .dataframe tbody tr th:only-of-type {\n",
       "        vertical-align: middle;\n",
       "    }\n",
       "\n",
       "    .dataframe tbody tr th {\n",
       "        vertical-align: top;\n",
       "    }\n",
       "\n",
       "    .dataframe thead th {\n",
       "        text-align: right;\n",
       "    }\n",
       "</style>\n",
       "<table border=\"1\" class=\"dataframe\">\n",
       "  <thead>\n",
       "    <tr style=\"text-align: right;\">\n",
       "      <th></th>\n",
       "      <th>Расход</th>\n",
       "    </tr>\n",
       "    <tr>\n",
       "      <th>Название объявления</th>\n",
       "      <th></th>\n",
       "    </tr>\n",
       "  </thead>\n",
       "  <tbody>\n",
       "    <tr>\n",
       "      <th>AN KA JB OL 1 VideoK автотовары</th>\n",
       "      <td>8018.03</td>\n",
       "    </tr>\n",
       "    <tr>\n",
       "      <th>AN SPB 14 VideoV автотовары</th>\n",
       "      <td>5253.46</td>\n",
       "    </tr>\n",
       "    <tr>\n",
       "      <th>CH EP VideoK Joom автозапчасти 1</th>\n",
       "      <td>16829.02</td>\n",
       "    </tr>\n",
       "    <tr>\n",
       "      <th>CH GE VideoK Joom Водолазка RU</th>\n",
       "      <td>2723.72</td>\n",
       "    </tr>\n",
       "    <tr>\n",
       "      <th>CH GE VideoK Joom Куртки</th>\n",
       "      <td>4891.94</td>\n",
       "    </tr>\n",
       "  </tbody>\n",
       "</table>\n",
       "</div>"
      ],
      "text/plain": [
       "                                    Расход\n",
       "Название объявления                       \n",
       "AN KA JB OL 1 VideoK автотовары    8018.03\n",
       "AN SPB 14 VideoV автотовары        5253.46\n",
       "CH EP VideoK Joom автозапчасти 1  16829.02\n",
       "CH GE VideoK Joom Водолазка RU     2723.72\n",
       "CH GE VideoK Joom Куртки           4891.94"
      ]
     },
     "execution_count": 86,
     "metadata": {},
     "output_type": "execute_result"
    }
   ],
   "source": [
    "creat = creat[['Название объявления','Расход']].groupby('Название объявления').agg('sum')\n",
    "creat.head()"
   ]
  },
  {
   "cell_type": "code",
   "execution_count": 87,
   "id": "8fab775d",
   "metadata": {},
   "outputs": [
    {
     "data": {
      "text/html": [
       "<div>\n",
       "<style scoped>\n",
       "    .dataframe tbody tr th:only-of-type {\n",
       "        vertical-align: middle;\n",
       "    }\n",
       "\n",
       "    .dataframe tbody tr th {\n",
       "        vertical-align: top;\n",
       "    }\n",
       "\n",
       "    .dataframe thead th {\n",
       "        text-align: right;\n",
       "    }\n",
       "</style>\n",
       "<table border=\"1\" class=\"dataframe\">\n",
       "  <thead>\n",
       "    <tr style=\"text-align: right;\">\n",
       "      <th></th>\n",
       "      <th>Расход</th>\n",
       "    </tr>\n",
       "    <tr>\n",
       "      <th>Название объявления</th>\n",
       "      <th></th>\n",
       "    </tr>\n",
       "  </thead>\n",
       "  <tbody>\n",
       "    <tr>\n",
       "      <th>AN KA JB OL 1 VideoK автотовары</th>\n",
       "      <td>101.224972</td>\n",
       "    </tr>\n",
       "    <tr>\n",
       "      <th>AN SPB 14 VideoV автотовары</th>\n",
       "      <td>66.323192</td>\n",
       "    </tr>\n",
       "    <tr>\n",
       "      <th>CH EP VideoK Joom автозапчасти 1</th>\n",
       "      <td>212.460800</td>\n",
       "    </tr>\n",
       "    <tr>\n",
       "      <th>CH GE VideoK Joom Водолазка RU</th>\n",
       "      <td>34.386062</td>\n",
       "    </tr>\n",
       "    <tr>\n",
       "      <th>CH GE VideoK Joom Куртки</th>\n",
       "      <td>61.759121</td>\n",
       "    </tr>\n",
       "  </tbody>\n",
       "</table>\n",
       "</div>"
      ],
      "text/plain": [
       "                                      Расход\n",
       "Название объявления                         \n",
       "AN KA JB OL 1 VideoK автотовары   101.224972\n",
       "AN SPB 14 VideoV автотовары        66.323192\n",
       "CH EP VideoK Joom автозапчасти 1  212.460800\n",
       "CH GE VideoK Joom Водолазка RU     34.386062\n",
       "CH GE VideoK Joom Куртки           61.759121"
      ]
     },
     "execution_count": 87,
     "metadata": {},
     "output_type": "execute_result"
    }
   ],
   "source": [
    "# сделаем поправку на доллар. Среднее значение за май 2023 - 79,21\n",
    "creat['Расход'] = creat['Расход'] / 79.21\n",
    "creat.head()"
   ]
  },
  {
   "cell_type": "markdown",
   "id": "ac497fae",
   "metadata": {},
   "source": [
    "<div class=\"alert alert-block alert-danger\">\n",
    " Нет возможности объединить таблицы Plarin и Installs.\n",
    "</div>"
   ]
  },
  {
   "cell_type": "code",
   "execution_count": null,
   "id": "88d1305d",
   "metadata": {},
   "outputs": [],
   "source": []
  },
  {
   "cell_type": "code",
   "execution_count": null,
   "id": "a08a4311",
   "metadata": {},
   "outputs": [],
   "source": []
  },
  {
   "cell_type": "code",
   "execution_count": null,
   "id": "c814a86a",
   "metadata": {},
   "outputs": [],
   "source": []
  },
  {
   "cell_type": "code",
   "execution_count": null,
   "id": "bbe72613",
   "metadata": {},
   "outputs": [],
   "source": []
  },
  {
   "cell_type": "markdown",
   "id": "57b4ca42",
   "metadata": {},
   "source": [
    "# Часть 3. Сатистика"
   ]
  },
  {
   "cell_type": "markdown",
   "id": "c57207a3",
   "metadata": {},
   "source": [
    "## Задача 1"
   ]
  },
  {
   "cell_type": "markdown",
   "id": "3cd5ca1e",
   "metadata": {},
   "source": [
    "\n",
    "В городе N завелись воришки. Следователь пытается выявить всех воришек. При допросе вероятность признать виновным действительно виновного в краже равна 0.9, а вероятность принять невиновного за воришку - 0.01. Доля воришек в городе N по отношению ко всем жителям города равна 0.001. Найдите вероятность того, что житель невиновен, если он был признан виновным при допросе. \n",
    "\n",
    "Для решения нам потребуется теорема Байеса, которая помогает определить вероятнсть \"при условии\". В общем виде она выглядит следующим образом:\n",
    "\n",
    "$$P(Н|E) =\\frac{P(E|H) * P(H)}{P(E)}  $$ \n",
    "\n",
    "Вероятность того, что вас признают НЕвиновным P(E)  это сумма веротяностей того, что вы виновны и это выявдено на допросе и того что вас обвинили не по делу\n",
    "\n",
    "$$P(Н|E) =\\frac{P(E|H) * P(H)}{P(E|H)*P(H) + P(-H)*P(E|-H) }  $$\n",
    "\n",
    "\n",
    "$Где:$\n",
    "\n",
    "    1.P(Н|E) - вероятность быть невиновным при признании виновным на допросе\n",
    "    2.P(H) - вероятность быть невиновным до допроса\n",
    "    3.P(E|H) - вероятность быть признанным НЕвиновным, если вы действительно НЕвиновны\n",
    "    4.P(E) - вероятность того, что вас признают виновным на допросе\n",
    "    5.P(-H) - вероятность, что вы виновны\n",
    "\n"
   ]
  },
  {
   "cell_type": "code",
   "execution_count": 40,
   "id": "a06681f6",
   "metadata": {},
   "outputs": [
    {
     "name": "stdout",
     "output_type": "stream",
     "text": [
      "Вероятность того, что житель невиновен, если он был признан виновным при допросе составляет 0.998900109989001\n"
     ]
    }
   ],
   "source": [
    "answer = (0.9*0.999) / ((0.9*0.999) + (0.001*0.99))\n",
    "print('Вероятность того, что житель невиновен, если он был признан виновным при допросе составляет', answer)"
   ]
  },
  {
   "cell_type": "markdown",
   "id": "762ffd79",
   "metadata": {},
   "source": [
    "## Задача 2"
   ]
  },
  {
   "cell_type": "markdown",
   "id": "85ed57f4",
   "metadata": {},
   "source": [
    "На ферме два одинаковых автомата выдают молоко. Вероятность того, что к концу дня в автомате закончится молоко, равна 0,25. Вероятность того, что молоко закончится в обоих автоматах, равна 0,17. Какова вероятность того, что к концу дня молоко останется в обоих автоматах?\n",
    "\n",
    "В условии задачи указано, что вероятность того, что молоко закончится в обоих автоматах, равна 0,17. Это означает, что вероятность обратного это 1-P\n",
    "\n",
    "\n",
    "Вероятность того, что к концу дня молоко останется в обоих автоматах составляет 0,83"
   ]
  },
  {
   "cell_type": "markdown",
   "id": "d049b956",
   "metadata": {},
   "source": [
    "## Задача 3"
   ]
  },
  {
   "cell_type": "markdown",
   "id": "705a294c",
   "metadata": {},
   "source": [
    "Ниже приведена таблица сопряженности двух признаков: пол респондента и его ответ на вопрос: Ложитесь ли вы спать раньше 23:00?\n"
   ]
  },
  {
   "cell_type": "code",
   "execution_count": 41,
   "id": "9313bbbd",
   "metadata": {},
   "outputs": [
    {
     "data": {
      "text/html": [
       "<div>\n",
       "<style scoped>\n",
       "    .dataframe tbody tr th:only-of-type {\n",
       "        vertical-align: middle;\n",
       "    }\n",
       "\n",
       "    .dataframe tbody tr th {\n",
       "        vertical-align: top;\n",
       "    }\n",
       "\n",
       "    .dataframe thead th {\n",
       "        text-align: right;\n",
       "    }\n",
       "</style>\n",
       "<table border=\"1\" class=\"dataframe\">\n",
       "  <thead>\n",
       "    <tr style=\"text-align: right;\">\n",
       "      <th></th>\n",
       "      <th>ДА</th>\n",
       "      <th>НЕТ</th>\n",
       "    </tr>\n",
       "  </thead>\n",
       "  <tbody>\n",
       "    <tr>\n",
       "      <th>0</th>\n",
       "      <td>32</td>\n",
       "      <td>14</td>\n",
       "    </tr>\n",
       "    <tr>\n",
       "      <th>1</th>\n",
       "      <td>15</td>\n",
       "      <td>25</td>\n",
       "    </tr>\n",
       "  </tbody>\n",
       "</table>\n",
       "</div>"
      ],
      "text/plain": [
       "   ДА  НЕТ\n",
       "0  32   14\n",
       "1  15   25"
      ]
     },
     "execution_count": 41,
     "metadata": {},
     "output_type": "execute_result"
    }
   ],
   "source": [
    "df = pd.DataFrame({'ДА': [32, 15], 'НЕТ': [14,25]})\n",
    "df"
   ]
  },
  {
   "cell_type": "markdown",
   "id": "e09aa612",
   "metadata": {},
   "source": [
    "###  Необходимо проверить есть ли связь между этими признаками. "
   ]
  },
  {
   "cell_type": "code",
   "execution_count": 42,
   "id": "bfbf70f6",
   "metadata": {},
   "outputs": [
    {
     "data": {
      "text/plain": [
       "-1.0"
      ]
     },
     "execution_count": 42,
     "metadata": {},
     "output_type": "execute_result"
    }
   ],
   "source": [
    "# Для проверки связи признаков посмотрим как они коррелируют друг с другом\n",
    "score = df['ДА'].corr(df['НЕТ'])\n",
    "score"
   ]
  },
  {
   "cell_type": "markdown",
   "id": "785d2fbc",
   "metadata": {},
   "source": [
    "#### Ответ:\n",
    "С изменеием одного признака второй меняется в в обратную сторону "
   ]
  },
  {
   "cell_type": "markdown",
   "id": "90d1b0ed",
   "metadata": {},
   "source": [
    "### Сформулируйте нулевую и альтернативную гипотезы. "
   ]
  },
  {
   "cell_type": "markdown",
   "id": "53be35f8",
   "metadata": {},
   "source": [
    "Н0: У мужчин и женщин признак распределен одинаково\n",
    "Н1: У мужчин и женщин признак распределен по-разному\n"
   ]
  },
  {
   "cell_type": "markdown",
   "id": "2fb59475",
   "metadata": {},
   "source": [
    "### Известно что p-value равно 0.006. какой вывод относительно нулевой гипотезы можно сделать?"
   ]
  },
  {
   "cell_type": "markdown",
   "id": "2e3a3a95",
   "metadata": {},
   "source": [
    "Нулевая гипотеза считается отвергнутой и принимается альтернативная гипотеза."
   ]
  }
 ],
 "metadata": {
  "kernelspec": {
   "display_name": "Python 3 (ipykernel)",
   "language": "python",
   "name": "python3"
  },
  "language_info": {
   "codemirror_mode": {
    "name": "ipython",
    "version": 3
   },
   "file_extension": ".py",
   "mimetype": "text/x-python",
   "name": "python",
   "nbconvert_exporter": "python",
   "pygments_lexer": "ipython3",
   "version": "3.11.3"
  }
 },
 "nbformat": 4,
 "nbformat_minor": 5
}
