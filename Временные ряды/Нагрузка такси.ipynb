{
 "cells": [
  {
   "cell_type": "markdown",
   "metadata": {},
   "source": [
    "***"
   ]
  },
  {
   "cell_type": "markdown",
   "metadata": {
    "toc": true
   },
   "source": [
    "<h1>Содержание<span class=\"tocSkip\"></span></h1>\n",
    "<div class=\"toc\"><ul class=\"toc-item\"><li><span><a href=\"#Подготовка\" data-toc-modified-id=\"Подготовка-1\"><span class=\"toc-item-num\">1&nbsp;&nbsp;</span>Подготовка</a></span></li><li><span><a href=\"#Анализ\" data-toc-modified-id=\"Анализ-2\"><span class=\"toc-item-num\">2&nbsp;&nbsp;</span>Анализ</a></span><ul class=\"toc-item\"><li><span><a href=\"#Выводы:\" data-toc-modified-id=\"Выводы:-2.1\"><span class=\"toc-item-num\">2.1&nbsp;&nbsp;</span>Выводы:</a></span></li></ul></li><li><span><a href=\"#Обучение\" data-toc-modified-id=\"Обучение-3\"><span class=\"toc-item-num\">3&nbsp;&nbsp;</span>Обучение</a></span><ul class=\"toc-item\"><li><ul class=\"toc-item\"><li><ul class=\"toc-item\"><li><span><a href=\"#Добавим-признаков\" data-toc-modified-id=\"Добавим-признаков-3.0.0.1\"><span class=\"toc-item-num\">3.0.0.1&nbsp;&nbsp;</span>Добавим признаков</a></span></li><li><span><a href=\"#Разделим-датасет-на-выборки\" data-toc-modified-id=\"Разделим-датасет-на-выборки-3.0.0.2\"><span class=\"toc-item-num\">3.0.0.2&nbsp;&nbsp;</span>Разделим датасет на выборки</a></span></li></ul></li></ul></li><li><span><a href=\"#Обучение-моделей\" data-toc-modified-id=\"Обучение-моделей-3.1\"><span class=\"toc-item-num\">3.1&nbsp;&nbsp;</span>Обучение моделей</a></span><ul class=\"toc-item\"><li><span><a href=\"#Линейная-регрессия\" data-toc-modified-id=\"Линейная-регрессия-3.1.1\"><span class=\"toc-item-num\">3.1.1&nbsp;&nbsp;</span>Линейная регрессия</a></span></li><li><span><a href=\"#Решающее-дерево\" data-toc-modified-id=\"Решающее-дерево-3.1.2\"><span class=\"toc-item-num\">3.1.2&nbsp;&nbsp;</span>Решающее дерево</a></span></li><li><span><a href=\"#Градиентный-бустинг\" data-toc-modified-id=\"Градиентный-бустинг-3.1.3\"><span class=\"toc-item-num\">3.1.3&nbsp;&nbsp;</span>Градиентный бустинг</a></span></li><li><span><a href=\"#выводы:\" data-toc-modified-id=\"выводы:-3.1.4\"><span class=\"toc-item-num\">3.1.4&nbsp;&nbsp;</span>выводы:</a></span></li></ul></li><li><span><a href=\"#Тестирование\" data-toc-modified-id=\"Тестирование-3.2\"><span class=\"toc-item-num\">3.2&nbsp;&nbsp;</span>Тестирование</a></span></li><li><span><a href=\"#Выводы:\" data-toc-modified-id=\"Выводы:-3.3\"><span class=\"toc-item-num\">3.3&nbsp;&nbsp;</span>Выводы:</a></span></li></ul></li></ul></div>"
   ]
  },
  {
   "cell_type": "markdown",
   "metadata": {},
   "source": [
    "#  Прогнозирование заказов такси"
   ]
  },
  {
   "cell_type": "markdown",
   "metadata": {},
   "source": [
    "Компания «Чётенькое такси» собрала исторические данные о заказах такси в аэропортах. Чтобы привлекать больше водителей в период пиковой нагрузки, нужно спрогнозировать количество заказов такси на следующий час. Постройте модель для такого предсказания.\n",
    "\n",
    "Значение метрики *RMSE* на тестовой выборке должно быть не больше 48.\n"
   ]
  },
  {
   "cell_type": "markdown",
   "metadata": {},
   "source": [
    "## Подготовка"
   ]
  },
  {
   "cell_type": "code",
   "execution_count": 1,
   "metadata": {},
   "outputs": [],
   "source": [
    "import pandas as pd\n",
    "import numpy as np\n",
    "import matplotlib.pyplot as plt\n",
    "\n",
    "from datetime import datetime\n",
    "\n",
    "from statsmodels.tsa.seasonal import seasonal_decompose\n",
    "\n",
    "from sklearn.linear_model import LinearRegression\n",
    "from sklearn.metrics import mean_squared_error\n",
    "from sklearn.model_selection import train_test_split, cross_val_score, GridSearchCV, TimeSeriesSplit\n",
    "from sklearn.ensemble import RandomForestClassifier, RandomForestRegressor\n",
    "\n",
    "import catboost\n",
    "from catboost import CatBoostRegressor"
   ]
  },
  {
   "cell_type": "code",
   "execution_count": 2,
   "metadata": {
    "scrolled": true
   },
   "outputs": [
    {
     "data": {
      "text/html": [
       "<div>\n",
       "<style scoped>\n",
       "    .dataframe tbody tr th:only-of-type {\n",
       "        vertical-align: middle;\n",
       "    }\n",
       "\n",
       "    .dataframe tbody tr th {\n",
       "        vertical-align: top;\n",
       "    }\n",
       "\n",
       "    .dataframe thead th {\n",
       "        text-align: right;\n",
       "    }\n",
       "</style>\n",
       "<table border=\"1\" class=\"dataframe\">\n",
       "  <thead>\n",
       "    <tr style=\"text-align: right;\">\n",
       "      <th></th>\n",
       "      <th>datetime</th>\n",
       "      <th>num_orders</th>\n",
       "    </tr>\n",
       "  </thead>\n",
       "  <tbody>\n",
       "    <tr>\n",
       "      <th>0</th>\n",
       "      <td>2018-03-01 00:00:00</td>\n",
       "      <td>9</td>\n",
       "    </tr>\n",
       "    <tr>\n",
       "      <th>1</th>\n",
       "      <td>2018-03-01 00:10:00</td>\n",
       "      <td>14</td>\n",
       "    </tr>\n",
       "    <tr>\n",
       "      <th>2</th>\n",
       "      <td>2018-03-01 00:20:00</td>\n",
       "      <td>28</td>\n",
       "    </tr>\n",
       "    <tr>\n",
       "      <th>3</th>\n",
       "      <td>2018-03-01 00:30:00</td>\n",
       "      <td>20</td>\n",
       "    </tr>\n",
       "    <tr>\n",
       "      <th>4</th>\n",
       "      <td>2018-03-01 00:40:00</td>\n",
       "      <td>32</td>\n",
       "    </tr>\n",
       "  </tbody>\n",
       "</table>\n",
       "</div>"
      ],
      "text/plain": [
       "              datetime  num_orders\n",
       "0  2018-03-01 00:00:00           9\n",
       "1  2018-03-01 00:10:00          14\n",
       "2  2018-03-01 00:20:00          28\n",
       "3  2018-03-01 00:30:00          20\n",
       "4  2018-03-01 00:40:00          32"
      ]
     },
     "execution_count": 2,
     "metadata": {},
     "output_type": "execute_result"
    }
   ],
   "source": [
    "df = pd.read_csv('/datasets/taxi.csv')\n",
    "df.head()"
   ]
  },
  {
   "cell_type": "code",
   "execution_count": 3,
   "metadata": {
    "scrolled": true
   },
   "outputs": [
    {
     "name": "stdout",
     "output_type": "stream",
     "text": [
      "<class 'pandas.core.frame.DataFrame'>\n",
      "RangeIndex: 26496 entries, 0 to 26495\n",
      "Data columns (total 2 columns):\n",
      " #   Column      Non-Null Count  Dtype \n",
      "---  ------      --------------  ----- \n",
      " 0   datetime    26496 non-null  object\n",
      " 1   num_orders  26496 non-null  int64 \n",
      "dtypes: int64(1), object(1)\n",
      "memory usage: 414.1+ KB\n"
     ]
    }
   ],
   "source": [
    "df.info()"
   ]
  },
  {
   "cell_type": "code",
   "execution_count": 4,
   "metadata": {
    "scrolled": true
   },
   "outputs": [
    {
     "name": "stdout",
     "output_type": "stream",
     "text": [
      "<class 'pandas.core.frame.DataFrame'>\n",
      "RangeIndex: 26496 entries, 0 to 26495\n",
      "Data columns (total 2 columns):\n",
      " #   Column      Non-Null Count  Dtype         \n",
      "---  ------      --------------  -----         \n",
      " 0   datetime    26496 non-null  datetime64[ns]\n",
      " 1   num_orders  26496 non-null  int64         \n",
      "dtypes: datetime64[ns](1), int64(1)\n",
      "memory usage: 414.1 KB\n"
     ]
    }
   ],
   "source": [
    "# переведем данные со временем в формат datetime\n",
    "df['datetime'] = pd.to_datetime(df['datetime'], format = '%Y-%m-%d %H:%M:%S')\n",
    "df.info()"
   ]
  },
  {
   "cell_type": "code",
   "execution_count": 5,
   "metadata": {},
   "outputs": [
    {
     "data": {
      "text/plain": [
       "datetime      0\n",
       "num_orders    0\n",
       "dtype: int64"
      ]
     },
     "execution_count": 5,
     "metadata": {},
     "output_type": "execute_result"
    }
   ],
   "source": [
    "# проверим пропуски\n",
    "df.isna().sum()"
   ]
  },
  {
   "cell_type": "code",
   "execution_count": 6,
   "metadata": {},
   "outputs": [],
   "source": [
    "# Сменим индекс таблицы\n",
    "df = df.set_index('datetime')"
   ]
  },
  {
   "cell_type": "code",
   "execution_count": 7,
   "metadata": {},
   "outputs": [
    {
     "name": "stdout",
     "output_type": "stream",
     "text": [
      "True\n"
     ]
    }
   ],
   "source": [
    "# проверим хронологию индексов\n",
    "print(df.index.is_monotonic)"
   ]
  },
  {
   "cell_type": "markdown",
   "metadata": {},
   "source": [
    "Вывод: \n",
    "\n",
    "    импортировали данные\n",
    "    сменили тип данных для времени\n",
    "    изменили индекс таблицы для дальнейшего удобства\n",
    "    проверили хронологию индексов\n",
    "    удалили пропуски\n",
    "    \n",
    "Можем переходить к анализу."
   ]
  },
  {
   "cell_type": "markdown",
   "metadata": {},
   "source": [
    "## Анализ"
   ]
  },
  {
   "cell_type": "code",
   "execution_count": 8,
   "metadata": {},
   "outputs": [
    {
     "data": {
      "text/html": [
       "<div>\n",
       "<style scoped>\n",
       "    .dataframe tbody tr th:only-of-type {\n",
       "        vertical-align: middle;\n",
       "    }\n",
       "\n",
       "    .dataframe tbody tr th {\n",
       "        vertical-align: top;\n",
       "    }\n",
       "\n",
       "    .dataframe thead th {\n",
       "        text-align: right;\n",
       "    }\n",
       "</style>\n",
       "<table border=\"1\" class=\"dataframe\">\n",
       "  <thead>\n",
       "    <tr style=\"text-align: right;\">\n",
       "      <th></th>\n",
       "      <th>num_orders</th>\n",
       "    </tr>\n",
       "    <tr>\n",
       "      <th>datetime</th>\n",
       "      <th></th>\n",
       "    </tr>\n",
       "  </thead>\n",
       "  <tbody>\n",
       "    <tr>\n",
       "      <th>2018-03-01 00:00:00</th>\n",
       "      <td>124</td>\n",
       "    </tr>\n",
       "    <tr>\n",
       "      <th>2018-03-01 01:00:00</th>\n",
       "      <td>85</td>\n",
       "    </tr>\n",
       "    <tr>\n",
       "      <th>2018-03-01 02:00:00</th>\n",
       "      <td>71</td>\n",
       "    </tr>\n",
       "    <tr>\n",
       "      <th>2018-03-01 03:00:00</th>\n",
       "      <td>66</td>\n",
       "    </tr>\n",
       "    <tr>\n",
       "      <th>2018-03-01 04:00:00</th>\n",
       "      <td>43</td>\n",
       "    </tr>\n",
       "  </tbody>\n",
       "</table>\n",
       "</div>"
      ],
      "text/plain": [
       "                     num_orders\n",
       "datetime                       \n",
       "2018-03-01 00:00:00         124\n",
       "2018-03-01 01:00:00          85\n",
       "2018-03-01 02:00:00          71\n",
       "2018-03-01 03:00:00          66\n",
       "2018-03-01 04:00:00          43"
      ]
     },
     "execution_count": 8,
     "metadata": {},
     "output_type": "execute_result"
    }
   ],
   "source": [
    "# В рамках задания ресемплируем данные \n",
    "df = df['2018-01':'2018-09'].resample('1H').sum()\n",
    "df.head()\n"
   ]
  },
  {
   "cell_type": "code",
   "execution_count": 9,
   "metadata": {
    "scrolled": true
   },
   "outputs": [
    {
     "data": {
      "image/png": "[encoded data removed]",
      "text/plain": [
       "<Figure size 432x288 with 1 Axes>"
      ]
     },
     "metadata": {
      "needs_background": "light"
     },
     "output_type": "display_data"
    }
   ],
   "source": [
    "# посмотрим на график временного ряда\n",
    "plt.title('Общий график временного ряда')\n",
    "plt.xlabel('Время')\n",
    "plt.ylabel('Запросы')\n",
    "\n",
    "plt.plot(df)\n",
    "plt.show()\n"
   ]
  },
  {
   "cell_type": "markdown",
   "metadata": {},
   "source": [
    "На графике очень много колебаний, ничего не понятно, надо сделать его более информативным. Тут видны в том числе и выделяющиеся значения, рассмотри их более детально."
   ]
  },
  {
   "cell_type": "code",
   "execution_count": 10,
   "metadata": {},
   "outputs": [
    {
     "data": {
      "text/plain": [
       "<AxesSubplot:>"
      ]
     },
     "execution_count": 10,
     "metadata": {},
     "output_type": "execute_result"
    },
    {
     "data": {
      "image/png": "[encoded data removed]",
      "text/plain": [
       "<Figure size 432x288 with 1 Axes>"
      ]
     },
     "metadata": {
      "needs_background": "light"
     },
     "output_type": "display_data"
    }
   ],
   "source": [
    "df['num_orders'].hist(bins=20)"
   ]
  },
  {
   "cell_type": "markdown",
   "metadata": {},
   "source": [
    "Итак, возвращаемся в временному ряду. Для снижения \"колебательности\" используем технику скользящего среднего."
   ]
  },
  {
   "cell_type": "code",
   "execution_count": 11,
   "metadata": {
    "scrolled": true
   },
   "outputs": [
    {
     "data": {
      "text/plain": [
       "[<matplotlib.lines.Line2D at 0x7f8865acd610>]"
      ]
     },
     "execution_count": 11,
     "metadata": {},
     "output_type": "execute_result"
    },
    {
     "data": {
      "image/png": "[encoded data removed]",
      "text/plain": [
       "<Figure size 432x288 with 1 Axes>"
      ]
     },
     "metadata": {
      "needs_background": "light"
     },
     "output_type": "display_data"
    }
   ],
   "source": [
    "\n",
    "df_rm = df.rolling(100).mean()\n",
    "plt.plot(df_rm)"
   ]
  },
  {
   "cell_type": "markdown",
   "metadata": {},
   "source": [
    "В таком виде попробуем определить тренд, сезонность и шумы."
   ]
  },
  {
   "cell_type": "code",
   "execution_count": 12,
   "metadata": {},
   "outputs": [
    {
     "data": {
      "text/plain": [
       "num_orders    0\n",
       "dtype: int64"
      ]
     },
     "execution_count": 12,
     "metadata": {},
     "output_type": "execute_result"
    }
   ],
   "source": [
    "# для постороения графиков тренда и сезонности уберем пустые значчения, образовавщиеся после формирования скользящего окна\n",
    "df.isna().sum()"
   ]
  },
  {
   "cell_type": "code",
   "execution_count": 13,
   "metadata": {},
   "outputs": [],
   "source": [
    "df = df.dropna()"
   ]
  },
  {
   "cell_type": "code",
   "execution_count": 14,
   "metadata": {},
   "outputs": [
    {
     "data": {
      "text/plain": [
       "Text(0.5, 1.0, 'Season per day')"
      ]
     },
     "execution_count": 14,
     "metadata": {},
     "output_type": "execute_result"
    },
    {
     "data": {
      "image/png": "[encoded data removed]",
      "text/plain": [
       "<Figure size 432x576 with 1 Axes>"
      ]
     },
     "metadata": {
      "needs_background": "light"
     },
     "output_type": "display_data"
    }
   ],
   "source": [
    "decomposed = seasonal_decompose(df)\n",
    "\n",
    "\n",
    "\n",
    "decomposed = seasonal_decompose(df['2018-08-01':'2018-08-02'])\n",
    "\n",
    "plt.figure(figsize=(6, 8))\n",
    "\n",
    "plt.subplot(311)\n",
    "decomposed.seasonal.plot(ax=plt.gca())\n",
    "plt.title('Season per day')\n",
    "\n",
    "  "
   ]
  },
  {
   "cell_type": "code",
   "execution_count": 15,
   "metadata": {},
   "outputs": [
    {
     "data": {
      "text/plain": [
       "Text(0.5, 1.0, 'Season per week')"
      ]
     },
     "execution_count": 15,
     "metadata": {},
     "output_type": "execute_result"
    },
    {
     "data": {
      "image/png": "[encoded data removed]",
      "text/plain": [
       "<Figure size 432x576 with 1 Axes>"
      ]
     },
     "metadata": {
      "needs_background": "light"
     },
     "output_type": "display_data"
    }
   ],
   "source": [
    "decomposed = seasonal_decompose(df['2018-08-01':'2018-08-08'])\n",
    "\n",
    "plt.figure(figsize=(6, 8))\n",
    "\n",
    "plt.subplot(311)\n",
    "decomposed.seasonal.plot(ax=plt.gca())\n",
    "plt.title('Season per week')\n"
   ]
  },
  {
   "cell_type": "code",
   "execution_count": null,
   "metadata": {},
   "outputs": [],
   "source": []
  },
  {
   "cell_type": "code",
   "execution_count": 16,
   "metadata": {},
   "outputs": [
    {
     "data": {
      "text/plain": [
       "Text(0.5, 1.0, 'Trend')"
      ]
     },
     "execution_count": 16,
     "metadata": {},
     "output_type": "execute_result"
    },
    {
     "data": {
      "image/png": "[encoded data removed]",
      "text/plain": [
       "<Figure size 432x288 with 1 Axes>"
      ]
     },
     "metadata": {
      "needs_background": "light"
     },
     "output_type": "display_data"
    }
   ],
   "source": [
    "plt.subplot(311)\n",
    "decomposed.trend.plot(ax=plt.gca())\n",
    "plt.title('Trend')\n",
    "\n"
   ]
  },
  {
   "cell_type": "code",
   "execution_count": 17,
   "metadata": {
    "scrolled": true
   },
   "outputs": [
    {
     "data": {
      "image/png": "[encoded data removed]",
      "text/plain": [
       "<Figure size 432x288 with 1 Axes>"
      ]
     },
     "metadata": {
      "needs_background": "light"
     },
     "output_type": "display_data"
    }
   ],
   "source": [
    "plt.subplot(312)\n",
    "decomposed.resid.plot(ax=plt.gca())\n",
    "plt.title('Residuals')\n",
    "plt.tight_layout()"
   ]
  },
  {
   "cell_type": "markdown",
   "metadata": {},
   "source": [
    "### Выводы:\n",
    "    1.Сезонность в суточном масштабе выражается в росте количества заказов с 6 до 11 утра. Пик приходится до 12. Далее следует рост примерно до 17 часов и падение к 18 часам. С 18 до полуночи спрос снова растет. \n",
    "    2. Сезонность в недельном мастабе выражается в повторении суточных изменений.\n",
    "    3. Тренд показывает, что в целом количество заказов растет."
   ]
  },
  {
   "cell_type": "markdown",
   "metadata": {},
   "source": [
    "## Обучение"
   ]
  },
  {
   "cell_type": "markdown",
   "metadata": {},
   "source": [
    "##### Добавим признаков"
   ]
  },
  {
   "cell_type": "code",
   "execution_count": 18,
   "metadata": {},
   "outputs": [],
   "source": [
    "# Добавим признаков с помощью функции:\n",
    "\n",
    "def make_features(data, max_lag, rolling_mean_size):\n",
    "    \n",
    "    data['hour'] = data.index.hour\n",
    "    data['dayofweek'] = data.index.dayofweek\n",
    "    \n",
    "    for lag in range(1, max_lag + 1):\n",
    "        data['lag_{}'.format(lag)] = data['num_orders'].shift(lag)\n",
    "\n",
    "    data['rolling_mean'] = data['num_orders'].shift().rolling(rolling_mean_size).mean()\n",
    "    return data\n"
   ]
  },
  {
   "cell_type": "code",
   "execution_count": 19,
   "metadata": {},
   "outputs": [
    {
     "data": {
      "text/html": [
       "<div>\n",
       "<style scoped>\n",
       "    .dataframe tbody tr th:only-of-type {\n",
       "        vertical-align: middle;\n",
       "    }\n",
       "\n",
       "    .dataframe tbody tr th {\n",
       "        vertical-align: top;\n",
       "    }\n",
       "\n",
       "    .dataframe thead th {\n",
       "        text-align: right;\n",
       "    }\n",
       "</style>\n",
       "<table border=\"1\" class=\"dataframe\">\n",
       "  <thead>\n",
       "    <tr style=\"text-align: right;\">\n",
       "      <th></th>\n",
       "      <th>num_orders</th>\n",
       "      <th>hour</th>\n",
       "      <th>dayofweek</th>\n",
       "      <th>lag_1</th>\n",
       "      <th>lag_2</th>\n",
       "      <th>lag_3</th>\n",
       "      <th>lag_4</th>\n",
       "      <th>lag_5</th>\n",
       "      <th>lag_6</th>\n",
       "      <th>lag_7</th>\n",
       "      <th>...</th>\n",
       "      <th>lag_16</th>\n",
       "      <th>lag_17</th>\n",
       "      <th>lag_18</th>\n",
       "      <th>lag_19</th>\n",
       "      <th>lag_20</th>\n",
       "      <th>lag_21</th>\n",
       "      <th>lag_22</th>\n",
       "      <th>lag_23</th>\n",
       "      <th>lag_24</th>\n",
       "      <th>rolling_mean</th>\n",
       "    </tr>\n",
       "    <tr>\n",
       "      <th>datetime</th>\n",
       "      <th></th>\n",
       "      <th></th>\n",
       "      <th></th>\n",
       "      <th></th>\n",
       "      <th></th>\n",
       "      <th></th>\n",
       "      <th></th>\n",
       "      <th></th>\n",
       "      <th></th>\n",
       "      <th></th>\n",
       "      <th></th>\n",
       "      <th></th>\n",
       "      <th></th>\n",
       "      <th></th>\n",
       "      <th></th>\n",
       "      <th></th>\n",
       "      <th></th>\n",
       "      <th></th>\n",
       "      <th></th>\n",
       "      <th></th>\n",
       "      <th></th>\n",
       "    </tr>\n",
       "  </thead>\n",
       "  <tbody>\n",
       "    <tr>\n",
       "      <th>2018-03-01 00:00:00</th>\n",
       "      <td>124</td>\n",
       "      <td>0</td>\n",
       "      <td>3</td>\n",
       "      <td>NaN</td>\n",
       "      <td>NaN</td>\n",
       "      <td>NaN</td>\n",
       "      <td>NaN</td>\n",
       "      <td>NaN</td>\n",
       "      <td>NaN</td>\n",
       "      <td>NaN</td>\n",
       "      <td>...</td>\n",
       "      <td>NaN</td>\n",
       "      <td>NaN</td>\n",
       "      <td>NaN</td>\n",
       "      <td>NaN</td>\n",
       "      <td>NaN</td>\n",
       "      <td>NaN</td>\n",
       "      <td>NaN</td>\n",
       "      <td>NaN</td>\n",
       "      <td>NaN</td>\n",
       "      <td>NaN</td>\n",
       "    </tr>\n",
       "    <tr>\n",
       "      <th>2018-03-01 01:00:00</th>\n",
       "      <td>85</td>\n",
       "      <td>1</td>\n",
       "      <td>3</td>\n",
       "      <td>124.0</td>\n",
       "      <td>NaN</td>\n",
       "      <td>NaN</td>\n",
       "      <td>NaN</td>\n",
       "      <td>NaN</td>\n",
       "      <td>NaN</td>\n",
       "      <td>NaN</td>\n",
       "      <td>...</td>\n",
       "      <td>NaN</td>\n",
       "      <td>NaN</td>\n",
       "      <td>NaN</td>\n",
       "      <td>NaN</td>\n",
       "      <td>NaN</td>\n",
       "      <td>NaN</td>\n",
       "      <td>NaN</td>\n",
       "      <td>NaN</td>\n",
       "      <td>NaN</td>\n",
       "      <td>NaN</td>\n",
       "    </tr>\n",
       "    <tr>\n",
       "      <th>2018-03-01 02:00:00</th>\n",
       "      <td>71</td>\n",
       "      <td>2</td>\n",
       "      <td>3</td>\n",
       "      <td>85.0</td>\n",
       "      <td>124.0</td>\n",
       "      <td>NaN</td>\n",
       "      <td>NaN</td>\n",
       "      <td>NaN</td>\n",
       "      <td>NaN</td>\n",
       "      <td>NaN</td>\n",
       "      <td>...</td>\n",
       "      <td>NaN</td>\n",
       "      <td>NaN</td>\n",
       "      <td>NaN</td>\n",
       "      <td>NaN</td>\n",
       "      <td>NaN</td>\n",
       "      <td>NaN</td>\n",
       "      <td>NaN</td>\n",
       "      <td>NaN</td>\n",
       "      <td>NaN</td>\n",
       "      <td>NaN</td>\n",
       "    </tr>\n",
       "    <tr>\n",
       "      <th>2018-03-01 03:00:00</th>\n",
       "      <td>66</td>\n",
       "      <td>3</td>\n",
       "      <td>3</td>\n",
       "      <td>71.0</td>\n",
       "      <td>85.0</td>\n",
       "      <td>124.0</td>\n",
       "      <td>NaN</td>\n",
       "      <td>NaN</td>\n",
       "      <td>NaN</td>\n",
       "      <td>NaN</td>\n",
       "      <td>...</td>\n",
       "      <td>NaN</td>\n",
       "      <td>NaN</td>\n",
       "      <td>NaN</td>\n",
       "      <td>NaN</td>\n",
       "      <td>NaN</td>\n",
       "      <td>NaN</td>\n",
       "      <td>NaN</td>\n",
       "      <td>NaN</td>\n",
       "      <td>NaN</td>\n",
       "      <td>NaN</td>\n",
       "    </tr>\n",
       "    <tr>\n",
       "      <th>2018-03-01 04:00:00</th>\n",
       "      <td>43</td>\n",
       "      <td>4</td>\n",
       "      <td>3</td>\n",
       "      <td>66.0</td>\n",
       "      <td>71.0</td>\n",
       "      <td>85.0</td>\n",
       "      <td>124.0</td>\n",
       "      <td>NaN</td>\n",
       "      <td>NaN</td>\n",
       "      <td>NaN</td>\n",
       "      <td>...</td>\n",
       "      <td>NaN</td>\n",
       "      <td>NaN</td>\n",
       "      <td>NaN</td>\n",
       "      <td>NaN</td>\n",
       "      <td>NaN</td>\n",
       "      <td>NaN</td>\n",
       "      <td>NaN</td>\n",
       "      <td>NaN</td>\n",
       "      <td>NaN</td>\n",
       "      <td>NaN</td>\n",
       "    </tr>\n",
       "  </tbody>\n",
       "</table>\n",
       "<p>5 rows × 28 columns</p>\n",
       "</div>"
      ],
      "text/plain": [
       "                     num_orders  hour  dayofweek  lag_1  lag_2  lag_3  lag_4  \\\n",
       "datetime                                                                       \n",
       "2018-03-01 00:00:00         124     0          3    NaN    NaN    NaN    NaN   \n",
       "2018-03-01 01:00:00          85     1          3  124.0    NaN    NaN    NaN   \n",
       "2018-03-01 02:00:00          71     2          3   85.0  124.0    NaN    NaN   \n",
       "2018-03-01 03:00:00          66     3          3   71.0   85.0  124.0    NaN   \n",
       "2018-03-01 04:00:00          43     4          3   66.0   71.0   85.0  124.0   \n",
       "\n",
       "                     lag_5  lag_6  lag_7  ...  lag_16  lag_17  lag_18  lag_19  \\\n",
       "datetime                                  ...                                   \n",
       "2018-03-01 00:00:00    NaN    NaN    NaN  ...     NaN     NaN     NaN     NaN   \n",
       "2018-03-01 01:00:00    NaN    NaN    NaN  ...     NaN     NaN     NaN     NaN   \n",
       "2018-03-01 02:00:00    NaN    NaN    NaN  ...     NaN     NaN     NaN     NaN   \n",
       "2018-03-01 03:00:00    NaN    NaN    NaN  ...     NaN     NaN     NaN     NaN   \n",
       "2018-03-01 04:00:00    NaN    NaN    NaN  ...     NaN     NaN     NaN     NaN   \n",
       "\n",
       "                     lag_20  lag_21  lag_22  lag_23  lag_24  rolling_mean  \n",
       "datetime                                                                   \n",
       "2018-03-01 00:00:00     NaN     NaN     NaN     NaN     NaN           NaN  \n",
       "2018-03-01 01:00:00     NaN     NaN     NaN     NaN     NaN           NaN  \n",
       "2018-03-01 02:00:00     NaN     NaN     NaN     NaN     NaN           NaN  \n",
       "2018-03-01 03:00:00     NaN     NaN     NaN     NaN     NaN           NaN  \n",
       "2018-03-01 04:00:00     NaN     NaN     NaN     NaN     NaN           NaN  \n",
       "\n",
       "[5 rows x 28 columns]"
      ]
     },
     "execution_count": 19,
     "metadata": {},
     "output_type": "execute_result"
    }
   ],
   "source": [
    "# Параметры признаков можно будет поменять, если что \n",
    "\n",
    "make_features(df, 24, 10).head()"
   ]
  },
  {
   "cell_type": "markdown",
   "metadata": {},
   "source": [
    "##### Разделим датасет на выборки"
   ]
  },
  {
   "cell_type": "code",
   "execution_count": 20,
   "metadata": {},
   "outputs": [],
   "source": [
    "train, test = train_test_split(df, shuffle=False, test_size=0.2)\n",
    "train = train.dropna()"
   ]
  },
  {
   "cell_type": "code",
   "execution_count": 21,
   "metadata": {},
   "outputs": [
    {
     "name": "stdout",
     "output_type": "stream",
     "text": [
      "(3508, 27)\n",
      "(3508,)\n",
      "\n",
      "(442, 27)\n",
      "(442,)\n",
      "\n",
      "(442, 27)\n",
      "(442,)\n"
     ]
    }
   ],
   "source": [
    "# проверим их по форме \n",
    "# добавим тестовую выборку\n",
    "\n",
    "features_train = train.drop(['num_orders'], axis=1)\n",
    "target_train = train['num_orders']\n",
    "\n",
    "features_test = test.drop(['num_orders'], axis=1)\n",
    "target_test = test['num_orders']\n",
    "\n",
    "features_valid, features_test, target_valid, target_test = train_test_split(features_test, target_test, shuffle=False, test_size=0.5)\n",
    "\n",
    "print(features_train.shape)\n",
    "print(target_train.shape)\n",
    "print()\n",
    "print(features_valid.shape)\n",
    "print(target_valid.shape)\n",
    "print()\n",
    "print(features_test.shape)\n",
    "print(target_test.shape)"
   ]
  },
  {
   "cell_type": "markdown",
   "metadata": {},
   "source": [
    "### Обучение моделей"
   ]
  },
  {
   "cell_type": "markdown",
   "metadata": {},
   "source": [
    "#### Линейная регрессия"
   ]
  },
  {
   "cell_type": "code",
   "execution_count": 22,
   "metadata": {},
   "outputs": [
    {
     "name": "stdout",
     "output_type": "stream",
     "text": [
      "RMSE модели линейной регрессии: 34.31096147942389\n"
     ]
    }
   ],
   "source": [
    "model = LinearRegression()\n",
    "model.fit(features_train, target_train)\n",
    "preds = model.predict(features_valid)\n",
    "\n",
    "RMSE = mean_squared_error(target_valid, preds)**0.5\n",
    "\n",
    "print('RMSE модели линейной регрессии:', RMSE )"
   ]
  },
  {
   "cell_type": "markdown",
   "metadata": {},
   "source": [
    "#### Решающее дерево"
   ]
  },
  {
   "cell_type": "code",
   "execution_count": 23,
   "metadata": {},
   "outputs": [],
   "source": [
    "# Подготовим данные для кросс валидации с особенностями временного ряда\n",
    "\n",
    "tscv = TimeSeriesSplit(n_splits=5)"
   ]
  },
  {
   "cell_type": "code",
   "execution_count": 24,
   "metadata": {},
   "outputs": [
    {
     "data": {
      "text/plain": [
       "GridSearchCV(cv=TimeSeriesSplit(gap=0, max_train_size=None, n_splits=5, test_size=None),\n",
       "             estimator=RandomForestRegressor(random_state=1), n_jobs=-1,\n",
       "             param_grid={'max_depth': [4, 6, 8, 10],\n",
       "                         'n_estimators': range(10, 40, 2)},\n",
       "             return_train_score=True, scoring='neg_root_mean_squared_error')"
      ]
     },
     "execution_count": 24,
     "metadata": {},
     "output_type": "execute_result"
    }
   ],
   "source": [
    "model_rf = RandomForestRegressor(random_state=1)\n",
    "\n",
    "params = {'max_depth' : [4,6,8, 10],\n",
    "          'n_estimators' : range(10,40,2)}\n",
    "\n",
    "grid_CV = GridSearchCV(estimator=model_rf, \n",
    "                         param_grid=params, \n",
    "                         scoring = 'neg_root_mean_squared_error',\n",
    "                         cv=tscv,\n",
    "                         n_jobs=-1,\n",
    "                         return_train_score=True)\n",
    "\n",
    "grid_CV.fit(features_train, target_train)"
   ]
  },
  {
   "cell_type": "code",
   "execution_count": 25,
   "metadata": {},
   "outputs": [
    {
     "name": "stdout",
     "output_type": "stream",
     "text": [
      "{'max_depth': 10, 'n_estimators': 38}\n",
      "\n",
      "Оценка лучшей модели случайного леса на кросс-валидации 24.437857585422265\n"
     ]
    }
   ],
   "source": [
    "best_params = grid_CV.best_params_\n",
    "print(best_params)\n",
    "print()\n",
    "best_score = grid_CV.best_score_\n",
    "print('Оценка лучшей модели случайного леса на кросс-валидации', -(best_score))"
   ]
  },
  {
   "cell_type": "markdown",
   "metadata": {},
   "source": [
    "#### Градиентный бустинг"
   ]
  },
  {
   "cell_type": "code",
   "execution_count": 26,
   "metadata": {},
   "outputs": [
    {
     "name": "stdout",
     "output_type": "stream",
     "text": [
      "Params\n",
      "{'iterations': 10000, 'learning_rate': 0.03, 'loss_function': 'RMSE'}\n"
     ]
    }
   ],
   "source": [
    "# обучение\n",
    "model_gb = CatBoostRegressor(iterations = 10000, learning_rate = 0.03)\n",
    "\n",
    "model_gb.fit(features_train, target_train, eval_set=(features_valid, target_valid), verbose=False, use_best_model = True)\n",
    "\n",
    "print('Params')\n",
    "print(model_gb.get_params())"
   ]
  },
  {
   "cell_type": "code",
   "execution_count": 27,
   "metadata": {},
   "outputs": [
    {
     "name": "stdout",
     "output_type": "stream",
     "text": [
      "RMSE для катбуста {'learn': {'RMSE': 0.7664892298207434}, 'validation': {'RMSE': 30.721126359934747}}\n"
     ]
    }
   ],
   "source": [
    "# предсказание\n",
    "\n",
    "print( 'RMSE для катбуста', model_gb.get_best_score())\n"
   ]
  },
  {
   "cell_type": "markdown",
   "metadata": {},
   "source": [
    "#### выводы:\n",
    "\n",
    "    Среди выбранных моделей (линейная регрессия, случайный лес и градиентный бустинг) минимальную ошибку показала модель случайного леса на кросс_валидации. Ее и выберем для окончательного тестирования"
   ]
  },
  {
   "cell_type": "markdown",
   "metadata": {},
   "source": [
    "### Тестирование"
   ]
  },
  {
   "cell_type": "code",
   "execution_count": 28,
   "metadata": {
    "scrolled": true
   },
   "outputs": [
    {
     "data": {
      "image/png": "[encoded data removed]",
      "text/plain": [
       "<Figure size 1440x360 with 1 Axes>"
      ]
     },
     "metadata": {
      "needs_background": "light"
     },
     "output_type": "display_data"
    },
    {
     "name": "stdout",
     "output_type": "stream",
     "text": [
      "\n",
      "RMSE на тестовой выборке 45.61656305134902\n"
     ]
    }
   ],
   "source": [
    "predictions = model.predict(features_test)\n",
    "\n",
    "pd.DataFrame({'Прогноз':predictions,\n",
    "                 'Факт':target_test}).plot(figsize=(20, 5))\n",
    "plt.title('Сравнение фактического и прогнозируемого количества заказов на тестовой выборке')\n",
    "plt.show()\n",
    "print()\n",
    "\n",
    "print('RMSE на тестовой выборке',mean_squared_error(predictions, target_test)**0.5)\n",
    "\n",
    "#print('Реальное количество заказов в последний час:', target_test.values[-1])\n",
    "#print('Предсказанное количество заказов в последний час:', predictions[-1])\n",
    "\n"
   ]
  },
  {
   "cell_type": "markdown",
   "metadata": {},
   "source": [
    "### Выводы:\n",
    "\n",
    "    На этапе подготовки данных мы:\n",
    "        сменили тип данных для времени\n",
    "        изменили индекс таблицы для дальнейшего удобства\n",
    "        проверили хронологию индексов\n",
    "        удалили пропуски\n",
    "    \n",
    "    На этапе анализа:\n",
    "        провели ресемплинг\n",
    "        сгладили график \"скользящим окном\"\n",
    "        добавили признаков\n",
    "\n",
    "    На этапе пердсказания проверили три модели обучения для повышения качества предсказаний модели мы использовали перебор гиперпараметров и кросс валидацию для временного ряда. Несмотря на высокие результаты на обучающей выборке у модели случайного леса, на тестовой выборке лучше всех себя показала линейная регрессия.\n",
    "    \n",
    "    Нам удалось провести анализ временного ряда для создаия модели, которая дает достаточно точные предсказания в рамках ТЗ."
   ]
  },
  {
   "cell_type": "code",
   "execution_count": null,
   "metadata": {},
   "outputs": [],
   "source": []
  }
 ],
 "metadata": {
  "ExecuteTimeLog": [
   {
    "duration": 488,
    "start_time": "2023-04-01T12:17:52.267Z"
   },
   {
    "duration": 363,
    "start_time": "2023-04-01T12:18:01.710Z"
   },
   {
    "duration": 694,
    "start_time": "2023-04-01T12:18:18.036Z"
   },
   {
    "duration": 41,
    "start_time": "2023-04-01T12:18:25.926Z"
   },
   {
    "duration": 147,
    "start_time": "2023-04-01T12:19:12.818Z"
   },
   {
    "duration": 41,
    "start_time": "2023-04-01T12:19:45.334Z"
   },
   {
    "duration": 12,
    "start_time": "2023-04-01T12:20:00.205Z"
   },
   {
    "duration": 42,
    "start_time": "2023-04-01T12:20:29.104Z"
   },
   {
    "duration": 12,
    "start_time": "2023-04-01T12:20:32.363Z"
   },
   {
    "duration": 3,
    "start_time": "2023-04-01T12:24:25.427Z"
   },
   {
    "duration": 55,
    "start_time": "2023-04-01T12:24:29.102Z"
   },
   {
    "duration": 11,
    "start_time": "2023-04-01T12:24:33.798Z"
   },
   {
    "duration": 14,
    "start_time": "2023-04-01T12:24:38.604Z"
   },
   {
    "duration": 616,
    "start_time": "2023-04-01T12:24:52.374Z"
   },
   {
    "duration": 14,
    "start_time": "2023-04-01T12:25:26.982Z"
   },
   {
    "duration": 16,
    "start_time": "2023-04-01T12:25:36.021Z"
   },
   {
    "duration": 9,
    "start_time": "2023-04-01T12:27:11.466Z"
   },
   {
    "duration": 8,
    "start_time": "2023-04-01T12:27:18.196Z"
   },
   {
    "duration": 17,
    "start_time": "2023-04-01T12:32:23.066Z"
   },
   {
    "duration": 9,
    "start_time": "2023-04-01T12:32:54.902Z"
   },
   {
    "duration": 12,
    "start_time": "2023-04-01T12:33:17.549Z"
   },
   {
    "duration": 9,
    "start_time": "2023-04-01T12:34:14.128Z"
   },
   {
    "duration": 1216,
    "start_time": "2023-04-01T12:34:34.916Z"
   },
   {
    "duration": 54,
    "start_time": "2023-04-01T12:34:36.134Z"
   },
   {
    "duration": 12,
    "start_time": "2023-04-01T12:34:36.193Z"
   },
   {
    "duration": 14,
    "start_time": "2023-04-01T12:34:36.207Z"
   },
   {
    "duration": 6,
    "start_time": "2023-04-01T12:34:36.223Z"
   },
   {
    "duration": 8,
    "start_time": "2023-04-01T12:34:36.230Z"
   },
   {
    "duration": 9,
    "start_time": "2023-04-01T12:34:52.256Z"
   },
   {
    "duration": 382,
    "start_time": "2023-04-01T12:36:47.761Z"
   },
   {
    "duration": 205,
    "start_time": "2023-04-01T12:36:56.691Z"
   },
   {
    "duration": 162,
    "start_time": "2023-04-01T12:39:24.448Z"
   },
   {
    "duration": 5,
    "start_time": "2023-04-01T12:41:16.218Z"
   },
   {
    "duration": 152,
    "start_time": "2023-04-01T12:41:25.915Z"
   },
   {
    "duration": 5,
    "start_time": "2023-04-01T12:41:57.243Z"
   },
   {
    "duration": 132,
    "start_time": "2023-04-01T12:41:59.914Z"
   },
   {
    "duration": 14,
    "start_time": "2023-04-01T12:43:58.194Z"
   },
   {
    "duration": 234,
    "start_time": "2023-04-01T12:44:12.655Z"
   },
   {
    "duration": 125,
    "start_time": "2023-04-01T12:45:31.823Z"
   },
   {
    "duration": 131,
    "start_time": "2023-04-01T12:45:42.203Z"
   },
   {
    "duration": 23,
    "start_time": "2023-04-01T12:48:01.087Z"
   },
   {
    "duration": 40,
    "start_time": "2023-04-01T12:48:01.112Z"
   },
   {
    "duration": 13,
    "start_time": "2023-04-01T12:48:01.154Z"
   },
   {
    "duration": 22,
    "start_time": "2023-04-01T12:48:01.170Z"
   },
   {
    "duration": 19,
    "start_time": "2023-04-01T12:48:01.194Z"
   },
   {
    "duration": 21,
    "start_time": "2023-04-01T12:48:01.214Z"
   },
   {
    "duration": 170,
    "start_time": "2023-04-01T12:48:01.237Z"
   },
   {
    "duration": 143,
    "start_time": "2023-04-01T12:48:01.409Z"
   },
   {
    "duration": 4,
    "start_time": "2023-04-01T12:48:01.553Z"
   },
   {
    "duration": 162,
    "start_time": "2023-04-01T12:48:01.558Z"
   },
   {
    "duration": 170,
    "start_time": "2023-04-01T12:48:01.722Z"
   },
   {
    "duration": 141,
    "start_time": "2023-04-01T12:48:01.894Z"
   },
   {
    "duration": 17,
    "start_time": "2023-04-01T12:53:24.787Z"
   },
   {
    "duration": 6,
    "start_time": "2023-04-01T12:54:06.763Z"
   },
   {
    "duration": 5,
    "start_time": "2023-04-01T12:55:10.290Z"
   },
   {
    "duration": 6,
    "start_time": "2023-04-01T12:55:28.943Z"
   },
   {
    "duration": 6,
    "start_time": "2023-04-01T12:55:42.291Z"
   },
   {
    "duration": 2,
    "start_time": "2023-04-01T12:56:27.727Z"
   },
   {
    "duration": 55,
    "start_time": "2023-04-01T12:56:27.731Z"
   },
   {
    "duration": 12,
    "start_time": "2023-04-01T12:56:27.790Z"
   },
   {
    "duration": 14,
    "start_time": "2023-04-01T12:56:27.804Z"
   },
   {
    "duration": 5,
    "start_time": "2023-04-01T12:56:27.820Z"
   },
   {
    "duration": 5,
    "start_time": "2023-04-01T12:56:27.827Z"
   },
   {
    "duration": 6,
    "start_time": "2023-04-01T12:56:27.833Z"
   },
   {
    "duration": 41,
    "start_time": "2023-04-01T12:56:27.840Z"
   },
   {
    "duration": 0,
    "start_time": "2023-04-01T12:56:27.886Z"
   },
   {
    "duration": 0,
    "start_time": "2023-04-01T12:56:27.887Z"
   },
   {
    "duration": 0,
    "start_time": "2023-04-01T12:56:27.888Z"
   },
   {
    "duration": 0,
    "start_time": "2023-04-01T12:56:27.889Z"
   },
   {
    "duration": 0,
    "start_time": "2023-04-01T12:56:27.890Z"
   },
   {
    "duration": 0,
    "start_time": "2023-04-01T12:56:27.891Z"
   },
   {
    "duration": 0,
    "start_time": "2023-04-01T12:56:27.892Z"
   },
   {
    "duration": 4,
    "start_time": "2023-04-01T12:57:02.737Z"
   },
   {
    "duration": 48,
    "start_time": "2023-04-01T12:57:02.744Z"
   },
   {
    "duration": 12,
    "start_time": "2023-04-01T12:57:02.794Z"
   },
   {
    "duration": 13,
    "start_time": "2023-04-01T12:57:02.808Z"
   },
   {
    "duration": 4,
    "start_time": "2023-04-01T12:57:02.822Z"
   },
   {
    "duration": 11,
    "start_time": "2023-04-01T12:57:02.828Z"
   },
   {
    "duration": 5,
    "start_time": "2023-04-01T12:57:02.841Z"
   },
   {
    "duration": 14,
    "start_time": "2023-04-01T12:57:02.868Z"
   },
   {
    "duration": 0,
    "start_time": "2023-04-01T12:57:02.886Z"
   },
   {
    "duration": 0,
    "start_time": "2023-04-01T12:57:02.887Z"
   },
   {
    "duration": 0,
    "start_time": "2023-04-01T12:57:02.888Z"
   },
   {
    "duration": 0,
    "start_time": "2023-04-01T12:57:02.889Z"
   },
   {
    "duration": 0,
    "start_time": "2023-04-01T12:57:02.889Z"
   },
   {
    "duration": 0,
    "start_time": "2023-04-01T12:57:02.891Z"
   },
   {
    "duration": 0,
    "start_time": "2023-04-01T12:57:02.891Z"
   },
   {
    "duration": 1462,
    "start_time": "2023-04-01T12:57:17.989Z"
   },
   {
    "duration": 46,
    "start_time": "2023-04-01T12:57:19.453Z"
   },
   {
    "duration": 11,
    "start_time": "2023-04-01T12:57:19.501Z"
   },
   {
    "duration": 17,
    "start_time": "2023-04-01T12:57:19.513Z"
   },
   {
    "duration": 6,
    "start_time": "2023-04-01T12:57:19.532Z"
   },
   {
    "duration": 6,
    "start_time": "2023-04-01T12:57:19.540Z"
   },
   {
    "duration": 26,
    "start_time": "2023-04-01T12:57:19.547Z"
   },
   {
    "duration": 114,
    "start_time": "2023-04-01T12:57:19.577Z"
   },
   {
    "duration": 0,
    "start_time": "2023-04-01T12:57:19.693Z"
   },
   {
    "duration": 0,
    "start_time": "2023-04-01T12:57:19.694Z"
   },
   {
    "duration": 0,
    "start_time": "2023-04-01T12:57:19.695Z"
   },
   {
    "duration": 0,
    "start_time": "2023-04-01T12:57:19.695Z"
   },
   {
    "duration": 0,
    "start_time": "2023-04-01T12:57:19.697Z"
   },
   {
    "duration": 0,
    "start_time": "2023-04-01T12:57:19.698Z"
   },
   {
    "duration": 0,
    "start_time": "2023-04-01T12:57:19.698Z"
   },
   {
    "duration": 3,
    "start_time": "2023-04-01T12:59:13.805Z"
   },
   {
    "duration": 11,
    "start_time": "2023-04-01T12:59:20.597Z"
   },
   {
    "duration": 17,
    "start_time": "2023-04-01T12:59:27.357Z"
   },
   {
    "duration": 245,
    "start_time": "2023-04-01T12:59:27.375Z"
   },
   {
    "duration": 142,
    "start_time": "2023-04-01T12:59:27.621Z"
   },
   {
    "duration": 7,
    "start_time": "2023-04-01T12:59:27.765Z"
   },
   {
    "duration": 140,
    "start_time": "2023-04-01T12:59:27.774Z"
   },
   {
    "duration": 138,
    "start_time": "2023-04-01T12:59:27.915Z"
   },
   {
    "duration": 196,
    "start_time": "2023-04-01T12:59:28.054Z"
   },
   {
    "duration": 81,
    "start_time": "2023-04-01T12:59:28.251Z"
   },
   {
    "duration": 11,
    "start_time": "2023-04-01T12:59:46.965Z"
   },
   {
    "duration": 10,
    "start_time": "2023-04-01T12:59:52.997Z"
   },
   {
    "duration": 3,
    "start_time": "2023-04-01T13:00:12.926Z"
   },
   {
    "duration": 46,
    "start_time": "2023-04-01T13:00:12.930Z"
   },
   {
    "duration": 11,
    "start_time": "2023-04-01T13:00:12.981Z"
   },
   {
    "duration": 15,
    "start_time": "2023-04-01T13:00:12.993Z"
   },
   {
    "duration": 6,
    "start_time": "2023-04-01T13:00:13.009Z"
   },
   {
    "duration": 9,
    "start_time": "2023-04-01T13:00:13.016Z"
   },
   {
    "duration": 6,
    "start_time": "2023-04-01T13:00:13.026Z"
   },
   {
    "duration": 3,
    "start_time": "2023-04-01T13:00:13.034Z"
   },
   {
    "duration": 10,
    "start_time": "2023-04-01T13:00:13.039Z"
   },
   {
    "duration": 166,
    "start_time": "2023-04-01T13:00:13.050Z"
   },
   {
    "duration": 140,
    "start_time": "2023-04-01T13:00:13.217Z"
   },
   {
    "duration": 15,
    "start_time": "2023-04-01T13:00:13.359Z"
   },
   {
    "duration": 163,
    "start_time": "2023-04-01T13:00:13.384Z"
   },
   {
    "duration": 167,
    "start_time": "2023-04-01T13:00:13.550Z"
   },
   {
    "duration": 186,
    "start_time": "2023-04-01T13:00:13.719Z"
   },
   {
    "duration": 11,
    "start_time": "2023-04-01T13:00:13.907Z"
   },
   {
    "duration": 5,
    "start_time": "2023-04-01T13:00:33.717Z"
   },
   {
    "duration": 1304,
    "start_time": "2023-04-01T13:01:20.207Z"
   },
   {
    "duration": 43,
    "start_time": "2023-04-01T13:01:21.513Z"
   },
   {
    "duration": 25,
    "start_time": "2023-04-01T13:01:21.557Z"
   },
   {
    "duration": 14,
    "start_time": "2023-04-01T13:01:21.584Z"
   },
   {
    "duration": 6,
    "start_time": "2023-04-01T13:01:21.600Z"
   },
   {
    "duration": 11,
    "start_time": "2023-04-01T13:01:21.607Z"
   },
   {
    "duration": 6,
    "start_time": "2023-04-01T13:01:21.619Z"
   },
   {
    "duration": 4,
    "start_time": "2023-04-01T13:01:21.626Z"
   },
   {
    "duration": 12,
    "start_time": "2023-04-01T13:01:21.631Z"
   },
   {
    "duration": 239,
    "start_time": "2023-04-01T13:01:21.644Z"
   },
   {
    "duration": 139,
    "start_time": "2023-04-01T13:01:21.884Z"
   },
   {
    "duration": 4,
    "start_time": "2023-04-01T13:01:22.025Z"
   },
   {
    "duration": 145,
    "start_time": "2023-04-01T13:01:22.030Z"
   },
   {
    "duration": 130,
    "start_time": "2023-04-01T13:01:22.177Z"
   },
   {
    "duration": 240,
    "start_time": "2023-04-01T13:01:22.309Z"
   },
   {
    "duration": 24,
    "start_time": "2023-04-01T13:01:22.553Z"
   },
   {
    "duration": 163,
    "start_time": "2023-04-01T13:01:22.579Z"
   },
   {
    "duration": 4,
    "start_time": "2023-04-01T13:02:30.689Z"
   },
   {
    "duration": 9,
    "start_time": "2023-04-01T13:02:33.277Z"
   },
   {
    "duration": 14,
    "start_time": "2023-04-01T13:04:19.893Z"
   },
   {
    "duration": 3,
    "start_time": "2023-04-01T13:07:56.764Z"
   },
   {
    "duration": 10,
    "start_time": "2023-04-01T13:09:58.059Z"
   },
   {
    "duration": 5,
    "start_time": "2023-04-01T13:10:15.711Z"
   },
   {
    "duration": 42,
    "start_time": "2023-04-01T13:10:15.717Z"
   },
   {
    "duration": 12,
    "start_time": "2023-04-01T13:10:15.760Z"
   },
   {
    "duration": 25,
    "start_time": "2023-04-01T13:10:15.774Z"
   },
   {
    "duration": 7,
    "start_time": "2023-04-01T13:10:15.802Z"
   },
   {
    "duration": 15,
    "start_time": "2023-04-01T13:10:15.811Z"
   },
   {
    "duration": 7,
    "start_time": "2023-04-01T13:10:15.828Z"
   },
   {
    "duration": 12,
    "start_time": "2023-04-01T13:10:15.836Z"
   },
   {
    "duration": 177,
    "start_time": "2023-04-01T13:10:15.850Z"
   },
   {
    "duration": 166,
    "start_time": "2023-04-01T13:10:16.030Z"
   },
   {
    "duration": 5,
    "start_time": "2023-04-01T13:10:16.198Z"
   },
   {
    "duration": 148,
    "start_time": "2023-04-01T13:10:16.204Z"
   },
   {
    "duration": 141,
    "start_time": "2023-04-01T13:10:16.354Z"
   },
   {
    "duration": 150,
    "start_time": "2023-04-01T13:10:16.498Z"
   },
   {
    "duration": 5,
    "start_time": "2023-04-01T13:10:16.650Z"
   },
   {
    "duration": 11,
    "start_time": "2023-04-01T13:10:16.657Z"
   },
   {
    "duration": 12,
    "start_time": "2023-04-01T13:10:16.670Z"
   },
   {
    "duration": 1420,
    "start_time": "2023-04-01T13:11:21.810Z"
   },
   {
    "duration": 61,
    "start_time": "2023-04-01T13:11:23.232Z"
   },
   {
    "duration": 17,
    "start_time": "2023-04-01T13:11:23.295Z"
   },
   {
    "duration": 23,
    "start_time": "2023-04-01T13:11:23.314Z"
   },
   {
    "duration": 33,
    "start_time": "2023-04-01T13:11:23.340Z"
   },
   {
    "duration": 7,
    "start_time": "2023-04-01T13:11:23.375Z"
   },
   {
    "duration": 5,
    "start_time": "2023-04-01T13:11:23.384Z"
   },
   {
    "duration": 18,
    "start_time": "2023-04-01T13:11:23.392Z"
   },
   {
    "duration": 414,
    "start_time": "2023-04-01T13:11:23.413Z"
   },
   {
    "duration": 216,
    "start_time": "2023-04-01T13:11:23.829Z"
   },
   {
    "duration": 6,
    "start_time": "2023-04-01T13:11:24.046Z"
   },
   {
    "duration": 235,
    "start_time": "2023-04-01T13:11:24.054Z"
   },
   {
    "duration": 180,
    "start_time": "2023-04-01T13:11:24.291Z"
   },
   {
    "duration": 341,
    "start_time": "2023-04-01T13:11:24.474Z"
   },
   {
    "duration": 10,
    "start_time": "2023-04-01T13:11:24.817Z"
   },
   {
    "duration": 14,
    "start_time": "2023-04-01T13:11:24.830Z"
   },
   {
    "duration": 178,
    "start_time": "2023-04-01T13:11:24.846Z"
   },
   {
    "duration": 10,
    "start_time": "2023-04-01T13:13:26.893Z"
   },
   {
    "duration": 13,
    "start_time": "2023-04-01T13:14:59.799Z"
   },
   {
    "duration": 147,
    "start_time": "2023-04-01T13:15:05.725Z"
   },
   {
    "duration": 1280,
    "start_time": "2023-04-01T13:15:34.167Z"
   },
   {
    "duration": 55,
    "start_time": "2023-04-01T13:15:35.449Z"
   },
   {
    "duration": 13,
    "start_time": "2023-04-01T13:15:35.506Z"
   },
   {
    "duration": 26,
    "start_time": "2023-04-01T13:15:35.520Z"
   },
   {
    "duration": 5,
    "start_time": "2023-04-01T13:15:35.548Z"
   },
   {
    "duration": 7,
    "start_time": "2023-04-01T13:15:35.554Z"
   },
   {
    "duration": 19,
    "start_time": "2023-04-01T13:15:35.562Z"
   },
   {
    "duration": 16,
    "start_time": "2023-04-01T13:15:35.583Z"
   },
   {
    "duration": 227,
    "start_time": "2023-04-01T13:15:35.601Z"
   },
   {
    "duration": 155,
    "start_time": "2023-04-01T13:15:35.829Z"
   },
   {
    "duration": 7,
    "start_time": "2023-04-01T13:15:35.986Z"
   },
   {
    "duration": 157,
    "start_time": "2023-04-01T13:15:35.994Z"
   },
   {
    "duration": 141,
    "start_time": "2023-04-01T13:15:36.153Z"
   },
   {
    "duration": 203,
    "start_time": "2023-04-01T13:15:36.297Z"
   },
   {
    "duration": 5,
    "start_time": "2023-04-01T13:15:36.502Z"
   },
   {
    "duration": 6,
    "start_time": "2023-04-01T13:15:36.508Z"
   },
   {
    "duration": 118,
    "start_time": "2023-04-01T13:15:36.516Z"
   },
   {
    "duration": 2,
    "start_time": "2023-04-01T13:20:20.305Z"
   },
   {
    "duration": 9,
    "start_time": "2023-04-01T13:22:08.050Z"
   },
   {
    "duration": 2,
    "start_time": "2023-04-01T13:29:57.545Z"
   },
   {
    "duration": 4,
    "start_time": "2023-04-01T13:33:39.165Z"
   },
   {
    "duration": 26,
    "start_time": "2023-04-01T13:33:42.685Z"
   },
   {
    "duration": 23,
    "start_time": "2023-04-01T13:34:05.458Z"
   },
   {
    "duration": 9,
    "start_time": "2023-04-01T13:36:36.333Z"
   },
   {
    "duration": 9,
    "start_time": "2023-04-01T13:36:45.498Z"
   },
   {
    "duration": 8,
    "start_time": "2023-04-01T13:36:56.683Z"
   },
   {
    "duration": 7,
    "start_time": "2023-04-01T13:39:10.983Z"
   },
   {
    "duration": 23,
    "start_time": "2023-04-01T13:42:21.665Z"
   },
   {
    "duration": 11,
    "start_time": "2023-04-01T13:45:27.040Z"
   },
   {
    "duration": 9,
    "start_time": "2023-04-01T13:46:15.445Z"
   },
   {
    "duration": 1382,
    "start_time": "2023-04-01T13:49:27.176Z"
   },
   {
    "duration": 47,
    "start_time": "2023-04-01T13:49:28.560Z"
   },
   {
    "duration": 12,
    "start_time": "2023-04-01T13:49:28.608Z"
   },
   {
    "duration": 15,
    "start_time": "2023-04-01T13:49:28.621Z"
   },
   {
    "duration": 5,
    "start_time": "2023-04-01T13:49:28.638Z"
   },
   {
    "duration": 8,
    "start_time": "2023-04-01T13:49:28.644Z"
   },
   {
    "duration": 6,
    "start_time": "2023-04-01T13:49:28.654Z"
   },
   {
    "duration": 22,
    "start_time": "2023-04-01T13:49:28.661Z"
   },
   {
    "duration": 238,
    "start_time": "2023-04-01T13:49:28.684Z"
   },
   {
    "duration": 148,
    "start_time": "2023-04-01T13:49:28.923Z"
   },
   {
    "duration": 5,
    "start_time": "2023-04-01T13:49:29.073Z"
   },
   {
    "duration": 154,
    "start_time": "2023-04-01T13:49:29.079Z"
   },
   {
    "duration": 148,
    "start_time": "2023-04-01T13:49:29.234Z"
   },
   {
    "duration": 220,
    "start_time": "2023-04-01T13:49:29.384Z"
   },
   {
    "duration": 3,
    "start_time": "2023-04-01T13:49:29.605Z"
   },
   {
    "duration": 3,
    "start_time": "2023-04-01T13:49:29.609Z"
   },
   {
    "duration": 3,
    "start_time": "2023-04-01T13:49:29.614Z"
   },
   {
    "duration": 4,
    "start_time": "2023-04-01T13:49:29.618Z"
   },
   {
    "duration": 45,
    "start_time": "2023-04-01T13:49:29.624Z"
   },
   {
    "duration": 7,
    "start_time": "2023-04-01T13:49:29.671Z"
   },
   {
    "duration": 6,
    "start_time": "2023-04-01T13:49:29.679Z"
   },
   {
    "duration": 10,
    "start_time": "2023-04-01T13:49:29.687Z"
   },
   {
    "duration": 80,
    "start_time": "2023-04-03T06:52:05.369Z"
   },
   {
    "duration": 1653,
    "start_time": "2023-04-03T06:53:16.858Z"
   },
   {
    "duration": 135,
    "start_time": "2023-04-03T06:53:18.514Z"
   },
   {
    "duration": 14,
    "start_time": "2023-04-03T06:53:18.651Z"
   },
   {
    "duration": 38,
    "start_time": "2023-04-03T06:53:18.667Z"
   },
   {
    "duration": 36,
    "start_time": "2023-04-03T06:53:18.708Z"
   },
   {
    "duration": 19,
    "start_time": "2023-04-03T06:53:18.746Z"
   },
   {
    "duration": 48,
    "start_time": "2023-04-03T06:53:18.767Z"
   },
   {
    "duration": 33,
    "start_time": "2023-04-03T06:53:18.817Z"
   },
   {
    "duration": 283,
    "start_time": "2023-04-03T06:53:18.851Z"
   },
   {
    "duration": 160,
    "start_time": "2023-04-03T06:53:19.136Z"
   },
   {
    "duration": 5,
    "start_time": "2023-04-03T06:53:19.298Z"
   },
   {
    "duration": 185,
    "start_time": "2023-04-03T06:53:19.305Z"
   },
   {
    "duration": 170,
    "start_time": "2023-04-03T06:53:19.493Z"
   },
   {
    "duration": 259,
    "start_time": "2023-04-03T06:53:19.666Z"
   },
   {
    "duration": 3,
    "start_time": "2023-04-03T06:53:19.927Z"
   },
   {
    "duration": 27,
    "start_time": "2023-04-03T06:53:19.932Z"
   },
   {
    "duration": 28,
    "start_time": "2023-04-03T06:53:19.961Z"
   },
   {
    "duration": 4,
    "start_time": "2023-04-03T06:54:26.647Z"
   },
   {
    "duration": 167,
    "start_time": "2023-04-03T06:54:29.215Z"
   },
   {
    "duration": 6,
    "start_time": "2023-04-03T06:56:21.833Z"
   },
   {
    "duration": 4,
    "start_time": "2023-04-03T06:56:40.132Z"
   },
   {
    "duration": 52,
    "start_time": "2023-04-03T06:56:40.138Z"
   },
   {
    "duration": 13,
    "start_time": "2023-04-03T06:56:40.192Z"
   },
   {
    "duration": 27,
    "start_time": "2023-04-03T06:56:40.208Z"
   },
   {
    "duration": 7,
    "start_time": "2023-04-03T06:56:40.239Z"
   },
   {
    "duration": 6,
    "start_time": "2023-04-03T06:56:40.249Z"
   },
   {
    "duration": 7,
    "start_time": "2023-04-03T06:56:40.257Z"
   },
   {
    "duration": 21,
    "start_time": "2023-04-03T06:56:40.266Z"
   },
   {
    "duration": 228,
    "start_time": "2023-04-03T06:56:40.323Z"
   },
   {
    "duration": 163,
    "start_time": "2023-04-03T06:56:40.553Z"
   },
   {
    "duration": 7,
    "start_time": "2023-04-03T06:56:40.718Z"
   },
   {
    "duration": 184,
    "start_time": "2023-04-03T06:56:40.728Z"
   },
   {
    "duration": 171,
    "start_time": "2023-04-03T06:56:40.914Z"
   },
   {
    "duration": 179,
    "start_time": "2023-04-03T06:56:41.088Z"
   },
   {
    "duration": 7,
    "start_time": "2023-04-03T06:56:41.269Z"
   },
   {
    "duration": 177,
    "start_time": "2023-04-03T06:59:00.474Z"
   },
   {
    "duration": 6,
    "start_time": "2023-04-03T06:59:14.856Z"
   },
   {
    "duration": 12,
    "start_time": "2023-04-03T06:59:16.980Z"
   },
   {
    "duration": 15,
    "start_time": "2023-04-03T07:09:53.022Z"
   },
   {
    "duration": 76,
    "start_time": "2023-04-03T07:10:52.391Z"
   },
   {
    "duration": 3,
    "start_time": "2023-04-03T07:11:07.371Z"
   },
   {
    "duration": 6,
    "start_time": "2023-04-03T07:15:42.724Z"
   },
   {
    "duration": 32,
    "start_time": "2023-04-03T07:15:50.379Z"
   },
   {
    "duration": 10,
    "start_time": "2023-04-03T07:20:46.320Z"
   },
   {
    "duration": 11,
    "start_time": "2023-04-03T07:20:48.869Z"
   },
   {
    "duration": 11,
    "start_time": "2023-04-03T07:25:43.124Z"
   },
   {
    "duration": 10,
    "start_time": "2023-04-03T07:25:52.603Z"
   },
   {
    "duration": 18,
    "start_time": "2023-04-03T07:26:05.821Z"
   },
   {
    "duration": 12,
    "start_time": "2023-04-03T07:26:31.167Z"
   },
   {
    "duration": 32,
    "start_time": "2023-04-03T07:31:34.625Z"
   },
   {
    "duration": 43,
    "start_time": "2023-04-03T07:31:34.659Z"
   },
   {
    "duration": 29,
    "start_time": "2023-04-03T07:31:34.704Z"
   },
   {
    "duration": 19,
    "start_time": "2023-04-03T07:31:34.735Z"
   },
   {
    "duration": 7,
    "start_time": "2023-04-03T07:31:34.756Z"
   },
   {
    "duration": 4,
    "start_time": "2023-04-03T07:31:34.765Z"
   },
   {
    "duration": 12,
    "start_time": "2023-04-03T07:31:34.771Z"
   },
   {
    "duration": 44,
    "start_time": "2023-04-03T07:31:34.786Z"
   },
   {
    "duration": 189,
    "start_time": "2023-04-03T07:31:34.832Z"
   },
   {
    "duration": 184,
    "start_time": "2023-04-03T07:31:35.024Z"
   },
   {
    "duration": 5,
    "start_time": "2023-04-03T07:31:35.210Z"
   },
   {
    "duration": 183,
    "start_time": "2023-04-03T07:31:35.224Z"
   },
   {
    "duration": 270,
    "start_time": "2023-04-03T07:31:35.409Z"
   },
   {
    "duration": 182,
    "start_time": "2023-04-03T07:31:35.682Z"
   },
   {
    "duration": 8,
    "start_time": "2023-04-03T07:31:35.866Z"
   },
   {
    "duration": 11,
    "start_time": "2023-04-03T07:31:35.876Z"
   },
   {
    "duration": 16,
    "start_time": "2023-04-03T07:31:35.889Z"
   },
   {
    "duration": 11,
    "start_time": "2023-04-03T07:31:35.907Z"
   },
   {
    "duration": 22,
    "start_time": "2023-04-03T07:31:35.924Z"
   },
   {
    "duration": 8,
    "start_time": "2023-04-03T07:31:35.947Z"
   },
   {
    "duration": 11,
    "start_time": "2023-04-03T07:31:35.957Z"
   },
   {
    "duration": 21,
    "start_time": "2023-04-03T07:31:35.970Z"
   },
   {
    "duration": 21,
    "start_time": "2023-04-03T07:33:01.399Z"
   },
   {
    "duration": 825,
    "start_time": "2023-04-03T07:33:11.492Z"
   },
   {
    "duration": 12,
    "start_time": "2023-04-03T07:33:16.136Z"
   },
   {
    "duration": 5,
    "start_time": "2023-04-03T07:33:24.328Z"
   },
   {
    "duration": 12,
    "start_time": "2023-04-03T07:35:13.832Z"
   },
   {
    "duration": 84,
    "start_time": "2023-04-03T07:41:56.346Z"
   },
   {
    "duration": 7,
    "start_time": "2023-04-03T07:47:32.628Z"
   },
   {
    "duration": 12,
    "start_time": "2023-04-03T07:48:42.227Z"
   },
   {
    "duration": 3,
    "start_time": "2023-04-03T07:49:01.103Z"
   },
   {
    "duration": 3,
    "start_time": "2023-04-03T07:49:03.813Z"
   },
   {
    "duration": 1692,
    "start_time": "2023-04-03T07:53:32.631Z"
   },
   {
    "duration": 702,
    "start_time": "2023-04-03T07:55:24.899Z"
   },
   {
    "duration": 861,
    "start_time": "2023-04-03T07:55:33.133Z"
   },
   {
    "duration": 863,
    "start_time": "2023-04-03T07:57:26.506Z"
   },
   {
    "duration": 820,
    "start_time": "2023-04-03T07:57:54.808Z"
   },
   {
    "duration": 990,
    "start_time": "2023-04-03T07:58:21.628Z"
   },
   {
    "duration": 1066,
    "start_time": "2023-04-03T08:00:36.697Z"
   },
   {
    "duration": 2381,
    "start_time": "2023-04-03T08:00:46.749Z"
   },
   {
    "duration": 10,
    "start_time": "2023-04-03T08:04:39.114Z"
   },
   {
    "duration": 10,
    "start_time": "2023-04-03T08:11:32.136Z"
   },
   {
    "duration": 10,
    "start_time": "2023-04-03T08:13:24.491Z"
   },
   {
    "duration": 3,
    "start_time": "2023-04-03T08:14:19.015Z"
   },
   {
    "duration": 1502,
    "start_time": "2023-04-03T08:17:17.363Z"
   },
   {
    "duration": 53,
    "start_time": "2023-04-03T08:17:18.867Z"
   },
   {
    "duration": 13,
    "start_time": "2023-04-03T08:17:18.922Z"
   },
   {
    "duration": 17,
    "start_time": "2023-04-03T08:17:18.937Z"
   },
   {
    "duration": 7,
    "start_time": "2023-04-03T08:17:18.955Z"
   },
   {
    "duration": 4,
    "start_time": "2023-04-03T08:17:18.964Z"
   },
   {
    "duration": 4,
    "start_time": "2023-04-03T08:17:18.970Z"
   },
   {
    "duration": 51,
    "start_time": "2023-04-03T08:17:18.976Z"
   },
   {
    "duration": 252,
    "start_time": "2023-04-03T08:17:19.029Z"
   },
   {
    "duration": 155,
    "start_time": "2023-04-03T08:17:19.284Z"
   },
   {
    "duration": 7,
    "start_time": "2023-04-03T08:17:19.440Z"
   },
   {
    "duration": 209,
    "start_time": "2023-04-03T08:17:19.449Z"
   },
   {
    "duration": 235,
    "start_time": "2023-04-03T08:17:19.660Z"
   },
   {
    "duration": 162,
    "start_time": "2023-04-03T08:17:19.898Z"
   },
   {
    "duration": 7,
    "start_time": "2023-04-03T08:17:20.062Z"
   },
   {
    "duration": 7,
    "start_time": "2023-04-03T08:17:20.071Z"
   },
   {
    "duration": 5,
    "start_time": "2023-04-03T08:17:20.079Z"
   },
   {
    "duration": 10,
    "start_time": "2023-04-03T08:17:20.086Z"
   },
   {
    "duration": 43,
    "start_time": "2023-04-03T08:17:20.097Z"
   },
   {
    "duration": 8,
    "start_time": "2023-04-03T08:17:20.141Z"
   },
   {
    "duration": 17,
    "start_time": "2023-04-03T08:17:20.150Z"
   },
   {
    "duration": 22,
    "start_time": "2023-04-03T08:17:20.168Z"
   },
   {
    "duration": 971,
    "start_time": "2023-04-03T08:17:20.192Z"
   },
   {
    "duration": 4,
    "start_time": "2023-04-03T08:17:21.165Z"
   },
   {
    "duration": 2474,
    "start_time": "2023-04-03T08:17:21.171Z"
   },
   {
    "duration": 4,
    "start_time": "2023-04-03T08:17:23.647Z"
   },
   {
    "duration": 3773,
    "start_time": "2023-04-03T08:20:53.543Z"
   },
   {
    "duration": 4,
    "start_time": "2023-04-03T08:21:00.251Z"
   },
   {
    "duration": 4885,
    "start_time": "2023-04-03T08:21:09.336Z"
   },
   {
    "duration": 4,
    "start_time": "2023-04-03T08:21:16.888Z"
   },
   {
    "duration": 3999,
    "start_time": "2023-04-03T08:21:37.215Z"
   },
   {
    "duration": 4,
    "start_time": "2023-04-03T08:21:44.254Z"
   },
   {
    "duration": 113,
    "start_time": "2023-04-03T08:23:21.595Z"
   },
   {
    "duration": 119,
    "start_time": "2023-04-03T08:23:51.891Z"
   },
   {
    "duration": 4,
    "start_time": "2023-04-03T08:29:35.817Z"
   },
   {
    "duration": 47,
    "start_time": "2023-04-03T08:29:35.824Z"
   },
   {
    "duration": 12,
    "start_time": "2023-04-03T08:29:35.873Z"
   },
   {
    "duration": 18,
    "start_time": "2023-04-03T08:29:35.887Z"
   },
   {
    "duration": 6,
    "start_time": "2023-04-03T08:29:35.907Z"
   },
   {
    "duration": 29,
    "start_time": "2023-04-03T08:29:35.915Z"
   },
   {
    "duration": 37,
    "start_time": "2023-04-03T08:29:35.946Z"
   },
   {
    "duration": 26,
    "start_time": "2023-04-03T08:29:35.985Z"
   },
   {
    "duration": 178,
    "start_time": "2023-04-03T08:29:36.013Z"
   },
   {
    "duration": 155,
    "start_time": "2023-04-03T08:29:36.194Z"
   },
   {
    "duration": 4,
    "start_time": "2023-04-03T08:29:36.351Z"
   },
   {
    "duration": 197,
    "start_time": "2023-04-03T08:29:36.357Z"
   },
   {
    "duration": 155,
    "start_time": "2023-04-03T08:29:36.556Z"
   },
   {
    "duration": 170,
    "start_time": "2023-04-03T08:29:36.713Z"
   },
   {
    "duration": 8,
    "start_time": "2023-04-03T08:29:36.885Z"
   },
   {
    "duration": 8,
    "start_time": "2023-04-03T08:29:36.895Z"
   },
   {
    "duration": 30,
    "start_time": "2023-04-03T08:29:36.906Z"
   },
   {
    "duration": 17,
    "start_time": "2023-04-03T08:29:36.938Z"
   },
   {
    "duration": 37,
    "start_time": "2023-04-03T08:29:36.956Z"
   },
   {
    "duration": 7,
    "start_time": "2023-04-03T08:29:36.995Z"
   },
   {
    "duration": 10,
    "start_time": "2023-04-03T08:29:37.004Z"
   },
   {
    "duration": 15,
    "start_time": "2023-04-03T08:29:37.016Z"
   },
   {
    "duration": 949,
    "start_time": "2023-04-03T08:29:37.034Z"
   },
   {
    "duration": 4,
    "start_time": "2023-04-03T08:29:37.985Z"
   },
   {
    "duration": 3963,
    "start_time": "2023-04-03T08:29:37.990Z"
   },
   {
    "duration": 4,
    "start_time": "2023-04-03T08:29:41.954Z"
   },
   {
    "duration": 139,
    "start_time": "2023-04-03T08:29:41.959Z"
   },
   {
    "duration": 1802,
    "start_time": "2023-04-03T12:09:10.384Z"
   },
   {
    "duration": 169,
    "start_time": "2023-04-03T12:09:12.189Z"
   },
   {
    "duration": 15,
    "start_time": "2023-04-03T12:09:12.360Z"
   },
   {
    "duration": 23,
    "start_time": "2023-04-03T12:09:12.377Z"
   },
   {
    "duration": 7,
    "start_time": "2023-04-03T12:09:12.402Z"
   },
   {
    "duration": 14,
    "start_time": "2023-04-03T12:09:12.410Z"
   },
   {
    "duration": 25,
    "start_time": "2023-04-03T12:09:12.426Z"
   },
   {
    "duration": 43,
    "start_time": "2023-04-03T12:09:12.454Z"
   },
   {
    "duration": 282,
    "start_time": "2023-04-03T12:09:12.499Z"
   },
   {
    "duration": 176,
    "start_time": "2023-04-03T12:09:12.783Z"
   },
   {
    "duration": 5,
    "start_time": "2023-04-03T12:09:12.961Z"
   },
   {
    "duration": 207,
    "start_time": "2023-04-03T12:09:12.967Z"
   },
   {
    "duration": 267,
    "start_time": "2023-04-03T12:09:13.176Z"
   },
   {
    "duration": 207,
    "start_time": "2023-04-03T12:09:13.447Z"
   },
   {
    "duration": 8,
    "start_time": "2023-04-03T12:09:13.657Z"
   },
   {
    "duration": 11,
    "start_time": "2023-04-03T12:09:13.667Z"
   },
   {
    "duration": 19,
    "start_time": "2023-04-03T12:09:13.680Z"
   },
   {
    "duration": 5,
    "start_time": "2023-04-03T12:18:32.811Z"
   },
   {
    "duration": 72,
    "start_time": "2023-04-03T12:18:32.818Z"
   },
   {
    "duration": 12,
    "start_time": "2023-04-03T12:18:32.894Z"
   },
   {
    "duration": 33,
    "start_time": "2023-04-03T12:18:32.909Z"
   },
   {
    "duration": 17,
    "start_time": "2023-04-03T12:18:32.946Z"
   },
   {
    "duration": 19,
    "start_time": "2023-04-03T12:18:32.965Z"
   },
   {
    "duration": 16,
    "start_time": "2023-04-03T12:18:32.986Z"
   },
   {
    "duration": 28,
    "start_time": "2023-04-03T12:18:33.004Z"
   },
   {
    "duration": 199,
    "start_time": "2023-04-03T12:18:33.041Z"
   },
   {
    "duration": 195,
    "start_time": "2023-04-03T12:18:33.244Z"
   },
   {
    "duration": 5,
    "start_time": "2023-04-03T12:18:33.450Z"
   },
   {
    "duration": 170,
    "start_time": "2023-04-03T12:18:33.456Z"
   },
   {
    "duration": 183,
    "start_time": "2023-04-03T12:18:33.628Z"
   },
   {
    "duration": 174,
    "start_time": "2023-04-03T12:18:33.814Z"
   },
   {
    "duration": 6,
    "start_time": "2023-04-03T12:18:33.990Z"
   },
   {
    "duration": 9,
    "start_time": "2023-04-03T12:18:33.998Z"
   },
   {
    "duration": 171,
    "start_time": "2023-04-03T12:18:34.008Z"
   },
   {
    "duration": 12,
    "start_time": "2023-04-03T12:18:42.573Z"
   },
   {
    "duration": 5,
    "start_time": "2023-04-03T12:19:12.907Z"
   },
   {
    "duration": 85,
    "start_time": "2023-04-03T12:19:12.914Z"
   },
   {
    "duration": 13,
    "start_time": "2023-04-03T12:19:13.001Z"
   },
   {
    "duration": 37,
    "start_time": "2023-04-03T12:19:13.016Z"
   },
   {
    "duration": 19,
    "start_time": "2023-04-03T12:19:13.056Z"
   },
   {
    "duration": 25,
    "start_time": "2023-04-03T12:19:13.078Z"
   },
   {
    "duration": 29,
    "start_time": "2023-04-03T12:19:13.105Z"
   },
   {
    "duration": 56,
    "start_time": "2023-04-03T12:19:13.138Z"
   },
   {
    "duration": 178,
    "start_time": "2023-04-03T12:19:13.196Z"
   },
   {
    "duration": 167,
    "start_time": "2023-04-03T12:19:13.376Z"
   },
   {
    "duration": 8,
    "start_time": "2023-04-03T12:19:13.546Z"
   },
   {
    "duration": 195,
    "start_time": "2023-04-03T12:19:13.556Z"
   },
   {
    "duration": 167,
    "start_time": "2023-04-03T12:19:13.753Z"
   },
   {
    "duration": 178,
    "start_time": "2023-04-03T12:19:13.922Z"
   },
   {
    "duration": 10,
    "start_time": "2023-04-03T12:19:14.102Z"
   },
   {
    "duration": 21,
    "start_time": "2023-04-03T12:19:14.114Z"
   },
   {
    "duration": 11,
    "start_time": "2023-04-03T12:19:20.796Z"
   },
   {
    "duration": 5,
    "start_time": "2023-04-03T12:19:30.925Z"
   },
   {
    "duration": 115,
    "start_time": "2023-04-03T12:19:30.933Z"
   },
   {
    "duration": 14,
    "start_time": "2023-04-03T12:19:31.051Z"
   },
   {
    "duration": 81,
    "start_time": "2023-04-03T12:19:31.067Z"
   },
   {
    "duration": 26,
    "start_time": "2023-04-03T12:19:31.152Z"
   },
   {
    "duration": 34,
    "start_time": "2023-04-03T12:19:31.180Z"
   },
   {
    "duration": 31,
    "start_time": "2023-04-03T12:19:31.216Z"
   },
   {
    "duration": 65,
    "start_time": "2023-04-03T12:19:31.249Z"
   },
   {
    "duration": 255,
    "start_time": "2023-04-03T12:19:31.317Z"
   },
   {
    "duration": 247,
    "start_time": "2023-04-03T12:19:31.574Z"
   },
   {
    "duration": 13,
    "start_time": "2023-04-03T12:19:31.823Z"
   },
   {
    "duration": 213,
    "start_time": "2023-04-03T12:19:31.845Z"
   },
   {
    "duration": 238,
    "start_time": "2023-04-03T12:19:32.060Z"
   },
   {
    "duration": 172,
    "start_time": "2023-04-03T12:19:32.301Z"
   },
   {
    "duration": 6,
    "start_time": "2023-04-03T12:19:32.475Z"
   },
   {
    "duration": 37,
    "start_time": "2023-04-03T12:19:32.483Z"
   },
   {
    "duration": 43,
    "start_time": "2023-04-03T12:19:32.522Z"
   },
   {
    "duration": 4,
    "start_time": "2023-04-03T12:20:03.505Z"
   },
   {
    "duration": 153,
    "start_time": "2023-04-03T12:20:03.511Z"
   },
   {
    "duration": 14,
    "start_time": "2023-04-03T12:20:03.667Z"
   },
   {
    "duration": 27,
    "start_time": "2023-04-03T12:20:03.683Z"
   },
   {
    "duration": 24,
    "start_time": "2023-04-03T12:20:03.712Z"
   },
   {
    "duration": 13,
    "start_time": "2023-04-03T12:20:03.738Z"
   },
   {
    "duration": 24,
    "start_time": "2023-04-03T12:20:03.753Z"
   },
   {
    "duration": 51,
    "start_time": "2023-04-03T12:20:03.780Z"
   },
   {
    "duration": 235,
    "start_time": "2023-04-03T12:20:03.834Z"
   },
   {
    "duration": 155,
    "start_time": "2023-04-03T12:20:04.071Z"
   },
   {
    "duration": 13,
    "start_time": "2023-04-03T12:20:04.227Z"
   },
   {
    "duration": 180,
    "start_time": "2023-04-03T12:20:04.242Z"
   },
   {
    "duration": 168,
    "start_time": "2023-04-03T12:20:04.424Z"
   },
   {
    "duration": 168,
    "start_time": "2023-04-03T12:20:04.594Z"
   },
   {
    "duration": 7,
    "start_time": "2023-04-03T12:20:04.764Z"
   },
   {
    "duration": 8,
    "start_time": "2023-04-03T12:20:04.773Z"
   },
   {
    "duration": 13,
    "start_time": "2023-04-03T12:20:04.783Z"
   },
   {
    "duration": 4,
    "start_time": "2023-04-03T12:21:12.470Z"
   },
   {
    "duration": 75,
    "start_time": "2023-04-03T12:21:12.476Z"
   },
   {
    "duration": 13,
    "start_time": "2023-04-03T12:21:12.555Z"
   },
   {
    "duration": 14,
    "start_time": "2023-04-03T12:21:12.570Z"
   },
   {
    "duration": 12,
    "start_time": "2023-04-03T12:21:12.586Z"
   },
   {
    "duration": 9,
    "start_time": "2023-04-03T12:21:12.600Z"
   },
   {
    "duration": 24,
    "start_time": "2023-04-03T12:21:12.611Z"
   },
   {
    "duration": 53,
    "start_time": "2023-04-03T12:21:12.645Z"
   },
   {
    "duration": 0,
    "start_time": "2023-04-03T12:21:12.700Z"
   },
   {
    "duration": 0,
    "start_time": "2023-04-03T12:21:12.701Z"
   },
   {
    "duration": 0,
    "start_time": "2023-04-03T12:21:12.703Z"
   },
   {
    "duration": 0,
    "start_time": "2023-04-03T12:21:12.704Z"
   },
   {
    "duration": 0,
    "start_time": "2023-04-03T12:21:12.705Z"
   },
   {
    "duration": 0,
    "start_time": "2023-04-03T12:21:12.706Z"
   },
   {
    "duration": 0,
    "start_time": "2023-04-03T12:21:12.708Z"
   },
   {
    "duration": 0,
    "start_time": "2023-04-03T12:21:12.709Z"
   },
   {
    "duration": 0,
    "start_time": "2023-04-03T12:21:12.710Z"
   },
   {
    "duration": 5,
    "start_time": "2023-04-03T12:22:17.891Z"
   },
   {
    "duration": 102,
    "start_time": "2023-04-03T12:22:17.898Z"
   },
   {
    "duration": 14,
    "start_time": "2023-04-03T12:22:18.003Z"
   },
   {
    "duration": 70,
    "start_time": "2023-04-03T12:22:18.020Z"
   },
   {
    "duration": 35,
    "start_time": "2023-04-03T12:22:18.093Z"
   },
   {
    "duration": 43,
    "start_time": "2023-04-03T12:22:18.130Z"
   },
   {
    "duration": 0,
    "start_time": "2023-04-03T12:22:18.175Z"
   },
   {
    "duration": 0,
    "start_time": "2023-04-03T12:22:18.176Z"
   },
   {
    "duration": 0,
    "start_time": "2023-04-03T12:22:18.178Z"
   },
   {
    "duration": 0,
    "start_time": "2023-04-03T12:22:18.180Z"
   },
   {
    "duration": 0,
    "start_time": "2023-04-03T12:22:18.182Z"
   },
   {
    "duration": 0,
    "start_time": "2023-04-03T12:22:18.183Z"
   },
   {
    "duration": 0,
    "start_time": "2023-04-03T12:22:18.184Z"
   },
   {
    "duration": 0,
    "start_time": "2023-04-03T12:22:18.186Z"
   },
   {
    "duration": 0,
    "start_time": "2023-04-03T12:22:18.187Z"
   },
   {
    "duration": 0,
    "start_time": "2023-04-03T12:22:18.190Z"
   },
   {
    "duration": 0,
    "start_time": "2023-04-03T12:22:18.191Z"
   },
   {
    "duration": 4,
    "start_time": "2023-04-03T12:22:43.996Z"
   },
   {
    "duration": 80,
    "start_time": "2023-04-03T12:22:44.002Z"
   },
   {
    "duration": 15,
    "start_time": "2023-04-03T12:22:44.085Z"
   },
   {
    "duration": 17,
    "start_time": "2023-04-03T12:22:44.103Z"
   },
   {
    "duration": 15,
    "start_time": "2023-04-03T12:22:44.124Z"
   },
   {
    "duration": 11,
    "start_time": "2023-04-03T12:22:44.147Z"
   },
   {
    "duration": 20,
    "start_time": "2023-04-03T12:22:44.159Z"
   },
   {
    "duration": 22,
    "start_time": "2023-04-03T12:22:44.180Z"
   },
   {
    "duration": 174,
    "start_time": "2023-04-03T12:22:44.204Z"
   },
   {
    "duration": 171,
    "start_time": "2023-04-03T12:22:44.380Z"
   },
   {
    "duration": 4,
    "start_time": "2023-04-03T12:22:44.553Z"
   },
   {
    "duration": 187,
    "start_time": "2023-04-03T12:22:44.559Z"
   },
   {
    "duration": 173,
    "start_time": "2023-04-03T12:22:44.748Z"
   },
   {
    "duration": 169,
    "start_time": "2023-04-03T12:22:44.925Z"
   },
   {
    "duration": 6,
    "start_time": "2023-04-03T12:22:45.096Z"
   },
   {
    "duration": 6,
    "start_time": "2023-04-03T12:22:45.104Z"
   },
   {
    "duration": 41,
    "start_time": "2023-04-03T12:22:45.112Z"
   },
   {
    "duration": 0,
    "start_time": "2023-04-03T12:22:45.155Z"
   },
   {
    "duration": 6,
    "start_time": "2023-04-03T12:23:26.146Z"
   },
   {
    "duration": 78,
    "start_time": "2023-04-03T12:23:26.154Z"
   },
   {
    "duration": 17,
    "start_time": "2023-04-03T12:23:26.238Z"
   },
   {
    "duration": 21,
    "start_time": "2023-04-03T12:23:26.258Z"
   },
   {
    "duration": 15,
    "start_time": "2023-04-03T12:23:26.281Z"
   },
   {
    "duration": 7,
    "start_time": "2023-04-03T12:23:26.297Z"
   },
   {
    "duration": 9,
    "start_time": "2023-04-03T12:23:26.306Z"
   },
   {
    "duration": 33,
    "start_time": "2023-04-03T12:23:26.317Z"
   },
   {
    "duration": 463,
    "start_time": "2023-04-03T12:23:26.353Z"
   },
   {
    "duration": 4,
    "start_time": "2023-04-03T12:28:11.269Z"
   },
   {
    "duration": 77,
    "start_time": "2023-04-03T12:28:11.275Z"
   },
   {
    "duration": 13,
    "start_time": "2023-04-03T12:28:11.354Z"
   },
   {
    "duration": 27,
    "start_time": "2023-04-03T12:28:11.369Z"
   },
   {
    "duration": 3,
    "start_time": "2023-04-03T12:29:00.597Z"
   },
   {
    "duration": 14,
    "start_time": "2023-04-03T12:40:06.685Z"
   },
   {
    "duration": 4,
    "start_time": "2023-04-03T12:40:09.919Z"
   },
   {
    "duration": 89,
    "start_time": "2023-04-03T12:40:09.926Z"
   },
   {
    "duration": 26,
    "start_time": "2023-04-03T12:40:10.017Z"
   },
   {
    "duration": 49,
    "start_time": "2023-04-03T12:40:10.050Z"
   },
   {
    "duration": 7,
    "start_time": "2023-04-03T12:40:10.103Z"
   },
   {
    "duration": 16,
    "start_time": "2023-04-03T12:40:10.112Z"
   },
   {
    "duration": 30,
    "start_time": "2023-04-03T12:40:10.131Z"
   },
   {
    "duration": 27,
    "start_time": "2023-04-03T12:40:10.163Z"
   },
   {
    "duration": 0,
    "start_time": "2023-04-03T12:40:10.192Z"
   },
   {
    "duration": 0,
    "start_time": "2023-04-03T12:40:10.194Z"
   },
   {
    "duration": 0,
    "start_time": "2023-04-03T12:40:10.195Z"
   },
   {
    "duration": 0,
    "start_time": "2023-04-03T12:40:10.197Z"
   },
   {
    "duration": 0,
    "start_time": "2023-04-03T12:40:10.198Z"
   },
   {
    "duration": 0,
    "start_time": "2023-04-03T12:40:10.200Z"
   },
   {
    "duration": 0,
    "start_time": "2023-04-03T12:40:10.202Z"
   },
   {
    "duration": 0,
    "start_time": "2023-04-03T12:40:10.203Z"
   },
   {
    "duration": 0,
    "start_time": "2023-04-03T12:40:10.205Z"
   },
   {
    "duration": 0,
    "start_time": "2023-04-03T12:40:10.206Z"
   },
   {
    "duration": 0,
    "start_time": "2023-04-03T12:40:10.207Z"
   },
   {
    "duration": 13,
    "start_time": "2023-04-03T12:40:27.088Z"
   },
   {
    "duration": 21,
    "start_time": "2023-04-03T12:40:31.121Z"
   },
   {
    "duration": 5,
    "start_time": "2023-04-03T12:40:41.978Z"
   },
   {
    "duration": 111,
    "start_time": "2023-04-03T12:40:41.986Z"
   },
   {
    "duration": 16,
    "start_time": "2023-04-03T12:40:42.099Z"
   },
   {
    "duration": 32,
    "start_time": "2023-04-03T12:40:42.117Z"
   },
   {
    "duration": 25,
    "start_time": "2023-04-03T12:40:42.153Z"
   },
   {
    "duration": 6,
    "start_time": "2023-04-03T12:40:42.180Z"
   },
   {
    "duration": 11,
    "start_time": "2023-04-03T12:40:42.188Z"
   },
   {
    "duration": 24,
    "start_time": "2023-04-03T12:40:42.201Z"
   },
   {
    "duration": 4,
    "start_time": "2023-04-03T12:41:03.659Z"
   },
   {
    "duration": 94,
    "start_time": "2023-04-03T12:41:03.665Z"
   },
   {
    "duration": 19,
    "start_time": "2023-04-03T12:41:03.763Z"
   },
   {
    "duration": 32,
    "start_time": "2023-04-03T12:41:03.785Z"
   },
   {
    "duration": 57,
    "start_time": "2023-04-03T12:41:03.819Z"
   },
   {
    "duration": 30,
    "start_time": "2023-04-03T12:41:03.878Z"
   },
   {
    "duration": 27,
    "start_time": "2023-04-03T12:41:03.910Z"
   },
   {
    "duration": 62,
    "start_time": "2023-04-03T12:41:03.939Z"
   },
   {
    "duration": 6,
    "start_time": "2023-04-03T12:41:53.224Z"
   },
   {
    "duration": 179,
    "start_time": "2023-04-03T12:41:53.233Z"
   },
   {
    "duration": 16,
    "start_time": "2023-04-03T12:41:53.414Z"
   },
   {
    "duration": 73,
    "start_time": "2023-04-03T12:41:53.432Z"
   },
   {
    "duration": 53,
    "start_time": "2023-04-03T12:41:53.509Z"
   },
   {
    "duration": 22,
    "start_time": "2023-04-03T12:41:53.564Z"
   },
   {
    "duration": 35,
    "start_time": "2023-04-03T12:41:53.588Z"
   },
   {
    "duration": 95,
    "start_time": "2023-04-03T12:41:53.625Z"
   },
   {
    "duration": 187,
    "start_time": "2023-04-03T12:41:53.722Z"
   },
   {
    "duration": 194,
    "start_time": "2023-04-03T12:41:53.911Z"
   },
   {
    "duration": 6,
    "start_time": "2023-04-03T12:41:54.108Z"
   },
   {
    "duration": 213,
    "start_time": "2023-04-03T12:41:54.116Z"
   },
   {
    "duration": 174,
    "start_time": "2023-04-03T12:41:54.331Z"
   },
   {
    "duration": 173,
    "start_time": "2023-04-03T12:41:54.507Z"
   },
   {
    "duration": 8,
    "start_time": "2023-04-03T12:41:54.682Z"
   },
   {
    "duration": 27,
    "start_time": "2023-04-03T12:41:54.694Z"
   },
   {
    "duration": 49,
    "start_time": "2023-04-03T12:41:54.723Z"
   },
   {
    "duration": 21,
    "start_time": "2023-04-03T12:41:54.774Z"
   },
   {
    "duration": 68,
    "start_time": "2023-04-03T12:41:54.796Z"
   },
   {
    "duration": 15,
    "start_time": "2023-04-03T12:41:54.866Z"
   },
   {
    "duration": 35,
    "start_time": "2023-04-03T12:41:54.883Z"
   },
   {
    "duration": 5,
    "start_time": "2023-04-03T12:46:10.491Z"
   },
   {
    "duration": 62,
    "start_time": "2023-04-03T12:46:10.500Z"
   },
   {
    "duration": 12,
    "start_time": "2023-04-03T12:46:10.566Z"
   },
   {
    "duration": 27,
    "start_time": "2023-04-03T12:46:10.580Z"
   },
   {
    "duration": 11,
    "start_time": "2023-04-03T12:46:10.610Z"
   },
   {
    "duration": 25,
    "start_time": "2023-04-03T12:46:10.635Z"
   },
   {
    "duration": 9,
    "start_time": "2023-04-03T12:46:10.662Z"
   },
   {
    "duration": 33,
    "start_time": "2023-04-03T12:46:10.673Z"
   },
   {
    "duration": 211,
    "start_time": "2023-04-03T12:46:10.708Z"
   },
   {
    "duration": 175,
    "start_time": "2023-04-03T12:46:10.922Z"
   },
   {
    "duration": 4,
    "start_time": "2023-04-03T12:46:11.100Z"
   },
   {
    "duration": 198,
    "start_time": "2023-04-03T12:46:11.106Z"
   },
   {
    "duration": 178,
    "start_time": "2023-04-03T12:46:11.306Z"
   },
   {
    "duration": 180,
    "start_time": "2023-04-03T12:46:11.486Z"
   },
   {
    "duration": 6,
    "start_time": "2023-04-03T12:46:11.668Z"
   },
   {
    "duration": 8,
    "start_time": "2023-04-03T12:46:11.676Z"
   },
   {
    "duration": 16,
    "start_time": "2023-04-03T12:46:11.686Z"
   },
   {
    "duration": 11,
    "start_time": "2023-04-03T12:46:11.704Z"
   },
   {
    "duration": 50,
    "start_time": "2023-04-03T12:46:11.716Z"
   },
   {
    "duration": 9,
    "start_time": "2023-04-03T12:46:11.767Z"
   },
   {
    "duration": 9,
    "start_time": "2023-04-03T12:46:11.778Z"
   },
   {
    "duration": 20,
    "start_time": "2023-04-03T12:46:11.789Z"
   },
   {
    "duration": 4,
    "start_time": "2023-04-03T12:49:47.799Z"
   },
   {
    "duration": 67,
    "start_time": "2023-04-03T12:49:47.805Z"
   },
   {
    "duration": 15,
    "start_time": "2023-04-03T12:49:47.874Z"
   },
   {
    "duration": 17,
    "start_time": "2023-04-03T12:49:47.891Z"
   },
   {
    "duration": 28,
    "start_time": "2023-04-03T12:49:47.911Z"
   },
   {
    "duration": 5,
    "start_time": "2023-04-03T12:49:47.952Z"
   },
   {
    "duration": 7,
    "start_time": "2023-04-03T12:49:47.959Z"
   },
   {
    "duration": 23,
    "start_time": "2023-04-03T12:49:47.968Z"
   },
   {
    "duration": 200,
    "start_time": "2023-04-03T12:49:47.993Z"
   },
   {
    "duration": 193,
    "start_time": "2023-04-03T12:49:48.197Z"
   },
   {
    "duration": 6,
    "start_time": "2023-04-03T12:49:48.392Z"
   },
   {
    "duration": 223,
    "start_time": "2023-04-03T12:49:48.401Z"
   },
   {
    "duration": 196,
    "start_time": "2023-04-03T12:49:48.627Z"
   },
   {
    "duration": 162,
    "start_time": "2023-04-03T12:49:48.834Z"
   },
   {
    "duration": 6,
    "start_time": "2023-04-03T12:49:48.998Z"
   },
   {
    "duration": 19,
    "start_time": "2023-04-03T12:49:49.005Z"
   },
   {
    "duration": 8,
    "start_time": "2023-04-03T12:49:49.026Z"
   },
   {
    "duration": 36,
    "start_time": "2023-04-03T12:49:49.037Z"
   },
   {
    "duration": 5,
    "start_time": "2023-04-03T12:50:26.184Z"
   },
   {
    "duration": 66,
    "start_time": "2023-04-03T12:50:26.192Z"
   },
   {
    "duration": 12,
    "start_time": "2023-04-03T12:50:26.261Z"
   },
   {
    "duration": 18,
    "start_time": "2023-04-03T12:50:26.275Z"
   },
   {
    "duration": 16,
    "start_time": "2023-04-03T12:50:26.295Z"
   },
   {
    "duration": 23,
    "start_time": "2023-04-03T12:50:26.313Z"
   },
   {
    "duration": 20,
    "start_time": "2023-04-03T12:50:26.338Z"
   },
   {
    "duration": 16,
    "start_time": "2023-04-03T12:50:26.360Z"
   },
   {
    "duration": 193,
    "start_time": "2023-04-03T12:50:26.378Z"
   },
   {
    "duration": 165,
    "start_time": "2023-04-03T12:50:26.574Z"
   },
   {
    "duration": 9,
    "start_time": "2023-04-03T12:50:26.745Z"
   },
   {
    "duration": 331,
    "start_time": "2023-04-03T12:50:26.755Z"
   },
   {
    "duration": 177,
    "start_time": "2023-04-03T12:50:27.087Z"
   },
   {
    "duration": 178,
    "start_time": "2023-04-03T12:50:27.266Z"
   },
   {
    "duration": 8,
    "start_time": "2023-04-03T12:50:27.450Z"
   },
   {
    "duration": 18,
    "start_time": "2023-04-03T12:50:27.459Z"
   },
   {
    "duration": 5,
    "start_time": "2023-04-03T12:50:32.023Z"
   },
   {
    "duration": 127,
    "start_time": "2023-04-03T12:50:32.030Z"
   },
   {
    "duration": 18,
    "start_time": "2023-04-03T12:50:32.159Z"
   },
   {
    "duration": 22,
    "start_time": "2023-04-03T12:50:32.180Z"
   },
   {
    "duration": 21,
    "start_time": "2023-04-03T12:50:32.204Z"
   },
   {
    "duration": 43,
    "start_time": "2023-04-03T12:50:32.233Z"
   },
   {
    "duration": 22,
    "start_time": "2023-04-03T12:50:32.278Z"
   },
   {
    "duration": 33,
    "start_time": "2023-04-03T12:50:32.302Z"
   },
   {
    "duration": 211,
    "start_time": "2023-04-03T12:50:32.341Z"
   },
   {
    "duration": 164,
    "start_time": "2023-04-03T12:50:32.555Z"
   },
   {
    "duration": 5,
    "start_time": "2023-04-03T12:50:32.721Z"
   },
   {
    "duration": 185,
    "start_time": "2023-04-03T12:50:32.735Z"
   },
   {
    "duration": 190,
    "start_time": "2023-04-03T12:50:32.922Z"
   },
   {
    "duration": 191,
    "start_time": "2023-04-03T12:50:33.115Z"
   },
   {
    "duration": 6,
    "start_time": "2023-04-03T12:50:33.308Z"
   },
   {
    "duration": 46,
    "start_time": "2023-04-03T12:50:33.316Z"
   },
   {
    "duration": 30,
    "start_time": "2023-04-03T12:50:33.364Z"
   },
   {
    "duration": 5,
    "start_time": "2023-04-03T12:51:17.651Z"
   },
   {
    "duration": 63,
    "start_time": "2023-04-03T12:51:17.659Z"
   },
   {
    "duration": 23,
    "start_time": "2023-04-03T12:51:17.725Z"
   },
   {
    "duration": 25,
    "start_time": "2023-04-03T12:51:17.750Z"
   },
   {
    "duration": 17,
    "start_time": "2023-04-03T12:51:17.778Z"
   },
   {
    "duration": 6,
    "start_time": "2023-04-03T12:51:17.798Z"
   },
   {
    "duration": 9,
    "start_time": "2023-04-03T12:51:17.806Z"
   },
   {
    "duration": 40,
    "start_time": "2023-04-03T12:51:17.817Z"
   },
   {
    "duration": 183,
    "start_time": "2023-04-03T12:51:17.858Z"
   },
   {
    "duration": 196,
    "start_time": "2023-04-03T12:51:18.043Z"
   },
   {
    "duration": 9,
    "start_time": "2023-04-03T12:51:18.245Z"
   },
   {
    "duration": 22,
    "start_time": "2023-04-03T12:51:18.257Z"
   },
   {
    "duration": 1457,
    "start_time": "2023-04-03T13:32:45.393Z"
   },
   {
    "duration": 140,
    "start_time": "2023-04-03T13:32:46.852Z"
   },
   {
    "duration": 10,
    "start_time": "2023-04-03T13:32:46.993Z"
   },
   {
    "duration": 16,
    "start_time": "2023-04-03T13:32:47.004Z"
   },
   {
    "duration": 5,
    "start_time": "2023-04-03T13:32:47.022Z"
   },
   {
    "duration": 6,
    "start_time": "2023-04-03T13:32:47.028Z"
   },
   {
    "duration": 4,
    "start_time": "2023-04-03T13:32:47.035Z"
   },
   {
    "duration": 15,
    "start_time": "2023-04-03T13:32:47.040Z"
   },
   {
    "duration": 212,
    "start_time": "2023-04-03T13:32:47.057Z"
   },
   {
    "duration": 126,
    "start_time": "2023-04-03T13:32:47.270Z"
   },
   {
    "duration": 5,
    "start_time": "2023-04-03T13:32:47.398Z"
   },
   {
    "duration": 146,
    "start_time": "2023-04-03T13:32:47.404Z"
   },
   {
    "duration": 192,
    "start_time": "2023-04-03T13:32:47.552Z"
   },
   {
    "duration": 136,
    "start_time": "2023-04-03T13:32:47.747Z"
   },
   {
    "duration": 5,
    "start_time": "2023-04-03T13:32:47.885Z"
   },
   {
    "duration": 6,
    "start_time": "2023-04-03T13:32:47.892Z"
   },
   {
    "duration": 123,
    "start_time": "2023-04-03T13:33:12.775Z"
   },
   {
    "duration": 5,
    "start_time": "2023-04-03T13:33:20.613Z"
   },
   {
    "duration": 113,
    "start_time": "2023-04-03T13:33:32.170Z"
   },
   {
    "duration": 4,
    "start_time": "2023-04-03T13:33:42.075Z"
   },
   {
    "duration": 43,
    "start_time": "2023-04-03T13:33:42.080Z"
   },
   {
    "duration": 10,
    "start_time": "2023-04-03T13:33:42.124Z"
   },
   {
    "duration": 14,
    "start_time": "2023-04-03T13:33:42.135Z"
   },
   {
    "duration": 5,
    "start_time": "2023-04-03T13:33:42.151Z"
   },
   {
    "duration": 3,
    "start_time": "2023-04-03T13:33:42.157Z"
   },
   {
    "duration": 12,
    "start_time": "2023-04-03T13:33:42.161Z"
   },
   {
    "duration": 18,
    "start_time": "2023-04-03T13:33:42.175Z"
   },
   {
    "duration": 131,
    "start_time": "2023-04-03T13:33:42.195Z"
   },
   {
    "duration": 126,
    "start_time": "2023-04-03T13:33:42.327Z"
   },
   {
    "duration": 4,
    "start_time": "2023-04-03T13:33:42.454Z"
   },
   {
    "duration": 168,
    "start_time": "2023-04-03T13:33:42.468Z"
   },
   {
    "duration": 152,
    "start_time": "2023-04-03T13:33:42.638Z"
   },
   {
    "duration": 132,
    "start_time": "2023-04-03T13:33:42.792Z"
   },
   {
    "duration": 5,
    "start_time": "2023-04-03T13:33:42.925Z"
   },
   {
    "duration": 8,
    "start_time": "2023-04-03T13:33:42.931Z"
   },
   {
    "duration": 122,
    "start_time": "2023-04-03T13:34:02.046Z"
   },
   {
    "duration": 4,
    "start_time": "2023-04-03T13:34:10.461Z"
   },
   {
    "duration": 39,
    "start_time": "2023-04-03T13:34:10.467Z"
   },
   {
    "duration": 10,
    "start_time": "2023-04-03T13:34:10.508Z"
   },
   {
    "duration": 13,
    "start_time": "2023-04-03T13:34:10.519Z"
   },
   {
    "duration": 5,
    "start_time": "2023-04-03T13:34:10.534Z"
   },
   {
    "duration": 3,
    "start_time": "2023-04-03T13:34:10.541Z"
   },
   {
    "duration": 4,
    "start_time": "2023-04-03T13:34:10.545Z"
   },
   {
    "duration": 21,
    "start_time": "2023-04-03T13:34:10.550Z"
   },
   {
    "duration": 139,
    "start_time": "2023-04-03T13:34:10.572Z"
   },
   {
    "duration": 124,
    "start_time": "2023-04-03T13:34:10.712Z"
   },
   {
    "duration": 3,
    "start_time": "2023-04-03T13:34:10.838Z"
   },
   {
    "duration": 141,
    "start_time": "2023-04-03T13:34:10.843Z"
   },
   {
    "duration": 141,
    "start_time": "2023-04-03T13:34:10.986Z"
   },
   {
    "duration": 220,
    "start_time": "2023-04-03T13:34:11.129Z"
   },
   {
    "duration": 6,
    "start_time": "2023-04-03T13:34:11.350Z"
   },
   {
    "duration": 14,
    "start_time": "2023-04-03T13:34:11.357Z"
   },
   {
    "duration": 9,
    "start_time": "2023-04-03T13:34:20.375Z"
   },
   {
    "duration": 152,
    "start_time": "2023-04-03T13:35:14.380Z"
   },
   {
    "duration": 141,
    "start_time": "2023-04-03T13:35:39.676Z"
   },
   {
    "duration": 6,
    "start_time": "2023-04-03T13:35:48.434Z"
   },
   {
    "duration": 6,
    "start_time": "2023-04-03T13:35:51.885Z"
   },
   {
    "duration": 11,
    "start_time": "2023-04-03T13:35:54.114Z"
   },
   {
    "duration": 4,
    "start_time": "2023-04-03T13:36:32.182Z"
   },
   {
    "duration": 53,
    "start_time": "2023-04-03T13:36:32.188Z"
   },
   {
    "duration": 11,
    "start_time": "2023-04-03T13:36:32.243Z"
   },
   {
    "duration": 18,
    "start_time": "2023-04-03T13:36:32.256Z"
   },
   {
    "duration": 6,
    "start_time": "2023-04-03T13:36:32.276Z"
   },
   {
    "duration": 13,
    "start_time": "2023-04-03T13:36:32.283Z"
   },
   {
    "duration": 5,
    "start_time": "2023-04-03T13:36:32.297Z"
   },
   {
    "duration": 14,
    "start_time": "2023-04-03T13:36:32.304Z"
   },
   {
    "duration": 170,
    "start_time": "2023-04-03T13:36:32.319Z"
   },
   {
    "duration": 142,
    "start_time": "2023-04-03T13:36:32.491Z"
   },
   {
    "duration": 4,
    "start_time": "2023-04-03T13:36:32.634Z"
   },
   {
    "duration": 209,
    "start_time": "2023-04-03T13:36:32.640Z"
   },
   {
    "duration": 199,
    "start_time": "2023-04-03T13:36:32.851Z"
   },
   {
    "duration": 159,
    "start_time": "2023-04-03T13:36:33.052Z"
   },
   {
    "duration": 6,
    "start_time": "2023-04-03T13:36:33.213Z"
   },
   {
    "duration": 12,
    "start_time": "2023-04-03T13:36:33.221Z"
   },
   {
    "duration": 10,
    "start_time": "2023-04-03T13:36:35.725Z"
   },
   {
    "duration": 8,
    "start_time": "2023-04-03T13:38:48.614Z"
   },
   {
    "duration": 147,
    "start_time": "2023-04-03T13:43:06.886Z"
   },
   {
    "duration": 126,
    "start_time": "2023-04-03T13:43:26.074Z"
   },
   {
    "duration": 6,
    "start_time": "2023-04-03T13:43:52.997Z"
   },
   {
    "duration": 54,
    "start_time": "2023-04-03T13:43:53.013Z"
   },
   {
    "duration": 14,
    "start_time": "2023-04-03T13:43:53.069Z"
   },
   {
    "duration": 20,
    "start_time": "2023-04-03T13:43:53.086Z"
   },
   {
    "duration": 7,
    "start_time": "2023-04-03T13:43:53.109Z"
   },
   {
    "duration": 8,
    "start_time": "2023-04-03T13:43:53.118Z"
   },
   {
    "duration": 6,
    "start_time": "2023-04-03T13:43:53.128Z"
   },
   {
    "duration": 49,
    "start_time": "2023-04-03T13:43:53.136Z"
   },
   {
    "duration": 176,
    "start_time": "2023-04-03T13:43:53.187Z"
   },
   {
    "duration": 139,
    "start_time": "2023-04-03T13:43:53.364Z"
   },
   {
    "duration": 4,
    "start_time": "2023-04-03T13:43:53.506Z"
   },
   {
    "duration": 162,
    "start_time": "2023-04-03T13:43:53.511Z"
   },
   {
    "duration": 173,
    "start_time": "2023-04-03T13:43:53.674Z"
   },
   {
    "duration": 144,
    "start_time": "2023-04-03T13:43:53.848Z"
   },
   {
    "duration": 6,
    "start_time": "2023-04-03T13:43:53.993Z"
   },
   {
    "duration": 7,
    "start_time": "2023-04-03T13:43:54.001Z"
   },
   {
    "duration": 4,
    "start_time": "2023-04-03T13:44:03.978Z"
   },
   {
    "duration": 13,
    "start_time": "2023-04-03T13:44:06.435Z"
   },
   {
    "duration": 1540,
    "start_time": "2023-04-03T13:44:33.970Z"
   },
   {
    "duration": 44,
    "start_time": "2023-04-03T13:44:35.512Z"
   },
   {
    "duration": 12,
    "start_time": "2023-04-03T13:44:35.557Z"
   },
   {
    "duration": 21,
    "start_time": "2023-04-03T13:44:35.571Z"
   },
   {
    "duration": 5,
    "start_time": "2023-04-03T13:44:35.594Z"
   },
   {
    "duration": 18,
    "start_time": "2023-04-03T13:44:35.600Z"
   },
   {
    "duration": 5,
    "start_time": "2023-04-03T13:44:35.619Z"
   },
   {
    "duration": 22,
    "start_time": "2023-04-03T13:44:35.625Z"
   },
   {
    "duration": 261,
    "start_time": "2023-04-03T13:44:35.649Z"
   },
   {
    "duration": 137,
    "start_time": "2023-04-03T13:44:35.912Z"
   },
   {
    "duration": 5,
    "start_time": "2023-04-03T13:44:36.051Z"
   },
   {
    "duration": 150,
    "start_time": "2023-04-03T13:44:36.057Z"
   },
   {
    "duration": 220,
    "start_time": "2023-04-03T13:44:36.208Z"
   },
   {
    "duration": 148,
    "start_time": "2023-04-03T13:44:36.430Z"
   },
   {
    "duration": 6,
    "start_time": "2023-04-03T13:44:36.579Z"
   },
   {
    "duration": 7,
    "start_time": "2023-04-03T13:44:36.587Z"
   },
   {
    "duration": 132,
    "start_time": "2023-04-03T13:44:36.595Z"
   },
   {
    "duration": 7,
    "start_time": "2023-04-03T13:48:46.792Z"
   },
   {
    "duration": 10,
    "start_time": "2023-04-03T13:48:53.982Z"
   },
   {
    "duration": 9,
    "start_time": "2023-04-03T13:49:05.780Z"
   },
   {
    "duration": 4,
    "start_time": "2023-04-03T13:49:46.328Z"
   },
   {
    "duration": 8,
    "start_time": "2023-04-03T13:49:56.328Z"
   },
   {
    "duration": 143,
    "start_time": "2023-04-03T13:50:24.327Z"
   },
   {
    "duration": 6,
    "start_time": "2023-04-03T13:50:33.488Z"
   },
   {
    "duration": 131,
    "start_time": "2023-04-03T13:50:44.814Z"
   },
   {
    "duration": 9,
    "start_time": "2023-04-03T13:51:01.484Z"
   },
   {
    "duration": 137,
    "start_time": "2023-04-03T13:51:20.882Z"
   },
   {
    "duration": 8,
    "start_time": "2023-04-03T13:51:26.736Z"
   },
   {
    "duration": 3,
    "start_time": "2023-04-03T13:51:33.718Z"
   },
   {
    "duration": 58,
    "start_time": "2023-04-03T13:51:33.723Z"
   },
   {
    "duration": 11,
    "start_time": "2023-04-03T13:51:33.787Z"
   },
   {
    "duration": 15,
    "start_time": "2023-04-03T13:51:33.800Z"
   },
   {
    "duration": 5,
    "start_time": "2023-04-03T13:51:33.817Z"
   },
   {
    "duration": 4,
    "start_time": "2023-04-03T13:51:33.823Z"
   },
   {
    "duration": 8,
    "start_time": "2023-04-03T13:51:33.828Z"
   },
   {
    "duration": 50,
    "start_time": "2023-04-03T13:51:33.837Z"
   },
   {
    "duration": 149,
    "start_time": "2023-04-03T13:51:33.889Z"
   },
   {
    "duration": 142,
    "start_time": "2023-04-03T13:51:34.040Z"
   },
   {
    "duration": 5,
    "start_time": "2023-04-03T13:51:34.184Z"
   },
   {
    "duration": 152,
    "start_time": "2023-04-03T13:51:34.190Z"
   },
   {
    "duration": 6,
    "start_time": "2023-04-03T13:51:34.344Z"
   },
   {
    "duration": 158,
    "start_time": "2023-04-03T13:51:34.352Z"
   },
   {
    "duration": 7,
    "start_time": "2023-04-03T13:51:34.511Z"
   },
   {
    "duration": 161,
    "start_time": "2023-04-03T13:51:34.519Z"
   },
   {
    "duration": 8,
    "start_time": "2023-04-03T13:51:38.481Z"
   },
   {
    "duration": 3,
    "start_time": "2023-04-03T13:52:16.321Z"
   },
   {
    "duration": 5,
    "start_time": "2023-04-03T13:52:38.790Z"
   },
   {
    "duration": 40,
    "start_time": "2023-04-03T13:52:38.802Z"
   },
   {
    "duration": 10,
    "start_time": "2023-04-03T13:52:38.843Z"
   },
   {
    "duration": 32,
    "start_time": "2023-04-03T13:52:38.855Z"
   },
   {
    "duration": 5,
    "start_time": "2023-04-03T13:52:38.889Z"
   },
   {
    "duration": 4,
    "start_time": "2023-04-03T13:52:38.896Z"
   },
   {
    "duration": 9,
    "start_time": "2023-04-03T13:52:38.901Z"
   },
   {
    "duration": 21,
    "start_time": "2023-04-03T13:52:38.911Z"
   },
   {
    "duration": 154,
    "start_time": "2023-04-03T13:52:38.934Z"
   },
   {
    "duration": 133,
    "start_time": "2023-04-03T13:52:39.090Z"
   },
   {
    "duration": 4,
    "start_time": "2023-04-03T13:52:39.225Z"
   },
   {
    "duration": 158,
    "start_time": "2023-04-03T13:52:39.231Z"
   },
   {
    "duration": 3,
    "start_time": "2023-04-03T13:52:39.391Z"
   },
   {
    "duration": 267,
    "start_time": "2023-04-03T13:52:39.396Z"
   },
   {
    "duration": 157,
    "start_time": "2023-04-03T13:52:39.671Z"
   },
   {
    "duration": 6,
    "start_time": "2023-04-03T13:52:39.830Z"
   },
   {
    "duration": 6,
    "start_time": "2023-04-03T13:52:39.837Z"
   },
   {
    "duration": 4,
    "start_time": "2023-04-03T13:52:47.406Z"
   },
   {
    "duration": 11,
    "start_time": "2023-04-03T13:52:49.102Z"
   },
   {
    "duration": 100,
    "start_time": "2023-04-03T13:53:44.885Z"
   },
   {
    "duration": 11,
    "start_time": "2023-04-03T13:53:48.580Z"
   },
   {
    "duration": 1348,
    "start_time": "2023-04-03T13:55:08.989Z"
   },
   {
    "duration": 47,
    "start_time": "2023-04-03T13:55:10.339Z"
   },
   {
    "duration": 11,
    "start_time": "2023-04-03T13:55:10.387Z"
   },
   {
    "duration": 13,
    "start_time": "2023-04-03T13:55:10.399Z"
   },
   {
    "duration": 4,
    "start_time": "2023-04-03T13:55:10.414Z"
   },
   {
    "duration": 7,
    "start_time": "2023-04-03T13:55:10.420Z"
   },
   {
    "duration": 7,
    "start_time": "2023-04-03T13:55:10.428Z"
   },
   {
    "duration": 47,
    "start_time": "2023-04-03T13:55:10.436Z"
   },
   {
    "duration": 205,
    "start_time": "2023-04-03T13:55:10.485Z"
   },
   {
    "duration": 132,
    "start_time": "2023-04-03T13:55:10.692Z"
   },
   {
    "duration": 4,
    "start_time": "2023-04-03T13:55:10.827Z"
   },
   {
    "duration": 152,
    "start_time": "2023-04-03T13:55:10.833Z"
   },
   {
    "duration": 3,
    "start_time": "2023-04-03T13:55:10.986Z"
   },
   {
    "duration": 219,
    "start_time": "2023-04-03T13:55:10.991Z"
   },
   {
    "duration": 149,
    "start_time": "2023-04-03T13:55:11.211Z"
   },
   {
    "duration": 20,
    "start_time": "2023-04-03T13:55:11.361Z"
   },
   {
    "duration": 5,
    "start_time": "2023-04-03T13:55:11.383Z"
   },
   {
    "duration": 109,
    "start_time": "2023-04-03T13:55:11.389Z"
   },
   {
    "duration": 3,
    "start_time": "2023-04-03T13:56:49.080Z"
   },
   {
    "duration": 151,
    "start_time": "2023-04-03T13:56:51.031Z"
   },
   {
    "duration": 3,
    "start_time": "2023-04-03T13:57:53.323Z"
   },
   {
    "duration": 55,
    "start_time": "2023-04-03T13:57:53.328Z"
   },
   {
    "duration": 11,
    "start_time": "2023-04-03T13:57:53.385Z"
   },
   {
    "duration": 16,
    "start_time": "2023-04-03T13:57:53.398Z"
   },
   {
    "duration": 17,
    "start_time": "2023-04-03T13:57:53.417Z"
   },
   {
    "duration": 6,
    "start_time": "2023-04-03T13:57:53.435Z"
   },
   {
    "duration": 7,
    "start_time": "2023-04-03T13:57:53.442Z"
   },
   {
    "duration": 31,
    "start_time": "2023-04-03T13:57:53.450Z"
   },
   {
    "duration": 143,
    "start_time": "2023-04-03T13:57:53.482Z"
   },
   {
    "duration": 135,
    "start_time": "2023-04-03T13:57:53.626Z"
   },
   {
    "duration": 8,
    "start_time": "2023-04-03T13:57:53.762Z"
   },
   {
    "duration": 191,
    "start_time": "2023-04-03T13:57:53.772Z"
   },
   {
    "duration": 18,
    "start_time": "2023-04-03T13:57:53.964Z"
   },
   {
    "duration": 160,
    "start_time": "2023-04-03T13:57:53.985Z"
   },
   {
    "duration": 6,
    "start_time": "2023-04-03T13:57:54.147Z"
   },
   {
    "duration": 19,
    "start_time": "2023-04-03T13:57:54.154Z"
   },
   {
    "duration": 173,
    "start_time": "2023-04-03T13:58:59.281Z"
   },
   {
    "duration": 135,
    "start_time": "2023-04-03T13:59:16.093Z"
   },
   {
    "duration": 4,
    "start_time": "2023-04-03T13:59:28.398Z"
   },
   {
    "duration": 64,
    "start_time": "2023-04-03T13:59:28.403Z"
   },
   {
    "duration": 13,
    "start_time": "2023-04-03T13:59:28.474Z"
   },
   {
    "duration": 29,
    "start_time": "2023-04-03T13:59:28.488Z"
   },
   {
    "duration": 15,
    "start_time": "2023-04-03T13:59:28.519Z"
   },
   {
    "duration": 3,
    "start_time": "2023-04-03T13:59:28.536Z"
   },
   {
    "duration": 22,
    "start_time": "2023-04-03T13:59:28.540Z"
   },
   {
    "duration": 32,
    "start_time": "2023-04-03T13:59:28.563Z"
   },
   {
    "duration": 169,
    "start_time": "2023-04-03T13:59:28.596Z"
   },
   {
    "duration": 137,
    "start_time": "2023-04-03T13:59:28.768Z"
   },
   {
    "duration": 4,
    "start_time": "2023-04-03T13:59:28.907Z"
   },
   {
    "duration": 170,
    "start_time": "2023-04-03T13:59:28.912Z"
   },
   {
    "duration": 3,
    "start_time": "2023-04-03T13:59:29.084Z"
   },
   {
    "duration": 166,
    "start_time": "2023-04-03T13:59:29.089Z"
   },
   {
    "duration": 5,
    "start_time": "2023-04-03T13:59:29.256Z"
   },
   {
    "duration": 28,
    "start_time": "2023-04-03T13:59:29.268Z"
   },
   {
    "duration": 229,
    "start_time": "2023-04-03T14:01:15.493Z"
   },
   {
    "duration": 175,
    "start_time": "2023-04-03T14:01:22.493Z"
   },
   {
    "duration": 6,
    "start_time": "2023-04-03T14:02:06.044Z"
   },
   {
    "duration": 8,
    "start_time": "2023-04-03T14:02:09.587Z"
   },
   {
    "duration": 15,
    "start_time": "2023-04-03T14:02:12.513Z"
   },
   {
    "duration": 11,
    "start_time": "2023-04-03T14:06:55.725Z"
   },
   {
    "duration": 11,
    "start_time": "2023-04-03T14:10:14.382Z"
   },
   {
    "duration": 10,
    "start_time": "2023-04-03T14:10:23.779Z"
   },
   {
    "duration": 11,
    "start_time": "2023-04-03T14:10:50.394Z"
   },
   {
    "duration": 4,
    "start_time": "2023-04-03T14:11:29.439Z"
   },
   {
    "duration": 42,
    "start_time": "2023-04-03T14:11:29.473Z"
   },
   {
    "duration": 11,
    "start_time": "2023-04-03T14:11:29.517Z"
   },
   {
    "duration": 18,
    "start_time": "2023-04-03T14:11:29.530Z"
   },
   {
    "duration": 23,
    "start_time": "2023-04-03T14:11:29.549Z"
   },
   {
    "duration": 4,
    "start_time": "2023-04-03T14:11:29.575Z"
   },
   {
    "duration": 8,
    "start_time": "2023-04-03T14:11:29.580Z"
   },
   {
    "duration": 14,
    "start_time": "2023-04-03T14:11:29.590Z"
   },
   {
    "duration": 149,
    "start_time": "2023-04-03T14:11:29.606Z"
   },
   {
    "duration": 133,
    "start_time": "2023-04-03T14:11:29.757Z"
   },
   {
    "duration": 4,
    "start_time": "2023-04-03T14:11:29.891Z"
   },
   {
    "duration": 149,
    "start_time": "2023-04-03T14:11:29.896Z"
   },
   {
    "duration": 142,
    "start_time": "2023-04-03T14:11:30.046Z"
   },
   {
    "duration": 147,
    "start_time": "2023-04-03T14:12:12.045Z"
   },
   {
    "duration": 5,
    "start_time": "2023-04-03T14:12:32.938Z"
   },
   {
    "duration": 55,
    "start_time": "2023-04-03T14:12:32.946Z"
   },
   {
    "duration": 12,
    "start_time": "2023-04-03T14:12:33.003Z"
   },
   {
    "duration": 16,
    "start_time": "2023-04-03T14:12:33.017Z"
   },
   {
    "duration": 6,
    "start_time": "2023-04-03T14:12:33.035Z"
   },
   {
    "duration": 27,
    "start_time": "2023-04-03T14:12:33.042Z"
   },
   {
    "duration": 6,
    "start_time": "2023-04-03T14:12:33.070Z"
   },
   {
    "duration": 14,
    "start_time": "2023-04-03T14:12:33.077Z"
   },
   {
    "duration": 172,
    "start_time": "2023-04-03T14:12:33.093Z"
   },
   {
    "duration": 161,
    "start_time": "2023-04-03T14:12:33.269Z"
   },
   {
    "duration": 4,
    "start_time": "2023-04-03T14:12:33.432Z"
   },
   {
    "duration": 170,
    "start_time": "2023-04-03T14:12:33.437Z"
   },
   {
    "duration": 182,
    "start_time": "2023-04-03T14:12:33.608Z"
   },
   {
    "duration": 7,
    "start_time": "2023-04-03T14:12:33.794Z"
   },
   {
    "duration": 6,
    "start_time": "2023-04-03T14:12:33.803Z"
   },
   {
    "duration": 23,
    "start_time": "2023-04-03T14:12:33.811Z"
   },
   {
    "duration": 10,
    "start_time": "2023-04-03T14:12:43.788Z"
   },
   {
    "duration": 1323,
    "start_time": "2023-04-03T14:14:36.315Z"
   },
   {
    "duration": 44,
    "start_time": "2023-04-03T14:14:37.640Z"
   },
   {
    "duration": 10,
    "start_time": "2023-04-03T14:14:37.686Z"
   },
   {
    "duration": 13,
    "start_time": "2023-04-03T14:14:37.697Z"
   },
   {
    "duration": 5,
    "start_time": "2023-04-03T14:14:37.712Z"
   },
   {
    "duration": 5,
    "start_time": "2023-04-03T14:14:37.718Z"
   },
   {
    "duration": 11,
    "start_time": "2023-04-03T14:14:37.724Z"
   },
   {
    "duration": 35,
    "start_time": "2023-04-03T14:14:37.736Z"
   },
   {
    "duration": 222,
    "start_time": "2023-04-03T14:14:37.773Z"
   },
   {
    "duration": 132,
    "start_time": "2023-04-03T14:14:37.997Z"
   },
   {
    "duration": 4,
    "start_time": "2023-04-03T14:14:38.130Z"
   },
   {
    "duration": 145,
    "start_time": "2023-04-03T14:14:38.135Z"
   },
   {
    "duration": 202,
    "start_time": "2023-04-03T14:14:38.281Z"
   },
   {
    "duration": 5,
    "start_time": "2023-04-03T14:14:38.485Z"
   },
   {
    "duration": 17,
    "start_time": "2023-04-03T14:14:38.491Z"
   },
   {
    "duration": 11,
    "start_time": "2023-04-03T14:14:38.509Z"
   },
   {
    "duration": 117,
    "start_time": "2023-04-03T14:14:38.521Z"
   },
   {
    "duration": 6,
    "start_time": "2023-04-03T14:16:04.611Z"
   },
   {
    "duration": 1336,
    "start_time": "2023-04-03T14:16:42.132Z"
   },
   {
    "duration": 43,
    "start_time": "2023-04-03T14:16:43.470Z"
   },
   {
    "duration": 10,
    "start_time": "2023-04-03T14:16:43.514Z"
   },
   {
    "duration": 18,
    "start_time": "2023-04-03T14:16:43.526Z"
   },
   {
    "duration": 5,
    "start_time": "2023-04-03T14:16:43.546Z"
   },
   {
    "duration": 4,
    "start_time": "2023-04-03T14:16:43.552Z"
   },
   {
    "duration": 8,
    "start_time": "2023-04-03T14:16:43.557Z"
   },
   {
    "duration": 16,
    "start_time": "2023-04-03T14:16:43.566Z"
   },
   {
    "duration": 211,
    "start_time": "2023-04-03T14:16:43.583Z"
   },
   {
    "duration": 128,
    "start_time": "2023-04-03T14:16:43.796Z"
   },
   {
    "duration": 4,
    "start_time": "2023-04-03T14:16:43.926Z"
   },
   {
    "duration": 148,
    "start_time": "2023-04-03T14:16:43.931Z"
   },
   {
    "duration": 201,
    "start_time": "2023-04-03T14:16:44.081Z"
   },
   {
    "duration": 5,
    "start_time": "2023-04-03T14:16:44.284Z"
   },
   {
    "duration": 5,
    "start_time": "2023-04-03T14:16:44.291Z"
   },
   {
    "duration": 6,
    "start_time": "2023-04-03T14:16:44.298Z"
   },
   {
    "duration": 121,
    "start_time": "2023-04-03T14:16:44.306Z"
   },
   {
    "duration": 1435,
    "start_time": "2023-04-04T06:53:15.872Z"
   },
   {
    "duration": 142,
    "start_time": "2023-04-04T06:53:17.309Z"
   },
   {
    "duration": 11,
    "start_time": "2023-04-04T06:53:17.452Z"
   },
   {
    "duration": 14,
    "start_time": "2023-04-04T06:53:17.464Z"
   },
   {
    "duration": 5,
    "start_time": "2023-04-04T06:53:17.479Z"
   },
   {
    "duration": 4,
    "start_time": "2023-04-04T06:53:17.485Z"
   },
   {
    "duration": 9,
    "start_time": "2023-04-04T06:53:17.490Z"
   },
   {
    "duration": 23,
    "start_time": "2023-04-04T06:53:17.500Z"
   },
   {
    "duration": 197,
    "start_time": "2023-04-04T06:53:17.525Z"
   },
   {
    "duration": 117,
    "start_time": "2023-04-04T06:53:17.724Z"
   },
   {
    "duration": 5,
    "start_time": "2023-04-04T06:53:17.843Z"
   },
   {
    "duration": 144,
    "start_time": "2023-04-04T06:53:17.849Z"
   },
   {
    "duration": 189,
    "start_time": "2023-04-04T06:53:17.995Z"
   },
   {
    "duration": 5,
    "start_time": "2023-04-04T06:53:18.186Z"
   },
   {
    "duration": 5,
    "start_time": "2023-04-04T06:53:18.193Z"
   },
   {
    "duration": 6,
    "start_time": "2023-04-04T06:53:18.199Z"
   },
   {
    "duration": 5,
    "start_time": "2023-04-04T06:53:18.207Z"
   },
   {
    "duration": 6,
    "start_time": "2023-04-04T06:53:18.213Z"
   },
   {
    "duration": 20,
    "start_time": "2023-04-04T06:53:18.221Z"
   },
   {
    "duration": 31,
    "start_time": "2023-04-04T06:53:18.242Z"
   },
   {
    "duration": 7,
    "start_time": "2023-04-04T06:53:18.275Z"
   },
   {
    "duration": 11,
    "start_time": "2023-04-04T06:53:18.283Z"
   },
   {
    "duration": 707,
    "start_time": "2023-04-04T06:53:18.295Z"
   },
   {
    "duration": 4,
    "start_time": "2023-04-04T06:53:19.004Z"
   },
   {
    "duration": 2934,
    "start_time": "2023-04-04T06:53:19.009Z"
   },
   {
    "duration": 3,
    "start_time": "2023-04-04T06:53:21.944Z"
   },
   {
    "duration": 110,
    "start_time": "2023-04-04T06:53:21.948Z"
   },
   {
    "duration": 3,
    "start_time": "2023-04-04T07:01:50.584Z"
   },
   {
    "duration": 56,
    "start_time": "2023-04-04T07:01:50.590Z"
   },
   {
    "duration": 12,
    "start_time": "2023-04-04T07:01:50.648Z"
   },
   {
    "duration": 16,
    "start_time": "2023-04-04T07:01:50.662Z"
   },
   {
    "duration": 9,
    "start_time": "2023-04-04T07:01:50.680Z"
   },
   {
    "duration": 12,
    "start_time": "2023-04-04T07:01:50.691Z"
   },
   {
    "duration": 4,
    "start_time": "2023-04-04T07:01:50.705Z"
   },
   {
    "duration": 19,
    "start_time": "2023-04-04T07:01:50.711Z"
   },
   {
    "duration": 185,
    "start_time": "2023-04-04T07:01:50.732Z"
   },
   {
    "duration": 135,
    "start_time": "2023-04-04T07:01:50.918Z"
   },
   {
    "duration": 3,
    "start_time": "2023-04-04T07:01:51.055Z"
   },
   {
    "duration": 141,
    "start_time": "2023-04-04T07:01:51.071Z"
   },
   {
    "duration": 131,
    "start_time": "2023-04-04T07:01:51.214Z"
   },
   {
    "duration": 5,
    "start_time": "2023-04-04T07:01:51.348Z"
   },
   {
    "duration": 16,
    "start_time": "2023-04-04T07:01:51.355Z"
   },
   {
    "duration": 9,
    "start_time": "2023-04-04T07:01:51.373Z"
   },
   {
    "duration": 6,
    "start_time": "2023-04-04T07:01:51.384Z"
   },
   {
    "duration": 5,
    "start_time": "2023-04-04T07:01:51.392Z"
   },
   {
    "duration": 29,
    "start_time": "2023-04-04T07:01:51.400Z"
   },
   {
    "duration": 7,
    "start_time": "2023-04-04T07:01:51.431Z"
   },
   {
    "duration": 35,
    "start_time": "2023-04-04T07:01:51.439Z"
   },
   {
    "duration": 19,
    "start_time": "2023-04-04T07:01:51.475Z"
   },
   {
    "duration": 4,
    "start_time": "2023-04-04T07:01:51.495Z"
   },
   {
    "duration": 971,
    "start_time": "2023-04-04T07:01:51.500Z"
   },
   {
    "duration": 5,
    "start_time": "2023-04-04T07:01:52.473Z"
   },
   {
    "duration": 113,
    "start_time": "2023-04-04T07:03:32.916Z"
   },
   {
    "duration": 121,
    "start_time": "2023-04-04T07:03:55.071Z"
   },
   {
    "duration": 156,
    "start_time": "2023-04-04T07:04:35.352Z"
   },
   {
    "duration": 12,
    "start_time": "2023-04-04T07:05:26.617Z"
   },
   {
    "duration": 114,
    "start_time": "2023-04-04T07:05:52.408Z"
   },
   {
    "duration": 15,
    "start_time": "2023-04-04T07:06:00.709Z"
   },
   {
    "duration": 15,
    "start_time": "2023-04-04T07:06:12.829Z"
   },
   {
    "duration": 16,
    "start_time": "2023-04-04T07:07:02.118Z"
   },
   {
    "duration": 81,
    "start_time": "2023-04-04T07:07:11.961Z"
   },
   {
    "duration": 15,
    "start_time": "2023-04-04T07:07:20.059Z"
   },
   {
    "duration": 199,
    "start_time": "2023-04-04T07:07:27.801Z"
   },
   {
    "duration": 126,
    "start_time": "2023-04-04T07:08:09.146Z"
   },
   {
    "duration": 151,
    "start_time": "2023-04-04T07:08:28.679Z"
   },
   {
    "duration": 11,
    "start_time": "2023-04-04T07:09:00.600Z"
   },
   {
    "duration": 11,
    "start_time": "2023-04-04T07:09:36.618Z"
   },
   {
    "duration": 11,
    "start_time": "2023-04-04T07:09:42.194Z"
   },
   {
    "duration": 7,
    "start_time": "2023-04-04T07:10:01.880Z"
   },
   {
    "duration": 7,
    "start_time": "2023-04-04T07:11:21.236Z"
   },
   {
    "duration": 87,
    "start_time": "2023-04-04T07:14:13.560Z"
   },
   {
    "duration": 93,
    "start_time": "2023-04-04T07:15:36.268Z"
   },
   {
    "duration": 89,
    "start_time": "2023-04-04T08:47:46.797Z"
   },
   {
    "duration": 2843,
    "start_time": "2023-04-04T08:47:52.246Z"
   },
   {
    "duration": 92,
    "start_time": "2023-04-04T08:47:55.091Z"
   },
   {
    "duration": 13,
    "start_time": "2023-04-04T08:47:55.185Z"
   },
   {
    "duration": 78,
    "start_time": "2023-04-04T08:47:55.200Z"
   },
   {
    "duration": 7,
    "start_time": "2023-04-04T08:47:55.281Z"
   },
   {
    "duration": 6,
    "start_time": "2023-04-04T08:47:55.290Z"
   },
   {
    "duration": 8,
    "start_time": "2023-04-04T08:47:55.298Z"
   },
   {
    "duration": 82,
    "start_time": "2023-04-04T08:47:55.307Z"
   },
   {
    "duration": 508,
    "start_time": "2023-04-04T08:47:55.391Z"
   },
   {
    "duration": 311,
    "start_time": "2023-04-04T08:47:55.901Z"
   },
   {
    "duration": 62,
    "start_time": "2023-04-04T08:47:56.214Z"
   },
   {
    "duration": 335,
    "start_time": "2023-04-04T08:47:56.278Z"
   },
   {
    "duration": 491,
    "start_time": "2023-04-04T08:47:56.615Z"
   },
   {
    "duration": 7,
    "start_time": "2023-04-04T08:47:57.108Z"
   },
   {
    "duration": 13,
    "start_time": "2023-04-04T08:47:57.175Z"
   },
   {
    "duration": 9,
    "start_time": "2023-04-04T08:47:57.190Z"
   },
   {
    "duration": 199,
    "start_time": "2023-04-04T08:47:57.200Z"
   },
   {
    "duration": 5,
    "start_time": "2023-04-04T08:48:36.526Z"
   },
   {
    "duration": 50,
    "start_time": "2023-04-04T08:48:36.533Z"
   },
   {
    "duration": 12,
    "start_time": "2023-04-04T08:48:36.585Z"
   },
   {
    "duration": 19,
    "start_time": "2023-04-04T08:48:36.598Z"
   },
   {
    "duration": 12,
    "start_time": "2023-04-04T08:48:36.621Z"
   },
   {
    "duration": 4,
    "start_time": "2023-04-04T08:48:36.635Z"
   },
   {
    "duration": 10,
    "start_time": "2023-04-04T08:48:36.641Z"
   },
   {
    "duration": 14,
    "start_time": "2023-04-04T08:48:36.676Z"
   },
   {
    "duration": 191,
    "start_time": "2023-04-04T08:48:36.692Z"
   },
   {
    "duration": 165,
    "start_time": "2023-04-04T08:48:36.885Z"
   },
   {
    "duration": 4,
    "start_time": "2023-04-04T08:48:37.052Z"
   },
   {
    "duration": 180,
    "start_time": "2023-04-04T08:48:37.057Z"
   },
   {
    "duration": 163,
    "start_time": "2023-04-04T08:48:37.239Z"
   },
   {
    "duration": 6,
    "start_time": "2023-04-04T08:48:37.405Z"
   },
   {
    "duration": 63,
    "start_time": "2023-04-04T08:48:37.413Z"
   },
   {
    "duration": 17,
    "start_time": "2023-04-04T08:48:37.478Z"
   },
   {
    "duration": 5,
    "start_time": "2023-04-04T08:48:42.127Z"
   },
   {
    "duration": 69,
    "start_time": "2023-04-04T08:48:42.133Z"
   },
   {
    "duration": 13,
    "start_time": "2023-04-04T08:48:42.204Z"
   },
   {
    "duration": 63,
    "start_time": "2023-04-04T08:48:42.220Z"
   },
   {
    "duration": 17,
    "start_time": "2023-04-04T08:48:42.287Z"
   },
   {
    "duration": 7,
    "start_time": "2023-04-04T08:48:42.306Z"
   },
   {
    "duration": 10,
    "start_time": "2023-04-04T08:48:42.316Z"
   },
   {
    "duration": 22,
    "start_time": "2023-04-04T08:48:42.328Z"
   },
   {
    "duration": 210,
    "start_time": "2023-04-04T08:48:42.352Z"
   },
   {
    "duration": 256,
    "start_time": "2023-04-04T08:48:42.564Z"
   },
   {
    "duration": 5,
    "start_time": "2023-04-04T08:48:42.875Z"
   },
   {
    "duration": 336,
    "start_time": "2023-04-04T08:48:42.882Z"
   },
   {
    "duration": 317,
    "start_time": "2023-04-04T08:48:43.276Z"
   },
   {
    "duration": 6,
    "start_time": "2023-04-04T08:48:43.597Z"
   },
   {
    "duration": 72,
    "start_time": "2023-04-04T08:48:43.605Z"
   },
   {
    "duration": 11,
    "start_time": "2023-04-04T08:48:43.679Z"
   },
   {
    "duration": 23,
    "start_time": "2023-04-04T08:48:43.692Z"
   },
   {
    "duration": 5,
    "start_time": "2023-04-04T08:49:27.462Z"
   },
   {
    "duration": 99,
    "start_time": "2023-04-04T08:49:27.476Z"
   },
   {
    "duration": 16,
    "start_time": "2023-04-04T08:49:27.578Z"
   },
   {
    "duration": 79,
    "start_time": "2023-04-04T08:49:27.596Z"
   },
   {
    "duration": 7,
    "start_time": "2023-04-04T08:49:27.678Z"
   },
   {
    "duration": 8,
    "start_time": "2023-04-04T08:49:27.686Z"
   },
   {
    "duration": 5,
    "start_time": "2023-04-04T08:49:27.696Z"
   },
   {
    "duration": 75,
    "start_time": "2023-04-04T08:49:27.703Z"
   },
   {
    "duration": 5,
    "start_time": "2023-04-04T08:49:32.445Z"
   },
   {
    "duration": 56,
    "start_time": "2023-04-04T08:49:32.453Z"
   },
   {
    "duration": 66,
    "start_time": "2023-04-04T08:49:32.511Z"
   },
   {
    "duration": 25,
    "start_time": "2023-04-04T08:49:32.579Z"
   },
   {
    "duration": 69,
    "start_time": "2023-04-04T08:49:32.607Z"
   },
   {
    "duration": 5,
    "start_time": "2023-04-04T08:49:32.678Z"
   },
   {
    "duration": 13,
    "start_time": "2023-04-04T08:49:32.685Z"
   },
   {
    "duration": 76,
    "start_time": "2023-04-04T08:49:32.700Z"
   },
   {
    "duration": 1305,
    "start_time": "2023-04-04T08:49:32.779Z"
   },
   {
    "duration": 4,
    "start_time": "2023-04-04T08:49:59.343Z"
   },
   {
    "duration": 68,
    "start_time": "2023-04-04T08:49:59.350Z"
   },
   {
    "duration": 61,
    "start_time": "2023-04-04T08:49:59.420Z"
   },
   {
    "duration": 24,
    "start_time": "2023-04-04T08:49:59.484Z"
   },
   {
    "duration": 70,
    "start_time": "2023-04-04T08:49:59.509Z"
   },
   {
    "duration": 8,
    "start_time": "2023-04-04T08:49:59.581Z"
   },
   {
    "duration": 8,
    "start_time": "2023-04-04T08:49:59.591Z"
   },
   {
    "duration": 80,
    "start_time": "2023-04-04T08:49:59.601Z"
   },
   {
    "duration": 1236,
    "start_time": "2023-04-04T08:49:59.684Z"
   },
   {
    "duration": 416,
    "start_time": "2023-04-04T08:50:00.975Z"
   },
   {
    "duration": 310,
    "start_time": "2023-04-04T08:50:01.394Z"
   },
   {
    "duration": 6,
    "start_time": "2023-04-04T08:50:01.706Z"
   },
   {
    "duration": 126,
    "start_time": "2023-04-04T08:50:01.714Z"
   },
   {
    "duration": 12,
    "start_time": "2023-04-04T08:51:53.515Z"
   },
   {
    "duration": 9,
    "start_time": "2023-04-04T08:51:58.268Z"
   },
   {
    "duration": 99,
    "start_time": "2023-04-04T08:51:58.279Z"
   },
   {
    "duration": 14,
    "start_time": "2023-04-04T08:51:58.380Z"
   },
   {
    "duration": 80,
    "start_time": "2023-04-04T08:51:58.397Z"
   },
   {
    "duration": 8,
    "start_time": "2023-04-04T08:51:58.480Z"
   },
   {
    "duration": 5,
    "start_time": "2023-04-04T08:51:58.490Z"
   },
   {
    "duration": 5,
    "start_time": "2023-04-04T08:51:58.497Z"
   },
   {
    "duration": 85,
    "start_time": "2023-04-04T08:51:58.503Z"
   },
   {
    "duration": 1011,
    "start_time": "2023-04-04T08:51:58.590Z"
   },
   {
    "duration": 393,
    "start_time": "2023-04-04T08:51:59.604Z"
   },
   {
    "duration": 311,
    "start_time": "2023-04-04T08:51:59.999Z"
   },
   {
    "duration": 5,
    "start_time": "2023-04-04T08:52:00.312Z"
   },
   {
    "duration": 18,
    "start_time": "2023-04-04T08:52:00.374Z"
   },
   {
    "duration": 13,
    "start_time": "2023-04-04T08:52:08.129Z"
   },
   {
    "duration": 4,
    "start_time": "2023-04-04T08:52:12.120Z"
   },
   {
    "duration": 48,
    "start_time": "2023-04-04T08:52:12.126Z"
   },
   {
    "duration": 16,
    "start_time": "2023-04-04T08:52:12.176Z"
   },
   {
    "duration": 25,
    "start_time": "2023-04-04T08:52:12.194Z"
   },
   {
    "duration": 8,
    "start_time": "2023-04-04T08:52:12.223Z"
   },
   {
    "duration": 12,
    "start_time": "2023-04-04T08:52:12.233Z"
   },
   {
    "duration": 30,
    "start_time": "2023-04-04T08:52:12.247Z"
   },
   {
    "duration": 21,
    "start_time": "2023-04-04T08:52:12.280Z"
   },
   {
    "duration": 1408,
    "start_time": "2023-04-04T08:52:12.303Z"
   },
   {
    "duration": 391,
    "start_time": "2023-04-04T08:52:13.714Z"
   },
   {
    "duration": 478,
    "start_time": "2023-04-04T08:52:14.108Z"
   },
   {
    "duration": 9,
    "start_time": "2023-04-04T08:52:14.588Z"
   },
   {
    "duration": 4,
    "start_time": "2023-04-04T08:52:14.599Z"
   },
   {
    "duration": 73,
    "start_time": "2023-04-04T08:52:14.606Z"
   },
   {
    "duration": 20,
    "start_time": "2023-04-04T08:52:43.565Z"
   },
   {
    "duration": 5,
    "start_time": "2023-04-04T08:52:47.313Z"
   },
   {
    "duration": 75,
    "start_time": "2023-04-04T08:52:47.321Z"
   },
   {
    "duration": 13,
    "start_time": "2023-04-04T08:52:47.399Z"
   },
   {
    "duration": 74,
    "start_time": "2023-04-04T08:52:47.414Z"
   },
   {
    "duration": 8,
    "start_time": "2023-04-04T08:52:47.491Z"
   },
   {
    "duration": 74,
    "start_time": "2023-04-04T08:52:47.501Z"
   },
   {
    "duration": 4,
    "start_time": "2023-04-04T08:52:47.578Z"
   },
   {
    "duration": 19,
    "start_time": "2023-04-04T08:52:47.584Z"
   },
   {
    "duration": 1115,
    "start_time": "2023-04-04T08:52:47.605Z"
   },
   {
    "duration": 488,
    "start_time": "2023-04-04T08:52:48.722Z"
   },
   {
    "duration": 462,
    "start_time": "2023-04-04T08:52:49.213Z"
   },
   {
    "duration": 6,
    "start_time": "2023-04-04T08:52:49.678Z"
   },
   {
    "duration": 18,
    "start_time": "2023-04-04T08:52:49.687Z"
   },
   {
    "duration": 339,
    "start_time": "2023-04-04T08:53:16.538Z"
   },
   {
    "duration": 14,
    "start_time": "2023-04-04T08:53:22.399Z"
   },
   {
    "duration": 5,
    "start_time": "2023-04-04T08:53:25.756Z"
   },
   {
    "duration": 101,
    "start_time": "2023-04-04T08:53:25.775Z"
   },
   {
    "duration": 14,
    "start_time": "2023-04-04T08:53:25.878Z"
   },
   {
    "duration": 16,
    "start_time": "2023-04-04T08:53:25.894Z"
   },
   {
    "duration": 9,
    "start_time": "2023-04-04T08:53:25.974Z"
   },
   {
    "duration": 12,
    "start_time": "2023-04-04T08:53:25.985Z"
   },
   {
    "duration": 5,
    "start_time": "2023-04-04T08:53:25.999Z"
   },
   {
    "duration": 73,
    "start_time": "2023-04-04T08:53:26.005Z"
   },
   {
    "duration": 1230,
    "start_time": "2023-04-04T08:53:26.081Z"
   },
   {
    "duration": 367,
    "start_time": "2023-04-04T08:53:27.313Z"
   },
   {
    "duration": 296,
    "start_time": "2023-04-04T08:53:27.682Z"
   },
   {
    "duration": 11,
    "start_time": "2023-04-04T08:53:27.980Z"
   },
   {
    "duration": 6,
    "start_time": "2023-04-04T08:53:27.993Z"
   },
   {
    "duration": 11,
    "start_time": "2023-04-04T08:53:28.002Z"
   },
   {
    "duration": 2,
    "start_time": "2023-04-04T08:54:51.658Z"
   },
   {
    "duration": 4,
    "start_time": "2023-04-04T08:55:04.059Z"
   },
   {
    "duration": 57,
    "start_time": "2023-04-04T08:55:04.065Z"
   },
   {
    "duration": 12,
    "start_time": "2023-04-04T08:55:04.123Z"
   },
   {
    "duration": 23,
    "start_time": "2023-04-04T08:55:04.137Z"
   },
   {
    "duration": 9,
    "start_time": "2023-04-04T08:55:04.162Z"
   },
   {
    "duration": 9,
    "start_time": "2023-04-04T08:55:04.176Z"
   },
   {
    "duration": 8,
    "start_time": "2023-04-04T08:55:04.187Z"
   },
   {
    "duration": 31,
    "start_time": "2023-04-04T08:55:04.197Z"
   },
   {
    "duration": 213,
    "start_time": "2023-04-04T08:55:04.231Z"
   },
   {
    "duration": 157,
    "start_time": "2023-04-04T08:55:04.445Z"
   },
   {
    "duration": 3,
    "start_time": "2023-04-04T08:55:04.603Z"
   },
   {
    "duration": 160,
    "start_time": "2023-04-04T08:55:04.608Z"
   },
   {
    "duration": 153,
    "start_time": "2023-04-04T08:55:04.774Z"
   },
   {
    "duration": 6,
    "start_time": "2023-04-04T08:55:04.929Z"
   },
   {
    "duration": 6,
    "start_time": "2023-04-04T08:55:04.937Z"
   },
   {
    "duration": 9,
    "start_time": "2023-04-04T08:55:04.945Z"
   },
   {
    "duration": 2714,
    "start_time": "2023-04-04T08:55:04.955Z"
   },
   {
    "duration": 603,
    "start_time": "2023-04-04T08:55:23.741Z"
   },
   {
    "duration": 4,
    "start_time": "2023-04-04T08:55:28.327Z"
   },
   {
    "duration": 44,
    "start_time": "2023-04-04T08:55:28.333Z"
   },
   {
    "duration": 13,
    "start_time": "2023-04-04T08:55:28.378Z"
   },
   {
    "duration": 19,
    "start_time": "2023-04-04T08:55:28.393Z"
   },
   {
    "duration": 8,
    "start_time": "2023-04-04T08:55:28.414Z"
   },
   {
    "duration": 4,
    "start_time": "2023-04-04T08:55:28.424Z"
   },
   {
    "duration": 4,
    "start_time": "2023-04-04T08:55:28.430Z"
   },
   {
    "duration": 49,
    "start_time": "2023-04-04T08:55:28.436Z"
   },
   {
    "duration": 175,
    "start_time": "2023-04-04T08:55:28.487Z"
   },
   {
    "duration": 275,
    "start_time": "2023-04-04T08:55:28.665Z"
   },
   {
    "duration": 2,
    "start_time": "2023-04-04T08:55:28.942Z"
   },
   {
    "duration": 160,
    "start_time": "2023-04-04T08:55:28.946Z"
   },
   {
    "duration": 164,
    "start_time": "2023-04-04T08:55:29.107Z"
   },
   {
    "duration": 6,
    "start_time": "2023-04-04T08:55:29.275Z"
   },
   {
    "duration": 7,
    "start_time": "2023-04-04T08:55:29.282Z"
   },
   {
    "duration": 9,
    "start_time": "2023-04-04T08:55:29.291Z"
   },
   {
    "duration": 589,
    "start_time": "2023-04-04T08:55:29.302Z"
   },
   {
    "duration": 2542,
    "start_time": "2023-04-04T08:55:29.893Z"
   },
   {
    "duration": 3,
    "start_time": "2023-04-04T08:56:56.119Z"
   },
   {
    "duration": 4,
    "start_time": "2023-04-04T08:59:28.596Z"
   },
   {
    "duration": 46,
    "start_time": "2023-04-04T08:59:28.603Z"
   },
   {
    "duration": 13,
    "start_time": "2023-04-04T08:59:28.650Z"
   },
   {
    "duration": 25,
    "start_time": "2023-04-04T08:59:28.665Z"
   },
   {
    "duration": 6,
    "start_time": "2023-04-04T08:59:28.692Z"
   },
   {
    "duration": 19,
    "start_time": "2023-04-04T08:59:28.699Z"
   },
   {
    "duration": 10,
    "start_time": "2023-04-04T08:59:28.720Z"
   },
   {
    "duration": 15,
    "start_time": "2023-04-04T08:59:28.733Z"
   },
   {
    "duration": 182,
    "start_time": "2023-04-04T08:59:28.750Z"
   },
   {
    "duration": 156,
    "start_time": "2023-04-04T08:59:28.934Z"
   },
   {
    "duration": 3,
    "start_time": "2023-04-04T08:59:29.092Z"
   },
   {
    "duration": 165,
    "start_time": "2023-04-04T08:59:29.097Z"
   },
   {
    "duration": 168,
    "start_time": "2023-04-04T08:59:29.263Z"
   },
   {
    "duration": 6,
    "start_time": "2023-04-04T08:59:29.434Z"
   },
   {
    "duration": 13,
    "start_time": "2023-04-04T08:59:29.441Z"
   },
   {
    "duration": 21,
    "start_time": "2023-04-04T08:59:29.456Z"
   },
   {
    "duration": 706,
    "start_time": "2023-04-04T08:59:29.479Z"
   },
   {
    "duration": 3,
    "start_time": "2023-04-04T08:59:30.187Z"
   },
   {
    "duration": 125,
    "start_time": "2023-04-04T09:03:00.044Z"
   },
   {
    "duration": 161,
    "start_time": "2023-04-04T09:12:13.310Z"
   },
   {
    "duration": 4,
    "start_time": "2023-04-04T09:12:21.751Z"
   },
   {
    "duration": 61,
    "start_time": "2023-04-04T09:12:21.757Z"
   },
   {
    "duration": 13,
    "start_time": "2023-04-04T09:12:21.820Z"
   },
   {
    "duration": 43,
    "start_time": "2023-04-04T09:12:21.835Z"
   },
   {
    "duration": 20,
    "start_time": "2023-04-04T09:12:21.880Z"
   },
   {
    "duration": 15,
    "start_time": "2023-04-04T09:12:21.902Z"
   },
   {
    "duration": 39,
    "start_time": "2023-04-04T09:12:21.919Z"
   },
   {
    "duration": 22,
    "start_time": "2023-04-04T09:12:21.959Z"
   },
   {
    "duration": 186,
    "start_time": "2023-04-04T09:12:21.983Z"
   },
   {
    "duration": 147,
    "start_time": "2023-04-04T09:12:22.174Z"
   },
   {
    "duration": 4,
    "start_time": "2023-04-04T09:12:22.323Z"
   },
   {
    "duration": 180,
    "start_time": "2023-04-04T09:12:22.328Z"
   },
   {
    "duration": 167,
    "start_time": "2023-04-04T09:12:22.510Z"
   },
   {
    "duration": 5,
    "start_time": "2023-04-04T09:12:22.679Z"
   },
   {
    "duration": 28,
    "start_time": "2023-04-04T09:12:22.686Z"
   },
   {
    "duration": 32,
    "start_time": "2023-04-04T09:12:22.716Z"
   },
   {
    "duration": 19,
    "start_time": "2023-04-04T09:12:22.750Z"
   },
   {
    "duration": 21,
    "start_time": "2023-04-04T09:12:22.771Z"
   },
   {
    "duration": 46,
    "start_time": "2023-04-04T09:12:22.794Z"
   },
   {
    "duration": 7,
    "start_time": "2023-04-04T09:12:22.842Z"
   },
   {
    "duration": 21,
    "start_time": "2023-04-04T09:12:22.851Z"
   },
   {
    "duration": 59,
    "start_time": "2023-04-04T09:12:22.874Z"
   },
   {
    "duration": 40,
    "start_time": "2023-04-04T09:12:22.935Z"
   },
   {
    "duration": 1011,
    "start_time": "2023-04-04T09:12:22.977Z"
   },
   {
    "duration": 4,
    "start_time": "2023-04-04T09:12:23.989Z"
   },
   {
    "duration": 3654,
    "start_time": "2023-04-04T09:12:23.994Z"
   },
   {
    "duration": 3,
    "start_time": "2023-04-04T09:12:27.650Z"
   },
   {
    "duration": 9,
    "start_time": "2023-04-04T09:12:27.656Z"
   },
   {
    "duration": 105,
    "start_time": "2023-04-04T09:12:27.666Z"
   },
   {
    "duration": 311,
    "start_time": "2023-04-04T09:12:36.093Z"
   },
   {
    "duration": 1439,
    "start_time": "2023-04-05T06:48:21.300Z"
   },
   {
    "duration": 131,
    "start_time": "2023-04-05T06:48:22.741Z"
   },
   {
    "duration": 14,
    "start_time": "2023-04-05T06:48:22.873Z"
   },
   {
    "duration": 18,
    "start_time": "2023-04-05T06:48:22.890Z"
   },
   {
    "duration": 16,
    "start_time": "2023-04-05T06:48:22.910Z"
   },
   {
    "duration": 13,
    "start_time": "2023-04-05T06:48:22.928Z"
   },
   {
    "duration": 31,
    "start_time": "2023-04-05T06:48:22.944Z"
   },
   {
    "duration": 30,
    "start_time": "2023-04-05T06:48:22.977Z"
   },
   {
    "duration": 208,
    "start_time": "2023-04-05T06:48:23.009Z"
   },
   {
    "duration": 137,
    "start_time": "2023-04-05T06:48:23.219Z"
   },
   {
    "duration": 114,
    "start_time": "2023-04-05T06:48:23.357Z"
   },
   {
    "duration": 5,
    "start_time": "2023-04-05T06:48:23.472Z"
   },
   {
    "duration": 13,
    "start_time": "2023-04-05T06:48:23.478Z"
   },
   {
    "duration": 9,
    "start_time": "2023-04-05T06:48:23.492Z"
   },
   {
    "duration": 1034,
    "start_time": "2023-04-05T06:48:23.502Z"
   },
   {
    "duration": 1044,
    "start_time": "2023-04-05T06:48:45.684Z"
   },
   {
    "duration": 445,
    "start_time": "2023-04-05T06:49:44.249Z"
   },
   {
    "duration": 411,
    "start_time": "2023-04-05T06:51:43.286Z"
   },
   {
    "duration": 1947,
    "start_time": "2023-04-05T06:53:25.867Z"
   },
   {
    "duration": 211,
    "start_time": "2023-04-05T06:53:38.799Z"
   },
   {
    "duration": 135,
    "start_time": "2023-04-05T06:53:54.558Z"
   },
   {
    "duration": 205,
    "start_time": "2023-04-05T06:53:58.178Z"
   },
   {
    "duration": 13,
    "start_time": "2023-04-05T06:54:39.059Z"
   },
   {
    "duration": 15,
    "start_time": "2023-04-05T06:55:50.080Z"
   },
   {
    "duration": 96,
    "start_time": "2023-04-05T06:56:13.640Z"
   },
   {
    "duration": 7,
    "start_time": "2023-04-05T06:57:13.839Z"
   },
   {
    "duration": 7,
    "start_time": "2023-04-05T06:57:31.522Z"
   },
   {
    "duration": 9,
    "start_time": "2023-04-05T06:57:58.971Z"
   },
   {
    "duration": 4,
    "start_time": "2023-04-05T06:58:05.527Z"
   },
   {
    "duration": 58,
    "start_time": "2023-04-05T06:58:05.532Z"
   },
   {
    "duration": 11,
    "start_time": "2023-04-05T06:58:05.591Z"
   },
   {
    "duration": 32,
    "start_time": "2023-04-05T06:58:05.604Z"
   },
   {
    "duration": 7,
    "start_time": "2023-04-05T06:58:05.639Z"
   },
   {
    "duration": 26,
    "start_time": "2023-04-05T06:58:05.648Z"
   },
   {
    "duration": 6,
    "start_time": "2023-04-05T06:58:05.676Z"
   },
   {
    "duration": 31,
    "start_time": "2023-04-05T06:58:05.683Z"
   },
   {
    "duration": 143,
    "start_time": "2023-04-05T06:58:05.716Z"
   },
   {
    "duration": 124,
    "start_time": "2023-04-05T06:58:05.861Z"
   },
   {
    "duration": 134,
    "start_time": "2023-04-05T06:58:05.987Z"
   },
   {
    "duration": 5,
    "start_time": "2023-04-05T06:58:06.123Z"
   },
   {
    "duration": 39,
    "start_time": "2023-04-05T06:58:06.130Z"
   },
   {
    "duration": 21,
    "start_time": "2023-04-05T06:58:06.171Z"
   },
   {
    "duration": 8,
    "start_time": "2023-04-05T06:59:21.939Z"
   },
   {
    "duration": 8,
    "start_time": "2023-04-05T06:59:38.480Z"
   },
   {
    "duration": 6,
    "start_time": "2023-04-05T06:59:47.678Z"
   },
   {
    "duration": 7,
    "start_time": "2023-04-05T07:00:20.018Z"
   },
   {
    "duration": 7,
    "start_time": "2023-04-05T07:00:24.370Z"
   },
   {
    "duration": 17,
    "start_time": "2023-04-05T07:02:50.006Z"
   },
   {
    "duration": 13,
    "start_time": "2023-04-05T07:03:08.656Z"
   },
   {
    "duration": 78,
    "start_time": "2023-04-05T07:03:18.815Z"
   },
   {
    "duration": 15,
    "start_time": "2023-04-05T07:03:24.735Z"
   },
   {
    "duration": 164,
    "start_time": "2023-04-05T07:03:46.275Z"
   },
   {
    "duration": 159,
    "start_time": "2023-04-05T07:04:11.875Z"
   },
   {
    "duration": 177,
    "start_time": "2023-04-05T07:04:55.296Z"
   },
   {
    "duration": 269,
    "start_time": "2023-04-05T07:05:24.175Z"
   },
   {
    "duration": 165,
    "start_time": "2023-04-05T07:05:35.137Z"
   },
   {
    "duration": 118,
    "start_time": "2023-04-05T07:06:06.895Z"
   },
   {
    "duration": 15,
    "start_time": "2023-04-05T07:06:57.096Z"
   },
   {
    "duration": 125,
    "start_time": "2023-04-05T07:07:00.036Z"
   },
   {
    "duration": 109,
    "start_time": "2023-04-05T07:08:00.453Z"
   },
   {
    "duration": 3,
    "start_time": "2023-04-05T07:16:01.836Z"
   },
   {
    "duration": 65,
    "start_time": "2023-04-05T07:16:01.841Z"
   },
   {
    "duration": 9,
    "start_time": "2023-04-05T07:16:01.908Z"
   },
   {
    "duration": 48,
    "start_time": "2023-04-05T07:16:01.918Z"
   },
   {
    "duration": 43,
    "start_time": "2023-04-05T07:16:01.968Z"
   },
   {
    "duration": 50,
    "start_time": "2023-04-05T07:16:02.012Z"
   },
   {
    "duration": 34,
    "start_time": "2023-04-05T07:16:02.063Z"
   },
   {
    "duration": 39,
    "start_time": "2023-04-05T07:16:02.098Z"
   },
   {
    "duration": 181,
    "start_time": "2023-04-05T07:16:02.139Z"
   },
   {
    "duration": 102,
    "start_time": "2023-04-05T07:16:02.322Z"
   },
   {
    "duration": 118,
    "start_time": "2023-04-05T07:16:02.426Z"
   },
   {
    "duration": 5,
    "start_time": "2023-04-05T07:16:02.548Z"
   },
   {
    "duration": 20,
    "start_time": "2023-04-05T07:16:02.554Z"
   },
   {
    "duration": 141,
    "start_time": "2023-04-05T07:16:02.576Z"
   },
   {
    "duration": 108,
    "start_time": "2023-04-05T07:16:02.718Z"
   },
   {
    "duration": 97,
    "start_time": "2023-04-05T07:16:02.828Z"
   },
   {
    "duration": 225,
    "start_time": "2023-04-05T07:16:02.926Z"
   },
   {
    "duration": 3,
    "start_time": "2023-04-05T07:16:03.153Z"
   },
   {
    "duration": 37,
    "start_time": "2023-04-05T07:16:03.157Z"
   },
   {
    "duration": 18,
    "start_time": "2023-04-05T07:16:03.196Z"
   },
   {
    "duration": 8,
    "start_time": "2023-04-05T07:16:03.216Z"
   },
   {
    "duration": 13,
    "start_time": "2023-04-05T07:16:03.225Z"
   },
   {
    "duration": 8,
    "start_time": "2023-04-05T07:16:03.249Z"
   },
   {
    "duration": 905,
    "start_time": "2023-04-05T07:16:03.259Z"
   },
   {
    "duration": 3,
    "start_time": "2023-04-05T07:16:04.165Z"
   },
   {
    "duration": 4697,
    "start_time": "2023-04-05T07:16:04.169Z"
   },
   {
    "duration": 3,
    "start_time": "2023-04-05T07:16:08.867Z"
   },
   {
    "duration": 15,
    "start_time": "2023-04-05T07:16:08.871Z"
   },
   {
    "duration": 119,
    "start_time": "2023-04-05T07:17:27.764Z"
   },
   {
    "duration": 12,
    "start_time": "2023-04-05T07:17:41.669Z"
   },
   {
    "duration": 224,
    "start_time": "2023-04-05T07:17:57.763Z"
   },
   {
    "duration": 220,
    "start_time": "2023-04-05T07:19:21.269Z"
   },
   {
    "duration": 216,
    "start_time": "2023-04-05T07:19:40.728Z"
   },
   {
    "duration": 1273,
    "start_time": "2023-04-05T07:20:19.474Z"
   },
   {
    "duration": 46,
    "start_time": "2023-04-05T07:20:20.749Z"
   },
   {
    "duration": 9,
    "start_time": "2023-04-05T07:20:20.796Z"
   },
   {
    "duration": 28,
    "start_time": "2023-04-05T07:20:20.807Z"
   },
   {
    "duration": 6,
    "start_time": "2023-04-05T07:20:20.836Z"
   },
   {
    "duration": 3,
    "start_time": "2023-04-05T07:20:20.843Z"
   },
   {
    "duration": 5,
    "start_time": "2023-04-05T07:20:20.847Z"
   },
   {
    "duration": 17,
    "start_time": "2023-04-05T07:20:20.853Z"
   },
   {
    "duration": 197,
    "start_time": "2023-04-05T07:20:20.871Z"
   },
   {
    "duration": 114,
    "start_time": "2023-04-05T07:20:21.071Z"
   },
   {
    "duration": 117,
    "start_time": "2023-04-05T07:20:21.186Z"
   },
   {
    "duration": 4,
    "start_time": "2023-04-05T07:20:21.304Z"
   },
   {
    "duration": 9,
    "start_time": "2023-04-05T07:20:21.309Z"
   },
   {
    "duration": 165,
    "start_time": "2023-04-05T07:20:21.319Z"
   },
   {
    "duration": 112,
    "start_time": "2023-04-05T07:20:21.485Z"
   },
   {
    "duration": 97,
    "start_time": "2023-04-05T07:20:21.599Z"
   },
   {
    "duration": 255,
    "start_time": "2023-04-05T07:20:21.698Z"
   },
   {
    "duration": 4,
    "start_time": "2023-04-05T07:20:21.954Z"
   },
   {
    "duration": 18,
    "start_time": "2023-04-05T07:20:21.959Z"
   },
   {
    "duration": 6,
    "start_time": "2023-04-05T07:20:21.978Z"
   },
   {
    "duration": 7,
    "start_time": "2023-04-05T07:20:21.985Z"
   },
   {
    "duration": 13,
    "start_time": "2023-04-05T07:20:21.993Z"
   },
   {
    "duration": 42,
    "start_time": "2023-04-05T07:20:22.008Z"
   },
   {
    "duration": 879,
    "start_time": "2023-04-05T07:20:22.051Z"
   },
   {
    "duration": 3,
    "start_time": "2023-04-05T07:20:22.932Z"
   },
   {
    "duration": 2694,
    "start_time": "2023-04-05T07:20:22.936Z"
   },
   {
    "duration": 3,
    "start_time": "2023-04-05T07:20:25.632Z"
   },
   {
    "duration": 222,
    "start_time": "2023-04-05T07:20:25.637Z"
   },
   {
    "duration": 219,
    "start_time": "2023-04-05T07:21:54.184Z"
   },
   {
    "duration": 1153,
    "start_time": "2023-04-05T07:22:53.300Z"
   },
   {
    "duration": 50,
    "start_time": "2023-04-05T07:22:54.455Z"
   },
   {
    "duration": 12,
    "start_time": "2023-04-05T07:22:54.507Z"
   },
   {
    "duration": 21,
    "start_time": "2023-04-05T07:22:54.521Z"
   },
   {
    "duration": 8,
    "start_time": "2023-04-05T07:22:54.544Z"
   },
   {
    "duration": 13,
    "start_time": "2023-04-05T07:22:54.553Z"
   },
   {
    "duration": 18,
    "start_time": "2023-04-05T07:22:54.568Z"
   },
   {
    "duration": 32,
    "start_time": "2023-04-05T07:22:54.587Z"
   },
   {
    "duration": 205,
    "start_time": "2023-04-05T07:22:54.620Z"
   },
   {
    "duration": 113,
    "start_time": "2023-04-05T07:22:54.828Z"
   },
   {
    "duration": 122,
    "start_time": "2023-04-05T07:22:54.948Z"
   },
   {
    "duration": 5,
    "start_time": "2023-04-05T07:22:55.071Z"
   },
   {
    "duration": 35,
    "start_time": "2023-04-05T07:22:55.078Z"
   },
   {
    "duration": 178,
    "start_time": "2023-04-05T07:22:55.114Z"
   },
   {
    "duration": 125,
    "start_time": "2023-04-05T07:22:55.293Z"
   },
   {
    "duration": 104,
    "start_time": "2023-04-05T07:22:55.420Z"
   },
   {
    "duration": 225,
    "start_time": "2023-04-05T07:22:55.525Z"
   },
   {
    "duration": 3,
    "start_time": "2023-04-05T07:22:55.752Z"
   },
   {
    "duration": 31,
    "start_time": "2023-04-05T07:22:55.756Z"
   },
   {
    "duration": 30,
    "start_time": "2023-04-05T07:22:55.789Z"
   },
   {
    "duration": 19,
    "start_time": "2023-04-05T07:22:55.820Z"
   },
   {
    "duration": 36,
    "start_time": "2023-04-05T07:22:55.840Z"
   },
   {
    "duration": 33,
    "start_time": "2023-04-05T07:22:55.877Z"
   },
   {
    "duration": 7656,
    "start_time": "2023-04-05T07:22:55.911Z"
   },
   {
    "duration": 4,
    "start_time": "2023-04-05T07:23:03.568Z"
   },
   {
    "duration": 10342,
    "start_time": "2023-04-05T07:23:03.573Z"
   },
   {
    "duration": 3,
    "start_time": "2023-04-05T07:23:13.916Z"
   },
   {
    "duration": 221,
    "start_time": "2023-04-05T07:23:13.921Z"
   },
   {
    "duration": 106,
    "start_time": "2023-04-05T07:23:46.746Z"
   },
   {
    "duration": 216,
    "start_time": "2023-04-05T07:23:56.419Z"
   },
   {
    "duration": 3,
    "start_time": "2023-04-05T07:25:34.018Z"
   },
   {
    "duration": 50,
    "start_time": "2023-04-05T07:25:34.023Z"
   },
   {
    "duration": 11,
    "start_time": "2023-04-05T07:25:34.075Z"
   },
   {
    "duration": 17,
    "start_time": "2023-04-05T07:25:34.088Z"
   },
   {
    "duration": 4,
    "start_time": "2023-04-05T07:25:34.107Z"
   },
   {
    "duration": 5,
    "start_time": "2023-04-05T07:25:34.113Z"
   },
   {
    "duration": 11,
    "start_time": "2023-04-05T07:25:34.119Z"
   },
   {
    "duration": 27,
    "start_time": "2023-04-05T07:25:34.131Z"
   },
   {
    "duration": 132,
    "start_time": "2023-04-05T07:25:34.160Z"
   },
   {
    "duration": 117,
    "start_time": "2023-04-05T07:25:34.294Z"
   },
   {
    "duration": 149,
    "start_time": "2023-04-05T07:25:34.413Z"
   },
   {
    "duration": 6,
    "start_time": "2023-04-05T07:25:34.564Z"
   },
   {
    "duration": 31,
    "start_time": "2023-04-05T07:25:34.571Z"
   },
   {
    "duration": 116,
    "start_time": "2023-04-05T07:25:34.603Z"
   },
   {
    "duration": 99,
    "start_time": "2023-04-05T07:25:34.720Z"
   },
   {
    "duration": 90,
    "start_time": "2023-04-05T07:25:34.821Z"
   },
   {
    "duration": 249,
    "start_time": "2023-04-05T07:25:34.912Z"
   },
   {
    "duration": 3,
    "start_time": "2023-04-05T07:25:35.163Z"
   },
   {
    "duration": 44,
    "start_time": "2023-04-05T07:25:35.167Z"
   },
   {
    "duration": 6,
    "start_time": "2023-04-05T07:25:35.212Z"
   },
   {
    "duration": 13,
    "start_time": "2023-04-05T07:25:35.219Z"
   },
   {
    "duration": 117,
    "start_time": "2023-04-05T07:25:35.234Z"
   },
   {
    "duration": 98,
    "start_time": "2023-04-05T07:25:35.352Z"
   },
   {
    "duration": 16865,
    "start_time": "2023-04-05T07:25:35.451Z"
   },
   {
    "duration": 3,
    "start_time": "2023-04-05T07:25:52.317Z"
   },
   {
    "duration": 24199,
    "start_time": "2023-04-05T07:25:52.322Z"
   },
   {
    "duration": 2,
    "start_time": "2023-04-05T07:26:16.523Z"
   },
   {
    "duration": 219,
    "start_time": "2023-04-05T07:26:16.527Z"
   },
   {
    "duration": 84111,
    "start_time": "2023-04-05T07:27:07.519Z"
   },
   {
    "duration": 4,
    "start_time": "2023-04-05T07:28:47.183Z"
   },
   {
    "duration": 46930,
    "start_time": "2023-04-05T07:29:09.240Z"
   },
   {
    "duration": 3,
    "start_time": "2023-04-05T07:30:00.562Z"
   },
   {
    "duration": 218,
    "start_time": "2023-04-05T07:30:11.762Z"
   },
   {
    "duration": 1325,
    "start_time": "2023-04-05T07:34:08.201Z"
   },
   {
    "duration": 50,
    "start_time": "2023-04-05T07:34:09.528Z"
   },
   {
    "duration": 15,
    "start_time": "2023-04-05T07:34:09.579Z"
   },
   {
    "duration": 30,
    "start_time": "2023-04-05T07:34:09.596Z"
   },
   {
    "duration": 13,
    "start_time": "2023-04-05T07:34:09.628Z"
   },
   {
    "duration": 23,
    "start_time": "2023-04-05T07:34:09.643Z"
   },
   {
    "duration": 12,
    "start_time": "2023-04-05T07:34:09.668Z"
   },
   {
    "duration": 23,
    "start_time": "2023-04-05T07:34:09.682Z"
   },
   {
    "duration": 254,
    "start_time": "2023-04-05T07:34:09.707Z"
   },
   {
    "duration": 146,
    "start_time": "2023-04-05T07:34:09.962Z"
   },
   {
    "duration": 140,
    "start_time": "2023-04-05T07:34:10.110Z"
   },
   {
    "duration": 5,
    "start_time": "2023-04-05T07:34:10.251Z"
   },
   {
    "duration": 174,
    "start_time": "2023-04-05T07:34:10.257Z"
   },
   {
    "duration": 193,
    "start_time": "2023-04-05T07:34:10.433Z"
   },
   {
    "duration": 147,
    "start_time": "2023-04-05T07:34:10.627Z"
   },
   {
    "duration": 110,
    "start_time": "2023-04-05T07:34:10.775Z"
   },
   {
    "duration": 195,
    "start_time": "2023-04-05T07:34:10.887Z"
   },
   {
    "duration": 5,
    "start_time": "2023-04-05T07:34:11.084Z"
   },
   {
    "duration": 76,
    "start_time": "2023-04-05T07:34:11.091Z"
   },
   {
    "duration": 7,
    "start_time": "2023-04-05T07:34:11.168Z"
   },
   {
    "duration": 21,
    "start_time": "2023-04-05T07:34:11.176Z"
   },
   {
    "duration": 55,
    "start_time": "2023-04-05T07:34:11.198Z"
   },
   {
    "duration": 111,
    "start_time": "2023-04-05T07:34:11.254Z"
   },
   {
    "duration": 86427,
    "start_time": "2023-04-05T07:34:11.448Z"
   },
   {
    "duration": 4,
    "start_time": "2023-04-05T07:35:37.876Z"
   },
   {
    "duration": 46167,
    "start_time": "2023-04-05T07:35:37.881Z"
   },
   {
    "duration": 3,
    "start_time": "2023-04-05T07:36:24.049Z"
   },
   {
    "duration": 236,
    "start_time": "2023-04-05T07:36:24.053Z"
   },
   {
    "duration": 53474,
    "start_time": "2023-04-05T07:39:46.223Z"
   },
   {
    "duration": 2,
    "start_time": "2023-04-05T07:40:43.844Z"
   },
   {
    "duration": 67,
    "start_time": "2023-04-05T07:42:16.203Z"
   },
   {
    "duration": 225,
    "start_time": "2023-04-05T07:42:41.790Z"
   },
   {
    "duration": 405,
    "start_time": "2023-04-05T07:43:11.843Z"
   },
   {
    "duration": 1274,
    "start_time": "2023-04-05T07:44:51.587Z"
   },
   {
    "duration": 46,
    "start_time": "2023-04-05T07:44:52.863Z"
   },
   {
    "duration": 10,
    "start_time": "2023-04-05T07:44:52.911Z"
   },
   {
    "duration": 27,
    "start_time": "2023-04-05T07:44:52.922Z"
   },
   {
    "duration": 25,
    "start_time": "2023-04-05T07:44:52.952Z"
   },
   {
    "duration": 31,
    "start_time": "2023-04-05T07:44:52.978Z"
   },
   {
    "duration": 27,
    "start_time": "2023-04-05T07:44:53.011Z"
   },
   {
    "duration": 44,
    "start_time": "2023-04-05T07:44:53.039Z"
   },
   {
    "duration": 225,
    "start_time": "2023-04-05T07:44:53.084Z"
   },
   {
    "duration": 117,
    "start_time": "2023-04-05T07:44:53.310Z"
   },
   {
    "duration": 120,
    "start_time": "2023-04-05T07:44:53.429Z"
   },
   {
    "duration": 4,
    "start_time": "2023-04-05T07:44:53.550Z"
   },
   {
    "duration": 22,
    "start_time": "2023-04-05T07:44:53.555Z"
   },
   {
    "duration": 276,
    "start_time": "2023-04-05T07:44:53.580Z"
   },
   {
    "duration": 116,
    "start_time": "2023-04-05T07:44:53.858Z"
   },
   {
    "duration": 111,
    "start_time": "2023-04-05T07:44:53.976Z"
   },
   {
    "duration": 186,
    "start_time": "2023-04-05T07:44:54.089Z"
   },
   {
    "duration": 3,
    "start_time": "2023-04-05T07:44:54.277Z"
   },
   {
    "duration": 76,
    "start_time": "2023-04-05T07:44:54.281Z"
   },
   {
    "duration": 7,
    "start_time": "2023-04-05T07:44:54.359Z"
   },
   {
    "duration": 40,
    "start_time": "2023-04-05T07:44:54.367Z"
   },
   {
    "duration": 241,
    "start_time": "2023-04-05T07:44:54.409Z"
   },
   {
    "duration": 27,
    "start_time": "2023-04-05T07:44:54.651Z"
   },
   {
    "duration": 85565,
    "start_time": "2023-04-05T07:44:54.680Z"
   },
   {
    "duration": 3,
    "start_time": "2023-04-05T07:46:20.247Z"
   },
   {
    "duration": 46624,
    "start_time": "2023-04-05T07:46:20.251Z"
   },
   {
    "duration": 2,
    "start_time": "2023-04-05T07:47:06.877Z"
   },
   {
    "duration": 382,
    "start_time": "2023-04-05T07:47:06.880Z"
   }
  ],
  "kernelspec": {
   "display_name": "Python 3 (ipykernel)",
   "language": "python",
   "name": "python3"
  },
  "language_info": {
   "codemirror_mode": {
    "name": "ipython",
    "version": 3
   },
   "file_extension": ".py",
   "mimetype": "text/x-python",
   "name": "python",
   "nbconvert_exporter": "python",
   "pygments_lexer": "ipython3",
   "version": "3.9.12"
  },
  "toc": {
   "base_numbering": 1,
   "nav_menu": {},
   "number_sections": true,
   "sideBar": true,
   "skip_h1_title": true,
   "title_cell": "Содержание",
   "title_sidebar": "Contents",
   "toc_cell": true,
   "toc_position": {
    "height": "calc(100% - 180px)",
    "left": "10px",
    "top": "150px",
    "width": "168px"
   },
   "toc_section_display": true,
   "toc_window_display": true
  }
 },
 "nbformat": 4,
 "nbformat_minor": 2
}
